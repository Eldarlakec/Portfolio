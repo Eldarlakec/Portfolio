{
 "cells": [
  {
   "cell_type": "markdown",
   "metadata": {},
   "source": [
    "# Исследование объявлений о продаже квартир\n",
    "\n",
    "Наша задача — научиться определять рыночную стоимость объектов недвижимости. Это позволит построить автоматизированную систему: она отследит аномалии и мошенническую деятельность. \n",
    "\n",
    "По каждой квартире на продажу доступны два вида данных. Первые вписаны пользователем, вторые — получены автоматически на основе картографических данных. Например, расстояние до центра, аэропорта, ближайшего парка и водоёма. "
   ]
  },
  {
   "cell_type": "markdown",
   "metadata": {},
   "source": [
    "### Откроим файл с данными и изучите общую информацию. "
   ]
  },
  {
   "cell_type": "code",
   "execution_count": 1,
   "metadata": {},
   "outputs": [
    {
     "data": {
      "text/html": [
       "<div>\n",
       "<style scoped>\n",
       "    .dataframe tbody tr th:only-of-type {\n",
       "        vertical-align: middle;\n",
       "    }\n",
       "\n",
       "    .dataframe tbody tr th {\n",
       "        vertical-align: top;\n",
       "    }\n",
       "\n",
       "    .dataframe thead th {\n",
       "        text-align: right;\n",
       "    }\n",
       "</style>\n",
       "<table border=\"1\" class=\"dataframe\">\n",
       "  <thead>\n",
       "    <tr style=\"text-align: right;\">\n",
       "      <th></th>\n",
       "      <th>total_images</th>\n",
       "      <th>last_price</th>\n",
       "      <th>total_area</th>\n",
       "      <th>first_day_exposition</th>\n",
       "      <th>rooms</th>\n",
       "      <th>ceiling_height</th>\n",
       "      <th>floors_total</th>\n",
       "      <th>living_area</th>\n",
       "      <th>floor</th>\n",
       "      <th>is_apartment</th>\n",
       "      <th>studio</th>\n",
       "      <th>open_plan</th>\n",
       "      <th>kitchen_area</th>\n",
       "      <th>balcony</th>\n",
       "      <th>locality_name</th>\n",
       "      <th>airports_nearest</th>\n",
       "      <th>cityCenters_nearest</th>\n",
       "      <th>parks_around3000</th>\n",
       "      <th>parks_nearest</th>\n",
       "      <th>ponds_around3000</th>\n",
       "      <th>ponds_nearest</th>\n",
       "      <th>days_exposition</th>\n",
       "    </tr>\n",
       "  </thead>\n",
       "  <tbody>\n",
       "    <tr>\n",
       "      <th>0</th>\n",
       "      <td>20</td>\n",
       "      <td>13000000.00</td>\n",
       "      <td>108.00</td>\n",
       "      <td>2019-03-07T00:00:00</td>\n",
       "      <td>3</td>\n",
       "      <td>2.70</td>\n",
       "      <td>16.00</td>\n",
       "      <td>51.00</td>\n",
       "      <td>8</td>\n",
       "      <td>NaN</td>\n",
       "      <td>False</td>\n",
       "      <td>False</td>\n",
       "      <td>25.00</td>\n",
       "      <td>NaN</td>\n",
       "      <td>Санкт-Петербург</td>\n",
       "      <td>18863.00</td>\n",
       "      <td>16028.00</td>\n",
       "      <td>1.00</td>\n",
       "      <td>482.00</td>\n",
       "      <td>2.00</td>\n",
       "      <td>755.00</td>\n",
       "      <td>NaN</td>\n",
       "    </tr>\n",
       "    <tr>\n",
       "      <th>1</th>\n",
       "      <td>7</td>\n",
       "      <td>3350000.00</td>\n",
       "      <td>40.40</td>\n",
       "      <td>2018-12-04T00:00:00</td>\n",
       "      <td>1</td>\n",
       "      <td>NaN</td>\n",
       "      <td>11.00</td>\n",
       "      <td>18.60</td>\n",
       "      <td>1</td>\n",
       "      <td>NaN</td>\n",
       "      <td>False</td>\n",
       "      <td>False</td>\n",
       "      <td>11.00</td>\n",
       "      <td>2.00</td>\n",
       "      <td>посёлок Шушары</td>\n",
       "      <td>12817.00</td>\n",
       "      <td>18603.00</td>\n",
       "      <td>0.00</td>\n",
       "      <td>NaN</td>\n",
       "      <td>0.00</td>\n",
       "      <td>NaN</td>\n",
       "      <td>81.00</td>\n",
       "    </tr>\n",
       "    <tr>\n",
       "      <th>2</th>\n",
       "      <td>10</td>\n",
       "      <td>5196000.00</td>\n",
       "      <td>56.00</td>\n",
       "      <td>2015-08-20T00:00:00</td>\n",
       "      <td>2</td>\n",
       "      <td>NaN</td>\n",
       "      <td>5.00</td>\n",
       "      <td>34.30</td>\n",
       "      <td>4</td>\n",
       "      <td>NaN</td>\n",
       "      <td>False</td>\n",
       "      <td>False</td>\n",
       "      <td>8.30</td>\n",
       "      <td>0.00</td>\n",
       "      <td>Санкт-Петербург</td>\n",
       "      <td>21741.00</td>\n",
       "      <td>13933.00</td>\n",
       "      <td>1.00</td>\n",
       "      <td>90.00</td>\n",
       "      <td>2.00</td>\n",
       "      <td>574.00</td>\n",
       "      <td>558.00</td>\n",
       "    </tr>\n",
       "    <tr>\n",
       "      <th>3</th>\n",
       "      <td>0</td>\n",
       "      <td>64900000.00</td>\n",
       "      <td>159.00</td>\n",
       "      <td>2015-07-24T00:00:00</td>\n",
       "      <td>3</td>\n",
       "      <td>NaN</td>\n",
       "      <td>14.00</td>\n",
       "      <td>NaN</td>\n",
       "      <td>9</td>\n",
       "      <td>NaN</td>\n",
       "      <td>False</td>\n",
       "      <td>False</td>\n",
       "      <td>NaN</td>\n",
       "      <td>0.00</td>\n",
       "      <td>Санкт-Петербург</td>\n",
       "      <td>28098.00</td>\n",
       "      <td>6800.00</td>\n",
       "      <td>2.00</td>\n",
       "      <td>84.00</td>\n",
       "      <td>3.00</td>\n",
       "      <td>234.00</td>\n",
       "      <td>424.00</td>\n",
       "    </tr>\n",
       "    <tr>\n",
       "      <th>4</th>\n",
       "      <td>2</td>\n",
       "      <td>10000000.00</td>\n",
       "      <td>100.00</td>\n",
       "      <td>2018-06-19T00:00:00</td>\n",
       "      <td>2</td>\n",
       "      <td>3.03</td>\n",
       "      <td>14.00</td>\n",
       "      <td>32.00</td>\n",
       "      <td>13</td>\n",
       "      <td>NaN</td>\n",
       "      <td>False</td>\n",
       "      <td>False</td>\n",
       "      <td>41.00</td>\n",
       "      <td>NaN</td>\n",
       "      <td>Санкт-Петербург</td>\n",
       "      <td>31856.00</td>\n",
       "      <td>8098.00</td>\n",
       "      <td>2.00</td>\n",
       "      <td>112.00</td>\n",
       "      <td>1.00</td>\n",
       "      <td>48.00</td>\n",
       "      <td>121.00</td>\n",
       "    </tr>\n",
       "  </tbody>\n",
       "</table>\n",
       "</div>"
      ],
      "text/plain": [
       "   total_images  last_price  total_area first_day_exposition  rooms  \\\n",
       "0            20 13000000.00      108.00  2019-03-07T00:00:00      3   \n",
       "1             7  3350000.00       40.40  2018-12-04T00:00:00      1   \n",
       "2            10  5196000.00       56.00  2015-08-20T00:00:00      2   \n",
       "3             0 64900000.00      159.00  2015-07-24T00:00:00      3   \n",
       "4             2 10000000.00      100.00  2018-06-19T00:00:00      2   \n",
       "\n",
       "   ceiling_height  floors_total  living_area  floor is_apartment  studio  \\\n",
       "0            2.70         16.00        51.00      8          NaN   False   \n",
       "1             NaN         11.00        18.60      1          NaN   False   \n",
       "2             NaN          5.00        34.30      4          NaN   False   \n",
       "3             NaN         14.00          NaN      9          NaN   False   \n",
       "4            3.03         14.00        32.00     13          NaN   False   \n",
       "\n",
       "   open_plan  kitchen_area  balcony    locality_name  airports_nearest  \\\n",
       "0      False         25.00      NaN  Санкт-Петербург          18863.00   \n",
       "1      False         11.00     2.00   посёлок Шушары          12817.00   \n",
       "2      False          8.30     0.00  Санкт-Петербург          21741.00   \n",
       "3      False           NaN     0.00  Санкт-Петербург          28098.00   \n",
       "4      False         41.00      NaN  Санкт-Петербург          31856.00   \n",
       "\n",
       "   cityCenters_nearest  parks_around3000  parks_nearest  ponds_around3000  \\\n",
       "0             16028.00              1.00         482.00              2.00   \n",
       "1             18603.00              0.00            NaN              0.00   \n",
       "2             13933.00              1.00          90.00              2.00   \n",
       "3              6800.00              2.00          84.00              3.00   \n",
       "4              8098.00              2.00         112.00              1.00   \n",
       "\n",
       "   ponds_nearest  days_exposition  \n",
       "0         755.00              NaN  \n",
       "1            NaN            81.00  \n",
       "2         574.00           558.00  \n",
       "3         234.00           424.00  \n",
       "4          48.00           121.00  "
      ]
     },
     "execution_count": 1,
     "metadata": {},
     "output_type": "execute_result"
    }
   ],
   "source": [
    "import pandas as pd\n",
    "import matplotlib\n",
    "import numpy as np\n",
    "import matplotlib.pyplot as plt\n",
    "pd.set_option('display.max_columns', None)  \n",
    "import seaborn as sns\n",
    "pd.options.display.float_format = '{:.2f}'.format\n",
    "data = pd.read_csv('/datasets/real_estate_data.csv', sep='\\t') \n",
    "data.head()"
   ]
  },
  {
   "cell_type": "code",
   "execution_count": 2,
   "metadata": {},
   "outputs": [
    {
     "name": "stdout",
     "output_type": "stream",
     "text": [
      "<class 'pandas.core.frame.DataFrame'>\n",
      "RangeIndex: 23699 entries, 0 to 23698\n",
      "Data columns (total 22 columns):\n",
      " #   Column                Non-Null Count  Dtype  \n",
      "---  ------                --------------  -----  \n",
      " 0   total_images          23699 non-null  int64  \n",
      " 1   last_price            23699 non-null  float64\n",
      " 2   total_area            23699 non-null  float64\n",
      " 3   first_day_exposition  23699 non-null  object \n",
      " 4   rooms                 23699 non-null  int64  \n",
      " 5   ceiling_height        14504 non-null  float64\n",
      " 6   floors_total          23613 non-null  float64\n",
      " 7   living_area           21796 non-null  float64\n",
      " 8   floor                 23699 non-null  int64  \n",
      " 9   is_apartment          2775 non-null   object \n",
      " 10  studio                23699 non-null  bool   \n",
      " 11  open_plan             23699 non-null  bool   \n",
      " 12  kitchen_area          21421 non-null  float64\n",
      " 13  balcony               12180 non-null  float64\n",
      " 14  locality_name         23650 non-null  object \n",
      " 15  airports_nearest      18157 non-null  float64\n",
      " 16  cityCenters_nearest   18180 non-null  float64\n",
      " 17  parks_around3000      18181 non-null  float64\n",
      " 18  parks_nearest         8079 non-null   float64\n",
      " 19  ponds_around3000      18181 non-null  float64\n",
      " 20  ponds_nearest         9110 non-null   float64\n",
      " 21  days_exposition       20518 non-null  float64\n",
      "dtypes: bool(2), float64(14), int64(3), object(3)\n",
      "memory usage: 3.7+ MB\n"
     ]
    }
   ],
   "source": [
    "data.info()"
   ]
  },
  {
   "cell_type": "markdown",
   "metadata": {},
   "source": [
    "Из данных видно что столбец под названием cityCenters_nearest имеет не очень правильное название, лучше его исправить"
   ]
  },
  {
   "cell_type": "code",
   "execution_count": 3,
   "metadata": {
    "scrolled": true
   },
   "outputs": [
    {
     "data": {
      "text/plain": [
       "Index(['total_images', 'last_price', 'total_area', 'first_day_exposition',\n",
       "       'rooms', 'ceiling_height', 'floors_total', 'living_area', 'floor',\n",
       "       'is_apartment', 'studio', 'open_plan', 'kitchen_area', 'balcony',\n",
       "       'locality_name', 'airports_nearest', 'city_сenters_nearest',\n",
       "       'parks_around3000', 'parks_nearest', 'ponds_around3000',\n",
       "       'ponds_nearest', 'days_exposition'],\n",
       "      dtype='object')"
      ]
     },
     "execution_count": 3,
     "metadata": {},
     "output_type": "execute_result"
    }
   ],
   "source": [
    "data = data.rename(columns={'cityCenters_nearest': 'city_сenters_nearest'}) \n",
    "data.columns"
   ]
  },
  {
   "cell_type": "code",
   "execution_count": 4,
   "metadata": {
    "scrolled": true
   },
   "outputs": [
    {
     "data": {
      "text/html": [
       "<div>\n",
       "<style scoped>\n",
       "    .dataframe tbody tr th:only-of-type {\n",
       "        vertical-align: middle;\n",
       "    }\n",
       "\n",
       "    .dataframe tbody tr th {\n",
       "        vertical-align: top;\n",
       "    }\n",
       "\n",
       "    .dataframe thead th {\n",
       "        text-align: right;\n",
       "    }\n",
       "</style>\n",
       "<table border=\"1\" class=\"dataframe\">\n",
       "  <thead>\n",
       "    <tr style=\"text-align: right;\">\n",
       "      <th></th>\n",
       "      <th>total_images</th>\n",
       "      <th>last_price</th>\n",
       "      <th>total_area</th>\n",
       "      <th>rooms</th>\n",
       "      <th>ceiling_height</th>\n",
       "      <th>floors_total</th>\n",
       "      <th>living_area</th>\n",
       "      <th>floor</th>\n",
       "      <th>kitchen_area</th>\n",
       "      <th>balcony</th>\n",
       "      <th>airports_nearest</th>\n",
       "      <th>city_сenters_nearest</th>\n",
       "      <th>parks_around3000</th>\n",
       "      <th>parks_nearest</th>\n",
       "      <th>ponds_around3000</th>\n",
       "      <th>ponds_nearest</th>\n",
       "      <th>days_exposition</th>\n",
       "    </tr>\n",
       "  </thead>\n",
       "  <tbody>\n",
       "    <tr>\n",
       "      <th>count</th>\n",
       "      <td>23699.00</td>\n",
       "      <td>23699.00</td>\n",
       "      <td>23699.00</td>\n",
       "      <td>23699.00</td>\n",
       "      <td>14504.00</td>\n",
       "      <td>23613.00</td>\n",
       "      <td>21796.00</td>\n",
       "      <td>23699.00</td>\n",
       "      <td>21421.00</td>\n",
       "      <td>12180.00</td>\n",
       "      <td>18157.00</td>\n",
       "      <td>18180.00</td>\n",
       "      <td>18181.00</td>\n",
       "      <td>8079.00</td>\n",
       "      <td>18181.00</td>\n",
       "      <td>9110.00</td>\n",
       "      <td>20518.00</td>\n",
       "    </tr>\n",
       "    <tr>\n",
       "      <th>mean</th>\n",
       "      <td>9.86</td>\n",
       "      <td>6541548.77</td>\n",
       "      <td>60.35</td>\n",
       "      <td>2.07</td>\n",
       "      <td>2.77</td>\n",
       "      <td>10.67</td>\n",
       "      <td>34.46</td>\n",
       "      <td>5.89</td>\n",
       "      <td>10.57</td>\n",
       "      <td>1.15</td>\n",
       "      <td>28793.67</td>\n",
       "      <td>14191.28</td>\n",
       "      <td>0.61</td>\n",
       "      <td>490.80</td>\n",
       "      <td>0.77</td>\n",
       "      <td>517.98</td>\n",
       "      <td>180.89</td>\n",
       "    </tr>\n",
       "    <tr>\n",
       "      <th>std</th>\n",
       "      <td>5.68</td>\n",
       "      <td>10887013.27</td>\n",
       "      <td>35.65</td>\n",
       "      <td>1.08</td>\n",
       "      <td>1.26</td>\n",
       "      <td>6.60</td>\n",
       "      <td>22.03</td>\n",
       "      <td>4.89</td>\n",
       "      <td>5.91</td>\n",
       "      <td>1.07</td>\n",
       "      <td>12630.88</td>\n",
       "      <td>8608.39</td>\n",
       "      <td>0.80</td>\n",
       "      <td>342.32</td>\n",
       "      <td>0.94</td>\n",
       "      <td>277.72</td>\n",
       "      <td>219.73</td>\n",
       "    </tr>\n",
       "    <tr>\n",
       "      <th>min</th>\n",
       "      <td>0.00</td>\n",
       "      <td>12190.00</td>\n",
       "      <td>12.00</td>\n",
       "      <td>0.00</td>\n",
       "      <td>1.00</td>\n",
       "      <td>1.00</td>\n",
       "      <td>2.00</td>\n",
       "      <td>1.00</td>\n",
       "      <td>1.30</td>\n",
       "      <td>0.00</td>\n",
       "      <td>0.00</td>\n",
       "      <td>181.00</td>\n",
       "      <td>0.00</td>\n",
       "      <td>1.00</td>\n",
       "      <td>0.00</td>\n",
       "      <td>13.00</td>\n",
       "      <td>1.00</td>\n",
       "    </tr>\n",
       "    <tr>\n",
       "      <th>25%</th>\n",
       "      <td>6.00</td>\n",
       "      <td>3400000.00</td>\n",
       "      <td>40.00</td>\n",
       "      <td>1.00</td>\n",
       "      <td>2.52</td>\n",
       "      <td>5.00</td>\n",
       "      <td>18.60</td>\n",
       "      <td>2.00</td>\n",
       "      <td>7.00</td>\n",
       "      <td>0.00</td>\n",
       "      <td>18585.00</td>\n",
       "      <td>9238.00</td>\n",
       "      <td>0.00</td>\n",
       "      <td>288.00</td>\n",
       "      <td>0.00</td>\n",
       "      <td>294.00</td>\n",
       "      <td>45.00</td>\n",
       "    </tr>\n",
       "    <tr>\n",
       "      <th>50%</th>\n",
       "      <td>9.00</td>\n",
       "      <td>4650000.00</td>\n",
       "      <td>52.00</td>\n",
       "      <td>2.00</td>\n",
       "      <td>2.65</td>\n",
       "      <td>9.00</td>\n",
       "      <td>30.00</td>\n",
       "      <td>4.00</td>\n",
       "      <td>9.10</td>\n",
       "      <td>1.00</td>\n",
       "      <td>26726.00</td>\n",
       "      <td>13098.50</td>\n",
       "      <td>0.00</td>\n",
       "      <td>455.00</td>\n",
       "      <td>1.00</td>\n",
       "      <td>502.00</td>\n",
       "      <td>95.00</td>\n",
       "    </tr>\n",
       "    <tr>\n",
       "      <th>75%</th>\n",
       "      <td>14.00</td>\n",
       "      <td>6800000.00</td>\n",
       "      <td>69.90</td>\n",
       "      <td>3.00</td>\n",
       "      <td>2.80</td>\n",
       "      <td>16.00</td>\n",
       "      <td>42.30</td>\n",
       "      <td>8.00</td>\n",
       "      <td>12.00</td>\n",
       "      <td>2.00</td>\n",
       "      <td>37273.00</td>\n",
       "      <td>16293.00</td>\n",
       "      <td>1.00</td>\n",
       "      <td>612.00</td>\n",
       "      <td>1.00</td>\n",
       "      <td>729.00</td>\n",
       "      <td>232.00</td>\n",
       "    </tr>\n",
       "    <tr>\n",
       "      <th>max</th>\n",
       "      <td>50.00</td>\n",
       "      <td>763000000.00</td>\n",
       "      <td>900.00</td>\n",
       "      <td>19.00</td>\n",
       "      <td>100.00</td>\n",
       "      <td>60.00</td>\n",
       "      <td>409.70</td>\n",
       "      <td>33.00</td>\n",
       "      <td>112.00</td>\n",
       "      <td>5.00</td>\n",
       "      <td>84869.00</td>\n",
       "      <td>65968.00</td>\n",
       "      <td>3.00</td>\n",
       "      <td>3190.00</td>\n",
       "      <td>3.00</td>\n",
       "      <td>1344.00</td>\n",
       "      <td>1580.00</td>\n",
       "    </tr>\n",
       "  </tbody>\n",
       "</table>\n",
       "</div>"
      ],
      "text/plain": [
       "       total_images   last_price  total_area    rooms  ceiling_height  \\\n",
       "count      23699.00     23699.00    23699.00 23699.00        14504.00   \n",
       "mean           9.86   6541548.77       60.35     2.07            2.77   \n",
       "std            5.68  10887013.27       35.65     1.08            1.26   \n",
       "min            0.00     12190.00       12.00     0.00            1.00   \n",
       "25%            6.00   3400000.00       40.00     1.00            2.52   \n",
       "50%            9.00   4650000.00       52.00     2.00            2.65   \n",
       "75%           14.00   6800000.00       69.90     3.00            2.80   \n",
       "max           50.00 763000000.00      900.00    19.00          100.00   \n",
       "\n",
       "       floors_total  living_area    floor  kitchen_area  balcony  \\\n",
       "count      23613.00     21796.00 23699.00      21421.00 12180.00   \n",
       "mean          10.67        34.46     5.89         10.57     1.15   \n",
       "std            6.60        22.03     4.89          5.91     1.07   \n",
       "min            1.00         2.00     1.00          1.30     0.00   \n",
       "25%            5.00        18.60     2.00          7.00     0.00   \n",
       "50%            9.00        30.00     4.00          9.10     1.00   \n",
       "75%           16.00        42.30     8.00         12.00     2.00   \n",
       "max           60.00       409.70    33.00        112.00     5.00   \n",
       "\n",
       "       airports_nearest  city_сenters_nearest  parks_around3000  \\\n",
       "count          18157.00              18180.00          18181.00   \n",
       "mean           28793.67              14191.28              0.61   \n",
       "std            12630.88               8608.39              0.80   \n",
       "min                0.00                181.00              0.00   \n",
       "25%            18585.00               9238.00              0.00   \n",
       "50%            26726.00              13098.50              0.00   \n",
       "75%            37273.00              16293.00              1.00   \n",
       "max            84869.00              65968.00              3.00   \n",
       "\n",
       "       parks_nearest  ponds_around3000  ponds_nearest  days_exposition  \n",
       "count        8079.00          18181.00        9110.00         20518.00  \n",
       "mean          490.80              0.77         517.98           180.89  \n",
       "std           342.32              0.94         277.72           219.73  \n",
       "min             1.00              0.00          13.00             1.00  \n",
       "25%           288.00              0.00         294.00            45.00  \n",
       "50%           455.00              1.00         502.00            95.00  \n",
       "75%           612.00              1.00         729.00           232.00  \n",
       "max          3190.00              3.00        1344.00          1580.00  "
      ]
     },
     "execution_count": 4,
     "metadata": {},
     "output_type": "execute_result"
    }
   ],
   "source": [
    "data.describe()"
   ]
  },
  {
   "cell_type": "markdown",
   "metadata": {},
   "source": [
    "Из описания видно что в данных имеются аномальные значения, здесь надо поработать"
   ]
  },
  {
   "cell_type": "code",
   "execution_count": 5,
   "metadata": {},
   "outputs": [
    {
     "data": {
      "text/plain": [
       "array([[<AxesSubplot:title={'center':'total_images'}>,\n",
       "        <AxesSubplot:title={'center':'last_price'}>,\n",
       "        <AxesSubplot:title={'center':'total_area'}>,\n",
       "        <AxesSubplot:title={'center':'rooms'}>],\n",
       "       [<AxesSubplot:title={'center':'ceiling_height'}>,\n",
       "        <AxesSubplot:title={'center':'floors_total'}>,\n",
       "        <AxesSubplot:title={'center':'living_area'}>,\n",
       "        <AxesSubplot:title={'center':'floor'}>],\n",
       "       [<AxesSubplot:title={'center':'kitchen_area'}>,\n",
       "        <AxesSubplot:title={'center':'balcony'}>,\n",
       "        <AxesSubplot:title={'center':'airports_nearest'}>,\n",
       "        <AxesSubplot:title={'center':'city_сenters_nearest'}>],\n",
       "       [<AxesSubplot:title={'center':'parks_around3000'}>,\n",
       "        <AxesSubplot:title={'center':'parks_nearest'}>,\n",
       "        <AxesSubplot:title={'center':'ponds_around3000'}>,\n",
       "        <AxesSubplot:title={'center':'ponds_nearest'}>],\n",
       "       [<AxesSubplot:title={'center':'days_exposition'}>, <AxesSubplot:>,\n",
       "        <AxesSubplot:>, <AxesSubplot:>]], dtype=object)"
      ]
     },
     "execution_count": 5,
     "metadata": {},
     "output_type": "execute_result"
    },
    {
     "data": {
      "image/png": "[encoded data removed]",
      "text/plain": [
       "<Figure size 1080x1440 with 20 Axes>"
      ]
     },
     "metadata": {
      "needs_background": "light"
     },
     "output_type": "display_data"
    }
   ],
   "source": [
    "data.hist(figsize=(15, 20))"
   ]
  },
  {
   "cell_type": "code",
   "execution_count": 6,
   "metadata": {
    "scrolled": true
   },
   "outputs": [
    {
     "data": {
      "text/plain": [
       "23699"
      ]
     },
     "execution_count": 6,
     "metadata": {},
     "output_type": "execute_result"
    }
   ],
   "source": [
    "len(data)"
   ]
  },
  {
   "cell_type": "markdown",
   "metadata": {},
   "source": [
    "На всякий случай запросил размерность датафрейма чтобы потом проанализировать какой процент занимают пропуски"
   ]
  },
  {
   "cell_type": "markdown",
   "metadata": {},
   "source": [
    "### Предобработка данных"
   ]
  },
  {
   "cell_type": "code",
   "execution_count": 7,
   "metadata": {},
   "outputs": [
    {
     "data": {
      "text/plain": [
       "total_images                0\n",
       "last_price                  0\n",
       "total_area                  0\n",
       "first_day_exposition        0\n",
       "rooms                       0\n",
       "ceiling_height           9195\n",
       "floors_total               86\n",
       "living_area              1903\n",
       "floor                       0\n",
       "is_apartment            20924\n",
       "studio                      0\n",
       "open_plan                   0\n",
       "kitchen_area             2278\n",
       "balcony                 11519\n",
       "locality_name              49\n",
       "airports_nearest         5542\n",
       "city_сenters_nearest     5519\n",
       "parks_around3000         5518\n",
       "parks_nearest           15620\n",
       "ponds_around3000         5518\n",
       "ponds_nearest           14589\n",
       "days_exposition          3181\n",
       "dtype: int64"
      ]
     },
     "execution_count": 7,
     "metadata": {},
     "output_type": "execute_result"
    }
   ],
   "source": [
    "data.isna().sum() "
   ]
  },
  {
   "cell_type": "markdown",
   "metadata": {},
   "source": [
    "Есть столбцы с большим количеством пропусков.Изучим их поподробнее"
   ]
  },
  {
   "cell_type": "code",
   "execution_count": 8,
   "metadata": {
    "scrolled": true
   },
   "outputs": [
    {
     "data": {
      "text/plain": [
       "False    2725\n",
       "True       50\n",
       "Name: is_apartment, dtype: int64"
      ]
     },
     "execution_count": 8,
     "metadata": {},
     "output_type": "execute_result"
    }
   ],
   "source": [
    "data['is_apartment'].value_counts()"
   ]
  },
  {
   "cell_type": "markdown",
   "metadata": {},
   "source": [
    "Скорее всего пропуски в 'is_apartment' это False. заполним пропуски False"
   ]
  },
  {
   "cell_type": "code",
   "execution_count": 9,
   "metadata": {},
   "outputs": [],
   "source": [
    "data['is_apartment']=data['is_apartment'].fillna(False)"
   ]
  },
  {
   "cell_type": "code",
   "execution_count": 10,
   "metadata": {},
   "outputs": [
    {
     "data": {
      "text/plain": [
       "total_images                0\n",
       "last_price                  0\n",
       "total_area                  0\n",
       "first_day_exposition        0\n",
       "rooms                       0\n",
       "ceiling_height           9195\n",
       "floors_total               86\n",
       "living_area              1903\n",
       "floor                       0\n",
       "is_apartment                0\n",
       "studio                      0\n",
       "open_plan                   0\n",
       "kitchen_area             2278\n",
       "balcony                 11519\n",
       "locality_name              49\n",
       "airports_nearest         5542\n",
       "city_сenters_nearest     5519\n",
       "parks_around3000         5518\n",
       "parks_nearest           15620\n",
       "ponds_around3000         5518\n",
       "ponds_nearest           14589\n",
       "days_exposition          3181\n",
       "dtype: int64"
      ]
     },
     "execution_count": 10,
     "metadata": {},
     "output_type": "execute_result"
    }
   ],
   "source": [
    "data.isna().sum() "
   ]
  },
  {
   "cell_type": "markdown",
   "metadata": {},
   "source": [
    "Изменим тип данных в first_day_exposition"
   ]
  },
  {
   "cell_type": "code",
   "execution_count": 11,
   "metadata": {},
   "outputs": [
    {
     "name": "stdout",
     "output_type": "stream",
     "text": [
      "0       2019-03-07\n",
      "1       2018-12-04\n",
      "2       2015-08-20\n",
      "3       2015-07-24\n",
      "4       2018-06-19\n",
      "           ...    \n",
      "23694   2017-03-21\n",
      "23695   2018-01-15\n",
      "23696   2018-02-11\n",
      "23697   2017-03-28\n",
      "23698   2017-07-21\n",
      "Name: first_day_exposition, Length: 23699, dtype: datetime64[ns]\n"
     ]
    }
   ],
   "source": [
    "data['first_day_exposition'] = pd.to_datetime(data['first_day_exposition'], format = '%Y-%m-%d') # преобразование даты\n",
    "print(data['first_day_exposition']) "
   ]
  },
  {
   "cell_type": "code",
   "execution_count": 12,
   "metadata": {},
   "outputs": [],
   "source": [
    "data['ceiling_height']=data['ceiling_height'].fillna(data['ceiling_height'].median())"
   ]
  },
  {
   "cell_type": "markdown",
   "metadata": {},
   "source": [
    "проверим 'ceiling_height' на аномалии, посмотрим уникальные значения"
   ]
  },
  {
   "cell_type": "code",
   "execution_count": 13,
   "metadata": {},
   "outputs": [
    {
     "data": {
      "text/plain": [
       "2.65     9871\n",
       "2.50     3515\n",
       "2.60     1646\n",
       "2.70     1574\n",
       "3.00     1112\n",
       "         ... \n",
       "4.25        1\n",
       "3.39        1\n",
       "3.93        1\n",
       "10.30       1\n",
       "4.65        1\n",
       "Name: ceiling_height, Length: 183, dtype: int64"
      ]
     },
     "execution_count": 13,
     "metadata": {},
     "output_type": "execute_result"
    }
   ],
   "source": [
    "data['ceiling_height'].value_counts()"
   ]
  },
  {
   "cell_type": "markdown",
   "metadata": {},
   "source": [
    "Видим что есть аномально высокие потолки, скорее всего точка не втом месте, разделим такие значения на 10"
   ]
  },
  {
   "cell_type": "code",
   "execution_count": 14,
   "metadata": {},
   "outputs": [],
   "source": [
    "for i in data['ceiling_height']:\n",
    "     if i >= 9:\n",
    "         data['ceiling_height'] = data['ceiling_height'].replace({i: i/10})"
   ]
  },
  {
   "cell_type": "code",
   "execution_count": 15,
   "metadata": {},
   "outputs": [
    {
     "data": {
      "text/plain": [
       "total_images                0\n",
       "last_price                  0\n",
       "total_area                  0\n",
       "first_day_exposition        0\n",
       "rooms                       0\n",
       "ceiling_height              0\n",
       "floors_total               86\n",
       "living_area              1903\n",
       "floor                       0\n",
       "is_apartment                0\n",
       "studio                      0\n",
       "open_plan                   0\n",
       "kitchen_area             2278\n",
       "balcony                 11519\n",
       "locality_name              49\n",
       "airports_nearest         5542\n",
       "city_сenters_nearest     5519\n",
       "parks_around3000         5518\n",
       "parks_nearest           15620\n",
       "ponds_around3000         5518\n",
       "ponds_nearest           14589\n",
       "days_exposition          3181\n",
       "dtype: int64"
      ]
     },
     "execution_count": 15,
     "metadata": {},
     "output_type": "execute_result"
    }
   ],
   "source": [
    "data.isna().sum()"
   ]
  },
  {
   "cell_type": "markdown",
   "metadata": {},
   "source": [
    "Пропуски в floors_total и locality_name  дропнем так как их количество не существенное"
   ]
  },
  {
   "cell_type": "code",
   "execution_count": 16,
   "metadata": {},
   "outputs": [],
   "source": [
    "data= data.dropna(subset=['floors_total','locality_name']) #избавимся от этих данных колиство пропусков в них мало по сравнению\n",
    "# с общим объемом"
   ]
  },
  {
   "cell_type": "code",
   "execution_count": 17,
   "metadata": {},
   "outputs": [],
   "source": [
    "data['balcony']=data['balcony'].fillna(0) #скорее всего если есть пропуск значит количество балконов 0"
   ]
  },
  {
   "cell_type": "code",
   "execution_count": 18,
   "metadata": {},
   "outputs": [
    {
     "name": "stdout",
     "output_type": "stream",
     "text": [
      "<class 'pandas.core.frame.DataFrame'>\n",
      "Int64Index: 23565 entries, 0 to 23698\n",
      "Data columns (total 22 columns):\n",
      " #   Column                Non-Null Count  Dtype         \n",
      "---  ------                --------------  -----         \n",
      " 0   total_images          23565 non-null  int64         \n",
      " 1   last_price            23565 non-null  float64       \n",
      " 2   total_area            23565 non-null  float64       \n",
      " 3   first_day_exposition  23565 non-null  datetime64[ns]\n",
      " 4   rooms                 23565 non-null  int64         \n",
      " 5   ceiling_height        23565 non-null  float64       \n",
      " 6   floors_total          23565 non-null  float64       \n",
      " 7   living_area           21700 non-null  float64       \n",
      " 8   floor                 23565 non-null  int64         \n",
      " 9   is_apartment          23565 non-null  bool          \n",
      " 10  studio                23565 non-null  bool          \n",
      " 11  open_plan             23565 non-null  bool          \n",
      " 12  kitchen_area          21343 non-null  float64       \n",
      " 13  balcony               23565 non-null  int64         \n",
      " 14  locality_name         23565 non-null  object        \n",
      " 15  airports_nearest      18041 non-null  float64       \n",
      " 16  city_сenters_nearest  18064 non-null  float64       \n",
      " 17  parks_around3000      18065 non-null  float64       \n",
      " 18  parks_nearest         8030 non-null   float64       \n",
      " 19  ponds_around3000      18065 non-null  float64       \n",
      " 20  ponds_nearest         9036 non-null   float64       \n",
      " 21  days_exposition       20394 non-null  float64       \n",
      "dtypes: bool(3), datetime64[ns](1), float64(13), int64(4), object(1)\n",
      "memory usage: 3.7+ MB\n"
     ]
    }
   ],
   "source": [
    "data['balcony'] = pd.to_numeric(data['balcony'])\n",
    "data['balcony'] = data['balcony'].astype('int')\n",
    "data.info() "
   ]
  },
  {
   "cell_type": "markdown",
   "metadata": {},
   "source": [
    "Найдём коэффициент соотношения средней общей площади (там где она есть .isnull() == False) к среднему жилой площади и заполняем пропуски отношением общей площади на коэффициент"
   ]
  },
  {
   "cell_type": "code",
   "execution_count": 19,
   "metadata": {},
   "outputs": [],
   "source": [
    "area_kof = data[data['living_area'].isnull() == False]['total_area'].mean() / data[data['living_area']\\\n",
    "                                                                                   .isnull()== False]['living_area'].mean()\n",
    "data['living_area'] = data['living_area'].fillna(data['total_area']/area_kof)"
   ]
  },
  {
   "cell_type": "code",
   "execution_count": 20,
   "metadata": {},
   "outputs": [
    {
     "data": {
      "text/plain": [
       "total_images                0\n",
       "last_price                  0\n",
       "total_area                  0\n",
       "first_day_exposition        0\n",
       "rooms                       0\n",
       "ceiling_height              0\n",
       "floors_total                0\n",
       "living_area                 0\n",
       "floor                       0\n",
       "is_apartment                0\n",
       "studio                      0\n",
       "open_plan                   0\n",
       "kitchen_area             2222\n",
       "balcony                     0\n",
       "locality_name               0\n",
       "airports_nearest         5524\n",
       "city_сenters_nearest     5501\n",
       "parks_around3000         5500\n",
       "parks_nearest           15535\n",
       "ponds_around3000         5500\n",
       "ponds_nearest           14529\n",
       "days_exposition          3171\n",
       "dtype: int64"
      ]
     },
     "execution_count": 20,
     "metadata": {},
     "output_type": "execute_result"
    }
   ],
   "source": [
    "data.isna().sum()"
   ]
  },
  {
   "cell_type": "markdown",
   "metadata": {},
   "source": [
    "Посчитаем пропущенные значения площади кухни также как и живой площади"
   ]
  },
  {
   "cell_type": "code",
   "execution_count": 21,
   "metadata": {},
   "outputs": [],
   "source": [
    "area_kof = data[data['kitchen_area'].isnull() == False]['total_area'].mean() / data[data['kitchen_area'].isnull()== False]['kitchen_area'].mean()\n",
    "data['kitchen_area'] = data['kitchen_area'].fillna(data['total_area']/area_kof)"
   ]
  },
  {
   "cell_type": "code",
   "execution_count": 22,
   "metadata": {},
   "outputs": [
    {
     "data": {
      "text/plain": [
       "0"
      ]
     },
     "execution_count": 22,
     "metadata": {},
     "output_type": "execute_result"
    }
   ],
   "source": [
    "data['kitchen_area'].isna().sum()"
   ]
  },
  {
   "cell_type": "code",
   "execution_count": 23,
   "metadata": {},
   "outputs": [
    {
     "data": {
      "text/plain": [
       "total_images                0\n",
       "last_price                  0\n",
       "total_area                  0\n",
       "first_day_exposition        0\n",
       "rooms                       0\n",
       "ceiling_height              0\n",
       "floors_total                0\n",
       "living_area                 0\n",
       "floor                       0\n",
       "is_apartment                0\n",
       "studio                      0\n",
       "open_plan                   0\n",
       "kitchen_area                0\n",
       "balcony                     0\n",
       "locality_name               0\n",
       "airports_nearest         5524\n",
       "city_сenters_nearest     5501\n",
       "parks_around3000         5500\n",
       "parks_nearest           15535\n",
       "ponds_around3000         5500\n",
       "ponds_nearest           14529\n",
       "days_exposition          3171\n",
       "dtype: int64"
      ]
     },
     "execution_count": 23,
     "metadata": {},
     "output_type": "execute_result"
    }
   ],
   "source": [
    "data.isna().sum()"
   ]
  },
  {
   "cell_type": "markdown",
   "metadata": {},
   "source": [
    "Изменим тип данныхна числовой в last_price"
   ]
  },
  {
   "cell_type": "code",
   "execution_count": 24,
   "metadata": {},
   "outputs": [],
   "source": [
    "data['last_price'] = data['last_price'].astype('int')"
   ]
  },
  {
   "cell_type": "code",
   "execution_count": 25,
   "metadata": {},
   "outputs": [
    {
     "data": {
      "text/plain": [
       "total_images            0\n",
       "last_price              0\n",
       "total_area              0\n",
       "first_day_exposition    0\n",
       "rooms                   0\n",
       "ceiling_height          0\n",
       "floors_total            0\n",
       "living_area             0\n",
       "floor                   0\n",
       "is_apartment            0\n",
       "studio                  0\n",
       "open_plan               0\n",
       "kitchen_area            0\n",
       "balcony                 0\n",
       "locality_name           0\n",
       "airports_nearest        0\n",
       "city_сenters_nearest    0\n",
       "parks_around3000        0\n",
       "parks_nearest           0\n",
       "ponds_around3000        0\n",
       "ponds_nearest           0\n",
       "days_exposition         0\n",
       "dtype: int64"
      ]
     },
     "execution_count": 25,
     "metadata": {},
     "output_type": "execute_result"
    }
   ],
   "source": [
    "data.query('days_exposition == 0').count() "
   ]
  },
  {
   "cell_type": "code",
   "execution_count": 26,
   "metadata": {},
   "outputs": [],
   "source": [
    "data['days_exposition']=data['days_exposition'].fillna(1) # Заменю пропуски на 1 и заменю тип данных. \n",
    "data['days_exposition'] = data['days_exposition'].astype('int') "
   ]
  },
  {
   "cell_type": "code",
   "execution_count": 27,
   "metadata": {
    "scrolled": false
   },
   "outputs": [
    {
     "data": {
      "text/plain": [
       "total_images                0\n",
       "last_price                  0\n",
       "total_area                  0\n",
       "first_day_exposition        0\n",
       "rooms                       0\n",
       "ceiling_height              0\n",
       "floors_total                0\n",
       "living_area                 0\n",
       "floor                       0\n",
       "is_apartment                0\n",
       "studio                      0\n",
       "open_plan                   0\n",
       "kitchen_area                0\n",
       "balcony                     0\n",
       "locality_name               0\n",
       "airports_nearest         5524\n",
       "city_сenters_nearest     5501\n",
       "parks_around3000         5500\n",
       "parks_nearest           15535\n",
       "ponds_around3000         5500\n",
       "ponds_nearest           14529\n",
       "days_exposition             0\n",
       "dtype: int64"
      ]
     },
     "execution_count": 27,
     "metadata": {},
     "output_type": "execute_result"
    }
   ],
   "source": [
    "data.isna().sum()"
   ]
  },
  {
   "cell_type": "markdown",
   "metadata": {},
   "source": [
    "Остальные пропуски мы ничем не можем заменить так как у нас нет данных, либо они не будут использоваться для анализа\n",
    "Удалить строки с пропусками тоже не вариант так как они занимают существенный объем."
   ]
  },
  {
   "cell_type": "markdown",
   "metadata": {},
   "source": [
    "### Посчитаем и добавим в таблицу новые столбцы"
   ]
  },
  {
   "cell_type": "code",
   "execution_count": 28,
   "metadata": {},
   "outputs": [],
   "source": [
    "data['price_per_area'] = data['last_price'] / data['total_area']\n",
    "data['price_per_area'] = data['price_per_area'].astype('int') #цена квадратного метра"
   ]
  },
  {
   "cell_type": "code",
   "execution_count": 29,
   "metadata": {},
   "outputs": [],
   "source": [
    "data['weekday_exposition'] = data['first_day_exposition'].dt.weekday\n",
    "data['month_exposition'] = data['first_day_exposition'].dt.month\n",
    "data['year_exposition'] = data['first_day_exposition'].dt.year"
   ]
  },
  {
   "cell_type": "markdown",
   "metadata": {},
   "source": [
    "Создадим функцию чтобы поделить на категории"
   ]
  },
  {
   "cell_type": "code",
   "execution_count": 30,
   "metadata": {},
   "outputs": [],
   "source": [
    "def floor_category(row):\n",
    "    floors_total = row['floors_total']\n",
    "    floor = row['floor']\n",
    "    if floor == 1:\n",
    "        return 'первый'\n",
    "    elif floor == floors_total:\n",
    "        return 'последний'\n",
    "    elif 1 < floor < floors_total:\n",
    "        return 'другой'"
   ]
  },
  {
   "cell_type": "code",
   "execution_count": 31,
   "metadata": {},
   "outputs": [],
   "source": [
    "data['floor_category'] = data.apply(floor_category, axis = 1)\n"
   ]
  },
  {
   "cell_type": "markdown",
   "metadata": {},
   "source": [
    "Столбец с расстоянием до центра в км."
   ]
  },
  {
   "cell_type": "code",
   "execution_count": 32,
   "metadata": {},
   "outputs": [],
   "source": [
    "data['city_сenters_nearest_km']=data['city_сenters_nearest']/1000\n",
    "data['city_сenters_nearest_km']=data['city_сenters_nearest_km'].round()"
   ]
  },
  {
   "cell_type": "markdown",
   "metadata": {},
   "source": [
    "### Проведем исследовательский анализ данных"
   ]
  },
  {
   "cell_type": "markdown",
   "metadata": {},
   "source": [
    "Общая площадь"
   ]
  },
  {
   "cell_type": "code",
   "execution_count": 33,
   "metadata": {},
   "outputs": [
    {
     "data": {
      "image/png": "[encoded data removed]",
      "text/plain": [
       "<Figure size 504x360 with 1 Axes>"
      ]
     },
     "metadata": {
      "needs_background": "light"
     },
     "output_type": "display_data"
    }
   ],
   "source": [
    "data.plot(y = 'total_area', kind = 'hist', bins = 100, grid=True, figsize = (7,5), range = (0,400))\n",
    "data['total_area'].describe()\n",
    "plt.title('Гистограмма распределения общей площади', fontweight='normal', color='k', fontsize=14)\n",
    "plt.xlabel('Общая площадь')\n",
    "plt.ylabel('Частота')\n",
    "plt.show()"
   ]
  },
  {
   "cell_type": "markdown",
   "metadata": {},
   "source": [
    "Есть небольшие выбросы но не критично"
   ]
  },
  {
   "cell_type": "code",
   "execution_count": 34,
   "metadata": {},
   "outputs": [
    {
     "data": {
      "image/png": "[encoded data removed]",
      "text/plain": [
       "<Figure size 432x288 with 1 Axes>"
      ]
     },
     "metadata": {
      "needs_background": "light"
     },
     "output_type": "display_data"
    }
   ],
   "source": [
    "data.boxplot(column='total_area')\n",
    "plt.ylim(0, 150)\n",
    "plt.title('Общая площадь', fontweight='normal', color='k', fontsize=14)\n",
    "plt.show()"
   ]
  },
  {
   "cell_type": "markdown",
   "metadata": {},
   "source": [
    "Исходя из графика нормальными площадями считатся значения от 14 до 114 примерно"
   ]
  },
  {
   "cell_type": "markdown",
   "metadata": {},
   "source": [
    "Жилая площадь"
   ]
  },
  {
   "cell_type": "code",
   "execution_count": 35,
   "metadata": {},
   "outputs": [
    {
     "data": {
      "image/png": "[encoded data removed]",
      "text/plain": [
       "<Figure size 360x216 with 1 Axes>"
      ]
     },
     "metadata": {
      "needs_background": "light"
     },
     "output_type": "display_data"
    }
   ],
   "source": [
    "data.plot(y = 'living_area', kind = 'hist', bins = 100, grid=True, figsize = (5,3), range = (0,200))\n",
    "data['living_area'].describe()\n",
    "plt.title('Жилая площадь', fontweight='normal', color='k', fontsize=14)\n",
    "plt.show()"
   ]
  },
  {
   "cell_type": "code",
   "execution_count": 36,
   "metadata": {},
   "outputs": [
    {
     "data": {
      "image/png": "[encoded data removed]",
      "text/plain": [
       "<Figure size 432x288 with 1 Axes>"
      ]
     },
     "metadata": {
      "needs_background": "light"
     },
     "output_type": "display_data"
    }
   ],
   "source": [
    "data.boxplot(column='living_area')\n",
    "plt.ylim(0, 150)\n",
    "plt.title('Жилая площадь', fontweight='normal', color='k', fontsize=14)\n",
    "plt.show()"
   ]
  },
  {
   "cell_type": "markdown",
   "metadata": {},
   "source": [
    "Площадь кухни"
   ]
  },
  {
   "cell_type": "code",
   "execution_count": 37,
   "metadata": {},
   "outputs": [
    {
     "data": {
      "image/png": "[encoded data removed]",
      "text/plain": [
       "<Figure size 360x216 with 1 Axes>"
      ]
     },
     "metadata": {
      "needs_background": "light"
     },
     "output_type": "display_data"
    }
   ],
   "source": [
    "data.plot(y = 'kitchen_area', kind = 'hist', bins = 100, grid=True, figsize = (5,3), range = (0,60))\n",
    "data['kitchen_area'].describe()\n",
    "plt.title('Площадь кухни', fontweight='normal', color='k', fontsize=14)\n",
    "plt.show()"
   ]
  },
  {
   "cell_type": "code",
   "execution_count": 38,
   "metadata": {},
   "outputs": [
    {
     "data": {
      "image/png": "[encoded data removed]",
      "text/plain": [
       "<Figure size 432x288 with 1 Axes>"
      ]
     },
     "metadata": {
      "needs_background": "light"
     },
     "output_type": "display_data"
    }
   ],
   "source": [
    "data.boxplot(column='kitchen_area')\n",
    "plt.ylim(0, 150)\n",
    "plt.title('Площадь кухни', fontweight='normal', color='k', fontsize=14)\n",
    "plt.show()"
   ]
  },
  {
   "cell_type": "markdown",
   "metadata": {},
   "source": [
    "Нормальные значения площади кухни лежат в диапозоне от 2 до 20 м2"
   ]
  },
  {
   "cell_type": "markdown",
   "metadata": {},
   "source": [
    "ЦЕНА ОБЪЕКТА"
   ]
  },
  {
   "cell_type": "code",
   "execution_count": 39,
   "metadata": {
    "scrolled": false
   },
   "outputs": [
    {
     "data": {
      "text/html": [
       "<div>\n",
       "<style scoped>\n",
       "    .dataframe tbody tr th:only-of-type {\n",
       "        vertical-align: middle;\n",
       "    }\n",
       "\n",
       "    .dataframe tbody tr th {\n",
       "        vertical-align: top;\n",
       "    }\n",
       "\n",
       "    .dataframe thead th {\n",
       "        text-align: right;\n",
       "    }\n",
       "</style>\n",
       "<table border=\"1\" class=\"dataframe\">\n",
       "  <thead>\n",
       "    <tr style=\"text-align: right;\">\n",
       "      <th></th>\n",
       "      <th>total_images</th>\n",
       "      <th>last_price</th>\n",
       "      <th>total_area</th>\n",
       "      <th>first_day_exposition</th>\n",
       "      <th>rooms</th>\n",
       "      <th>ceiling_height</th>\n",
       "      <th>floors_total</th>\n",
       "      <th>living_area</th>\n",
       "      <th>floor</th>\n",
       "      <th>is_apartment</th>\n",
       "      <th>studio</th>\n",
       "      <th>open_plan</th>\n",
       "      <th>kitchen_area</th>\n",
       "      <th>balcony</th>\n",
       "      <th>locality_name</th>\n",
       "      <th>airports_nearest</th>\n",
       "      <th>city_сenters_nearest</th>\n",
       "      <th>parks_around3000</th>\n",
       "      <th>parks_nearest</th>\n",
       "      <th>ponds_around3000</th>\n",
       "      <th>ponds_nearest</th>\n",
       "      <th>days_exposition</th>\n",
       "      <th>price_per_area</th>\n",
       "      <th>weekday_exposition</th>\n",
       "      <th>month_exposition</th>\n",
       "      <th>year_exposition</th>\n",
       "      <th>floor_category</th>\n",
       "      <th>city_сenters_nearest_km</th>\n",
       "    </tr>\n",
       "  </thead>\n",
       "  <tbody>\n",
       "    <tr>\n",
       "      <th>0</th>\n",
       "      <td>20</td>\n",
       "      <td>13000000</td>\n",
       "      <td>108.00</td>\n",
       "      <td>2019-03-07</td>\n",
       "      <td>3</td>\n",
       "      <td>2.70</td>\n",
       "      <td>16.00</td>\n",
       "      <td>51.00</td>\n",
       "      <td>8</td>\n",
       "      <td>False</td>\n",
       "      <td>False</td>\n",
       "      <td>False</td>\n",
       "      <td>25.00</td>\n",
       "      <td>0</td>\n",
       "      <td>Санкт-Петербург</td>\n",
       "      <td>18863.00</td>\n",
       "      <td>16028.00</td>\n",
       "      <td>1.00</td>\n",
       "      <td>482.00</td>\n",
       "      <td>2.00</td>\n",
       "      <td>755.00</td>\n",
       "      <td>1</td>\n",
       "      <td>120370</td>\n",
       "      <td>3</td>\n",
       "      <td>3</td>\n",
       "      <td>2019</td>\n",
       "      <td>другой</td>\n",
       "      <td>16.00</td>\n",
       "    </tr>\n",
       "    <tr>\n",
       "      <th>1</th>\n",
       "      <td>7</td>\n",
       "      <td>3350000</td>\n",
       "      <td>40.40</td>\n",
       "      <td>2018-12-04</td>\n",
       "      <td>1</td>\n",
       "      <td>2.65</td>\n",
       "      <td>11.00</td>\n",
       "      <td>18.60</td>\n",
       "      <td>1</td>\n",
       "      <td>False</td>\n",
       "      <td>False</td>\n",
       "      <td>False</td>\n",
       "      <td>11.00</td>\n",
       "      <td>2</td>\n",
       "      <td>посёлок Шушары</td>\n",
       "      <td>12817.00</td>\n",
       "      <td>18603.00</td>\n",
       "      <td>0.00</td>\n",
       "      <td>NaN</td>\n",
       "      <td>0.00</td>\n",
       "      <td>NaN</td>\n",
       "      <td>81</td>\n",
       "      <td>82920</td>\n",
       "      <td>1</td>\n",
       "      <td>12</td>\n",
       "      <td>2018</td>\n",
       "      <td>первый</td>\n",
       "      <td>19.00</td>\n",
       "    </tr>\n",
       "    <tr>\n",
       "      <th>2</th>\n",
       "      <td>10</td>\n",
       "      <td>5196000</td>\n",
       "      <td>56.00</td>\n",
       "      <td>2015-08-20</td>\n",
       "      <td>2</td>\n",
       "      <td>2.65</td>\n",
       "      <td>5.00</td>\n",
       "      <td>34.30</td>\n",
       "      <td>4</td>\n",
       "      <td>False</td>\n",
       "      <td>False</td>\n",
       "      <td>False</td>\n",
       "      <td>8.30</td>\n",
       "      <td>0</td>\n",
       "      <td>Санкт-Петербург</td>\n",
       "      <td>21741.00</td>\n",
       "      <td>13933.00</td>\n",
       "      <td>1.00</td>\n",
       "      <td>90.00</td>\n",
       "      <td>2.00</td>\n",
       "      <td>574.00</td>\n",
       "      <td>558</td>\n",
       "      <td>92785</td>\n",
       "      <td>3</td>\n",
       "      <td>8</td>\n",
       "      <td>2015</td>\n",
       "      <td>другой</td>\n",
       "      <td>14.00</td>\n",
       "    </tr>\n",
       "    <tr>\n",
       "      <th>3</th>\n",
       "      <td>0</td>\n",
       "      <td>64900000</td>\n",
       "      <td>159.00</td>\n",
       "      <td>2015-07-24</td>\n",
       "      <td>3</td>\n",
       "      <td>2.65</td>\n",
       "      <td>14.00</td>\n",
       "      <td>91.21</td>\n",
       "      <td>9</td>\n",
       "      <td>False</td>\n",
       "      <td>False</td>\n",
       "      <td>False</td>\n",
       "      <td>27.66</td>\n",
       "      <td>0</td>\n",
       "      <td>Санкт-Петербург</td>\n",
       "      <td>28098.00</td>\n",
       "      <td>6800.00</td>\n",
       "      <td>2.00</td>\n",
       "      <td>84.00</td>\n",
       "      <td>3.00</td>\n",
       "      <td>234.00</td>\n",
       "      <td>424</td>\n",
       "      <td>408176</td>\n",
       "      <td>4</td>\n",
       "      <td>7</td>\n",
       "      <td>2015</td>\n",
       "      <td>другой</td>\n",
       "      <td>7.00</td>\n",
       "    </tr>\n",
       "    <tr>\n",
       "      <th>4</th>\n",
       "      <td>2</td>\n",
       "      <td>10000000</td>\n",
       "      <td>100.00</td>\n",
       "      <td>2018-06-19</td>\n",
       "      <td>2</td>\n",
       "      <td>3.03</td>\n",
       "      <td>14.00</td>\n",
       "      <td>32.00</td>\n",
       "      <td>13</td>\n",
       "      <td>False</td>\n",
       "      <td>False</td>\n",
       "      <td>False</td>\n",
       "      <td>41.00</td>\n",
       "      <td>0</td>\n",
       "      <td>Санкт-Петербург</td>\n",
       "      <td>31856.00</td>\n",
       "      <td>8098.00</td>\n",
       "      <td>2.00</td>\n",
       "      <td>112.00</td>\n",
       "      <td>1.00</td>\n",
       "      <td>48.00</td>\n",
       "      <td>121</td>\n",
       "      <td>100000</td>\n",
       "      <td>1</td>\n",
       "      <td>6</td>\n",
       "      <td>2018</td>\n",
       "      <td>другой</td>\n",
       "      <td>8.00</td>\n",
       "    </tr>\n",
       "    <tr>\n",
       "      <th>5</th>\n",
       "      <td>10</td>\n",
       "      <td>2890000</td>\n",
       "      <td>30.40</td>\n",
       "      <td>2018-09-10</td>\n",
       "      <td>1</td>\n",
       "      <td>2.65</td>\n",
       "      <td>12.00</td>\n",
       "      <td>14.40</td>\n",
       "      <td>5</td>\n",
       "      <td>False</td>\n",
       "      <td>False</td>\n",
       "      <td>False</td>\n",
       "      <td>9.10</td>\n",
       "      <td>0</td>\n",
       "      <td>городской посёлок Янино-1</td>\n",
       "      <td>NaN</td>\n",
       "      <td>NaN</td>\n",
       "      <td>NaN</td>\n",
       "      <td>NaN</td>\n",
       "      <td>NaN</td>\n",
       "      <td>NaN</td>\n",
       "      <td>55</td>\n",
       "      <td>95065</td>\n",
       "      <td>0</td>\n",
       "      <td>9</td>\n",
       "      <td>2018</td>\n",
       "      <td>другой</td>\n",
       "      <td>NaN</td>\n",
       "    </tr>\n",
       "    <tr>\n",
       "      <th>6</th>\n",
       "      <td>6</td>\n",
       "      <td>3700000</td>\n",
       "      <td>37.30</td>\n",
       "      <td>2017-11-02</td>\n",
       "      <td>1</td>\n",
       "      <td>2.65</td>\n",
       "      <td>26.00</td>\n",
       "      <td>10.60</td>\n",
       "      <td>6</td>\n",
       "      <td>False</td>\n",
       "      <td>False</td>\n",
       "      <td>False</td>\n",
       "      <td>14.40</td>\n",
       "      <td>1</td>\n",
       "      <td>посёлок Парголово</td>\n",
       "      <td>52996.00</td>\n",
       "      <td>19143.00</td>\n",
       "      <td>0.00</td>\n",
       "      <td>NaN</td>\n",
       "      <td>0.00</td>\n",
       "      <td>NaN</td>\n",
       "      <td>155</td>\n",
       "      <td>99195</td>\n",
       "      <td>3</td>\n",
       "      <td>11</td>\n",
       "      <td>2017</td>\n",
       "      <td>другой</td>\n",
       "      <td>19.00</td>\n",
       "    </tr>\n",
       "    <tr>\n",
       "      <th>7</th>\n",
       "      <td>5</td>\n",
       "      <td>7915000</td>\n",
       "      <td>71.60</td>\n",
       "      <td>2019-04-18</td>\n",
       "      <td>2</td>\n",
       "      <td>2.65</td>\n",
       "      <td>24.00</td>\n",
       "      <td>41.07</td>\n",
       "      <td>22</td>\n",
       "      <td>False</td>\n",
       "      <td>False</td>\n",
       "      <td>False</td>\n",
       "      <td>18.90</td>\n",
       "      <td>2</td>\n",
       "      <td>Санкт-Петербург</td>\n",
       "      <td>23982.00</td>\n",
       "      <td>11634.00</td>\n",
       "      <td>0.00</td>\n",
       "      <td>NaN</td>\n",
       "      <td>0.00</td>\n",
       "      <td>NaN</td>\n",
       "      <td>1</td>\n",
       "      <td>110544</td>\n",
       "      <td>3</td>\n",
       "      <td>4</td>\n",
       "      <td>2019</td>\n",
       "      <td>другой</td>\n",
       "      <td>12.00</td>\n",
       "    </tr>\n",
       "    <tr>\n",
       "      <th>8</th>\n",
       "      <td>20</td>\n",
       "      <td>2900000</td>\n",
       "      <td>33.16</td>\n",
       "      <td>2018-05-23</td>\n",
       "      <td>1</td>\n",
       "      <td>2.65</td>\n",
       "      <td>27.00</td>\n",
       "      <td>15.43</td>\n",
       "      <td>26</td>\n",
       "      <td>False</td>\n",
       "      <td>False</td>\n",
       "      <td>False</td>\n",
       "      <td>8.81</td>\n",
       "      <td>0</td>\n",
       "      <td>посёлок Мурино</td>\n",
       "      <td>NaN</td>\n",
       "      <td>NaN</td>\n",
       "      <td>NaN</td>\n",
       "      <td>NaN</td>\n",
       "      <td>NaN</td>\n",
       "      <td>NaN</td>\n",
       "      <td>189</td>\n",
       "      <td>87454</td>\n",
       "      <td>2</td>\n",
       "      <td>5</td>\n",
       "      <td>2018</td>\n",
       "      <td>другой</td>\n",
       "      <td>NaN</td>\n",
       "    </tr>\n",
       "    <tr>\n",
       "      <th>9</th>\n",
       "      <td>18</td>\n",
       "      <td>5400000</td>\n",
       "      <td>61.00</td>\n",
       "      <td>2017-02-26</td>\n",
       "      <td>3</td>\n",
       "      <td>2.50</td>\n",
       "      <td>9.00</td>\n",
       "      <td>43.60</td>\n",
       "      <td>7</td>\n",
       "      <td>False</td>\n",
       "      <td>False</td>\n",
       "      <td>False</td>\n",
       "      <td>6.50</td>\n",
       "      <td>2</td>\n",
       "      <td>Санкт-Петербург</td>\n",
       "      <td>50898.00</td>\n",
       "      <td>15008.00</td>\n",
       "      <td>0.00</td>\n",
       "      <td>NaN</td>\n",
       "      <td>0.00</td>\n",
       "      <td>NaN</td>\n",
       "      <td>289</td>\n",
       "      <td>88524</td>\n",
       "      <td>6</td>\n",
       "      <td>2</td>\n",
       "      <td>2017</td>\n",
       "      <td>другой</td>\n",
       "      <td>15.00</td>\n",
       "    </tr>\n",
       "    <tr>\n",
       "      <th>10</th>\n",
       "      <td>5</td>\n",
       "      <td>5050000</td>\n",
       "      <td>39.60</td>\n",
       "      <td>2017-11-16</td>\n",
       "      <td>1</td>\n",
       "      <td>2.67</td>\n",
       "      <td>12.00</td>\n",
       "      <td>20.30</td>\n",
       "      <td>3</td>\n",
       "      <td>False</td>\n",
       "      <td>False</td>\n",
       "      <td>False</td>\n",
       "      <td>8.50</td>\n",
       "      <td>0</td>\n",
       "      <td>Санкт-Петербург</td>\n",
       "      <td>38357.00</td>\n",
       "      <td>13878.00</td>\n",
       "      <td>1.00</td>\n",
       "      <td>310.00</td>\n",
       "      <td>2.00</td>\n",
       "      <td>553.00</td>\n",
       "      <td>137</td>\n",
       "      <td>127525</td>\n",
       "      <td>3</td>\n",
       "      <td>11</td>\n",
       "      <td>2017</td>\n",
       "      <td>другой</td>\n",
       "      <td>14.00</td>\n",
       "    </tr>\n",
       "    <tr>\n",
       "      <th>11</th>\n",
       "      <td>9</td>\n",
       "      <td>3300000</td>\n",
       "      <td>44.00</td>\n",
       "      <td>2018-08-27</td>\n",
       "      <td>2</td>\n",
       "      <td>2.65</td>\n",
       "      <td>5.00</td>\n",
       "      <td>31.00</td>\n",
       "      <td>4</td>\n",
       "      <td>False</td>\n",
       "      <td>False</td>\n",
       "      <td>False</td>\n",
       "      <td>6.00</td>\n",
       "      <td>1</td>\n",
       "      <td>Ломоносов</td>\n",
       "      <td>48252.00</td>\n",
       "      <td>51677.00</td>\n",
       "      <td>0.00</td>\n",
       "      <td>NaN</td>\n",
       "      <td>0.00</td>\n",
       "      <td>NaN</td>\n",
       "      <td>7</td>\n",
       "      <td>75000</td>\n",
       "      <td>0</td>\n",
       "      <td>8</td>\n",
       "      <td>2018</td>\n",
       "      <td>другой</td>\n",
       "      <td>52.00</td>\n",
       "    </tr>\n",
       "    <tr>\n",
       "      <th>12</th>\n",
       "      <td>10</td>\n",
       "      <td>3890000</td>\n",
       "      <td>54.00</td>\n",
       "      <td>2016-06-30</td>\n",
       "      <td>2</td>\n",
       "      <td>2.65</td>\n",
       "      <td>5.00</td>\n",
       "      <td>30.00</td>\n",
       "      <td>5</td>\n",
       "      <td>False</td>\n",
       "      <td>False</td>\n",
       "      <td>False</td>\n",
       "      <td>9.00</td>\n",
       "      <td>0</td>\n",
       "      <td>Сертолово</td>\n",
       "      <td>NaN</td>\n",
       "      <td>NaN</td>\n",
       "      <td>NaN</td>\n",
       "      <td>NaN</td>\n",
       "      <td>NaN</td>\n",
       "      <td>NaN</td>\n",
       "      <td>90</td>\n",
       "      <td>72037</td>\n",
       "      <td>3</td>\n",
       "      <td>6</td>\n",
       "      <td>2016</td>\n",
       "      <td>последний</td>\n",
       "      <td>NaN</td>\n",
       "    </tr>\n",
       "    <tr>\n",
       "      <th>13</th>\n",
       "      <td>20</td>\n",
       "      <td>3550000</td>\n",
       "      <td>42.80</td>\n",
       "      <td>2017-07-01</td>\n",
       "      <td>2</td>\n",
       "      <td>2.56</td>\n",
       "      <td>5.00</td>\n",
       "      <td>27.00</td>\n",
       "      <td>5</td>\n",
       "      <td>False</td>\n",
       "      <td>False</td>\n",
       "      <td>False</td>\n",
       "      <td>5.20</td>\n",
       "      <td>1</td>\n",
       "      <td>Петергоф</td>\n",
       "      <td>37868.00</td>\n",
       "      <td>33058.00</td>\n",
       "      <td>1.00</td>\n",
       "      <td>294.00</td>\n",
       "      <td>3.00</td>\n",
       "      <td>298.00</td>\n",
       "      <td>366</td>\n",
       "      <td>82943</td>\n",
       "      <td>5</td>\n",
       "      <td>7</td>\n",
       "      <td>2017</td>\n",
       "      <td>последний</td>\n",
       "      <td>33.00</td>\n",
       "    </tr>\n",
       "    <tr>\n",
       "      <th>14</th>\n",
       "      <td>1</td>\n",
       "      <td>4400000</td>\n",
       "      <td>36.00</td>\n",
       "      <td>2016-06-23</td>\n",
       "      <td>1</td>\n",
       "      <td>2.65</td>\n",
       "      <td>6.00</td>\n",
       "      <td>17.00</td>\n",
       "      <td>1</td>\n",
       "      <td>False</td>\n",
       "      <td>False</td>\n",
       "      <td>False</td>\n",
       "      <td>8.00</td>\n",
       "      <td>0</td>\n",
       "      <td>Пушкин</td>\n",
       "      <td>20782.00</td>\n",
       "      <td>30759.00</td>\n",
       "      <td>0.00</td>\n",
       "      <td>NaN</td>\n",
       "      <td>1.00</td>\n",
       "      <td>96.00</td>\n",
       "      <td>203</td>\n",
       "      <td>122222</td>\n",
       "      <td>3</td>\n",
       "      <td>6</td>\n",
       "      <td>2016</td>\n",
       "      <td>первый</td>\n",
       "      <td>31.00</td>\n",
       "    </tr>\n",
       "    <tr>\n",
       "      <th>15</th>\n",
       "      <td>16</td>\n",
       "      <td>4650000</td>\n",
       "      <td>39.00</td>\n",
       "      <td>2017-11-18</td>\n",
       "      <td>1</td>\n",
       "      <td>2.65</td>\n",
       "      <td>14.00</td>\n",
       "      <td>20.50</td>\n",
       "      <td>5</td>\n",
       "      <td>False</td>\n",
       "      <td>False</td>\n",
       "      <td>False</td>\n",
       "      <td>7.60</td>\n",
       "      <td>1</td>\n",
       "      <td>Санкт-Петербург</td>\n",
       "      <td>12900.00</td>\n",
       "      <td>14259.00</td>\n",
       "      <td>1.00</td>\n",
       "      <td>590.00</td>\n",
       "      <td>1.00</td>\n",
       "      <td>296.00</td>\n",
       "      <td>19</td>\n",
       "      <td>119230</td>\n",
       "      <td>5</td>\n",
       "      <td>11</td>\n",
       "      <td>2017</td>\n",
       "      <td>другой</td>\n",
       "      <td>14.00</td>\n",
       "    </tr>\n",
       "    <tr>\n",
       "      <th>16</th>\n",
       "      <td>11</td>\n",
       "      <td>6700000</td>\n",
       "      <td>82.00</td>\n",
       "      <td>2017-11-23</td>\n",
       "      <td>3</td>\n",
       "      <td>3.05</td>\n",
       "      <td>5.00</td>\n",
       "      <td>55.60</td>\n",
       "      <td>1</td>\n",
       "      <td>False</td>\n",
       "      <td>False</td>\n",
       "      <td>False</td>\n",
       "      <td>9.00</td>\n",
       "      <td>0</td>\n",
       "      <td>Санкт-Петербург</td>\n",
       "      <td>22108.00</td>\n",
       "      <td>10698.00</td>\n",
       "      <td>3.00</td>\n",
       "      <td>420.00</td>\n",
       "      <td>0.00</td>\n",
       "      <td>NaN</td>\n",
       "      <td>397</td>\n",
       "      <td>81707</td>\n",
       "      <td>3</td>\n",
       "      <td>11</td>\n",
       "      <td>2017</td>\n",
       "      <td>первый</td>\n",
       "      <td>11.00</td>\n",
       "    </tr>\n",
       "    <tr>\n",
       "      <th>17</th>\n",
       "      <td>6</td>\n",
       "      <td>4180000</td>\n",
       "      <td>36.00</td>\n",
       "      <td>2016-09-09</td>\n",
       "      <td>1</td>\n",
       "      <td>2.65</td>\n",
       "      <td>17.00</td>\n",
       "      <td>16.50</td>\n",
       "      <td>7</td>\n",
       "      <td>False</td>\n",
       "      <td>False</td>\n",
       "      <td>False</td>\n",
       "      <td>11.00</td>\n",
       "      <td>1</td>\n",
       "      <td>Санкт-Петербург</td>\n",
       "      <td>33564.00</td>\n",
       "      <td>14616.00</td>\n",
       "      <td>0.00</td>\n",
       "      <td>NaN</td>\n",
       "      <td>1.00</td>\n",
       "      <td>859.00</td>\n",
       "      <td>571</td>\n",
       "      <td>116111</td>\n",
       "      <td>4</td>\n",
       "      <td>9</td>\n",
       "      <td>2016</td>\n",
       "      <td>другой</td>\n",
       "      <td>15.00</td>\n",
       "    </tr>\n",
       "    <tr>\n",
       "      <th>18</th>\n",
       "      <td>8</td>\n",
       "      <td>3250000</td>\n",
       "      <td>31.00</td>\n",
       "      <td>2017-01-27</td>\n",
       "      <td>1</td>\n",
       "      <td>2.50</td>\n",
       "      <td>5.00</td>\n",
       "      <td>19.40</td>\n",
       "      <td>2</td>\n",
       "      <td>False</td>\n",
       "      <td>False</td>\n",
       "      <td>False</td>\n",
       "      <td>5.60</td>\n",
       "      <td>1</td>\n",
       "      <td>Санкт-Петербург</td>\n",
       "      <td>44060.00</td>\n",
       "      <td>10842.00</td>\n",
       "      <td>1.00</td>\n",
       "      <td>759.00</td>\n",
       "      <td>0.00</td>\n",
       "      <td>NaN</td>\n",
       "      <td>168</td>\n",
       "      <td>104838</td>\n",
       "      <td>4</td>\n",
       "      <td>1</td>\n",
       "      <td>2017</td>\n",
       "      <td>другой</td>\n",
       "      <td>11.00</td>\n",
       "    </tr>\n",
       "    <tr>\n",
       "      <th>19</th>\n",
       "      <td>16</td>\n",
       "      <td>14200000</td>\n",
       "      <td>121.00</td>\n",
       "      <td>2019-01-09</td>\n",
       "      <td>3</td>\n",
       "      <td>2.75</td>\n",
       "      <td>16.00</td>\n",
       "      <td>76.00</td>\n",
       "      <td>8</td>\n",
       "      <td>False</td>\n",
       "      <td>False</td>\n",
       "      <td>False</td>\n",
       "      <td>12.00</td>\n",
       "      <td>0</td>\n",
       "      <td>Санкт-Петербург</td>\n",
       "      <td>38900.00</td>\n",
       "      <td>12843.00</td>\n",
       "      <td>0.00</td>\n",
       "      <td>NaN</td>\n",
       "      <td>0.00</td>\n",
       "      <td>NaN</td>\n",
       "      <td>97</td>\n",
       "      <td>117355</td>\n",
       "      <td>2</td>\n",
       "      <td>1</td>\n",
       "      <td>2019</td>\n",
       "      <td>другой</td>\n",
       "      <td>13.00</td>\n",
       "    </tr>\n",
       "  </tbody>\n",
       "</table>\n",
       "</div>"
      ],
      "text/plain": [
       "    total_images  last_price  total_area first_day_exposition  rooms  \\\n",
       "0             20    13000000      108.00           2019-03-07      3   \n",
       "1              7     3350000       40.40           2018-12-04      1   \n",
       "2             10     5196000       56.00           2015-08-20      2   \n",
       "3              0    64900000      159.00           2015-07-24      3   \n",
       "4              2    10000000      100.00           2018-06-19      2   \n",
       "5             10     2890000       30.40           2018-09-10      1   \n",
       "6              6     3700000       37.30           2017-11-02      1   \n",
       "7              5     7915000       71.60           2019-04-18      2   \n",
       "8             20     2900000       33.16           2018-05-23      1   \n",
       "9             18     5400000       61.00           2017-02-26      3   \n",
       "10             5     5050000       39.60           2017-11-16      1   \n",
       "11             9     3300000       44.00           2018-08-27      2   \n",
       "12            10     3890000       54.00           2016-06-30      2   \n",
       "13            20     3550000       42.80           2017-07-01      2   \n",
       "14             1     4400000       36.00           2016-06-23      1   \n",
       "15            16     4650000       39.00           2017-11-18      1   \n",
       "16            11     6700000       82.00           2017-11-23      3   \n",
       "17             6     4180000       36.00           2016-09-09      1   \n",
       "18             8     3250000       31.00           2017-01-27      1   \n",
       "19            16    14200000      121.00           2019-01-09      3   \n",
       "\n",
       "    ceiling_height  floors_total  living_area  floor  is_apartment  studio  \\\n",
       "0             2.70         16.00        51.00      8         False   False   \n",
       "1             2.65         11.00        18.60      1         False   False   \n",
       "2             2.65          5.00        34.30      4         False   False   \n",
       "3             2.65         14.00        91.21      9         False   False   \n",
       "4             3.03         14.00        32.00     13         False   False   \n",
       "5             2.65         12.00        14.40      5         False   False   \n",
       "6             2.65         26.00        10.60      6         False   False   \n",
       "7             2.65         24.00        41.07     22         False   False   \n",
       "8             2.65         27.00        15.43     26         False   False   \n",
       "9             2.50          9.00        43.60      7         False   False   \n",
       "10            2.67         12.00        20.30      3         False   False   \n",
       "11            2.65          5.00        31.00      4         False   False   \n",
       "12            2.65          5.00        30.00      5         False   False   \n",
       "13            2.56          5.00        27.00      5         False   False   \n",
       "14            2.65          6.00        17.00      1         False   False   \n",
       "15            2.65         14.00        20.50      5         False   False   \n",
       "16            3.05          5.00        55.60      1         False   False   \n",
       "17            2.65         17.00        16.50      7         False   False   \n",
       "18            2.50          5.00        19.40      2         False   False   \n",
       "19            2.75         16.00        76.00      8         False   False   \n",
       "\n",
       "    open_plan  kitchen_area  balcony              locality_name  \\\n",
       "0       False         25.00        0            Санкт-Петербург   \n",
       "1       False         11.00        2             посёлок Шушары   \n",
       "2       False          8.30        0            Санкт-Петербург   \n",
       "3       False         27.66        0            Санкт-Петербург   \n",
       "4       False         41.00        0            Санкт-Петербург   \n",
       "5       False          9.10        0  городской посёлок Янино-1   \n",
       "6       False         14.40        1          посёлок Парголово   \n",
       "7       False         18.90        2            Санкт-Петербург   \n",
       "8       False          8.81        0             посёлок Мурино   \n",
       "9       False          6.50        2            Санкт-Петербург   \n",
       "10      False          8.50        0            Санкт-Петербург   \n",
       "11      False          6.00        1                  Ломоносов   \n",
       "12      False          9.00        0                  Сертолово   \n",
       "13      False          5.20        1                   Петергоф   \n",
       "14      False          8.00        0                     Пушкин   \n",
       "15      False          7.60        1            Санкт-Петербург   \n",
       "16      False          9.00        0            Санкт-Петербург   \n",
       "17      False         11.00        1            Санкт-Петербург   \n",
       "18      False          5.60        1            Санкт-Петербург   \n",
       "19      False         12.00        0            Санкт-Петербург   \n",
       "\n",
       "    airports_nearest  city_сenters_nearest  parks_around3000  parks_nearest  \\\n",
       "0           18863.00              16028.00              1.00         482.00   \n",
       "1           12817.00              18603.00              0.00            NaN   \n",
       "2           21741.00              13933.00              1.00          90.00   \n",
       "3           28098.00               6800.00              2.00          84.00   \n",
       "4           31856.00               8098.00              2.00         112.00   \n",
       "5                NaN                   NaN               NaN            NaN   \n",
       "6           52996.00              19143.00              0.00            NaN   \n",
       "7           23982.00              11634.00              0.00            NaN   \n",
       "8                NaN                   NaN               NaN            NaN   \n",
       "9           50898.00              15008.00              0.00            NaN   \n",
       "10          38357.00              13878.00              1.00         310.00   \n",
       "11          48252.00              51677.00              0.00            NaN   \n",
       "12               NaN                   NaN               NaN            NaN   \n",
       "13          37868.00              33058.00              1.00         294.00   \n",
       "14          20782.00              30759.00              0.00            NaN   \n",
       "15          12900.00              14259.00              1.00         590.00   \n",
       "16          22108.00              10698.00              3.00         420.00   \n",
       "17          33564.00              14616.00              0.00            NaN   \n",
       "18          44060.00              10842.00              1.00         759.00   \n",
       "19          38900.00              12843.00              0.00            NaN   \n",
       "\n",
       "    ponds_around3000  ponds_nearest  days_exposition  price_per_area  \\\n",
       "0               2.00         755.00                1          120370   \n",
       "1               0.00            NaN               81           82920   \n",
       "2               2.00         574.00              558           92785   \n",
       "3               3.00         234.00              424          408176   \n",
       "4               1.00          48.00              121          100000   \n",
       "5                NaN            NaN               55           95065   \n",
       "6               0.00            NaN              155           99195   \n",
       "7               0.00            NaN                1          110544   \n",
       "8                NaN            NaN              189           87454   \n",
       "9               0.00            NaN              289           88524   \n",
       "10              2.00         553.00              137          127525   \n",
       "11              0.00            NaN                7           75000   \n",
       "12               NaN            NaN               90           72037   \n",
       "13              3.00         298.00              366           82943   \n",
       "14              1.00          96.00              203          122222   \n",
       "15              1.00         296.00               19          119230   \n",
       "16              0.00            NaN              397           81707   \n",
       "17              1.00         859.00              571          116111   \n",
       "18              0.00            NaN              168          104838   \n",
       "19              0.00            NaN               97          117355   \n",
       "\n",
       "    weekday_exposition  month_exposition  year_exposition floor_category  \\\n",
       "0                    3                 3             2019         другой   \n",
       "1                    1                12             2018         первый   \n",
       "2                    3                 8             2015         другой   \n",
       "3                    4                 7             2015         другой   \n",
       "4                    1                 6             2018         другой   \n",
       "5                    0                 9             2018         другой   \n",
       "6                    3                11             2017         другой   \n",
       "7                    3                 4             2019         другой   \n",
       "8                    2                 5             2018         другой   \n",
       "9                    6                 2             2017         другой   \n",
       "10                   3                11             2017         другой   \n",
       "11                   0                 8             2018         другой   \n",
       "12                   3                 6             2016      последний   \n",
       "13                   5                 7             2017      последний   \n",
       "14                   3                 6             2016         первый   \n",
       "15                   5                11             2017         другой   \n",
       "16                   3                11             2017         первый   \n",
       "17                   4                 9             2016         другой   \n",
       "18                   4                 1             2017         другой   \n",
       "19                   2                 1             2019         другой   \n",
       "\n",
       "    city_сenters_nearest_km  \n",
       "0                     16.00  \n",
       "1                     19.00  \n",
       "2                     14.00  \n",
       "3                      7.00  \n",
       "4                      8.00  \n",
       "5                       NaN  \n",
       "6                     19.00  \n",
       "7                     12.00  \n",
       "8                       NaN  \n",
       "9                     15.00  \n",
       "10                    14.00  \n",
       "11                    52.00  \n",
       "12                      NaN  \n",
       "13                    33.00  \n",
       "14                    31.00  \n",
       "15                    14.00  \n",
       "16                    11.00  \n",
       "17                    15.00  \n",
       "18                    11.00  \n",
       "19                    13.00  "
      ]
     },
     "execution_count": 39,
     "metadata": {},
     "output_type": "execute_result"
    }
   ],
   "source": [
    "data.head(20)"
   ]
  },
  {
   "cell_type": "code",
   "execution_count": 40,
   "metadata": {},
   "outputs": [
    {
     "data": {
      "image/png": "[encoded data removed]",
      "text/plain": [
       "<Figure size 360x216 with 1 Axes>"
      ]
     },
     "metadata": {
      "needs_background": "light"
     },
     "output_type": "display_data"
    }
   ],
   "source": [
    "data.plot(y = 'last_price', kind = 'hist', bins = 100, grid=True, figsize = (5,3), range = (0,20000000))\n",
    "data['last_price'].describe()\n",
    "plt.title('Цена объекта', fontweight='normal', color='k', fontsize=14)\n",
    "plt.show()"
   ]
  },
  {
   "cell_type": "code",
   "execution_count": 41,
   "metadata": {
    "scrolled": false
   },
   "outputs": [
    {
     "data": {
      "text/plain": [
       "(-2.0, 20000000.0)"
      ]
     },
     "execution_count": 41,
     "metadata": {},
     "output_type": "execute_result"
    },
    {
     "data": {
      "image/png": "[encoded data removed]",
      "text/plain": [
       "<Figure size 432x288 with 1 Axes>"
      ]
     },
     "metadata": {
      "needs_background": "light"
     },
     "output_type": "display_data"
    }
   ],
   "source": [
    "data.boxplot(column='last_price')\n",
    "plt.title('Стоимость', fontweight='normal', color='k', fontsize=14)\n",
    "plt.ylim(-2, 20000000)"
   ]
  },
  {
   "cell_type": "markdown",
   "metadata": {},
   "source": [
    "Нормальные цены укладываются примерно до 12 млн."
   ]
  },
  {
   "cell_type": "markdown",
   "metadata": {},
   "source": [
    "Количество комнат"
   ]
  },
  {
   "cell_type": "code",
   "execution_count": 42,
   "metadata": {},
   "outputs": [
    {
     "data": {
      "image/png": "[encoded data removed]",
      "text/plain": [
       "<Figure size 720x504 with 1 Axes>"
      ]
     },
     "metadata": {
      "needs_background": "light"
     },
     "output_type": "display_data"
    }
   ],
   "source": [
    "data.plot(y = 'rooms', kind = 'hist', bins = 40, grid=True, figsize = (10,7))\n",
    "data['rooms'].describe()\n",
    "plt.title('Количество комнат', fontweight='normal', color='k', fontsize=14)\n",
    "plt.show()"
   ]
  },
  {
   "cell_type": "code",
   "execution_count": 43,
   "metadata": {},
   "outputs": [
    {
     "data": {
      "text/plain": [
       "(-5.0, 25.0)"
      ]
     },
     "execution_count": 43,
     "metadata": {},
     "output_type": "execute_result"
    },
    {
     "data": {
      "image/png": "[encoded data removed]",
      "text/plain": [
       "<Figure size 432x288 with 1 Axes>"
      ]
     },
     "metadata": {
      "needs_background": "light"
     },
     "output_type": "display_data"
    }
   ],
   "source": [
    "data.boxplot(column='rooms')\n",
    "plt.title('Количество комнат', fontweight='normal', color='k', fontsize=14)\n",
    "plt.ylim(-5, 25)"
   ]
  },
  {
   "cell_type": "markdown",
   "metadata": {},
   "source": [
    "Диапозон нормального количества комнат это от 0 до 6"
   ]
  },
  {
   "cell_type": "markdown",
   "metadata": {},
   "source": [
    "Высота потолков"
   ]
  },
  {
   "cell_type": "code",
   "execution_count": 44,
   "metadata": {},
   "outputs": [
    {
     "data": {
      "image/png": "[encoded data removed]",
      "text/plain": [
       "<Figure size 720x504 with 1 Axes>"
      ]
     },
     "metadata": {
      "needs_background": "light"
     },
     "output_type": "display_data"
    }
   ],
   "source": [
    "data.plot(y = 'ceiling_height', kind = 'hist', bins = 30, range = (2,4), grid=True, figsize = (10,7))\n",
    "data['ceiling_height'].describe()\n",
    "plt.title('Высота потолка', fontweight='normal', color='k', fontsize=14)\n",
    "plt.show()"
   ]
  },
  {
   "cell_type": "code",
   "execution_count": 45,
   "metadata": {},
   "outputs": [
    {
     "data": {
      "text/plain": [
       "(1.0, 5.0)"
      ]
     },
     "execution_count": 45,
     "metadata": {},
     "output_type": "execute_result"
    },
    {
     "data": {
      "image/png": "[encoded data removed]",
      "text/plain": [
       "<Figure size 432x288 with 1 Axes>"
      ]
     },
     "metadata": {
      "needs_background": "light"
     },
     "output_type": "display_data"
    }
   ],
   "source": [
    "data.boxplot(column='ceiling_height')\n",
    "plt.title('Высота потолков', fontweight='normal', color='k', fontsize=14)\n",
    "plt.ylim(1, 5)"
   ]
  },
  {
   "cell_type": "markdown",
   "metadata": {},
   "source": [
    "Стандартные потолки у нас от 2,5 м до 2,85"
   ]
  },
  {
   "cell_type": "markdown",
   "metadata": {},
   "source": [
    "Этаж квартиры"
   ]
  },
  {
   "cell_type": "code",
   "execution_count": 46,
   "metadata": {},
   "outputs": [
    {
     "data": {
      "image/png": "[encoded data removed]",
      "text/plain": [
       "<Figure size 360x216 with 1 Axes>"
      ]
     },
     "metadata": {
      "needs_background": "light"
     },
     "output_type": "display_data"
    }
   ],
   "source": [
    "data.plot(y = 'floor', kind = 'hist', bins = 26, grid=True, figsize = (5,3), range = (0,26))\n",
    "data['floor'].describe()\n",
    "plt.title('Этаж', fontweight='normal', color='k', fontsize=14)\n",
    "plt.show()"
   ]
  },
  {
   "cell_type": "code",
   "execution_count": 47,
   "metadata": {},
   "outputs": [
    {
     "data": {
      "text/plain": [
       "(1.0, 25.0)"
      ]
     },
     "execution_count": 47,
     "metadata": {},
     "output_type": "execute_result"
    },
    {
     "data": {
      "image/png": "[encoded data removed]",
      "text/plain": [
       "<Figure size 432x288 with 1 Axes>"
      ]
     },
     "metadata": {
      "needs_background": "light"
     },
     "output_type": "display_data"
    }
   ],
   "source": [
    "data.boxplot(column='floor')\n",
    "plt.title('Этаж', fontweight='normal', color='k', fontsize=14)\n",
    "plt.ylim(1, 25)"
   ]
  },
  {
   "cell_type": "markdown",
   "metadata": {},
   "source": [
    "До 17 этажа это норма,то что выше это уже высотки. Самые распространенные значения от 0 до 6"
   ]
  },
  {
   "cell_type": "markdown",
   "metadata": {},
   "source": [
    "общее количество этажей в доме"
   ]
  },
  {
   "cell_type": "code",
   "execution_count": 48,
   "metadata": {},
   "outputs": [
    {
     "data": {
      "image/png": "[encoded data removed]",
      "text/plain": [
       "<Figure size 360x216 with 1 Axes>"
      ]
     },
     "metadata": {
      "needs_background": "light"
     },
     "output_type": "display_data"
    }
   ],
   "source": [
    "data.plot(y = 'floors_total', kind = 'hist', bins = 26, grid=True, figsize = (5,3), range = (0,26))\n",
    "data['floors_total'].describe()\n",
    "plt.title('общее количество этажей в доме', fontweight='normal', color='k', fontsize=14)\n",
    "plt.show()"
   ]
  },
  {
   "cell_type": "code",
   "execution_count": 49,
   "metadata": {
    "scrolled": true
   },
   "outputs": [
    {
     "data": {
      "text/plain": [
       "(-2.0, 40.0)"
      ]
     },
     "execution_count": 49,
     "metadata": {},
     "output_type": "execute_result"
    },
    {
     "data": {
      "image/png": "[encoded data removed]",
      "text/plain": [
       "<Figure size 432x288 with 1 Axes>"
      ]
     },
     "metadata": {
      "needs_background": "light"
     },
     "output_type": "display_data"
    }
   ],
   "source": [
    "data.boxplot(column='floors_total')\n",
    "plt.title('Общее количество этажей', fontweight='normal', color='k', fontsize=14)\n",
    "plt.ylim(-2, 40)"
   ]
  },
  {
   "cell_type": "markdown",
   "metadata": {},
   "source": [
    "Самые распространенные у нас пятиэтажки и девятиэтажки"
   ]
  },
  {
   "cell_type": "markdown",
   "metadata": {},
   "source": [
    "расстояние до центра города в метрах"
   ]
  },
  {
   "cell_type": "code",
   "execution_count": 50,
   "metadata": {},
   "outputs": [
    {
     "data": {
      "image/png": "[encoded data removed]",
      "text/plain": [
       "<Figure size 360x216 with 1 Axes>"
      ]
     },
     "metadata": {
      "needs_background": "light"
     },
     "output_type": "display_data"
    }
   ],
   "source": [
    "data.plot(y = 'city_сenters_nearest', kind = 'hist', bins = 25, grid=True, figsize = (5,3), range = (0,30000))\n",
    "data['city_сenters_nearest'].describe()\n",
    "plt.title('расстояние до центра города в метрах', fontweight='normal', color='k', fontsize=14)\n",
    "plt.show()"
   ]
  },
  {
   "cell_type": "code",
   "execution_count": 51,
   "metadata": {},
   "outputs": [
    {
     "data": {
      "text/plain": [
       "(-2.0, 40000.0)"
      ]
     },
     "execution_count": 51,
     "metadata": {},
     "output_type": "execute_result"
    },
    {
     "data": {
      "image/png": "[encoded data removed]",
      "text/plain": [
       "<Figure size 432x288 with 1 Axes>"
      ]
     },
     "metadata": {
      "needs_background": "light"
     },
     "output_type": "display_data"
    }
   ],
   "source": [
    "data.boxplot(column='city_сenters_nearest')\n",
    "plt.title('Расстояние до центра города', fontweight='normal', color='k', fontsize=14)\n",
    "plt.ylim(-2, 40000)"
   ]
  },
  {
   "cell_type": "markdown",
   "metadata": {},
   "source": [
    "Саммые расспространенные значения лежат в диапозоне от 11 000 м до 17 500 м"
   ]
  },
  {
   "cell_type": "markdown",
   "metadata": {},
   "source": [
    "расстояние до ближайшего аэропорта"
   ]
  },
  {
   "cell_type": "code",
   "execution_count": 52,
   "metadata": {},
   "outputs": [
    {
     "data": {
      "image/png": "[encoded data removed]",
      "text/plain": [
       "<Figure size 576x216 with 1 Axes>"
      ]
     },
     "metadata": {
      "needs_background": "light"
     },
     "output_type": "display_data"
    }
   ],
   "source": [
    "data.plot(y = 'airports_nearest', kind = 'hist', bins = 30, grid=True, figsize = (8,3), range = (0,70000))\n",
    "data['airports_nearest'].describe()\n",
    "plt.title('расстояние до ближайшего аэропорта', fontweight='normal', color='k', fontsize=14)\n",
    "plt.show()"
   ]
  },
  {
   "cell_type": "code",
   "execution_count": 53,
   "metadata": {},
   "outputs": [
    {
     "data": {
      "text/plain": [
       "(-2.0, 80000.0)"
      ]
     },
     "execution_count": 53,
     "metadata": {},
     "output_type": "execute_result"
    },
    {
     "data": {
      "image/png": "[encoded data removed]",
      "text/plain": [
       "<Figure size 432x288 with 1 Axes>"
      ]
     },
     "metadata": {
      "needs_background": "light"
     },
     "output_type": "display_data"
    }
   ],
   "source": [
    "data.boxplot(column='airports_nearest')\n",
    "plt.ylim(-2, 80000)"
   ]
  },
  {
   "cell_type": "markdown",
   "metadata": {},
   "source": [
    "График примерно равномерный, без явных выбросов"
   ]
  },
  {
   "cell_type": "markdown",
   "metadata": {},
   "source": [
    "расстояние до ближайшего парка"
   ]
  },
  {
   "cell_type": "code",
   "execution_count": 54,
   "metadata": {},
   "outputs": [
    {
     "data": {
      "image/png": "[encoded data removed]",
      "text/plain": [
       "<Figure size 576x216 with 1 Axes>"
      ]
     },
     "metadata": {
      "needs_background": "light"
     },
     "output_type": "display_data"
    }
   ],
   "source": [
    "data.plot(y = 'parks_nearest', kind = 'hist', bins = 30, grid=True, figsize = (8,3), range = (0,2000))\n",
    "data['parks_nearest'].describe()\n",
    "plt.title('расстояние до ближайшего парка', fontweight='normal', color='k', fontsize=14)\n",
    "plt.show()"
   ]
  },
  {
   "cell_type": "code",
   "execution_count": 55,
   "metadata": {},
   "outputs": [
    {
     "data": {
      "text/plain": [
       "(-2.0, 4000.0)"
      ]
     },
     "execution_count": 55,
     "metadata": {},
     "output_type": "execute_result"
    },
    {
     "data": {
      "image/png": "[encoded data removed]",
      "text/plain": [
       "<Figure size 432x288 with 1 Axes>"
      ]
     },
     "metadata": {
      "needs_background": "light"
     },
     "output_type": "display_data"
    }
   ],
   "source": [
    "data.boxplot(column='parks_nearest')\n",
    "plt.title('Расстояние до ближайшего парка', fontweight='normal', color='k', fontsize=14)\n",
    "plt.ylim(-2, 4000)"
   ]
  },
  {
   "cell_type": "markdown",
   "metadata": {},
   "source": [
    "Примерно в радиусе километра можно найти парк где можно прогуляться"
   ]
  },
  {
   "cell_type": "markdown",
   "metadata": {},
   "source": [
    "День публикации объявления"
   ]
  },
  {
   "cell_type": "code",
   "execution_count": 56,
   "metadata": {},
   "outputs": [
    {
     "data": {
      "image/png": "[encoded data removed]",
      "text/plain": [
       "<Figure size 576x216 with 1 Axes>"
      ]
     },
     "metadata": {
      "needs_background": "light"
     },
     "output_type": "display_data"
    }
   ],
   "source": [
    "data.plot(y = 'weekday_exposition', kind = 'hist', bins = 20, grid=True, figsize = (8,3), range = (0,8))\n",
    "data['weekday_exposition'].describe()\n",
    "plt.title('День публикации объявления', fontweight='normal', color='k', fontsize=14)\n",
    "plt.show()"
   ]
  },
  {
   "cell_type": "markdown",
   "metadata": {},
   "source": [
    "Где 0 это понедельник, 5 и 6 это суббота и воскресенье соответственно. На выходных меньше выкладывают объявления"
   ]
  },
  {
   "cell_type": "markdown",
   "metadata": {},
   "source": [
    "месяц публикации объявления"
   ]
  },
  {
   "cell_type": "code",
   "execution_count": 57,
   "metadata": {},
   "outputs": [
    {
     "data": {
      "image/png": "[encoded data removed]",
      "text/plain": [
       "<Figure size 576x216 with 1 Axes>"
      ]
     },
     "metadata": {
      "needs_background": "light"
     },
     "output_type": "display_data"
    }
   ],
   "source": [
    "data.plot(y = 'month_exposition', kind = 'hist', bins = 12, grid=True, figsize = (8,3), range = (0,12))\n",
    "data['month_exposition'].describe()\n",
    "plt.title('месяц публикации объявления', fontweight='normal', color='k', fontsize=14)\n",
    "plt.show()"
   ]
  },
  {
   "cell_type": "markdown",
   "metadata": {},
   "source": [
    "Заметен наибольшей рост публикаций в декабре"
   ]
  },
  {
   "cell_type": "markdown",
   "metadata": {},
   "source": []
  },
  {
   "cell_type": "markdown",
   "metadata": {},
   "source": [
    "2. Изучите, как быстро продавались квартиры (столбец days_exposition). Этот параметр показывает, сколько дней было размещено каждое объявление. "
   ]
  },
  {
   "cell_type": "code",
   "execution_count": 58,
   "metadata": {},
   "outputs": [
    {
     "data": {
      "text/plain": [
       "count   23565.00\n",
       "mean      156.55\n",
       "std       213.42\n",
       "min         1.00\n",
       "25%        22.00\n",
       "50%        73.00\n",
       "75%       198.00\n",
       "max      1580.00\n",
       "Name: days_exposition, dtype: float64"
      ]
     },
     "execution_count": 58,
     "metadata": {},
     "output_type": "execute_result"
    },
    {
     "data": {
      "image/png": "[encoded data removed]",
      "text/plain": [
       "<Figure size 432x288 with 1 Axes>"
      ]
     },
     "metadata": {
      "needs_background": "light"
     },
     "output_type": "display_data"
    },
    {
     "data": {
      "image/png": "[encoded data removed]",
      "text/plain": [
       "<Figure size 432x288 with 1 Axes>"
      ]
     },
     "metadata": {
      "needs_background": "light"
     },
     "output_type": "display_data"
    },
    {
     "data": {
      "image/png": "[encoded data removed]",
      "text/plain": [
       "<Figure size 432x288 with 1 Axes>"
      ]
     },
     "metadata": {
      "needs_background": "light"
     },
     "output_type": "display_data"
    }
   ],
   "source": [
    "data.boxplot(column='days_exposition')\n",
    "plt.ylim(-10,1000)\n",
    "\n",
    "data.plot(y = 'days_exposition', kind = 'hist', bins = 30, grid = True, range = (-10,1600))\n",
    "data.plot(y = 'days_exposition', kind = 'hist', bins = 100, grid = True, range = (-10,200))\n",
    "data['days_exposition'].describe()"
   ]
  },
  {
   "cell_type": "markdown",
   "metadata": {},
   "source": [
    "Сделав гистограмму со значениями от 0 до 200 , обнаружили выбивающиеся значения,у нас аномалии на 45, 60, 75, 90 днях - это наиболее популярное количество дней до снятия объявления. Может после этих сроков каждые 15 дней объявление снимается. Возможно сделки закрываются каждые 15 дней Быстрые продажи скорее всего до 45 дней до снятия объявления с публикации"
   ]
  },
  {
   "cell_type": "markdown",
   "metadata": {},
   "source": [
    "Уберу редкие значения создав переменную good_data"
   ]
  },
  {
   "cell_type": "code",
   "execution_count": 59,
   "metadata": {},
   "outputs": [
    {
     "data": {
      "text/plain": [
       "count   21880.00\n",
       "mean      164.27\n",
       "std       219.56\n",
       "min         1.00\n",
       "25%        19.00\n",
       "50%        83.00\n",
       "75%       215.00\n",
       "max      1580.00\n",
       "Name: days_exposition, dtype: float64"
      ]
     },
     "execution_count": 59,
     "metadata": {},
     "output_type": "execute_result"
    },
    {
     "data": {
      "image/png": "[encoded data removed]",
      "text/plain": [
       "<Figure size 432x288 with 1 Axes>"
      ]
     },
     "metadata": {
      "needs_background": "light"
     },
     "output_type": "display_data"
    },
    {
     "data": {
      "image/png": "[encoded data removed]",
      "text/plain": [
       "<Figure size 432x288 with 1 Axes>"
      ]
     },
     "metadata": {
      "needs_background": "light"
     },
     "output_type": "display_data"
    },
    {
     "data": {
      "image/png": "[encoded data removed]",
      "text/plain": [
       "<Figure size 432x288 with 1 Axes>"
      ]
     },
     "metadata": {
      "needs_background": "light"
     },
     "output_type": "display_data"
    }
   ],
   "source": [
    "good_data = data.query('days_exposition != 45 and days_exposition != 60 and days_exposition != 75 and days_exposition != 90 and days_exposition != 0')\n",
    "\n",
    "#диаграмма размаха\n",
    "plt.boxplot(good_data['days_exposition'])\n",
    "plt.ylim(1,1000)\n",
    "\n",
    "#гистограммы\n",
    "good_data.plot(y = 'days_exposition', kind = 'hist', bins = 30, grid = True, range = (1,1600))\n",
    "good_data.plot(y = 'days_exposition', kind = 'hist', bins = 100, grid = True, range = (1,200))\n",
    "\n",
    "#среднее значение, медиана и межквартильный размах\n",
    "#good_data['days_exposition'].value_counts()\n",
    "good_data['days_exposition'].describe()"
   ]
  },
  {
   "cell_type": "markdown",
   "metadata": {},
   "source": [
    "Представил графики без выбросов"
   ]
  },
  {
   "cell_type": "markdown",
   "metadata": {},
   "source": []
  },
  {
   "cell_type": "markdown",
   "metadata": {},
   "source": [
    "3 Какие факторы больше всего влияют на общую (полную) стоимость объекта?\n",
    " Изучите, зависит ли цена от:\n",
    "общей площади;\n",
    "жилой площади;\n",
    "площади кухни;\n",
    "количества комнат;\n",
    "этажа, на котором расположена квартира (первый, последний, другой);\n",
    "даты размещения (день недели, месяц, год).\n",
    "Постройте графики, которые покажут зависимость цены от указанных выше параметров. Для подготовки данных перед визуализацией вы можете использовать сводные таблицы."
   ]
  },
  {
   "cell_type": "markdown",
   "metadata": {},
   "source": [
    "Зависимость цены от общей площади"
   ]
  },
  {
   "cell_type": "code",
   "execution_count": 60,
   "metadata": {},
   "outputs": [
    {
     "data": {
      "text/plain": [
       "0.6536213939252808"
      ]
     },
     "execution_count": 60,
     "metadata": {},
     "output_type": "execute_result"
    },
    {
     "data": {
      "image/png": "[encoded data removed]",
      "text/plain": [
       "<Figure size 432x288 with 1 Axes>"
      ]
     },
     "metadata": {
      "needs_background": "light"
     },
     "output_type": "display_data"
    }
   ],
   "source": [
    "pivot_table_total_area = data.pivot_table(index = 'total_area', values = 'last_price', aggfunc = ['mean', 'count', 'median'])\n",
    "pivot_table_total_area.columns = ['mean', 'count', 'median']\n",
    "pivot_table_total_area.plot(y = 'median', style = 'o')\n",
    "\n",
    "pivot_table_total_area.sort_values('median', ascending = False)\n",
    "\n",
    "data['total_area'].corr(data['last_price'])"
   ]
  },
  {
   "cell_type": "markdown",
   "metadata": {},
   "source": [
    "зависимость достаточно высокая - корреляции Пирсона - 0.65. То есть, чем больше площадь соответственно увеличивается стоимость"
   ]
  },
  {
   "cell_type": "markdown",
   "metadata": {},
   "source": [
    "Зависимость цены от жилой площади"
   ]
  },
  {
   "cell_type": "code",
   "execution_count": 61,
   "metadata": {},
   "outputs": [
    {
     "data": {
      "text/plain": [
       "0.5857266472054451"
      ]
     },
     "execution_count": 61,
     "metadata": {},
     "output_type": "execute_result"
    },
    {
     "data": {
      "image/png": "[encoded data removed]",
      "text/plain": [
       "<Figure size 432x288 with 1 Axes>"
      ]
     },
     "metadata": {
      "needs_background": "light"
     },
     "output_type": "display_data"
    }
   ],
   "source": [
    "pivot_table_living_area = data.pivot_table(index = 'living_area', values = 'last_price', aggfunc = ['mean', 'count', 'median'])\n",
    "pivot_table_living_area.columns = ['mean', 'count', 'median']\n",
    "pivot_table_living_area.plot(y = 'median', style = 'o')\n",
    "\n",
    "pivot_table_living_area.sort_values('median', ascending = False)\n",
    "\n",
    "data['living_area'].corr(data['last_price'])"
   ]
  },
  {
   "cell_type": "markdown",
   "metadata": {},
   "source": [
    "Коэффициент корреляции Пирсона - 0.5857. Зависимость есть но уже меньше по сравнению с общей площадью"
   ]
  },
  {
   "cell_type": "markdown",
   "metadata": {},
   "source": [
    "Зависимость цены от площади кухни"
   ]
  },
  {
   "cell_type": "code",
   "execution_count": 62,
   "metadata": {},
   "outputs": [
    {
     "data": {
      "text/plain": [
       "0.5142587513932038"
      ]
     },
     "execution_count": 62,
     "metadata": {},
     "output_type": "execute_result"
    },
    {
     "data": {
      "image/png": "[encoded data removed]",
      "text/plain": [
       "<Figure size 432x288 with 1 Axes>"
      ]
     },
     "metadata": {
      "needs_background": "light"
     },
     "output_type": "display_data"
    }
   ],
   "source": [
    "pivot_table_kitchen_area = data.pivot_table(index = 'kitchen_area', values = 'last_price', aggfunc = ['mean', 'count', 'median'])\n",
    "pivot_table_kitchen_area.columns = ['mean', 'count', 'median']\n",
    "pivot_table_kitchen_area.plot(y = 'median', style = 'o')\n",
    "\n",
    "pivot_table_kitchen_area.sort_values('median', ascending = False)\n",
    "\n",
    "data['kitchen_area'].corr(data['last_price'])"
   ]
  },
  {
   "cell_type": "markdown",
   "metadata": {},
   "source": [
    "Коэффициент корреляции Пирсона - 0.514. Зависимость от площади кухни еще меньше"
   ]
  },
  {
   "cell_type": "markdown",
   "metadata": {},
   "source": [
    "Зависимость цены от количества комнат"
   ]
  },
  {
   "cell_type": "code",
   "execution_count": 63,
   "metadata": {},
   "outputs": [
    {
     "data": {
      "text/plain": [
       "0.3631905485065752"
      ]
     },
     "execution_count": 63,
     "metadata": {},
     "output_type": "execute_result"
    },
    {
     "data": {
      "image/png": "[encoded data removed]",
      "text/plain": [
       "<Figure size 432x288 with 1 Axes>"
      ]
     },
     "metadata": {
      "needs_background": "light"
     },
     "output_type": "display_data"
    }
   ],
   "source": [
    "pivot_table_rooms = data.pivot_table(index = 'rooms', values = 'last_price', aggfunc = ['mean', 'count', 'median'])\n",
    "pivot_table_rooms.columns = ['mean', 'count', 'median']\n",
    "pivot_table_rooms.plot(y = 'median', style = 'o')\n",
    "\n",
    "pivot_table_rooms.sort_values('median', ascending = False)\n",
    "\n",
    "data['rooms'].corr(data['last_price'])"
   ]
  },
  {
   "cell_type": "markdown",
   "metadata": {},
   "source": [
    "Зависимость мала"
   ]
  },
  {
   "cell_type": "markdown",
   "metadata": {},
   "source": [
    "Далее зависимость от этажа на котором расположена квартира"
   ]
  },
  {
   "cell_type": "code",
   "execution_count": 64,
   "metadata": {},
   "outputs": [
    {
     "data": {
      "text/html": [
       "<div>\n",
       "<style scoped>\n",
       "    .dataframe tbody tr th:only-of-type {\n",
       "        vertical-align: middle;\n",
       "    }\n",
       "\n",
       "    .dataframe tbody tr th {\n",
       "        vertical-align: top;\n",
       "    }\n",
       "\n",
       "    .dataframe thead th {\n",
       "        text-align: right;\n",
       "    }\n",
       "</style>\n",
       "<table border=\"1\" class=\"dataframe\">\n",
       "  <thead>\n",
       "    <tr style=\"text-align: right;\">\n",
       "      <th></th>\n",
       "      <th>mean</th>\n",
       "      <th>count</th>\n",
       "      <th>median</th>\n",
       "    </tr>\n",
       "    <tr>\n",
       "      <th>floor_category</th>\n",
       "      <th></th>\n",
       "      <th></th>\n",
       "      <th></th>\n",
       "    </tr>\n",
       "  </thead>\n",
       "  <tbody>\n",
       "    <tr>\n",
       "      <th>другой</th>\n",
       "      <td>6674348.90</td>\n",
       "      <td>17326</td>\n",
       "      <td>4848500</td>\n",
       "    </tr>\n",
       "    <tr>\n",
       "      <th>первый</th>\n",
       "      <td>4802603.99</td>\n",
       "      <td>2909</td>\n",
       "      <td>3900000</td>\n",
       "    </tr>\n",
       "    <tr>\n",
       "      <th>последний</th>\n",
       "      <td>7359137.80</td>\n",
       "      <td>3330</td>\n",
       "      <td>4300000</td>\n",
       "    </tr>\n",
       "  </tbody>\n",
       "</table>\n",
       "</div>"
      ],
      "text/plain": [
       "                     mean  count   median\n",
       "floor_category                           \n",
       "другой         6674348.90  17326  4848500\n",
       "первый         4802603.99   2909  3900000\n",
       "последний      7359137.80   3330  4300000"
      ]
     },
     "execution_count": 64,
     "metadata": {},
     "output_type": "execute_result"
    },
    {
     "data": {
      "image/png": "[encoded data removed]",
      "text/plain": [
       "<Figure size 432x288 with 1 Axes>"
      ]
     },
     "metadata": {
      "needs_background": "light"
     },
     "output_type": "display_data"
    }
   ],
   "source": [
    "pivot_table_floor_category = data.pivot_table(index = 'floor_category', values = 'last_price', aggfunc = ['mean', 'count', 'median'])\n",
    "pivot_table_floor_category.columns = ['mean', 'count', 'median']\n",
    "pivot_table_floor_category.plot(y = 'median')\n",
    "pivot_table_floor_category"
   ]
  },
  {
   "cell_type": "markdown",
   "metadata": {},
   "source": [
    "Из графика можно сделать вывод что дешевле всего первый этаж, чуть дороже последний, и более дорогие не первый и не последний"
   ]
  },
  {
   "cell_type": "markdown",
   "metadata": {},
   "source": [
    "Далее зависимость цены от даты размещения (день недели, месяц, год)."
   ]
  },
  {
   "cell_type": "markdown",
   "metadata": {},
   "source": [
    "даты размещения (день недели, месяц, год)."
   ]
  },
  {
   "cell_type": "code",
   "execution_count": 65,
   "metadata": {},
   "outputs": [
    {
     "data": {
      "text/html": [
       "<div>\n",
       "<style scoped>\n",
       "    .dataframe tbody tr th:only-of-type {\n",
       "        vertical-align: middle;\n",
       "    }\n",
       "\n",
       "    .dataframe tbody tr th {\n",
       "        vertical-align: top;\n",
       "    }\n",
       "\n",
       "    .dataframe thead th {\n",
       "        text-align: right;\n",
       "    }\n",
       "</style>\n",
       "<table border=\"1\" class=\"dataframe\">\n",
       "  <thead>\n",
       "    <tr style=\"text-align: right;\">\n",
       "      <th></th>\n",
       "      <th>mean</th>\n",
       "      <th>count</th>\n",
       "      <th>median</th>\n",
       "    </tr>\n",
       "    <tr>\n",
       "      <th>weekday_exposition</th>\n",
       "      <th></th>\n",
       "      <th></th>\n",
       "      <th></th>\n",
       "    </tr>\n",
       "  </thead>\n",
       "  <tbody>\n",
       "    <tr>\n",
       "      <th>0</th>\n",
       "      <td>6518331.94</td>\n",
       "      <td>3596</td>\n",
       "      <td>4650000</td>\n",
       "    </tr>\n",
       "    <tr>\n",
       "      <th>1</th>\n",
       "      <td>6389281.18</td>\n",
       "      <td>4163</td>\n",
       "      <td>4720000</td>\n",
       "    </tr>\n",
       "    <tr>\n",
       "      <th>2</th>\n",
       "      <td>6630245.93</td>\n",
       "      <td>3948</td>\n",
       "      <td>4700000</td>\n",
       "    </tr>\n",
       "    <tr>\n",
       "      <th>3</th>\n",
       "      <td>6706766.02</td>\n",
       "      <td>4276</td>\n",
       "      <td>4650000</td>\n",
       "    </tr>\n",
       "    <tr>\n",
       "      <th>4</th>\n",
       "      <td>6359714.36</td>\n",
       "      <td>3980</td>\n",
       "      <td>4550000</td>\n",
       "    </tr>\n",
       "    <tr>\n",
       "      <th>5</th>\n",
       "      <td>6986165.10</td>\n",
       "      <td>1919</td>\n",
       "      <td>4550000</td>\n",
       "    </tr>\n",
       "    <tr>\n",
       "      <th>6</th>\n",
       "      <td>6242137.43</td>\n",
       "      <td>1683</td>\n",
       "      <td>4530000</td>\n",
       "    </tr>\n",
       "  </tbody>\n",
       "</table>\n",
       "</div>"
      ],
      "text/plain": [
       "                         mean  count   median\n",
       "weekday_exposition                           \n",
       "0                  6518331.94   3596  4650000\n",
       "1                  6389281.18   4163  4720000\n",
       "2                  6630245.93   3948  4700000\n",
       "3                  6706766.02   4276  4650000\n",
       "4                  6359714.36   3980  4550000\n",
       "5                  6986165.10   1919  4550000\n",
       "6                  6242137.43   1683  4530000"
      ]
     },
     "execution_count": 65,
     "metadata": {},
     "output_type": "execute_result"
    },
    {
     "data": {
      "image/png": "[encoded data removed]",
      "text/plain": [
       "<Figure size 432x288 with 1 Axes>"
      ]
     },
     "metadata": {
      "needs_background": "light"
     },
     "output_type": "display_data"
    }
   ],
   "source": [
    "pivot_table_weekday_exposition = data.pivot_table(index = 'weekday_exposition', values = 'last_price', aggfunc = ['mean', 'count', 'median'])\n",
    "pivot_table_weekday_exposition.columns = ['mean', 'count', 'median']\n",
    "pivot_table_weekday_exposition.plot(y = 'median')\n",
    "pivot_table_weekday_exposition"
   ]
  },
  {
   "cell_type": "markdown",
   "metadata": {},
   "source": [
    "Дороже всего объекты выставленные на продажу во втоник, интересненько"
   ]
  },
  {
   "cell_type": "code",
   "execution_count": 66,
   "metadata": {
    "scrolled": false
   },
   "outputs": [
    {
     "data": {
      "text/html": [
       "<div>\n",
       "<style scoped>\n",
       "    .dataframe tbody tr th:only-of-type {\n",
       "        vertical-align: middle;\n",
       "    }\n",
       "\n",
       "    .dataframe tbody tr th {\n",
       "        vertical-align: top;\n",
       "    }\n",
       "\n",
       "    .dataframe thead th {\n",
       "        text-align: right;\n",
       "    }\n",
       "</style>\n",
       "<table border=\"1\" class=\"dataframe\">\n",
       "  <thead>\n",
       "    <tr style=\"text-align: right;\">\n",
       "      <th></th>\n",
       "      <th>mean</th>\n",
       "      <th>count</th>\n",
       "      <th>median</th>\n",
       "    </tr>\n",
       "    <tr>\n",
       "      <th>month_exposition</th>\n",
       "      <th></th>\n",
       "      <th></th>\n",
       "      <th></th>\n",
       "    </tr>\n",
       "  </thead>\n",
       "  <tbody>\n",
       "    <tr>\n",
       "      <th>1</th>\n",
       "      <td>6664170.56</td>\n",
       "      <td>1487</td>\n",
       "      <td>4600000</td>\n",
       "    </tr>\n",
       "    <tr>\n",
       "      <th>2</th>\n",
       "      <td>6463940.87</td>\n",
       "      <td>2636</td>\n",
       "      <td>4650000</td>\n",
       "    </tr>\n",
       "    <tr>\n",
       "      <th>3</th>\n",
       "      <td>6359922.47</td>\n",
       "      <td>2575</td>\n",
       "      <td>4650000</td>\n",
       "    </tr>\n",
       "    <tr>\n",
       "      <th>4</th>\n",
       "      <td>6743395.47</td>\n",
       "      <td>2356</td>\n",
       "      <td>4800000</td>\n",
       "    </tr>\n",
       "    <tr>\n",
       "      <th>5</th>\n",
       "      <td>6591126.70</td>\n",
       "      <td>1261</td>\n",
       "      <td>4500000</td>\n",
       "    </tr>\n",
       "    <tr>\n",
       "      <th>6</th>\n",
       "      <td>6316912.64</td>\n",
       "      <td>1747</td>\n",
       "      <td>4400000</td>\n",
       "    </tr>\n",
       "    <tr>\n",
       "      <th>7</th>\n",
       "      <td>6639478.83</td>\n",
       "      <td>1686</td>\n",
       "      <td>4650000</td>\n",
       "    </tr>\n",
       "    <tr>\n",
       "      <th>8</th>\n",
       "      <td>6345783.76</td>\n",
       "      <td>1739</td>\n",
       "      <td>4570000</td>\n",
       "    </tr>\n",
       "    <tr>\n",
       "      <th>9</th>\n",
       "      <td>6838447.02</td>\n",
       "      <td>1972</td>\n",
       "      <td>4700000</td>\n",
       "    </tr>\n",
       "    <tr>\n",
       "      <th>10</th>\n",
       "      <td>6236775.68</td>\n",
       "      <td>2108</td>\n",
       "      <td>4570000</td>\n",
       "    </tr>\n",
       "    <tr>\n",
       "      <th>11</th>\n",
       "      <td>6449082.50</td>\n",
       "      <td>2360</td>\n",
       "      <td>4700000</td>\n",
       "    </tr>\n",
       "    <tr>\n",
       "      <th>12</th>\n",
       "      <td>7005342.66</td>\n",
       "      <td>1638</td>\n",
       "      <td>4695000</td>\n",
       "    </tr>\n",
       "  </tbody>\n",
       "</table>\n",
       "</div>"
      ],
      "text/plain": [
       "                       mean  count   median\n",
       "month_exposition                           \n",
       "1                6664170.56   1487  4600000\n",
       "2                6463940.87   2636  4650000\n",
       "3                6359922.47   2575  4650000\n",
       "4                6743395.47   2356  4800000\n",
       "5                6591126.70   1261  4500000\n",
       "6                6316912.64   1747  4400000\n",
       "7                6639478.83   1686  4650000\n",
       "8                6345783.76   1739  4570000\n",
       "9                6838447.02   1972  4700000\n",
       "10               6236775.68   2108  4570000\n",
       "11               6449082.50   2360  4700000\n",
       "12               7005342.66   1638  4695000"
      ]
     },
     "execution_count": 66,
     "metadata": {},
     "output_type": "execute_result"
    },
    {
     "data": {
      "image/png": "[encoded data removed]",
      "text/plain": [
       "<Figure size 432x288 with 1 Axes>"
      ]
     },
     "metadata": {
      "needs_background": "light"
     },
     "output_type": "display_data"
    }
   ],
   "source": [
    "pivot_table_month_exposition = data.pivot_table(index = 'month_exposition', values = 'last_price', aggfunc = ['mean', 'count', 'median'])\n",
    "pivot_table_month_exposition.columns = ['mean', 'count', 'median']\n",
    "pivot_table_month_exposition.plot(y = 'median')\n",
    "pivot_table_month_exposition"
   ]
  },
  {
   "cell_type": "markdown",
   "metadata": {},
   "source": [
    "В зависимости от месяца график демонстрирует что дешевле всего квартиры в июне, как раз хотел закупиться, дождусь июня"
   ]
  },
  {
   "cell_type": "code",
   "execution_count": 67,
   "metadata": {},
   "outputs": [
    {
     "data": {
      "text/html": [
       "<div>\n",
       "<style scoped>\n",
       "    .dataframe tbody tr th:only-of-type {\n",
       "        vertical-align: middle;\n",
       "    }\n",
       "\n",
       "    .dataframe tbody tr th {\n",
       "        vertical-align: top;\n",
       "    }\n",
       "\n",
       "    .dataframe thead th {\n",
       "        text-align: right;\n",
       "    }\n",
       "</style>\n",
       "<table border=\"1\" class=\"dataframe\">\n",
       "  <thead>\n",
       "    <tr style=\"text-align: right;\">\n",
       "      <th></th>\n",
       "      <th>mean</th>\n",
       "      <th>count</th>\n",
       "      <th>median</th>\n",
       "    </tr>\n",
       "    <tr>\n",
       "      <th>year_exposition</th>\n",
       "      <th></th>\n",
       "      <th></th>\n",
       "      <th></th>\n",
       "    </tr>\n",
       "  </thead>\n",
       "  <tbody>\n",
       "    <tr>\n",
       "      <th>2014</th>\n",
       "      <td>12046600.18</td>\n",
       "      <td>136</td>\n",
       "      <td>7640000</td>\n",
       "    </tr>\n",
       "    <tr>\n",
       "      <th>2015</th>\n",
       "      <td>8595668.90</td>\n",
       "      <td>1166</td>\n",
       "      <td>5300500</td>\n",
       "    </tr>\n",
       "    <tr>\n",
       "      <th>2016</th>\n",
       "      <td>6829116.56</td>\n",
       "      <td>2745</td>\n",
       "      <td>4530000</td>\n",
       "    </tr>\n",
       "    <tr>\n",
       "      <th>2017</th>\n",
       "      <td>6582529.57</td>\n",
       "      <td>8161</td>\n",
       "      <td>4500000</td>\n",
       "    </tr>\n",
       "    <tr>\n",
       "      <th>2018</th>\n",
       "      <td>5954065.34</td>\n",
       "      <td>8486</td>\n",
       "      <td>4550000</td>\n",
       "    </tr>\n",
       "    <tr>\n",
       "      <th>2019</th>\n",
       "      <td>6779323.63</td>\n",
       "      <td>2871</td>\n",
       "      <td>5050000</td>\n",
       "    </tr>\n",
       "  </tbody>\n",
       "</table>\n",
       "</div>"
      ],
      "text/plain": [
       "                       mean  count   median\n",
       "year_exposition                            \n",
       "2014            12046600.18    136  7640000\n",
       "2015             8595668.90   1166  5300500\n",
       "2016             6829116.56   2745  4530000\n",
       "2017             6582529.57   8161  4500000\n",
       "2018             5954065.34   8486  4550000\n",
       "2019             6779323.63   2871  5050000"
      ]
     },
     "execution_count": 67,
     "metadata": {},
     "output_type": "execute_result"
    },
    {
     "data": {
      "image/png": "[encoded data removed]",
      "text/plain": [
       "<Figure size 432x288 with 1 Axes>"
      ]
     },
     "metadata": {
      "needs_background": "light"
     },
     "output_type": "display_data"
    }
   ],
   "source": [
    "pivot_table_year_exposition = data.pivot_table(index = 'year_exposition', values = 'last_price', aggfunc = ['mean', 'count', 'median'])\n",
    "pivot_table_year_exposition.columns = ['mean', 'count', 'median']\n",
    "pivot_table_year_exposition.plot(y = 'median')\n",
    "pivot_table_year_exposition"
   ]
  },
  {
   "cell_type": "code",
   "execution_count": 68,
   "metadata": {},
   "outputs": [
    {
     "data": {
      "text/plain": [
       "<AxesSubplot:>"
      ]
     },
     "execution_count": 68,
     "metadata": {},
     "output_type": "execute_result"
    },
    {
     "data": {
      "image/png": "[encoded data removed]",
      "text/plain": [
       "<Figure size 72x576 with 2 Axes>"
      ]
     },
     "metadata": {
      "needs_background": "light"
     },
     "output_type": "display_data"
    }
   ],
   "source": [
    "plt.figure(figsize=(1,8))\n",
    "sns.heatmap(data.corr()[['last_price']].sort_values(by='last_price', ascending=False), cmap=\"Reds\", \n",
    "            annot=True, annot_kws={'size':12})"
   ]
  },
  {
   "cell_type": "markdown",
   "metadata": {},
   "source": [
    "По тепловой карте видно, что как не крути на цену объекта недвижимости влияет площадь, в первую очередь площадь квадратного местра\n",
    "а потом и общая, живая и так далее"
   ]
  },
  {
   "cell_type": "markdown",
   "metadata": {},
   "source": [
    "Интересно, цена снижалась с 2014 по 2017 год, а как же инфляция.С середины 2017 года наблюдается рост"
   ]
  },
  {
   "cell_type": "markdown",
   "metadata": {},
   "source": []
  },
  {
   "cell_type": "markdown",
   "metadata": {},
   "source": [
    "4.Посчитайте среднюю цену одного квадратного метра в 10 населённых пунктах с наибольшим числом объявлений. Выделите населённые пункты с самой высокой и низкой стоимостью квадратного метра. Эти данные можно найти по имени в столбце locality_name."
   ]
  },
  {
   "cell_type": "code",
   "execution_count": 69,
   "metadata": {},
   "outputs": [
    {
     "data": {
      "text/html": [
       "<div>\n",
       "<style scoped>\n",
       "    .dataframe tbody tr th:only-of-type {\n",
       "        vertical-align: middle;\n",
       "    }\n",
       "\n",
       "    .dataframe tbody tr th {\n",
       "        vertical-align: top;\n",
       "    }\n",
       "\n",
       "    .dataframe thead th {\n",
       "        text-align: right;\n",
       "    }\n",
       "</style>\n",
       "<table border=\"1\" class=\"dataframe\">\n",
       "  <thead>\n",
       "    <tr style=\"text-align: right;\">\n",
       "      <th></th>\n",
       "      <th>locality_name</th>\n",
       "      <th>count</th>\n",
       "      <th>sum</th>\n",
       "      <th>mean</th>\n",
       "    </tr>\n",
       "  </thead>\n",
       "  <tbody>\n",
       "    <tr>\n",
       "      <th>0</th>\n",
       "      <td>Санкт-Петербург</td>\n",
       "      <td>15651</td>\n",
       "      <td>1797805859</td>\n",
       "      <td>114868.43</td>\n",
       "    </tr>\n",
       "    <tr>\n",
       "      <th>1</th>\n",
       "      <td>посёлок Мурино</td>\n",
       "      <td>520</td>\n",
       "      <td>44549858</td>\n",
       "      <td>85672.80</td>\n",
       "    </tr>\n",
       "    <tr>\n",
       "      <th>2</th>\n",
       "      <td>посёлок Шушары</td>\n",
       "      <td>439</td>\n",
       "      <td>34483838</td>\n",
       "      <td>78550.88</td>\n",
       "    </tr>\n",
       "    <tr>\n",
       "      <th>3</th>\n",
       "      <td>Всеволожск</td>\n",
       "      <td>398</td>\n",
       "      <td>27324295</td>\n",
       "      <td>68654.01</td>\n",
       "    </tr>\n",
       "    <tr>\n",
       "      <th>4</th>\n",
       "      <td>Пушкин</td>\n",
       "      <td>369</td>\n",
       "      <td>38053263</td>\n",
       "      <td>103125.37</td>\n",
       "    </tr>\n",
       "    <tr>\n",
       "      <th>5</th>\n",
       "      <td>Колпино</td>\n",
       "      <td>338</td>\n",
       "      <td>25493363</td>\n",
       "      <td>75424.15</td>\n",
       "    </tr>\n",
       "    <tr>\n",
       "      <th>6</th>\n",
       "      <td>посёлок Парголово</td>\n",
       "      <td>327</td>\n",
       "      <td>29487385</td>\n",
       "      <td>90175.49</td>\n",
       "    </tr>\n",
       "    <tr>\n",
       "      <th>7</th>\n",
       "      <td>Гатчина</td>\n",
       "      <td>307</td>\n",
       "      <td>21104928</td>\n",
       "      <td>68745.69</td>\n",
       "    </tr>\n",
       "    <tr>\n",
       "      <th>8</th>\n",
       "      <td>деревня Кудрово</td>\n",
       "      <td>299</td>\n",
       "      <td>27649453</td>\n",
       "      <td>92473.09</td>\n",
       "    </tr>\n",
       "    <tr>\n",
       "      <th>9</th>\n",
       "      <td>Выборг</td>\n",
       "      <td>237</td>\n",
       "      <td>13779533</td>\n",
       "      <td>58141.49</td>\n",
       "    </tr>\n",
       "  </tbody>\n",
       "</table>\n",
       "</div>"
      ],
      "text/plain": [
       "       locality_name  count         sum      mean\n",
       "0    Санкт-Петербург  15651  1797805859 114868.43\n",
       "1     посёлок Мурино    520    44549858  85672.80\n",
       "2     посёлок Шушары    439    34483838  78550.88\n",
       "3         Всеволожск    398    27324295  68654.01\n",
       "4             Пушкин    369    38053263 103125.37\n",
       "5            Колпино    338    25493363  75424.15\n",
       "6  посёлок Парголово    327    29487385  90175.49\n",
       "7            Гатчина    307    21104928  68745.69\n",
       "8    деревня Кудрово    299    27649453  92473.09\n",
       "9             Выборг    237    13779533  58141.49"
      ]
     },
     "execution_count": 69,
     "metadata": {},
     "output_type": "execute_result"
    }
   ],
   "source": [
    "locality_name_pivot = data.pivot_table(index='locality_name', values='price_per_area', aggfunc=['count', 'sum', 'mean']).reset_index(level=['locality_name'])\n",
    "locality_name_pivot.columns = ['locality_name', 'count','sum','mean']\n",
    "locality_name_pivot= locality_name_pivot.sort_values(by='count',ascending=False)\n",
    "locality_name_pivot = locality_name_pivot.reset_index(drop = True)\n",
    "locality_name_pivot.head(10)\n"
   ]
  },
  {
   "cell_type": "markdown",
   "metadata": {},
   "source": [
    "Среди десяти самых популярных населенных пунктов набольшая стоимость у нас для Санкт-Петербурга, самая низкая для Выборга"
   ]
  },
  {
   "cell_type": "markdown",
   "metadata": {},
   "source": []
  },
  {
   "cell_type": "markdown",
   "metadata": {},
   "source": [
    "5. Теперь выделите квартиры в Санкт-Петербурге с помощью столбца locality_name и вычислите среднюю цену каждого километра. Опишите, как стоимость объектов зависит от расстояния до центра города.\""
   ]
  },
  {
   "cell_type": "code",
   "execution_count": 70,
   "metadata": {},
   "outputs": [
    {
     "data": {
      "image/png": "[encoded data removed]",
      "text/plain": [
       "<Figure size 720x432 with 1 Axes>"
      ]
     },
     "metadata": {
      "needs_background": "light"
     },
     "output_type": "display_data"
    }
   ],
   "source": [
    "spb_pivot=(\n",
    "    data.query('locality_name==\"Санкт-Петербург\"')\n",
    "    .pivot_table(index='city_сenters_nearest_km',values='last_price', aggfunc='mean').reset_index()\n",
    ")\n",
    "spb_pivot.plot(x='city_сenters_nearest_km',y='last_price', kind='bar', alpha=1, figsize=(10,6))\n",
    "plt.show()"
   ]
  },
  {
   "cell_type": "markdown",
   "metadata": {},
   "source": [
    "В центре получается самая дорогая недвижимость, что логично. Чем дальше от центра тем дешевле"
   ]
  },
  {
   "cell_type": "code",
   "execution_count": null,
   "metadata": {},
   "outputs": [],
   "source": []
  },
  {
   "cell_type": "markdown",
   "metadata": {},
   "source": [
    "### Общий вывод"
   ]
  },
  {
   "cell_type": "markdown",
   "metadata": {},
   "source": [
    "Зависимость стоимости квартиры от количества комнат - есть маленькая зависимость цена снижается с увеличением числа комнат ( возможно это связанно с тем что квартиры с 1-2 комнаты продаются охотнее). Квартиры на не на первом и не последнем этажах стоят дороже ну и спрос на них всегда выше. В центре квартиры дороже , цена снижается с удаленностью от центра. Стоимости квартиры от дня недели размещения объявления различаются от общей выборки, не считаю это важным критерием для дальнейшей работы с этим сравннением, возможно для разных городов и районов будет разная зависимоть. Есть сезонная зависимость. Цены за квадратный метр в летний сезон снижаются. Цены стоимости квадратного метра меняются с годами( влияние рынка недвижимости)"
   ]
  }
 ],
 "metadata": {
  "ExecuteTimeLog": [
   {
    "duration": 501,
    "start_time": "2023-02-20T19:35:22.911Z"
   },
   {
    "duration": 32,
    "start_time": "2023-02-20T19:36:53.747Z"
   },
   {
    "duration": 32,
    "start_time": "2023-02-20T19:36:57.018Z"
   },
   {
    "duration": 979,
    "start_time": "2023-02-20T19:39:48.496Z"
   },
   {
    "duration": 1448,
    "start_time": "2023-02-21T16:58:49.333Z"
   },
   {
    "duration": 134,
    "start_time": "2023-02-21T17:00:56.359Z"
   },
   {
    "duration": 359,
    "start_time": "2023-02-21T17:53:48.857Z"
   },
   {
    "duration": 16,
    "start_time": "2023-02-21T17:55:58.502Z"
   },
   {
    "duration": 2172,
    "start_time": "2023-02-21T17:57:25.968Z"
   },
   {
    "duration": 4,
    "start_time": "2023-02-21T22:16:10.264Z"
   },
   {
    "duration": 5,
    "start_time": "2023-02-21T22:16:33.155Z"
   },
   {
    "duration": 24,
    "start_time": "2023-02-21T22:18:03.492Z"
   },
   {
    "duration": 11,
    "start_time": "2023-02-21T22:18:38.705Z"
   },
   {
    "duration": 6,
    "start_time": "2023-02-21T22:20:17.557Z"
   },
   {
    "duration": 51,
    "start_time": "2023-02-21T22:22:10.837Z"
   },
   {
    "duration": 49,
    "start_time": "2023-02-21T22:22:38.892Z"
   },
   {
    "duration": 30,
    "start_time": "2023-02-21T22:23:04.619Z"
   },
   {
    "duration": 27,
    "start_time": "2023-02-21T22:23:26.614Z"
   },
   {
    "duration": 11,
    "start_time": "2023-02-21T22:24:45.914Z"
   },
   {
    "duration": 9,
    "start_time": "2023-02-21T22:27:09.179Z"
   },
   {
    "duration": 12,
    "start_time": "2023-02-21T22:27:16.431Z"
   },
   {
    "duration": 7,
    "start_time": "2023-02-21T22:28:52.193Z"
   },
   {
    "duration": 11,
    "start_time": "2023-02-21T22:32:06.629Z"
   },
   {
    "duration": 7,
    "start_time": "2023-02-21T22:40:11.754Z"
   },
   {
    "duration": 1687,
    "start_time": "2023-02-22T08:03:54.136Z"
   },
   {
    "duration": 25,
    "start_time": "2023-02-22T08:03:56.026Z"
   },
   {
    "duration": 1960,
    "start_time": "2023-02-22T08:03:57.424Z"
   },
   {
    "duration": 3,
    "start_time": "2023-02-22T08:03:59.386Z"
   },
   {
    "duration": 16,
    "start_time": "2023-02-22T08:04:36.227Z"
   },
   {
    "duration": 7,
    "start_time": "2023-02-22T08:04:49.331Z"
   },
   {
    "duration": 8,
    "start_time": "2023-02-22T08:06:55.100Z"
   },
   {
    "duration": 8,
    "start_time": "2023-02-22T08:07:22.568Z"
   },
   {
    "duration": 8,
    "start_time": "2023-02-22T08:09:24.710Z"
   },
   {
    "duration": 13,
    "start_time": "2023-02-22T08:09:29.413Z"
   },
   {
    "duration": 1048,
    "start_time": "2023-02-22T08:11:49.523Z"
   },
   {
    "duration": 6,
    "start_time": "2023-02-22T08:12:28.862Z"
   },
   {
    "duration": 10,
    "start_time": "2023-02-22T08:12:57.782Z"
   },
   {
    "duration": 11,
    "start_time": "2023-02-22T08:24:39.245Z"
   },
   {
    "duration": 8,
    "start_time": "2023-02-22T08:24:47.473Z"
   },
   {
    "duration": 4,
    "start_time": "2023-02-22T08:25:46.394Z"
   },
   {
    "duration": 9,
    "start_time": "2023-02-22T08:28:17.901Z"
   },
   {
    "duration": 4,
    "start_time": "2023-02-22T08:28:34.849Z"
   },
   {
    "duration": 4,
    "start_time": "2023-02-22T08:34:48.616Z"
   },
   {
    "duration": 108,
    "start_time": "2023-02-22T09:54:59.049Z"
   },
   {
    "duration": 14,
    "start_time": "2023-02-22T09:54:59.245Z"
   },
   {
    "duration": 1872,
    "start_time": "2023-02-22T09:54:59.479Z"
   },
   {
    "duration": 3,
    "start_time": "2023-02-22T09:55:01.353Z"
   },
   {
    "duration": 10,
    "start_time": "2023-02-22T09:55:01.437Z"
   },
   {
    "duration": 10,
    "start_time": "2023-02-22T09:55:01.877Z"
   },
   {
    "duration": 6,
    "start_time": "2023-02-22T09:55:02.589Z"
   },
   {
    "duration": 13,
    "start_time": "2023-02-22T09:55:03.429Z"
   },
   {
    "duration": 6,
    "start_time": "2023-02-22T09:55:03.444Z"
   },
   {
    "duration": 9,
    "start_time": "2023-02-22T09:55:03.574Z"
   },
   {
    "duration": 12,
    "start_time": "2023-02-22T09:55:04.935Z"
   },
   {
    "duration": 9,
    "start_time": "2023-02-22T10:04:15.719Z"
   },
   {
    "duration": 278,
    "start_time": "2023-02-22T10:10:03.289Z"
   },
   {
    "duration": 14,
    "start_time": "2023-02-22T10:10:26.199Z"
   },
   {
    "duration": 10,
    "start_time": "2023-02-22T10:11:44.163Z"
   },
   {
    "duration": 17,
    "start_time": "2023-02-22T10:12:37.882Z"
   },
   {
    "duration": 9,
    "start_time": "2023-02-22T10:12:51.299Z"
   },
   {
    "duration": 9,
    "start_time": "2023-02-22T10:12:54.615Z"
   },
   {
    "duration": 3,
    "start_time": "2023-02-22T10:12:55.815Z"
   },
   {
    "duration": 11,
    "start_time": "2023-02-22T10:13:55.649Z"
   },
   {
    "duration": 11,
    "start_time": "2023-02-22T10:14:54.897Z"
   },
   {
    "duration": 13,
    "start_time": "2023-02-22T10:15:01.500Z"
   },
   {
    "duration": 104,
    "start_time": "2023-02-22T10:15:09.104Z"
   },
   {
    "duration": 18,
    "start_time": "2023-02-22T10:15:09.296Z"
   },
   {
    "duration": 1984,
    "start_time": "2023-02-22T10:15:09.529Z"
   },
   {
    "duration": 5,
    "start_time": "2023-02-22T10:15:11.515Z"
   },
   {
    "duration": 13,
    "start_time": "2023-02-22T10:15:11.522Z"
   },
   {
    "duration": 14,
    "start_time": "2023-02-22T10:15:11.538Z"
   },
   {
    "duration": 18,
    "start_time": "2023-02-22T10:15:11.553Z"
   },
   {
    "duration": 23,
    "start_time": "2023-02-22T10:15:11.573Z"
   },
   {
    "duration": 7,
    "start_time": "2023-02-22T10:15:11.780Z"
   },
   {
    "duration": 9,
    "start_time": "2023-02-22T10:15:11.987Z"
   },
   {
    "duration": 9,
    "start_time": "2023-02-22T10:15:12.449Z"
   },
   {
    "duration": 5,
    "start_time": "2023-02-22T10:15:13.877Z"
   },
   {
    "duration": 12,
    "start_time": "2023-02-22T10:15:16.670Z"
   },
   {
    "duration": 8,
    "start_time": "2023-02-22T10:18:31.948Z"
   },
   {
    "duration": 10,
    "start_time": "2023-02-22T10:18:48.284Z"
   },
   {
    "duration": 17,
    "start_time": "2023-02-22T10:20:45.093Z"
   },
   {
    "duration": 11,
    "start_time": "2023-02-22T10:20:53.947Z"
   },
   {
    "duration": 7,
    "start_time": "2023-02-22T10:22:41.731Z"
   },
   {
    "duration": 10,
    "start_time": "2023-02-22T10:22:51.033Z"
   },
   {
    "duration": 103,
    "start_time": "2023-02-22T10:32:54.578Z"
   },
   {
    "duration": 13,
    "start_time": "2023-02-22T10:37:12.199Z"
   },
   {
    "duration": 10,
    "start_time": "2023-02-22T10:37:30.839Z"
   },
   {
    "duration": 7,
    "start_time": "2023-02-22T10:47:32.818Z"
   },
   {
    "duration": 18,
    "start_time": "2023-02-22T10:51:17.019Z"
   },
   {
    "duration": 7,
    "start_time": "2023-02-22T10:51:43.399Z"
   },
   {
    "duration": 1779,
    "start_time": "2023-02-22T10:58:10.381Z"
   },
   {
    "duration": 25,
    "start_time": "2023-02-22T10:58:12.163Z"
   },
   {
    "duration": 2277,
    "start_time": "2023-02-22T10:58:12.191Z"
   },
   {
    "duration": 4,
    "start_time": "2023-02-22T10:58:14.470Z"
   },
   {
    "duration": 14,
    "start_time": "2023-02-22T10:58:14.477Z"
   },
   {
    "duration": 7,
    "start_time": "2023-02-22T10:58:14.493Z"
   },
   {
    "duration": 8,
    "start_time": "2023-02-22T10:58:14.503Z"
   },
   {
    "duration": 13,
    "start_time": "2023-02-22T10:58:14.513Z"
   },
   {
    "duration": 6,
    "start_time": "2023-02-22T10:58:14.528Z"
   },
   {
    "duration": 9,
    "start_time": "2023-02-22T10:58:14.536Z"
   },
   {
    "duration": 18,
    "start_time": "2023-02-22T10:58:14.547Z"
   },
   {
    "duration": 41,
    "start_time": "2023-02-22T10:58:14.567Z"
   },
   {
    "duration": 7,
    "start_time": "2023-02-22T10:58:14.610Z"
   },
   {
    "duration": 11,
    "start_time": "2023-02-22T10:58:14.620Z"
   },
   {
    "duration": 12,
    "start_time": "2023-02-22T10:58:14.633Z"
   },
   {
    "duration": 5,
    "start_time": "2023-02-22T10:58:14.647Z"
   },
   {
    "duration": 50,
    "start_time": "2023-02-22T10:58:14.654Z"
   },
   {
    "duration": 13,
    "start_time": "2023-02-22T10:58:14.707Z"
   },
   {
    "duration": 5,
    "start_time": "2023-02-22T11:09:05.832Z"
   },
   {
    "duration": 8,
    "start_time": "2023-02-22T11:09:10.688Z"
   },
   {
    "duration": 8,
    "start_time": "2023-02-22T11:09:50.229Z"
   },
   {
    "duration": 10,
    "start_time": "2023-02-22T11:09:52.568Z"
   },
   {
    "duration": 8,
    "start_time": "2023-02-22T11:10:21.690Z"
   },
   {
    "duration": 8,
    "start_time": "2023-02-22T11:10:22.227Z"
   },
   {
    "duration": 6,
    "start_time": "2023-02-22T11:10:36.185Z"
   },
   {
    "duration": 6,
    "start_time": "2023-02-22T11:11:38.769Z"
   },
   {
    "duration": 7,
    "start_time": "2023-02-22T11:11:54.557Z"
   },
   {
    "duration": 5,
    "start_time": "2023-02-22T11:15:02.358Z"
   },
   {
    "duration": 73,
    "start_time": "2023-02-22T11:15:10.126Z"
   },
   {
    "duration": 13,
    "start_time": "2023-02-22T11:17:58.774Z"
   },
   {
    "duration": 11,
    "start_time": "2023-02-22T14:31:17.687Z"
   },
   {
    "duration": 107,
    "start_time": "2023-02-22T14:31:34.629Z"
   },
   {
    "duration": 15,
    "start_time": "2023-02-22T14:31:36.018Z"
   },
   {
    "duration": 5,
    "start_time": "2023-02-22T14:31:43.657Z"
   },
   {
    "duration": 1788,
    "start_time": "2023-02-22T14:31:58.805Z"
   },
   {
    "duration": 69,
    "start_time": "2023-02-22T14:34:15.127Z"
   },
   {
    "duration": 12,
    "start_time": "2023-02-22T14:51:16.648Z"
   },
   {
    "duration": 23,
    "start_time": "2023-02-22T14:55:08.998Z"
   },
   {
    "duration": 20,
    "start_time": "2023-02-22T14:55:59.397Z"
   },
   {
    "duration": 10,
    "start_time": "2023-02-22T14:56:32.130Z"
   },
   {
    "duration": 7,
    "start_time": "2023-02-22T14:56:32.911Z"
   },
   {
    "duration": 5,
    "start_time": "2023-02-22T14:56:37.827Z"
   },
   {
    "duration": 4,
    "start_time": "2023-02-22T14:56:42.068Z"
   },
   {
    "duration": 13,
    "start_time": "2023-02-22T14:56:49.547Z"
   },
   {
    "duration": 10,
    "start_time": "2023-02-22T14:56:50.917Z"
   },
   {
    "duration": 21,
    "start_time": "2023-02-22T14:56:54.397Z"
   },
   {
    "duration": 4,
    "start_time": "2023-02-22T14:56:55.420Z"
   },
   {
    "duration": 28,
    "start_time": "2023-02-22T14:58:51.195Z"
   },
   {
    "duration": 9,
    "start_time": "2023-02-22T15:07:33.453Z"
   },
   {
    "duration": 131,
    "start_time": "2023-02-22T15:08:25.624Z"
   },
   {
    "duration": 14,
    "start_time": "2023-02-22T15:08:27.484Z"
   },
   {
    "duration": 8,
    "start_time": "2023-02-22T15:08:27.912Z"
   },
   {
    "duration": 71,
    "start_time": "2023-02-22T15:08:28.120Z"
   },
   {
    "duration": 1976,
    "start_time": "2023-02-22T15:08:28.507Z"
   },
   {
    "duration": 5,
    "start_time": "2023-02-22T15:08:30.485Z"
   },
   {
    "duration": 47,
    "start_time": "2023-02-22T15:08:30.492Z"
   },
   {
    "duration": 43,
    "start_time": "2023-02-22T15:08:30.541Z"
   },
   {
    "duration": 8,
    "start_time": "2023-02-22T15:08:30.626Z"
   },
   {
    "duration": 10,
    "start_time": "2023-02-22T15:08:30.846Z"
   },
   {
    "duration": 20,
    "start_time": "2023-02-22T15:08:32.509Z"
   },
   {
    "duration": 5,
    "start_time": "2023-02-22T15:08:33.074Z"
   },
   {
    "duration": 136,
    "start_time": "2023-02-22T15:08:57.944Z"
   },
   {
    "duration": 9,
    "start_time": "2023-02-22T15:09:22.124Z"
   },
   {
    "duration": 5,
    "start_time": "2023-02-22T15:09:27.778Z"
   },
   {
    "duration": 14,
    "start_time": "2023-02-22T15:12:29.694Z"
   },
   {
    "duration": 9,
    "start_time": "2023-02-22T15:13:36.764Z"
   },
   {
    "duration": 10,
    "start_time": "2023-02-22T15:13:57.071Z"
   },
   {
    "duration": 8,
    "start_time": "2023-02-22T15:14:02.944Z"
   },
   {
    "duration": 6,
    "start_time": "2023-02-22T15:15:23.085Z"
   },
   {
    "duration": 120,
    "start_time": "2023-02-22T15:15:41.932Z"
   },
   {
    "duration": 13,
    "start_time": "2023-02-22T15:15:42.133Z"
   },
   {
    "duration": 6,
    "start_time": "2023-02-22T15:15:42.964Z"
   },
   {
    "duration": 72,
    "start_time": "2023-02-22T15:15:43.450Z"
   },
   {
    "duration": 1990,
    "start_time": "2023-02-22T15:15:44.786Z"
   },
   {
    "duration": 5,
    "start_time": "2023-02-22T15:15:46.778Z"
   },
   {
    "duration": 27,
    "start_time": "2023-02-22T15:15:46.785Z"
   },
   {
    "duration": 7,
    "start_time": "2023-02-22T15:15:47.228Z"
   },
   {
    "duration": 5,
    "start_time": "2023-02-22T15:15:47.931Z"
   },
   {
    "duration": 9,
    "start_time": "2023-02-22T15:15:48.145Z"
   },
   {
    "duration": 11,
    "start_time": "2023-02-22T15:15:49.344Z"
   },
   {
    "duration": 5,
    "start_time": "2023-02-22T15:15:50.046Z"
   },
   {
    "duration": 6,
    "start_time": "2023-02-22T15:15:51.584Z"
   },
   {
    "duration": 12,
    "start_time": "2023-02-22T15:15:53.024Z"
   },
   {
    "duration": 7,
    "start_time": "2023-02-22T15:15:54.045Z"
   },
   {
    "duration": 10,
    "start_time": "2023-02-22T15:15:58.894Z"
   },
   {
    "duration": 4,
    "start_time": "2023-02-22T15:16:08.822Z"
   },
   {
    "duration": 15,
    "start_time": "2023-02-22T15:16:10.546Z"
   },
   {
    "duration": 9,
    "start_time": "2023-02-22T15:16:12.864Z"
   },
   {
    "duration": 10,
    "start_time": "2023-02-22T15:16:19.635Z"
   },
   {
    "duration": 10,
    "start_time": "2023-02-22T15:16:22.827Z"
   },
   {
    "duration": 6,
    "start_time": "2023-02-22T15:16:24.354Z"
   },
   {
    "duration": 13,
    "start_time": "2023-02-22T15:17:15.505Z"
   },
   {
    "duration": 9,
    "start_time": "2023-02-22T15:27:11.882Z"
   },
   {
    "duration": 5,
    "start_time": "2023-02-22T15:29:26.522Z"
   },
   {
    "duration": 10,
    "start_time": "2023-02-22T15:37:05.526Z"
   },
   {
    "duration": 4,
    "start_time": "2023-02-22T15:40:03.887Z"
   },
   {
    "duration": 4,
    "start_time": "2023-02-22T15:40:31.687Z"
   },
   {
    "duration": 8,
    "start_time": "2023-02-22T15:40:39.913Z"
   },
   {
    "duration": 5,
    "start_time": "2023-02-22T16:38:59.000Z"
   },
   {
    "duration": 12,
    "start_time": "2023-02-22T16:39:54.992Z"
   },
   {
    "duration": 10,
    "start_time": "2023-02-22T16:51:01.559Z"
   },
   {
    "duration": 5,
    "start_time": "2023-02-22T16:51:04.218Z"
   },
   {
    "duration": 13,
    "start_time": "2023-02-22T16:51:05.362Z"
   },
   {
    "duration": 4,
    "start_time": "2023-02-22T16:52:32.304Z"
   },
   {
    "duration": 8,
    "start_time": "2023-02-22T16:58:13.546Z"
   },
   {
    "duration": 3,
    "start_time": "2023-02-22T16:58:20.909Z"
   },
   {
    "duration": 8,
    "start_time": "2023-02-22T16:58:21.813Z"
   },
   {
    "duration": 430,
    "start_time": "2023-02-22T16:58:35.910Z"
   },
   {
    "duration": 52,
    "start_time": "2023-02-22T17:06:54.006Z"
   },
   {
    "duration": 770,
    "start_time": "2023-02-22T17:07:09.319Z"
   },
   {
    "duration": 838,
    "start_time": "2023-02-22T17:09:52.683Z"
   },
   {
    "duration": 5,
    "start_time": "2023-02-22T17:10:37.499Z"
   },
   {
    "duration": 5,
    "start_time": "2023-02-22T17:11:04.052Z"
   },
   {
    "duration": 283,
    "start_time": "2023-02-22T17:16:39.296Z"
   },
   {
    "duration": 120,
    "start_time": "2023-02-22T17:20:06.828Z"
   },
   {
    "duration": 114,
    "start_time": "2023-02-22T17:20:29.433Z"
   },
   {
    "duration": 298,
    "start_time": "2023-02-22T17:20:32.648Z"
   },
   {
    "duration": 270,
    "start_time": "2023-02-22T17:20:37.267Z"
   },
   {
    "duration": 131,
    "start_time": "2023-02-22T17:21:26.751Z"
   },
   {
    "duration": 113,
    "start_time": "2023-02-22T17:21:48.300Z"
   },
   {
    "duration": 293,
    "start_time": "2023-02-22T17:27:44.068Z"
   },
   {
    "duration": 118,
    "start_time": "2023-02-22T17:30:23.215Z"
   },
   {
    "duration": 287,
    "start_time": "2023-02-22T17:32:44.699Z"
   },
   {
    "duration": 282,
    "start_time": "2023-02-22T17:33:23.599Z"
   },
   {
    "duration": 496,
    "start_time": "2023-02-22T17:33:41.733Z"
   },
   {
    "duration": 316,
    "start_time": "2023-02-22T17:33:54.769Z"
   },
   {
    "duration": 133,
    "start_time": "2023-02-22T17:44:11.566Z"
   },
   {
    "duration": 11,
    "start_time": "2023-02-22T17:49:54.881Z"
   },
   {
    "duration": 9,
    "start_time": "2023-02-22T17:50:00.986Z"
   },
   {
    "duration": 267,
    "start_time": "2023-02-22T17:50:10.671Z"
   },
   {
    "duration": 279,
    "start_time": "2023-02-22T17:50:49.497Z"
   },
   {
    "duration": 283,
    "start_time": "2023-02-22T17:55:32.489Z"
   },
   {
    "duration": 293,
    "start_time": "2023-02-22T17:55:51.203Z"
   },
   {
    "duration": 316,
    "start_time": "2023-02-22T17:56:14.167Z"
   },
   {
    "duration": 285,
    "start_time": "2023-02-22T17:56:23.774Z"
   },
   {
    "duration": 466,
    "start_time": "2023-02-22T17:57:26.290Z"
   },
   {
    "duration": 107,
    "start_time": "2023-02-22T17:58:53.796Z"
   },
   {
    "duration": 101,
    "start_time": "2023-02-22T17:59:24.188Z"
   },
   {
    "duration": 110,
    "start_time": "2023-02-22T18:00:12.095Z"
   },
   {
    "duration": 473,
    "start_time": "2023-02-22T18:03:26.431Z"
   },
   {
    "duration": 117,
    "start_time": "2023-02-22T18:03:34.464Z"
   },
   {
    "duration": 282,
    "start_time": "2023-02-22T18:03:39.602Z"
   },
   {
    "duration": 132,
    "start_time": "2023-02-22T18:03:48.930Z"
   },
   {
    "duration": 297,
    "start_time": "2023-02-22T18:03:57.162Z"
   },
   {
    "duration": 347,
    "start_time": "2023-02-22T18:04:05.262Z"
   },
   {
    "duration": 9,
    "start_time": "2023-02-22T18:04:53.771Z"
   },
   {
    "duration": 300,
    "start_time": "2023-02-22T18:05:02.330Z"
   },
   {
    "duration": 107,
    "start_time": "2023-02-22T18:05:47.185Z"
   },
   {
    "duration": 306,
    "start_time": "2023-02-22T18:06:15.798Z"
   },
   {
    "duration": 107,
    "start_time": "2023-02-22T18:06:28.580Z"
   },
   {
    "duration": 122,
    "start_time": "2023-02-22T18:06:39.662Z"
   },
   {
    "duration": 321,
    "start_time": "2023-02-22T18:06:45.016Z"
   },
   {
    "duration": 301,
    "start_time": "2023-02-22T18:07:04.883Z"
   },
   {
    "duration": 275,
    "start_time": "2023-02-22T18:07:09.599Z"
   },
   {
    "duration": 322,
    "start_time": "2023-02-22T18:37:00.001Z"
   },
   {
    "duration": 315,
    "start_time": "2023-02-22T18:37:50.071Z"
   },
   {
    "duration": 119,
    "start_time": "2023-02-22T18:37:52.320Z"
   },
   {
    "duration": 310,
    "start_time": "2023-02-22T18:37:55.601Z"
   },
   {
    "duration": 116,
    "start_time": "2023-02-22T18:37:58.576Z"
   },
   {
    "duration": 474,
    "start_time": "2023-02-22T18:38:03.684Z"
   },
   {
    "duration": 121,
    "start_time": "2023-02-22T18:38:08.709Z"
   },
   {
    "duration": 321,
    "start_time": "2023-02-22T18:38:22.612Z"
   },
   {
    "duration": 5,
    "start_time": "2023-02-22T18:40:25.393Z"
   },
   {
    "duration": 10,
    "start_time": "2023-02-22T18:41:24.734Z"
   },
   {
    "duration": 9,
    "start_time": "2023-02-22T18:41:38.723Z"
   },
   {
    "duration": 11,
    "start_time": "2023-02-22T18:42:03.117Z"
   },
   {
    "duration": 8,
    "start_time": "2023-02-22T18:42:30.729Z"
   },
   {
    "duration": 6,
    "start_time": "2023-02-22T18:45:09.390Z"
   },
   {
    "duration": 14,
    "start_time": "2023-02-22T18:45:19.627Z"
   },
   {
    "duration": 5089,
    "start_time": "2023-02-22T18:45:25.186Z"
   },
   {
    "duration": 10,
    "start_time": "2023-02-22T18:45:30.539Z"
   },
   {
    "duration": 120,
    "start_time": "2023-02-22T18:45:36.483Z"
   },
   {
    "duration": 19,
    "start_time": "2023-02-22T18:45:36.752Z"
   },
   {
    "duration": 7,
    "start_time": "2023-02-22T18:45:37.191Z"
   },
   {
    "duration": 519,
    "start_time": "2023-02-22T18:45:37.474Z"
   },
   {
    "duration": 2005,
    "start_time": "2023-02-22T18:45:38.349Z"
   },
   {
    "duration": 4,
    "start_time": "2023-02-22T18:45:40.356Z"
   },
   {
    "duration": 12,
    "start_time": "2023-02-22T18:45:40.361Z"
   },
   {
    "duration": 7,
    "start_time": "2023-02-22T18:45:40.375Z"
   },
   {
    "duration": 25,
    "start_time": "2023-02-22T18:45:40.383Z"
   },
   {
    "duration": 10,
    "start_time": "2023-02-22T18:45:40.474Z"
   },
   {
    "duration": 10,
    "start_time": "2023-02-22T18:45:40.873Z"
   },
   {
    "duration": 7,
    "start_time": "2023-02-22T18:45:41.116Z"
   },
   {
    "duration": 7,
    "start_time": "2023-02-22T18:45:41.943Z"
   },
   {
    "duration": 14,
    "start_time": "2023-02-22T18:45:42.415Z"
   },
   {
    "duration": 8,
    "start_time": "2023-02-22T18:45:42.648Z"
   },
   {
    "duration": 9,
    "start_time": "2023-02-22T18:45:43.355Z"
   },
   {
    "duration": 4,
    "start_time": "2023-02-22T18:45:43.580Z"
   },
   {
    "duration": 15,
    "start_time": "2023-02-22T18:45:43.791Z"
   },
   {
    "duration": 13,
    "start_time": "2023-02-22T18:45:44.251Z"
   },
   {
    "duration": 9,
    "start_time": "2023-02-22T18:45:44.478Z"
   },
   {
    "duration": 10,
    "start_time": "2023-02-22T18:45:44.968Z"
   },
   {
    "duration": 5,
    "start_time": "2023-02-22T18:45:45.241Z"
   },
   {
    "duration": 9,
    "start_time": "2023-02-22T18:45:46.223Z"
   },
   {
    "duration": 5,
    "start_time": "2023-02-22T18:45:47.272Z"
   },
   {
    "duration": 10,
    "start_time": "2023-02-22T18:45:47.972Z"
   },
   {
    "duration": 5,
    "start_time": "2023-02-22T18:45:48.588Z"
   },
   {
    "duration": 8,
    "start_time": "2023-02-22T18:45:49.212Z"
   },
   {
    "duration": 6,
    "start_time": "2023-02-22T18:45:52.199Z"
   },
   {
    "duration": 12,
    "start_time": "2023-02-22T18:45:52.723Z"
   },
   {
    "duration": 4,
    "start_time": "2023-02-22T18:45:53.382Z"
   },
   {
    "duration": 262,
    "start_time": "2023-02-22T18:45:53.904Z"
   },
   {
    "duration": 5,
    "start_time": "2023-02-22T18:45:54.647Z"
   },
   {
    "duration": 306,
    "start_time": "2023-02-22T18:45:55.985Z"
   },
   {
    "duration": 311,
    "start_time": "2023-02-22T18:45:58.978Z"
   },
   {
    "duration": 310,
    "start_time": "2023-02-22T18:46:05.464Z"
   },
   {
    "duration": 114,
    "start_time": "2023-02-22T18:46:08.059Z"
   },
   {
    "duration": 286,
    "start_time": "2023-02-22T18:46:17.404Z"
   },
   {
    "duration": 131,
    "start_time": "2023-02-22T18:46:20.471Z"
   },
   {
    "duration": 28,
    "start_time": "2023-02-22T18:46:28.022Z"
   },
   {
    "duration": 312,
    "start_time": "2023-02-22T18:47:31.078Z"
   },
   {
    "duration": 383,
    "start_time": "2023-02-22T18:47:56.733Z"
   },
   {
    "duration": 109,
    "start_time": "2023-02-22T18:48:45.507Z"
   },
   {
    "duration": 119,
    "start_time": "2023-02-22T18:49:12.211Z"
   },
   {
    "duration": 211,
    "start_time": "2023-02-22T18:52:43.269Z"
   },
   {
    "duration": 196,
    "start_time": "2023-02-22T18:53:31.131Z"
   },
   {
    "duration": 224,
    "start_time": "2023-02-22T18:53:38.182Z"
   },
   {
    "duration": 119,
    "start_time": "2023-02-22T18:54:20.275Z"
   },
   {
    "duration": 118,
    "start_time": "2023-02-22T18:54:37.129Z"
   },
   {
    "duration": 113,
    "start_time": "2023-02-22T18:54:47.483Z"
   },
   {
    "duration": 112,
    "start_time": "2023-02-22T18:54:56.999Z"
   },
   {
    "duration": 223,
    "start_time": "2023-02-22T18:56:50.239Z"
   },
   {
    "duration": 240,
    "start_time": "2023-02-22T18:57:07.067Z"
   },
   {
    "duration": 107,
    "start_time": "2023-02-22T18:58:22.668Z"
   },
   {
    "duration": 511,
    "start_time": "2023-02-22T18:58:46.846Z"
   },
   {
    "duration": 215,
    "start_time": "2023-02-22T19:02:20.247Z"
   },
   {
    "duration": 348,
    "start_time": "2023-02-22T19:05:56.966Z"
   },
   {
    "duration": 294,
    "start_time": "2023-02-22T19:06:11.863Z"
   },
   {
    "duration": 150,
    "start_time": "2023-02-22T19:06:23.826Z"
   },
   {
    "duration": 155,
    "start_time": "2023-02-22T19:06:33.876Z"
   },
   {
    "duration": 183,
    "start_time": "2023-02-22T19:06:40.801Z"
   },
   {
    "duration": 109,
    "start_time": "2023-02-22T19:07:32.417Z"
   },
   {
    "duration": 200,
    "start_time": "2023-02-22T19:11:01.913Z"
   },
   {
    "duration": 111,
    "start_time": "2023-02-22T19:11:40.894Z"
   },
   {
    "duration": 111,
    "start_time": "2023-02-22T19:12:03.974Z"
   },
   {
    "duration": 116,
    "start_time": "2023-02-22T19:12:13.351Z"
   },
   {
    "duration": 172,
    "start_time": "2023-02-22T19:16:10.257Z"
   },
   {
    "duration": 191,
    "start_time": "2023-02-22T19:16:25.332Z"
   },
   {
    "duration": 181,
    "start_time": "2023-02-22T19:17:12.361Z"
   },
   {
    "duration": 194,
    "start_time": "2023-02-22T19:17:25.934Z"
   },
   {
    "duration": 218,
    "start_time": "2023-02-22T19:17:39.451Z"
   },
   {
    "duration": 151,
    "start_time": "2023-02-22T19:17:48.005Z"
   },
   {
    "duration": 185,
    "start_time": "2023-02-22T19:17:57.400Z"
   },
   {
    "duration": 119,
    "start_time": "2023-02-22T19:18:38.419Z"
   },
   {
    "duration": 174,
    "start_time": "2023-02-22T19:21:39.694Z"
   },
   {
    "duration": 188,
    "start_time": "2023-02-22T19:21:55.562Z"
   },
   {
    "duration": 419,
    "start_time": "2023-02-22T19:22:06.980Z"
   },
   {
    "duration": 186,
    "start_time": "2023-02-22T19:22:19.198Z"
   },
   {
    "duration": 202,
    "start_time": "2023-02-22T19:22:37.023Z"
   },
   {
    "duration": 214,
    "start_time": "2023-02-22T19:22:53.686Z"
   },
   {
    "duration": 221,
    "start_time": "2023-02-22T19:23:00.664Z"
   },
   {
    "duration": 128,
    "start_time": "2023-02-22T19:24:02.617Z"
   },
   {
    "duration": 193,
    "start_time": "2023-02-22T19:27:24.083Z"
   },
   {
    "duration": 201,
    "start_time": "2023-02-22T19:27:34.833Z"
   },
   {
    "duration": 193,
    "start_time": "2023-02-22T19:27:45.788Z"
   },
   {
    "duration": 120,
    "start_time": "2023-02-22T19:29:06.049Z"
   },
   {
    "duration": 121,
    "start_time": "2023-02-22T19:29:15.977Z"
   },
   {
    "duration": 214,
    "start_time": "2023-02-22T19:33:11.539Z"
   },
   {
    "duration": 203,
    "start_time": "2023-02-22T19:33:26.052Z"
   },
   {
    "duration": 187,
    "start_time": "2023-02-22T19:37:29.438Z"
   },
   {
    "duration": 207,
    "start_time": "2023-02-22T19:37:44.680Z"
   },
   {
    "duration": 193,
    "start_time": "2023-02-22T19:37:52.677Z"
   },
   {
    "duration": 183,
    "start_time": "2023-02-22T19:38:22.259Z"
   },
   {
    "duration": 196,
    "start_time": "2023-02-22T19:38:35.627Z"
   },
   {
    "duration": 178,
    "start_time": "2023-02-22T19:38:48.671Z"
   },
   {
    "duration": 838,
    "start_time": "2023-02-22T19:43:31.818Z"
   },
   {
    "duration": 584,
    "start_time": "2023-02-22T19:58:35.505Z"
   },
   {
    "duration": 135,
    "start_time": "2023-02-22T20:41:04.219Z"
   },
   {
    "duration": 178,
    "start_time": "2023-02-22T20:47:01.001Z"
   },
   {
    "duration": 45,
    "start_time": "2023-02-22T20:48:23.313Z"
   },
   {
    "duration": 153,
    "start_time": "2023-02-22T20:50:35.498Z"
   },
   {
    "duration": 52,
    "start_time": "2023-02-22T20:51:46.361Z"
   },
   {
    "duration": 141,
    "start_time": "2023-02-22T20:54:24.240Z"
   },
   {
    "duration": 146,
    "start_time": "2023-02-22T21:00:42.359Z"
   },
   {
    "duration": 160,
    "start_time": "2023-02-22T21:07:16.445Z"
   },
   {
    "duration": 147,
    "start_time": "2023-02-22T21:09:53.928Z"
   },
   {
    "duration": 142,
    "start_time": "2023-02-22T21:12:19.583Z"
   },
   {
    "duration": 154,
    "start_time": "2023-02-22T21:12:33.171Z"
   },
   {
    "duration": 19,
    "start_time": "2023-02-22T21:19:10.106Z"
   },
   {
    "duration": 9,
    "start_time": "2023-02-22T21:23:01.975Z"
   },
   {
    "duration": 10,
    "start_time": "2023-02-22T21:24:02.057Z"
   },
   {
    "duration": 8,
    "start_time": "2023-02-22T21:24:13.874Z"
   },
   {
    "duration": 9,
    "start_time": "2023-02-22T21:26:32.953Z"
   },
   {
    "duration": 15,
    "start_time": "2023-02-22T21:29:10.022Z"
   },
   {
    "duration": 16,
    "start_time": "2023-02-22T21:30:00.183Z"
   },
   {
    "duration": 9,
    "start_time": "2023-02-22T21:30:15.262Z"
   },
   {
    "duration": 7,
    "start_time": "2023-02-22T21:31:15.209Z"
   },
   {
    "duration": 6,
    "start_time": "2023-02-22T21:31:18.246Z"
   },
   {
    "duration": 756,
    "start_time": "2023-02-22T21:33:28.316Z"
   },
   {
    "duration": 748,
    "start_time": "2023-02-22T21:34:14.342Z"
   },
   {
    "duration": 16,
    "start_time": "2023-02-22T21:41:05.362Z"
   },
   {
    "duration": 28,
    "start_time": "2023-02-22T21:42:04.599Z"
   },
   {
    "duration": 33,
    "start_time": "2023-02-22T21:42:22.641Z"
   },
   {
    "duration": 33,
    "start_time": "2023-02-22T21:44:03.787Z"
   },
   {
    "duration": 36,
    "start_time": "2023-02-22T21:44:27.429Z"
   },
   {
    "duration": 33,
    "start_time": "2023-02-22T21:44:52.339Z"
   },
   {
    "duration": 31,
    "start_time": "2023-02-22T21:45:42.272Z"
   },
   {
    "duration": 33,
    "start_time": "2023-02-22T21:47:02.480Z"
   },
   {
    "duration": 45,
    "start_time": "2023-02-22T21:47:56.431Z"
   },
   {
    "duration": 6,
    "start_time": "2023-02-22T21:59:20.125Z"
   },
   {
    "duration": 8,
    "start_time": "2023-02-22T21:59:38.235Z"
   },
   {
    "duration": 7,
    "start_time": "2023-02-22T21:59:58.785Z"
   },
   {
    "duration": 9,
    "start_time": "2023-02-22T22:02:25.442Z"
   },
   {
    "duration": 1582,
    "start_time": "2023-02-23T08:41:29.120Z"
   },
   {
    "duration": 14,
    "start_time": "2023-02-23T08:41:30.704Z"
   },
   {
    "duration": 22,
    "start_time": "2023-02-23T08:41:30.720Z"
   },
   {
    "duration": 66,
    "start_time": "2023-02-23T08:41:31.499Z"
   },
   {
    "duration": 1855,
    "start_time": "2023-02-23T08:41:31.981Z"
   },
   {
    "duration": 4,
    "start_time": "2023-02-23T08:41:33.837Z"
   },
   {
    "duration": 14,
    "start_time": "2023-02-23T08:41:33.842Z"
   },
   {
    "duration": 7,
    "start_time": "2023-02-23T08:41:33.858Z"
   },
   {
    "duration": 6,
    "start_time": "2023-02-23T08:41:33.927Z"
   },
   {
    "duration": 9,
    "start_time": "2023-02-23T08:41:34.480Z"
   },
   {
    "duration": 105,
    "start_time": "2023-02-23T08:42:00.423Z"
   },
   {
    "duration": 14,
    "start_time": "2023-02-23T08:42:00.529Z"
   },
   {
    "duration": 30,
    "start_time": "2023-02-23T08:42:00.544Z"
   },
   {
    "duration": 87,
    "start_time": "2023-02-23T08:42:00.576Z"
   },
   {
    "duration": 1844,
    "start_time": "2023-02-23T08:42:00.664Z"
   },
   {
    "duration": 3,
    "start_time": "2023-02-23T08:42:02.510Z"
   },
   {
    "duration": 26,
    "start_time": "2023-02-23T08:42:02.515Z"
   },
   {
    "duration": 21,
    "start_time": "2023-02-23T08:42:02.543Z"
   },
   {
    "duration": 25,
    "start_time": "2023-02-23T08:42:02.565Z"
   },
   {
    "duration": 26,
    "start_time": "2023-02-23T08:42:02.592Z"
   },
   {
    "duration": 13,
    "start_time": "2023-02-23T08:42:02.620Z"
   },
   {
    "duration": 12,
    "start_time": "2023-02-23T08:42:02.634Z"
   },
   {
    "duration": 13,
    "start_time": "2023-02-23T08:42:02.648Z"
   },
   {
    "duration": 21,
    "start_time": "2023-02-23T08:42:02.663Z"
   },
   {
    "duration": 8,
    "start_time": "2023-02-23T08:42:02.685Z"
   },
   {
    "duration": 10,
    "start_time": "2023-02-23T08:42:02.694Z"
   },
   {
    "duration": 5,
    "start_time": "2023-02-23T08:42:02.705Z"
   },
   {
    "duration": 27,
    "start_time": "2023-02-23T08:42:02.711Z"
   },
   {
    "duration": 15,
    "start_time": "2023-02-23T08:42:02.739Z"
   },
   {
    "duration": 17,
    "start_time": "2023-02-23T08:42:02.755Z"
   },
   {
    "duration": 30,
    "start_time": "2023-02-23T08:42:02.773Z"
   },
   {
    "duration": 16,
    "start_time": "2023-02-23T08:42:02.804Z"
   },
   {
    "duration": 32,
    "start_time": "2023-02-23T08:42:02.821Z"
   },
   {
    "duration": 18,
    "start_time": "2023-02-23T08:42:02.855Z"
   },
   {
    "duration": 26,
    "start_time": "2023-02-23T08:42:02.874Z"
   },
   {
    "duration": 31,
    "start_time": "2023-02-23T08:42:02.901Z"
   },
   {
    "duration": 24,
    "start_time": "2023-02-23T08:42:02.933Z"
   },
   {
    "duration": 12,
    "start_time": "2023-02-23T08:42:02.961Z"
   },
   {
    "duration": 28,
    "start_time": "2023-02-23T08:42:02.975Z"
   },
   {
    "duration": 11,
    "start_time": "2023-02-23T08:42:03.004Z"
   },
   {
    "duration": 395,
    "start_time": "2023-02-23T08:42:03.017Z"
   },
   {
    "duration": 5,
    "start_time": "2023-02-23T08:42:03.414Z"
   },
   {
    "duration": 287,
    "start_time": "2023-02-23T08:42:03.421Z"
   },
   {
    "duration": 123,
    "start_time": "2023-02-23T08:42:03.710Z"
   },
   {
    "duration": 279,
    "start_time": "2023-02-23T08:42:03.835Z"
   },
   {
    "duration": 118,
    "start_time": "2023-02-23T08:42:04.116Z"
   },
   {
    "duration": 271,
    "start_time": "2023-02-23T08:42:04.235Z"
   },
   {
    "duration": 114,
    "start_time": "2023-02-23T08:42:04.507Z"
   },
   {
    "duration": 23,
    "start_time": "2023-02-23T08:42:04.622Z"
   },
   {
    "duration": 411,
    "start_time": "2023-02-23T08:42:04.646Z"
   },
   {
    "duration": 127,
    "start_time": "2023-02-23T08:42:05.059Z"
   },
   {
    "duration": 244,
    "start_time": "2023-02-23T08:42:05.188Z"
   },
   {
    "duration": 113,
    "start_time": "2023-02-23T08:42:05.433Z"
   },
   {
    "duration": 212,
    "start_time": "2023-02-23T08:42:05.548Z"
   },
   {
    "duration": 149,
    "start_time": "2023-02-23T08:42:05.762Z"
   },
   {
    "duration": 165,
    "start_time": "2023-02-23T08:42:05.913Z"
   },
   {
    "duration": 110,
    "start_time": "2023-02-23T08:42:06.079Z"
   },
   {
    "duration": 185,
    "start_time": "2023-02-23T08:42:06.190Z"
   },
   {
    "duration": 117,
    "start_time": "2023-02-23T08:42:06.377Z"
   },
   {
    "duration": 221,
    "start_time": "2023-02-23T08:42:06.503Z"
   },
   {
    "duration": 139,
    "start_time": "2023-02-23T08:42:06.726Z"
   },
   {
    "duration": 201,
    "start_time": "2023-02-23T08:42:06.867Z"
   },
   {
    "duration": 119,
    "start_time": "2023-02-23T08:42:07.070Z"
   },
   {
    "duration": 185,
    "start_time": "2023-02-23T08:42:07.191Z"
   },
   {
    "duration": 115,
    "start_time": "2023-02-23T08:42:07.378Z"
   },
   {
    "duration": 292,
    "start_time": "2023-02-23T08:42:07.504Z"
   },
   {
    "duration": 149,
    "start_time": "2023-02-23T08:42:07.798Z"
   },
   {
    "duration": 548,
    "start_time": "2023-02-23T08:42:07.949Z"
   },
   {
    "duration": 521,
    "start_time": "2023-02-23T08:42:08.503Z"
   },
   {
    "duration": 157,
    "start_time": "2023-02-23T08:42:09.025Z"
   },
   {
    "duration": 163,
    "start_time": "2023-02-23T08:42:09.184Z"
   },
   {
    "duration": 146,
    "start_time": "2023-02-23T08:42:09.348Z"
   },
   {
    "duration": 155,
    "start_time": "2023-02-23T08:42:09.503Z"
   },
   {
    "duration": 149,
    "start_time": "2023-02-23T08:42:09.660Z"
   },
   {
    "duration": 59,
    "start_time": "2023-02-23T08:42:09.811Z"
   },
   {
    "duration": 0,
    "start_time": "2023-02-23T08:42:09.871Z"
   },
   {
    "duration": 0,
    "start_time": "2023-02-23T08:42:09.872Z"
   },
   {
    "duration": 0,
    "start_time": "2023-02-23T08:42:09.873Z"
   },
   {
    "duration": 325,
    "start_time": "2023-02-23T08:42:16.554Z"
   },
   {
    "duration": 142,
    "start_time": "2023-02-23T08:42:23.034Z"
   },
   {
    "duration": 25,
    "start_time": "2023-02-23T09:00:11.048Z"
   },
   {
    "duration": 31,
    "start_time": "2023-02-23T09:00:52.736Z"
   },
   {
    "duration": 33,
    "start_time": "2023-02-23T09:09:13.336Z"
   },
   {
    "duration": 134,
    "start_time": "2023-02-23T09:10:28.891Z"
   },
   {
    "duration": 37,
    "start_time": "2023-02-23T09:11:18.297Z"
   },
   {
    "duration": 38,
    "start_time": "2023-02-23T09:14:43.303Z"
   },
   {
    "duration": 195,
    "start_time": "2023-02-23T09:19:06.001Z"
   },
   {
    "duration": 35,
    "start_time": "2023-02-23T09:21:06.894Z"
   },
   {
    "duration": 34,
    "start_time": "2023-02-23T09:21:48.084Z"
   },
   {
    "duration": 38,
    "start_time": "2023-02-23T09:24:01.066Z"
   },
   {
    "duration": 38,
    "start_time": "2023-02-23T09:24:18.271Z"
   },
   {
    "duration": 34,
    "start_time": "2023-02-23T09:24:52.355Z"
   },
   {
    "duration": 13,
    "start_time": "2023-02-23T09:39:44.282Z"
   },
   {
    "duration": 20,
    "start_time": "2023-02-23T09:44:23.242Z"
   },
   {
    "duration": 21,
    "start_time": "2023-02-23T09:46:32.942Z"
   },
   {
    "duration": 145,
    "start_time": "2023-02-23T09:46:49.642Z"
   },
   {
    "duration": 154,
    "start_time": "2023-02-23T09:48:56.904Z"
   },
   {
    "duration": 284,
    "start_time": "2023-02-23T09:49:55.129Z"
   },
   {
    "duration": 301,
    "start_time": "2023-02-23T09:50:11.413Z"
   },
   {
    "duration": 665,
    "start_time": "2023-02-23T09:56:21.165Z"
   },
   {
    "duration": 1251,
    "start_time": "2023-02-23T15:33:16.025Z"
   },
   {
    "duration": 14,
    "start_time": "2023-02-23T15:33:17.278Z"
   },
   {
    "duration": 6,
    "start_time": "2023-02-23T15:33:17.298Z"
   },
   {
    "duration": 68,
    "start_time": "2023-02-23T15:33:17.306Z"
   },
   {
    "duration": 1917,
    "start_time": "2023-02-23T15:33:17.376Z"
   },
   {
    "duration": 3,
    "start_time": "2023-02-23T15:33:19.295Z"
   },
   {
    "duration": 11,
    "start_time": "2023-02-23T15:33:19.300Z"
   },
   {
    "duration": 12,
    "start_time": "2023-02-23T15:33:19.312Z"
   },
   {
    "duration": 8,
    "start_time": "2023-02-23T15:33:19.325Z"
   },
   {
    "duration": 12,
    "start_time": "2023-02-23T15:33:19.335Z"
   },
   {
    "duration": 10,
    "start_time": "2023-02-23T15:33:19.348Z"
   },
   {
    "duration": 6,
    "start_time": "2023-02-23T15:33:19.360Z"
   },
   {
    "duration": 32,
    "start_time": "2023-02-23T15:33:19.368Z"
   },
   {
    "duration": 11,
    "start_time": "2023-02-23T15:33:19.403Z"
   },
   {
    "duration": 7,
    "start_time": "2023-02-23T15:33:19.416Z"
   },
   {
    "duration": 16,
    "start_time": "2023-02-23T15:33:19.425Z"
   },
   {
    "duration": 4,
    "start_time": "2023-02-23T15:33:19.442Z"
   },
   {
    "duration": 17,
    "start_time": "2023-02-23T15:33:19.447Z"
   },
   {
    "duration": 39,
    "start_time": "2023-02-23T15:33:19.465Z"
   },
   {
    "duration": 8,
    "start_time": "2023-02-23T15:33:19.505Z"
   },
   {
    "duration": 10,
    "start_time": "2023-02-23T15:33:19.514Z"
   },
   {
    "duration": 5,
    "start_time": "2023-02-23T15:33:19.525Z"
   },
   {
    "duration": 12,
    "start_time": "2023-02-23T15:33:19.532Z"
   },
   {
    "duration": 4,
    "start_time": "2023-02-23T15:33:19.545Z"
   },
   {
    "duration": 52,
    "start_time": "2023-02-23T15:33:19.551Z"
   },
   {
    "duration": 6,
    "start_time": "2023-02-23T15:33:19.605Z"
   },
   {
    "duration": 10,
    "start_time": "2023-02-23T15:33:19.613Z"
   },
   {
    "duration": 6,
    "start_time": "2023-02-23T15:33:19.625Z"
   },
   {
    "duration": 18,
    "start_time": "2023-02-23T15:33:19.633Z"
   },
   {
    "duration": 4,
    "start_time": "2023-02-23T15:33:19.653Z"
   },
   {
    "duration": 280,
    "start_time": "2023-02-23T15:33:19.658Z"
   },
   {
    "duration": 5,
    "start_time": "2023-02-23T15:33:19.939Z"
   },
   {
    "duration": 285,
    "start_time": "2023-02-23T15:33:19.945Z"
   },
   {
    "duration": 129,
    "start_time": "2023-02-23T15:33:20.231Z"
   },
   {
    "duration": 324,
    "start_time": "2023-02-23T15:33:20.361Z"
   },
   {
    "duration": 140,
    "start_time": "2023-02-23T15:33:20.687Z"
   },
   {
    "duration": 396,
    "start_time": "2023-02-23T15:33:20.829Z"
   },
   {
    "duration": 141,
    "start_time": "2023-02-23T15:33:21.227Z"
   },
   {
    "duration": 34,
    "start_time": "2023-02-23T15:33:21.369Z"
   },
   {
    "duration": 355,
    "start_time": "2023-02-23T15:33:21.405Z"
   },
   {
    "duration": 138,
    "start_time": "2023-02-23T15:33:21.764Z"
   },
   {
    "duration": 323,
    "start_time": "2023-02-23T15:33:21.904Z"
   },
   {
    "duration": 288,
    "start_time": "2023-02-23T15:33:22.228Z"
   },
   {
    "duration": 484,
    "start_time": "2023-02-23T15:33:22.518Z"
   },
   {
    "duration": 236,
    "start_time": "2023-02-23T15:33:23.003Z"
   },
   {
    "duration": 387,
    "start_time": "2023-02-23T15:33:23.241Z"
   },
   {
    "duration": 201,
    "start_time": "2023-02-23T15:33:23.630Z"
   },
   {
    "duration": 335,
    "start_time": "2023-02-23T15:33:23.832Z"
   },
   {
    "duration": 288,
    "start_time": "2023-02-23T15:33:24.168Z"
   },
   {
    "duration": 184,
    "start_time": "2023-02-23T15:33:24.458Z"
   },
   {
    "duration": 123,
    "start_time": "2023-02-23T15:33:24.644Z"
   },
   {
    "duration": 213,
    "start_time": "2023-02-23T15:33:24.769Z"
   },
   {
    "duration": 131,
    "start_time": "2023-02-23T15:33:24.984Z"
   },
   {
    "duration": 190,
    "start_time": "2023-02-23T15:33:25.117Z"
   },
   {
    "duration": 123,
    "start_time": "2023-02-23T15:33:25.309Z"
   },
   {
    "duration": 176,
    "start_time": "2023-02-23T15:33:25.434Z"
   },
   {
    "duration": 144,
    "start_time": "2023-02-23T15:33:25.612Z"
   },
   {
    "duration": 666,
    "start_time": "2023-02-23T15:33:25.757Z"
   },
   {
    "duration": 528,
    "start_time": "2023-02-23T15:33:26.424Z"
   },
   {
    "duration": 149,
    "start_time": "2023-02-23T15:33:26.954Z"
   },
   {
    "duration": 185,
    "start_time": "2023-02-23T15:33:27.105Z"
   },
   {
    "duration": 158,
    "start_time": "2023-02-23T15:33:27.292Z"
   },
   {
    "duration": 148,
    "start_time": "2023-02-23T15:33:27.452Z"
   },
   {
    "duration": 143,
    "start_time": "2023-02-23T15:33:27.602Z"
   },
   {
    "duration": 180,
    "start_time": "2023-02-23T15:33:27.747Z"
   },
   {
    "duration": 162,
    "start_time": "2023-02-23T15:33:27.929Z"
   },
   {
    "duration": 150,
    "start_time": "2023-02-23T15:33:28.098Z"
   },
   {
    "duration": 756,
    "start_time": "2023-02-23T15:33:28.250Z"
   },
   {
    "duration": 33,
    "start_time": "2023-02-23T15:33:29.008Z"
   },
   {
    "duration": 275,
    "start_time": "2023-02-23T15:33:29.043Z"
   },
   {
    "duration": 1699,
    "start_time": "2023-03-05T07:05:24.964Z"
   },
   {
    "duration": 15,
    "start_time": "2023-03-05T07:05:26.665Z"
   },
   {
    "duration": 6,
    "start_time": "2023-03-05T07:05:26.681Z"
   },
   {
    "duration": 67,
    "start_time": "2023-03-05T07:05:26.689Z"
   },
   {
    "duration": 1794,
    "start_time": "2023-03-05T07:05:27.386Z"
   },
   {
    "duration": 3,
    "start_time": "2023-03-05T07:05:29.182Z"
   },
   {
    "duration": 10,
    "start_time": "2023-03-05T07:05:29.451Z"
   },
   {
    "duration": 6,
    "start_time": "2023-03-05T07:05:32.608Z"
   },
   {
    "duration": 6,
    "start_time": "2023-03-05T07:05:35.159Z"
   },
   {
    "duration": 13,
    "start_time": "2023-03-05T07:05:36.319Z"
   },
   {
    "duration": 10,
    "start_time": "2023-03-05T07:05:39.413Z"
   },
   {
    "duration": 5,
    "start_time": "2023-03-05T07:05:40.060Z"
   },
   {
    "duration": 7,
    "start_time": "2023-03-05T07:05:44.136Z"
   },
   {
    "duration": 11,
    "start_time": "2023-03-05T07:05:49.564Z"
   },
   {
    "duration": 7,
    "start_time": "2023-03-05T07:05:51.154Z"
   },
   {
    "duration": 11,
    "start_time": "2023-03-05T07:05:57.801Z"
   },
   {
    "duration": 4,
    "start_time": "2023-03-05T07:05:58.188Z"
   },
   {
    "duration": 14,
    "start_time": "2023-03-05T07:05:58.422Z"
   },
   {
    "duration": 9,
    "start_time": "2023-03-05T07:06:01.440Z"
   },
   {
    "duration": 8,
    "start_time": "2023-03-05T07:06:10.972Z"
   },
   {
    "duration": 9,
    "start_time": "2023-03-05T07:06:14.275Z"
   },
   {
    "duration": 5,
    "start_time": "2023-03-05T07:06:14.871Z"
   },
   {
    "duration": 7,
    "start_time": "2023-03-05T07:06:16.013Z"
   },
   {
    "duration": 5,
    "start_time": "2023-03-05T07:06:29.767Z"
   },
   {
    "duration": 9,
    "start_time": "2023-03-05T07:06:30.622Z"
   },
   {
    "duration": 97,
    "start_time": "2023-03-05T07:06:47.069Z"
   },
   {
    "duration": 6,
    "start_time": "2023-03-05T07:07:10.667Z"
   },
   {
    "duration": 4,
    "start_time": "2023-03-05T07:08:03.869Z"
   },
   {
    "duration": 8,
    "start_time": "2023-03-05T07:09:30.620Z"
   },
   {
    "duration": 5,
    "start_time": "2023-03-05T07:09:35.372Z"
   },
   {
    "duration": 12,
    "start_time": "2023-03-05T07:09:35.593Z"
   },
   {
    "duration": 3,
    "start_time": "2023-03-05T07:09:36.032Z"
   },
   {
    "duration": 314,
    "start_time": "2023-03-05T07:09:36.268Z"
   },
   {
    "duration": 5,
    "start_time": "2023-03-05T07:09:36.739Z"
   },
   {
    "duration": 246,
    "start_time": "2023-03-05T07:09:38.159Z"
   },
   {
    "duration": 105,
    "start_time": "2023-03-05T07:09:39.651Z"
   },
   {
    "duration": 271,
    "start_time": "2023-03-05T07:09:41.182Z"
   },
   {
    "duration": 103,
    "start_time": "2023-03-05T07:10:09.959Z"
   },
   {
    "duration": 345,
    "start_time": "2023-03-05T07:11:12.579Z"
   },
   {
    "duration": 127,
    "start_time": "2023-03-05T07:11:55.843Z"
   },
   {
    "duration": 273,
    "start_time": "2023-03-05T07:12:00.877Z"
   },
   {
    "duration": 102,
    "start_time": "2023-03-05T07:12:56.996Z"
   },
   {
    "duration": 22,
    "start_time": "2023-03-05T07:13:02.229Z"
   },
   {
    "duration": 249,
    "start_time": "2023-03-05T07:13:03.055Z"
   },
   {
    "duration": 114,
    "start_time": "2023-03-05T07:13:05.342Z"
   },
   {
    "duration": 216,
    "start_time": "2023-03-05T07:13:39.764Z"
   },
   {
    "duration": 102,
    "start_time": "2023-03-05T07:13:43.775Z"
   },
   {
    "duration": 218,
    "start_time": "2023-03-05T07:14:13.222Z"
   },
   {
    "duration": 351,
    "start_time": "2023-03-05T07:15:35.069Z"
   },
   {
    "duration": 217,
    "start_time": "2023-03-05T07:16:01.300Z"
   },
   {
    "duration": 195,
    "start_time": "2023-03-05T07:16:42.875Z"
   },
   {
    "duration": 118,
    "start_time": "2023-03-05T07:16:46.128Z"
   },
   {
    "duration": 166,
    "start_time": "2023-03-05T07:16:47.780Z"
   },
   {
    "duration": 94,
    "start_time": "2023-03-05T07:16:49.256Z"
   },
   {
    "duration": 158,
    "start_time": "2023-03-05T07:16:53.352Z"
   },
   {
    "duration": 110,
    "start_time": "2023-03-05T07:16:56.513Z"
   },
   {
    "duration": 177,
    "start_time": "2023-03-05T07:16:59.688Z"
   },
   {
    "duration": 125,
    "start_time": "2023-03-05T07:17:00.387Z"
   },
   {
    "duration": 184,
    "start_time": "2023-03-05T07:17:04.407Z"
   },
   {
    "duration": 250,
    "start_time": "2023-03-05T07:17:06.087Z"
   },
   {
    "duration": 173,
    "start_time": "2023-03-05T07:17:09.359Z"
   },
   {
    "duration": 119,
    "start_time": "2023-03-05T07:17:11.074Z"
   },
   {
    "duration": 182,
    "start_time": "2023-03-05T07:17:15.485Z"
   },
   {
    "duration": 142,
    "start_time": "2023-03-05T07:17:17.329Z"
   },
   {
    "duration": 571,
    "start_time": "2023-03-05T07:17:19.391Z"
   },
   {
    "duration": 552,
    "start_time": "2023-03-05T07:18:26.657Z"
   },
   {
    "duration": 236,
    "start_time": "2023-03-05T07:18:29.033Z"
   },
   {
    "duration": 1418,
    "start_time": "2023-07-12T14:43:26.796Z"
   },
   {
    "duration": 17,
    "start_time": "2023-07-12T14:43:28.216Z"
   },
   {
    "duration": 7,
    "start_time": "2023-07-12T14:43:28.235Z"
   },
   {
    "duration": 83,
    "start_time": "2023-07-12T14:43:28.244Z"
   },
   {
    "duration": 2153,
    "start_time": "2023-07-12T14:43:28.328Z"
   },
   {
    "duration": 5,
    "start_time": "2023-07-12T14:43:30.483Z"
   },
   {
    "duration": 32,
    "start_time": "2023-07-12T14:43:30.490Z"
   },
   {
    "duration": 58,
    "start_time": "2023-07-12T14:43:30.524Z"
   },
   {
    "duration": 47,
    "start_time": "2023-07-12T14:43:30.584Z"
   },
   {
    "duration": 36,
    "start_time": "2023-07-12T14:43:30.634Z"
   },
   {
    "duration": 33,
    "start_time": "2023-07-12T14:43:30.672Z"
   },
   {
    "duration": 48,
    "start_time": "2023-07-12T14:43:30.707Z"
   },
   {
    "duration": 77,
    "start_time": "2023-07-12T14:43:30.757Z"
   },
   {
    "duration": 58,
    "start_time": "2023-07-12T14:43:30.837Z"
   },
   {
    "duration": 38,
    "start_time": "2023-07-12T14:43:30.897Z"
   },
   {
    "duration": 48,
    "start_time": "2023-07-12T14:43:30.938Z"
   },
   {
    "duration": 148,
    "start_time": "2023-07-12T14:43:30.989Z"
   },
   {
    "duration": 89,
    "start_time": "2023-07-12T14:43:31.140Z"
   },
   {
    "duration": 92,
    "start_time": "2023-07-12T14:43:31.232Z"
   },
   {
    "duration": 47,
    "start_time": "2023-07-12T14:43:31.327Z"
   },
   {
    "duration": 51,
    "start_time": "2023-07-12T14:43:31.377Z"
   },
   {
    "duration": 53,
    "start_time": "2023-07-12T14:43:31.430Z"
   },
   {
    "duration": 37,
    "start_time": "2023-07-12T14:43:31.485Z"
   },
   {
    "duration": 49,
    "start_time": "2023-07-12T14:43:31.524Z"
   },
   {
    "duration": 40,
    "start_time": "2023-07-12T14:43:31.575Z"
   },
   {
    "duration": 28,
    "start_time": "2023-07-12T14:43:31.617Z"
   },
   {
    "duration": 47,
    "start_time": "2023-07-12T14:43:31.646Z"
   },
   {
    "duration": 41,
    "start_time": "2023-07-12T14:43:31.697Z"
   },
   {
    "duration": 43,
    "start_time": "2023-07-12T14:43:31.740Z"
   },
   {
    "duration": 41,
    "start_time": "2023-07-12T14:43:31.786Z"
   },
   {
    "duration": 328,
    "start_time": "2023-07-12T14:43:31.828Z"
   },
   {
    "duration": 5,
    "start_time": "2023-07-12T14:43:32.159Z"
   },
   {
    "duration": 411,
    "start_time": "2023-07-12T14:43:32.166Z"
   },
   {
    "duration": 137,
    "start_time": "2023-07-12T14:43:32.579Z"
   },
   {
    "duration": 330,
    "start_time": "2023-07-12T14:43:32.718Z"
   },
   {
    "duration": 175,
    "start_time": "2023-07-12T14:43:33.050Z"
   },
   {
    "duration": 404,
    "start_time": "2023-07-12T14:43:33.227Z"
   },
   {
    "duration": 134,
    "start_time": "2023-07-12T14:43:33.632Z"
   },
   {
    "duration": 25,
    "start_time": "2023-07-12T14:43:33.768Z"
   },
   {
    "duration": 386,
    "start_time": "2023-07-12T14:43:33.795Z"
   },
   {
    "duration": 178,
    "start_time": "2023-07-12T14:43:34.183Z"
   },
   {
    "duration": 243,
    "start_time": "2023-07-12T14:43:34.363Z"
   },
   {
    "duration": 133,
    "start_time": "2023-07-12T14:43:34.609Z"
   },
   {
    "duration": 236,
    "start_time": "2023-07-12T14:43:34.743Z"
   },
   {
    "duration": 141,
    "start_time": "2023-07-12T14:43:34.981Z"
   },
   {
    "duration": 229,
    "start_time": "2023-07-12T14:43:35.124Z"
   },
   {
    "duration": 121,
    "start_time": "2023-07-12T14:43:35.358Z"
   },
   {
    "duration": 186,
    "start_time": "2023-07-12T14:43:35.480Z"
   },
   {
    "duration": 267,
    "start_time": "2023-07-12T14:43:35.668Z"
   },
   {
    "duration": 233,
    "start_time": "2023-07-12T14:43:35.936Z"
   },
   {
    "duration": 148,
    "start_time": "2023-07-12T14:43:36.172Z"
   },
   {
    "duration": 325,
    "start_time": "2023-07-12T14:43:36.323Z"
   },
   {
    "duration": 135,
    "start_time": "2023-07-12T14:43:36.649Z"
   },
   {
    "duration": 206,
    "start_time": "2023-07-12T14:43:36.785Z"
   },
   {
    "duration": 128,
    "start_time": "2023-07-12T14:43:36.992Z"
   },
   {
    "duration": 194,
    "start_time": "2023-07-12T14:43:37.121Z"
   },
   {
    "duration": 174,
    "start_time": "2023-07-12T14:43:37.317Z"
   },
   {
    "duration": 772,
    "start_time": "2023-07-12T14:43:37.493Z"
   },
   {
    "duration": 628,
    "start_time": "2023-07-12T14:43:38.267Z"
   },
   {
    "duration": 184,
    "start_time": "2023-07-12T14:43:38.897Z"
   },
   {
    "duration": 186,
    "start_time": "2023-07-12T14:43:39.083Z"
   },
   {
    "duration": 193,
    "start_time": "2023-07-12T14:43:39.271Z"
   },
   {
    "duration": 159,
    "start_time": "2023-07-12T14:43:39.466Z"
   },
   {
    "duration": 156,
    "start_time": "2023-07-12T14:43:39.627Z"
   },
   {
    "duration": 190,
    "start_time": "2023-07-12T14:43:39.785Z"
   },
   {
    "duration": 189,
    "start_time": "2023-07-12T14:43:39.977Z"
   },
   {
    "duration": 198,
    "start_time": "2023-07-12T14:43:40.169Z"
   },
   {
    "duration": 792,
    "start_time": "2023-07-12T14:43:40.369Z"
   },
   {
    "duration": 35,
    "start_time": "2023-07-12T14:43:41.163Z"
   },
   {
    "duration": 313,
    "start_time": "2023-07-12T14:43:41.200Z"
   },
   {
    "duration": 1294,
    "start_time": "2023-07-12T15:09:33.299Z"
   },
   {
    "duration": 14,
    "start_time": "2023-07-12T15:09:34.595Z"
   },
   {
    "duration": 5,
    "start_time": "2023-07-12T15:09:34.611Z"
   },
   {
    "duration": 88,
    "start_time": "2023-07-12T15:09:34.618Z"
   },
   {
    "duration": 2029,
    "start_time": "2023-07-12T15:09:34.708Z"
   },
   {
    "duration": 4,
    "start_time": "2023-07-12T15:09:36.738Z"
   },
   {
    "duration": 19,
    "start_time": "2023-07-12T15:09:36.744Z"
   },
   {
    "duration": 6,
    "start_time": "2023-07-12T15:09:36.765Z"
   },
   {
    "duration": 7,
    "start_time": "2023-07-12T15:09:36.773Z"
   },
   {
    "duration": 9,
    "start_time": "2023-07-12T15:09:36.782Z"
   },
   {
    "duration": 9,
    "start_time": "2023-07-12T15:09:36.793Z"
   },
   {
    "duration": 14,
    "start_time": "2023-07-12T15:09:36.804Z"
   },
   {
    "duration": 20,
    "start_time": "2023-07-12T15:09:36.820Z"
   },
   {
    "duration": 38,
    "start_time": "2023-07-12T15:09:36.842Z"
   },
   {
    "duration": 26,
    "start_time": "2023-07-12T15:09:36.882Z"
   },
   {
    "duration": 29,
    "start_time": "2023-07-12T15:09:36.910Z"
   },
   {
    "duration": 9,
    "start_time": "2023-07-12T15:09:36.941Z"
   },
   {
    "duration": 24,
    "start_time": "2023-07-12T15:09:36.951Z"
   },
   {
    "duration": 11,
    "start_time": "2023-07-12T15:09:36.976Z"
   },
   {
    "duration": 16,
    "start_time": "2023-07-12T15:09:36.989Z"
   },
   {
    "duration": 20,
    "start_time": "2023-07-12T15:09:37.007Z"
   },
   {
    "duration": 10,
    "start_time": "2023-07-12T15:09:37.029Z"
   },
   {
    "duration": 8,
    "start_time": "2023-07-12T15:09:37.041Z"
   },
   {
    "duration": 16,
    "start_time": "2023-07-12T15:09:37.050Z"
   },
   {
    "duration": 11,
    "start_time": "2023-07-12T15:09:37.068Z"
   },
   {
    "duration": 7,
    "start_time": "2023-07-12T15:09:37.081Z"
   },
   {
    "duration": 8,
    "start_time": "2023-07-12T15:09:37.089Z"
   },
   {
    "duration": 14,
    "start_time": "2023-07-12T15:09:37.099Z"
   },
   {
    "duration": 18,
    "start_time": "2023-07-12T15:09:37.114Z"
   },
   {
    "duration": 3,
    "start_time": "2023-07-12T15:09:37.133Z"
   },
   {
    "duration": 293,
    "start_time": "2023-07-12T15:09:37.138Z"
   },
   {
    "duration": 5,
    "start_time": "2023-07-12T15:09:37.433Z"
   },
   {
    "duration": 296,
    "start_time": "2023-07-12T15:09:37.439Z"
   },
   {
    "duration": 127,
    "start_time": "2023-07-12T15:09:37.737Z"
   },
   {
    "duration": 302,
    "start_time": "2023-07-12T15:09:37.865Z"
   },
   {
    "duration": 124,
    "start_time": "2023-07-12T15:09:38.169Z"
   },
   {
    "duration": 393,
    "start_time": "2023-07-12T15:09:38.294Z"
   },
   {
    "duration": 132,
    "start_time": "2023-07-12T15:09:38.689Z"
   },
   {
    "duration": 25,
    "start_time": "2023-07-12T15:09:38.823Z"
   },
   {
    "duration": 305,
    "start_time": "2023-07-12T15:09:38.858Z"
   },
   {
    "duration": 135,
    "start_time": "2023-07-12T15:09:39.167Z"
   },
   {
    "duration": 244,
    "start_time": "2023-07-12T15:09:39.303Z"
   },
   {
    "duration": 120,
    "start_time": "2023-07-12T15:09:39.549Z"
   },
   {
    "duration": 223,
    "start_time": "2023-07-12T15:09:39.671Z"
   },
   {
    "duration": 131,
    "start_time": "2023-07-12T15:09:39.896Z"
   },
   {
    "duration": 205,
    "start_time": "2023-07-12T15:09:40.029Z"
   },
   {
    "duration": 110,
    "start_time": "2023-07-12T15:09:40.236Z"
   },
   {
    "duration": 193,
    "start_time": "2023-07-12T15:09:40.348Z"
   },
   {
    "duration": 267,
    "start_time": "2023-07-12T15:09:40.542Z"
   },
   {
    "duration": 206,
    "start_time": "2023-07-12T15:09:40.811Z"
   },
   {
    "duration": 142,
    "start_time": "2023-07-12T15:09:41.019Z"
   },
   {
    "duration": 206,
    "start_time": "2023-07-12T15:09:41.162Z"
   },
   {
    "duration": 131,
    "start_time": "2023-07-12T15:09:41.369Z"
   },
   {
    "duration": 224,
    "start_time": "2023-07-12T15:09:41.502Z"
   },
   {
    "duration": 131,
    "start_time": "2023-07-12T15:09:41.728Z"
   },
   {
    "duration": 186,
    "start_time": "2023-07-12T15:09:41.861Z"
   },
   {
    "duration": 164,
    "start_time": "2023-07-12T15:09:42.049Z"
   },
   {
    "duration": 730,
    "start_time": "2023-07-12T15:09:42.215Z"
   },
   {
    "duration": 588,
    "start_time": "2023-07-12T15:09:42.947Z"
   },
   {
    "duration": 154,
    "start_time": "2023-07-12T15:09:43.536Z"
   },
   {
    "duration": 174,
    "start_time": "2023-07-12T15:09:43.692Z"
   },
   {
    "duration": 159,
    "start_time": "2023-07-12T15:09:43.868Z"
   },
   {
    "duration": 220,
    "start_time": "2023-07-12T15:09:44.029Z"
   },
   {
    "duration": 166,
    "start_time": "2023-07-12T15:09:44.259Z"
   },
   {
    "duration": 180,
    "start_time": "2023-07-12T15:09:44.427Z"
   },
   {
    "duration": 181,
    "start_time": "2023-07-12T15:09:44.608Z"
   },
   {
    "duration": 170,
    "start_time": "2023-07-12T15:09:44.791Z"
   },
   {
    "duration": 772,
    "start_time": "2023-07-12T15:09:44.962Z"
   },
   {
    "duration": 42,
    "start_time": "2023-07-12T15:09:45.735Z"
   },
   {
    "duration": 301,
    "start_time": "2023-07-12T15:09:45.779Z"
   },
   {
    "duration": 2170,
    "start_time": "2023-08-13T17:27:52.302Z"
   },
   {
    "duration": 23,
    "start_time": "2023-08-13T17:27:54.474Z"
   },
   {
    "duration": 42,
    "start_time": "2023-08-13T17:27:54.501Z"
   },
   {
    "duration": 83,
    "start_time": "2023-08-13T17:27:54.545Z"
   },
   {
    "duration": 2482,
    "start_time": "2023-08-13T17:27:54.632Z"
   },
   {
    "duration": 6,
    "start_time": "2023-08-13T17:27:57.117Z"
   },
   {
    "duration": 16,
    "start_time": "2023-08-13T17:27:57.126Z"
   },
   {
    "duration": 24,
    "start_time": "2023-08-13T17:27:57.145Z"
   },
   {
    "duration": 40,
    "start_time": "2023-08-13T17:27:57.171Z"
   },
   {
    "duration": 21,
    "start_time": "2023-08-13T17:27:57.213Z"
   },
   {
    "duration": 16,
    "start_time": "2023-08-13T17:27:57.235Z"
   },
   {
    "duration": 21,
    "start_time": "2023-08-13T17:27:57.253Z"
   },
   {
    "duration": 40,
    "start_time": "2023-08-13T17:27:57.276Z"
   },
   {
    "duration": 15,
    "start_time": "2023-08-13T17:27:57.320Z"
   },
   {
    "duration": 12,
    "start_time": "2023-08-13T17:27:57.338Z"
   },
   {
    "duration": 80,
    "start_time": "2023-08-13T17:27:57.352Z"
   },
   {
    "duration": 5,
    "start_time": "2023-08-13T17:27:57.434Z"
   },
   {
    "duration": 24,
    "start_time": "2023-08-13T17:27:57.440Z"
   },
   {
    "duration": 22,
    "start_time": "2023-08-13T17:27:57.468Z"
   },
   {
    "duration": 33,
    "start_time": "2023-08-13T17:27:57.492Z"
   },
   {
    "duration": 12,
    "start_time": "2023-08-13T17:27:57.527Z"
   },
   {
    "duration": 9,
    "start_time": "2023-08-13T17:27:57.541Z"
   },
   {
    "duration": 46,
    "start_time": "2023-08-13T17:27:57.552Z"
   },
   {
    "duration": 21,
    "start_time": "2023-08-13T17:27:57.602Z"
   },
   {
    "duration": 30,
    "start_time": "2023-08-13T17:27:57.626Z"
   },
   {
    "duration": 56,
    "start_time": "2023-08-13T17:27:57.658Z"
   },
   {
    "duration": 17,
    "start_time": "2023-08-13T17:27:57.716Z"
   },
   {
    "duration": 10,
    "start_time": "2023-08-13T17:27:57.736Z"
   },
   {
    "duration": 20,
    "start_time": "2023-08-13T17:27:57.749Z"
   },
   {
    "duration": 48,
    "start_time": "2023-08-13T17:27:57.770Z"
   },
   {
    "duration": 377,
    "start_time": "2023-08-13T17:27:57.820Z"
   },
   {
    "duration": 27,
    "start_time": "2023-08-13T17:27:58.200Z"
   },
   {
    "duration": 491,
    "start_time": "2023-08-13T17:27:58.238Z"
   },
   {
    "duration": 178,
    "start_time": "2023-08-13T17:27:58.731Z"
   },
   {
    "duration": 603,
    "start_time": "2023-08-13T17:27:58.913Z"
   },
   {
    "duration": 168,
    "start_time": "2023-08-13T17:27:59.518Z"
   },
   {
    "duration": 502,
    "start_time": "2023-08-13T17:27:59.694Z"
   },
   {
    "duration": 141,
    "start_time": "2023-08-13T17:28:00.203Z"
   },
   {
    "duration": 60,
    "start_time": "2023-08-13T17:28:00.347Z"
   },
   {
    "duration": 416,
    "start_time": "2023-08-13T17:28:00.410Z"
   },
   {
    "duration": 178,
    "start_time": "2023-08-13T17:28:00.833Z"
   },
   {
    "duration": 300,
    "start_time": "2023-08-13T17:28:01.013Z"
   },
   {
    "duration": 177,
    "start_time": "2023-08-13T17:28:01.316Z"
   },
   {
    "duration": 261,
    "start_time": "2023-08-13T17:28:01.496Z"
   },
   {
    "duration": 186,
    "start_time": "2023-08-13T17:28:01.763Z"
   },
   {
    "duration": 282,
    "start_time": "2023-08-13T17:28:01.951Z"
   },
   {
    "duration": 161,
    "start_time": "2023-08-13T17:28:02.236Z"
   },
   {
    "duration": 247,
    "start_time": "2023-08-13T17:28:02.399Z"
   },
   {
    "duration": 432,
    "start_time": "2023-08-13T17:28:02.649Z"
   },
   {
    "duration": 250,
    "start_time": "2023-08-13T17:28:03.087Z"
   },
   {
    "duration": 257,
    "start_time": "2023-08-13T17:28:03.340Z"
   },
   {
    "duration": 267,
    "start_time": "2023-08-13T17:28:03.603Z"
   },
   {
    "duration": 224,
    "start_time": "2023-08-13T17:28:03.872Z"
   },
   {
    "duration": 290,
    "start_time": "2023-08-13T17:28:04.101Z"
   },
   {
    "duration": 147,
    "start_time": "2023-08-13T17:28:04.401Z"
   },
   {
    "duration": 360,
    "start_time": "2023-08-13T17:28:04.551Z"
   },
   {
    "duration": 211,
    "start_time": "2023-08-13T17:28:04.920Z"
   },
   {
    "duration": 970,
    "start_time": "2023-08-13T17:28:05.133Z"
   },
   {
    "duration": 966,
    "start_time": "2023-08-13T17:28:06.111Z"
   },
   {
    "duration": 255,
    "start_time": "2023-08-13T17:28:07.079Z"
   },
   {
    "duration": 237,
    "start_time": "2023-08-13T17:28:07.337Z"
   },
   {
    "duration": 230,
    "start_time": "2023-08-13T17:28:07.575Z"
   },
   {
    "duration": 279,
    "start_time": "2023-08-13T17:28:07.808Z"
   },
   {
    "duration": 271,
    "start_time": "2023-08-13T17:28:08.089Z"
   },
   {
    "duration": 312,
    "start_time": "2023-08-13T17:28:08.362Z"
   },
   {
    "duration": 277,
    "start_time": "2023-08-13T17:28:08.680Z"
   },
   {
    "duration": 239,
    "start_time": "2023-08-13T17:28:08.958Z"
   },
   {
    "duration": 949,
    "start_time": "2023-08-13T17:28:09.199Z"
   },
   {
    "duration": 67,
    "start_time": "2023-08-13T17:28:10.151Z"
   },
   {
    "duration": 644,
    "start_time": "2023-08-13T17:28:10.220Z"
   },
   {
    "duration": 182,
    "start_time": "2023-08-13T17:31:29.256Z"
   },
   {
    "duration": 143,
    "start_time": "2023-08-13T17:31:35.606Z"
   },
   {
    "duration": 18,
    "start_time": "2023-08-13T17:39:07.493Z"
   },
   {
    "duration": 15,
    "start_time": "2023-08-13T17:39:15.896Z"
   },
   {
    "duration": 14,
    "start_time": "2023-08-13T17:40:35.599Z"
   },
   {
    "duration": 10,
    "start_time": "2023-08-13T17:40:36.491Z"
   },
   {
    "duration": 18,
    "start_time": "2023-08-13T17:41:05.367Z"
   },
   {
    "duration": 6,
    "start_time": "2023-08-13T17:41:05.584Z"
   },
   {
    "duration": 10,
    "start_time": "2023-08-13T17:41:06.386Z"
   },
   {
    "duration": 7,
    "start_time": "2023-08-13T17:41:18.918Z"
   },
   {
    "duration": 19,
    "start_time": "2023-08-13T17:41:28.408Z"
   },
   {
    "duration": 4,
    "start_time": "2023-08-13T17:48:03.810Z"
   },
   {
    "duration": 295,
    "start_time": "2023-08-13T17:48:04.489Z"
   },
   {
    "duration": 1900,
    "start_time": "2023-08-13T17:48:18.786Z"
   },
   {
    "duration": 1525,
    "start_time": "2023-08-13T17:48:33.181Z"
   },
   {
    "duration": 17,
    "start_time": "2023-08-13T17:48:34.708Z"
   },
   {
    "duration": 7,
    "start_time": "2023-08-13T17:48:34.726Z"
   },
   {
    "duration": 96,
    "start_time": "2023-08-13T17:48:34.735Z"
   },
   {
    "duration": 2471,
    "start_time": "2023-08-13T17:48:34.833Z"
   },
   {
    "duration": 4,
    "start_time": "2023-08-13T17:48:37.307Z"
   },
   {
    "duration": 19,
    "start_time": "2023-08-13T17:48:37.313Z"
   },
   {
    "duration": 102,
    "start_time": "2023-08-13T17:48:37.334Z"
   },
   {
    "duration": 10,
    "start_time": "2023-08-13T17:48:37.438Z"
   },
   {
    "duration": 48,
    "start_time": "2023-08-13T17:48:37.450Z"
   },
   {
    "duration": 17,
    "start_time": "2023-08-13T17:48:37.501Z"
   },
   {
    "duration": 7,
    "start_time": "2023-08-13T17:48:37.520Z"
   },
   {
    "duration": 9,
    "start_time": "2023-08-13T17:48:37.529Z"
   },
   {
    "duration": 14,
    "start_time": "2023-08-13T17:48:37.540Z"
   },
   {
    "duration": 15,
    "start_time": "2023-08-13T17:48:37.555Z"
   },
   {
    "duration": 53,
    "start_time": "2023-08-13T17:48:37.572Z"
   },
   {
    "duration": 4,
    "start_time": "2023-08-13T17:48:37.627Z"
   },
   {
    "duration": 22,
    "start_time": "2023-08-13T17:48:37.633Z"
   },
   {
    "duration": 36,
    "start_time": "2023-08-13T17:48:37.658Z"
   },
   {
    "duration": 26,
    "start_time": "2023-08-13T17:48:37.696Z"
   },
   {
    "duration": 14,
    "start_time": "2023-08-13T17:48:37.725Z"
   },
   {
    "duration": 6,
    "start_time": "2023-08-13T17:48:37.740Z"
   },
   {
    "duration": 10,
    "start_time": "2023-08-13T17:48:37.747Z"
   },
   {
    "duration": 28,
    "start_time": "2023-08-13T17:48:37.762Z"
   },
   {
    "duration": 39,
    "start_time": "2023-08-13T17:48:37.792Z"
   },
   {
    "duration": 11,
    "start_time": "2023-08-13T17:48:37.833Z"
   },
   {
    "duration": 12,
    "start_time": "2023-08-13T17:48:37.847Z"
   },
   {
    "duration": 47,
    "start_time": "2023-08-13T17:48:37.863Z"
   },
   {
    "duration": 15,
    "start_time": "2023-08-13T17:48:37.912Z"
   },
   {
    "duration": 3,
    "start_time": "2023-08-13T17:48:37.929Z"
   },
   {
    "duration": 402,
    "start_time": "2023-08-13T17:48:37.933Z"
   },
   {
    "duration": 5,
    "start_time": "2023-08-13T17:48:38.338Z"
   },
   {
    "duration": 490,
    "start_time": "2023-08-13T17:48:38.345Z"
   },
   {
    "duration": 166,
    "start_time": "2023-08-13T17:48:38.836Z"
   },
   {
    "duration": 374,
    "start_time": "2023-08-13T17:48:39.004Z"
   },
   {
    "duration": 158,
    "start_time": "2023-08-13T17:48:39.388Z"
   },
   {
    "duration": 494,
    "start_time": "2023-08-13T17:48:39.548Z"
   },
   {
    "duration": 163,
    "start_time": "2023-08-13T17:48:40.044Z"
   },
   {
    "duration": 27,
    "start_time": "2023-08-13T17:48:40.211Z"
   },
   {
    "duration": 393,
    "start_time": "2023-08-13T17:48:40.240Z"
   },
   {
    "duration": 181,
    "start_time": "2023-08-13T17:48:40.635Z"
   },
   {
    "duration": 290,
    "start_time": "2023-08-13T17:48:40.817Z"
   },
   {
    "duration": 160,
    "start_time": "2023-08-13T17:48:41.110Z"
   },
   {
    "duration": 282,
    "start_time": "2023-08-13T17:48:41.272Z"
   },
   {
    "duration": 174,
    "start_time": "2023-08-13T17:48:41.556Z"
   },
   {
    "duration": 252,
    "start_time": "2023-08-13T17:48:41.732Z"
   },
   {
    "duration": 123,
    "start_time": "2023-08-13T17:48:41.993Z"
   },
   {
    "duration": 222,
    "start_time": "2023-08-13T17:48:42.118Z"
   },
   {
    "duration": 310,
    "start_time": "2023-08-13T17:48:42.342Z"
   },
   {
    "duration": 260,
    "start_time": "2023-08-13T17:48:42.659Z"
   },
   {
    "duration": 187,
    "start_time": "2023-08-13T17:48:42.921Z"
   },
   {
    "duration": 241,
    "start_time": "2023-08-13T17:48:43.110Z"
   },
   {
    "duration": 165,
    "start_time": "2023-08-13T17:48:43.353Z"
   },
   {
    "duration": 250,
    "start_time": "2023-08-13T17:48:43.520Z"
   },
   {
    "duration": 156,
    "start_time": "2023-08-13T17:48:43.772Z"
   },
   {
    "duration": 219,
    "start_time": "2023-08-13T17:48:43.930Z"
   },
   {
    "duration": 198,
    "start_time": "2023-08-13T17:48:44.150Z"
   },
   {
    "duration": 901,
    "start_time": "2023-08-13T17:48:44.350Z"
   },
   {
    "duration": 757,
    "start_time": "2023-08-13T17:48:45.253Z"
   },
   {
    "duration": 178,
    "start_time": "2023-08-13T17:48:46.013Z"
   },
   {
    "duration": 207,
    "start_time": "2023-08-13T17:48:46.199Z"
   },
   {
    "duration": 197,
    "start_time": "2023-08-13T17:48:46.407Z"
   },
   {
    "duration": 213,
    "start_time": "2023-08-13T17:48:46.606Z"
   },
   {
    "duration": 201,
    "start_time": "2023-08-13T17:48:46.821Z"
   },
   {
    "duration": 222,
    "start_time": "2023-08-13T17:48:47.024Z"
   },
   {
    "duration": 265,
    "start_time": "2023-08-13T17:48:47.248Z"
   },
   {
    "duration": 213,
    "start_time": "2023-08-13T17:48:47.515Z"
   },
   {
    "duration": 958,
    "start_time": "2023-08-13T17:48:47.731Z"
   },
   {
    "duration": 51,
    "start_time": "2023-08-13T17:48:48.694Z"
   },
   {
    "duration": 444,
    "start_time": "2023-08-13T17:48:48.748Z"
   },
   {
    "duration": 415,
    "start_time": "2023-08-13T17:50:55.610Z"
   },
   {
    "duration": 379,
    "start_time": "2023-08-13T17:51:27.261Z"
   },
   {
    "duration": 375,
    "start_time": "2023-08-13T17:51:45.920Z"
   },
   {
    "duration": 387,
    "start_time": "2023-08-13T17:52:24.928Z"
   },
   {
    "duration": 563,
    "start_time": "2023-08-13T17:52:59.703Z"
   },
   {
    "duration": 223,
    "start_time": "2023-08-13T17:53:11.785Z"
   },
   {
    "duration": 403,
    "start_time": "2023-08-13T17:53:17.225Z"
   },
   {
    "duration": 162,
    "start_time": "2023-08-13T17:53:41.420Z"
   },
   {
    "duration": 379,
    "start_time": "2023-08-13T17:53:52.921Z"
   },
   {
    "duration": 177,
    "start_time": "2023-08-13T17:54:09.369Z"
   },
   {
    "duration": 608,
    "start_time": "2023-08-13T17:54:40.110Z"
   },
   {
    "duration": 161,
    "start_time": "2023-08-13T17:54:56.282Z"
   },
   {
    "duration": 42,
    "start_time": "2023-08-13T17:55:03.003Z"
   },
   {
    "duration": 440,
    "start_time": "2023-08-13T17:55:05.056Z"
   },
   {
    "duration": 168,
    "start_time": "2023-08-13T17:57:37.238Z"
   },
   {
    "duration": 287,
    "start_time": "2023-08-13T17:58:39.929Z"
   },
   {
    "duration": 369,
    "start_time": "2023-08-13T17:58:44.219Z"
   },
   {
    "duration": 150,
    "start_time": "2023-08-13T17:58:46.618Z"
   },
   {
    "duration": 163,
    "start_time": "2023-08-13T17:59:05.959Z"
   },
   {
    "duration": 176,
    "start_time": "2023-08-13T18:00:03.112Z"
   },
   {
    "duration": 264,
    "start_time": "2023-08-13T18:00:13.860Z"
   },
   {
    "duration": 164,
    "start_time": "2023-08-13T18:00:14.505Z"
   },
   {
    "duration": 181,
    "start_time": "2023-08-13T18:00:33.260Z"
   },
   {
    "duration": 357,
    "start_time": "2023-08-13T18:00:52.261Z"
   },
   {
    "duration": 395,
    "start_time": "2023-08-13T18:01:26.921Z"
   },
   {
    "duration": 268,
    "start_time": "2023-08-13T18:01:42.821Z"
   },
   {
    "duration": 171,
    "start_time": "2023-08-13T18:01:45.729Z"
   },
   {
    "duration": 176,
    "start_time": "2023-08-13T18:02:29.601Z"
   },
   {
    "duration": 313,
    "start_time": "2023-08-13T18:02:38.618Z"
   },
   {
    "duration": 198,
    "start_time": "2023-08-13T18:03:05.321Z"
   },
   {
    "duration": 325,
    "start_time": "2023-08-13T18:03:22.818Z"
   },
   {
    "duration": 195,
    "start_time": "2023-08-13T18:03:51.505Z"
   },
   {
    "duration": 308,
    "start_time": "2023-08-13T18:03:56.988Z"
   },
   {
    "duration": 238,
    "start_time": "2023-08-13T18:04:02.104Z"
   },
   {
    "duration": 1195,
    "start_time": "2023-08-13T18:04:18.842Z"
   },
   {
    "duration": 826,
    "start_time": "2023-08-13T18:05:16.262Z"
   },
   {
    "duration": 246,
    "start_time": "2023-08-13T18:06:01.901Z"
   },
   {
    "duration": 247,
    "start_time": "2023-08-13T18:07:19.997Z"
   },
   {
    "duration": 277,
    "start_time": "2023-08-13T18:07:28.853Z"
   },
   {
    "duration": 221,
    "start_time": "2023-08-13T18:07:32.980Z"
   },
   {
    "duration": 309,
    "start_time": "2023-08-13T18:08:10.140Z"
   },
   {
    "duration": 289,
    "start_time": "2023-08-13T18:09:09.123Z"
   },
   {
    "duration": 352,
    "start_time": "2023-08-13T18:09:11.820Z"
   },
   {
    "duration": 321,
    "start_time": "2023-08-13T18:09:14.578Z"
   },
   {
    "duration": 769,
    "start_time": "2023-08-13T18:11:22.310Z"
   },
   {
    "duration": 983,
    "start_time": "2023-08-13T18:11:38.333Z"
   },
   {
    "duration": 1585,
    "start_time": "2023-08-13T18:13:38.528Z"
   },
   {
    "duration": 878,
    "start_time": "2023-08-13T18:14:26.887Z"
   },
   {
    "duration": 624,
    "start_time": "2023-08-13T18:16:31.221Z"
   },
   {
    "duration": 71,
    "start_time": "2023-08-13T18:16:55.246Z"
   },
   {
    "duration": 47,
    "start_time": "2023-08-13T18:17:07.312Z"
   },
   {
    "duration": 59,
    "start_time": "2023-08-13T18:17:39.107Z"
   },
   {
    "duration": 169,
    "start_time": "2023-08-13T18:18:18.859Z"
   },
   {
    "duration": 146,
    "start_time": "2023-08-13T18:18:27.602Z"
   },
   {
    "duration": 666,
    "start_time": "2023-08-13T18:18:33.709Z"
   },
   {
    "duration": 633,
    "start_time": "2023-08-13T18:19:14.706Z"
   },
   {
    "duration": 147,
    "start_time": "2023-08-13T18:19:21.433Z"
   },
   {
    "duration": 599,
    "start_time": "2023-08-13T18:19:36.751Z"
   },
   {
    "duration": 78,
    "start_time": "2023-08-13T18:19:58.356Z"
   },
   {
    "duration": 88,
    "start_time": "2023-08-13T18:20:38.037Z"
   },
   {
    "duration": 606,
    "start_time": "2023-08-13T18:20:53.573Z"
   },
   {
    "duration": 2269,
    "start_time": "2023-08-13T18:22:30.377Z"
   },
   {
    "duration": 40,
    "start_time": "2023-08-13T18:22:32.648Z"
   },
   {
    "duration": 162,
    "start_time": "2023-08-13T18:22:32.690Z"
   },
   {
    "duration": 348,
    "start_time": "2023-08-13T18:22:32.856Z"
   },
   {
    "duration": 2928,
    "start_time": "2023-08-13T18:22:33.216Z"
   },
   {
    "duration": 18,
    "start_time": "2023-08-13T18:22:36.148Z"
   },
   {
    "duration": 104,
    "start_time": "2023-08-13T18:22:36.167Z"
   },
   {
    "duration": 92,
    "start_time": "2023-08-13T18:22:36.276Z"
   },
   {
    "duration": 60,
    "start_time": "2023-08-13T18:22:36.370Z"
   },
   {
    "duration": 31,
    "start_time": "2023-08-13T18:22:36.441Z"
   },
   {
    "duration": 72,
    "start_time": "2023-08-13T18:22:36.477Z"
   },
   {
    "duration": 77,
    "start_time": "2023-08-13T18:22:36.555Z"
   },
   {
    "duration": 58,
    "start_time": "2023-08-13T18:22:36.638Z"
   },
   {
    "duration": 77,
    "start_time": "2023-08-13T18:22:36.703Z"
   },
   {
    "duration": 66,
    "start_time": "2023-08-13T18:22:36.785Z"
   },
   {
    "duration": 23,
    "start_time": "2023-08-13T18:22:36.853Z"
   },
   {
    "duration": 77,
    "start_time": "2023-08-13T18:22:36.878Z"
   },
   {
    "duration": 97,
    "start_time": "2023-08-13T18:22:36.958Z"
   },
   {
    "duration": 38,
    "start_time": "2023-08-13T18:22:37.057Z"
   },
   {
    "duration": 69,
    "start_time": "2023-08-13T18:22:37.097Z"
   },
   {
    "duration": 118,
    "start_time": "2023-08-13T18:22:37.168Z"
   },
   {
    "duration": 71,
    "start_time": "2023-08-13T18:22:37.305Z"
   },
   {
    "duration": 97,
    "start_time": "2023-08-13T18:22:37.385Z"
   },
   {
    "duration": 101,
    "start_time": "2023-08-13T18:22:37.495Z"
   },
   {
    "duration": 154,
    "start_time": "2023-08-13T18:22:37.602Z"
   },
   {
    "duration": 98,
    "start_time": "2023-08-13T18:22:37.758Z"
   },
   {
    "duration": 75,
    "start_time": "2023-08-13T18:22:37.868Z"
   },
   {
    "duration": 21,
    "start_time": "2023-08-13T18:22:37.945Z"
   },
   {
    "duration": 147,
    "start_time": "2023-08-13T18:22:37.968Z"
   },
   {
    "duration": 49,
    "start_time": "2023-08-13T18:22:38.119Z"
   },
   {
    "duration": 585,
    "start_time": "2023-08-13T18:22:38.170Z"
   },
   {
    "duration": 26,
    "start_time": "2023-08-13T18:22:38.760Z"
   },
   {
    "duration": 689,
    "start_time": "2023-08-13T18:22:38.797Z"
   },
   {
    "duration": 220,
    "start_time": "2023-08-13T18:22:39.489Z"
   },
   {
    "duration": 488,
    "start_time": "2023-08-13T18:22:39.713Z"
   },
   {
    "duration": 200,
    "start_time": "2023-08-13T18:22:40.209Z"
   },
   {
    "duration": 659,
    "start_time": "2023-08-13T18:22:40.415Z"
   },
   {
    "duration": 225,
    "start_time": "2023-08-13T18:22:41.081Z"
   },
   {
    "duration": 83,
    "start_time": "2023-08-13T18:22:41.312Z"
   },
   {
    "duration": 630,
    "start_time": "2023-08-13T18:22:41.401Z"
   },
   {
    "duration": 226,
    "start_time": "2023-08-13T18:22:42.042Z"
   },
   {
    "duration": 370,
    "start_time": "2023-08-13T18:22:42.274Z"
   },
   {
    "duration": 294,
    "start_time": "2023-08-13T18:22:42.653Z"
   },
   {
    "duration": 425,
    "start_time": "2023-08-13T18:22:42.953Z"
   },
   {
    "duration": 350,
    "start_time": "2023-08-13T18:22:43.390Z"
   },
   {
    "duration": 298,
    "start_time": "2023-08-13T18:22:43.742Z"
   },
   {
    "duration": 203,
    "start_time": "2023-08-13T18:22:44.049Z"
   },
   {
    "duration": 304,
    "start_time": "2023-08-13T18:22:44.256Z"
   },
   {
    "duration": 479,
    "start_time": "2023-08-13T18:22:44.562Z"
   },
   {
    "duration": 410,
    "start_time": "2023-08-13T18:22:45.043Z"
   },
   {
    "duration": 435,
    "start_time": "2023-08-13T18:22:45.465Z"
   },
   {
    "duration": 366,
    "start_time": "2023-08-13T18:22:45.906Z"
   },
   {
    "duration": 210,
    "start_time": "2023-08-13T18:22:46.279Z"
   },
   {
    "duration": 307,
    "start_time": "2023-08-13T18:22:46.494Z"
   },
   {
    "duration": 178,
    "start_time": "2023-08-13T18:22:46.803Z"
   },
   {
    "duration": 292,
    "start_time": "2023-08-13T18:22:46.987Z"
   },
   {
    "duration": 254,
    "start_time": "2023-08-13T18:22:47.281Z"
   },
   {
    "duration": 1046,
    "start_time": "2023-08-13T18:22:47.542Z"
   },
   {
    "duration": 907,
    "start_time": "2023-08-13T18:22:48.594Z"
   },
   {
    "duration": 229,
    "start_time": "2023-08-13T18:22:49.509Z"
   },
   {
    "duration": 289,
    "start_time": "2023-08-13T18:22:49.746Z"
   },
   {
    "duration": 241,
    "start_time": "2023-08-13T18:22:50.043Z"
   },
   {
    "duration": 242,
    "start_time": "2023-08-13T18:22:50.290Z"
   },
   {
    "duration": 213,
    "start_time": "2023-08-13T18:22:50.538Z"
   },
   {
    "duration": 242,
    "start_time": "2023-08-13T18:22:50.756Z"
   },
   {
    "duration": 250,
    "start_time": "2023-08-13T18:22:51.004Z"
   },
   {
    "duration": 230,
    "start_time": "2023-08-13T18:22:51.259Z"
   },
   {
    "duration": 1039,
    "start_time": "2023-08-13T18:22:51.495Z"
   },
   {
    "duration": 50,
    "start_time": "2023-08-13T18:22:52.536Z"
   },
   {
    "duration": 538,
    "start_time": "2023-08-13T18:22:52.590Z"
   }
  ],
  "kernelspec": {
   "display_name": "Python 3 (ipykernel)",
   "language": "python",
   "name": "python3"
  },
  "language_info": {
   "codemirror_mode": {
    "name": "ipython",
    "version": 3
   },
   "file_extension": ".py",
   "mimetype": "text/x-python",
   "name": "python",
   "nbconvert_exporter": "python",
   "pygments_lexer": "ipython3",
   "version": "3.9.5"
  },
  "toc": {
   "base_numbering": 1,
   "nav_menu": {},
   "number_sections": true,
   "sideBar": true,
   "skip_h1_title": true,
   "title_cell": "Table of Contents",
   "title_sidebar": "Contents",
   "toc_cell": false,
   "toc_position": {},
   "toc_section_display": true,
   "toc_window_display": false
  }
 },
 "nbformat": 4,
 "nbformat_minor": 2
}
