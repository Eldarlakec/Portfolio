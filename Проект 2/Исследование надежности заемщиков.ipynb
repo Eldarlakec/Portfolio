{
 "cells": [
  {
   "cell_type": "markdown",
   "id": "4f11de00",
   "metadata": {
    "deletable": false,
    "editable": false,
    "id": "4f11de00"
   },
   "source": [
    "# Исследование надежности заемщиков"
   ]
  },
  {
   "cell_type": "markdown",
   "id": "f09d6878",
   "metadata": {
    "deletable": false,
    "editable": false,
    "id": "f09d6878"
   },
   "source": [
    "Это первая часть проекта, она будет проверена автоматически. Вторую часть проверит ревьюер. "
   ]
  },
  {
   "cell_type": "markdown",
   "id": "516620ee",
   "metadata": {
    "deletable": false,
    "editable": false,
    "id": "516620ee"
   },
   "source": [
    "## Откройте таблицу и изучите общую информацию о данных"
   ]
  },
  {
   "cell_type": "markdown",
   "id": "76a8a9ce",
   "metadata": {
    "deletable": false,
    "editable": false,
    "id": "76a8a9ce",
    "tags": [
     "start_task"
    ]
   },
   "source": [
    "**Задание 1. Импортируйте библиотеку pandas. Считайте данные из csv-файла в датафрейм и сохраните в переменную `data`. Путь к файлу:**\n",
    "\n",
    "`/datasets/data.csv`"
   ]
  },
  {
   "cell_type": "code",
   "execution_count": 1,
   "id": "fab207d0",
   "metadata": {
    "id": "fab207d0"
   },
   "outputs": [],
   "source": [
    "import pandas as pd"
   ]
  },
  {
   "cell_type": "code",
   "execution_count": 2,
   "id": "4eb0ad1b",
   "metadata": {},
   "outputs": [],
   "source": [
    "data=pd.read_csv('/datasets/data.csv')"
   ]
  },
  {
   "cell_type": "markdown",
   "id": "08bbb5b3",
   "metadata": {
    "deletable": false,
    "editable": false,
    "id": "08bbb5b3",
    "tags": [
     "start_task"
    ]
   },
   "source": [
    "**Задание 2. Выведите первые 20 строчек датафрейма `data` на экран.**"
   ]
  },
  {
   "cell_type": "code",
   "execution_count": 3,
   "id": "4ff33b36",
   "metadata": {
    "id": "4ff33b36"
   },
   "outputs": [
    {
     "data": {
      "text/html": [
       "<div>\n",
       "<style scoped>\n",
       "    .dataframe tbody tr th:only-of-type {\n",
       "        vertical-align: middle;\n",
       "    }\n",
       "\n",
       "    .dataframe tbody tr th {\n",
       "        vertical-align: top;\n",
       "    }\n",
       "\n",
       "    .dataframe thead th {\n",
       "        text-align: right;\n",
       "    }\n",
       "</style>\n",
       "<table border=\"1\" class=\"dataframe\">\n",
       "  <thead>\n",
       "    <tr style=\"text-align: right;\">\n",
       "      <th></th>\n",
       "      <th>children</th>\n",
       "      <th>days_employed</th>\n",
       "      <th>dob_years</th>\n",
       "      <th>education</th>\n",
       "      <th>education_id</th>\n",
       "      <th>family_status</th>\n",
       "      <th>family_status_id</th>\n",
       "      <th>gender</th>\n",
       "      <th>income_type</th>\n",
       "      <th>debt</th>\n",
       "      <th>total_income</th>\n",
       "      <th>purpose</th>\n",
       "    </tr>\n",
       "  </thead>\n",
       "  <tbody>\n",
       "    <tr>\n",
       "      <th>0</th>\n",
       "      <td>1</td>\n",
       "      <td>-8437.673028</td>\n",
       "      <td>42</td>\n",
       "      <td>высшее</td>\n",
       "      <td>0</td>\n",
       "      <td>женат / замужем</td>\n",
       "      <td>0</td>\n",
       "      <td>F</td>\n",
       "      <td>сотрудник</td>\n",
       "      <td>0</td>\n",
       "      <td>253875.639453</td>\n",
       "      <td>покупка жилья</td>\n",
       "    </tr>\n",
       "    <tr>\n",
       "      <th>1</th>\n",
       "      <td>1</td>\n",
       "      <td>-4024.803754</td>\n",
       "      <td>36</td>\n",
       "      <td>среднее</td>\n",
       "      <td>1</td>\n",
       "      <td>женат / замужем</td>\n",
       "      <td>0</td>\n",
       "      <td>F</td>\n",
       "      <td>сотрудник</td>\n",
       "      <td>0</td>\n",
       "      <td>112080.014102</td>\n",
       "      <td>приобретение автомобиля</td>\n",
       "    </tr>\n",
       "    <tr>\n",
       "      <th>2</th>\n",
       "      <td>0</td>\n",
       "      <td>-5623.422610</td>\n",
       "      <td>33</td>\n",
       "      <td>Среднее</td>\n",
       "      <td>1</td>\n",
       "      <td>женат / замужем</td>\n",
       "      <td>0</td>\n",
       "      <td>M</td>\n",
       "      <td>сотрудник</td>\n",
       "      <td>0</td>\n",
       "      <td>145885.952297</td>\n",
       "      <td>покупка жилья</td>\n",
       "    </tr>\n",
       "    <tr>\n",
       "      <th>3</th>\n",
       "      <td>3</td>\n",
       "      <td>-4124.747207</td>\n",
       "      <td>32</td>\n",
       "      <td>среднее</td>\n",
       "      <td>1</td>\n",
       "      <td>женат / замужем</td>\n",
       "      <td>0</td>\n",
       "      <td>M</td>\n",
       "      <td>сотрудник</td>\n",
       "      <td>0</td>\n",
       "      <td>267628.550329</td>\n",
       "      <td>дополнительное образование</td>\n",
       "    </tr>\n",
       "    <tr>\n",
       "      <th>4</th>\n",
       "      <td>0</td>\n",
       "      <td>340266.072047</td>\n",
       "      <td>53</td>\n",
       "      <td>среднее</td>\n",
       "      <td>1</td>\n",
       "      <td>гражданский брак</td>\n",
       "      <td>1</td>\n",
       "      <td>F</td>\n",
       "      <td>пенсионер</td>\n",
       "      <td>0</td>\n",
       "      <td>158616.077870</td>\n",
       "      <td>сыграть свадьбу</td>\n",
       "    </tr>\n",
       "    <tr>\n",
       "      <th>5</th>\n",
       "      <td>0</td>\n",
       "      <td>-926.185831</td>\n",
       "      <td>27</td>\n",
       "      <td>высшее</td>\n",
       "      <td>0</td>\n",
       "      <td>гражданский брак</td>\n",
       "      <td>1</td>\n",
       "      <td>M</td>\n",
       "      <td>компаньон</td>\n",
       "      <td>0</td>\n",
       "      <td>255763.565419</td>\n",
       "      <td>покупка жилья</td>\n",
       "    </tr>\n",
       "    <tr>\n",
       "      <th>6</th>\n",
       "      <td>0</td>\n",
       "      <td>-2879.202052</td>\n",
       "      <td>43</td>\n",
       "      <td>высшее</td>\n",
       "      <td>0</td>\n",
       "      <td>женат / замужем</td>\n",
       "      <td>0</td>\n",
       "      <td>F</td>\n",
       "      <td>компаньон</td>\n",
       "      <td>0</td>\n",
       "      <td>240525.971920</td>\n",
       "      <td>операции с жильем</td>\n",
       "    </tr>\n",
       "    <tr>\n",
       "      <th>7</th>\n",
       "      <td>0</td>\n",
       "      <td>-152.779569</td>\n",
       "      <td>50</td>\n",
       "      <td>СРЕДНЕЕ</td>\n",
       "      <td>1</td>\n",
       "      <td>женат / замужем</td>\n",
       "      <td>0</td>\n",
       "      <td>M</td>\n",
       "      <td>сотрудник</td>\n",
       "      <td>0</td>\n",
       "      <td>135823.934197</td>\n",
       "      <td>образование</td>\n",
       "    </tr>\n",
       "    <tr>\n",
       "      <th>8</th>\n",
       "      <td>2</td>\n",
       "      <td>-6929.865299</td>\n",
       "      <td>35</td>\n",
       "      <td>ВЫСШЕЕ</td>\n",
       "      <td>0</td>\n",
       "      <td>гражданский брак</td>\n",
       "      <td>1</td>\n",
       "      <td>F</td>\n",
       "      <td>сотрудник</td>\n",
       "      <td>0</td>\n",
       "      <td>95856.832424</td>\n",
       "      <td>на проведение свадьбы</td>\n",
       "    </tr>\n",
       "    <tr>\n",
       "      <th>9</th>\n",
       "      <td>0</td>\n",
       "      <td>-2188.756445</td>\n",
       "      <td>41</td>\n",
       "      <td>среднее</td>\n",
       "      <td>1</td>\n",
       "      <td>женат / замужем</td>\n",
       "      <td>0</td>\n",
       "      <td>M</td>\n",
       "      <td>сотрудник</td>\n",
       "      <td>0</td>\n",
       "      <td>144425.938277</td>\n",
       "      <td>покупка жилья для семьи</td>\n",
       "    </tr>\n",
       "    <tr>\n",
       "      <th>10</th>\n",
       "      <td>2</td>\n",
       "      <td>-4171.483647</td>\n",
       "      <td>36</td>\n",
       "      <td>высшее</td>\n",
       "      <td>0</td>\n",
       "      <td>женат / замужем</td>\n",
       "      <td>0</td>\n",
       "      <td>M</td>\n",
       "      <td>компаньон</td>\n",
       "      <td>0</td>\n",
       "      <td>113943.491460</td>\n",
       "      <td>покупка недвижимости</td>\n",
       "    </tr>\n",
       "    <tr>\n",
       "      <th>11</th>\n",
       "      <td>0</td>\n",
       "      <td>-792.701887</td>\n",
       "      <td>40</td>\n",
       "      <td>среднее</td>\n",
       "      <td>1</td>\n",
       "      <td>женат / замужем</td>\n",
       "      <td>0</td>\n",
       "      <td>F</td>\n",
       "      <td>сотрудник</td>\n",
       "      <td>0</td>\n",
       "      <td>77069.234271</td>\n",
       "      <td>покупка коммерческой недвижимости</td>\n",
       "    </tr>\n",
       "    <tr>\n",
       "      <th>12</th>\n",
       "      <td>0</td>\n",
       "      <td>NaN</td>\n",
       "      <td>65</td>\n",
       "      <td>среднее</td>\n",
       "      <td>1</td>\n",
       "      <td>гражданский брак</td>\n",
       "      <td>1</td>\n",
       "      <td>M</td>\n",
       "      <td>пенсионер</td>\n",
       "      <td>0</td>\n",
       "      <td>NaN</td>\n",
       "      <td>сыграть свадьбу</td>\n",
       "    </tr>\n",
       "    <tr>\n",
       "      <th>13</th>\n",
       "      <td>0</td>\n",
       "      <td>-1846.641941</td>\n",
       "      <td>54</td>\n",
       "      <td>неоконченное высшее</td>\n",
       "      <td>2</td>\n",
       "      <td>женат / замужем</td>\n",
       "      <td>0</td>\n",
       "      <td>F</td>\n",
       "      <td>сотрудник</td>\n",
       "      <td>0</td>\n",
       "      <td>130458.228857</td>\n",
       "      <td>приобретение автомобиля</td>\n",
       "    </tr>\n",
       "    <tr>\n",
       "      <th>14</th>\n",
       "      <td>0</td>\n",
       "      <td>-1844.956182</td>\n",
       "      <td>56</td>\n",
       "      <td>высшее</td>\n",
       "      <td>0</td>\n",
       "      <td>гражданский брак</td>\n",
       "      <td>1</td>\n",
       "      <td>F</td>\n",
       "      <td>компаньон</td>\n",
       "      <td>1</td>\n",
       "      <td>165127.911772</td>\n",
       "      <td>покупка жилой недвижимости</td>\n",
       "    </tr>\n",
       "    <tr>\n",
       "      <th>15</th>\n",
       "      <td>1</td>\n",
       "      <td>-972.364419</td>\n",
       "      <td>26</td>\n",
       "      <td>среднее</td>\n",
       "      <td>1</td>\n",
       "      <td>женат / замужем</td>\n",
       "      <td>0</td>\n",
       "      <td>F</td>\n",
       "      <td>сотрудник</td>\n",
       "      <td>0</td>\n",
       "      <td>116820.904450</td>\n",
       "      <td>строительство собственной недвижимости</td>\n",
       "    </tr>\n",
       "    <tr>\n",
       "      <th>16</th>\n",
       "      <td>0</td>\n",
       "      <td>-1719.934226</td>\n",
       "      <td>35</td>\n",
       "      <td>среднее</td>\n",
       "      <td>1</td>\n",
       "      <td>женат / замужем</td>\n",
       "      <td>0</td>\n",
       "      <td>F</td>\n",
       "      <td>сотрудник</td>\n",
       "      <td>0</td>\n",
       "      <td>289202.704229</td>\n",
       "      <td>недвижимость</td>\n",
       "    </tr>\n",
       "    <tr>\n",
       "      <th>17</th>\n",
       "      <td>0</td>\n",
       "      <td>-2369.999720</td>\n",
       "      <td>33</td>\n",
       "      <td>высшее</td>\n",
       "      <td>0</td>\n",
       "      <td>гражданский брак</td>\n",
       "      <td>1</td>\n",
       "      <td>M</td>\n",
       "      <td>сотрудник</td>\n",
       "      <td>0</td>\n",
       "      <td>90410.586745</td>\n",
       "      <td>строительство недвижимости</td>\n",
       "    </tr>\n",
       "    <tr>\n",
       "      <th>18</th>\n",
       "      <td>0</td>\n",
       "      <td>400281.136913</td>\n",
       "      <td>53</td>\n",
       "      <td>среднее</td>\n",
       "      <td>1</td>\n",
       "      <td>вдовец / вдова</td>\n",
       "      <td>2</td>\n",
       "      <td>F</td>\n",
       "      <td>пенсионер</td>\n",
       "      <td>0</td>\n",
       "      <td>56823.777243</td>\n",
       "      <td>на покупку подержанного автомобиля</td>\n",
       "    </tr>\n",
       "    <tr>\n",
       "      <th>19</th>\n",
       "      <td>0</td>\n",
       "      <td>-10038.818549</td>\n",
       "      <td>48</td>\n",
       "      <td>СРЕДНЕЕ</td>\n",
       "      <td>1</td>\n",
       "      <td>в разводе</td>\n",
       "      <td>3</td>\n",
       "      <td>F</td>\n",
       "      <td>сотрудник</td>\n",
       "      <td>0</td>\n",
       "      <td>242831.107982</td>\n",
       "      <td>на покупку своего автомобиля</td>\n",
       "    </tr>\n",
       "  </tbody>\n",
       "</table>\n",
       "</div>"
      ],
      "text/plain": [
       "    children  days_employed  dob_years            education  education_id  \\\n",
       "0          1   -8437.673028         42               высшее             0   \n",
       "1          1   -4024.803754         36              среднее             1   \n",
       "2          0   -5623.422610         33              Среднее             1   \n",
       "3          3   -4124.747207         32              среднее             1   \n",
       "4          0  340266.072047         53              среднее             1   \n",
       "5          0    -926.185831         27               высшее             0   \n",
       "6          0   -2879.202052         43               высшее             0   \n",
       "7          0    -152.779569         50              СРЕДНЕЕ             1   \n",
       "8          2   -6929.865299         35               ВЫСШЕЕ             0   \n",
       "9          0   -2188.756445         41              среднее             1   \n",
       "10         2   -4171.483647         36               высшее             0   \n",
       "11         0    -792.701887         40              среднее             1   \n",
       "12         0            NaN         65              среднее             1   \n",
       "13         0   -1846.641941         54  неоконченное высшее             2   \n",
       "14         0   -1844.956182         56               высшее             0   \n",
       "15         1    -972.364419         26              среднее             1   \n",
       "16         0   -1719.934226         35              среднее             1   \n",
       "17         0   -2369.999720         33               высшее             0   \n",
       "18         0  400281.136913         53              среднее             1   \n",
       "19         0  -10038.818549         48              СРЕДНЕЕ             1   \n",
       "\n",
       "       family_status  family_status_id gender income_type  debt  \\\n",
       "0    женат / замужем                 0      F   сотрудник     0   \n",
       "1    женат / замужем                 0      F   сотрудник     0   \n",
       "2    женат / замужем                 0      M   сотрудник     0   \n",
       "3    женат / замужем                 0      M   сотрудник     0   \n",
       "4   гражданский брак                 1      F   пенсионер     0   \n",
       "5   гражданский брак                 1      M   компаньон     0   \n",
       "6    женат / замужем                 0      F   компаньон     0   \n",
       "7    женат / замужем                 0      M   сотрудник     0   \n",
       "8   гражданский брак                 1      F   сотрудник     0   \n",
       "9    женат / замужем                 0      M   сотрудник     0   \n",
       "10   женат / замужем                 0      M   компаньон     0   \n",
       "11   женат / замужем                 0      F   сотрудник     0   \n",
       "12  гражданский брак                 1      M   пенсионер     0   \n",
       "13   женат / замужем                 0      F   сотрудник     0   \n",
       "14  гражданский брак                 1      F   компаньон     1   \n",
       "15   женат / замужем                 0      F   сотрудник     0   \n",
       "16   женат / замужем                 0      F   сотрудник     0   \n",
       "17  гражданский брак                 1      M   сотрудник     0   \n",
       "18    вдовец / вдова                 2      F   пенсионер     0   \n",
       "19         в разводе                 3      F   сотрудник     0   \n",
       "\n",
       "     total_income                                 purpose  \n",
       "0   253875.639453                           покупка жилья  \n",
       "1   112080.014102                 приобретение автомобиля  \n",
       "2   145885.952297                           покупка жилья  \n",
       "3   267628.550329              дополнительное образование  \n",
       "4   158616.077870                         сыграть свадьбу  \n",
       "5   255763.565419                           покупка жилья  \n",
       "6   240525.971920                       операции с жильем  \n",
       "7   135823.934197                             образование  \n",
       "8    95856.832424                   на проведение свадьбы  \n",
       "9   144425.938277                 покупка жилья для семьи  \n",
       "10  113943.491460                    покупка недвижимости  \n",
       "11   77069.234271       покупка коммерческой недвижимости  \n",
       "12            NaN                         сыграть свадьбу  \n",
       "13  130458.228857                 приобретение автомобиля  \n",
       "14  165127.911772              покупка жилой недвижимости  \n",
       "15  116820.904450  строительство собственной недвижимости  \n",
       "16  289202.704229                            недвижимость  \n",
       "17   90410.586745              строительство недвижимости  \n",
       "18   56823.777243      на покупку подержанного автомобиля  \n",
       "19  242831.107982            на покупку своего автомобиля  "
      ]
     },
     "execution_count": 3,
     "metadata": {},
     "output_type": "execute_result"
    }
   ],
   "source": [
    "data.head(20)"
   ]
  },
  {
   "cell_type": "markdown",
   "id": "c8f382ae",
   "metadata": {
    "deletable": false,
    "editable": false,
    "id": "c8f382ae",
    "tags": [
     "start_task"
    ]
   },
   "source": [
    "**Задание 3. Выведите основную информацию о датафрейме с помощью метода `info()`.**"
   ]
  },
  {
   "cell_type": "code",
   "execution_count": 4,
   "id": "e1ed9908",
   "metadata": {
    "id": "e1ed9908"
   },
   "outputs": [
    {
     "name": "stdout",
     "output_type": "stream",
     "text": [
      "<class 'pandas.core.frame.DataFrame'>\n",
      "RangeIndex: 21525 entries, 0 to 21524\n",
      "Data columns (total 12 columns):\n",
      " #   Column            Non-Null Count  Dtype  \n",
      "---  ------            --------------  -----  \n",
      " 0   children          21525 non-null  int64  \n",
      " 1   days_employed     19351 non-null  float64\n",
      " 2   dob_years         21525 non-null  int64  \n",
      " 3   education         21525 non-null  object \n",
      " 4   education_id      21525 non-null  int64  \n",
      " 5   family_status     21525 non-null  object \n",
      " 6   family_status_id  21525 non-null  int64  \n",
      " 7   gender            21525 non-null  object \n",
      " 8   income_type       21525 non-null  object \n",
      " 9   debt              21525 non-null  int64  \n",
      " 10  total_income      19351 non-null  float64\n",
      " 11  purpose           21525 non-null  object \n",
      "dtypes: float64(2), int64(5), object(5)\n",
      "memory usage: 2.0+ MB\n"
     ]
    }
   ],
   "source": [
    "data.info()"
   ]
  },
  {
   "cell_type": "markdown",
   "id": "f969a1cd",
   "metadata": {
    "deletable": false,
    "editable": false,
    "id": "f969a1cd"
   },
   "source": [
    "## Предобработка данных"
   ]
  },
  {
   "cell_type": "markdown",
   "id": "7283e864",
   "metadata": {
    "deletable": false,
    "editable": false,
    "id": "7283e864"
   },
   "source": [
    "### Удаление пропусков"
   ]
  },
  {
   "cell_type": "markdown",
   "id": "c9a0745e",
   "metadata": {
    "deletable": false,
    "editable": false,
    "id": "c9a0745e",
    "tags": [
     "start_task"
    ]
   },
   "source": [
    "**Задание 4. Выведите количество пропущенных значений для каждого столбца. Используйте комбинацию двух методов.**"
   ]
  },
  {
   "cell_type": "code",
   "execution_count": 5,
   "id": "b7a096e1",
   "metadata": {
    "id": "b7a096e1"
   },
   "outputs": [
    {
     "data": {
      "text/plain": [
       "children               0\n",
       "days_employed       2174\n",
       "dob_years              0\n",
       "education              0\n",
       "education_id           0\n",
       "family_status          0\n",
       "family_status_id       0\n",
       "gender                 0\n",
       "income_type            0\n",
       "debt                   0\n",
       "total_income        2174\n",
       "purpose                0\n",
       "dtype: int64"
      ]
     },
     "execution_count": 5,
     "metadata": {},
     "output_type": "execute_result"
    }
   ],
   "source": [
    "data.isna().sum()"
   ]
  },
  {
   "cell_type": "markdown",
   "id": "c2578616",
   "metadata": {
    "deletable": false,
    "editable": false,
    "id": "c2578616",
    "tags": [
     "start_task"
    ]
   },
   "source": [
    "**Задание 5. В двух столбцах есть пропущенные значения. Один из них — `days_employed`. Пропуски в этом столбце вы обработаете на следующем этапе. Другой столбец с пропущенными значениями — `total_income` — хранит данные о доходах. На сумму дохода сильнее всего влияет тип занятости, поэтому заполнить пропуски в этом столбце нужно медианным значением по каждому типу из столбца `income_type`. Например, у человека с типом занятости `сотрудник` пропуск в столбце `total_income` должен быть заполнен медианным доходом среди всех записей с тем же типом.**"
   ]
  },
  {
   "cell_type": "code",
   "execution_count": 6,
   "id": "e8afc4bc",
   "metadata": {
    "id": "e8afc4bc"
   },
   "outputs": [],
   "source": [
    "for d in data['income_type'].unique():\n",
    "    data.loc[(data['income_type'] == d) & (data['total_income'].isna()), 'total_income'] = \\\n",
    "    data.loc[(data['income_type'] == d), 'total_income'].median()\n",
    "    "
   ]
  },
  {
   "cell_type": "markdown",
   "id": "ae986d46",
   "metadata": {
    "deletable": false,
    "editable": false,
    "id": "ae986d46"
   },
   "source": [
    "### Обработка аномальных значений"
   ]
  },
  {
   "cell_type": "markdown",
   "id": "b049cbae",
   "metadata": {
    "deletable": false,
    "editable": false,
    "id": "b049cbae",
    "tags": [
     "start_task"
    ]
   },
   "source": [
    "**Задание 6. В данных могут встречаться артефакты (аномалии) — значения, которые не отражают действительность и появились по какой-то ошибке. Таким артефактом будет отрицательное количество дней трудового стажа в столбце `days_employed`. Для реальных данных это нормально. Обработайте значения в этом столбце: замените все отрицательные значения положительными с помощью метода `abs()`.**"
   ]
  },
  {
   "cell_type": "code",
   "execution_count": 7,
   "id": "187779b0",
   "metadata": {
    "id": "187779b0"
   },
   "outputs": [],
   "source": [
    "data['days_employed']= data['days_employed'].abs()"
   ]
  },
  {
   "cell_type": "markdown",
   "id": "a13054c2",
   "metadata": {
    "deletable": false,
    "editable": false,
    "id": "a13054c2",
    "tags": [
     "start_task"
    ]
   },
   "source": [
    "**Задание 7. Для каждого типа занятости выведите медианное значение трудового стажа `days_employed` в днях.**"
   ]
  },
  {
   "cell_type": "code",
   "execution_count": 8,
   "id": "f3f5810c",
   "metadata": {
    "id": "f3f5810c"
   },
   "outputs": [
    {
     "data": {
      "text/plain": [
       "income_type\n",
       "безработный        366413.652744\n",
       "в декрете            3296.759962\n",
       "госслужащий          2689.368353\n",
       "компаньон            1547.382223\n",
       "пенсионер          365213.306266\n",
       "предприниматель       520.848083\n",
       "сотрудник            1574.202821\n",
       "студент               578.751554\n",
       "Name: days_employed, dtype: float64"
      ]
     },
     "execution_count": 8,
     "metadata": {},
     "output_type": "execute_result"
    }
   ],
   "source": [
    "data.groupby('income_type')['days_employed'].median()"
   ]
  },
  {
   "cell_type": "markdown",
   "id": "dbc3168c",
   "metadata": {
    "deletable": false,
    "editable": false,
    "id": "dbc3168c"
   },
   "source": [
    "У двух типов (безработные и пенсионеры) получатся аномально большие значения. Исправить такие значения сложно, поэтому оставьте их как есть."
   ]
  },
  {
   "cell_type": "markdown",
   "id": "ff4378c2",
   "metadata": {
    "deletable": false,
    "editable": false,
    "id": "ff4378c2",
    "tags": [
     "start_task"
    ]
   },
   "source": [
    "**Задание 8. Выведите перечень уникальных значений столбца `children`.**"
   ]
  },
  {
   "cell_type": "code",
   "execution_count": 9,
   "id": "9bd0c232",
   "metadata": {
    "id": "9bd0c232"
   },
   "outputs": [
    {
     "data": {
      "text/plain": [
       "array([ 1,  0,  3,  2, -1,  4, 20,  5])"
      ]
     },
     "execution_count": 9,
     "metadata": {},
     "output_type": "execute_result"
    }
   ],
   "source": [
    "data['children'].unique()"
   ]
  },
  {
   "cell_type": "markdown",
   "id": "8e911990",
   "metadata": {
    "deletable": false,
    "editable": false,
    "id": "8e911990",
    "tags": [
     "start_task"
    ]
   },
   "source": [
    "**Задание 9. В столбце `children` есть два аномальных значения. Удалите строки, в которых встречаются такие аномальные значения из датафрейма `data`.**"
   ]
  },
  {
   "cell_type": "code",
   "execution_count": 10,
   "id": "6d5ba289",
   "metadata": {
    "id": "6d5ba289"
   },
   "outputs": [],
   "source": [
    "data = data[(data['children'] != -1) & (data['children'] != 20)]"
   ]
  },
  {
   "cell_type": "markdown",
   "id": "18d77455",
   "metadata": {
    "deletable": false,
    "editable": false,
    "id": "18d77455",
    "tags": [
     "start_task"
    ]
   },
   "source": [
    "**Задание 10. Ещё раз выведите перечень уникальных значений столбца `children`, чтобы убедиться, что артефакты удалены.**"
   ]
  },
  {
   "cell_type": "code",
   "execution_count": 11,
   "id": "2c5fa92c",
   "metadata": {
    "id": "2c5fa92c"
   },
   "outputs": [
    {
     "data": {
      "text/plain": [
       "array([1, 0, 3, 2, 4, 5])"
      ]
     },
     "execution_count": 11,
     "metadata": {},
     "output_type": "execute_result"
    }
   ],
   "source": [
    "data['children'].unique()"
   ]
  },
  {
   "cell_type": "markdown",
   "id": "0ec07dee",
   "metadata": {
    "deletable": false,
    "editable": false,
    "id": "0ec07dee"
   },
   "source": [
    "### Удаление пропусков (продолжение)"
   ]
  },
  {
   "cell_type": "markdown",
   "id": "0fc3ae3f",
   "metadata": {
    "deletable": false,
    "editable": false,
    "id": "0fc3ae3f",
    "tags": [
     "start_task"
    ]
   },
   "source": [
    "**Задание 11. Заполните пропуски в столбце `days_employed` медианными значениями по каждому типу занятости `income_type`.**"
   ]
  },
  {
   "cell_type": "code",
   "execution_count": 12,
   "id": "e2aea7ac",
   "metadata": {
    "id": "e2aea7ac"
   },
   "outputs": [],
   "source": [
    "for d in data['income_type'].unique():\n",
    "    data.loc[(data['income_type'] == d) & (data['days_employed'].isna()), 'days_employed'] = \\\n",
    "    data.loc[(data['income_type'] == d), 'days_employed'].median()"
   ]
  },
  {
   "cell_type": "markdown",
   "id": "97b0b795",
   "metadata": {
    "deletable": false,
    "editable": false,
    "id": "97b0b795",
    "tags": [
     "start_task"
    ]
   },
   "source": [
    "**Задание 12. Убедитесь, что все пропуски заполнены. Проверьте себя и ещё раз выведите количество пропущенных значений для каждого столбца с помощью двух методов.**"
   ]
  },
  {
   "cell_type": "code",
   "execution_count": 13,
   "id": "79632a21",
   "metadata": {
    "id": "79632a21"
   },
   "outputs": [
    {
     "data": {
      "text/plain": [
       "children            0\n",
       "days_employed       0\n",
       "dob_years           0\n",
       "education           0\n",
       "education_id        0\n",
       "family_status       0\n",
       "family_status_id    0\n",
       "gender              0\n",
       "income_type         0\n",
       "debt                0\n",
       "total_income        0\n",
       "purpose             0\n",
       "dtype: int64"
      ]
     },
     "execution_count": 13,
     "metadata": {},
     "output_type": "execute_result"
    }
   ],
   "source": [
    "data.isna().sum()"
   ]
  },
  {
   "cell_type": "markdown",
   "id": "bd4aeb20",
   "metadata": {
    "deletable": false,
    "editable": false,
    "id": "bd4aeb20"
   },
   "source": [
    "### Изменение типов данных"
   ]
  },
  {
   "cell_type": "markdown",
   "id": "963bfa58",
   "metadata": {
    "deletable": false,
    "editable": false,
    "id": "963bfa58",
    "tags": [
     "start_task"
    ]
   },
   "source": [
    "**Задание 13. Замените вещественный тип данных в столбце `total_income` на целочисленный с помощью метода `astype()`.**"
   ]
  },
  {
   "cell_type": "code",
   "execution_count": 14,
   "id": "73da6ea0",
   "metadata": {
    "id": "73da6ea0"
   },
   "outputs": [],
   "source": [
    "data['total_income']=data['total_income'].astype('int')"
   ]
  },
  {
   "cell_type": "markdown",
   "id": "d290239e",
   "metadata": {
    "deletable": false,
    "editable": false,
    "id": "d290239e"
   },
   "source": [
    "### Обработка дубликатов"
   ]
  },
  {
   "cell_type": "markdown",
   "id": "1b5844fd",
   "metadata": {
    "deletable": false,
    "editable": false,
    "id": "1b5844fd",
    "tags": [
     "start_task"
    ]
   },
   "source": [
    "**Задание 14. Обработайте неявные дубликаты в столбце `education`. В этом столбце есть одни и те же значения, но записанные по-разному: с использованием заглавных и строчных букв. Приведите их к нижнему регистру.**"
   ]
  },
  {
   "cell_type": "code",
   "execution_count": 15,
   "id": "3f2504b3",
   "metadata": {
    "id": "3f2504b3"
   },
   "outputs": [],
   "source": [
    "data['education']=data['education'].str.lower()"
   ]
  },
  {
   "cell_type": "markdown",
   "id": "4c22acbc",
   "metadata": {
    "deletable": false,
    "editable": false,
    "id": "4c22acbc",
    "tags": [
     "start_task"
    ]
   },
   "source": [
    "**Задание 15. Выведите на экран количество строк-дубликатов в данных. Если такие строки присутствуют, удалите их.**"
   ]
  },
  {
   "cell_type": "code",
   "execution_count": 16,
   "id": "d34a4325",
   "metadata": {
    "id": "d34a4325"
   },
   "outputs": [
    {
     "data": {
      "text/plain": [
       "71"
      ]
     },
     "execution_count": 16,
     "metadata": {},
     "output_type": "execute_result"
    }
   ],
   "source": [
    "data.duplicated().sum()"
   ]
  },
  {
   "cell_type": "code",
   "execution_count": 17,
   "id": "6e1a6499",
   "metadata": {
    "id": "6e1a6499"
   },
   "outputs": [],
   "source": [
    "data=data.drop_duplicates()"
   ]
  },
  {
   "cell_type": "markdown",
   "id": "e5686ccc",
   "metadata": {
    "deletable": false,
    "editable": false,
    "id": "e5686ccc"
   },
   "source": [
    "### Категоризация данных"
   ]
  },
  {
   "cell_type": "markdown",
   "id": "636e9acd",
   "metadata": {
    "deletable": false,
    "editable": false,
    "id": "636e9acd",
    "tags": [
     "start_task"
    ]
   },
   "source": [
    "**Задание 16. На основании диапазонов, указанных ниже, создайте в датафрейме `data` столбец `total_income_category` с категориями:**\n",
    "\n",
    "- 0–30000 — `'E'`;\n",
    "- 30001–50000 — `'D'`;\n",
    "- 50001–200000 — `'C'`;\n",
    "- 200001–1000000 — `'B'`;\n",
    "- 1000001 и выше — `'A'`.\n",
    "\n",
    "\n",
    "**Например, кредитополучателю с доходом 25000 нужно назначить категорию `'E'`, а клиенту, получающему 235000, — `'B'`. Используйте собственную функцию с именем `categorize_income()` и метод `apply()`.**"
   ]
  },
  {
   "cell_type": "code",
   "execution_count": 18,
   "id": "880a77e5",
   "metadata": {
    "id": "880a77e5"
   },
   "outputs": [],
   "source": [
    "def categorize_income(income):\n",
    "    try:\n",
    "        if 0 <= income <= 30000:\n",
    "            return 'E'\n",
    "        elif 30001 <= income <= 50000:\n",
    "            return 'D'\n",
    "        elif 50001 <= income <= 200000:\n",
    "            return 'C'\n",
    "        elif 200001 <= income <= 1000000:\n",
    "            return 'B'\n",
    "        elif income >= 1000001:\n",
    "            return 'A'\n",
    "    except:\n",
    "        pass"
   ]
  },
  {
   "cell_type": "code",
   "execution_count": 19,
   "id": "6f25f161",
   "metadata": {
    "id": "6f25f161"
   },
   "outputs": [],
   "source": [
    "data['total_income_category'] = data['total_income'].apply(categorize_income)"
   ]
  },
  {
   "cell_type": "markdown",
   "id": "3363b685",
   "metadata": {
    "deletable": false,
    "editable": false,
    "id": "3363b685",
    "tags": [
     "start_task"
    ]
   },
   "source": [
    "**Задание 17. Выведите на экран перечень уникальных целей взятия кредита из столбца `purpose`.**"
   ]
  },
  {
   "cell_type": "code",
   "execution_count": 20,
   "id": "e59f2c15",
   "metadata": {
    "id": "e59f2c15"
   },
   "outputs": [
    {
     "data": {
      "text/plain": [
       "array(['покупка жилья', 'приобретение автомобиля',\n",
       "       'дополнительное образование', 'сыграть свадьбу',\n",
       "       'операции с жильем', 'образование', 'на проведение свадьбы',\n",
       "       'покупка жилья для семьи', 'покупка недвижимости',\n",
       "       'покупка коммерческой недвижимости', 'покупка жилой недвижимости',\n",
       "       'строительство собственной недвижимости', 'недвижимость',\n",
       "       'строительство недвижимости', 'на покупку подержанного автомобиля',\n",
       "       'на покупку своего автомобиля',\n",
       "       'операции с коммерческой недвижимостью',\n",
       "       'строительство жилой недвижимости', 'жилье',\n",
       "       'операции со своей недвижимостью', 'автомобили',\n",
       "       'заняться образованием', 'сделка с подержанным автомобилем',\n",
       "       'получение образования', 'автомобиль', 'свадьба',\n",
       "       'получение дополнительного образования', 'покупка своего жилья',\n",
       "       'операции с недвижимостью', 'получение высшего образования',\n",
       "       'свой автомобиль', 'сделка с автомобилем',\n",
       "       'профильное образование', 'высшее образование',\n",
       "       'покупка жилья для сдачи', 'на покупку автомобиля', 'ремонт жилью',\n",
       "       'заняться высшим образованием'], dtype=object)"
      ]
     },
     "execution_count": 20,
     "metadata": {},
     "output_type": "execute_result"
    }
   ],
   "source": [
    "data['purpose'].unique()"
   ]
  },
  {
   "cell_type": "markdown",
   "id": "bb33e847",
   "metadata": {
    "deletable": false,
    "editable": false,
    "id": "bb33e847",
    "tags": [
     "start_task"
    ]
   },
   "source": [
    "**Задание 18. Создайте функцию, которая на основании данных из столбца `purpose` сформирует новый столбец `purpose_category`, в который войдут следующие категории:**\n",
    "\n",
    "- `'операции с автомобилем'`,\n",
    "- `'операции с недвижимостью'`,\n",
    "- `'проведение свадьбы'`,\n",
    "- `'получение образования'`.\n",
    "\n",
    "**Например, если в столбце `purpose` находится подстрока `'на покупку автомобиля'`, то в столбце `purpose_category` должна появиться строка `'операции с автомобилем'`.**\n",
    "\n",
    "**Используйте собственную функцию с именем `categorize_purpose()` и метод `apply()`. Изучите данные в столбце `purpose` и определите, какие подстроки помогут вам правильно определить категорию.**"
   ]
  },
  {
   "cell_type": "code",
   "execution_count": 21,
   "id": "63909b83",
   "metadata": {
    "id": "63909b83"
   },
   "outputs": [
    {
     "name": "stdout",
     "output_type": "stream",
     "text": [
      "операции с автомобилем\n"
     ]
    }
   ],
   "source": [
    "def categorize_purpose(row):\n",
    "    try:\n",
    "        if 'автом' in row:\n",
    "            return 'операции с автомобилем'\n",
    "        elif 'жил' in row or 'недвиж' in row:\n",
    "            return 'операции с недвижимостью'\n",
    "        elif 'свад' in row:\n",
    "            return 'проведение свадьбы'\n",
    "        elif 'образов' in row:\n",
    "            return 'получение образования'\n",
    "    except:\n",
    "        return 'нет категории'\n",
    "print(categorize_purpose('автомобиль'))\n",
    "    \n",
    "    \n",
    "    "
   ]
  },
  {
   "cell_type": "code",
   "execution_count": 22,
   "id": "7cb4a81d",
   "metadata": {
    "id": "7cb4a81d"
   },
   "outputs": [],
   "source": [
    "data['purpose_category'] = data['purpose'].apply(categorize_purpose)"
   ]
  },
  {
   "cell_type": "code",
   "execution_count": 23,
   "id": "5870090a",
   "metadata": {},
   "outputs": [
    {
     "data": {
      "text/html": [
       "<div>\n",
       "<style scoped>\n",
       "    .dataframe tbody tr th:only-of-type {\n",
       "        vertical-align: middle;\n",
       "    }\n",
       "\n",
       "    .dataframe tbody tr th {\n",
       "        vertical-align: top;\n",
       "    }\n",
       "\n",
       "    .dataframe thead th {\n",
       "        text-align: right;\n",
       "    }\n",
       "</style>\n",
       "<table border=\"1\" class=\"dataframe\">\n",
       "  <thead>\n",
       "    <tr style=\"text-align: right;\">\n",
       "      <th></th>\n",
       "      <th>children</th>\n",
       "      <th>days_employed</th>\n",
       "      <th>dob_years</th>\n",
       "      <th>education</th>\n",
       "      <th>education_id</th>\n",
       "      <th>family_status</th>\n",
       "      <th>family_status_id</th>\n",
       "      <th>gender</th>\n",
       "      <th>income_type</th>\n",
       "      <th>debt</th>\n",
       "      <th>total_income</th>\n",
       "      <th>purpose</th>\n",
       "      <th>total_income_category</th>\n",
       "      <th>purpose_category</th>\n",
       "    </tr>\n",
       "  </thead>\n",
       "  <tbody>\n",
       "    <tr>\n",
       "      <th>0</th>\n",
       "      <td>1</td>\n",
       "      <td>8437.673028</td>\n",
       "      <td>42</td>\n",
       "      <td>высшее</td>\n",
       "      <td>0</td>\n",
       "      <td>женат / замужем</td>\n",
       "      <td>0</td>\n",
       "      <td>F</td>\n",
       "      <td>сотрудник</td>\n",
       "      <td>0</td>\n",
       "      <td>253875</td>\n",
       "      <td>покупка жилья</td>\n",
       "      <td>B</td>\n",
       "      <td>операции с недвижимостью</td>\n",
       "    </tr>\n",
       "    <tr>\n",
       "      <th>1</th>\n",
       "      <td>1</td>\n",
       "      <td>4024.803754</td>\n",
       "      <td>36</td>\n",
       "      <td>среднее</td>\n",
       "      <td>1</td>\n",
       "      <td>женат / замужем</td>\n",
       "      <td>0</td>\n",
       "      <td>F</td>\n",
       "      <td>сотрудник</td>\n",
       "      <td>0</td>\n",
       "      <td>112080</td>\n",
       "      <td>приобретение автомобиля</td>\n",
       "      <td>C</td>\n",
       "      <td>операции с автомобилем</td>\n",
       "    </tr>\n",
       "    <tr>\n",
       "      <th>2</th>\n",
       "      <td>0</td>\n",
       "      <td>5623.422610</td>\n",
       "      <td>33</td>\n",
       "      <td>среднее</td>\n",
       "      <td>1</td>\n",
       "      <td>женат / замужем</td>\n",
       "      <td>0</td>\n",
       "      <td>M</td>\n",
       "      <td>сотрудник</td>\n",
       "      <td>0</td>\n",
       "      <td>145885</td>\n",
       "      <td>покупка жилья</td>\n",
       "      <td>C</td>\n",
       "      <td>операции с недвижимостью</td>\n",
       "    </tr>\n",
       "    <tr>\n",
       "      <th>3</th>\n",
       "      <td>3</td>\n",
       "      <td>4124.747207</td>\n",
       "      <td>32</td>\n",
       "      <td>среднее</td>\n",
       "      <td>1</td>\n",
       "      <td>женат / замужем</td>\n",
       "      <td>0</td>\n",
       "      <td>M</td>\n",
       "      <td>сотрудник</td>\n",
       "      <td>0</td>\n",
       "      <td>267628</td>\n",
       "      <td>дополнительное образование</td>\n",
       "      <td>B</td>\n",
       "      <td>получение образования</td>\n",
       "    </tr>\n",
       "    <tr>\n",
       "      <th>4</th>\n",
       "      <td>0</td>\n",
       "      <td>340266.072047</td>\n",
       "      <td>53</td>\n",
       "      <td>среднее</td>\n",
       "      <td>1</td>\n",
       "      <td>гражданский брак</td>\n",
       "      <td>1</td>\n",
       "      <td>F</td>\n",
       "      <td>пенсионер</td>\n",
       "      <td>0</td>\n",
       "      <td>158616</td>\n",
       "      <td>сыграть свадьбу</td>\n",
       "      <td>C</td>\n",
       "      <td>проведение свадьбы</td>\n",
       "    </tr>\n",
       "    <tr>\n",
       "      <th>...</th>\n",
       "      <td>...</td>\n",
       "      <td>...</td>\n",
       "      <td>...</td>\n",
       "      <td>...</td>\n",
       "      <td>...</td>\n",
       "      <td>...</td>\n",
       "      <td>...</td>\n",
       "      <td>...</td>\n",
       "      <td>...</td>\n",
       "      <td>...</td>\n",
       "      <td>...</td>\n",
       "      <td>...</td>\n",
       "      <td>...</td>\n",
       "      <td>...</td>\n",
       "    </tr>\n",
       "    <tr>\n",
       "      <th>21520</th>\n",
       "      <td>1</td>\n",
       "      <td>4529.316663</td>\n",
       "      <td>43</td>\n",
       "      <td>среднее</td>\n",
       "      <td>1</td>\n",
       "      <td>гражданский брак</td>\n",
       "      <td>1</td>\n",
       "      <td>F</td>\n",
       "      <td>компаньон</td>\n",
       "      <td>0</td>\n",
       "      <td>224791</td>\n",
       "      <td>операции с жильем</td>\n",
       "      <td>B</td>\n",
       "      <td>операции с недвижимостью</td>\n",
       "    </tr>\n",
       "    <tr>\n",
       "      <th>21521</th>\n",
       "      <td>0</td>\n",
       "      <td>343937.404131</td>\n",
       "      <td>67</td>\n",
       "      <td>среднее</td>\n",
       "      <td>1</td>\n",
       "      <td>женат / замужем</td>\n",
       "      <td>0</td>\n",
       "      <td>F</td>\n",
       "      <td>пенсионер</td>\n",
       "      <td>0</td>\n",
       "      <td>155999</td>\n",
       "      <td>сделка с автомобилем</td>\n",
       "      <td>C</td>\n",
       "      <td>операции с автомобилем</td>\n",
       "    </tr>\n",
       "    <tr>\n",
       "      <th>21522</th>\n",
       "      <td>1</td>\n",
       "      <td>2113.346888</td>\n",
       "      <td>38</td>\n",
       "      <td>среднее</td>\n",
       "      <td>1</td>\n",
       "      <td>гражданский брак</td>\n",
       "      <td>1</td>\n",
       "      <td>M</td>\n",
       "      <td>сотрудник</td>\n",
       "      <td>1</td>\n",
       "      <td>89672</td>\n",
       "      <td>недвижимость</td>\n",
       "      <td>C</td>\n",
       "      <td>операции с недвижимостью</td>\n",
       "    </tr>\n",
       "    <tr>\n",
       "      <th>21523</th>\n",
       "      <td>3</td>\n",
       "      <td>3112.481705</td>\n",
       "      <td>38</td>\n",
       "      <td>среднее</td>\n",
       "      <td>1</td>\n",
       "      <td>женат / замужем</td>\n",
       "      <td>0</td>\n",
       "      <td>M</td>\n",
       "      <td>сотрудник</td>\n",
       "      <td>1</td>\n",
       "      <td>244093</td>\n",
       "      <td>на покупку своего автомобиля</td>\n",
       "      <td>B</td>\n",
       "      <td>операции с автомобилем</td>\n",
       "    </tr>\n",
       "    <tr>\n",
       "      <th>21524</th>\n",
       "      <td>2</td>\n",
       "      <td>1984.507589</td>\n",
       "      <td>40</td>\n",
       "      <td>среднее</td>\n",
       "      <td>1</td>\n",
       "      <td>женат / замужем</td>\n",
       "      <td>0</td>\n",
       "      <td>F</td>\n",
       "      <td>сотрудник</td>\n",
       "      <td>0</td>\n",
       "      <td>82047</td>\n",
       "      <td>на покупку автомобиля</td>\n",
       "      <td>C</td>\n",
       "      <td>операции с автомобилем</td>\n",
       "    </tr>\n",
       "  </tbody>\n",
       "</table>\n",
       "<p>21331 rows × 14 columns</p>\n",
       "</div>"
      ],
      "text/plain": [
       "       children  days_employed  dob_years education  education_id  \\\n",
       "0             1    8437.673028         42    высшее             0   \n",
       "1             1    4024.803754         36   среднее             1   \n",
       "2             0    5623.422610         33   среднее             1   \n",
       "3             3    4124.747207         32   среднее             1   \n",
       "4             0  340266.072047         53   среднее             1   \n",
       "...         ...            ...        ...       ...           ...   \n",
       "21520         1    4529.316663         43   среднее             1   \n",
       "21521         0  343937.404131         67   среднее             1   \n",
       "21522         1    2113.346888         38   среднее             1   \n",
       "21523         3    3112.481705         38   среднее             1   \n",
       "21524         2    1984.507589         40   среднее             1   \n",
       "\n",
       "          family_status  family_status_id gender income_type  debt  \\\n",
       "0       женат / замужем                 0      F   сотрудник     0   \n",
       "1       женат / замужем                 0      F   сотрудник     0   \n",
       "2       женат / замужем                 0      M   сотрудник     0   \n",
       "3       женат / замужем                 0      M   сотрудник     0   \n",
       "4      гражданский брак                 1      F   пенсионер     0   \n",
       "...                 ...               ...    ...         ...   ...   \n",
       "21520  гражданский брак                 1      F   компаньон     0   \n",
       "21521   женат / замужем                 0      F   пенсионер     0   \n",
       "21522  гражданский брак                 1      M   сотрудник     1   \n",
       "21523   женат / замужем                 0      M   сотрудник     1   \n",
       "21524   женат / замужем                 0      F   сотрудник     0   \n",
       "\n",
       "       total_income                       purpose total_income_category  \\\n",
       "0            253875                 покупка жилья                     B   \n",
       "1            112080       приобретение автомобиля                     C   \n",
       "2            145885                 покупка жилья                     C   \n",
       "3            267628    дополнительное образование                     B   \n",
       "4            158616               сыграть свадьбу                     C   \n",
       "...             ...                           ...                   ...   \n",
       "21520        224791             операции с жильем                     B   \n",
       "21521        155999          сделка с автомобилем                     C   \n",
       "21522         89672                  недвижимость                     C   \n",
       "21523        244093  на покупку своего автомобиля                     B   \n",
       "21524         82047         на покупку автомобиля                     C   \n",
       "\n",
       "               purpose_category  \n",
       "0      операции с недвижимостью  \n",
       "1        операции с автомобилем  \n",
       "2      операции с недвижимостью  \n",
       "3         получение образования  \n",
       "4            проведение свадьбы  \n",
       "...                         ...  \n",
       "21520  операции с недвижимостью  \n",
       "21521    операции с автомобилем  \n",
       "21522  операции с недвижимостью  \n",
       "21523    операции с автомобилем  \n",
       "21524    операции с автомобилем  \n",
       "\n",
       "[21331 rows x 14 columns]"
      ]
     },
     "execution_count": 23,
     "metadata": {},
     "output_type": "execute_result"
    }
   ],
   "source": [
    "data"
   ]
  },
  {
   "cell_type": "markdown",
   "id": "40f7146c",
   "metadata": {},
   "source": [
    "__Зависимость между количеством детей и возвратом кредита в срок__"
   ]
  },
  {
   "cell_type": "code",
   "execution_count": 24,
   "id": "6f9175d4",
   "metadata": {},
   "outputs": [
    {
     "data": {
      "text/html": [
       "<div>\n",
       "<style scoped>\n",
       "    .dataframe tbody tr th:only-of-type {\n",
       "        vertical-align: middle;\n",
       "    }\n",
       "\n",
       "    .dataframe tbody tr th {\n",
       "        vertical-align: top;\n",
       "    }\n",
       "\n",
       "    .dataframe thead th {\n",
       "        text-align: right;\n",
       "    }\n",
       "</style>\n",
       "<table border=\"1\" class=\"dataframe\">\n",
       "  <thead>\n",
       "    <tr style=\"text-align: right;\">\n",
       "      <th></th>\n",
       "      <th>count</th>\n",
       "      <th>sum</th>\n",
       "      <th>mean</th>\n",
       "    </tr>\n",
       "    <tr>\n",
       "      <th>children</th>\n",
       "      <th></th>\n",
       "      <th></th>\n",
       "      <th></th>\n",
       "    </tr>\n",
       "  </thead>\n",
       "  <tbody>\n",
       "    <tr>\n",
       "      <th>5</th>\n",
       "      <td>9</td>\n",
       "      <td>0</td>\n",
       "      <td>0.000000</td>\n",
       "    </tr>\n",
       "    <tr>\n",
       "      <th>0</th>\n",
       "      <td>14091</td>\n",
       "      <td>1063</td>\n",
       "      <td>0.075438</td>\n",
       "    </tr>\n",
       "    <tr>\n",
       "      <th>3</th>\n",
       "      <td>330</td>\n",
       "      <td>27</td>\n",
       "      <td>0.081818</td>\n",
       "    </tr>\n",
       "    <tr>\n",
       "      <th>1</th>\n",
       "      <td>4808</td>\n",
       "      <td>444</td>\n",
       "      <td>0.092346</td>\n",
       "    </tr>\n",
       "    <tr>\n",
       "      <th>2</th>\n",
       "      <td>2052</td>\n",
       "      <td>194</td>\n",
       "      <td>0.094542</td>\n",
       "    </tr>\n",
       "    <tr>\n",
       "      <th>4</th>\n",
       "      <td>41</td>\n",
       "      <td>4</td>\n",
       "      <td>0.097561</td>\n",
       "    </tr>\n",
       "  </tbody>\n",
       "</table>\n",
       "</div>"
      ],
      "text/plain": [
       "          count   sum      mean\n",
       "children                       \n",
       "5             9     0  0.000000\n",
       "0         14091  1063  0.075438\n",
       "3           330    27  0.081818\n",
       "1          4808   444  0.092346\n",
       "2          2052   194  0.094542\n",
       "4            41     4  0.097561"
      ]
     },
     "execution_count": 24,
     "metadata": {},
     "output_type": "execute_result"
    }
   ],
   "source": [
    "data_ch = data.groupby('children')['debt'].agg(['count', 'sum', 'mean']).sort_values(by='mean')\n",
    "data_ch"
   ]
  },
  {
   "cell_type": "markdown",
   "id": "35360d71",
   "metadata": {},
   "source": [
    "__Вывод__: По результатам анализа видно, что у заемщиков с количеством детей 4 самый высокий уровень невыплаты кредита в срок 9,76 процента. Но в данном случае выборка небольшая всего 41 челокек что не дает нам объективно оценивать их.Если брать во внимание заемщиков где выбока большая, то есть тех у кого количество детей 0, 1, 2, то можно сделать вывод , что самые добросовестные заемщики те у кого количество детей 0. Процент неуплаты кредита в срок у них 7,54 процента.У тех заемщиков у которых количество детей 2 , процент невыплаты кредита в срок больше и составляет 9,45 процента."
   ]
  },
  {
   "cell_type": "markdown",
   "id": "516317bf",
   "metadata": {},
   "source": [
    " "
   ]
  },
  {
   "cell_type": "markdown",
   "id": "724e81bd",
   "metadata": {},
   "source": [
    "__Зависимость между семейным положением и возвратом кредита в срок__"
   ]
  },
  {
   "cell_type": "code",
   "execution_count": 25,
   "id": "6ec131db",
   "metadata": {},
   "outputs": [
    {
     "data": {
      "text/html": [
       "<div>\n",
       "<style scoped>\n",
       "    .dataframe tbody tr th:only-of-type {\n",
       "        vertical-align: middle;\n",
       "    }\n",
       "\n",
       "    .dataframe tbody tr th {\n",
       "        vertical-align: top;\n",
       "    }\n",
       "\n",
       "    .dataframe thead tr th {\n",
       "        text-align: left;\n",
       "    }\n",
       "</style>\n",
       "<table border=\"1\" class=\"dataframe\">\n",
       "  <thead>\n",
       "    <tr>\n",
       "      <th></th>\n",
       "      <th>семейное_положение</th>\n",
       "      <th>всего_кредитов</th>\n",
       "      <th>всего_должников</th>\n",
       "      <th>процент_должников</th>\n",
       "    </tr>\n",
       "    <tr>\n",
       "      <th></th>\n",
       "      <th></th>\n",
       "      <th>debt</th>\n",
       "      <th>debt</th>\n",
       "      <th>debt</th>\n",
       "    </tr>\n",
       "  </thead>\n",
       "  <tbody>\n",
       "    <tr>\n",
       "      <th>0</th>\n",
       "      <td>Не женат / не замужем</td>\n",
       "      <td>2796</td>\n",
       "      <td>273</td>\n",
       "      <td>0.097639</td>\n",
       "    </tr>\n",
       "    <tr>\n",
       "      <th>1</th>\n",
       "      <td>в разводе</td>\n",
       "      <td>1189</td>\n",
       "      <td>84</td>\n",
       "      <td>0.070648</td>\n",
       "    </tr>\n",
       "    <tr>\n",
       "      <th>2</th>\n",
       "      <td>вдовец / вдова</td>\n",
       "      <td>951</td>\n",
       "      <td>63</td>\n",
       "      <td>0.066246</td>\n",
       "    </tr>\n",
       "    <tr>\n",
       "      <th>3</th>\n",
       "      <td>гражданский брак</td>\n",
       "      <td>4134</td>\n",
       "      <td>385</td>\n",
       "      <td>0.093130</td>\n",
       "    </tr>\n",
       "    <tr>\n",
       "      <th>4</th>\n",
       "      <td>женат / замужем</td>\n",
       "      <td>12261</td>\n",
       "      <td>927</td>\n",
       "      <td>0.075606</td>\n",
       "    </tr>\n",
       "  </tbody>\n",
       "</table>\n",
       "</div>"
      ],
      "text/plain": [
       "      семейное_положение всего_кредитов всего_должников процент_должников\n",
       "                                   debt            debt              debt\n",
       "0  Не женат / не замужем           2796             273          0.097639\n",
       "1              в разводе           1189              84          0.070648\n",
       "2         вдовец / вдова            951              63          0.066246\n",
       "3       гражданский брак           4134             385          0.093130\n",
       "4        женат / замужем          12261             927          0.075606"
      ]
     },
     "execution_count": 25,
     "metadata": {},
     "output_type": "execute_result"
    }
   ],
   "source": [
    "data_pivot_status = data.pivot_table(index=['family_status'], values='debt', aggfunc=['count', 'sum', 'mean'])\\\n",
    ".reset_index(level=['family_status'])\n",
    "data_pivot_status=data_pivot_status.rename(\n",
    "    columns={\n",
    "        'family_status':'семейное_положение',\n",
    "        'count':'всего_кредитов',\n",
    "        'sum':'всего_должников',\n",
    "        'mean':'процент_должников',\n",
    "    }\n",
    ")    \n",
    "                                                   \n",
    "data_pivot_status\n"
   ]
  },
  {
   "cell_type": "markdown",
   "id": "03794634",
   "metadata": {},
   "source": [
    "__Вывод__: По результатам анализа видно , что самый высокий процент невыплаты кредита это у не замужних и не женатых 9,76 процента а самые низкие показатели у вдовцов и заемщиков в разводе.У людей, состоящих в браке процент составляет 7,56.Можно сделать вывод , что люди которые состояли в браке хоть раз или которые состоят на данный момент более ответственные в вопросе оплаты кредита. Данная метрика имеет большое значение. Если хочешь вовремя платить по кредитам, тогда лучше жениться или выходить замуж=))"
   ]
  },
  {
   "cell_type": "markdown",
   "id": "c4f1fe24",
   "metadata": {},
   "source": [
    " "
   ]
  },
  {
   "cell_type": "markdown",
   "id": "bda33f8a",
   "metadata": {},
   "source": [
    "__Зависимость между уровнем дохода и возвратом кредита в срок__"
   ]
  },
  {
   "cell_type": "code",
   "execution_count": 26,
   "id": "1f9038bc",
   "metadata": {},
   "outputs": [
    {
     "data": {
      "text/html": [
       "<div>\n",
       "<style scoped>\n",
       "    .dataframe tbody tr th:only-of-type {\n",
       "        vertical-align: middle;\n",
       "    }\n",
       "\n",
       "    .dataframe tbody tr th {\n",
       "        vertical-align: top;\n",
       "    }\n",
       "\n",
       "    .dataframe thead tr th {\n",
       "        text-align: left;\n",
       "    }\n",
       "</style>\n",
       "<table border=\"1\" class=\"dataframe\">\n",
       "  <thead>\n",
       "    <tr>\n",
       "      <th></th>\n",
       "      <th>total_income_category</th>\n",
       "      <th>count</th>\n",
       "      <th>sum</th>\n",
       "      <th>mean</th>\n",
       "    </tr>\n",
       "    <tr>\n",
       "      <th></th>\n",
       "      <th></th>\n",
       "      <th>debt</th>\n",
       "      <th>debt</th>\n",
       "      <th>debt</th>\n",
       "    </tr>\n",
       "  </thead>\n",
       "  <tbody>\n",
       "    <tr>\n",
       "      <th>0</th>\n",
       "      <td>A</td>\n",
       "      <td>25</td>\n",
       "      <td>2</td>\n",
       "      <td>0.080000</td>\n",
       "    </tr>\n",
       "    <tr>\n",
       "      <th>1</th>\n",
       "      <td>B</td>\n",
       "      <td>5014</td>\n",
       "      <td>354</td>\n",
       "      <td>0.070602</td>\n",
       "    </tr>\n",
       "    <tr>\n",
       "      <th>2</th>\n",
       "      <td>C</td>\n",
       "      <td>15921</td>\n",
       "      <td>1353</td>\n",
       "      <td>0.084982</td>\n",
       "    </tr>\n",
       "    <tr>\n",
       "      <th>3</th>\n",
       "      <td>D</td>\n",
       "      <td>349</td>\n",
       "      <td>21</td>\n",
       "      <td>0.060172</td>\n",
       "    </tr>\n",
       "    <tr>\n",
       "      <th>4</th>\n",
       "      <td>E</td>\n",
       "      <td>22</td>\n",
       "      <td>2</td>\n",
       "      <td>0.090909</td>\n",
       "    </tr>\n",
       "  </tbody>\n",
       "</table>\n",
       "</div>"
      ],
      "text/plain": [
       "  total_income_category  count   sum      mean\n",
       "                          debt  debt      debt\n",
       "0                     A     25     2  0.080000\n",
       "1                     B   5014   354  0.070602\n",
       "2                     C  15921  1353  0.084982\n",
       "3                     D    349    21  0.060172\n",
       "4                     E     22     2  0.090909"
      ]
     },
     "execution_count": 26,
     "metadata": {},
     "output_type": "execute_result"
    }
   ],
   "source": [
    "data_pivot_income = data.pivot_table(index=['total_income_category'], values='debt', aggfunc=['count', 'sum', 'mean'])\\\n",
    ".reset_index(level=['total_income_category'])\n",
    "data_pivot_income"
   ]
  },
  {
   "cell_type": "markdown",
   "id": "677ebaa0",
   "metadata": {},
   "source": [
    "__Вывод__: По результатам анализа нам видно что самый высокий процент невыплаты кредита в срок у заемщиков категории Е, самый низкий процент у заемщиков категории D. Казалось бы странно, заемщики у которых уровень дохода ниже из категории D лучше выплачивают свои долги чем заемщики из категорий A, B, C, чей уровень дохода выше. Но в данном случае нам надо рассматривать объем выборки. Самые многочисленные группы это категории B и C. В других же категориях количество заемщиков небольшое, что не дает нам объективно оценивать результаты. Исходя из этого можно сделать вывод что заемщики из категории B, чей уровень дохода выше 200000 и до 1000000 лучше платят по кредитам и процент невыплат кредита в срок у них ниже 7,06 процента по сравнению с заемщикми из категории С, чей доход ниже и процент невыплаты кредита в срок составляет 8,5 процента. Значит такая метрика как уровень дохода объективно влияет на способность в срок оплачивать кредиты. Спасибо за внимание, надеюсь выводом вы останитесь довольны Александр=))))"
   ]
  },
  {
   "cell_type": "markdown",
   "id": "7136720c",
   "metadata": {},
   "source": [
    " "
   ]
  },
  {
   "cell_type": "markdown",
   "id": "516abd28",
   "metadata": {},
   "source": [
    "__Как разные цели кредита влияют на его возврат в срок__"
   ]
  },
  {
   "cell_type": "code",
   "execution_count": 27,
   "id": "78dcc5a6",
   "metadata": {},
   "outputs": [
    {
     "data": {
      "text/html": [
       "<div>\n",
       "<style scoped>\n",
       "    .dataframe tbody tr th:only-of-type {\n",
       "        vertical-align: middle;\n",
       "    }\n",
       "\n",
       "    .dataframe tbody tr th {\n",
       "        vertical-align: top;\n",
       "    }\n",
       "\n",
       "    .dataframe thead th {\n",
       "        text-align: right;\n",
       "    }\n",
       "</style>\n",
       "<table border=\"1\" class=\"dataframe\">\n",
       "  <thead>\n",
       "    <tr style=\"text-align: right;\">\n",
       "      <th></th>\n",
       "      <th>цель кредита</th>\n",
       "      <th>количество выданных кредитов</th>\n",
       "      <th>количество просроченных кредитов</th>\n",
       "      <th>процент просроченных кредитов</th>\n",
       "    </tr>\n",
       "  </thead>\n",
       "  <tbody>\n",
       "    <tr>\n",
       "      <th>0</th>\n",
       "      <td>операции с автомобилем</td>\n",
       "      <td>4279</td>\n",
       "      <td>400</td>\n",
       "      <td>9.35%</td>\n",
       "    </tr>\n",
       "    <tr>\n",
       "      <th>1</th>\n",
       "      <td>получение образования</td>\n",
       "      <td>3988</td>\n",
       "      <td>369</td>\n",
       "      <td>9.25%</td>\n",
       "    </tr>\n",
       "    <tr>\n",
       "      <th>2</th>\n",
       "      <td>проведение свадьбы</td>\n",
       "      <td>2313</td>\n",
       "      <td>183</td>\n",
       "      <td>7.91%</td>\n",
       "    </tr>\n",
       "    <tr>\n",
       "      <th>3</th>\n",
       "      <td>операции с недвижимостью</td>\n",
       "      <td>10751</td>\n",
       "      <td>780</td>\n",
       "      <td>7.26%</td>\n",
       "    </tr>\n",
       "  </tbody>\n",
       "</table>\n",
       "</div>"
      ],
      "text/plain": [
       "               цель кредита  количество выданных кредитов  \\\n",
       "0    операции с автомобилем                          4279   \n",
       "1     получение образования                          3988   \n",
       "2        проведение свадьбы                          2313   \n",
       "3  операции с недвижимостью                         10751   \n",
       "\n",
       "   количество просроченных кредитов процент просроченных кредитов  \n",
       "0                               400                         9.35%  \n",
       "1                               369                         9.25%  \n",
       "2                               183                         7.91%  \n",
       "3                               780                         7.26%  "
      ]
     },
     "execution_count": 27,
     "metadata": {},
     "output_type": "execute_result"
    }
   ],
   "source": [
    "data_pivot_purpose_category = data.pivot_table(index=['purpose_category'], values='debt', aggfunc=['count', 'sum', 'mean'])\\\n",
    ".reset_index(level=['purpose_category'])\n",
    "data_pivot_purpose_category.columns = ['цель кредита', 'количество выданных кредитов', 'количество просроченных кредитов', 'процент просроченных кредитов']\n",
    "data_pivot_purpose_category['процент просроченных кредитов'] = [f'{x:,.2%}' for x in data_pivot_purpose_category['процент просроченных кредитов']]\n",
    "data_pivot_purpose_category = data_pivot_purpose_category.sort_values(by='процент просроченных кредитов',ascending=False)\n",
    "data_pivot_purpose_category.reset_index(drop=True)"
   ]
  },
  {
   "cell_type": "markdown",
   "id": "6199d54e",
   "metadata": {},
   "source": [
    "**Вывод:** Больше всего задолжностей по кредитам с операциями с автомобилем и получение образования, примерно в равной степени. Меньше всего просроченных кредитов с операциями с недвижимостью"
   ]
  },
  {
   "cell_type": "markdown",
   "id": "752de1b6",
   "metadata": {},
   "source": [
    "__Общий вывод__: По результатам проекта можно сделать вывод что выплата кредита в срок зависит от разных показателей заемщиков и здесь кредитным организациям надо рассматривать заемщика в комплексе исходя из его семейного положения, уровня дохода и так далее, то есть к каждому подходить индивидуально. Нельзя со сто процентной уверенностью утверждать что человек с меньшим доходом например будет иметь больше задолжностей по сравнению с тем у кого доход выше и так далее."
   ]
  },
  {
   "cell_type": "code",
   "execution_count": null,
   "id": "e2ee2511",
   "metadata": {},
   "outputs": [],
   "source": []
  }
 ],
 "metadata": {
  "ExecuteTimeLog": [
   {
    "duration": 388,
    "start_time": "2023-02-06T18:37:34.763Z"
   },
   {
    "duration": 70,
    "start_time": "2023-02-06T18:39:11.573Z"
   },
   {
    "duration": 7,
    "start_time": "2023-02-06T18:39:32.948Z"
   },
   {
    "duration": 3,
    "start_time": "2023-02-06T18:39:45.652Z"
   },
   {
    "duration": 146,
    "start_time": "2023-02-06T18:39:46.198Z"
   },
   {
    "duration": 3,
    "start_time": "2023-02-06T18:39:47.070Z"
   },
   {
    "duration": 12,
    "start_time": "2023-02-06T18:39:49.044Z"
   },
   {
    "duration": 13,
    "start_time": "2023-02-06T18:40:42.138Z"
   },
   {
    "duration": 20,
    "start_time": "2023-02-06T18:43:36.609Z"
   },
   {
    "duration": 10,
    "start_time": "2023-02-06T18:44:29.054Z"
   },
   {
    "duration": 30,
    "start_time": "2023-02-06T19:00:39.459Z"
   },
   {
    "duration": 29,
    "start_time": "2023-02-06T19:02:44.771Z"
   },
   {
    "duration": 37,
    "start_time": "2023-02-06T19:04:47.631Z"
   },
   {
    "duration": 29,
    "start_time": "2023-02-06T19:07:10.552Z"
   },
   {
    "duration": 34,
    "start_time": "2023-02-06T19:09:05.659Z"
   },
   {
    "duration": 72,
    "start_time": "2023-02-06T19:13:53.586Z"
   },
   {
    "duration": 3,
    "start_time": "2023-02-06T19:14:32.685Z"
   },
   {
    "duration": 66,
    "start_time": "2023-02-06T19:19:39.032Z"
   },
   {
    "duration": 4,
    "start_time": "2023-02-06T19:22:03.811Z"
   },
   {
    "duration": 71,
    "start_time": "2023-02-06T19:22:06.712Z"
   },
   {
    "duration": 70,
    "start_time": "2023-02-06T19:22:28.388Z"
   },
   {
    "duration": 7,
    "start_time": "2023-02-06T19:23:19.728Z"
   },
   {
    "duration": 5,
    "start_time": "2023-02-06T19:24:37.336Z"
   },
   {
    "duration": 7,
    "start_time": "2023-02-06T19:26:38.241Z"
   },
   {
    "duration": 5,
    "start_time": "2023-02-06T19:27:37.626Z"
   },
   {
    "duration": 29,
    "start_time": "2023-02-06T19:29:36.679Z"
   },
   {
    "duration": 9,
    "start_time": "2023-02-06T19:30:26.029Z"
   },
   {
    "duration": 4,
    "start_time": "2023-02-06T19:32:04.798Z"
   },
   {
    "duration": 9,
    "start_time": "2023-02-06T19:33:23.623Z"
   },
   {
    "duration": 7,
    "start_time": "2023-02-06T19:37:04.324Z"
   },
   {
    "duration": 9,
    "start_time": "2023-02-06T19:37:27.156Z"
   },
   {
    "duration": 8,
    "start_time": "2023-02-06T19:38:13.374Z"
   },
   {
    "duration": 7,
    "start_time": "2023-02-06T19:39:03.391Z"
   },
   {
    "duration": 4,
    "start_time": "2023-02-06T19:39:07.887Z"
   },
   {
    "duration": 11,
    "start_time": "2023-02-06T19:41:00.211Z"
   },
   {
    "duration": 20,
    "start_time": "2023-02-06T19:42:30.870Z"
   },
   {
    "duration": 18,
    "start_time": "2023-02-06T19:43:46.067Z"
   },
   {
    "duration": 16,
    "start_time": "2023-02-06T19:44:24.552Z"
   },
   {
    "duration": 21,
    "start_time": "2023-02-06T19:44:31.629Z"
   },
   {
    "duration": 21,
    "start_time": "2023-02-06T19:44:34.524Z"
   },
   {
    "duration": 22,
    "start_time": "2023-02-06T19:44:38.057Z"
   },
   {
    "duration": 3,
    "start_time": "2023-02-06T19:44:58.196Z"
   },
   {
    "duration": 11,
    "start_time": "2023-02-06T19:45:00.222Z"
   },
   {
    "duration": 17,
    "start_time": "2023-02-06T19:45:01.396Z"
   },
   {
    "duration": 19,
    "start_time": "2023-02-06T19:45:02.281Z"
   },
   {
    "duration": 2,
    "start_time": "2023-02-06T19:45:11.014Z"
   },
   {
    "duration": 69,
    "start_time": "2023-02-06T19:45:11.630Z"
   },
   {
    "duration": 2,
    "start_time": "2023-02-06T19:45:12.377Z"
   },
   {
    "duration": 8,
    "start_time": "2023-02-06T19:45:14.164Z"
   },
   {
    "duration": 14,
    "start_time": "2023-02-06T19:45:15.494Z"
   },
   {
    "duration": 16,
    "start_time": "2023-02-06T19:45:16.537Z"
   },
   {
    "duration": 29,
    "start_time": "2023-02-06T19:45:17.107Z"
   },
   {
    "duration": 3,
    "start_time": "2023-02-06T19:45:18.030Z"
   },
   {
    "duration": 7,
    "start_time": "2023-02-06T19:45:18.487Z"
   },
   {
    "duration": 4,
    "start_time": "2023-02-06T19:45:19.410Z"
   },
   {
    "duration": 6,
    "start_time": "2023-02-06T19:45:19.932Z"
   },
   {
    "duration": 4,
    "start_time": "2023-02-06T19:45:20.572Z"
   },
   {
    "duration": 30,
    "start_time": "2023-02-06T19:45:22.254Z"
   },
   {
    "duration": 9,
    "start_time": "2023-02-06T19:45:23.607Z"
   },
   {
    "duration": 4,
    "start_time": "2023-02-06T19:45:28.790Z"
   },
   {
    "duration": 10,
    "start_time": "2023-02-06T19:45:31.657Z"
   },
   {
    "duration": 17,
    "start_time": "2023-02-06T19:45:33.914Z"
   },
   {
    "duration": 22,
    "start_time": "2023-02-06T19:45:35.139Z"
   },
   {
    "duration": 18,
    "start_time": "2023-02-06T19:46:15.315Z"
   },
   {
    "duration": 3,
    "start_time": "2023-02-06T19:55:38.418Z"
   },
   {
    "duration": 8,
    "start_time": "2023-02-06T20:00:09.367Z"
   },
   {
    "duration": 3,
    "start_time": "2023-02-06T20:01:14.475Z"
   },
   {
    "duration": 7,
    "start_time": "2023-02-06T20:01:15.120Z"
   },
   {
    "duration": 5,
    "start_time": "2023-02-06T20:02:31.124Z"
   },
   {
    "duration": 73,
    "start_time": "2023-02-06T20:19:36.128Z"
   },
   {
    "duration": 3,
    "start_time": "2023-02-06T20:23:38.454Z"
   },
   {
    "duration": 8,
    "start_time": "2023-02-06T20:25:15.064Z"
   },
   {
    "duration": 425,
    "start_time": "2023-05-28T15:43:30.892Z"
   },
   {
    "duration": 656,
    "start_time": "2023-05-28T15:43:31.319Z"
   },
   {
    "duration": 2,
    "start_time": "2023-05-28T15:43:31.977Z"
   },
   {
    "duration": 34,
    "start_time": "2023-05-28T15:43:31.981Z"
   },
   {
    "duration": 39,
    "start_time": "2023-05-28T15:43:32.018Z"
   },
   {
    "duration": 15,
    "start_time": "2023-05-28T15:43:32.059Z"
   },
   {
    "duration": 55,
    "start_time": "2023-05-28T15:43:32.076Z"
   },
   {
    "duration": 3,
    "start_time": "2023-05-28T15:43:32.134Z"
   },
   {
    "duration": 23,
    "start_time": "2023-05-28T15:43:32.139Z"
   },
   {
    "duration": 10,
    "start_time": "2023-05-28T15:43:32.163Z"
   },
   {
    "duration": 35,
    "start_time": "2023-05-28T15:43:32.175Z"
   },
   {
    "duration": 24,
    "start_time": "2023-05-28T15:43:32.212Z"
   },
   {
    "duration": 42,
    "start_time": "2023-05-28T15:43:32.238Z"
   },
   {
    "duration": 11,
    "start_time": "2023-05-28T15:43:32.282Z"
   },
   {
    "duration": 42,
    "start_time": "2023-05-28T15:43:32.294Z"
   },
   {
    "duration": 41,
    "start_time": "2023-05-28T15:43:32.338Z"
   },
   {
    "duration": 42,
    "start_time": "2023-05-28T15:43:32.380Z"
   },
   {
    "duration": 27,
    "start_time": "2023-05-28T15:43:32.423Z"
   },
   {
    "duration": 10,
    "start_time": "2023-05-28T15:43:32.451Z"
   },
   {
    "duration": 34,
    "start_time": "2023-05-28T15:43:32.463Z"
   },
   {
    "duration": 23,
    "start_time": "2023-05-28T15:43:32.498Z"
   },
   {
    "duration": 24,
    "start_time": "2023-05-28T15:43:32.522Z"
   },
   {
    "duration": 41,
    "start_time": "2023-05-28T15:43:32.548Z"
   },
   {
    "duration": 417,
    "start_time": "2023-08-13T14:28:26.928Z"
   },
   {
    "duration": 301,
    "start_time": "2023-08-13T14:28:27.347Z"
   },
   {
    "duration": 3,
    "start_time": "2023-08-13T14:28:27.650Z"
   },
   {
    "duration": 16,
    "start_time": "2023-08-13T14:28:27.654Z"
   },
   {
    "duration": 27,
    "start_time": "2023-08-13T14:28:27.672Z"
   },
   {
    "duration": 12,
    "start_time": "2023-08-13T14:28:27.700Z"
   },
   {
    "duration": 32,
    "start_time": "2023-08-13T14:28:27.713Z"
   },
   {
    "duration": 3,
    "start_time": "2023-08-13T14:28:27.747Z"
   },
   {
    "duration": 10,
    "start_time": "2023-08-13T14:28:27.751Z"
   },
   {
    "duration": 6,
    "start_time": "2023-08-13T14:28:27.763Z"
   },
   {
    "duration": 20,
    "start_time": "2023-08-13T14:28:27.770Z"
   },
   {
    "duration": 10,
    "start_time": "2023-08-13T14:28:27.792Z"
   },
   {
    "duration": 30,
    "start_time": "2023-08-13T14:28:27.803Z"
   },
   {
    "duration": 8,
    "start_time": "2023-08-13T14:28:27.835Z"
   },
   {
    "duration": 8,
    "start_time": "2023-08-13T14:28:27.845Z"
   },
   {
    "duration": 14,
    "start_time": "2023-08-13T14:28:27.855Z"
   },
   {
    "duration": 43,
    "start_time": "2023-08-13T14:28:27.871Z"
   },
   {
    "duration": 17,
    "start_time": "2023-08-13T14:28:27.915Z"
   },
   {
    "duration": 2,
    "start_time": "2023-08-13T14:28:27.934Z"
   },
   {
    "duration": 13,
    "start_time": "2023-08-13T14:28:27.938Z"
   },
   {
    "duration": 17,
    "start_time": "2023-08-13T14:28:27.953Z"
   },
   {
    "duration": 9,
    "start_time": "2023-08-13T14:28:27.971Z"
   },
   {
    "duration": 10,
    "start_time": "2023-08-13T14:28:27.981Z"
   },
   {
    "duration": 16,
    "start_time": "2023-08-13T14:30:40.962Z"
   },
   {
    "duration": 14,
    "start_time": "2023-08-13T14:31:24.951Z"
   },
   {
    "duration": 30,
    "start_time": "2023-08-13T14:32:33.290Z"
   },
   {
    "duration": 4,
    "start_time": "2023-08-13T14:39:01.589Z"
   },
   {
    "duration": 4,
    "start_time": "2023-08-13T14:46:06.838Z"
   },
   {
    "duration": 6,
    "start_time": "2023-08-13T14:46:16.039Z"
   },
   {
    "duration": 7,
    "start_time": "2023-08-13T14:46:26.256Z"
   },
   {
    "duration": 367,
    "start_time": "2023-08-13T14:47:38.529Z"
   },
   {
    "duration": 68,
    "start_time": "2023-08-13T14:47:38.897Z"
   },
   {
    "duration": 19,
    "start_time": "2023-08-13T14:47:38.966Z"
   },
   {
    "duration": 14,
    "start_time": "2023-08-13T14:47:38.986Z"
   },
   {
    "duration": 8,
    "start_time": "2023-08-13T14:47:39.002Z"
   },
   {
    "duration": 37,
    "start_time": "2023-08-13T14:47:39.011Z"
   },
   {
    "duration": 3,
    "start_time": "2023-08-13T14:47:39.050Z"
   },
   {
    "duration": 14,
    "start_time": "2023-08-13T14:47:39.054Z"
   },
   {
    "duration": 9,
    "start_time": "2023-08-13T14:47:39.069Z"
   },
   {
    "duration": 11,
    "start_time": "2023-08-13T14:47:39.080Z"
   },
   {
    "duration": 15,
    "start_time": "2023-08-13T14:47:39.092Z"
   },
   {
    "duration": 33,
    "start_time": "2023-08-13T14:47:39.109Z"
   },
   {
    "duration": 8,
    "start_time": "2023-08-13T14:47:39.144Z"
   },
   {
    "duration": 9,
    "start_time": "2023-08-13T14:47:39.154Z"
   },
   {
    "duration": 12,
    "start_time": "2023-08-13T14:47:39.165Z"
   },
   {
    "duration": 20,
    "start_time": "2023-08-13T14:47:39.179Z"
   },
   {
    "duration": 15,
    "start_time": "2023-08-13T14:47:39.200Z"
   },
   {
    "duration": 2,
    "start_time": "2023-08-13T14:47:39.217Z"
   },
   {
    "duration": 16,
    "start_time": "2023-08-13T14:47:39.220Z"
   },
   {
    "duration": 5,
    "start_time": "2023-08-13T14:47:39.238Z"
   },
   {
    "duration": 15,
    "start_time": "2023-08-13T14:47:39.244Z"
   },
   {
    "duration": 8,
    "start_time": "2023-08-13T14:47:39.261Z"
   },
   {
    "duration": 8,
    "start_time": "2023-08-13T14:47:56.216Z"
   },
   {
    "duration": 20,
    "start_time": "2023-08-13T14:48:08.699Z"
   },
   {
    "duration": 3,
    "start_time": "2023-08-13T14:48:25.620Z"
   },
   {
    "duration": 373,
    "start_time": "2023-08-13T14:48:45.608Z"
   },
   {
    "duration": 67,
    "start_time": "2023-08-13T14:48:45.982Z"
   },
   {
    "duration": 19,
    "start_time": "2023-08-13T14:48:46.050Z"
   },
   {
    "duration": 12,
    "start_time": "2023-08-13T14:48:46.070Z"
   },
   {
    "duration": 17,
    "start_time": "2023-08-13T14:48:46.083Z"
   },
   {
    "duration": 29,
    "start_time": "2023-08-13T14:48:46.101Z"
   },
   {
    "duration": 3,
    "start_time": "2023-08-13T14:48:46.132Z"
   },
   {
    "duration": 11,
    "start_time": "2023-08-13T14:48:46.136Z"
   },
   {
    "duration": 8,
    "start_time": "2023-08-13T14:48:46.148Z"
   },
   {
    "duration": 8,
    "start_time": "2023-08-13T14:48:46.157Z"
   },
   {
    "duration": 3,
    "start_time": "2023-08-13T14:48:46.167Z"
   },
   {
    "duration": 50,
    "start_time": "2023-08-13T14:48:46.171Z"
   },
   {
    "duration": 8,
    "start_time": "2023-08-13T14:48:46.222Z"
   },
   {
    "duration": 3,
    "start_time": "2023-08-13T14:48:46.232Z"
   },
   {
    "duration": 11,
    "start_time": "2023-08-13T14:48:46.237Z"
   },
   {
    "duration": 17,
    "start_time": "2023-08-13T14:48:46.249Z"
   },
   {
    "duration": 32,
    "start_time": "2023-08-13T14:48:46.267Z"
   },
   {
    "duration": 3,
    "start_time": "2023-08-13T14:48:46.301Z"
   },
   {
    "duration": 15,
    "start_time": "2023-08-13T14:48:46.305Z"
   },
   {
    "duration": 22,
    "start_time": "2023-08-13T14:48:46.322Z"
   },
   {
    "duration": 5,
    "start_time": "2023-08-13T14:48:46.346Z"
   },
   {
    "duration": 22,
    "start_time": "2023-08-13T14:48:46.353Z"
   },
   {
    "duration": 47,
    "start_time": "2023-08-13T14:48:46.377Z"
   },
   {
    "duration": 408,
    "start_time": "2023-08-13T15:02:13.601Z"
   },
   {
    "duration": 76,
    "start_time": "2023-08-13T15:02:14.011Z"
   },
   {
    "duration": 22,
    "start_time": "2023-08-13T15:02:14.089Z"
   },
   {
    "duration": 24,
    "start_time": "2023-08-13T15:02:14.112Z"
   },
   {
    "duration": 9,
    "start_time": "2023-08-13T15:02:14.138Z"
   },
   {
    "duration": 37,
    "start_time": "2023-08-13T15:02:14.148Z"
   },
   {
    "duration": 3,
    "start_time": "2023-08-13T15:02:14.186Z"
   },
   {
    "duration": 37,
    "start_time": "2023-08-13T15:02:14.190Z"
   },
   {
    "duration": 10,
    "start_time": "2023-08-13T15:02:14.229Z"
   },
   {
    "duration": 9,
    "start_time": "2023-08-13T15:02:14.240Z"
   },
   {
    "duration": 11,
    "start_time": "2023-08-13T15:02:14.250Z"
   },
   {
    "duration": 33,
    "start_time": "2023-08-13T15:02:14.262Z"
   },
   {
    "duration": 8,
    "start_time": "2023-08-13T15:02:14.297Z"
   },
   {
    "duration": 7,
    "start_time": "2023-08-13T15:02:14.307Z"
   },
   {
    "duration": 38,
    "start_time": "2023-08-13T15:02:14.316Z"
   },
   {
    "duration": 35,
    "start_time": "2023-08-13T15:02:14.355Z"
   },
   {
    "duration": 16,
    "start_time": "2023-08-13T15:02:14.391Z"
   },
   {
    "duration": 3,
    "start_time": "2023-08-13T15:02:14.409Z"
   },
   {
    "duration": 26,
    "start_time": "2023-08-13T15:02:14.413Z"
   },
   {
    "duration": 13,
    "start_time": "2023-08-13T15:02:14.440Z"
   },
   {
    "duration": 7,
    "start_time": "2023-08-13T15:02:14.455Z"
   },
   {
    "duration": 23,
    "start_time": "2023-08-13T15:02:14.464Z"
   },
   {
    "duration": 24,
    "start_time": "2023-08-13T15:02:14.488Z"
   },
   {
    "duration": 3,
    "start_time": "2023-08-13T15:03:20.824Z"
   },
   {
    "duration": 5,
    "start_time": "2023-08-13T15:04:26.124Z"
   },
   {
    "duration": 7,
    "start_time": "2023-08-13T15:04:26.375Z"
   },
   {
    "duration": 19,
    "start_time": "2023-08-13T15:04:26.384Z"
   },
   {
    "duration": 425,
    "start_time": "2023-08-13T15:04:30.390Z"
   },
   {
    "duration": 76,
    "start_time": "2023-08-13T15:04:30.817Z"
   },
   {
    "duration": 41,
    "start_time": "2023-08-13T15:04:30.895Z"
   },
   {
    "duration": 43,
    "start_time": "2023-08-13T15:04:30.938Z"
   },
   {
    "duration": 30,
    "start_time": "2023-08-13T15:04:30.983Z"
   },
   {
    "duration": 103,
    "start_time": "2023-08-13T15:04:31.015Z"
   },
   {
    "duration": 25,
    "start_time": "2023-08-13T15:04:31.120Z"
   },
   {
    "duration": 35,
    "start_time": "2023-08-13T15:04:31.147Z"
   },
   {
    "duration": 24,
    "start_time": "2023-08-13T15:04:31.183Z"
   },
   {
    "duration": 35,
    "start_time": "2023-08-13T15:04:31.209Z"
   },
   {
    "duration": 26,
    "start_time": "2023-08-13T15:04:31.245Z"
   },
   {
    "duration": 58,
    "start_time": "2023-08-13T15:04:31.272Z"
   },
   {
    "duration": 8,
    "start_time": "2023-08-13T15:04:31.332Z"
   },
   {
    "duration": 22,
    "start_time": "2023-08-13T15:04:31.341Z"
   },
   {
    "duration": 36,
    "start_time": "2023-08-13T15:04:31.365Z"
   },
   {
    "duration": 59,
    "start_time": "2023-08-13T15:04:31.402Z"
   },
   {
    "duration": 45,
    "start_time": "2023-08-13T15:04:31.462Z"
   },
   {
    "duration": 26,
    "start_time": "2023-08-13T15:04:31.508Z"
   },
   {
    "duration": 26,
    "start_time": "2023-08-13T15:04:31.535Z"
   },
   {
    "duration": 52,
    "start_time": "2023-08-13T15:04:31.562Z"
   },
   {
    "duration": 4,
    "start_time": "2023-08-13T15:04:32.792Z"
   },
   {
    "duration": 7,
    "start_time": "2023-08-13T15:04:32.852Z"
   },
   {
    "duration": 17,
    "start_time": "2023-08-13T15:04:32.887Z"
   },
   {
    "duration": 380,
    "start_time": "2023-08-13T15:09:04.214Z"
   },
   {
    "duration": 69,
    "start_time": "2023-08-13T15:09:04.595Z"
   },
   {
    "duration": 20,
    "start_time": "2023-08-13T15:09:04.666Z"
   },
   {
    "duration": 12,
    "start_time": "2023-08-13T15:09:04.688Z"
   },
   {
    "duration": 31,
    "start_time": "2023-08-13T15:09:04.701Z"
   },
   {
    "duration": 54,
    "start_time": "2023-08-13T15:09:04.733Z"
   },
   {
    "duration": 3,
    "start_time": "2023-08-13T15:09:04.789Z"
   },
   {
    "duration": 10,
    "start_time": "2023-08-13T15:09:04.793Z"
   },
   {
    "duration": 4,
    "start_time": "2023-08-13T15:09:04.804Z"
   },
   {
    "duration": 8,
    "start_time": "2023-08-13T15:09:04.810Z"
   },
   {
    "duration": 3,
    "start_time": "2023-08-13T15:09:04.819Z"
   },
   {
    "duration": 31,
    "start_time": "2023-08-13T15:09:04.823Z"
   },
   {
    "duration": 7,
    "start_time": "2023-08-13T15:09:04.856Z"
   },
   {
    "duration": 4,
    "start_time": "2023-08-13T15:09:04.864Z"
   },
   {
    "duration": 30,
    "start_time": "2023-08-13T15:09:04.869Z"
   },
   {
    "duration": 17,
    "start_time": "2023-08-13T15:09:04.900Z"
   },
   {
    "duration": 16,
    "start_time": "2023-08-13T15:09:04.918Z"
   },
   {
    "duration": 4,
    "start_time": "2023-08-13T15:09:04.935Z"
   },
   {
    "duration": 37,
    "start_time": "2023-08-13T15:09:04.940Z"
   },
   {
    "duration": 35,
    "start_time": "2023-08-13T15:09:04.978Z"
   },
   {
    "duration": 32,
    "start_time": "2023-08-13T15:09:05.014Z"
   },
   {
    "duration": 40,
    "start_time": "2023-08-13T15:09:05.048Z"
   },
   {
    "duration": 40,
    "start_time": "2023-08-13T15:09:05.090Z"
   },
   {
    "duration": 18,
    "start_time": "2023-08-13T15:09:05.131Z"
   },
   {
    "duration": 31,
    "start_time": "2023-08-13T15:11:35.397Z"
   },
   {
    "duration": 27,
    "start_time": "2023-08-13T15:14:34.802Z"
   },
   {
    "duration": 29,
    "start_time": "2023-08-13T15:16:49.147Z"
   },
   {
    "duration": 384,
    "start_time": "2023-08-13T15:20:23.502Z"
   },
   {
    "duration": 77,
    "start_time": "2023-08-13T15:20:23.888Z"
   },
   {
    "duration": 19,
    "start_time": "2023-08-13T15:20:23.967Z"
   },
   {
    "duration": 42,
    "start_time": "2023-08-13T15:20:23.987Z"
   },
   {
    "duration": 46,
    "start_time": "2023-08-13T15:20:24.030Z"
   },
   {
    "duration": 37,
    "start_time": "2023-08-13T15:20:24.077Z"
   },
   {
    "duration": 4,
    "start_time": "2023-08-13T15:20:24.115Z"
   },
   {
    "duration": 21,
    "start_time": "2023-08-13T15:20:24.121Z"
   },
   {
    "duration": 35,
    "start_time": "2023-08-13T15:20:24.143Z"
   },
   {
    "duration": 33,
    "start_time": "2023-08-13T15:20:24.181Z"
   },
   {
    "duration": 26,
    "start_time": "2023-08-13T15:20:24.216Z"
   },
   {
    "duration": 55,
    "start_time": "2023-08-13T15:20:24.244Z"
   },
   {
    "duration": 9,
    "start_time": "2023-08-13T15:20:24.301Z"
   },
   {
    "duration": 16,
    "start_time": "2023-08-13T15:20:24.311Z"
   },
   {
    "duration": 33,
    "start_time": "2023-08-13T15:20:24.328Z"
   },
   {
    "duration": 51,
    "start_time": "2023-08-13T15:20:24.362Z"
   },
   {
    "duration": 16,
    "start_time": "2023-08-13T15:20:24.415Z"
   },
   {
    "duration": 6,
    "start_time": "2023-08-13T15:20:24.432Z"
   },
   {
    "duration": 82,
    "start_time": "2023-08-13T15:20:24.439Z"
   },
   {
    "duration": 47,
    "start_time": "2023-08-13T15:20:24.523Z"
   },
   {
    "duration": 44,
    "start_time": "2023-08-13T15:20:24.572Z"
   },
   {
    "duration": 40,
    "start_time": "2023-08-13T15:20:24.617Z"
   },
   {
    "duration": 25,
    "start_time": "2023-08-13T15:20:24.658Z"
   },
   {
    "duration": 11,
    "start_time": "2023-08-13T15:20:24.685Z"
   },
   {
    "duration": 32,
    "start_time": "2023-08-13T15:20:24.698Z"
   },
   {
    "duration": 24,
    "start_time": "2023-08-13T15:20:24.731Z"
   },
   {
    "duration": 51,
    "start_time": "2023-08-13T15:20:24.756Z"
   }
  ],
  "colab": {
   "provenance": []
  },
  "kernelspec": {
   "display_name": "Python 3 (ipykernel)",
   "language": "python",
   "name": "python3"
  },
  "language_info": {
   "codemirror_mode": {
    "name": "ipython",
    "version": 3
   },
   "file_extension": ".py",
   "mimetype": "text/x-python",
   "name": "python",
   "nbconvert_exporter": "python",
   "pygments_lexer": "ipython3",
   "version": "3.9.5"
  },
  "toc": {
   "base_numbering": 1,
   "nav_menu": {},
   "number_sections": true,
   "sideBar": true,
   "skip_h1_title": true,
   "title_cell": "Table of Contents",
   "title_sidebar": "Contents",
   "toc_cell": false,
   "toc_position": {},
   "toc_section_display": true,
   "toc_window_display": false
  }
 },
 "nbformat": 4,
 "nbformat_minor": 5
}
