{
 "cells": [
  {
   "cell_type": "markdown",
   "id": "6ca04cbb",
   "metadata": {},
   "source": [
    "# Проект по SQL"
   ]
  },
  {
   "cell_type": "markdown",
   "id": "c4a57742",
   "metadata": {},
   "source": [
    "Наша компания купила крупный сервис для чтения книг по подписке.  \n",
    "\n",
    "__Задача__  — проанализировать базу данных.\n",
    "В ней — информация о книгах, издательствах, авторах, а также пользовательские обзоры книг. Эти данные помогут сформулировать ценностное предложение для нового продукта."
   ]
  },
  {
   "cell_type": "markdown",
   "id": "bd4d1e0b",
   "metadata": {},
   "source": [
    "__Цель__ - сформулировать ценностное предложение для нового продукта."
   ]
  },
  {
   "cell_type": "markdown",
   "id": "6016726e",
   "metadata": {},
   "source": [
    "### Описание данных\n",
    "\n",
    "**Таблица `books`**\n",
    "\n",
    "Содержит данные о книгах:\n",
    "\n",
    "- `book_id` — идентификатор книги;\n",
    "- `author_id` — идентификатор автора;\n",
    "- `title` — название книги;\n",
    "- `num_pages` — количество страниц;\n",
    "- `publication_date` — дата публикации книги;\n",
    "- `publisher_id` — идентификатор издателя.\n",
    "**Таблица `authors`**\n",
    "\n",
    "Содержит данные об авторах:\n",
    "\n",
    "- `author_id` — идентификатор автора;\n",
    "- `author` — имя автора.\n",
    "\n",
    "**Таблица `publishers`**\n",
    "\n",
    "Содержит данные об издательствах:\n",
    "\n",
    "- `publisher_id` — идентификатор издательства;\n",
    "- `publisher` — название издательства;\n",
    "\n",
    "**Таблица `ratings`**\n",
    "\n",
    "Содержит данные о пользовательских оценках книг:\n",
    "\n",
    "- `rating_id` — идентификатор оценки;\n",
    "- `book_id` — идентификатор книги;\n",
    "- `username` — имя пользователя, оставившего оценку;\n",
    "- `rating` — оценка книги.\n",
    "**Таблица `reviews`**\n",
    "\n",
    "Содержит данные о пользовательских обзорах на книги:\n",
    "\n",
    "- `review_id` — идентификатор обзора;\n",
    "- `book_id` — идентификатор книги;\n",
    "- `username` — имя пользователя, написавшего обзор;\n",
    "- `text` — текст обзора."
   ]
  },
  {
   "cell_type": "markdown",
   "id": "d229c47b",
   "metadata": {},
   "source": [
    "### Задания\n",
    "\n",
    "- Посчитайте, сколько книг вышло после 1 января 2000 года;\n",
    "- Для каждой книги посчитайте количество обзоров и среднюю оценку;\n",
    "- Определите издательство, которое выпустило наибольшее число книг толще 50 страниц — так вы исключите из анализа брошюры;\n",
    "- Определите автора с самой высокой средней оценкой книг — учитывайте только книги с 50 и более оценками;\n",
    "- Посчитайте среднее количество обзоров от пользователей, которые поставили больше 48 оценок."
   ]
  },
  {
   "cell_type": "markdown",
   "id": "5b921d51",
   "metadata": {},
   "source": [
    "### Доступ к базе"
   ]
  },
  {
   "cell_type": "code",
   "execution_count": 1,
   "id": "5a3e23cd",
   "metadata": {},
   "outputs": [],
   "source": [
    "# импортируем библиотеки\n",
    "import pandas as pd\n",
    "from sqlalchemy import text, create_engine\n",
    "\n",
    "# устанавливаем параметры\n",
    "db_config = {'user': 'praktikum_student', # имя пользователя\n",
    "'pwd': 'Sdf4$2;d-d30pp', # пароль\n",
    "'host': 'rc1b-wcoijxj3yxfsf3fs.mdb.yandexcloud.net',\n",
    "'port': 6432, # порт подключения\n",
    "'db': 'data-analyst-final-project-db'} # название базы данных\n",
    "connection_string = 'postgresql://{user}:{pwd}@{host}:{port}/{db}'.format(**db_config)\n",
    "\n",
    "# сохраняем коннектор\n",
    "engine = create_engine(connection_string, connect_args={'sslmode':'require'})"
   ]
  },
  {
   "cell_type": "markdown",
   "id": "d05e8a68",
   "metadata": {},
   "source": [
    "__Проанализируем таблицы__"
   ]
  },
  {
   "cell_type": "code",
   "execution_count": 2,
   "id": "f71852ba",
   "metadata": {},
   "outputs": [
    {
     "data": {
      "text/html": [
       "<div>\n",
       "<style scoped>\n",
       "    .dataframe tbody tr th:only-of-type {\n",
       "        vertical-align: middle;\n",
       "    }\n",
       "\n",
       "    .dataframe tbody tr th {\n",
       "        vertical-align: top;\n",
       "    }\n",
       "\n",
       "    .dataframe thead th {\n",
       "        text-align: right;\n",
       "    }\n",
       "</style>\n",
       "<table border=\"1\" class=\"dataframe\">\n",
       "  <thead>\n",
       "    <tr style=\"text-align: right;\">\n",
       "      <th></th>\n",
       "      <th>book_id</th>\n",
       "      <th>author_id</th>\n",
       "      <th>title</th>\n",
       "      <th>num_pages</th>\n",
       "      <th>publication_date</th>\n",
       "      <th>publisher_id</th>\n",
       "    </tr>\n",
       "  </thead>\n",
       "  <tbody>\n",
       "    <tr>\n",
       "      <th>0</th>\n",
       "      <td>1</td>\n",
       "      <td>546</td>\n",
       "      <td>'Salem's Lot</td>\n",
       "      <td>594</td>\n",
       "      <td>2005-11-01</td>\n",
       "      <td>93</td>\n",
       "    </tr>\n",
       "    <tr>\n",
       "      <th>1</th>\n",
       "      <td>2</td>\n",
       "      <td>465</td>\n",
       "      <td>1 000 Places to See Before You Die</td>\n",
       "      <td>992</td>\n",
       "      <td>2003-05-22</td>\n",
       "      <td>336</td>\n",
       "    </tr>\n",
       "    <tr>\n",
       "      <th>2</th>\n",
       "      <td>3</td>\n",
       "      <td>407</td>\n",
       "      <td>13 Little Blue Envelopes (Little Blue Envelope...</td>\n",
       "      <td>322</td>\n",
       "      <td>2010-12-21</td>\n",
       "      <td>135</td>\n",
       "    </tr>\n",
       "    <tr>\n",
       "      <th>3</th>\n",
       "      <td>4</td>\n",
       "      <td>82</td>\n",
       "      <td>1491: New Revelations of the Americas Before C...</td>\n",
       "      <td>541</td>\n",
       "      <td>2006-10-10</td>\n",
       "      <td>309</td>\n",
       "    </tr>\n",
       "    <tr>\n",
       "      <th>4</th>\n",
       "      <td>5</td>\n",
       "      <td>125</td>\n",
       "      <td>1776</td>\n",
       "      <td>386</td>\n",
       "      <td>2006-07-04</td>\n",
       "      <td>268</td>\n",
       "    </tr>\n",
       "  </tbody>\n",
       "</table>\n",
       "</div>"
      ],
      "text/plain": [
       "   book_id  author_id                                              title  \\\n",
       "0        1        546                                       'Salem's Lot   \n",
       "1        2        465                 1 000 Places to See Before You Die   \n",
       "2        3        407  13 Little Blue Envelopes (Little Blue Envelope...   \n",
       "3        4         82  1491: New Revelations of the Americas Before C...   \n",
       "4        5        125                                               1776   \n",
       "\n",
       "   num_pages publication_date  publisher_id  \n",
       "0        594       2005-11-01            93  \n",
       "1        992       2003-05-22           336  \n",
       "2        322       2010-12-21           135  \n",
       "3        541       2006-10-10           309  \n",
       "4        386       2006-07-04           268  "
      ]
     },
     "execution_count": 2,
     "metadata": {},
     "output_type": "execute_result"
    }
   ],
   "source": [
    "books = '''SELECT * FROM books LIMIT 5'''\n",
    "\n",
    "con=engine.connect()\n",
    "\n",
    "pd.io.sql.read_sql(sql=text(books), con = con)"
   ]
  },
  {
   "cell_type": "markdown",
   "id": "95174b31",
   "metadata": {},
   "source": [
    "Видим id книни, автора, название книг, количество страниц, дата публикации, id издательства"
   ]
  },
  {
   "cell_type": "code",
   "execution_count": 3,
   "id": "0d4aaf41",
   "metadata": {},
   "outputs": [
    {
     "data": {
      "text/html": [
       "<div>\n",
       "<style scoped>\n",
       "    .dataframe tbody tr th:only-of-type {\n",
       "        vertical-align: middle;\n",
       "    }\n",
       "\n",
       "    .dataframe tbody tr th {\n",
       "        vertical-align: top;\n",
       "    }\n",
       "\n",
       "    .dataframe thead th {\n",
       "        text-align: right;\n",
       "    }\n",
       "</style>\n",
       "<table border=\"1\" class=\"dataframe\">\n",
       "  <thead>\n",
       "    <tr style=\"text-align: right;\">\n",
       "      <th></th>\n",
       "      <th>author_id</th>\n",
       "      <th>author</th>\n",
       "    </tr>\n",
       "  </thead>\n",
       "  <tbody>\n",
       "    <tr>\n",
       "      <th>0</th>\n",
       "      <td>1</td>\n",
       "      <td>A.S. Byatt</td>\n",
       "    </tr>\n",
       "    <tr>\n",
       "      <th>1</th>\n",
       "      <td>2</td>\n",
       "      <td>Aesop/Laura Harris/Laura Gibbs</td>\n",
       "    </tr>\n",
       "    <tr>\n",
       "      <th>2</th>\n",
       "      <td>3</td>\n",
       "      <td>Agatha Christie</td>\n",
       "    </tr>\n",
       "    <tr>\n",
       "      <th>3</th>\n",
       "      <td>4</td>\n",
       "      <td>Alan Brennert</td>\n",
       "    </tr>\n",
       "    <tr>\n",
       "      <th>4</th>\n",
       "      <td>5</td>\n",
       "      <td>Alan Moore/David   Lloyd</td>\n",
       "    </tr>\n",
       "  </tbody>\n",
       "</table>\n",
       "</div>"
      ],
      "text/plain": [
       "   author_id                          author\n",
       "0          1                      A.S. Byatt\n",
       "1          2  Aesop/Laura Harris/Laura Gibbs\n",
       "2          3                 Agatha Christie\n",
       "3          4                   Alan Brennert\n",
       "4          5        Alan Moore/David   Lloyd"
      ]
     },
     "execution_count": 3,
     "metadata": {},
     "output_type": "execute_result"
    }
   ],
   "source": [
    "authors = '''SELECT * FROM authors LIMIT 5'''\n",
    "\n",
    "con=engine.connect()\n",
    "\n",
    "pd.io.sql.read_sql(sql=text(authors), con = con)"
   ]
  },
  {
   "cell_type": "markdown",
   "id": "f97c1930",
   "metadata": {},
   "source": [
    "Столбцы id автора и имя автора"
   ]
  },
  {
   "cell_type": "code",
   "execution_count": 4,
   "id": "bf994953",
   "metadata": {},
   "outputs": [
    {
     "data": {
      "text/html": [
       "<div>\n",
       "<style scoped>\n",
       "    .dataframe tbody tr th:only-of-type {\n",
       "        vertical-align: middle;\n",
       "    }\n",
       "\n",
       "    .dataframe tbody tr th {\n",
       "        vertical-align: top;\n",
       "    }\n",
       "\n",
       "    .dataframe thead th {\n",
       "        text-align: right;\n",
       "    }\n",
       "</style>\n",
       "<table border=\"1\" class=\"dataframe\">\n",
       "  <thead>\n",
       "    <tr style=\"text-align: right;\">\n",
       "      <th></th>\n",
       "      <th>rating_id</th>\n",
       "      <th>book_id</th>\n",
       "      <th>username</th>\n",
       "      <th>rating</th>\n",
       "    </tr>\n",
       "  </thead>\n",
       "  <tbody>\n",
       "    <tr>\n",
       "      <th>0</th>\n",
       "      <td>1</td>\n",
       "      <td>1</td>\n",
       "      <td>ryanfranco</td>\n",
       "      <td>4</td>\n",
       "    </tr>\n",
       "    <tr>\n",
       "      <th>1</th>\n",
       "      <td>2</td>\n",
       "      <td>1</td>\n",
       "      <td>grantpatricia</td>\n",
       "      <td>2</td>\n",
       "    </tr>\n",
       "    <tr>\n",
       "      <th>2</th>\n",
       "      <td>3</td>\n",
       "      <td>1</td>\n",
       "      <td>brandtandrea</td>\n",
       "      <td>5</td>\n",
       "    </tr>\n",
       "    <tr>\n",
       "      <th>3</th>\n",
       "      <td>4</td>\n",
       "      <td>2</td>\n",
       "      <td>lorichen</td>\n",
       "      <td>3</td>\n",
       "    </tr>\n",
       "    <tr>\n",
       "      <th>4</th>\n",
       "      <td>5</td>\n",
       "      <td>2</td>\n",
       "      <td>mariokeller</td>\n",
       "      <td>2</td>\n",
       "    </tr>\n",
       "  </tbody>\n",
       "</table>\n",
       "</div>"
      ],
      "text/plain": [
       "   rating_id  book_id       username  rating\n",
       "0          1        1     ryanfranco       4\n",
       "1          2        1  grantpatricia       2\n",
       "2          3        1   brandtandrea       5\n",
       "3          4        2       lorichen       3\n",
       "4          5        2    mariokeller       2"
      ]
     },
     "execution_count": 4,
     "metadata": {},
     "output_type": "execute_result"
    }
   ],
   "source": [
    "ratings = '''SELECT * FROM ratings LIMIT 5'''\n",
    "\n",
    "con=engine.connect()\n",
    "\n",
    "pd.io.sql.read_sql(sql=text(ratings), con = con)"
   ]
  },
  {
   "cell_type": "markdown",
   "id": "0d0f8c5c",
   "metadata": {},
   "source": [
    "Столбцы с id рейтинга, книги, имя пользователя, и рейтингом"
   ]
  },
  {
   "cell_type": "code",
   "execution_count": 5,
   "id": "79626eaa",
   "metadata": {},
   "outputs": [
    {
     "data": {
      "text/html": [
       "<div>\n",
       "<style scoped>\n",
       "    .dataframe tbody tr th:only-of-type {\n",
       "        vertical-align: middle;\n",
       "    }\n",
       "\n",
       "    .dataframe tbody tr th {\n",
       "        vertical-align: top;\n",
       "    }\n",
       "\n",
       "    .dataframe thead th {\n",
       "        text-align: right;\n",
       "    }\n",
       "</style>\n",
       "<table border=\"1\" class=\"dataframe\">\n",
       "  <thead>\n",
       "    <tr style=\"text-align: right;\">\n",
       "      <th></th>\n",
       "      <th>review_id</th>\n",
       "      <th>book_id</th>\n",
       "      <th>username</th>\n",
       "      <th>text</th>\n",
       "    </tr>\n",
       "  </thead>\n",
       "  <tbody>\n",
       "    <tr>\n",
       "      <th>0</th>\n",
       "      <td>1</td>\n",
       "      <td>1</td>\n",
       "      <td>brandtandrea</td>\n",
       "      <td>Mention society tell send professor analysis. ...</td>\n",
       "    </tr>\n",
       "    <tr>\n",
       "      <th>1</th>\n",
       "      <td>2</td>\n",
       "      <td>1</td>\n",
       "      <td>ryanfranco</td>\n",
       "      <td>Foot glass pretty audience hit themselves. Amo...</td>\n",
       "    </tr>\n",
       "    <tr>\n",
       "      <th>2</th>\n",
       "      <td>3</td>\n",
       "      <td>2</td>\n",
       "      <td>lorichen</td>\n",
       "      <td>Listen treat keep worry. Miss husband tax but ...</td>\n",
       "    </tr>\n",
       "    <tr>\n",
       "      <th>3</th>\n",
       "      <td>4</td>\n",
       "      <td>3</td>\n",
       "      <td>johnsonamanda</td>\n",
       "      <td>Finally month interesting blue could nature cu...</td>\n",
       "    </tr>\n",
       "    <tr>\n",
       "      <th>4</th>\n",
       "      <td>5</td>\n",
       "      <td>3</td>\n",
       "      <td>scotttamara</td>\n",
       "      <td>Nation purpose heavy give wait song will. List...</td>\n",
       "    </tr>\n",
       "  </tbody>\n",
       "</table>\n",
       "</div>"
      ],
      "text/plain": [
       "   review_id  book_id       username  \\\n",
       "0          1        1   brandtandrea   \n",
       "1          2        1     ryanfranco   \n",
       "2          3        2       lorichen   \n",
       "3          4        3  johnsonamanda   \n",
       "4          5        3    scotttamara   \n",
       "\n",
       "                                                text  \n",
       "0  Mention society tell send professor analysis. ...  \n",
       "1  Foot glass pretty audience hit themselves. Amo...  \n",
       "2  Listen treat keep worry. Miss husband tax but ...  \n",
       "3  Finally month interesting blue could nature cu...  \n",
       "4  Nation purpose heavy give wait song will. List...  "
      ]
     },
     "execution_count": 5,
     "metadata": {},
     "output_type": "execute_result"
    }
   ],
   "source": [
    "reviews = '''SELECT * FROM reviews LIMIT 5'''\n",
    "\n",
    "con=engine.connect()\n",
    "\n",
    "pd.io.sql.read_sql(sql=text(reviews), con = con)"
   ]
  },
  {
   "cell_type": "markdown",
   "id": "c1f2e6a2",
   "metadata": {},
   "source": [
    "Столбцы с id обзора, книги, именем пользователя, и текстом обзора."
   ]
  },
  {
   "cell_type": "code",
   "execution_count": 6,
   "id": "8becbf67",
   "metadata": {},
   "outputs": [
    {
     "data": {
      "text/html": [
       "<div>\n",
       "<style scoped>\n",
       "    .dataframe tbody tr th:only-of-type {\n",
       "        vertical-align: middle;\n",
       "    }\n",
       "\n",
       "    .dataframe tbody tr th {\n",
       "        vertical-align: top;\n",
       "    }\n",
       "\n",
       "    .dataframe thead th {\n",
       "        text-align: right;\n",
       "    }\n",
       "</style>\n",
       "<table border=\"1\" class=\"dataframe\">\n",
       "  <thead>\n",
       "    <tr style=\"text-align: right;\">\n",
       "      <th></th>\n",
       "      <th>publisher_id</th>\n",
       "      <th>publisher</th>\n",
       "    </tr>\n",
       "  </thead>\n",
       "  <tbody>\n",
       "    <tr>\n",
       "      <th>0</th>\n",
       "      <td>1</td>\n",
       "      <td>Ace</td>\n",
       "    </tr>\n",
       "    <tr>\n",
       "      <th>1</th>\n",
       "      <td>2</td>\n",
       "      <td>Ace Book</td>\n",
       "    </tr>\n",
       "    <tr>\n",
       "      <th>2</th>\n",
       "      <td>3</td>\n",
       "      <td>Ace Books</td>\n",
       "    </tr>\n",
       "    <tr>\n",
       "      <th>3</th>\n",
       "      <td>4</td>\n",
       "      <td>Ace Hardcover</td>\n",
       "    </tr>\n",
       "    <tr>\n",
       "      <th>4</th>\n",
       "      <td>5</td>\n",
       "      <td>Addison Wesley Publishing Company</td>\n",
       "    </tr>\n",
       "  </tbody>\n",
       "</table>\n",
       "</div>"
      ],
      "text/plain": [
       "   publisher_id                          publisher\n",
       "0             1                                Ace\n",
       "1             2                           Ace Book\n",
       "2             3                          Ace Books\n",
       "3             4                      Ace Hardcover\n",
       "4             5  Addison Wesley Publishing Company"
      ]
     },
     "execution_count": 6,
     "metadata": {},
     "output_type": "execute_result"
    }
   ],
   "source": [
    "publishers = '''SELECT * FROM publishers LIMIT 5'''\n",
    "\n",
    "con=engine.connect()\n",
    "\n",
    "pd.io.sql.read_sql(sql=text(publishers), con = con)"
   ]
  },
  {
   "cell_type": "markdown",
   "id": "bd0375e9",
   "metadata": {},
   "source": [
    "id издательства, название издательства"
   ]
  },
  {
   "cell_type": "markdown",
   "id": "52eb6823",
   "metadata": {},
   "source": [
    "__Задача 1__ Посчитайте, сколько книг вышло после 1 января 2000 года"
   ]
  },
  {
   "cell_type": "code",
   "execution_count": 7,
   "id": "15529be1",
   "metadata": {
    "scrolled": false
   },
   "outputs": [
    {
     "data": {
      "text/html": [
       "<div>\n",
       "<style scoped>\n",
       "    .dataframe tbody tr th:only-of-type {\n",
       "        vertical-align: middle;\n",
       "    }\n",
       "\n",
       "    .dataframe tbody tr th {\n",
       "        vertical-align: top;\n",
       "    }\n",
       "\n",
       "    .dataframe thead th {\n",
       "        text-align: right;\n",
       "    }\n",
       "</style>\n",
       "<table border=\"1\" class=\"dataframe\">\n",
       "  <thead>\n",
       "    <tr style=\"text-align: right;\">\n",
       "      <th></th>\n",
       "      <th>count</th>\n",
       "    </tr>\n",
       "  </thead>\n",
       "  <tbody>\n",
       "    <tr>\n",
       "      <th>0</th>\n",
       "      <td>819</td>\n",
       "    </tr>\n",
       "  </tbody>\n",
       "</table>\n",
       "</div>"
      ],
      "text/plain": [
       "   count\n",
       "0    819"
      ]
     },
     "execution_count": 7,
     "metadata": {},
     "output_type": "execute_result"
    }
   ],
   "source": [
    "quantity_of_books = '''SELECT count(book_id)\n",
    "FROM books\n",
    "WHERE publication_date::date > '2000-01-01';'''\n",
    "\n",
    "con=engine.connect()\n",
    "\n",
    "pd.io.sql.read_sql(sql=text(quantity_of_books), con = con)"
   ]
  },
  {
   "cell_type": "markdown",
   "id": "1e20b5cf",
   "metadata": {},
   "source": [
    "Всего 819 книга была выпущена после 1 января 2000 года"
   ]
  },
  {
   "cell_type": "markdown",
   "id": "d9096e7e",
   "metadata": {},
   "source": [
    "__Задача 2__ Для каждой книги посчитайте количество обзоров и среднюю оценку"
   ]
  },
  {
   "cell_type": "code",
   "execution_count": 8,
   "id": "88767e3a",
   "metadata": {},
   "outputs": [
    {
     "data": {
      "text/html": [
       "<div>\n",
       "<style scoped>\n",
       "    .dataframe tbody tr th:only-of-type {\n",
       "        vertical-align: middle;\n",
       "    }\n",
       "\n",
       "    .dataframe tbody tr th {\n",
       "        vertical-align: top;\n",
       "    }\n",
       "\n",
       "    .dataframe thead th {\n",
       "        text-align: right;\n",
       "    }\n",
       "</style>\n",
       "<table border=\"1\" class=\"dataframe\">\n",
       "  <thead>\n",
       "    <tr style=\"text-align: right;\">\n",
       "      <th></th>\n",
       "      <th>book_id</th>\n",
       "      <th>title</th>\n",
       "      <th>quantity_of_reviews</th>\n",
       "      <th>average_rating</th>\n",
       "    </tr>\n",
       "  </thead>\n",
       "  <tbody>\n",
       "    <tr>\n",
       "      <th>0</th>\n",
       "      <td>948</td>\n",
       "      <td>Twilight (Twilight  #1)</td>\n",
       "      <td>7</td>\n",
       "      <td>3.662500</td>\n",
       "    </tr>\n",
       "    <tr>\n",
       "      <th>1</th>\n",
       "      <td>963</td>\n",
       "      <td>Water for Elephants</td>\n",
       "      <td>6</td>\n",
       "      <td>3.977273</td>\n",
       "    </tr>\n",
       "    <tr>\n",
       "      <th>2</th>\n",
       "      <td>734</td>\n",
       "      <td>The Glass Castle</td>\n",
       "      <td>6</td>\n",
       "      <td>4.206897</td>\n",
       "    </tr>\n",
       "    <tr>\n",
       "      <th>3</th>\n",
       "      <td>302</td>\n",
       "      <td>Harry Potter and the Prisoner of Azkaban (Harr...</td>\n",
       "      <td>6</td>\n",
       "      <td>4.414634</td>\n",
       "    </tr>\n",
       "    <tr>\n",
       "      <th>4</th>\n",
       "      <td>695</td>\n",
       "      <td>The Curious Incident of the Dog in the Night-Time</td>\n",
       "      <td>6</td>\n",
       "      <td>4.081081</td>\n",
       "    </tr>\n",
       "    <tr>\n",
       "      <th>...</th>\n",
       "      <td>...</td>\n",
       "      <td>...</td>\n",
       "      <td>...</td>\n",
       "      <td>...</td>\n",
       "    </tr>\n",
       "    <tr>\n",
       "      <th>995</th>\n",
       "      <td>83</td>\n",
       "      <td>Anne Rice's The Vampire Lestat: A Graphic Novel</td>\n",
       "      <td>0</td>\n",
       "      <td>3.666667</td>\n",
       "    </tr>\n",
       "    <tr>\n",
       "      <th>996</th>\n",
       "      <td>808</td>\n",
       "      <td>The Natural Way to Draw</td>\n",
       "      <td>0</td>\n",
       "      <td>3.000000</td>\n",
       "    </tr>\n",
       "    <tr>\n",
       "      <th>997</th>\n",
       "      <td>672</td>\n",
       "      <td>The Cat in the Hat and Other Dr. Seuss Favorites</td>\n",
       "      <td>0</td>\n",
       "      <td>5.000000</td>\n",
       "    </tr>\n",
       "    <tr>\n",
       "      <th>998</th>\n",
       "      <td>221</td>\n",
       "      <td>Essential Tales and Poems</td>\n",
       "      <td>0</td>\n",
       "      <td>4.000000</td>\n",
       "    </tr>\n",
       "    <tr>\n",
       "      <th>999</th>\n",
       "      <td>191</td>\n",
       "      <td>Disney's Beauty and the Beast (A Little Golden...</td>\n",
       "      <td>0</td>\n",
       "      <td>4.000000</td>\n",
       "    </tr>\n",
       "  </tbody>\n",
       "</table>\n",
       "<p>1000 rows × 4 columns</p>\n",
       "</div>"
      ],
      "text/plain": [
       "     book_id                                              title  \\\n",
       "0        948                            Twilight (Twilight  #1)   \n",
       "1        963                                Water for Elephants   \n",
       "2        734                                   The Glass Castle   \n",
       "3        302  Harry Potter and the Prisoner of Azkaban (Harr...   \n",
       "4        695  The Curious Incident of the Dog in the Night-Time   \n",
       "..       ...                                                ...   \n",
       "995       83    Anne Rice's The Vampire Lestat: A Graphic Novel   \n",
       "996      808                            The Natural Way to Draw   \n",
       "997      672   The Cat in the Hat and Other Dr. Seuss Favorites   \n",
       "998      221                          Essential Tales and Poems   \n",
       "999      191  Disney's Beauty and the Beast (A Little Golden...   \n",
       "\n",
       "     quantity_of_reviews  average_rating  \n",
       "0                      7        3.662500  \n",
       "1                      6        3.977273  \n",
       "2                      6        4.206897  \n",
       "3                      6        4.414634  \n",
       "4                      6        4.081081  \n",
       "..                   ...             ...  \n",
       "995                    0        3.666667  \n",
       "996                    0        3.000000  \n",
       "997                    0        5.000000  \n",
       "998                    0        4.000000  \n",
       "999                    0        4.000000  \n",
       "\n",
       "[1000 rows x 4 columns]"
      ]
     },
     "execution_count": 8,
     "metadata": {},
     "output_type": "execute_result"
    }
   ],
   "source": [
    "average_rating_reviews = '''\n",
    "SELECT b.book_id,b.title, count(DISTINCT re.text) as quantity_of_reviews, AVG(ra.rating) as average_rating\n",
    "FROM books as b\n",
    "LEFT JOIN ratings as ra on ra.book_id = b.book_id\n",
    "LEFT JOIN reviews as re on re.book_id = b.book_id\n",
    "GROUP BY 1,2\n",
    "ORDER BY quantity_of_reviews DESC;'''\n",
    "\n",
    "con=engine.connect()\n",
    "\n",
    "pd.io.sql.read_sql(sql=text(average_rating_reviews), con = con)"
   ]
  },
  {
   "cell_type": "markdown",
   "id": "a6db47a3",
   "metadata": {},
   "source": [
    "Всего 1000 книг,книга Twilight (Twilight #1)\t имеет больше всего обзоров 7 и рейтинг 3.66"
   ]
  },
  {
   "cell_type": "markdown",
   "id": "f828cbd8",
   "metadata": {},
   "source": [
    "__Задача 3__  Определите издательство, которое выпустило наибольшее число книг толще 50 страниц — так вы исключите из анализа брошюры"
   ]
  },
  {
   "cell_type": "code",
   "execution_count": 9,
   "id": "a1071322",
   "metadata": {},
   "outputs": [
    {
     "data": {
      "text/html": [
       "<div>\n",
       "<style scoped>\n",
       "    .dataframe tbody tr th:only-of-type {\n",
       "        vertical-align: middle;\n",
       "    }\n",
       "\n",
       "    .dataframe tbody tr th {\n",
       "        vertical-align: top;\n",
       "    }\n",
       "\n",
       "    .dataframe thead th {\n",
       "        text-align: right;\n",
       "    }\n",
       "</style>\n",
       "<table border=\"1\" class=\"dataframe\">\n",
       "  <thead>\n",
       "    <tr style=\"text-align: right;\">\n",
       "      <th></th>\n",
       "      <th>publisher</th>\n",
       "      <th>quantity</th>\n",
       "    </tr>\n",
       "  </thead>\n",
       "  <tbody>\n",
       "    <tr>\n",
       "      <th>0</th>\n",
       "      <td>Penguin Books</td>\n",
       "      <td>42</td>\n",
       "    </tr>\n",
       "  </tbody>\n",
       "</table>\n",
       "</div>"
      ],
      "text/plain": [
       "       publisher  quantity\n",
       "0  Penguin Books        42"
      ]
     },
     "execution_count": 9,
     "metadata": {},
     "output_type": "execute_result"
    }
   ],
   "source": [
    "publisher = '''\n",
    "SELECT pub.publisher, count(distinct b.title) as quantity\n",
    "FROM publishers as pub\n",
    "LEFT JOIN books as b on b.publisher_id = pub.publisher_id\n",
    "WHERE b.num_pages > 50\n",
    "GROUP BY pub.publisher\n",
    "ORDER BY quantity DESC\n",
    "LIMIT 1;'''\n",
    "\n",
    "con=engine.connect()\n",
    "\n",
    "pd.io.sql.read_sql(sql=text(publisher), con = con)"
   ]
  },
  {
   "cell_type": "markdown",
   "id": "1ae0d9df",
   "metadata": {},
   "source": [
    "Больше всего книг толщиной больше 50 страниц выпустило издательство Penguin Books в количестве 42 книги"
   ]
  },
  {
   "cell_type": "markdown",
   "id": "68efd4c2",
   "metadata": {},
   "source": [
    "__Задача 4__  Определите автора с самой высокой средней оценкой книг — учитывайте только книги с 50 и более оценками"
   ]
  },
  {
   "cell_type": "code",
   "execution_count": 10,
   "id": "d56deb45",
   "metadata": {},
   "outputs": [
    {
     "data": {
      "text/html": [
       "<div>\n",
       "<style scoped>\n",
       "    .dataframe tbody tr th:only-of-type {\n",
       "        vertical-align: middle;\n",
       "    }\n",
       "\n",
       "    .dataframe tbody tr th {\n",
       "        vertical-align: top;\n",
       "    }\n",
       "\n",
       "    .dataframe thead th {\n",
       "        text-align: right;\n",
       "    }\n",
       "</style>\n",
       "<table border=\"1\" class=\"dataframe\">\n",
       "  <thead>\n",
       "    <tr style=\"text-align: right;\">\n",
       "      <th></th>\n",
       "      <th>author</th>\n",
       "      <th>average_rating</th>\n",
       "    </tr>\n",
       "  </thead>\n",
       "  <tbody>\n",
       "    <tr>\n",
       "      <th>0</th>\n",
       "      <td>J.K. Rowling/Mary GrandPré</td>\n",
       "      <td>4.288462</td>\n",
       "    </tr>\n",
       "  </tbody>\n",
       "</table>\n",
       "</div>"
      ],
      "text/plain": [
       "                       author  average_rating\n",
       "0  J.K. Rowling/Mary GrandPré        4.288462"
      ]
     },
     "execution_count": 10,
     "metadata": {},
     "output_type": "execute_result"
    }
   ],
   "source": [
    "author = '''\n",
    "SELECT a.author ,AVG(r.rating) as average_rating\n",
    "FROM author as a\n",
    "LEFT JOIN books as b on b.author_id = a.author_id\n",
    "LEFT JOIN ratings as r on r.book_id = b.book_id\n",
    "\n",
    "GROUP BY a.author\n",
    "HAVING count(r.book_id) > 50\n",
    "ORDER BY average_rating DESC\n",
    "LIMIT 1;'''\n",
    "\n",
    "con=engine.connect()\n",
    "\n",
    "pd.io.sql.read_sql(sql=text(author), con = con)"
   ]
  },
  {
   "cell_type": "markdown",
   "id": "d9a27e4e",
   "metadata": {},
   "source": [
    "J.K. Rowling/Mary GrandPré автор с самой высокой средней оценкой книг,учитывая только книги с 50 и более оценками, рейтинг 4.29"
   ]
  },
  {
   "cell_type": "markdown",
   "id": "1a19b82d",
   "metadata": {},
   "source": [
    "__Задача 5__  Посчитайте среднее количество обзоров от пользователей, которые поставили больше 48 оценок."
   ]
  },
  {
   "cell_type": "code",
   "execution_count": 11,
   "id": "39712cd2",
   "metadata": {
    "scrolled": false
   },
   "outputs": [
    {
     "data": {
      "text/html": [
       "<div>\n",
       "<style scoped>\n",
       "    .dataframe tbody tr th:only-of-type {\n",
       "        vertical-align: middle;\n",
       "    }\n",
       "\n",
       "    .dataframe tbody tr th {\n",
       "        vertical-align: top;\n",
       "    }\n",
       "\n",
       "    .dataframe thead th {\n",
       "        text-align: right;\n",
       "    }\n",
       "</style>\n",
       "<table border=\"1\" class=\"dataframe\">\n",
       "  <thead>\n",
       "    <tr style=\"text-align: right;\">\n",
       "      <th></th>\n",
       "      <th>avg</th>\n",
       "    </tr>\n",
       "  </thead>\n",
       "  <tbody>\n",
       "    <tr>\n",
       "      <th>0</th>\n",
       "      <td>24.0</td>\n",
       "    </tr>\n",
       "  </tbody>\n",
       "</table>\n",
       "</div>"
      ],
      "text/plain": [
       "    avg\n",
       "0  24.0"
      ]
     },
     "execution_count": 11,
     "metadata": {},
     "output_type": "execute_result"
    }
   ],
   "source": [
    "average_reviews = '''\n",
    "SELECT AVG(tab.quality)\n",
    "FROM (SELECT username, count(text) as quality FROM reviews GROUP BY username) as tab\n",
    "WHERE username in \n",
    "(SELECT username\n",
    "FROM ratings\n",
    "GROUP BY username\n",
    "HAVING count(username) > 48);'''\n",
    "\n",
    "con=engine.connect()\n",
    "\n",
    "pd.io.sql.read_sql(sql=text(average_reviews), con = con)"
   ]
  },
  {
   "cell_type": "markdown",
   "id": "93cf04a5",
   "metadata": {},
   "source": [
    "Среднее количество обзоров составляет 24, это те пользователи, которые поставили больше 48 оценок"
   ]
  },
  {
   "cell_type": "markdown",
   "id": "ef937dd7",
   "metadata": {},
   "source": [
    "__Вывод__  \n",
    "Надо добавлять в базу книги с высоким рейтингом, с достаточным количеством обзоров, не менее 3-4 например, это говорит о популярности книги, например Twilight (Twilight #1).Также надо добавлять книги высокорейтинговых авторов. Например J.K. Rowling/Mary GrandPré. Остальные краткие пояснения я оставил после каждой задачи\t"
   ]
  },
  {
   "cell_type": "code",
   "execution_count": null,
   "id": "b3962130",
   "metadata": {},
   "outputs": [],
   "source": []
  }
 ],
 "metadata": {
  "ExecuteTimeLog": [
   {
    "duration": 7963,
    "start_time": "2023-07-23T14:46:11.065Z"
   },
   {
    "duration": 82,
    "start_time": "2023-07-23T14:54:18.042Z"
   },
   {
    "duration": 5,
    "start_time": "2023-07-23T14:59:20.721Z"
   },
   {
    "duration": 77,
    "start_time": "2023-07-23T15:00:57.841Z"
   },
   {
    "duration": 101,
    "start_time": "2023-07-23T15:01:30.139Z"
   },
   {
    "duration": 66,
    "start_time": "2023-07-23T15:04:21.194Z"
   },
   {
    "duration": 16,
    "start_time": "2023-07-23T15:05:48.842Z"
   },
   {
    "duration": 12,
    "start_time": "2023-07-23T15:07:28.517Z"
   },
   {
    "duration": 12,
    "start_time": "2023-07-23T15:09:31.204Z"
   },
   {
    "duration": 32,
    "start_time": "2023-07-23T15:12:26.986Z"
   },
   {
    "duration": 11473,
    "start_time": "2023-07-23T15:23:23.511Z"
   },
   {
    "duration": 87,
    "start_time": "2023-07-23T15:23:34.986Z"
   },
   {
    "duration": 162,
    "start_time": "2023-07-23T15:23:35.076Z"
   },
   {
    "duration": 11,
    "start_time": "2023-07-23T15:23:35.240Z"
   },
   {
    "duration": 20,
    "start_time": "2023-07-23T15:23:35.253Z"
   },
   {
    "duration": 52,
    "start_time": "2023-07-23T15:23:35.275Z"
   },
   {
    "duration": 51,
    "start_time": "2023-07-23T15:23:35.328Z"
   },
   {
    "duration": 25,
    "start_time": "2023-07-23T15:24:06.462Z"
   },
   {
    "duration": 88,
    "start_time": "2023-07-23T15:24:29.670Z"
   },
   {
    "duration": 16,
    "start_time": "2023-07-23T15:25:03.034Z"
   },
   {
    "duration": 11,
    "start_time": "2023-07-23T15:25:27.700Z"
   },
   {
    "duration": 107,
    "start_time": "2023-07-23T15:42:27.156Z"
   },
   {
    "duration": 101,
    "start_time": "2023-07-23T15:43:23.430Z"
   },
   {
    "duration": 60,
    "start_time": "2023-07-23T15:47:35.568Z"
   },
   {
    "duration": 55,
    "start_time": "2023-07-23T15:48:00.441Z"
   },
   {
    "duration": 8864,
    "start_time": "2023-07-23T16:14:41.094Z"
   },
   {
    "duration": 98,
    "start_time": "2023-07-23T16:14:49.960Z"
   },
   {
    "duration": 58,
    "start_time": "2023-07-23T16:14:50.060Z"
   },
   {
    "duration": 12,
    "start_time": "2023-07-23T16:14:50.121Z"
   },
   {
    "duration": 15,
    "start_time": "2023-07-23T16:14:50.135Z"
   },
   {
    "duration": 12,
    "start_time": "2023-07-23T16:14:50.152Z"
   },
   {
    "duration": 28,
    "start_time": "2023-07-23T16:14:50.166Z"
   },
   {
    "duration": 57,
    "start_time": "2023-07-23T16:14:50.196Z"
   },
   {
    "duration": 118,
    "start_time": "2023-07-23T16:16:37.990Z"
   },
   {
    "duration": 54,
    "start_time": "2023-07-23T16:18:44.994Z"
   },
   {
    "duration": 7,
    "start_time": "2023-07-23T16:19:18.510Z"
   },
   {
    "duration": 8372,
    "start_time": "2023-07-23T16:19:26.320Z"
   },
   {
    "duration": 91,
    "start_time": "2023-07-23T16:19:34.695Z"
   },
   {
    "duration": 67,
    "start_time": "2023-07-23T16:19:34.788Z"
   },
   {
    "duration": 13,
    "start_time": "2023-07-23T16:19:34.857Z"
   },
   {
    "duration": 22,
    "start_time": "2023-07-23T16:19:34.875Z"
   },
   {
    "duration": 9,
    "start_time": "2023-07-23T16:19:34.899Z"
   },
   {
    "duration": 75,
    "start_time": "2023-07-23T16:19:34.910Z"
   },
   {
    "duration": 0,
    "start_time": "2023-07-23T16:19:34.988Z"
   },
   {
    "duration": 0,
    "start_time": "2023-07-23T16:19:34.989Z"
   },
   {
    "duration": 11,
    "start_time": "2023-07-23T16:19:59.790Z"
   },
   {
    "duration": 20,
    "start_time": "2023-07-23T16:20:15.564Z"
   },
   {
    "duration": 1194,
    "start_time": "2023-07-23T16:20:31.445Z"
   },
   {
    "duration": 13,
    "start_time": "2023-07-23T16:28:48.526Z"
   },
   {
    "duration": 47,
    "start_time": "2023-07-23T16:38:47.064Z"
   },
   {
    "duration": 26,
    "start_time": "2023-07-23T16:39:31.115Z"
   },
   {
    "duration": 42,
    "start_time": "2023-07-23T16:41:34.287Z"
   },
   {
    "duration": 15,
    "start_time": "2023-07-23T16:41:49.950Z"
   },
   {
    "duration": 78,
    "start_time": "2023-07-23T16:57:35.510Z"
   },
   {
    "duration": 16,
    "start_time": "2023-07-23T16:57:58.667Z"
   },
   {
    "duration": 8904,
    "start_time": "2023-07-23T16:58:14.695Z"
   },
   {
    "duration": 61,
    "start_time": "2023-07-23T16:58:23.601Z"
   },
   {
    "duration": 72,
    "start_time": "2023-07-23T16:58:23.663Z"
   },
   {
    "duration": 10,
    "start_time": "2023-07-23T16:58:23.737Z"
   },
   {
    "duration": 10,
    "start_time": "2023-07-23T16:58:23.749Z"
   },
   {
    "duration": 25,
    "start_time": "2023-07-23T16:58:23.760Z"
   },
   {
    "duration": 16,
    "start_time": "2023-07-23T16:58:23.786Z"
   },
   {
    "duration": 50,
    "start_time": "2023-07-23T16:58:23.804Z"
   },
   {
    "duration": 14,
    "start_time": "2023-07-23T16:58:23.855Z"
   },
   {
    "duration": 25,
    "start_time": "2023-07-23T16:58:23.875Z"
   },
   {
    "duration": 84,
    "start_time": "2023-07-23T16:58:23.901Z"
   },
   {
    "duration": 40,
    "start_time": "2023-07-23T16:59:37.383Z"
   },
   {
    "duration": 96,
    "start_time": "2023-07-23T17:01:41.626Z"
   },
   {
    "duration": 86,
    "start_time": "2023-07-23T17:06:05.564Z"
   },
   {
    "duration": 22,
    "start_time": "2023-07-23T17:08:59.361Z"
   },
   {
    "duration": 36,
    "start_time": "2023-07-23T17:12:34.406Z"
   },
   {
    "duration": 16,
    "start_time": "2023-07-23T17:13:50.455Z"
   },
   {
    "duration": 164,
    "start_time": "2023-07-23T17:16:02.388Z"
   },
   {
    "duration": 22,
    "start_time": "2023-07-23T17:16:10.995Z"
   },
   {
    "duration": 83,
    "start_time": "2023-07-23T17:23:33.705Z"
   },
   {
    "duration": 62,
    "start_time": "2023-07-23T17:23:51.288Z"
   },
   {
    "duration": 62,
    "start_time": "2023-07-23T17:33:40.396Z"
   },
   {
    "duration": 10201,
    "start_time": "2023-07-23T17:36:59.322Z"
   },
   {
    "duration": 59,
    "start_time": "2023-07-23T17:37:09.526Z"
   },
   {
    "duration": 57,
    "start_time": "2023-07-23T17:37:09.592Z"
   },
   {
    "duration": 25,
    "start_time": "2023-07-23T17:37:09.652Z"
   },
   {
    "duration": 43,
    "start_time": "2023-07-23T17:37:09.679Z"
   },
   {
    "duration": 12,
    "start_time": "2023-07-23T17:37:09.726Z"
   },
   {
    "duration": 12,
    "start_time": "2023-07-23T17:37:09.740Z"
   },
   {
    "duration": 65,
    "start_time": "2023-07-23T17:37:09.754Z"
   },
   {
    "duration": 14,
    "start_time": "2023-07-23T17:37:09.821Z"
   },
   {
    "duration": 17,
    "start_time": "2023-07-23T17:37:09.838Z"
   },
   {
    "duration": 16,
    "start_time": "2023-07-23T17:37:09.857Z"
   },
   {
    "duration": 9077,
    "start_time": "2023-07-24T07:01:00.151Z"
   },
   {
    "duration": 89,
    "start_time": "2023-07-24T07:01:09.230Z"
   },
   {
    "duration": 65,
    "start_time": "2023-07-24T07:01:09.321Z"
   },
   {
    "duration": 20,
    "start_time": "2023-07-24T07:01:09.388Z"
   },
   {
    "duration": 99,
    "start_time": "2023-07-24T07:01:09.410Z"
   },
   {
    "duration": 22,
    "start_time": "2023-07-24T07:01:09.511Z"
   },
   {
    "duration": 155,
    "start_time": "2023-07-24T07:01:09.534Z"
   },
   {
    "duration": 58,
    "start_time": "2023-07-24T07:01:09.691Z"
   },
   {
    "duration": 30,
    "start_time": "2023-07-24T07:01:09.751Z"
   },
   {
    "duration": 20,
    "start_time": "2023-07-24T07:01:09.786Z"
   },
   {
    "duration": 19,
    "start_time": "2023-07-24T07:01:09.808Z"
   },
   {
    "duration": 32,
    "start_time": "2023-07-24T07:03:08.431Z"
   },
   {
    "duration": 47,
    "start_time": "2023-07-24T07:04:03.642Z"
   },
   {
    "duration": 9004,
    "start_time": "2023-07-24T07:06:41.561Z"
   },
   {
    "duration": 75,
    "start_time": "2023-07-24T07:06:50.568Z"
   },
   {
    "duration": 48,
    "start_time": "2023-07-24T07:06:50.645Z"
   },
   {
    "duration": 15,
    "start_time": "2023-07-24T07:06:50.694Z"
   },
   {
    "duration": 19,
    "start_time": "2023-07-24T07:06:50.711Z"
   },
   {
    "duration": 12,
    "start_time": "2023-07-24T07:06:50.732Z"
   },
   {
    "duration": 19,
    "start_time": "2023-07-24T07:06:50.746Z"
   },
   {
    "duration": 42,
    "start_time": "2023-07-24T07:06:50.767Z"
   },
   {
    "duration": 16,
    "start_time": "2023-07-24T07:06:50.813Z"
   },
   {
    "duration": 28,
    "start_time": "2023-07-24T07:06:50.831Z"
   },
   {
    "duration": 19,
    "start_time": "2023-07-24T07:06:50.861Z"
   }
  ],
  "kernelspec": {
   "display_name": "Python 3 (ipykernel)",
   "language": "python",
   "name": "python3"
  },
  "language_info": {
   "codemirror_mode": {
    "name": "ipython",
    "version": 3
   },
   "file_extension": ".py",
   "mimetype": "text/x-python",
   "name": "python",
   "nbconvert_exporter": "python",
   "pygments_lexer": "ipython3",
   "version": "3.9.5"
  },
  "toc": {
   "base_numbering": 1,
   "nav_menu": {},
   "number_sections": true,
   "sideBar": true,
   "skip_h1_title": true,
   "title_cell": "Table of Contents",
   "title_sidebar": "Contents",
   "toc_cell": false,
   "toc_position": {},
   "toc_section_display": true,
   "toc_window_display": false
  }
 },
 "nbformat": 4,
 "nbformat_minor": 5
}
