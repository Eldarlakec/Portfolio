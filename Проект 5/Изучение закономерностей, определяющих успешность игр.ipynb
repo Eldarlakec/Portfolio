{
 "cells": [
  {
   "cell_type": "markdown",
   "metadata": {},
   "source": [
    "# Изучение закономерностей, определяющих успешность игр"
   ]
  },
  {
   "cell_type": "code",
   "execution_count": 1,
   "metadata": {},
   "outputs": [],
   "source": [
    "# Импортируем библиотеки\n",
    "import pandas as pd\n",
    "import numpy as np\n",
    "import matplotlib.pyplot as plt\n",
    "from scipy import stats as st\n",
    "import seaborn as sns\n",
    "import warnings\n",
    "warnings.simplefilter(\"ignore\")"
   ]
  },
  {
   "cell_type": "code",
   "execution_count": 2,
   "metadata": {},
   "outputs": [],
   "source": [
    "df=pd.read_csv('/datasets/games.csv')"
   ]
  },
  {
   "cell_type": "code",
   "execution_count": 3,
   "metadata": {},
   "outputs": [
    {
     "data": {
      "text/html": [
       "<div>\n",
       "<style scoped>\n",
       "    .dataframe tbody tr th:only-of-type {\n",
       "        vertical-align: middle;\n",
       "    }\n",
       "\n",
       "    .dataframe tbody tr th {\n",
       "        vertical-align: top;\n",
       "    }\n",
       "\n",
       "    .dataframe thead th {\n",
       "        text-align: right;\n",
       "    }\n",
       "</style>\n",
       "<table border=\"1\" class=\"dataframe\">\n",
       "  <thead>\n",
       "    <tr style=\"text-align: right;\">\n",
       "      <th></th>\n",
       "      <th>Name</th>\n",
       "      <th>Platform</th>\n",
       "      <th>Year_of_Release</th>\n",
       "      <th>Genre</th>\n",
       "      <th>NA_sales</th>\n",
       "      <th>EU_sales</th>\n",
       "      <th>JP_sales</th>\n",
       "      <th>Other_sales</th>\n",
       "      <th>Critic_Score</th>\n",
       "      <th>User_Score</th>\n",
       "      <th>Rating</th>\n",
       "    </tr>\n",
       "  </thead>\n",
       "  <tbody>\n",
       "    <tr>\n",
       "      <th>0</th>\n",
       "      <td>Wii Sports</td>\n",
       "      <td>Wii</td>\n",
       "      <td>2006.0</td>\n",
       "      <td>Sports</td>\n",
       "      <td>41.36</td>\n",
       "      <td>28.96</td>\n",
       "      <td>3.77</td>\n",
       "      <td>8.45</td>\n",
       "      <td>76.0</td>\n",
       "      <td>8</td>\n",
       "      <td>E</td>\n",
       "    </tr>\n",
       "    <tr>\n",
       "      <th>1</th>\n",
       "      <td>Super Mario Bros.</td>\n",
       "      <td>NES</td>\n",
       "      <td>1985.0</td>\n",
       "      <td>Platform</td>\n",
       "      <td>29.08</td>\n",
       "      <td>3.58</td>\n",
       "      <td>6.81</td>\n",
       "      <td>0.77</td>\n",
       "      <td>NaN</td>\n",
       "      <td>NaN</td>\n",
       "      <td>NaN</td>\n",
       "    </tr>\n",
       "    <tr>\n",
       "      <th>2</th>\n",
       "      <td>Mario Kart Wii</td>\n",
       "      <td>Wii</td>\n",
       "      <td>2008.0</td>\n",
       "      <td>Racing</td>\n",
       "      <td>15.68</td>\n",
       "      <td>12.76</td>\n",
       "      <td>3.79</td>\n",
       "      <td>3.29</td>\n",
       "      <td>82.0</td>\n",
       "      <td>8.3</td>\n",
       "      <td>E</td>\n",
       "    </tr>\n",
       "    <tr>\n",
       "      <th>3</th>\n",
       "      <td>Wii Sports Resort</td>\n",
       "      <td>Wii</td>\n",
       "      <td>2009.0</td>\n",
       "      <td>Sports</td>\n",
       "      <td>15.61</td>\n",
       "      <td>10.93</td>\n",
       "      <td>3.28</td>\n",
       "      <td>2.95</td>\n",
       "      <td>80.0</td>\n",
       "      <td>8</td>\n",
       "      <td>E</td>\n",
       "    </tr>\n",
       "    <tr>\n",
       "      <th>4</th>\n",
       "      <td>Pokemon Red/Pokemon Blue</td>\n",
       "      <td>GB</td>\n",
       "      <td>1996.0</td>\n",
       "      <td>Role-Playing</td>\n",
       "      <td>11.27</td>\n",
       "      <td>8.89</td>\n",
       "      <td>10.22</td>\n",
       "      <td>1.00</td>\n",
       "      <td>NaN</td>\n",
       "      <td>NaN</td>\n",
       "      <td>NaN</td>\n",
       "    </tr>\n",
       "    <tr>\n",
       "      <th>...</th>\n",
       "      <td>...</td>\n",
       "      <td>...</td>\n",
       "      <td>...</td>\n",
       "      <td>...</td>\n",
       "      <td>...</td>\n",
       "      <td>...</td>\n",
       "      <td>...</td>\n",
       "      <td>...</td>\n",
       "      <td>...</td>\n",
       "      <td>...</td>\n",
       "      <td>...</td>\n",
       "    </tr>\n",
       "    <tr>\n",
       "      <th>16710</th>\n",
       "      <td>Samurai Warriors: Sanada Maru</td>\n",
       "      <td>PS3</td>\n",
       "      <td>2016.0</td>\n",
       "      <td>Action</td>\n",
       "      <td>0.00</td>\n",
       "      <td>0.00</td>\n",
       "      <td>0.01</td>\n",
       "      <td>0.00</td>\n",
       "      <td>NaN</td>\n",
       "      <td>NaN</td>\n",
       "      <td>NaN</td>\n",
       "    </tr>\n",
       "    <tr>\n",
       "      <th>16711</th>\n",
       "      <td>LMA Manager 2007</td>\n",
       "      <td>X360</td>\n",
       "      <td>2006.0</td>\n",
       "      <td>Sports</td>\n",
       "      <td>0.00</td>\n",
       "      <td>0.01</td>\n",
       "      <td>0.00</td>\n",
       "      <td>0.00</td>\n",
       "      <td>NaN</td>\n",
       "      <td>NaN</td>\n",
       "      <td>NaN</td>\n",
       "    </tr>\n",
       "    <tr>\n",
       "      <th>16712</th>\n",
       "      <td>Haitaka no Psychedelica</td>\n",
       "      <td>PSV</td>\n",
       "      <td>2016.0</td>\n",
       "      <td>Adventure</td>\n",
       "      <td>0.00</td>\n",
       "      <td>0.00</td>\n",
       "      <td>0.01</td>\n",
       "      <td>0.00</td>\n",
       "      <td>NaN</td>\n",
       "      <td>NaN</td>\n",
       "      <td>NaN</td>\n",
       "    </tr>\n",
       "    <tr>\n",
       "      <th>16713</th>\n",
       "      <td>Spirits &amp; Spells</td>\n",
       "      <td>GBA</td>\n",
       "      <td>2003.0</td>\n",
       "      <td>Platform</td>\n",
       "      <td>0.01</td>\n",
       "      <td>0.00</td>\n",
       "      <td>0.00</td>\n",
       "      <td>0.00</td>\n",
       "      <td>NaN</td>\n",
       "      <td>NaN</td>\n",
       "      <td>NaN</td>\n",
       "    </tr>\n",
       "    <tr>\n",
       "      <th>16714</th>\n",
       "      <td>Winning Post 8 2016</td>\n",
       "      <td>PSV</td>\n",
       "      <td>2016.0</td>\n",
       "      <td>Simulation</td>\n",
       "      <td>0.00</td>\n",
       "      <td>0.00</td>\n",
       "      <td>0.01</td>\n",
       "      <td>0.00</td>\n",
       "      <td>NaN</td>\n",
       "      <td>NaN</td>\n",
       "      <td>NaN</td>\n",
       "    </tr>\n",
       "  </tbody>\n",
       "</table>\n",
       "<p>16715 rows × 11 columns</p>\n",
       "</div>"
      ],
      "text/plain": [
       "                                Name Platform  Year_of_Release         Genre  \\\n",
       "0                         Wii Sports      Wii           2006.0        Sports   \n",
       "1                  Super Mario Bros.      NES           1985.0      Platform   \n",
       "2                     Mario Kart Wii      Wii           2008.0        Racing   \n",
       "3                  Wii Sports Resort      Wii           2009.0        Sports   \n",
       "4           Pokemon Red/Pokemon Blue       GB           1996.0  Role-Playing   \n",
       "...                              ...      ...              ...           ...   \n",
       "16710  Samurai Warriors: Sanada Maru      PS3           2016.0        Action   \n",
       "16711               LMA Manager 2007     X360           2006.0        Sports   \n",
       "16712        Haitaka no Psychedelica      PSV           2016.0     Adventure   \n",
       "16713               Spirits & Spells      GBA           2003.0      Platform   \n",
       "16714            Winning Post 8 2016      PSV           2016.0    Simulation   \n",
       "\n",
       "       NA_sales  EU_sales  JP_sales  Other_sales  Critic_Score User_Score  \\\n",
       "0         41.36     28.96      3.77         8.45          76.0          8   \n",
       "1         29.08      3.58      6.81         0.77           NaN        NaN   \n",
       "2         15.68     12.76      3.79         3.29          82.0        8.3   \n",
       "3         15.61     10.93      3.28         2.95          80.0          8   \n",
       "4         11.27      8.89     10.22         1.00           NaN        NaN   \n",
       "...         ...       ...       ...          ...           ...        ...   \n",
       "16710      0.00      0.00      0.01         0.00           NaN        NaN   \n",
       "16711      0.00      0.01      0.00         0.00           NaN        NaN   \n",
       "16712      0.00      0.00      0.01         0.00           NaN        NaN   \n",
       "16713      0.01      0.00      0.00         0.00           NaN        NaN   \n",
       "16714      0.00      0.00      0.01         0.00           NaN        NaN   \n",
       "\n",
       "      Rating  \n",
       "0          E  \n",
       "1        NaN  \n",
       "2          E  \n",
       "3          E  \n",
       "4        NaN  \n",
       "...      ...  \n",
       "16710    NaN  \n",
       "16711    NaN  \n",
       "16712    NaN  \n",
       "16713    NaN  \n",
       "16714    NaN  \n",
       "\n",
       "[16715 rows x 11 columns]"
      ]
     },
     "execution_count": 3,
     "metadata": {},
     "output_type": "execute_result"
    }
   ],
   "source": [
    "df"
   ]
  },
  {
   "cell_type": "markdown",
   "metadata": {},
   "source": [
    "Приведем название столбцов к нижнему регистру"
   ]
  },
  {
   "cell_type": "code",
   "execution_count": 4,
   "metadata": {},
   "outputs": [],
   "source": [
    "df.columns=df.columns.str.lower()"
   ]
  },
  {
   "cell_type": "code",
   "execution_count": 5,
   "metadata": {},
   "outputs": [
    {
     "name": "stdout",
     "output_type": "stream",
     "text": [
      "<class 'pandas.core.frame.DataFrame'>\n",
      "RangeIndex: 16715 entries, 0 to 16714\n",
      "Data columns (total 11 columns):\n",
      " #   Column           Non-Null Count  Dtype  \n",
      "---  ------           --------------  -----  \n",
      " 0   name             16713 non-null  object \n",
      " 1   platform         16715 non-null  object \n",
      " 2   year_of_release  16446 non-null  float64\n",
      " 3   genre            16713 non-null  object \n",
      " 4   na_sales         16715 non-null  float64\n",
      " 5   eu_sales         16715 non-null  float64\n",
      " 6   jp_sales         16715 non-null  float64\n",
      " 7   other_sales      16715 non-null  float64\n",
      " 8   critic_score     8137 non-null   float64\n",
      " 9   user_score       10014 non-null  object \n",
      " 10  rating           9949 non-null   object \n",
      "dtypes: float64(6), object(5)\n",
      "memory usage: 1.4+ MB\n"
     ]
    }
   ],
   "source": [
    "df.info()"
   ]
  },
  {
   "cell_type": "markdown",
   "metadata": {},
   "source": [
    "Данные имеют объем в 16714 и 11 столбцов.В данных также имеются пропуски, в основном в столбцах user_score, \n",
    "critic_score и rating. Скорее всего их пропустили не случайно а просто оценки для данных игр не были проставлены.\n",
    "Также видим что тип данных в user_score object. Его нужно применить для последующего исследования\n",
    "Также можно изменить тип данных в 'int' в столбце year_of_release. В этом столбце как и в данных 'name'\n",
    "небольшое количество пропусков, которые скорее всего вызваны человеческим фактором"
   ]
  },
  {
   "cell_type": "markdown",
   "metadata": {},
   "source": [
    "Посчитаем сумму пропусков в каждом столбце:"
   ]
  },
  {
   "cell_type": "code",
   "execution_count": 6,
   "metadata": {},
   "outputs": [
    {
     "data": {
      "text/plain": [
       "name                  2\n",
       "platform              0\n",
       "year_of_release     269\n",
       "genre                 2\n",
       "na_sales              0\n",
       "eu_sales              0\n",
       "jp_sales              0\n",
       "other_sales           0\n",
       "critic_score       8578\n",
       "user_score         6701\n",
       "rating             6766\n",
       "dtype: int64"
      ]
     },
     "execution_count": 6,
     "metadata": {},
     "output_type": "execute_result"
    }
   ],
   "source": [
    "df.isna().sum()"
   ]
  },
  {
   "cell_type": "code",
   "execution_count": 7,
   "metadata": {
    "scrolled": true
   },
   "outputs": [
    {
     "name": "stdout",
     "output_type": "stream",
     "text": [
      "Requirement already satisfied: missingno in /opt/conda/lib/python3.9/site-packages (0.5.2)\n",
      "Requirement already satisfied: numpy in /opt/conda/lib/python3.9/site-packages (from missingno) (1.21.1)\n",
      "Requirement already satisfied: matplotlib in /opt/conda/lib/python3.9/site-packages (from missingno) (3.3.4)\n",
      "Requirement already satisfied: scipy in /opt/conda/lib/python3.9/site-packages (from missingno) (1.9.1)\n",
      "Requirement already satisfied: seaborn in /opt/conda/lib/python3.9/site-packages (from missingno) (0.11.1)\n",
      "Requirement already satisfied: python-dateutil>=2.1 in /opt/conda/lib/python3.9/site-packages (from matplotlib->missingno) (2.8.1)\n",
      "Requirement already satisfied: kiwisolver>=1.0.1 in /opt/conda/lib/python3.9/site-packages (from matplotlib->missingno) (1.4.4)\n",
      "Requirement already satisfied: pillow>=6.2.0 in /opt/conda/lib/python3.9/site-packages (from matplotlib->missingno) (8.4.0)\n",
      "Requirement already satisfied: cycler>=0.10 in /opt/conda/lib/python3.9/site-packages (from matplotlib->missingno) (0.11.0)\n",
      "Requirement already satisfied: pyparsing!=2.0.4,!=2.1.2,!=2.1.6,>=2.0.3 in /opt/conda/lib/python3.9/site-packages (from matplotlib->missingno) (2.4.7)\n",
      "Requirement already satisfied: six>=1.5 in /opt/conda/lib/python3.9/site-packages (from python-dateutil>=2.1->matplotlib->missingno) (1.16.0)\n",
      "Requirement already satisfied: pandas>=0.23 in /opt/conda/lib/python3.9/site-packages (from seaborn->missingno) (1.2.4)\n",
      "Requirement already satisfied: pytz>=2017.3 in /opt/conda/lib/python3.9/site-packages (from pandas>=0.23->seaborn->missingno) (2021.1)\n"
     ]
    },
    {
     "data": {
      "text/plain": [
       "<AxesSubplot:>"
      ]
     },
     "execution_count": 7,
     "metadata": {},
     "output_type": "execute_result"
    },
    {
     "data": {
      "image/png": "[encoded data removed]",
      "text/plain": [
       "<Figure size 1800x720 with 2 Axes>"
      ]
     },
     "metadata": {
      "needs_background": "light"
     },
     "output_type": "display_data"
    }
   ],
   "source": [
    "! pip install missingno\n",
    "import missingno as msno\n",
    "\n",
    "msno.matrix(df, labels=True)\n",
    "\n"
   ]
  },
  {
   "cell_type": "code",
   "execution_count": 8,
   "metadata": {},
   "outputs": [
    {
     "data": {
      "text/plain": [
       "<AxesSubplot:>"
      ]
     },
     "execution_count": 8,
     "metadata": {},
     "output_type": "execute_result"
    },
    {
     "data": {
      "image/png": "[encoded data removed]",
      "text/plain": [
       "<Figure size 1800x720 with 3 Axes>"
      ]
     },
     "metadata": {
      "needs_background": "light"
     },
     "output_type": "display_data"
    }
   ],
   "source": [
    "msno.bar(df)"
   ]
  },
  {
   "cell_type": "markdown",
   "metadata": {},
   "source": [
    "Как и описывал в выводе выше можно видеть что больше всего пропусков в столбцах user_score, critic_score и rating."
   ]
  },
  {
   "cell_type": "markdown",
   "metadata": {},
   "source": [
    "Для начала разберемся со столбцом year_of_release и выясним для каких игр пропущено значение в этом столбце"
   ]
  },
  {
   "cell_type": "code",
   "execution_count": 9,
   "metadata": {},
   "outputs": [
    {
     "data": {
      "text/html": [
       "<div>\n",
       "<style scoped>\n",
       "    .dataframe tbody tr th:only-of-type {\n",
       "        vertical-align: middle;\n",
       "    }\n",
       "\n",
       "    .dataframe tbody tr th {\n",
       "        vertical-align: top;\n",
       "    }\n",
       "\n",
       "    .dataframe thead th {\n",
       "        text-align: right;\n",
       "    }\n",
       "</style>\n",
       "<table border=\"1\" class=\"dataframe\">\n",
       "  <thead>\n",
       "    <tr style=\"text-align: right;\">\n",
       "      <th></th>\n",
       "      <th>name</th>\n",
       "      <th>platform</th>\n",
       "      <th>year_of_release</th>\n",
       "      <th>genre</th>\n",
       "      <th>na_sales</th>\n",
       "      <th>eu_sales</th>\n",
       "      <th>jp_sales</th>\n",
       "      <th>other_sales</th>\n",
       "      <th>critic_score</th>\n",
       "      <th>user_score</th>\n",
       "      <th>rating</th>\n",
       "    </tr>\n",
       "  </thead>\n",
       "  <tbody>\n",
       "    <tr>\n",
       "      <th>183</th>\n",
       "      <td>Madden NFL 2004</td>\n",
       "      <td>PS2</td>\n",
       "      <td>NaN</td>\n",
       "      <td>Sports</td>\n",
       "      <td>4.26</td>\n",
       "      <td>0.26</td>\n",
       "      <td>0.01</td>\n",
       "      <td>0.71</td>\n",
       "      <td>94.0</td>\n",
       "      <td>8.5</td>\n",
       "      <td>E</td>\n",
       "    </tr>\n",
       "    <tr>\n",
       "      <th>377</th>\n",
       "      <td>FIFA Soccer 2004</td>\n",
       "      <td>PS2</td>\n",
       "      <td>NaN</td>\n",
       "      <td>Sports</td>\n",
       "      <td>0.59</td>\n",
       "      <td>2.36</td>\n",
       "      <td>0.04</td>\n",
       "      <td>0.51</td>\n",
       "      <td>84.0</td>\n",
       "      <td>6.4</td>\n",
       "      <td>E</td>\n",
       "    </tr>\n",
       "    <tr>\n",
       "      <th>456</th>\n",
       "      <td>LEGO Batman: The Videogame</td>\n",
       "      <td>Wii</td>\n",
       "      <td>NaN</td>\n",
       "      <td>Action</td>\n",
       "      <td>1.80</td>\n",
       "      <td>0.97</td>\n",
       "      <td>0.00</td>\n",
       "      <td>0.29</td>\n",
       "      <td>74.0</td>\n",
       "      <td>7.9</td>\n",
       "      <td>E10+</td>\n",
       "    </tr>\n",
       "    <tr>\n",
       "      <th>475</th>\n",
       "      <td>wwe Smackdown vs. Raw 2006</td>\n",
       "      <td>PS2</td>\n",
       "      <td>NaN</td>\n",
       "      <td>Fighting</td>\n",
       "      <td>1.57</td>\n",
       "      <td>1.02</td>\n",
       "      <td>0.00</td>\n",
       "      <td>0.41</td>\n",
       "      <td>NaN</td>\n",
       "      <td>NaN</td>\n",
       "      <td>NaN</td>\n",
       "    </tr>\n",
       "    <tr>\n",
       "      <th>609</th>\n",
       "      <td>Space Invaders</td>\n",
       "      <td>2600</td>\n",
       "      <td>NaN</td>\n",
       "      <td>Shooter</td>\n",
       "      <td>2.36</td>\n",
       "      <td>0.14</td>\n",
       "      <td>0.00</td>\n",
       "      <td>0.03</td>\n",
       "      <td>NaN</td>\n",
       "      <td>NaN</td>\n",
       "      <td>NaN</td>\n",
       "    </tr>\n",
       "    <tr>\n",
       "      <th>...</th>\n",
       "      <td>...</td>\n",
       "      <td>...</td>\n",
       "      <td>...</td>\n",
       "      <td>...</td>\n",
       "      <td>...</td>\n",
       "      <td>...</td>\n",
       "      <td>...</td>\n",
       "      <td>...</td>\n",
       "      <td>...</td>\n",
       "      <td>...</td>\n",
       "      <td>...</td>\n",
       "    </tr>\n",
       "    <tr>\n",
       "      <th>16373</th>\n",
       "      <td>PDC World Championship Darts 2008</td>\n",
       "      <td>PSP</td>\n",
       "      <td>NaN</td>\n",
       "      <td>Sports</td>\n",
       "      <td>0.01</td>\n",
       "      <td>0.00</td>\n",
       "      <td>0.00</td>\n",
       "      <td>0.00</td>\n",
       "      <td>43.0</td>\n",
       "      <td>tbd</td>\n",
       "      <td>E10+</td>\n",
       "    </tr>\n",
       "    <tr>\n",
       "      <th>16405</th>\n",
       "      <td>Freaky Flyers</td>\n",
       "      <td>GC</td>\n",
       "      <td>NaN</td>\n",
       "      <td>Racing</td>\n",
       "      <td>0.01</td>\n",
       "      <td>0.00</td>\n",
       "      <td>0.00</td>\n",
       "      <td>0.00</td>\n",
       "      <td>69.0</td>\n",
       "      <td>6.5</td>\n",
       "      <td>T</td>\n",
       "    </tr>\n",
       "    <tr>\n",
       "      <th>16448</th>\n",
       "      <td>Inversion</td>\n",
       "      <td>PC</td>\n",
       "      <td>NaN</td>\n",
       "      <td>Shooter</td>\n",
       "      <td>0.01</td>\n",
       "      <td>0.00</td>\n",
       "      <td>0.00</td>\n",
       "      <td>0.00</td>\n",
       "      <td>59.0</td>\n",
       "      <td>6.7</td>\n",
       "      <td>M</td>\n",
       "    </tr>\n",
       "    <tr>\n",
       "      <th>16458</th>\n",
       "      <td>Hakuouki: Shinsengumi Kitan</td>\n",
       "      <td>PS3</td>\n",
       "      <td>NaN</td>\n",
       "      <td>Adventure</td>\n",
       "      <td>0.01</td>\n",
       "      <td>0.00</td>\n",
       "      <td>0.00</td>\n",
       "      <td>0.00</td>\n",
       "      <td>NaN</td>\n",
       "      <td>NaN</td>\n",
       "      <td>NaN</td>\n",
       "    </tr>\n",
       "    <tr>\n",
       "      <th>16522</th>\n",
       "      <td>Virtua Quest</td>\n",
       "      <td>GC</td>\n",
       "      <td>NaN</td>\n",
       "      <td>Role-Playing</td>\n",
       "      <td>0.01</td>\n",
       "      <td>0.00</td>\n",
       "      <td>0.00</td>\n",
       "      <td>0.00</td>\n",
       "      <td>55.0</td>\n",
       "      <td>5.5</td>\n",
       "      <td>T</td>\n",
       "    </tr>\n",
       "  </tbody>\n",
       "</table>\n",
       "<p>269 rows × 11 columns</p>\n",
       "</div>"
      ],
      "text/plain": [
       "                                    name platform  year_of_release  \\\n",
       "183                      Madden NFL 2004      PS2              NaN   \n",
       "377                     FIFA Soccer 2004      PS2              NaN   \n",
       "456           LEGO Batman: The Videogame      Wii              NaN   \n",
       "475           wwe Smackdown vs. Raw 2006      PS2              NaN   \n",
       "609                       Space Invaders     2600              NaN   \n",
       "...                                  ...      ...              ...   \n",
       "16373  PDC World Championship Darts 2008      PSP              NaN   \n",
       "16405                      Freaky Flyers       GC              NaN   \n",
       "16448                          Inversion       PC              NaN   \n",
       "16458        Hakuouki: Shinsengumi Kitan      PS3              NaN   \n",
       "16522                       Virtua Quest       GC              NaN   \n",
       "\n",
       "              genre  na_sales  eu_sales  jp_sales  other_sales  critic_score  \\\n",
       "183          Sports      4.26      0.26      0.01         0.71          94.0   \n",
       "377          Sports      0.59      2.36      0.04         0.51          84.0   \n",
       "456          Action      1.80      0.97      0.00         0.29          74.0   \n",
       "475        Fighting      1.57      1.02      0.00         0.41           NaN   \n",
       "609         Shooter      2.36      0.14      0.00         0.03           NaN   \n",
       "...             ...       ...       ...       ...          ...           ...   \n",
       "16373        Sports      0.01      0.00      0.00         0.00          43.0   \n",
       "16405        Racing      0.01      0.00      0.00         0.00          69.0   \n",
       "16448       Shooter      0.01      0.00      0.00         0.00          59.0   \n",
       "16458     Adventure      0.01      0.00      0.00         0.00           NaN   \n",
       "16522  Role-Playing      0.01      0.00      0.00         0.00          55.0   \n",
       "\n",
       "      user_score rating  \n",
       "183          8.5      E  \n",
       "377          6.4      E  \n",
       "456          7.9   E10+  \n",
       "475          NaN    NaN  \n",
       "609          NaN    NaN  \n",
       "...          ...    ...  \n",
       "16373        tbd   E10+  \n",
       "16405        6.5      T  \n",
       "16448        6.7      M  \n",
       "16458        NaN    NaN  \n",
       "16522        5.5      T  \n",
       "\n",
       "[269 rows x 11 columns]"
      ]
     },
     "execution_count": 9,
     "metadata": {},
     "output_type": "execute_result"
    }
   ],
   "source": [
    "df[df['year_of_release'].isna()]"
   ]
  },
  {
   "cell_type": "code",
   "execution_count": 10,
   "metadata": {},
   "outputs": [],
   "source": [
    "df= df.dropna(subset=['year_of_release','name'])"
   ]
  },
  {
   "cell_type": "markdown",
   "metadata": {},
   "source": [
    "Доля пропусков в столбце year_of_release получилась меньше 2 процентов, а количество в столбце 'name' всего 2.\n",
    "Поэтому от них избавились"
   ]
  },
  {
   "cell_type": "code",
   "execution_count": 11,
   "metadata": {},
   "outputs": [
    {
     "data": {
      "text/plain": [
       "name                  0\n",
       "platform              0\n",
       "year_of_release       0\n",
       "genre                 0\n",
       "na_sales              0\n",
       "eu_sales              0\n",
       "jp_sales              0\n",
       "other_sales           0\n",
       "critic_score       8461\n",
       "user_score         6605\n",
       "rating             6676\n",
       "dtype: int64"
      ]
     },
     "execution_count": 11,
     "metadata": {},
     "output_type": "execute_result"
    }
   ],
   "source": [
    "df.isna().sum()"
   ]
  },
  {
   "cell_type": "code",
   "execution_count": 12,
   "metadata": {},
   "outputs": [
    {
     "data": {
      "text/plain": [
       "0"
      ]
     },
     "execution_count": 12,
     "metadata": {},
     "output_type": "execute_result"
    }
   ],
   "source": [
    "df.duplicated().sum()"
   ]
  },
  {
   "cell_type": "markdown",
   "metadata": {},
   "source": [
    "Явных дубликатов не обнаружено"
   ]
  },
  {
   "cell_type": "markdown",
   "metadata": {},
   "source": [
    "У нас имеются пропуски в столбце 'rating' , заполним их на 'Unknown'"
   ]
  },
  {
   "cell_type": "code",
   "execution_count": 13,
   "metadata": {},
   "outputs": [],
   "source": [
    "df['rating']=df['rating'].fillna('Unknown').copy()"
   ]
  },
  {
   "cell_type": "code",
   "execution_count": 14,
   "metadata": {},
   "outputs": [
    {
     "data": {
      "text/plain": [
       "name                  0\n",
       "platform              0\n",
       "year_of_release       0\n",
       "genre                 0\n",
       "na_sales              0\n",
       "eu_sales              0\n",
       "jp_sales              0\n",
       "other_sales           0\n",
       "critic_score       8461\n",
       "user_score         6605\n",
       "rating                0\n",
       "dtype: int64"
      ]
     },
     "execution_count": 14,
     "metadata": {},
     "output_type": "execute_result"
    }
   ],
   "source": [
    "df.isna().sum()"
   ]
  },
  {
   "cell_type": "code",
   "execution_count": 15,
   "metadata": {},
   "outputs": [],
   "source": [
    "df.loc[(df['user_score'] == 'tbd'), 'user_score'] = df[df.isna()]"
   ]
  },
  {
   "cell_type": "code",
   "execution_count": 16,
   "metadata": {},
   "outputs": [
    {
     "data": {
      "text/plain": [
       "name                  0\n",
       "platform              0\n",
       "year_of_release       0\n",
       "genre                 0\n",
       "na_sales              0\n",
       "eu_sales              0\n",
       "jp_sales              0\n",
       "other_sales           0\n",
       "critic_score       8461\n",
       "user_score         8981\n",
       "rating                0\n",
       "dtype: int64"
      ]
     },
     "execution_count": 16,
     "metadata": {},
     "output_type": "execute_result"
    }
   ],
   "source": [
    "df.isna().sum()"
   ]
  },
  {
   "cell_type": "markdown",
   "metadata": {},
   "source": [
    "В столбце 'user_score' мы заменили параметр 'tbd' на пропуск. Далее пропуски в столбцах critic_score, user_score\n",
    "оставляем без изменений"
   ]
  },
  {
   "cell_type": "code",
   "execution_count": 17,
   "metadata": {},
   "outputs": [
    {
     "name": "stdout",
     "output_type": "stream",
     "text": [
      "<class 'pandas.core.frame.DataFrame'>\n",
      "Int64Index: 16444 entries, 0 to 16714\n",
      "Data columns (total 11 columns):\n",
      " #   Column           Non-Null Count  Dtype  \n",
      "---  ------           --------------  -----  \n",
      " 0   name             16444 non-null  object \n",
      " 1   platform         16444 non-null  object \n",
      " 2   year_of_release  16444 non-null  float64\n",
      " 3   genre            16444 non-null  object \n",
      " 4   na_sales         16444 non-null  float64\n",
      " 5   eu_sales         16444 non-null  float64\n",
      " 6   jp_sales         16444 non-null  float64\n",
      " 7   other_sales      16444 non-null  float64\n",
      " 8   critic_score     7983 non-null   float64\n",
      " 9   user_score       7463 non-null   object \n",
      " 10  rating           16444 non-null  object \n",
      "dtypes: float64(6), object(5)\n",
      "memory usage: 2.0+ MB\n"
     ]
    }
   ],
   "source": [
    "df.info()"
   ]
  },
  {
   "cell_type": "code",
   "execution_count": 18,
   "metadata": {},
   "outputs": [],
   "source": [
    "df['year_of_release']=df['year_of_release'].astype('int') #год выпуска можно перевесть в int"
   ]
  },
  {
   "cell_type": "code",
   "execution_count": 19,
   "metadata": {},
   "outputs": [],
   "source": [
    "df['user_score']=pd.to_numeric(df['user_score'], errors='coerce') #изменим тип данных в 'user_score'\n"
   ]
  },
  {
   "cell_type": "code",
   "execution_count": 20,
   "metadata": {},
   "outputs": [
    {
     "name": "stdout",
     "output_type": "stream",
     "text": [
      "<class 'pandas.core.frame.DataFrame'>\n",
      "Int64Index: 16444 entries, 0 to 16714\n",
      "Data columns (total 11 columns):\n",
      " #   Column           Non-Null Count  Dtype  \n",
      "---  ------           --------------  -----  \n",
      " 0   name             16444 non-null  object \n",
      " 1   platform         16444 non-null  object \n",
      " 2   year_of_release  16444 non-null  int64  \n",
      " 3   genre            16444 non-null  object \n",
      " 4   na_sales         16444 non-null  float64\n",
      " 5   eu_sales         16444 non-null  float64\n",
      " 6   jp_sales         16444 non-null  float64\n",
      " 7   other_sales      16444 non-null  float64\n",
      " 8   critic_score     7983 non-null   float64\n",
      " 9   user_score       7463 non-null   float64\n",
      " 10  rating           16444 non-null  object \n",
      "dtypes: float64(6), int64(1), object(4)\n",
      "memory usage: 2.0+ MB\n"
     ]
    }
   ],
   "source": [
    "df.info()"
   ]
  },
  {
   "cell_type": "code",
   "execution_count": 21,
   "metadata": {},
   "outputs": [],
   "source": [
    "df['total_sales']=df['na_sales']+df['eu_sales']+df['jp_sales']+df['other_sales']# общее сумма продаж по всем регионам"
   ]
  },
  {
   "cell_type": "code",
   "execution_count": 22,
   "metadata": {
    "scrolled": false
   },
   "outputs": [
    {
     "data": {
      "text/html": [
       "<div>\n",
       "<style scoped>\n",
       "    .dataframe tbody tr th:only-of-type {\n",
       "        vertical-align: middle;\n",
       "    }\n",
       "\n",
       "    .dataframe tbody tr th {\n",
       "        vertical-align: top;\n",
       "    }\n",
       "\n",
       "    .dataframe thead th {\n",
       "        text-align: right;\n",
       "    }\n",
       "</style>\n",
       "<table border=\"1\" class=\"dataframe\">\n",
       "  <thead>\n",
       "    <tr style=\"text-align: right;\">\n",
       "      <th></th>\n",
       "      <th>name</th>\n",
       "      <th>platform</th>\n",
       "      <th>year_of_release</th>\n",
       "      <th>genre</th>\n",
       "      <th>na_sales</th>\n",
       "      <th>eu_sales</th>\n",
       "      <th>jp_sales</th>\n",
       "      <th>other_sales</th>\n",
       "      <th>critic_score</th>\n",
       "      <th>user_score</th>\n",
       "      <th>rating</th>\n",
       "      <th>total_sales</th>\n",
       "    </tr>\n",
       "  </thead>\n",
       "  <tbody>\n",
       "    <tr>\n",
       "      <th>0</th>\n",
       "      <td>Wii Sports</td>\n",
       "      <td>Wii</td>\n",
       "      <td>2006</td>\n",
       "      <td>Sports</td>\n",
       "      <td>41.36</td>\n",
       "      <td>28.96</td>\n",
       "      <td>3.77</td>\n",
       "      <td>8.45</td>\n",
       "      <td>76.0</td>\n",
       "      <td>8.0</td>\n",
       "      <td>E</td>\n",
       "      <td>82.54</td>\n",
       "    </tr>\n",
       "    <tr>\n",
       "      <th>1</th>\n",
       "      <td>Super Mario Bros.</td>\n",
       "      <td>NES</td>\n",
       "      <td>1985</td>\n",
       "      <td>Platform</td>\n",
       "      <td>29.08</td>\n",
       "      <td>3.58</td>\n",
       "      <td>6.81</td>\n",
       "      <td>0.77</td>\n",
       "      <td>NaN</td>\n",
       "      <td>NaN</td>\n",
       "      <td>Unknown</td>\n",
       "      <td>40.24</td>\n",
       "    </tr>\n",
       "    <tr>\n",
       "      <th>2</th>\n",
       "      <td>Mario Kart Wii</td>\n",
       "      <td>Wii</td>\n",
       "      <td>2008</td>\n",
       "      <td>Racing</td>\n",
       "      <td>15.68</td>\n",
       "      <td>12.76</td>\n",
       "      <td>3.79</td>\n",
       "      <td>3.29</td>\n",
       "      <td>82.0</td>\n",
       "      <td>8.3</td>\n",
       "      <td>E</td>\n",
       "      <td>35.52</td>\n",
       "    </tr>\n",
       "    <tr>\n",
       "      <th>3</th>\n",
       "      <td>Wii Sports Resort</td>\n",
       "      <td>Wii</td>\n",
       "      <td>2009</td>\n",
       "      <td>Sports</td>\n",
       "      <td>15.61</td>\n",
       "      <td>10.93</td>\n",
       "      <td>3.28</td>\n",
       "      <td>2.95</td>\n",
       "      <td>80.0</td>\n",
       "      <td>8.0</td>\n",
       "      <td>E</td>\n",
       "      <td>32.77</td>\n",
       "    </tr>\n",
       "    <tr>\n",
       "      <th>4</th>\n",
       "      <td>Pokemon Red/Pokemon Blue</td>\n",
       "      <td>GB</td>\n",
       "      <td>1996</td>\n",
       "      <td>Role-Playing</td>\n",
       "      <td>11.27</td>\n",
       "      <td>8.89</td>\n",
       "      <td>10.22</td>\n",
       "      <td>1.00</td>\n",
       "      <td>NaN</td>\n",
       "      <td>NaN</td>\n",
       "      <td>Unknown</td>\n",
       "      <td>31.38</td>\n",
       "    </tr>\n",
       "    <tr>\n",
       "      <th>...</th>\n",
       "      <td>...</td>\n",
       "      <td>...</td>\n",
       "      <td>...</td>\n",
       "      <td>...</td>\n",
       "      <td>...</td>\n",
       "      <td>...</td>\n",
       "      <td>...</td>\n",
       "      <td>...</td>\n",
       "      <td>...</td>\n",
       "      <td>...</td>\n",
       "      <td>...</td>\n",
       "      <td>...</td>\n",
       "    </tr>\n",
       "    <tr>\n",
       "      <th>16710</th>\n",
       "      <td>Samurai Warriors: Sanada Maru</td>\n",
       "      <td>PS3</td>\n",
       "      <td>2016</td>\n",
       "      <td>Action</td>\n",
       "      <td>0.00</td>\n",
       "      <td>0.00</td>\n",
       "      <td>0.01</td>\n",
       "      <td>0.00</td>\n",
       "      <td>NaN</td>\n",
       "      <td>NaN</td>\n",
       "      <td>Unknown</td>\n",
       "      <td>0.01</td>\n",
       "    </tr>\n",
       "    <tr>\n",
       "      <th>16711</th>\n",
       "      <td>LMA Manager 2007</td>\n",
       "      <td>X360</td>\n",
       "      <td>2006</td>\n",
       "      <td>Sports</td>\n",
       "      <td>0.00</td>\n",
       "      <td>0.01</td>\n",
       "      <td>0.00</td>\n",
       "      <td>0.00</td>\n",
       "      <td>NaN</td>\n",
       "      <td>NaN</td>\n",
       "      <td>Unknown</td>\n",
       "      <td>0.01</td>\n",
       "    </tr>\n",
       "    <tr>\n",
       "      <th>16712</th>\n",
       "      <td>Haitaka no Psychedelica</td>\n",
       "      <td>PSV</td>\n",
       "      <td>2016</td>\n",
       "      <td>Adventure</td>\n",
       "      <td>0.00</td>\n",
       "      <td>0.00</td>\n",
       "      <td>0.01</td>\n",
       "      <td>0.00</td>\n",
       "      <td>NaN</td>\n",
       "      <td>NaN</td>\n",
       "      <td>Unknown</td>\n",
       "      <td>0.01</td>\n",
       "    </tr>\n",
       "    <tr>\n",
       "      <th>16713</th>\n",
       "      <td>Spirits &amp; Spells</td>\n",
       "      <td>GBA</td>\n",
       "      <td>2003</td>\n",
       "      <td>Platform</td>\n",
       "      <td>0.01</td>\n",
       "      <td>0.00</td>\n",
       "      <td>0.00</td>\n",
       "      <td>0.00</td>\n",
       "      <td>NaN</td>\n",
       "      <td>NaN</td>\n",
       "      <td>Unknown</td>\n",
       "      <td>0.01</td>\n",
       "    </tr>\n",
       "    <tr>\n",
       "      <th>16714</th>\n",
       "      <td>Winning Post 8 2016</td>\n",
       "      <td>PSV</td>\n",
       "      <td>2016</td>\n",
       "      <td>Simulation</td>\n",
       "      <td>0.00</td>\n",
       "      <td>0.00</td>\n",
       "      <td>0.01</td>\n",
       "      <td>0.00</td>\n",
       "      <td>NaN</td>\n",
       "      <td>NaN</td>\n",
       "      <td>Unknown</td>\n",
       "      <td>0.01</td>\n",
       "    </tr>\n",
       "  </tbody>\n",
       "</table>\n",
       "<p>16444 rows × 12 columns</p>\n",
       "</div>"
      ],
      "text/plain": [
       "                                name platform  year_of_release         genre  \\\n",
       "0                         Wii Sports      Wii             2006        Sports   \n",
       "1                  Super Mario Bros.      NES             1985      Platform   \n",
       "2                     Mario Kart Wii      Wii             2008        Racing   \n",
       "3                  Wii Sports Resort      Wii             2009        Sports   \n",
       "4           Pokemon Red/Pokemon Blue       GB             1996  Role-Playing   \n",
       "...                              ...      ...              ...           ...   \n",
       "16710  Samurai Warriors: Sanada Maru      PS3             2016        Action   \n",
       "16711               LMA Manager 2007     X360             2006        Sports   \n",
       "16712        Haitaka no Psychedelica      PSV             2016     Adventure   \n",
       "16713               Spirits & Spells      GBA             2003      Platform   \n",
       "16714            Winning Post 8 2016      PSV             2016    Simulation   \n",
       "\n",
       "       na_sales  eu_sales  jp_sales  other_sales  critic_score  user_score  \\\n",
       "0         41.36     28.96      3.77         8.45          76.0         8.0   \n",
       "1         29.08      3.58      6.81         0.77           NaN         NaN   \n",
       "2         15.68     12.76      3.79         3.29          82.0         8.3   \n",
       "3         15.61     10.93      3.28         2.95          80.0         8.0   \n",
       "4         11.27      8.89     10.22         1.00           NaN         NaN   \n",
       "...         ...       ...       ...          ...           ...         ...   \n",
       "16710      0.00      0.00      0.01         0.00           NaN         NaN   \n",
       "16711      0.00      0.01      0.00         0.00           NaN         NaN   \n",
       "16712      0.00      0.00      0.01         0.00           NaN         NaN   \n",
       "16713      0.01      0.00      0.00         0.00           NaN         NaN   \n",
       "16714      0.00      0.00      0.01         0.00           NaN         NaN   \n",
       "\n",
       "        rating  total_sales  \n",
       "0            E        82.54  \n",
       "1      Unknown        40.24  \n",
       "2            E        35.52  \n",
       "3            E        32.77  \n",
       "4      Unknown        31.38  \n",
       "...        ...          ...  \n",
       "16710  Unknown         0.01  \n",
       "16711  Unknown         0.01  \n",
       "16712  Unknown         0.01  \n",
       "16713  Unknown         0.01  \n",
       "16714  Unknown         0.01  \n",
       "\n",
       "[16444 rows x 12 columns]"
      ]
     },
     "execution_count": 22,
     "metadata": {},
     "output_type": "execute_result"
    }
   ],
   "source": [
    "df"
   ]
  },
  {
   "cell_type": "markdown",
   "metadata": {},
   "source": [
    "Вывод: Изменили где нужно тип данных в числовой, удалили пропуски где это возможно, где то их изменили, а где то оставили без изменений\n",
    "так чтобы не исказить последующий анализ. Предобработка выполнена, можно двигаться дальше"
   ]
  },
  {
   "cell_type": "markdown",
   "metadata": {},
   "source": [
    "__Шаг 3. Исследовательский анализ данных__"
   ]
  },
  {
   "cell_type": "markdown",
   "metadata": {},
   "source": [
    "Посмотрим, сколько игр выпускалось в разные годы."
   ]
  },
  {
   "cell_type": "code",
   "execution_count": 23,
   "metadata": {},
   "outputs": [
    {
     "data": {
      "text/html": [
       "<div>\n",
       "<style scoped>\n",
       "    .dataframe tbody tr th:only-of-type {\n",
       "        vertical-align: middle;\n",
       "    }\n",
       "\n",
       "    .dataframe tbody tr th {\n",
       "        vertical-align: top;\n",
       "    }\n",
       "\n",
       "    .dataframe thead th {\n",
       "        text-align: right;\n",
       "    }\n",
       "</style>\n",
       "<table border=\"1\" class=\"dataframe\">\n",
       "  <thead>\n",
       "    <tr style=\"text-align: right;\">\n",
       "      <th></th>\n",
       "      <th>year_of_release</th>\n",
       "      <th>name</th>\n",
       "    </tr>\n",
       "  </thead>\n",
       "  <tbody>\n",
       "    <tr>\n",
       "      <th>36</th>\n",
       "      <td>2016</td>\n",
       "      <td>502</td>\n",
       "    </tr>\n",
       "    <tr>\n",
       "      <th>35</th>\n",
       "      <td>2015</td>\n",
       "      <td>606</td>\n",
       "    </tr>\n",
       "    <tr>\n",
       "      <th>34</th>\n",
       "      <td>2014</td>\n",
       "      <td>581</td>\n",
       "    </tr>\n",
       "    <tr>\n",
       "      <th>33</th>\n",
       "      <td>2013</td>\n",
       "      <td>544</td>\n",
       "    </tr>\n",
       "    <tr>\n",
       "      <th>32</th>\n",
       "      <td>2012</td>\n",
       "      <td>653</td>\n",
       "    </tr>\n",
       "    <tr>\n",
       "      <th>31</th>\n",
       "      <td>2011</td>\n",
       "      <td>1136</td>\n",
       "    </tr>\n",
       "    <tr>\n",
       "      <th>30</th>\n",
       "      <td>2010</td>\n",
       "      <td>1255</td>\n",
       "    </tr>\n",
       "    <tr>\n",
       "      <th>29</th>\n",
       "      <td>2009</td>\n",
       "      <td>1426</td>\n",
       "    </tr>\n",
       "    <tr>\n",
       "      <th>28</th>\n",
       "      <td>2008</td>\n",
       "      <td>1427</td>\n",
       "    </tr>\n",
       "    <tr>\n",
       "      <th>27</th>\n",
       "      <td>2007</td>\n",
       "      <td>1197</td>\n",
       "    </tr>\n",
       "    <tr>\n",
       "      <th>26</th>\n",
       "      <td>2006</td>\n",
       "      <td>1006</td>\n",
       "    </tr>\n",
       "    <tr>\n",
       "      <th>25</th>\n",
       "      <td>2005</td>\n",
       "      <td>939</td>\n",
       "    </tr>\n",
       "    <tr>\n",
       "      <th>24</th>\n",
       "      <td>2004</td>\n",
       "      <td>762</td>\n",
       "    </tr>\n",
       "    <tr>\n",
       "      <th>23</th>\n",
       "      <td>2003</td>\n",
       "      <td>775</td>\n",
       "    </tr>\n",
       "    <tr>\n",
       "      <th>22</th>\n",
       "      <td>2002</td>\n",
       "      <td>829</td>\n",
       "    </tr>\n",
       "    <tr>\n",
       "      <th>21</th>\n",
       "      <td>2001</td>\n",
       "      <td>482</td>\n",
       "    </tr>\n",
       "    <tr>\n",
       "      <th>20</th>\n",
       "      <td>2000</td>\n",
       "      <td>350</td>\n",
       "    </tr>\n",
       "    <tr>\n",
       "      <th>19</th>\n",
       "      <td>1999</td>\n",
       "      <td>338</td>\n",
       "    </tr>\n",
       "    <tr>\n",
       "      <th>18</th>\n",
       "      <td>1998</td>\n",
       "      <td>379</td>\n",
       "    </tr>\n",
       "    <tr>\n",
       "      <th>17</th>\n",
       "      <td>1997</td>\n",
       "      <td>289</td>\n",
       "    </tr>\n",
       "    <tr>\n",
       "      <th>16</th>\n",
       "      <td>1996</td>\n",
       "      <td>263</td>\n",
       "    </tr>\n",
       "    <tr>\n",
       "      <th>15</th>\n",
       "      <td>1995</td>\n",
       "      <td>219</td>\n",
       "    </tr>\n",
       "    <tr>\n",
       "      <th>14</th>\n",
       "      <td>1994</td>\n",
       "      <td>121</td>\n",
       "    </tr>\n",
       "    <tr>\n",
       "      <th>13</th>\n",
       "      <td>1993</td>\n",
       "      <td>60</td>\n",
       "    </tr>\n",
       "    <tr>\n",
       "      <th>12</th>\n",
       "      <td>1992</td>\n",
       "      <td>43</td>\n",
       "    </tr>\n",
       "    <tr>\n",
       "      <th>11</th>\n",
       "      <td>1991</td>\n",
       "      <td>41</td>\n",
       "    </tr>\n",
       "    <tr>\n",
       "      <th>10</th>\n",
       "      <td>1990</td>\n",
       "      <td>16</td>\n",
       "    </tr>\n",
       "    <tr>\n",
       "      <th>9</th>\n",
       "      <td>1989</td>\n",
       "      <td>17</td>\n",
       "    </tr>\n",
       "    <tr>\n",
       "      <th>8</th>\n",
       "      <td>1988</td>\n",
       "      <td>15</td>\n",
       "    </tr>\n",
       "    <tr>\n",
       "      <th>7</th>\n",
       "      <td>1987</td>\n",
       "      <td>16</td>\n",
       "    </tr>\n",
       "    <tr>\n",
       "      <th>6</th>\n",
       "      <td>1986</td>\n",
       "      <td>21</td>\n",
       "    </tr>\n",
       "    <tr>\n",
       "      <th>5</th>\n",
       "      <td>1985</td>\n",
       "      <td>14</td>\n",
       "    </tr>\n",
       "    <tr>\n",
       "      <th>4</th>\n",
       "      <td>1984</td>\n",
       "      <td>14</td>\n",
       "    </tr>\n",
       "    <tr>\n",
       "      <th>3</th>\n",
       "      <td>1983</td>\n",
       "      <td>17</td>\n",
       "    </tr>\n",
       "    <tr>\n",
       "      <th>2</th>\n",
       "      <td>1982</td>\n",
       "      <td>36</td>\n",
       "    </tr>\n",
       "    <tr>\n",
       "      <th>1</th>\n",
       "      <td>1981</td>\n",
       "      <td>46</td>\n",
       "    </tr>\n",
       "    <tr>\n",
       "      <th>0</th>\n",
       "      <td>1980</td>\n",
       "      <td>9</td>\n",
       "    </tr>\n",
       "  </tbody>\n",
       "</table>\n",
       "</div>"
      ],
      "text/plain": [
       "    year_of_release  name\n",
       "36             2016   502\n",
       "35             2015   606\n",
       "34             2014   581\n",
       "33             2013   544\n",
       "32             2012   653\n",
       "31             2011  1136\n",
       "30             2010  1255\n",
       "29             2009  1426\n",
       "28             2008  1427\n",
       "27             2007  1197\n",
       "26             2006  1006\n",
       "25             2005   939\n",
       "24             2004   762\n",
       "23             2003   775\n",
       "22             2002   829\n",
       "21             2001   482\n",
       "20             2000   350\n",
       "19             1999   338\n",
       "18             1998   379\n",
       "17             1997   289\n",
       "16             1996   263\n",
       "15             1995   219\n",
       "14             1994   121\n",
       "13             1993    60\n",
       "12             1992    43\n",
       "11             1991    41\n",
       "10             1990    16\n",
       "9              1989    17\n",
       "8              1988    15\n",
       "7              1987    16\n",
       "6              1986    21\n",
       "5              1985    14\n",
       "4              1984    14\n",
       "3              1983    17\n",
       "2              1982    36\n",
       "1              1981    46\n",
       "0              1980     9"
      ]
     },
     "execution_count": 23,
     "metadata": {},
     "output_type": "execute_result"
    }
   ],
   "source": [
    "group_year=df.groupby('year_of_release',as_index=False).agg({'name':'count'})\n",
    "group_year=group_year.sort_values(by='year_of_release', ascending= False)\n",
    "group_year"
   ]
  },
  {
   "cell_type": "markdown",
   "metadata": {},
   "source": [
    "Произвел группировку количества игр в зависимости от года. Будем опираться на свежие данные \n",
    "и возьмем последние 5 лет для прогноза на 2017 год, тем более что есть сильная разница между 2011 годом\n",
    "и последующими годами.Будем учитывать данные с 2012 по 2016 год"
   ]
  },
  {
   "cell_type": "code",
   "execution_count": 24,
   "metadata": {},
   "outputs": [
    {
     "data": {
      "text/plain": [
       "<AxesSubplot:title={'center':'Количество выпущенных игр в разные годы'}, xlabel='year_of_release'>"
      ]
     },
     "execution_count": 24,
     "metadata": {},
     "output_type": "execute_result"
    },
    {
     "data": {
      "image/png": "[encoded data removed]",
      "text/plain": [
       "<Figure size 720x360 with 1 Axes>"
      ]
     },
     "metadata": {
      "needs_background": "light"
     },
     "output_type": "display_data"
    }
   ],
   "source": [
    "group_year.plot(kind='bar', y='name',x='year_of_release', figsize=(10,5), title='Количество выпущенных игр в разные годы')\n"
   ]
  },
  {
   "cell_type": "markdown",
   "metadata": {},
   "source": [
    "Пик приходится с 2005 по 2011 года"
   ]
  },
  {
   "cell_type": "markdown",
   "metadata": {},
   "source": [
    "Посмотрим, как менялись продажи по платформам. Выберим платформы с наибольшими суммарными продажами и построим распределение по годам. За какой характерный срок появляются новые и исчезают старые платформы"
   ]
  },
  {
   "cell_type": "code",
   "execution_count": 25,
   "metadata": {},
   "outputs": [
    {
     "data": {
      "text/html": [
       "<div>\n",
       "<style scoped>\n",
       "    .dataframe tbody tr th:only-of-type {\n",
       "        vertical-align: middle;\n",
       "    }\n",
       "\n",
       "    .dataframe tbody tr th {\n",
       "        vertical-align: top;\n",
       "    }\n",
       "\n",
       "    .dataframe thead th {\n",
       "        text-align: right;\n",
       "    }\n",
       "</style>\n",
       "<table border=\"1\" class=\"dataframe\">\n",
       "  <thead>\n",
       "    <tr style=\"text-align: right;\">\n",
       "      <th></th>\n",
       "      <th>total_sales</th>\n",
       "    </tr>\n",
       "    <tr>\n",
       "      <th>platform</th>\n",
       "      <th></th>\n",
       "    </tr>\n",
       "  </thead>\n",
       "  <tbody>\n",
       "    <tr>\n",
       "      <th>PS2</th>\n",
       "      <td>1233.56</td>\n",
       "    </tr>\n",
       "    <tr>\n",
       "      <th>X360</th>\n",
       "      <td>961.24</td>\n",
       "    </tr>\n",
       "    <tr>\n",
       "      <th>PS3</th>\n",
       "      <td>931.34</td>\n",
       "    </tr>\n",
       "    <tr>\n",
       "      <th>Wii</th>\n",
       "      <td>891.18</td>\n",
       "    </tr>\n",
       "    <tr>\n",
       "      <th>DS</th>\n",
       "      <td>802.78</td>\n",
       "    </tr>\n",
       "    <tr>\n",
       "      <th>PS</th>\n",
       "      <td>727.58</td>\n",
       "    </tr>\n",
       "    <tr>\n",
       "      <th>PS4</th>\n",
       "      <td>314.14</td>\n",
       "    </tr>\n",
       "    <tr>\n",
       "      <th>GBA</th>\n",
       "      <td>312.88</td>\n",
       "    </tr>\n",
       "    <tr>\n",
       "      <th>PSP</th>\n",
       "      <td>289.53</td>\n",
       "    </tr>\n",
       "    <tr>\n",
       "      <th>3DS</th>\n",
       "      <td>257.81</td>\n",
       "    </tr>\n",
       "  </tbody>\n",
       "</table>\n",
       "</div>"
      ],
      "text/plain": [
       "          total_sales\n",
       "platform             \n",
       "PS2           1233.56\n",
       "X360           961.24\n",
       "PS3            931.34\n",
       "Wii            891.18\n",
       "DS             802.78\n",
       "PS             727.58\n",
       "PS4            314.14\n",
       "GBA            312.88\n",
       "PSP            289.53\n",
       "3DS            257.81"
      ]
     },
     "execution_count": 25,
     "metadata": {},
     "output_type": "execute_result"
    }
   ],
   "source": [
    "group_platform=df.groupby('platform').agg({'total_sales':'sum'})\n",
    "group_platform.sort_values(by='total_sales', ascending= False).head(10)\n"
   ]
  },
  {
   "cell_type": "markdown",
   "metadata": {},
   "source": [
    "Возьмем для анализа первые 6 платформ как самые топовые по продажам"
   ]
  },
  {
   "cell_type": "code",
   "execution_count": 26,
   "metadata": {},
   "outputs": [
    {
     "data": {
      "text/plain": [
       "<AxesSubplot:title={'center':'Сумма продаж платформ'}, xlabel='platform'>"
      ]
     },
     "execution_count": 26,
     "metadata": {},
     "output_type": "execute_result"
    },
    {
     "data": {
      "image/png": "[encoded data removed]",
      "text/plain": [
       "<Figure size 720x360 with 1 Axes>"
      ]
     },
     "metadata": {
      "needs_background": "light"
     },
     "output_type": "display_data"
    }
   ],
   "source": [
    "group_platform.plot(kind='bar', y='total_sales', figsize=(10,5), title='Сумма продаж платформ')"
   ]
  },
  {
   "cell_type": "markdown",
   "metadata": {},
   "source": [
    "Возьмем платформы PS2, X360, PS3, Wii, DS, PS, так как они наиболее выделяются по продажам\n",
    "и сделаем для них распределение по годам\t"
   ]
  },
  {
   "cell_type": "markdown",
   "metadata": {},
   "source": [
    "Построим столбчатую диаграмму для каждой платформы,зависимость объема продаж от года:"
   ]
  },
  {
   "cell_type": "code",
   "execution_count": 27,
   "metadata": {},
   "outputs": [
    {
     "data": {
      "text/plain": [
       "<AxesSubplot:title={'center':'PS2'}, xlabel='year_of_release'>"
      ]
     },
     "execution_count": 27,
     "metadata": {},
     "output_type": "execute_result"
    },
    {
     "data": {
      "image/png": "[encoded data removed]",
      "text/plain": [
       "<Figure size 432x288 with 1 Axes>"
      ]
     },
     "metadata": {
      "needs_background": "light"
     },
     "output_type": "display_data"
    }
   ],
   "source": [
    "df[df['platform'] == 'PS2'].pivot_table(index=['year_of_release'], values='total_sales', aggfunc=['sum']).plot(kind='bar',y='sum',\\\n",
    "                                                                                                              title='PS2')"
   ]
  },
  {
   "cell_type": "code",
   "execution_count": 28,
   "metadata": {},
   "outputs": [
    {
     "data": {
      "text/plain": [
       "<AxesSubplot:title={'center':'X360'}, xlabel='year_of_release'>"
      ]
     },
     "execution_count": 28,
     "metadata": {},
     "output_type": "execute_result"
    },
    {
     "data": {
      "image/png": "[encoded data removed]",
      "text/plain": [
       "<Figure size 432x288 with 1 Axes>"
      ]
     },
     "metadata": {
      "needs_background": "light"
     },
     "output_type": "display_data"
    }
   ],
   "source": [
    "df[df['platform'] == 'X360'].pivot_table(index=['year_of_release'], values='total_sales', aggfunc=['sum']).plot(kind='bar',y='sum',\\\n",
    "                                                                                                              title='X360')"
   ]
  },
  {
   "cell_type": "code",
   "execution_count": 29,
   "metadata": {},
   "outputs": [
    {
     "data": {
      "text/plain": [
       "<AxesSubplot:title={'center':'PS3'}, xlabel='year_of_release'>"
      ]
     },
     "execution_count": 29,
     "metadata": {},
     "output_type": "execute_result"
    },
    {
     "data": {
      "image/png": "[encoded data removed]",
      "text/plain": [
       "<Figure size 432x288 with 1 Axes>"
      ]
     },
     "metadata": {
      "needs_background": "light"
     },
     "output_type": "display_data"
    }
   ],
   "source": [
    "df[df['platform'] == 'PS3'].pivot_table(index=['year_of_release'], values='total_sales', aggfunc=['sum']).plot(kind='bar',y='sum',\\\n",
    "                                                                                                              title='PS3')"
   ]
  },
  {
   "cell_type": "code",
   "execution_count": 30,
   "metadata": {},
   "outputs": [
    {
     "data": {
      "text/plain": [
       "<AxesSubplot:title={'center':'Wii'}, xlabel='year_of_release'>"
      ]
     },
     "execution_count": 30,
     "metadata": {},
     "output_type": "execute_result"
    },
    {
     "data": {
      "image/png": "[encoded data removed]",
      "text/plain": [
       "<Figure size 432x288 with 1 Axes>"
      ]
     },
     "metadata": {
      "needs_background": "light"
     },
     "output_type": "display_data"
    }
   ],
   "source": [
    "df[df['platform'] == 'Wii'].pivot_table(index=['year_of_release'], values='total_sales', aggfunc=['sum']).plot(kind='bar',y='sum',\\\n",
    "                                                                                                              title='Wii')"
   ]
  },
  {
   "cell_type": "code",
   "execution_count": 31,
   "metadata": {},
   "outputs": [
    {
     "data": {
      "text/plain": [
       "<AxesSubplot:title={'center':'DS'}, xlabel='year_of_release'>"
      ]
     },
     "execution_count": 31,
     "metadata": {},
     "output_type": "execute_result"
    },
    {
     "data": {
      "image/png": "[encoded data removed]",
      "text/plain": [
       "<Figure size 432x288 with 1 Axes>"
      ]
     },
     "metadata": {
      "needs_background": "light"
     },
     "output_type": "display_data"
    }
   ],
   "source": [
    "df[df['platform'] == 'DS'].pivot_table(index=['year_of_release'], values='total_sales', aggfunc=['sum']).plot(kind='bar',y='sum',\\\n",
    "                                                                                                              title='DS')"
   ]
  },
  {
   "cell_type": "code",
   "execution_count": 32,
   "metadata": {},
   "outputs": [
    {
     "data": {
      "text/plain": [
       "<AxesSubplot:title={'center':'PS'}, xlabel='year_of_release'>"
      ]
     },
     "execution_count": 32,
     "metadata": {},
     "output_type": "execute_result"
    },
    {
     "data": {
      "image/png": "[encoded data removed]",
      "text/plain": [
       "<Figure size 432x288 with 1 Axes>"
      ]
     },
     "metadata": {
      "needs_background": "light"
     },
     "output_type": "display_data"
    }
   ],
   "source": [
    "df.query('platform == \"PS\" ').pivot_table(index=['year_of_release'], values='total_sales', aggfunc=['sum']).plot(kind='bar',y='sum',\\\n",
    "                                                                                                              title='PS')"
   ]
  },
  {
   "cell_type": "code",
   "execution_count": 33,
   "metadata": {},
   "outputs": [
    {
     "data": {
      "text/html": [
       "<div>\n",
       "<style scoped>\n",
       "    .dataframe tbody tr th:only-of-type {\n",
       "        vertical-align: middle;\n",
       "    }\n",
       "\n",
       "    .dataframe tbody tr th {\n",
       "        vertical-align: top;\n",
       "    }\n",
       "\n",
       "    .dataframe thead th {\n",
       "        text-align: right;\n",
       "    }\n",
       "</style>\n",
       "<table border=\"1\" class=\"dataframe\">\n",
       "  <thead>\n",
       "    <tr style=\"text-align: right;\">\n",
       "      <th></th>\n",
       "      <th>name</th>\n",
       "      <th>platform</th>\n",
       "      <th>year_of_release</th>\n",
       "      <th>genre</th>\n",
       "      <th>na_sales</th>\n",
       "      <th>eu_sales</th>\n",
       "      <th>jp_sales</th>\n",
       "      <th>other_sales</th>\n",
       "      <th>critic_score</th>\n",
       "      <th>user_score</th>\n",
       "      <th>rating</th>\n",
       "      <th>total_sales</th>\n",
       "    </tr>\n",
       "  </thead>\n",
       "  <tbody>\n",
       "    <tr>\n",
       "      <th>0</th>\n",
       "      <td>Wii Sports</td>\n",
       "      <td>Wii</td>\n",
       "      <td>2006</td>\n",
       "      <td>Sports</td>\n",
       "      <td>41.36</td>\n",
       "      <td>28.96</td>\n",
       "      <td>3.77</td>\n",
       "      <td>8.45</td>\n",
       "      <td>76.0</td>\n",
       "      <td>8.0</td>\n",
       "      <td>E</td>\n",
       "      <td>82.54</td>\n",
       "    </tr>\n",
       "    <tr>\n",
       "      <th>2</th>\n",
       "      <td>Mario Kart Wii</td>\n",
       "      <td>Wii</td>\n",
       "      <td>2008</td>\n",
       "      <td>Racing</td>\n",
       "      <td>15.68</td>\n",
       "      <td>12.76</td>\n",
       "      <td>3.79</td>\n",
       "      <td>3.29</td>\n",
       "      <td>82.0</td>\n",
       "      <td>8.3</td>\n",
       "      <td>E</td>\n",
       "      <td>35.52</td>\n",
       "    </tr>\n",
       "    <tr>\n",
       "      <th>3</th>\n",
       "      <td>Wii Sports Resort</td>\n",
       "      <td>Wii</td>\n",
       "      <td>2009</td>\n",
       "      <td>Sports</td>\n",
       "      <td>15.61</td>\n",
       "      <td>10.93</td>\n",
       "      <td>3.28</td>\n",
       "      <td>2.95</td>\n",
       "      <td>80.0</td>\n",
       "      <td>8.0</td>\n",
       "      <td>E</td>\n",
       "      <td>32.77</td>\n",
       "    </tr>\n",
       "    <tr>\n",
       "      <th>6</th>\n",
       "      <td>New Super Mario Bros.</td>\n",
       "      <td>DS</td>\n",
       "      <td>2006</td>\n",
       "      <td>Platform</td>\n",
       "      <td>11.28</td>\n",
       "      <td>9.14</td>\n",
       "      <td>6.50</td>\n",
       "      <td>2.88</td>\n",
       "      <td>89.0</td>\n",
       "      <td>8.5</td>\n",
       "      <td>E</td>\n",
       "      <td>29.80</td>\n",
       "    </tr>\n",
       "    <tr>\n",
       "      <th>7</th>\n",
       "      <td>Wii Play</td>\n",
       "      <td>Wii</td>\n",
       "      <td>2006</td>\n",
       "      <td>Misc</td>\n",
       "      <td>13.96</td>\n",
       "      <td>9.18</td>\n",
       "      <td>2.93</td>\n",
       "      <td>2.84</td>\n",
       "      <td>58.0</td>\n",
       "      <td>6.6</td>\n",
       "      <td>E</td>\n",
       "      <td>28.91</td>\n",
       "    </tr>\n",
       "    <tr>\n",
       "      <th>...</th>\n",
       "      <td>...</td>\n",
       "      <td>...</td>\n",
       "      <td>...</td>\n",
       "      <td>...</td>\n",
       "      <td>...</td>\n",
       "      <td>...</td>\n",
       "      <td>...</td>\n",
       "      <td>...</td>\n",
       "      <td>...</td>\n",
       "      <td>...</td>\n",
       "      <td>...</td>\n",
       "      <td>...</td>\n",
       "    </tr>\n",
       "    <tr>\n",
       "      <th>16700</th>\n",
       "      <td>Mezase!! Tsuri Master DS</td>\n",
       "      <td>DS</td>\n",
       "      <td>2009</td>\n",
       "      <td>Sports</td>\n",
       "      <td>0.00</td>\n",
       "      <td>0.00</td>\n",
       "      <td>0.01</td>\n",
       "      <td>0.00</td>\n",
       "      <td>NaN</td>\n",
       "      <td>NaN</td>\n",
       "      <td>Unknown</td>\n",
       "      <td>0.01</td>\n",
       "    </tr>\n",
       "    <tr>\n",
       "      <th>16704</th>\n",
       "      <td>Plushees</td>\n",
       "      <td>DS</td>\n",
       "      <td>2008</td>\n",
       "      <td>Simulation</td>\n",
       "      <td>0.01</td>\n",
       "      <td>0.00</td>\n",
       "      <td>0.00</td>\n",
       "      <td>0.00</td>\n",
       "      <td>NaN</td>\n",
       "      <td>NaN</td>\n",
       "      <td>E</td>\n",
       "      <td>0.01</td>\n",
       "    </tr>\n",
       "    <tr>\n",
       "      <th>16709</th>\n",
       "      <td>SCORE International Baja 1000: The Official Game</td>\n",
       "      <td>PS2</td>\n",
       "      <td>2008</td>\n",
       "      <td>Racing</td>\n",
       "      <td>0.00</td>\n",
       "      <td>0.00</td>\n",
       "      <td>0.00</td>\n",
       "      <td>0.00</td>\n",
       "      <td>NaN</td>\n",
       "      <td>NaN</td>\n",
       "      <td>Unknown</td>\n",
       "      <td>0.00</td>\n",
       "    </tr>\n",
       "    <tr>\n",
       "      <th>16710</th>\n",
       "      <td>Samurai Warriors: Sanada Maru</td>\n",
       "      <td>PS3</td>\n",
       "      <td>2016</td>\n",
       "      <td>Action</td>\n",
       "      <td>0.00</td>\n",
       "      <td>0.00</td>\n",
       "      <td>0.01</td>\n",
       "      <td>0.00</td>\n",
       "      <td>NaN</td>\n",
       "      <td>NaN</td>\n",
       "      <td>Unknown</td>\n",
       "      <td>0.01</td>\n",
       "    </tr>\n",
       "    <tr>\n",
       "      <th>16711</th>\n",
       "      <td>LMA Manager 2007</td>\n",
       "      <td>X360</td>\n",
       "      <td>2006</td>\n",
       "      <td>Sports</td>\n",
       "      <td>0.00</td>\n",
       "      <td>0.01</td>\n",
       "      <td>0.00</td>\n",
       "      <td>0.00</td>\n",
       "      <td>NaN</td>\n",
       "      <td>NaN</td>\n",
       "      <td>Unknown</td>\n",
       "      <td>0.01</td>\n",
       "    </tr>\n",
       "  </tbody>\n",
       "</table>\n",
       "<p>9262 rows × 12 columns</p>\n",
       "</div>"
      ],
      "text/plain": [
       "                                                   name platform  \\\n",
       "0                                            Wii Sports      Wii   \n",
       "2                                        Mario Kart Wii      Wii   \n",
       "3                                     Wii Sports Resort      Wii   \n",
       "6                                 New Super Mario Bros.       DS   \n",
       "7                                              Wii Play      Wii   \n",
       "...                                                 ...      ...   \n",
       "16700                          Mezase!! Tsuri Master DS       DS   \n",
       "16704                                          Plushees       DS   \n",
       "16709  SCORE International Baja 1000: The Official Game      PS2   \n",
       "16710                     Samurai Warriors: Sanada Maru      PS3   \n",
       "16711                                  LMA Manager 2007     X360   \n",
       "\n",
       "       year_of_release       genre  na_sales  eu_sales  jp_sales  other_sales  \\\n",
       "0                 2006      Sports     41.36     28.96      3.77         8.45   \n",
       "2                 2008      Racing     15.68     12.76      3.79         3.29   \n",
       "3                 2009      Sports     15.61     10.93      3.28         2.95   \n",
       "6                 2006    Platform     11.28      9.14      6.50         2.88   \n",
       "7                 2006        Misc     13.96      9.18      2.93         2.84   \n",
       "...                ...         ...       ...       ...       ...          ...   \n",
       "16700             2009      Sports      0.00      0.00      0.01         0.00   \n",
       "16704             2008  Simulation      0.01      0.00      0.00         0.00   \n",
       "16709             2008      Racing      0.00      0.00      0.00         0.00   \n",
       "16710             2016      Action      0.00      0.00      0.01         0.00   \n",
       "16711             2006      Sports      0.00      0.01      0.00         0.00   \n",
       "\n",
       "       critic_score  user_score   rating  total_sales  \n",
       "0              76.0         8.0        E        82.54  \n",
       "2              82.0         8.3        E        35.52  \n",
       "3              80.0         8.0        E        32.77  \n",
       "6              89.0         8.5        E        29.80  \n",
       "7              58.0         6.6        E        28.91  \n",
       "...             ...         ...      ...          ...  \n",
       "16700           NaN         NaN  Unknown         0.01  \n",
       "16704           NaN         NaN        E         0.01  \n",
       "16709           NaN         NaN  Unknown         0.00  \n",
       "16710           NaN         NaN  Unknown         0.01  \n",
       "16711           NaN         NaN  Unknown         0.01  \n",
       "\n",
       "[9262 rows x 12 columns]"
      ]
     },
     "execution_count": 33,
     "metadata": {},
     "output_type": "execute_result"
    }
   ],
   "source": [
    "df_new=df.query('platform in [\"PS2\",\"X360\",\"PS3\",\"Wii\",\"PS\",\"DS\"]')\n",
    "df_new"
   ]
  },
  {
   "cell_type": "code",
   "execution_count": 34,
   "metadata": {},
   "outputs": [
    {
     "data": {
      "text/html": [
       "<div>\n",
       "<style scoped>\n",
       "    .dataframe tbody tr th:only-of-type {\n",
       "        vertical-align: middle;\n",
       "    }\n",
       "\n",
       "    .dataframe tbody tr th {\n",
       "        vertical-align: top;\n",
       "    }\n",
       "\n",
       "    .dataframe thead tr th {\n",
       "        text-align: left;\n",
       "    }\n",
       "</style>\n",
       "<table border=\"1\" class=\"dataframe\">\n",
       "  <thead>\n",
       "    <tr>\n",
       "      <th></th>\n",
       "      <th>platform</th>\n",
       "      <th colspan=\"20\" halign=\"left\">sum</th>\n",
       "    </tr>\n",
       "    <tr>\n",
       "      <th>year_of_release</th>\n",
       "      <th></th>\n",
       "      <th>1985</th>\n",
       "      <th>1994</th>\n",
       "      <th>1995</th>\n",
       "      <th>1996</th>\n",
       "      <th>1997</th>\n",
       "      <th>1998</th>\n",
       "      <th>1999</th>\n",
       "      <th>2000</th>\n",
       "      <th>2001</th>\n",
       "      <th>...</th>\n",
       "      <th>2007</th>\n",
       "      <th>2008</th>\n",
       "      <th>2009</th>\n",
       "      <th>2010</th>\n",
       "      <th>2011</th>\n",
       "      <th>2012</th>\n",
       "      <th>2013</th>\n",
       "      <th>2014</th>\n",
       "      <th>2015</th>\n",
       "      <th>2016</th>\n",
       "    </tr>\n",
       "  </thead>\n",
       "  <tbody>\n",
       "    <tr>\n",
       "      <th>0</th>\n",
       "      <td>DS</td>\n",
       "      <td>0.02</td>\n",
       "      <td>NaN</td>\n",
       "      <td>NaN</td>\n",
       "      <td>NaN</td>\n",
       "      <td>NaN</td>\n",
       "      <td>NaN</td>\n",
       "      <td>NaN</td>\n",
       "      <td>NaN</td>\n",
       "      <td>NaN</td>\n",
       "      <td>...</td>\n",
       "      <td>146.94</td>\n",
       "      <td>145.31</td>\n",
       "      <td>119.54</td>\n",
       "      <td>85.02</td>\n",
       "      <td>26.18</td>\n",
       "      <td>11.01</td>\n",
       "      <td>1.54</td>\n",
       "      <td>NaN</td>\n",
       "      <td>NaN</td>\n",
       "      <td>NaN</td>\n",
       "    </tr>\n",
       "    <tr>\n",
       "      <th>1</th>\n",
       "      <td>PS</td>\n",
       "      <td>NaN</td>\n",
       "      <td>6.03</td>\n",
       "      <td>35.96</td>\n",
       "      <td>94.7</td>\n",
       "      <td>136.17</td>\n",
       "      <td>169.49</td>\n",
       "      <td>144.53</td>\n",
       "      <td>96.37</td>\n",
       "      <td>35.59</td>\n",
       "      <td>...</td>\n",
       "      <td>NaN</td>\n",
       "      <td>NaN</td>\n",
       "      <td>NaN</td>\n",
       "      <td>NaN</td>\n",
       "      <td>NaN</td>\n",
       "      <td>NaN</td>\n",
       "      <td>NaN</td>\n",
       "      <td>NaN</td>\n",
       "      <td>NaN</td>\n",
       "      <td>NaN</td>\n",
       "    </tr>\n",
       "    <tr>\n",
       "      <th>2</th>\n",
       "      <td>PS2</td>\n",
       "      <td>NaN</td>\n",
       "      <td>NaN</td>\n",
       "      <td>NaN</td>\n",
       "      <td>NaN</td>\n",
       "      <td>NaN</td>\n",
       "      <td>NaN</td>\n",
       "      <td>NaN</td>\n",
       "      <td>39.17</td>\n",
       "      <td>166.43</td>\n",
       "      <td>...</td>\n",
       "      <td>75.99</td>\n",
       "      <td>53.90</td>\n",
       "      <td>26.40</td>\n",
       "      <td>5.64</td>\n",
       "      <td>0.45</td>\n",
       "      <td>NaN</td>\n",
       "      <td>NaN</td>\n",
       "      <td>NaN</td>\n",
       "      <td>NaN</td>\n",
       "      <td>NaN</td>\n",
       "    </tr>\n",
       "    <tr>\n",
       "      <th>3</th>\n",
       "      <td>PS3</td>\n",
       "      <td>NaN</td>\n",
       "      <td>NaN</td>\n",
       "      <td>NaN</td>\n",
       "      <td>NaN</td>\n",
       "      <td>NaN</td>\n",
       "      <td>NaN</td>\n",
       "      <td>NaN</td>\n",
       "      <td>NaN</td>\n",
       "      <td>NaN</td>\n",
       "      <td>...</td>\n",
       "      <td>73.19</td>\n",
       "      <td>118.52</td>\n",
       "      <td>130.93</td>\n",
       "      <td>142.17</td>\n",
       "      <td>156.78</td>\n",
       "      <td>107.36</td>\n",
       "      <td>113.25</td>\n",
       "      <td>47.76</td>\n",
       "      <td>16.82</td>\n",
       "      <td>3.60</td>\n",
       "    </tr>\n",
       "    <tr>\n",
       "      <th>4</th>\n",
       "      <td>Wii</td>\n",
       "      <td>NaN</td>\n",
       "      <td>NaN</td>\n",
       "      <td>NaN</td>\n",
       "      <td>NaN</td>\n",
       "      <td>NaN</td>\n",
       "      <td>NaN</td>\n",
       "      <td>NaN</td>\n",
       "      <td>NaN</td>\n",
       "      <td>NaN</td>\n",
       "      <td>...</td>\n",
       "      <td>152.77</td>\n",
       "      <td>171.32</td>\n",
       "      <td>206.97</td>\n",
       "      <td>127.95</td>\n",
       "      <td>59.65</td>\n",
       "      <td>21.71</td>\n",
       "      <td>8.59</td>\n",
       "      <td>3.75</td>\n",
       "      <td>1.14</td>\n",
       "      <td>0.18</td>\n",
       "    </tr>\n",
       "    <tr>\n",
       "      <th>5</th>\n",
       "      <td>X360</td>\n",
       "      <td>NaN</td>\n",
       "      <td>NaN</td>\n",
       "      <td>NaN</td>\n",
       "      <td>NaN</td>\n",
       "      <td>NaN</td>\n",
       "      <td>NaN</td>\n",
       "      <td>NaN</td>\n",
       "      <td>NaN</td>\n",
       "      <td>NaN</td>\n",
       "      <td>...</td>\n",
       "      <td>95.41</td>\n",
       "      <td>135.26</td>\n",
       "      <td>120.29</td>\n",
       "      <td>170.03</td>\n",
       "      <td>143.84</td>\n",
       "      <td>99.74</td>\n",
       "      <td>88.58</td>\n",
       "      <td>34.74</td>\n",
       "      <td>11.96</td>\n",
       "      <td>1.52</td>\n",
       "    </tr>\n",
       "  </tbody>\n",
       "</table>\n",
       "<p>6 rows × 25 columns</p>\n",
       "</div>"
      ],
      "text/plain": [
       "                platform   sum                                             \\\n",
       "year_of_release           1985  1994   1995  1996    1997    1998    1999   \n",
       "0                     DS  0.02   NaN    NaN   NaN     NaN     NaN     NaN   \n",
       "1                     PS   NaN  6.03  35.96  94.7  136.17  169.49  144.53   \n",
       "2                    PS2   NaN   NaN    NaN   NaN     NaN     NaN     NaN   \n",
       "3                    PS3   NaN   NaN    NaN   NaN     NaN     NaN     NaN   \n",
       "4                    Wii   NaN   NaN    NaN   NaN     NaN     NaN     NaN   \n",
       "5                   X360   NaN   NaN    NaN   NaN     NaN     NaN     NaN   \n",
       "\n",
       "                                ...                                          \\\n",
       "year_of_release   2000    2001  ...    2007    2008    2009    2010    2011   \n",
       "0                  NaN     NaN  ...  146.94  145.31  119.54   85.02   26.18   \n",
       "1                96.37   35.59  ...     NaN     NaN     NaN     NaN     NaN   \n",
       "2                39.17  166.43  ...   75.99   53.90   26.40    5.64    0.45   \n",
       "3                  NaN     NaN  ...   73.19  118.52  130.93  142.17  156.78   \n",
       "4                  NaN     NaN  ...  152.77  171.32  206.97  127.95   59.65   \n",
       "5                  NaN     NaN  ...   95.41  135.26  120.29  170.03  143.84   \n",
       "\n",
       "                                                     \n",
       "year_of_release    2012    2013   2014   2015  2016  \n",
       "0                 11.01    1.54    NaN    NaN   NaN  \n",
       "1                   NaN     NaN    NaN    NaN   NaN  \n",
       "2                   NaN     NaN    NaN    NaN   NaN  \n",
       "3                107.36  113.25  47.76  16.82  3.60  \n",
       "4                 21.71    8.59   3.75   1.14  0.18  \n",
       "5                 99.74   88.58  34.74  11.96  1.52  \n",
       "\n",
       "[6 rows x 25 columns]"
      ]
     },
     "execution_count": 34,
     "metadata": {},
     "output_type": "execute_result"
    }
   ],
   "source": [
    "df_new=df_new.pivot_table(index=['platform'],columns='year_of_release', values='total_sales', aggfunc=['sum'])\n",
    "df_new=df_new.reset_index(drop=False)\n",
    "df_new"
   ]
  },
  {
   "cell_type": "markdown",
   "metadata": {},
   "source": [
    "По данным графиков видно что живучесть платформ где то 8-10 лет, а их наивысшая активность по продажам примерно 4-6 лет.\n",
    "Но нас интересуют года с 2012 по 2016 для правильной оценки, а эти рассматриваемые платформы уже пошли на спад или\n",
    "прекратили свое существование"
   ]
  },
  {
   "cell_type": "code",
   "execution_count": 35,
   "metadata": {},
   "outputs": [],
   "source": [
    "year=2011\n",
    "df1=df.query('year_of_release > @year') #создал новый датафрейм с интересующими годами , начиная с 2012 года"
   ]
  },
  {
   "cell_type": "code",
   "execution_count": 36,
   "metadata": {},
   "outputs": [
    {
     "data": {
      "text/html": [
       "<div>\n",
       "<style scoped>\n",
       "    .dataframe tbody tr th:only-of-type {\n",
       "        vertical-align: middle;\n",
       "    }\n",
       "\n",
       "    .dataframe tbody tr th {\n",
       "        vertical-align: top;\n",
       "    }\n",
       "\n",
       "    .dataframe thead th {\n",
       "        text-align: right;\n",
       "    }\n",
       "</style>\n",
       "<table border=\"1\" class=\"dataframe\">\n",
       "  <thead>\n",
       "    <tr style=\"text-align: right;\">\n",
       "      <th></th>\n",
       "      <th>name</th>\n",
       "      <th>platform</th>\n",
       "      <th>year_of_release</th>\n",
       "      <th>genre</th>\n",
       "      <th>na_sales</th>\n",
       "      <th>eu_sales</th>\n",
       "      <th>jp_sales</th>\n",
       "      <th>other_sales</th>\n",
       "      <th>critic_score</th>\n",
       "      <th>user_score</th>\n",
       "      <th>rating</th>\n",
       "      <th>total_sales</th>\n",
       "    </tr>\n",
       "  </thead>\n",
       "  <tbody>\n",
       "    <tr>\n",
       "      <th>16</th>\n",
       "      <td>Grand Theft Auto V</td>\n",
       "      <td>PS3</td>\n",
       "      <td>2013</td>\n",
       "      <td>Action</td>\n",
       "      <td>7.02</td>\n",
       "      <td>9.09</td>\n",
       "      <td>0.98</td>\n",
       "      <td>3.96</td>\n",
       "      <td>97.0</td>\n",
       "      <td>8.2</td>\n",
       "      <td>M</td>\n",
       "      <td>21.05</td>\n",
       "    </tr>\n",
       "    <tr>\n",
       "      <th>23</th>\n",
       "      <td>Grand Theft Auto V</td>\n",
       "      <td>X360</td>\n",
       "      <td>2013</td>\n",
       "      <td>Action</td>\n",
       "      <td>9.66</td>\n",
       "      <td>5.14</td>\n",
       "      <td>0.06</td>\n",
       "      <td>1.41</td>\n",
       "      <td>97.0</td>\n",
       "      <td>8.1</td>\n",
       "      <td>M</td>\n",
       "      <td>16.27</td>\n",
       "    </tr>\n",
       "    <tr>\n",
       "      <th>31</th>\n",
       "      <td>Call of Duty: Black Ops 3</td>\n",
       "      <td>PS4</td>\n",
       "      <td>2015</td>\n",
       "      <td>Shooter</td>\n",
       "      <td>6.03</td>\n",
       "      <td>5.86</td>\n",
       "      <td>0.36</td>\n",
       "      <td>2.38</td>\n",
       "      <td>NaN</td>\n",
       "      <td>NaN</td>\n",
       "      <td>Unknown</td>\n",
       "      <td>14.63</td>\n",
       "    </tr>\n",
       "    <tr>\n",
       "      <th>33</th>\n",
       "      <td>Pokemon X/Pokemon Y</td>\n",
       "      <td>3DS</td>\n",
       "      <td>2013</td>\n",
       "      <td>Role-Playing</td>\n",
       "      <td>5.28</td>\n",
       "      <td>4.19</td>\n",
       "      <td>4.35</td>\n",
       "      <td>0.78</td>\n",
       "      <td>NaN</td>\n",
       "      <td>NaN</td>\n",
       "      <td>Unknown</td>\n",
       "      <td>14.60</td>\n",
       "    </tr>\n",
       "    <tr>\n",
       "      <th>34</th>\n",
       "      <td>Call of Duty: Black Ops II</td>\n",
       "      <td>PS3</td>\n",
       "      <td>2012</td>\n",
       "      <td>Shooter</td>\n",
       "      <td>4.99</td>\n",
       "      <td>5.73</td>\n",
       "      <td>0.65</td>\n",
       "      <td>2.42</td>\n",
       "      <td>83.0</td>\n",
       "      <td>5.3</td>\n",
       "      <td>M</td>\n",
       "      <td>13.79</td>\n",
       "    </tr>\n",
       "    <tr>\n",
       "      <th>...</th>\n",
       "      <td>...</td>\n",
       "      <td>...</td>\n",
       "      <td>...</td>\n",
       "      <td>...</td>\n",
       "      <td>...</td>\n",
       "      <td>...</td>\n",
       "      <td>...</td>\n",
       "      <td>...</td>\n",
       "      <td>...</td>\n",
       "      <td>...</td>\n",
       "      <td>...</td>\n",
       "      <td>...</td>\n",
       "    </tr>\n",
       "    <tr>\n",
       "      <th>16703</th>\n",
       "      <td>Strawberry Nauts</td>\n",
       "      <td>PSV</td>\n",
       "      <td>2016</td>\n",
       "      <td>Adventure</td>\n",
       "      <td>0.00</td>\n",
       "      <td>0.00</td>\n",
       "      <td>0.01</td>\n",
       "      <td>0.00</td>\n",
       "      <td>NaN</td>\n",
       "      <td>NaN</td>\n",
       "      <td>Unknown</td>\n",
       "      <td>0.01</td>\n",
       "    </tr>\n",
       "    <tr>\n",
       "      <th>16707</th>\n",
       "      <td>Aiyoku no Eustia</td>\n",
       "      <td>PSV</td>\n",
       "      <td>2014</td>\n",
       "      <td>Misc</td>\n",
       "      <td>0.00</td>\n",
       "      <td>0.00</td>\n",
       "      <td>0.01</td>\n",
       "      <td>0.00</td>\n",
       "      <td>NaN</td>\n",
       "      <td>NaN</td>\n",
       "      <td>Unknown</td>\n",
       "      <td>0.01</td>\n",
       "    </tr>\n",
       "    <tr>\n",
       "      <th>16710</th>\n",
       "      <td>Samurai Warriors: Sanada Maru</td>\n",
       "      <td>PS3</td>\n",
       "      <td>2016</td>\n",
       "      <td>Action</td>\n",
       "      <td>0.00</td>\n",
       "      <td>0.00</td>\n",
       "      <td>0.01</td>\n",
       "      <td>0.00</td>\n",
       "      <td>NaN</td>\n",
       "      <td>NaN</td>\n",
       "      <td>Unknown</td>\n",
       "      <td>0.01</td>\n",
       "    </tr>\n",
       "    <tr>\n",
       "      <th>16712</th>\n",
       "      <td>Haitaka no Psychedelica</td>\n",
       "      <td>PSV</td>\n",
       "      <td>2016</td>\n",
       "      <td>Adventure</td>\n",
       "      <td>0.00</td>\n",
       "      <td>0.00</td>\n",
       "      <td>0.01</td>\n",
       "      <td>0.00</td>\n",
       "      <td>NaN</td>\n",
       "      <td>NaN</td>\n",
       "      <td>Unknown</td>\n",
       "      <td>0.01</td>\n",
       "    </tr>\n",
       "    <tr>\n",
       "      <th>16714</th>\n",
       "      <td>Winning Post 8 2016</td>\n",
       "      <td>PSV</td>\n",
       "      <td>2016</td>\n",
       "      <td>Simulation</td>\n",
       "      <td>0.00</td>\n",
       "      <td>0.00</td>\n",
       "      <td>0.01</td>\n",
       "      <td>0.00</td>\n",
       "      <td>NaN</td>\n",
       "      <td>NaN</td>\n",
       "      <td>Unknown</td>\n",
       "      <td>0.01</td>\n",
       "    </tr>\n",
       "  </tbody>\n",
       "</table>\n",
       "<p>2886 rows × 12 columns</p>\n",
       "</div>"
      ],
      "text/plain": [
       "                                name platform  year_of_release         genre  \\\n",
       "16                Grand Theft Auto V      PS3             2013        Action   \n",
       "23                Grand Theft Auto V     X360             2013        Action   \n",
       "31         Call of Duty: Black Ops 3      PS4             2015       Shooter   \n",
       "33               Pokemon X/Pokemon Y      3DS             2013  Role-Playing   \n",
       "34        Call of Duty: Black Ops II      PS3             2012       Shooter   \n",
       "...                              ...      ...              ...           ...   \n",
       "16703               Strawberry Nauts      PSV             2016     Adventure   \n",
       "16707               Aiyoku no Eustia      PSV             2014          Misc   \n",
       "16710  Samurai Warriors: Sanada Maru      PS3             2016        Action   \n",
       "16712        Haitaka no Psychedelica      PSV             2016     Adventure   \n",
       "16714            Winning Post 8 2016      PSV             2016    Simulation   \n",
       "\n",
       "       na_sales  eu_sales  jp_sales  other_sales  critic_score  user_score  \\\n",
       "16         7.02      9.09      0.98         3.96          97.0         8.2   \n",
       "23         9.66      5.14      0.06         1.41          97.0         8.1   \n",
       "31         6.03      5.86      0.36         2.38           NaN         NaN   \n",
       "33         5.28      4.19      4.35         0.78           NaN         NaN   \n",
       "34         4.99      5.73      0.65         2.42          83.0         5.3   \n",
       "...         ...       ...       ...          ...           ...         ...   \n",
       "16703      0.00      0.00      0.01         0.00           NaN         NaN   \n",
       "16707      0.00      0.00      0.01         0.00           NaN         NaN   \n",
       "16710      0.00      0.00      0.01         0.00           NaN         NaN   \n",
       "16712      0.00      0.00      0.01         0.00           NaN         NaN   \n",
       "16714      0.00      0.00      0.01         0.00           NaN         NaN   \n",
       "\n",
       "        rating  total_sales  \n",
       "16           M        21.05  \n",
       "23           M        16.27  \n",
       "31     Unknown        14.63  \n",
       "33     Unknown        14.60  \n",
       "34           M        13.79  \n",
       "...        ...          ...  \n",
       "16703  Unknown         0.01  \n",
       "16707  Unknown         0.01  \n",
       "16710  Unknown         0.01  \n",
       "16712  Unknown         0.01  \n",
       "16714  Unknown         0.01  \n",
       "\n",
       "[2886 rows x 12 columns]"
      ]
     },
     "execution_count": 36,
     "metadata": {},
     "output_type": "execute_result"
    }
   ],
   "source": [
    "df1"
   ]
  },
  {
   "cell_type": "code",
   "execution_count": 37,
   "metadata": {},
   "outputs": [
    {
     "data": {
      "text/html": [
       "<div>\n",
       "<style scoped>\n",
       "    .dataframe tbody tr th:only-of-type {\n",
       "        vertical-align: middle;\n",
       "    }\n",
       "\n",
       "    .dataframe tbody tr th {\n",
       "        vertical-align: top;\n",
       "    }\n",
       "\n",
       "    .dataframe thead th {\n",
       "        text-align: right;\n",
       "    }\n",
       "</style>\n",
       "<table border=\"1\" class=\"dataframe\">\n",
       "  <thead>\n",
       "    <tr style=\"text-align: right;\">\n",
       "      <th></th>\n",
       "      <th>platform</th>\n",
       "      <th>total_sales</th>\n",
       "    </tr>\n",
       "  </thead>\n",
       "  <tbody>\n",
       "    <tr>\n",
       "      <th>4</th>\n",
       "      <td>PS4</td>\n",
       "      <td>314.14</td>\n",
       "    </tr>\n",
       "    <tr>\n",
       "      <th>3</th>\n",
       "      <td>PS3</td>\n",
       "      <td>288.79</td>\n",
       "    </tr>\n",
       "    <tr>\n",
       "      <th>9</th>\n",
       "      <td>X360</td>\n",
       "      <td>236.54</td>\n",
       "    </tr>\n",
       "    <tr>\n",
       "      <th>0</th>\n",
       "      <td>3DS</td>\n",
       "      <td>194.61</td>\n",
       "    </tr>\n",
       "    <tr>\n",
       "      <th>10</th>\n",
       "      <td>XOne</td>\n",
       "      <td>159.32</td>\n",
       "    </tr>\n",
       "    <tr>\n",
       "      <th>8</th>\n",
       "      <td>WiiU</td>\n",
       "      <td>82.19</td>\n",
       "    </tr>\n",
       "    <tr>\n",
       "      <th>2</th>\n",
       "      <td>PC</td>\n",
       "      <td>62.65</td>\n",
       "    </tr>\n",
       "    <tr>\n",
       "      <th>6</th>\n",
       "      <td>PSV</td>\n",
       "      <td>49.18</td>\n",
       "    </tr>\n",
       "    <tr>\n",
       "      <th>7</th>\n",
       "      <td>Wii</td>\n",
       "      <td>35.37</td>\n",
       "    </tr>\n",
       "    <tr>\n",
       "      <th>1</th>\n",
       "      <td>DS</td>\n",
       "      <td>12.55</td>\n",
       "    </tr>\n",
       "  </tbody>\n",
       "</table>\n",
       "</div>"
      ],
      "text/plain": [
       "   platform  total_sales\n",
       "4       PS4       314.14\n",
       "3       PS3       288.79\n",
       "9      X360       236.54\n",
       "0       3DS       194.61\n",
       "10     XOne       159.32\n",
       "8      WiiU        82.19\n",
       "2        PC        62.65\n",
       "6       PSV        49.18\n",
       "7       Wii        35.37\n",
       "1        DS        12.55"
      ]
     },
     "execution_count": 37,
     "metadata": {},
     "output_type": "execute_result"
    }
   ],
   "source": [
    "group_platform=df1.groupby('platform',as_index=False).agg({'total_sales':'sum'})\n",
    "group_platform.sort_values(by='total_sales', ascending= False).head(10)\n",
    "\n"
   ]
  },
  {
   "cell_type": "code",
   "execution_count": 38,
   "metadata": {},
   "outputs": [
    {
     "data": {
      "text/plain": [
       "<AxesSubplot:title={'center':'Сумма продаж платформ за 2012-2016 гг.'}, xlabel='platform'>"
      ]
     },
     "execution_count": 38,
     "metadata": {},
     "output_type": "execute_result"
    },
    {
     "data": {
      "image/png": "[encoded data removed]",
      "text/plain": [
       "<Figure size 720x360 with 1 Axes>"
      ]
     },
     "metadata": {
      "needs_background": "light"
     },
     "output_type": "display_data"
    }
   ],
   "source": [
    "group_platform.plot(kind='bar',x='platform', y='total_sales', figsize=(10,5), title='Сумма продаж платформ за 2012-2016 гг.')\n",
    " # Рассмотрим только актуальный период с 2012 года по 2016"
   ]
  },
  {
   "cell_type": "markdown",
   "metadata": {},
   "source": [
    "Выделяются 5 платформ лидеров по объему продаж на рынке за за последние 5 лет.\n",
    "Это PS4, PS3, X360, 3DS, XOne , Рассмотрим каждую из них в динамики по годам\t"
   ]
  },
  {
   "cell_type": "code",
   "execution_count": 39,
   "metadata": {},
   "outputs": [
    {
     "data": {
      "text/plain": [
       "<AxesSubplot:title={'center':'PS4'}, xlabel='year_of_release'>"
      ]
     },
     "execution_count": 39,
     "metadata": {},
     "output_type": "execute_result"
    },
    {
     "data": {
      "image/png": "[encoded data removed]",
      "text/plain": [
       "<Figure size 432x288 with 1 Axes>"
      ]
     },
     "metadata": {
      "needs_background": "light"
     },
     "output_type": "display_data"
    }
   ],
   "source": [
    "df1[df1['platform'] == 'PS4'].pivot_table(index=['year_of_release'], values='total_sales', aggfunc=['sum'])\\\n",
    ".plot(kind='bar',y='sum',title='PS4')"
   ]
  },
  {
   "cell_type": "code",
   "execution_count": 40,
   "metadata": {},
   "outputs": [
    {
     "data": {
      "text/plain": [
       "<AxesSubplot:title={'center':'PS3'}, xlabel='year_of_release'>"
      ]
     },
     "execution_count": 40,
     "metadata": {},
     "output_type": "execute_result"
    },
    {
     "data": {
      "image/png": "[encoded data removed]",
      "text/plain": [
       "<Figure size 432x288 with 1 Axes>"
      ]
     },
     "metadata": {
      "needs_background": "light"
     },
     "output_type": "display_data"
    }
   ],
   "source": [
    "df1[df1['platform'] == 'PS3'].pivot_table(index=['year_of_release'], values='total_sales', aggfunc=['sum'])\\\n",
    ".plot(kind='bar',y='sum',title='PS3')"
   ]
  },
  {
   "cell_type": "code",
   "execution_count": 41,
   "metadata": {},
   "outputs": [
    {
     "data": {
      "text/plain": [
       "<AxesSubplot:title={'center':'X360'}, xlabel='year_of_release'>"
      ]
     },
     "execution_count": 41,
     "metadata": {},
     "output_type": "execute_result"
    },
    {
     "data": {
      "image/png": "[encoded data removed]",
      "text/plain": [
       "<Figure size 432x288 with 1 Axes>"
      ]
     },
     "metadata": {
      "needs_background": "light"
     },
     "output_type": "display_data"
    }
   ],
   "source": [
    "df1[df1['platform'] == 'X360'].pivot_table(index=['year_of_release'], values='total_sales', aggfunc=['sum'])\\\n",
    ".plot(kind='bar',y='sum',title='X360')"
   ]
  },
  {
   "cell_type": "code",
   "execution_count": 42,
   "metadata": {},
   "outputs": [
    {
     "data": {
      "text/plain": [
       "<AxesSubplot:title={'center':'3DS'}, xlabel='year_of_release'>"
      ]
     },
     "execution_count": 42,
     "metadata": {},
     "output_type": "execute_result"
    },
    {
     "data": {
      "image/png": "[encoded data removed]",
      "text/plain": [
       "<Figure size 432x288 with 1 Axes>"
      ]
     },
     "metadata": {
      "needs_background": "light"
     },
     "output_type": "display_data"
    }
   ],
   "source": [
    "df1[df1['platform'] == '3DS'].pivot_table(index=['year_of_release'], values='total_sales', aggfunc=['sum'])\\\n",
    ".plot(kind='bar',y='sum',title='3DS')"
   ]
  },
  {
   "cell_type": "code",
   "execution_count": 43,
   "metadata": {},
   "outputs": [
    {
     "data": {
      "text/plain": [
       "<AxesSubplot:title={'center':'XOne'}, xlabel='year_of_release'>"
      ]
     },
     "execution_count": 43,
     "metadata": {},
     "output_type": "execute_result"
    },
    {
     "data": {
      "image/png": "[encoded data removed]",
      "text/plain": [
       "<Figure size 432x288 with 1 Axes>"
      ]
     },
     "metadata": {
      "needs_background": "light"
     },
     "output_type": "display_data"
    }
   ],
   "source": [
    "df1[df1['platform'] == 'XOne'].pivot_table(index=['year_of_release'], values='total_sales', aggfunc=['sum'])\\\n",
    ".plot(kind='bar',y='sum',title='XOne')"
   ]
  },
  {
   "cell_type": "markdown",
   "metadata": {},
   "source": [
    "Как видно из графиков, платформы PS3 и X360 резко сдали позиции в последнии годы и динамика очень плохая\n",
    "Наиболее стабильные платформы в последние годы это PS4,3DS и XOne. Их и можно считать потенциально прибыльными\n",
    "В последующем будем опираться на эти три платфоры в период  с 2012 по 2016 гг."
   ]
  },
  {
   "cell_type": "markdown",
   "metadata": {},
   "source": [
    "Построим график «ящик с усами» по глобальным продажам игр в разбивке по платформам. Опишим результат."
   ]
  },
  {
   "cell_type": "code",
   "execution_count": 44,
   "metadata": {},
   "outputs": [
    {
     "data": {
      "text/plain": [
       "Text(0.5, 1.0, 'График boxplot для платформ')"
      ]
     },
     "execution_count": 44,
     "metadata": {},
     "output_type": "execute_result"
    },
    {
     "data": {
      "image/png": "[encoded data removed]",
      "text/plain": [
       "<Figure size 936x576 with 1 Axes>"
      ]
     },
     "metadata": {
      "needs_background": "light"
     },
     "output_type": "display_data"
    }
   ],
   "source": [
    "plt.figure(figsize=(13, 8))\n",
    "plt.ylim(0,2)\n",
    "df1=df1.query('platform in [\"PS4\",\"3DS\",\"XOne\"]')\n",
    "sns.boxplot(data=df1, x=\"platform\", y=\"total_sales\")\n",
    "plt.xlabel( \"Название платформ\" , size = 20 )\n",
    "plt.ylabel( \"Сумма продаж\" , size = 20 )\n",
    "plt.title( \"График boxplot для платформ\" , size = 30 )"
   ]
  },
  {
   "cell_type": "markdown",
   "metadata": {},
   "source": [
    "Можно сказать что распределение продаж на платформах PS4 и XOne примерно одинаковое по сравнению с платформой 3DS.У платформы 3DS распределение значений более плотное и третий квартиль расположен ближе к медиане и почти в 2 раза меньше чем у платформ PS4 и XOne . Медианное значение меньше чем у платформ PS4 и XOne.Также более подробные значения можем видеть из описательной статистики по каждой платформе в столбце 'total_sales'"
   ]
  },
  {
   "cell_type": "code",
   "execution_count": 45,
   "metadata": {},
   "outputs": [
    {
     "data": {
      "text/html": [
       "<div>\n",
       "<style scoped>\n",
       "    .dataframe tbody tr th:only-of-type {\n",
       "        vertical-align: middle;\n",
       "    }\n",
       "\n",
       "    .dataframe tbody tr th {\n",
       "        vertical-align: top;\n",
       "    }\n",
       "\n",
       "    .dataframe thead th {\n",
       "        text-align: right;\n",
       "    }\n",
       "</style>\n",
       "<table border=\"1\" class=\"dataframe\">\n",
       "  <thead>\n",
       "    <tr style=\"text-align: right;\">\n",
       "      <th></th>\n",
       "      <th>year_of_release</th>\n",
       "      <th>na_sales</th>\n",
       "      <th>eu_sales</th>\n",
       "      <th>jp_sales</th>\n",
       "      <th>other_sales</th>\n",
       "      <th>critic_score</th>\n",
       "      <th>user_score</th>\n",
       "      <th>total_sales</th>\n",
       "    </tr>\n",
       "  </thead>\n",
       "  <tbody>\n",
       "    <tr>\n",
       "      <th>count</th>\n",
       "      <td>396.000000</td>\n",
       "      <td>396.000000</td>\n",
       "      <td>396.000000</td>\n",
       "      <td>396.000000</td>\n",
       "      <td>396.000000</td>\n",
       "      <td>104.000000</td>\n",
       "      <td>114.000000</td>\n",
       "      <td>396.000000</td>\n",
       "    </tr>\n",
       "    <tr>\n",
       "      <th>mean</th>\n",
       "      <td>2013.750000</td>\n",
       "      <td>0.139672</td>\n",
       "      <td>0.107677</td>\n",
       "      <td>0.221692</td>\n",
       "      <td>0.022399</td>\n",
       "      <td>69.817308</td>\n",
       "      <td>7.033333</td>\n",
       "      <td>0.491439</td>\n",
       "    </tr>\n",
       "    <tr>\n",
       "      <th>std</th>\n",
       "      <td>1.339044</td>\n",
       "      <td>0.491059</td>\n",
       "      <td>0.389226</td>\n",
       "      <td>0.558128</td>\n",
       "      <td>0.078660</td>\n",
       "      <td>12.034549</td>\n",
       "      <td>1.482265</td>\n",
       "      <td>1.387161</td>\n",
       "    </tr>\n",
       "    <tr>\n",
       "      <th>min</th>\n",
       "      <td>2012.000000</td>\n",
       "      <td>0.000000</td>\n",
       "      <td>0.000000</td>\n",
       "      <td>0.000000</td>\n",
       "      <td>0.000000</td>\n",
       "      <td>26.000000</td>\n",
       "      <td>2.400000</td>\n",
       "      <td>0.010000</td>\n",
       "    </tr>\n",
       "    <tr>\n",
       "      <th>25%</th>\n",
       "      <td>2013.000000</td>\n",
       "      <td>0.000000</td>\n",
       "      <td>0.000000</td>\n",
       "      <td>0.010000</td>\n",
       "      <td>0.000000</td>\n",
       "      <td>63.750000</td>\n",
       "      <td>6.300000</td>\n",
       "      <td>0.040000</td>\n",
       "    </tr>\n",
       "    <tr>\n",
       "      <th>50%</th>\n",
       "      <td>2014.000000</td>\n",
       "      <td>0.000000</td>\n",
       "      <td>0.000000</td>\n",
       "      <td>0.060000</td>\n",
       "      <td>0.000000</td>\n",
       "      <td>71.000000</td>\n",
       "      <td>7.400000</td>\n",
       "      <td>0.110000</td>\n",
       "    </tr>\n",
       "    <tr>\n",
       "      <th>75%</th>\n",
       "      <td>2015.000000</td>\n",
       "      <td>0.090000</td>\n",
       "      <td>0.050000</td>\n",
       "      <td>0.170000</td>\n",
       "      <td>0.010000</td>\n",
       "      <td>78.000000</td>\n",
       "      <td>8.200000</td>\n",
       "      <td>0.312500</td>\n",
       "    </tr>\n",
       "    <tr>\n",
       "      <th>max</th>\n",
       "      <td>2016.000000</td>\n",
       "      <td>5.280000</td>\n",
       "      <td>4.190000</td>\n",
       "      <td>4.390000</td>\n",
       "      <td>0.780000</td>\n",
       "      <td>92.000000</td>\n",
       "      <td>9.100000</td>\n",
       "      <td>14.600000</td>\n",
       "    </tr>\n",
       "  </tbody>\n",
       "</table>\n",
       "</div>"
      ],
      "text/plain": [
       "       year_of_release    na_sales    eu_sales    jp_sales  other_sales  \\\n",
       "count       396.000000  396.000000  396.000000  396.000000   396.000000   \n",
       "mean       2013.750000    0.139672    0.107677    0.221692     0.022399   \n",
       "std           1.339044    0.491059    0.389226    0.558128     0.078660   \n",
       "min        2012.000000    0.000000    0.000000    0.000000     0.000000   \n",
       "25%        2013.000000    0.000000    0.000000    0.010000     0.000000   \n",
       "50%        2014.000000    0.000000    0.000000    0.060000     0.000000   \n",
       "75%        2015.000000    0.090000    0.050000    0.170000     0.010000   \n",
       "max        2016.000000    5.280000    4.190000    4.390000     0.780000   \n",
       "\n",
       "       critic_score  user_score  total_sales  \n",
       "count    104.000000  114.000000   396.000000  \n",
       "mean      69.817308    7.033333     0.491439  \n",
       "std       12.034549    1.482265     1.387161  \n",
       "min       26.000000    2.400000     0.010000  \n",
       "25%       63.750000    6.300000     0.040000  \n",
       "50%       71.000000    7.400000     0.110000  \n",
       "75%       78.000000    8.200000     0.312500  \n",
       "max       92.000000    9.100000    14.600000  "
      ]
     },
     "execution_count": 45,
     "metadata": {},
     "output_type": "execute_result"
    }
   ],
   "source": [
    "df1.query('platform==\"3DS\" ').describe()"
   ]
  },
  {
   "cell_type": "code",
   "execution_count": 46,
   "metadata": {},
   "outputs": [
    {
     "data": {
      "text/html": [
       "<div>\n",
       "<style scoped>\n",
       "    .dataframe tbody tr th:only-of-type {\n",
       "        vertical-align: middle;\n",
       "    }\n",
       "\n",
       "    .dataframe tbody tr th {\n",
       "        vertical-align: top;\n",
       "    }\n",
       "\n",
       "    .dataframe thead th {\n",
       "        text-align: right;\n",
       "    }\n",
       "</style>\n",
       "<table border=\"1\" class=\"dataframe\">\n",
       "  <thead>\n",
       "    <tr style=\"text-align: right;\">\n",
       "      <th></th>\n",
       "      <th>year_of_release</th>\n",
       "      <th>na_sales</th>\n",
       "      <th>eu_sales</th>\n",
       "      <th>jp_sales</th>\n",
       "      <th>other_sales</th>\n",
       "      <th>critic_score</th>\n",
       "      <th>user_score</th>\n",
       "      <th>total_sales</th>\n",
       "    </tr>\n",
       "  </thead>\n",
       "  <tbody>\n",
       "    <tr>\n",
       "      <th>count</th>\n",
       "      <td>392.000000</td>\n",
       "      <td>392.000000</td>\n",
       "      <td>392.000000</td>\n",
       "      <td>392.000000</td>\n",
       "      <td>392.000000</td>\n",
       "      <td>252.000000</td>\n",
       "      <td>257.000000</td>\n",
       "      <td>392.000000</td>\n",
       "    </tr>\n",
       "    <tr>\n",
       "      <th>mean</th>\n",
       "      <td>2015.145408</td>\n",
       "      <td>0.277398</td>\n",
       "      <td>0.359923</td>\n",
       "      <td>0.040714</td>\n",
       "      <td>0.123342</td>\n",
       "      <td>72.091270</td>\n",
       "      <td>6.748249</td>\n",
       "      <td>0.801378</td>\n",
       "    </tr>\n",
       "    <tr>\n",
       "      <th>std</th>\n",
       "      <td>0.868181</td>\n",
       "      <td>0.583723</td>\n",
       "      <td>0.810843</td>\n",
       "      <td>0.069101</td>\n",
       "      <td>0.254825</td>\n",
       "      <td>12.485992</td>\n",
       "      <td>1.459481</td>\n",
       "      <td>1.609456</td>\n",
       "    </tr>\n",
       "    <tr>\n",
       "      <th>min</th>\n",
       "      <td>2013.000000</td>\n",
       "      <td>0.000000</td>\n",
       "      <td>0.000000</td>\n",
       "      <td>0.000000</td>\n",
       "      <td>0.000000</td>\n",
       "      <td>19.000000</td>\n",
       "      <td>1.500000</td>\n",
       "      <td>0.010000</td>\n",
       "    </tr>\n",
       "    <tr>\n",
       "      <th>25%</th>\n",
       "      <td>2015.000000</td>\n",
       "      <td>0.007500</td>\n",
       "      <td>0.000000</td>\n",
       "      <td>0.000000</td>\n",
       "      <td>0.010000</td>\n",
       "      <td>66.000000</td>\n",
       "      <td>6.100000</td>\n",
       "      <td>0.060000</td>\n",
       "    </tr>\n",
       "    <tr>\n",
       "      <th>50%</th>\n",
       "      <td>2015.000000</td>\n",
       "      <td>0.060000</td>\n",
       "      <td>0.080000</td>\n",
       "      <td>0.010000</td>\n",
       "      <td>0.030000</td>\n",
       "      <td>73.000000</td>\n",
       "      <td>7.000000</td>\n",
       "      <td>0.200000</td>\n",
       "    </tr>\n",
       "    <tr>\n",
       "      <th>75%</th>\n",
       "      <td>2016.000000</td>\n",
       "      <td>0.260000</td>\n",
       "      <td>0.300000</td>\n",
       "      <td>0.050000</td>\n",
       "      <td>0.110000</td>\n",
       "      <td>80.000000</td>\n",
       "      <td>7.800000</td>\n",
       "      <td>0.730000</td>\n",
       "    </tr>\n",
       "    <tr>\n",
       "      <th>max</th>\n",
       "      <td>2016.000000</td>\n",
       "      <td>6.030000</td>\n",
       "      <td>6.310000</td>\n",
       "      <td>0.490000</td>\n",
       "      <td>2.380000</td>\n",
       "      <td>97.000000</td>\n",
       "      <td>9.200000</td>\n",
       "      <td>14.630000</td>\n",
       "    </tr>\n",
       "  </tbody>\n",
       "</table>\n",
       "</div>"
      ],
      "text/plain": [
       "       year_of_release    na_sales    eu_sales    jp_sales  other_sales  \\\n",
       "count       392.000000  392.000000  392.000000  392.000000   392.000000   \n",
       "mean       2015.145408    0.277398    0.359923    0.040714     0.123342   \n",
       "std           0.868181    0.583723    0.810843    0.069101     0.254825   \n",
       "min        2013.000000    0.000000    0.000000    0.000000     0.000000   \n",
       "25%        2015.000000    0.007500    0.000000    0.000000     0.010000   \n",
       "50%        2015.000000    0.060000    0.080000    0.010000     0.030000   \n",
       "75%        2016.000000    0.260000    0.300000    0.050000     0.110000   \n",
       "max        2016.000000    6.030000    6.310000    0.490000     2.380000   \n",
       "\n",
       "       critic_score  user_score  total_sales  \n",
       "count    252.000000  257.000000   392.000000  \n",
       "mean      72.091270    6.748249     0.801378  \n",
       "std       12.485992    1.459481     1.609456  \n",
       "min       19.000000    1.500000     0.010000  \n",
       "25%       66.000000    6.100000     0.060000  \n",
       "50%       73.000000    7.000000     0.200000  \n",
       "75%       80.000000    7.800000     0.730000  \n",
       "max       97.000000    9.200000    14.630000  "
      ]
     },
     "execution_count": 46,
     "metadata": {},
     "output_type": "execute_result"
    }
   ],
   "source": [
    "df1.query('platform==\"PS4\" ').describe()"
   ]
  },
  {
   "cell_type": "code",
   "execution_count": 47,
   "metadata": {},
   "outputs": [
    {
     "data": {
      "text/html": [
       "<div>\n",
       "<style scoped>\n",
       "    .dataframe tbody tr th:only-of-type {\n",
       "        vertical-align: middle;\n",
       "    }\n",
       "\n",
       "    .dataframe tbody tr th {\n",
       "        vertical-align: top;\n",
       "    }\n",
       "\n",
       "    .dataframe thead th {\n",
       "        text-align: right;\n",
       "    }\n",
       "</style>\n",
       "<table border=\"1\" class=\"dataframe\">\n",
       "  <thead>\n",
       "    <tr style=\"text-align: right;\">\n",
       "      <th></th>\n",
       "      <th>year_of_release</th>\n",
       "      <th>na_sales</th>\n",
       "      <th>eu_sales</th>\n",
       "      <th>jp_sales</th>\n",
       "      <th>other_sales</th>\n",
       "      <th>critic_score</th>\n",
       "      <th>user_score</th>\n",
       "      <th>total_sales</th>\n",
       "    </tr>\n",
       "  </thead>\n",
       "  <tbody>\n",
       "    <tr>\n",
       "      <th>count</th>\n",
       "      <td>247.000000</td>\n",
       "      <td>247.000000</td>\n",
       "      <td>247.000000</td>\n",
       "      <td>247.000000</td>\n",
       "      <td>247.000000</td>\n",
       "      <td>169.000000</td>\n",
       "      <td>182.000000</td>\n",
       "      <td>247.000000</td>\n",
       "    </tr>\n",
       "    <tr>\n",
       "      <th>mean</th>\n",
       "      <td>2014.951417</td>\n",
       "      <td>0.377004</td>\n",
       "      <td>0.208866</td>\n",
       "      <td>0.001377</td>\n",
       "      <td>0.057773</td>\n",
       "      <td>73.325444</td>\n",
       "      <td>6.521429</td>\n",
       "      <td>0.645020</td>\n",
       "    </tr>\n",
       "    <tr>\n",
       "      <th>std</th>\n",
       "      <td>0.952995</td>\n",
       "      <td>0.630618</td>\n",
       "      <td>0.365306</td>\n",
       "      <td>0.005153</td>\n",
       "      <td>0.094221</td>\n",
       "      <td>12.953465</td>\n",
       "      <td>1.380941</td>\n",
       "      <td>1.036139</td>\n",
       "    </tr>\n",
       "    <tr>\n",
       "      <th>min</th>\n",
       "      <td>2013.000000</td>\n",
       "      <td>0.000000</td>\n",
       "      <td>0.000000</td>\n",
       "      <td>0.000000</td>\n",
       "      <td>0.000000</td>\n",
       "      <td>20.000000</td>\n",
       "      <td>1.600000</td>\n",
       "      <td>0.010000</td>\n",
       "    </tr>\n",
       "    <tr>\n",
       "      <th>25%</th>\n",
       "      <td>2014.000000</td>\n",
       "      <td>0.030000</td>\n",
       "      <td>0.020000</td>\n",
       "      <td>0.000000</td>\n",
       "      <td>0.010000</td>\n",
       "      <td>66.000000</td>\n",
       "      <td>5.800000</td>\n",
       "      <td>0.060000</td>\n",
       "    </tr>\n",
       "    <tr>\n",
       "      <th>50%</th>\n",
       "      <td>2015.000000</td>\n",
       "      <td>0.120000</td>\n",
       "      <td>0.070000</td>\n",
       "      <td>0.000000</td>\n",
       "      <td>0.020000</td>\n",
       "      <td>76.000000</td>\n",
       "      <td>6.800000</td>\n",
       "      <td>0.220000</td>\n",
       "    </tr>\n",
       "    <tr>\n",
       "      <th>75%</th>\n",
       "      <td>2016.000000</td>\n",
       "      <td>0.385000</td>\n",
       "      <td>0.220000</td>\n",
       "      <td>0.000000</td>\n",
       "      <td>0.060000</td>\n",
       "      <td>82.000000</td>\n",
       "      <td>7.500000</td>\n",
       "      <td>0.685000</td>\n",
       "    </tr>\n",
       "    <tr>\n",
       "      <th>max</th>\n",
       "      <td>2016.000000</td>\n",
       "      <td>4.590000</td>\n",
       "      <td>2.190000</td>\n",
       "      <td>0.040000</td>\n",
       "      <td>0.680000</td>\n",
       "      <td>97.000000</td>\n",
       "      <td>9.200000</td>\n",
       "      <td>7.390000</td>\n",
       "    </tr>\n",
       "  </tbody>\n",
       "</table>\n",
       "</div>"
      ],
      "text/plain": [
       "       year_of_release    na_sales    eu_sales    jp_sales  other_sales  \\\n",
       "count       247.000000  247.000000  247.000000  247.000000   247.000000   \n",
       "mean       2014.951417    0.377004    0.208866    0.001377     0.057773   \n",
       "std           0.952995    0.630618    0.365306    0.005153     0.094221   \n",
       "min        2013.000000    0.000000    0.000000    0.000000     0.000000   \n",
       "25%        2014.000000    0.030000    0.020000    0.000000     0.010000   \n",
       "50%        2015.000000    0.120000    0.070000    0.000000     0.020000   \n",
       "75%        2016.000000    0.385000    0.220000    0.000000     0.060000   \n",
       "max        2016.000000    4.590000    2.190000    0.040000     0.680000   \n",
       "\n",
       "       critic_score  user_score  total_sales  \n",
       "count    169.000000  182.000000   247.000000  \n",
       "mean      73.325444    6.521429     0.645020  \n",
       "std       12.953465    1.380941     1.036139  \n",
       "min       20.000000    1.600000     0.010000  \n",
       "25%       66.000000    5.800000     0.060000  \n",
       "50%       76.000000    6.800000     0.220000  \n",
       "75%       82.000000    7.500000     0.685000  \n",
       "max       97.000000    9.200000     7.390000  "
      ]
     },
     "execution_count": 47,
     "metadata": {},
     "output_type": "execute_result"
    }
   ],
   "source": [
    "df1.query('platform==\"XOne\" ').describe()"
   ]
  },
  {
   "cell_type": "markdown",
   "metadata": {},
   "source": [
    "Посмотрим, как влияют на продажи внутри одной популярной платформы отзывы пользователей и критиков. Построим диаграмму рассеяния и посчитаем корреляцию между отзывами и продажами. Сформулируем выводы."
   ]
  },
  {
   "cell_type": "code",
   "execution_count": 48,
   "metadata": {},
   "outputs": [
    {
     "data": {
      "text/html": [
       "<div>\n",
       "<style scoped>\n",
       "    .dataframe tbody tr th:only-of-type {\n",
       "        vertical-align: middle;\n",
       "    }\n",
       "\n",
       "    .dataframe tbody tr th {\n",
       "        vertical-align: top;\n",
       "    }\n",
       "\n",
       "    .dataframe thead th {\n",
       "        text-align: right;\n",
       "    }\n",
       "</style>\n",
       "<table border=\"1\" class=\"dataframe\">\n",
       "  <thead>\n",
       "    <tr style=\"text-align: right;\">\n",
       "      <th></th>\n",
       "      <th>critic_score</th>\n",
       "      <th>user_score</th>\n",
       "      <th>total_sales</th>\n",
       "    </tr>\n",
       "  </thead>\n",
       "  <tbody>\n",
       "    <tr>\n",
       "      <th>critic_score</th>\n",
       "      <td>1.000000</td>\n",
       "      <td>0.557654</td>\n",
       "      <td>0.406568</td>\n",
       "    </tr>\n",
       "    <tr>\n",
       "      <th>user_score</th>\n",
       "      <td>0.557654</td>\n",
       "      <td>1.000000</td>\n",
       "      <td>-0.031957</td>\n",
       "    </tr>\n",
       "    <tr>\n",
       "      <th>total_sales</th>\n",
       "      <td>0.406568</td>\n",
       "      <td>-0.031957</td>\n",
       "      <td>1.000000</td>\n",
       "    </tr>\n",
       "  </tbody>\n",
       "</table>\n",
       "</div>"
      ],
      "text/plain": [
       "              critic_score  user_score  total_sales\n",
       "critic_score      1.000000    0.557654     0.406568\n",
       "user_score        0.557654    1.000000    -0.031957\n",
       "total_sales       0.406568   -0.031957     1.000000"
      ]
     },
     "execution_count": 48,
     "metadata": {},
     "output_type": "execute_result"
    }
   ],
   "source": [
    "ps4_corr=df1[['platform','critic_score','user_score','total_sales']]\n",
    "ps4_corr[ps4_corr['platform'] == 'PS4'].corr() #построил небольшую табличку для PS4. Зависимость объема продаж от оценок\n",
    "                                               #пользователей и критиков"
   ]
  },
  {
   "cell_type": "markdown",
   "metadata": {},
   "source": [
    "Как видно из данных коэфицциент корреляции, то есть зависимость объема продаж от оценок\n",
    "пользователей отрицательная и почти нулевая. Зависимость от оценок критиков тоже небольшая 0.406\n",
    "Построим диаграммы рассеивания"
   ]
  },
  {
   "cell_type": "code",
   "execution_count": 49,
   "metadata": {},
   "outputs": [
    {
     "data": {
      "text/plain": [
       "<AxesSubplot:title={'center':'PS4 оценки пользователей'}, xlabel='user_score', ylabel='total_sales'>"
      ]
     },
     "execution_count": 49,
     "metadata": {},
     "output_type": "execute_result"
    },
    {
     "data": {
      "image/png": "[encoded data removed]",
      "text/plain": [
       "<Figure size 432x288 with 1 Axes>"
      ]
     },
     "metadata": {
      "needs_background": "light"
     },
     "output_type": "display_data"
    }
   ],
   "source": [
    "ps4_corr.plot(x='user_score', y='total_sales', kind='scatter', alpha=0.5,title='PS4 оценки пользователей') "
   ]
  },
  {
   "cell_type": "code",
   "execution_count": 50,
   "metadata": {},
   "outputs": [
    {
     "data": {
      "text/plain": [
       "<AxesSubplot:title={'center':'PS4 оценки критиков'}, xlabel='critic_score', ylabel='total_sales'>"
      ]
     },
     "execution_count": 50,
     "metadata": {},
     "output_type": "execute_result"
    },
    {
     "data": {
      "image/png": "[encoded data removed]",
      "text/plain": [
       "<Figure size 432x288 with 1 Axes>"
      ]
     },
     "metadata": {
      "needs_background": "light"
     },
     "output_type": "display_data"
    }
   ],
   "source": [
    "ps4_corr.plot(x='critic_score', y='total_sales', kind='scatter', alpha=0.5,title='PS4 оценки критиков') "
   ]
  },
  {
   "cell_type": "code",
   "execution_count": 51,
   "metadata": {},
   "outputs": [
    {
     "data": {
      "text/html": [
       "<div>\n",
       "<style scoped>\n",
       "    .dataframe tbody tr th:only-of-type {\n",
       "        vertical-align: middle;\n",
       "    }\n",
       "\n",
       "    .dataframe tbody tr th {\n",
       "        vertical-align: top;\n",
       "    }\n",
       "\n",
       "    .dataframe thead th {\n",
       "        text-align: right;\n",
       "    }\n",
       "</style>\n",
       "<table border=\"1\" class=\"dataframe\">\n",
       "  <thead>\n",
       "    <tr style=\"text-align: right;\">\n",
       "      <th></th>\n",
       "      <th>critic_score</th>\n",
       "      <th>user_score</th>\n",
       "      <th>total_sales</th>\n",
       "    </tr>\n",
       "  </thead>\n",
       "  <tbody>\n",
       "    <tr>\n",
       "      <th>critic_score</th>\n",
       "      <td>1.000000</td>\n",
       "      <td>0.722762</td>\n",
       "      <td>0.320803</td>\n",
       "    </tr>\n",
       "    <tr>\n",
       "      <th>user_score</th>\n",
       "      <td>0.722762</td>\n",
       "      <td>1.000000</td>\n",
       "      <td>0.197583</td>\n",
       "    </tr>\n",
       "    <tr>\n",
       "      <th>total_sales</th>\n",
       "      <td>0.320803</td>\n",
       "      <td>0.197583</td>\n",
       "      <td>1.000000</td>\n",
       "    </tr>\n",
       "  </tbody>\n",
       "</table>\n",
       "</div>"
      ],
      "text/plain": [
       "              critic_score  user_score  total_sales\n",
       "critic_score      1.000000    0.722762     0.320803\n",
       "user_score        0.722762    1.000000     0.197583\n",
       "total_sales       0.320803    0.197583     1.000000"
      ]
     },
     "execution_count": 51,
     "metadata": {},
     "output_type": "execute_result"
    }
   ],
   "source": [
    "ds_corr=df1[['platform','critic_score','user_score','total_sales']]\n",
    "ds_corr[ds_corr['platform'] == '3DS'].corr() #построил небольшую табличку для 3DS. Зависимость объема продаж от оценок\n",
    "                                               #пользователей и критиков"
   ]
  },
  {
   "cell_type": "markdown",
   "metadata": {},
   "source": [
    "Как видно из данных коэфицциент корреляции, то есть зависимость объема продаж от оценок пользователей небольшая\n",
    "около 0.2. Зависимость от оценок критиков тоже небольшая 0.32 .Построим диаграммы рассеивания"
   ]
  },
  {
   "cell_type": "code",
   "execution_count": 52,
   "metadata": {},
   "outputs": [
    {
     "data": {
      "text/plain": [
       "<AxesSubplot:title={'center':'3DS оценки пользователей'}, xlabel='user_score', ylabel='total_sales'>"
      ]
     },
     "execution_count": 52,
     "metadata": {},
     "output_type": "execute_result"
    },
    {
     "data": {
      "image/png": "[encoded data removed]",
      "text/plain": [
       "<Figure size 432x288 with 1 Axes>"
      ]
     },
     "metadata": {
      "needs_background": "light"
     },
     "output_type": "display_data"
    }
   ],
   "source": [
    "ds_corr.plot(x='user_score', y='total_sales', kind='scatter', alpha=0.5,title='3DS оценки пользователей') "
   ]
  },
  {
   "cell_type": "code",
   "execution_count": 53,
   "metadata": {},
   "outputs": [
    {
     "data": {
      "text/plain": [
       "<AxesSubplot:title={'center':'3DS оценки критиков'}, xlabel='critic_score', ylabel='total_sales'>"
      ]
     },
     "execution_count": 53,
     "metadata": {},
     "output_type": "execute_result"
    },
    {
     "data": {
      "image/png": "[encoded data removed]",
      "text/plain": [
       "<Figure size 432x288 with 1 Axes>"
      ]
     },
     "metadata": {
      "needs_background": "light"
     },
     "output_type": "display_data"
    }
   ],
   "source": [
    "ds_corr.plot(x='critic_score', y='total_sales', kind='scatter', alpha=0.5,title='3DS оценки критиков')"
   ]
  },
  {
   "cell_type": "code",
   "execution_count": 54,
   "metadata": {},
   "outputs": [
    {
     "data": {
      "text/html": [
       "<div>\n",
       "<style scoped>\n",
       "    .dataframe tbody tr th:only-of-type {\n",
       "        vertical-align: middle;\n",
       "    }\n",
       "\n",
       "    .dataframe tbody tr th {\n",
       "        vertical-align: top;\n",
       "    }\n",
       "\n",
       "    .dataframe thead th {\n",
       "        text-align: right;\n",
       "    }\n",
       "</style>\n",
       "<table border=\"1\" class=\"dataframe\">\n",
       "  <thead>\n",
       "    <tr style=\"text-align: right;\">\n",
       "      <th></th>\n",
       "      <th>critic_score</th>\n",
       "      <th>user_score</th>\n",
       "      <th>total_sales</th>\n",
       "    </tr>\n",
       "  </thead>\n",
       "  <tbody>\n",
       "    <tr>\n",
       "      <th>critic_score</th>\n",
       "      <td>1.000000</td>\n",
       "      <td>0.472462</td>\n",
       "      <td>0.416998</td>\n",
       "    </tr>\n",
       "    <tr>\n",
       "      <th>user_score</th>\n",
       "      <td>0.472462</td>\n",
       "      <td>1.000000</td>\n",
       "      <td>-0.068925</td>\n",
       "    </tr>\n",
       "    <tr>\n",
       "      <th>total_sales</th>\n",
       "      <td>0.416998</td>\n",
       "      <td>-0.068925</td>\n",
       "      <td>1.000000</td>\n",
       "    </tr>\n",
       "  </tbody>\n",
       "</table>\n",
       "</div>"
      ],
      "text/plain": [
       "              critic_score  user_score  total_sales\n",
       "critic_score      1.000000    0.472462     0.416998\n",
       "user_score        0.472462    1.000000    -0.068925\n",
       "total_sales       0.416998   -0.068925     1.000000"
      ]
     },
     "execution_count": 54,
     "metadata": {},
     "output_type": "execute_result"
    }
   ],
   "source": [
    "XOne_corr=df1[['platform','critic_score','user_score','total_sales']]\n",
    "XOne_corr[XOne_corr['platform'] == 'XOne'].corr() #построил небольшую табличку для XOne. Зависимость объема продаж от оценок\n",
    "                                               #пользователей и критиков"
   ]
  },
  {
   "cell_type": "markdown",
   "metadata": {},
   "source": [
    "Как видно из данных коэфицциент корреляции, то есть зависимость объема продаж от оценок пользователей отрицательная и около 0. \n",
    "Зависимость от оценок критиков тоже небольшая 0.41 .Построим диаграммы рассеивания"
   ]
  },
  {
   "cell_type": "code",
   "execution_count": 55,
   "metadata": {},
   "outputs": [
    {
     "data": {
      "text/plain": [
       "<AxesSubplot:title={'center':'XOne оценки пользователей'}, xlabel='user_score', ylabel='total_sales'>"
      ]
     },
     "execution_count": 55,
     "metadata": {},
     "output_type": "execute_result"
    },
    {
     "data": {
      "image/png": "[encoded data removed]",
      "text/plain": [
       "<Figure size 432x288 with 1 Axes>"
      ]
     },
     "metadata": {
      "needs_background": "light"
     },
     "output_type": "display_data"
    }
   ],
   "source": [
    "XOne_corr.plot(x='user_score', y='total_sales', kind='scatter', alpha=0.5,title='XOne оценки пользователей') "
   ]
  },
  {
   "cell_type": "code",
   "execution_count": 56,
   "metadata": {},
   "outputs": [
    {
     "data": {
      "text/plain": [
       "<AxesSubplot:title={'center':'XOne оценки критиков'}, xlabel='critic_score', ylabel='total_sales'>"
      ]
     },
     "execution_count": 56,
     "metadata": {},
     "output_type": "execute_result"
    },
    {
     "data": {
      "image/png": "[encoded data removed]",
      "text/plain": [
       "<Figure size 432x288 with 1 Axes>"
      ]
     },
     "metadata": {
      "needs_background": "light"
     },
     "output_type": "display_data"
    }
   ],
   "source": [
    "XOne_corr.plot(x='critic_score', y='total_sales', kind='scatter', alpha=0.5,title='XOne оценки критиков') "
   ]
  },
  {
   "cell_type": "markdown",
   "metadata": {},
   "source": [
    "Исходя из данных анализа можно сделать вывод что для трех самых топовых платформ, которые лидируют на рынке в последние \n",
    "годы, оценки пользователей и критиков напрямую никак не влияют на объем продаж"
   ]
  },
  {
   "cell_type": "markdown",
   "metadata": {},
   "source": [
    "__Соотнесем выводы с продажами игр на других платформах.__"
   ]
  },
  {
   "cell_type": "code",
   "execution_count": 57,
   "metadata": {},
   "outputs": [],
   "source": [
    "df2=df.query('year_of_release > @year') # переменная year=2011,нас интересуют года с 2012"
   ]
  },
  {
   "cell_type": "code",
   "execution_count": 58,
   "metadata": {},
   "outputs": [],
   "source": [
    "df2['platform']=df2['platform'].where(df2['platform'].isin([\"PS4\",\"3DS\",\"XOne\"]), 'Другие платформы')"
   ]
  },
  {
   "cell_type": "markdown",
   "metadata": {},
   "source": [
    "Объединим все остальные платформы в одну группу, чтобы сравнить их с тремя нашими топовыми платформами"
   ]
  },
  {
   "cell_type": "code",
   "execution_count": 59,
   "metadata": {},
   "outputs": [
    {
     "data": {
      "text/plain": [
       "array(['Другие платформы', 'PS4', '3DS', 'XOne'], dtype=object)"
      ]
     },
     "execution_count": 59,
     "metadata": {},
     "output_type": "execute_result"
    }
   ],
   "source": [
    "df2.platform.unique()"
   ]
  },
  {
   "cell_type": "code",
   "execution_count": 60,
   "metadata": {},
   "outputs": [
    {
     "data": {
      "text/html": [
       "<div>\n",
       "<style scoped>\n",
       "    .dataframe tbody tr th:only-of-type {\n",
       "        vertical-align: middle;\n",
       "    }\n",
       "\n",
       "    .dataframe tbody tr th {\n",
       "        vertical-align: top;\n",
       "    }\n",
       "\n",
       "    .dataframe thead th {\n",
       "        text-align: right;\n",
       "    }\n",
       "</style>\n",
       "<table border=\"1\" class=\"dataframe\">\n",
       "  <thead>\n",
       "    <tr style=\"text-align: right;\">\n",
       "      <th></th>\n",
       "      <th>critic_score</th>\n",
       "      <th>user_score</th>\n",
       "      <th>total_sales</th>\n",
       "    </tr>\n",
       "  </thead>\n",
       "  <tbody>\n",
       "    <tr>\n",
       "      <th>critic_score</th>\n",
       "      <td>1.000000</td>\n",
       "      <td>0.507669</td>\n",
       "      <td>0.266275</td>\n",
       "    </tr>\n",
       "    <tr>\n",
       "      <th>user_score</th>\n",
       "      <td>0.507669</td>\n",
       "      <td>1.000000</td>\n",
       "      <td>-0.001886</td>\n",
       "    </tr>\n",
       "    <tr>\n",
       "      <th>total_sales</th>\n",
       "      <td>0.266275</td>\n",
       "      <td>-0.001886</td>\n",
       "      <td>1.000000</td>\n",
       "    </tr>\n",
       "  </tbody>\n",
       "</table>\n",
       "</div>"
      ],
      "text/plain": [
       "              critic_score  user_score  total_sales\n",
       "critic_score      1.000000    0.507669     0.266275\n",
       "user_score        0.507669    1.000000    -0.001886\n",
       "total_sales       0.266275   -0.001886     1.000000"
      ]
     },
     "execution_count": 60,
     "metadata": {},
     "output_type": "execute_result"
    }
   ],
   "source": [
    "other_corr=df2[['platform','critic_score','user_score','total_sales']]\n",
    "other_corr[other_corr['platform'] == 'Другие платформы'].corr() #построил небольшую табличку для 'Другие платформы'. \n",
    "#Зависимость объема продаж от оценок пользователей и критиков"
   ]
  },
  {
   "cell_type": "markdown",
   "metadata": {},
   "source": [
    "Как видно из данных коэфицциент корреляции, то есть зависимость объема продаж от оценок пользователей отрицательная и около 0.\n",
    "Зависимость от оценок критиков тоже небольшая 0.266 .Построим диаграммы рассеивания"
   ]
  },
  {
   "cell_type": "code",
   "execution_count": 61,
   "metadata": {},
   "outputs": [
    {
     "data": {
      "text/plain": [
       "<AxesSubplot:title={'center':'Другие платформы оценки пользователей'}, xlabel='user_score', ylabel='total_sales'>"
      ]
     },
     "execution_count": 61,
     "metadata": {},
     "output_type": "execute_result"
    },
    {
     "data": {
      "image/png": "[encoded data removed]",
      "text/plain": [
       "<Figure size 432x288 with 1 Axes>"
      ]
     },
     "metadata": {
      "needs_background": "light"
     },
     "output_type": "display_data"
    }
   ],
   "source": [
    "other_corr.plot(x='user_score', y='total_sales', kind='scatter', alpha=0.5,title='Другие платформы оценки пользователей') "
   ]
  },
  {
   "cell_type": "code",
   "execution_count": 62,
   "metadata": {},
   "outputs": [
    {
     "data": {
      "text/plain": [
       "<AxesSubplot:title={'center':'Другие платформы оценки критиков'}, xlabel='critic_score', ylabel='total_sales'>"
      ]
     },
     "execution_count": 62,
     "metadata": {},
     "output_type": "execute_result"
    },
    {
     "data": {
      "image/png": "[encoded data removed]",
      "text/plain": [
       "<Figure size 432x288 with 1 Axes>"
      ]
     },
     "metadata": {
      "needs_background": "light"
     },
     "output_type": "display_data"
    }
   ],
   "source": [
    "other_corr.plot(x='critic_score', y='total_sales', kind='scatter', alpha=0.5,title='Другие платформы оценки критиков') "
   ]
  },
  {
   "cell_type": "markdown",
   "metadata": {},
   "source": [
    "Если сравнивать все остальные платформы с нашими топовыми то ситуация примерно такая же,\n",
    "зависимость от оценок критиков небольшая а от оценок пользователей еще меньше"
   ]
  },
  {
   "cell_type": "markdown",
   "metadata": {},
   "source": [
    "__Посмотрим на общее распределение игр по жанрам.__ "
   ]
  },
  {
   "cell_type": "markdown",
   "metadata": {},
   "source": [
    "Здесь мы рассматриваем года с 2012 по 2016"
   ]
  },
  {
   "cell_type": "code",
   "execution_count": 63,
   "metadata": {},
   "outputs": [
    {
     "data": {
      "text/html": [
       "<div>\n",
       "<style scoped>\n",
       "    .dataframe tbody tr th:only-of-type {\n",
       "        vertical-align: middle;\n",
       "    }\n",
       "\n",
       "    .dataframe tbody tr th {\n",
       "        vertical-align: top;\n",
       "    }\n",
       "\n",
       "    .dataframe thead th {\n",
       "        text-align: right;\n",
       "    }\n",
       "</style>\n",
       "<table border=\"1\" class=\"dataframe\">\n",
       "  <thead>\n",
       "    <tr style=\"text-align: right;\">\n",
       "      <th></th>\n",
       "      <th>genre</th>\n",
       "      <th>total_sales</th>\n",
       "    </tr>\n",
       "  </thead>\n",
       "  <tbody>\n",
       "    <tr>\n",
       "      <th>0</th>\n",
       "      <td>Shooter</td>\n",
       "      <td>0.440</td>\n",
       "    </tr>\n",
       "    <tr>\n",
       "      <th>1</th>\n",
       "      <td>Sports</td>\n",
       "      <td>0.240</td>\n",
       "    </tr>\n",
       "    <tr>\n",
       "      <th>2</th>\n",
       "      <td>Platform</td>\n",
       "      <td>0.210</td>\n",
       "    </tr>\n",
       "    <tr>\n",
       "      <th>3</th>\n",
       "      <td>Role-Playing</td>\n",
       "      <td>0.140</td>\n",
       "    </tr>\n",
       "    <tr>\n",
       "      <th>4</th>\n",
       "      <td>Racing</td>\n",
       "      <td>0.140</td>\n",
       "    </tr>\n",
       "    <tr>\n",
       "      <th>5</th>\n",
       "      <td>Fighting</td>\n",
       "      <td>0.130</td>\n",
       "    </tr>\n",
       "    <tr>\n",
       "      <th>6</th>\n",
       "      <td>Action</td>\n",
       "      <td>0.120</td>\n",
       "    </tr>\n",
       "    <tr>\n",
       "      <th>7</th>\n",
       "      <td>Misc</td>\n",
       "      <td>0.120</td>\n",
       "    </tr>\n",
       "    <tr>\n",
       "      <th>8</th>\n",
       "      <td>Simulation</td>\n",
       "      <td>0.120</td>\n",
       "    </tr>\n",
       "    <tr>\n",
       "      <th>9</th>\n",
       "      <td>Strategy</td>\n",
       "      <td>0.080</td>\n",
       "    </tr>\n",
       "    <tr>\n",
       "      <th>10</th>\n",
       "      <td>Puzzle</td>\n",
       "      <td>0.045</td>\n",
       "    </tr>\n",
       "    <tr>\n",
       "      <th>11</th>\n",
       "      <td>Adventure</td>\n",
       "      <td>0.030</td>\n",
       "    </tr>\n",
       "  </tbody>\n",
       "</table>\n",
       "</div>"
      ],
      "text/plain": [
       "           genre  total_sales\n",
       "0        Shooter        0.440\n",
       "1         Sports        0.240\n",
       "2       Platform        0.210\n",
       "3   Role-Playing        0.140\n",
       "4         Racing        0.140\n",
       "5       Fighting        0.130\n",
       "6         Action        0.120\n",
       "7           Misc        0.120\n",
       "8     Simulation        0.120\n",
       "9       Strategy        0.080\n",
       "10        Puzzle        0.045\n",
       "11     Adventure        0.030"
      ]
     },
     "execution_count": 63,
     "metadata": {},
     "output_type": "execute_result"
    }
   ],
   "source": [
    "group_genre=df2.groupby('genre',as_index=False).agg({'total_sales':'median'})\\\n",
    ".sort_values(by='total_sales',ascending=False)\\\n",
    ".reset_index(drop=True)\n",
    "group_genre"
   ]
  },
  {
   "cell_type": "code",
   "execution_count": 64,
   "metadata": {},
   "outputs": [
    {
     "data": {
      "text/plain": [
       "<AxesSubplot:title={'center':'Медианные значения суммы продаж по жанрам'}, xlabel='genre'>"
      ]
     },
     "execution_count": 64,
     "metadata": {},
     "output_type": "execute_result"
    },
    {
     "data": {
      "image/png": "[encoded data removed]",
      "text/plain": [
       "<Figure size 720x360 with 1 Axes>"
      ]
     },
     "metadata": {
      "needs_background": "light"
     },
     "output_type": "display_data"
    }
   ],
   "source": [
    "group_genre.plot(kind='bar', y='total_sales', x='genre',figsize=(10,5), title='Медианные значения суммы продаж по жанрам')"
   ]
  },
  {
   "cell_type": "markdown",
   "metadata": {},
   "source": [
    "__Вывод:__ Самые популярные жанры за последние годы,если смотреть медианные\n",
    "значения это Shooter, Sports и Platform. Жанр Action, который был на первой строчке по общей сумме продаж\n",
    "по медианным значениям занимает только 7 строчку"
   ]
  },
  {
   "cell_type": "markdown",
   "metadata": {},
   "source": [
    "__Шаг 4.__ Составим портрет пользователя каждого региона\n",
    "Определим для пользователя каждого региона (NA, EU, JP):\n",
    "Самые популярные платформы (топ-5). Опишим различия в долях продаж.\n",
    "Самые популярные жанры (топ-5)."
   ]
  },
  {
   "cell_type": "markdown",
   "metadata": {},
   "source": [
    "Для начала разберем регион NA"
   ]
  },
  {
   "cell_type": "code",
   "execution_count": 65,
   "metadata": {},
   "outputs": [
    {
     "data": {
      "text/html": [
       "<div>\n",
       "<style scoped>\n",
       "    .dataframe tbody tr th:only-of-type {\n",
       "        vertical-align: middle;\n",
       "    }\n",
       "\n",
       "    .dataframe tbody tr th {\n",
       "        vertical-align: top;\n",
       "    }\n",
       "\n",
       "    .dataframe thead th {\n",
       "        text-align: right;\n",
       "    }\n",
       "</style>\n",
       "<table border=\"1\" class=\"dataframe\">\n",
       "  <thead>\n",
       "    <tr style=\"text-align: right;\">\n",
       "      <th></th>\n",
       "      <th>platform</th>\n",
       "      <th>na_sales</th>\n",
       "    </tr>\n",
       "  </thead>\n",
       "  <tbody>\n",
       "    <tr>\n",
       "      <th>0</th>\n",
       "      <td>X360</td>\n",
       "      <td>140.05</td>\n",
       "    </tr>\n",
       "    <tr>\n",
       "      <th>1</th>\n",
       "      <td>PS4</td>\n",
       "      <td>108.74</td>\n",
       "    </tr>\n",
       "    <tr>\n",
       "      <th>2</th>\n",
       "      <td>PS3</td>\n",
       "      <td>103.38</td>\n",
       "    </tr>\n",
       "    <tr>\n",
       "      <th>3</th>\n",
       "      <td>XOne</td>\n",
       "      <td>93.12</td>\n",
       "    </tr>\n",
       "    <tr>\n",
       "      <th>4</th>\n",
       "      <td>3DS</td>\n",
       "      <td>55.31</td>\n",
       "    </tr>\n",
       "  </tbody>\n",
       "</table>\n",
       "</div>"
      ],
      "text/plain": [
       "  platform  na_sales\n",
       "0     X360    140.05\n",
       "1      PS4    108.74\n",
       "2      PS3    103.38\n",
       "3     XOne     93.12\n",
       "4      3DS     55.31"
      ]
     },
     "execution_count": 65,
     "metadata": {},
     "output_type": "execute_result"
    }
   ],
   "source": [
    "list = [\"X360\",\"PS4\",\"PS3\",\"XOne\",\"3DS\"]\n",
    "df3=df.query('year_of_release > @year') # year=2011, чтобы взять актуальный период\n",
    "na_platform=df3.groupby('platform',as_index=False).agg({'na_sales':'sum'})\\\n",
    ".sort_values(by='na_sales',ascending=False)\\\n",
    ".reset_index(drop=True)\n",
    "na_platform=na_platform.query('platform in @list')\n",
    "na_platform"
   ]
  },
  {
   "cell_type": "code",
   "execution_count": 66,
   "metadata": {},
   "outputs": [
    {
     "data": {
      "text/plain": [
       "Text(0.5, 1.0, 'Топ 5 платформ Северная Америка')"
      ]
     },
     "execution_count": 66,
     "metadata": {},
     "output_type": "execute_result"
    },
    {
     "data": {
      "image/png": "[encoded data removed]",
      "text/plain": [
       "<Figure size 432x288 with 1 Axes>"
      ]
     },
     "metadata": {},
     "output_type": "display_data"
    }
   ],
   "source": [
    "na_platform.plot(kind='pie', y='na_sales', labels=na_platform['platform'],radius=1.2,legend=False)\n",
    "plt.title('Топ 5 платформ Северная Америка')"
   ]
  },
  {
   "cell_type": "markdown",
   "metadata": {},
   "source": [
    "Вот нашли топ 5 платформ, X360, PS4, PS3, XOne, 3DS. Первые 4 выделяются в большей степени. Последняя 3DS отстает"
   ]
  },
  {
   "cell_type": "code",
   "execution_count": 67,
   "metadata": {},
   "outputs": [
    {
     "data": {
      "text/html": [
       "<div>\n",
       "<style scoped>\n",
       "    .dataframe tbody tr th:only-of-type {\n",
       "        vertical-align: middle;\n",
       "    }\n",
       "\n",
       "    .dataframe tbody tr th {\n",
       "        vertical-align: top;\n",
       "    }\n",
       "\n",
       "    .dataframe thead th {\n",
       "        text-align: right;\n",
       "    }\n",
       "</style>\n",
       "<table border=\"1\" class=\"dataframe\">\n",
       "  <thead>\n",
       "    <tr style=\"text-align: right;\">\n",
       "      <th></th>\n",
       "      <th>genre</th>\n",
       "      <th>na_sales</th>\n",
       "    </tr>\n",
       "  </thead>\n",
       "  <tbody>\n",
       "    <tr>\n",
       "      <th>0</th>\n",
       "      <td>Action</td>\n",
       "      <td>177.84</td>\n",
       "    </tr>\n",
       "    <tr>\n",
       "      <th>1</th>\n",
       "      <td>Shooter</td>\n",
       "      <td>144.77</td>\n",
       "    </tr>\n",
       "    <tr>\n",
       "      <th>2</th>\n",
       "      <td>Sports</td>\n",
       "      <td>81.53</td>\n",
       "    </tr>\n",
       "    <tr>\n",
       "      <th>3</th>\n",
       "      <td>Role-Playing</td>\n",
       "      <td>64.00</td>\n",
       "    </tr>\n",
       "    <tr>\n",
       "      <th>4</th>\n",
       "      <td>Misc</td>\n",
       "      <td>38.19</td>\n",
       "    </tr>\n",
       "  </tbody>\n",
       "</table>\n",
       "</div>"
      ],
      "text/plain": [
       "          genre  na_sales\n",
       "0        Action    177.84\n",
       "1       Shooter    144.77\n",
       "2        Sports     81.53\n",
       "3  Role-Playing     64.00\n",
       "4          Misc     38.19"
      ]
     },
     "execution_count": 67,
     "metadata": {},
     "output_type": "execute_result"
    }
   ],
   "source": [
    "na_genre=df3.groupby('genre',as_index=False).agg({'na_sales':'sum'})\\\n",
    ".sort_values(by='na_sales',ascending=False)\\\n",
    ".reset_index(drop=True)\n",
    "na_genre=na_genre.query('genre in [\"Action\",\"Shooter\",\"Sports\",\"Role-Playing\",\"Misc\"]')\n",
    "na_genre"
   ]
  },
  {
   "cell_type": "code",
   "execution_count": 68,
   "metadata": {},
   "outputs": [
    {
     "data": {
      "text/plain": [
       "Text(0.5, 1.0, 'Топ 5 жанров Северная Америка')"
      ]
     },
     "execution_count": 68,
     "metadata": {},
     "output_type": "execute_result"
    },
    {
     "data": {
      "image/png": "[encoded data removed]",
      "text/plain": [
       "<Figure size 432x288 with 1 Axes>"
      ]
     },
     "metadata": {},
     "output_type": "display_data"
    }
   ],
   "source": [
    "na_genre.plot(kind='pie', y='na_sales', labels=na_genre['genre'],radius=1.2,legend=False)\n",
    "plt.title('Топ 5 жанров Северная Америка')"
   ]
  },
  {
   "cell_type": "markdown",
   "metadata": {},
   "source": [
    "Топ 5 жанров для NA это Action, Shooter, Sports, Role-Playing, Misc. Первые два жанра \n",
    "выделяются в большей степени, Misc отстает"
   ]
  },
  {
   "cell_type": "code",
   "execution_count": 69,
   "metadata": {},
   "outputs": [
    {
     "data": {
      "text/html": [
       "<div>\n",
       "<style scoped>\n",
       "    .dataframe tbody tr th:only-of-type {\n",
       "        vertical-align: middle;\n",
       "    }\n",
       "\n",
       "    .dataframe tbody tr th {\n",
       "        vertical-align: top;\n",
       "    }\n",
       "\n",
       "    .dataframe thead th {\n",
       "        text-align: right;\n",
       "    }\n",
       "</style>\n",
       "<table border=\"1\" class=\"dataframe\">\n",
       "  <thead>\n",
       "    <tr style=\"text-align: right;\">\n",
       "      <th></th>\n",
       "      <th>eu_sales</th>\n",
       "      <th>jp_sales</th>\n",
       "      <th>na_sales</th>\n",
       "    </tr>\n",
       "    <tr>\n",
       "      <th>platform</th>\n",
       "      <th></th>\n",
       "      <th></th>\n",
       "      <th></th>\n",
       "    </tr>\n",
       "  </thead>\n",
       "  <tbody>\n",
       "    <tr>\n",
       "      <th>3DS</th>\n",
       "      <td>42.64</td>\n",
       "      <td>87.79</td>\n",
       "      <td>55.31</td>\n",
       "    </tr>\n",
       "    <tr>\n",
       "      <th>DS</th>\n",
       "      <td>3.53</td>\n",
       "      <td>3.72</td>\n",
       "      <td>4.59</td>\n",
       "    </tr>\n",
       "    <tr>\n",
       "      <th>PC</th>\n",
       "      <td>37.76</td>\n",
       "      <td>0.00</td>\n",
       "      <td>19.12</td>\n",
       "    </tr>\n",
       "    <tr>\n",
       "      <th>PS3</th>\n",
       "      <td>106.86</td>\n",
       "      <td>35.29</td>\n",
       "      <td>103.38</td>\n",
       "    </tr>\n",
       "    <tr>\n",
       "      <th>PS4</th>\n",
       "      <td>141.09</td>\n",
       "      <td>15.96</td>\n",
       "      <td>108.74</td>\n",
       "    </tr>\n",
       "    <tr>\n",
       "      <th>PSP</th>\n",
       "      <td>0.42</td>\n",
       "      <td>10.47</td>\n",
       "      <td>0.13</td>\n",
       "    </tr>\n",
       "    <tr>\n",
       "      <th>PSV</th>\n",
       "      <td>11.36</td>\n",
       "      <td>21.04</td>\n",
       "      <td>10.98</td>\n",
       "    </tr>\n",
       "    <tr>\n",
       "      <th>Wii</th>\n",
       "      <td>11.92</td>\n",
       "      <td>3.39</td>\n",
       "      <td>17.45</td>\n",
       "    </tr>\n",
       "    <tr>\n",
       "      <th>WiiU</th>\n",
       "      <td>25.13</td>\n",
       "      <td>13.01</td>\n",
       "      <td>38.10</td>\n",
       "    </tr>\n",
       "    <tr>\n",
       "      <th>X360</th>\n",
       "      <td>74.52</td>\n",
       "      <td>1.57</td>\n",
       "      <td>140.05</td>\n",
       "    </tr>\n",
       "    <tr>\n",
       "      <th>XOne</th>\n",
       "      <td>51.59</td>\n",
       "      <td>0.34</td>\n",
       "      <td>93.12</td>\n",
       "    </tr>\n",
       "  </tbody>\n",
       "</table>\n",
       "</div>"
      ],
      "text/plain": [
       "          eu_sales  jp_sales  na_sales\n",
       "platform                              \n",
       "3DS          42.64     87.79     55.31\n",
       "DS            3.53      3.72      4.59\n",
       "PC           37.76      0.00     19.12\n",
       "PS3         106.86     35.29    103.38\n",
       "PS4         141.09     15.96    108.74\n",
       "PSP           0.42     10.47      0.13\n",
       "PSV          11.36     21.04     10.98\n",
       "Wii          11.92      3.39     17.45\n",
       "WiiU         25.13     13.01     38.10\n",
       "X360         74.52      1.57    140.05\n",
       "XOne         51.59      0.34     93.12"
      ]
     },
     "execution_count": 69,
     "metadata": {},
     "output_type": "execute_result"
    }
   ],
   "source": [
    "df3.pivot_table(index = 'platform',  values = ['na_sales','jp_sales','eu_sales'], aggfunc = 'sum')"
   ]
  },
  {
   "cell_type": "code",
   "execution_count": 70,
   "metadata": {},
   "outputs": [
    {
     "data": {
      "text/html": [
       "<div>\n",
       "<style scoped>\n",
       "    .dataframe tbody tr th:only-of-type {\n",
       "        vertical-align: middle;\n",
       "    }\n",
       "\n",
       "    .dataframe tbody tr th {\n",
       "        vertical-align: top;\n",
       "    }\n",
       "\n",
       "    .dataframe thead th {\n",
       "        text-align: right;\n",
       "    }\n",
       "</style>\n",
       "<table border=\"1\" class=\"dataframe\">\n",
       "  <thead>\n",
       "    <tr style=\"text-align: right;\">\n",
       "      <th></th>\n",
       "      <th>rating</th>\n",
       "      <th>na_sales</th>\n",
       "    </tr>\n",
       "  </thead>\n",
       "  <tbody>\n",
       "    <tr>\n",
       "      <th>0</th>\n",
       "      <td>M</td>\n",
       "      <td>0.465000</td>\n",
       "    </tr>\n",
       "    <tr>\n",
       "      <th>1</th>\n",
       "      <td>E</td>\n",
       "      <td>0.289544</td>\n",
       "    </tr>\n",
       "    <tr>\n",
       "      <th>2</th>\n",
       "      <td>E10+</td>\n",
       "      <td>0.247386</td>\n",
       "    </tr>\n",
       "    <tr>\n",
       "      <th>3</th>\n",
       "      <td>T</td>\n",
       "      <td>0.160243</td>\n",
       "    </tr>\n",
       "    <tr>\n",
       "      <th>4</th>\n",
       "      <td>Unknown</td>\n",
       "      <td>0.081027</td>\n",
       "    </tr>\n",
       "  </tbody>\n",
       "</table>\n",
       "</div>"
      ],
      "text/plain": [
       "    rating  na_sales\n",
       "0        M  0.465000\n",
       "1        E  0.289544\n",
       "2     E10+  0.247386\n",
       "3        T  0.160243\n",
       "4  Unknown  0.081027"
      ]
     },
     "execution_count": 70,
     "metadata": {},
     "output_type": "execute_result"
    }
   ],
   "source": [
    "na_rating=df3.groupby('rating',as_index=False).agg({'na_sales':'mean'})\\\n",
    ".sort_values(by='na_sales',ascending=False)\\\n",
    ".reset_index(drop=True)\n",
    "na_rating"
   ]
  },
  {
   "cell_type": "code",
   "execution_count": 71,
   "metadata": {},
   "outputs": [
    {
     "data": {
      "text/html": [
       "<div>\n",
       "<style scoped>\n",
       "    .dataframe tbody tr th:only-of-type {\n",
       "        vertical-align: middle;\n",
       "    }\n",
       "\n",
       "    .dataframe tbody tr th {\n",
       "        vertical-align: top;\n",
       "    }\n",
       "\n",
       "    .dataframe thead th {\n",
       "        text-align: right;\n",
       "    }\n",
       "</style>\n",
       "<table border=\"1\" class=\"dataframe\">\n",
       "  <thead>\n",
       "    <tr style=\"text-align: right;\">\n",
       "      <th></th>\n",
       "      <th>rating</th>\n",
       "      <th>na_sales</th>\n",
       "    </tr>\n",
       "  </thead>\n",
       "  <tbody>\n",
       "    <tr>\n",
       "      <th>0</th>\n",
       "      <td>M</td>\n",
       "      <td>231.57</td>\n",
       "    </tr>\n",
       "    <tr>\n",
       "      <th>1</th>\n",
       "      <td>E</td>\n",
       "      <td>114.37</td>\n",
       "    </tr>\n",
       "    <tr>\n",
       "      <th>2</th>\n",
       "      <td>Unknown</td>\n",
       "      <td>103.31</td>\n",
       "    </tr>\n",
       "    <tr>\n",
       "      <th>3</th>\n",
       "      <td>E10+</td>\n",
       "      <td>75.70</td>\n",
       "    </tr>\n",
       "    <tr>\n",
       "      <th>4</th>\n",
       "      <td>T</td>\n",
       "      <td>66.02</td>\n",
       "    </tr>\n",
       "  </tbody>\n",
       "</table>\n",
       "</div>"
      ],
      "text/plain": [
       "    rating  na_sales\n",
       "0        M    231.57\n",
       "1        E    114.37\n",
       "2  Unknown    103.31\n",
       "3     E10+     75.70\n",
       "4        T     66.02"
      ]
     },
     "execution_count": 71,
     "metadata": {},
     "output_type": "execute_result"
    }
   ],
   "source": [
    "na_rating=df3.groupby('rating',as_index=False).agg({'na_sales':'sum'})\\\n",
    ".sort_values(by='na_sales',ascending=False)\\\n",
    ".reset_index(drop=True)\n",
    "na_rating"
   ]
  },
  {
   "cell_type": "markdown",
   "metadata": {},
   "source": [
    "Средние продажи по присвоенному рейтигу, где M -взрослые, E-все пользователи, E10+ старше 10 лет, T-подростки\n",
    "Unknown - неизвестно. Средние продажи при категории взрослые в Северной Америке выше,почти в 2 раза\n",
    "по сравнению с играми с другим рейтингом а общий объем продаж исходя из рейтинга также\n",
    "выше в 2 раза в категории M- взрослые"
   ]
  },
  {
   "cell_type": "markdown",
   "metadata": {},
   "source": [
    "Регион EU Европа"
   ]
  },
  {
   "cell_type": "code",
   "execution_count": 72,
   "metadata": {},
   "outputs": [
    {
     "data": {
      "text/html": [
       "<div>\n",
       "<style scoped>\n",
       "    .dataframe tbody tr th:only-of-type {\n",
       "        vertical-align: middle;\n",
       "    }\n",
       "\n",
       "    .dataframe tbody tr th {\n",
       "        vertical-align: top;\n",
       "    }\n",
       "\n",
       "    .dataframe thead th {\n",
       "        text-align: right;\n",
       "    }\n",
       "</style>\n",
       "<table border=\"1\" class=\"dataframe\">\n",
       "  <thead>\n",
       "    <tr style=\"text-align: right;\">\n",
       "      <th></th>\n",
       "      <th>platform</th>\n",
       "      <th>eu_sales</th>\n",
       "    </tr>\n",
       "  </thead>\n",
       "  <tbody>\n",
       "    <tr>\n",
       "      <th>0</th>\n",
       "      <td>PS4</td>\n",
       "      <td>141.09</td>\n",
       "    </tr>\n",
       "    <tr>\n",
       "      <th>1</th>\n",
       "      <td>PS3</td>\n",
       "      <td>106.86</td>\n",
       "    </tr>\n",
       "    <tr>\n",
       "      <th>2</th>\n",
       "      <td>X360</td>\n",
       "      <td>74.52</td>\n",
       "    </tr>\n",
       "    <tr>\n",
       "      <th>3</th>\n",
       "      <td>XOne</td>\n",
       "      <td>51.59</td>\n",
       "    </tr>\n",
       "    <tr>\n",
       "      <th>4</th>\n",
       "      <td>3DS</td>\n",
       "      <td>42.64</td>\n",
       "    </tr>\n",
       "  </tbody>\n",
       "</table>\n",
       "</div>"
      ],
      "text/plain": [
       "  platform  eu_sales\n",
       "0      PS4    141.09\n",
       "1      PS3    106.86\n",
       "2     X360     74.52\n",
       "3     XOne     51.59\n",
       "4      3DS     42.64"
      ]
     },
     "execution_count": 72,
     "metadata": {},
     "output_type": "execute_result"
    }
   ],
   "source": [
    "df3=df.query('year_of_release > @year') # year=2011, чтобы взять актуальный период\n",
    "eu_platform=df3.groupby('platform',as_index=False).agg({'eu_sales':'sum'})\\\n",
    ".sort_values(by='eu_sales',ascending=False)\\\n",
    ".reset_index(drop=True)\n",
    "eu_platform.head()"
   ]
  },
  {
   "cell_type": "code",
   "execution_count": 73,
   "metadata": {},
   "outputs": [
    {
     "data": {
      "text/html": [
       "<div>\n",
       "<style scoped>\n",
       "    .dataframe tbody tr th:only-of-type {\n",
       "        vertical-align: middle;\n",
       "    }\n",
       "\n",
       "    .dataframe tbody tr th {\n",
       "        vertical-align: top;\n",
       "    }\n",
       "\n",
       "    .dataframe thead th {\n",
       "        text-align: right;\n",
       "    }\n",
       "</style>\n",
       "<table border=\"1\" class=\"dataframe\">\n",
       "  <thead>\n",
       "    <tr style=\"text-align: right;\">\n",
       "      <th></th>\n",
       "      <th>platform</th>\n",
       "      <th>eu_sales</th>\n",
       "    </tr>\n",
       "  </thead>\n",
       "  <tbody>\n",
       "    <tr>\n",
       "      <th>0</th>\n",
       "      <td>PS4</td>\n",
       "      <td>141.09</td>\n",
       "    </tr>\n",
       "    <tr>\n",
       "      <th>1</th>\n",
       "      <td>PS3</td>\n",
       "      <td>106.86</td>\n",
       "    </tr>\n",
       "    <tr>\n",
       "      <th>2</th>\n",
       "      <td>X360</td>\n",
       "      <td>74.52</td>\n",
       "    </tr>\n",
       "    <tr>\n",
       "      <th>3</th>\n",
       "      <td>XOne</td>\n",
       "      <td>51.59</td>\n",
       "    </tr>\n",
       "    <tr>\n",
       "      <th>4</th>\n",
       "      <td>3DS</td>\n",
       "      <td>42.64</td>\n",
       "    </tr>\n",
       "  </tbody>\n",
       "</table>\n",
       "</div>"
      ],
      "text/plain": [
       "  platform  eu_sales\n",
       "0      PS4    141.09\n",
       "1      PS3    106.86\n",
       "2     X360     74.52\n",
       "3     XOne     51.59\n",
       "4      3DS     42.64"
      ]
     },
     "execution_count": 73,
     "metadata": {},
     "output_type": "execute_result"
    }
   ],
   "source": [
    "eu_platform=eu_platform.query('platform in [\"X360\",\"PS4\",\"PS3\",\"XOne\",\"3DS\"]')\n",
    "eu_platform"
   ]
  },
  {
   "cell_type": "code",
   "execution_count": 74,
   "metadata": {},
   "outputs": [
    {
     "data": {
      "text/plain": [
       "Text(0.5, 1.0, 'Топ 5 платформ Европа')"
      ]
     },
     "execution_count": 74,
     "metadata": {},
     "output_type": "execute_result"
    },
    {
     "data": {
      "image/png": "[encoded data removed]",
      "text/plain": [
       "<Figure size 432x288 with 1 Axes>"
      ]
     },
     "metadata": {},
     "output_type": "display_data"
    }
   ],
   "source": [
    "eu_platform.plot(kind='pie', y='eu_sales', labels=na_platform['platform'],radius=1.2,legend=False)\n",
    "plt.title('Топ 5 платформ Европа')"
   ]
  },
  {
   "cell_type": "markdown",
   "metadata": {},
   "source": [
    "Вот нашли топ 5 платформ, PS4, PS3, X360, XOne, 3DS.\n",
    "Версии Play Station 3 и 4 в Европейском регионе в лидерах по продажам"
   ]
  },
  {
   "cell_type": "code",
   "execution_count": 75,
   "metadata": {},
   "outputs": [
    {
     "data": {
      "text/html": [
       "<div>\n",
       "<style scoped>\n",
       "    .dataframe tbody tr th:only-of-type {\n",
       "        vertical-align: middle;\n",
       "    }\n",
       "\n",
       "    .dataframe tbody tr th {\n",
       "        vertical-align: top;\n",
       "    }\n",
       "\n",
       "    .dataframe thead th {\n",
       "        text-align: right;\n",
       "    }\n",
       "</style>\n",
       "<table border=\"1\" class=\"dataframe\">\n",
       "  <thead>\n",
       "    <tr style=\"text-align: right;\">\n",
       "      <th></th>\n",
       "      <th>genre</th>\n",
       "      <th>eu_sales</th>\n",
       "    </tr>\n",
       "  </thead>\n",
       "  <tbody>\n",
       "    <tr>\n",
       "      <th>0</th>\n",
       "      <td>Action</td>\n",
       "      <td>159.34</td>\n",
       "    </tr>\n",
       "    <tr>\n",
       "      <th>1</th>\n",
       "      <td>Shooter</td>\n",
       "      <td>113.47</td>\n",
       "    </tr>\n",
       "    <tr>\n",
       "      <th>2</th>\n",
       "      <td>Sports</td>\n",
       "      <td>69.09</td>\n",
       "    </tr>\n",
       "    <tr>\n",
       "      <th>3</th>\n",
       "      <td>Role-Playing</td>\n",
       "      <td>48.53</td>\n",
       "    </tr>\n",
       "    <tr>\n",
       "      <th>4</th>\n",
       "      <td>Racing</td>\n",
       "      <td>27.29</td>\n",
       "    </tr>\n",
       "  </tbody>\n",
       "</table>\n",
       "</div>"
      ],
      "text/plain": [
       "          genre  eu_sales\n",
       "0        Action    159.34\n",
       "1       Shooter    113.47\n",
       "2        Sports     69.09\n",
       "3  Role-Playing     48.53\n",
       "4        Racing     27.29"
      ]
     },
     "execution_count": 75,
     "metadata": {},
     "output_type": "execute_result"
    }
   ],
   "source": [
    "eu_genre=df3.groupby('genre',as_index=False).agg({'eu_sales':'sum'})\\\n",
    ".sort_values(by='eu_sales',ascending=False)\\\n",
    ".reset_index(drop=True)\n",
    "eu_genre.head()\n"
   ]
  },
  {
   "cell_type": "code",
   "execution_count": 76,
   "metadata": {},
   "outputs": [
    {
     "data": {
      "text/html": [
       "<div>\n",
       "<style scoped>\n",
       "    .dataframe tbody tr th:only-of-type {\n",
       "        vertical-align: middle;\n",
       "    }\n",
       "\n",
       "    .dataframe tbody tr th {\n",
       "        vertical-align: top;\n",
       "    }\n",
       "\n",
       "    .dataframe thead th {\n",
       "        text-align: right;\n",
       "    }\n",
       "</style>\n",
       "<table border=\"1\" class=\"dataframe\">\n",
       "  <thead>\n",
       "    <tr style=\"text-align: right;\">\n",
       "      <th></th>\n",
       "      <th>genre</th>\n",
       "      <th>eu_sales</th>\n",
       "    </tr>\n",
       "  </thead>\n",
       "  <tbody>\n",
       "    <tr>\n",
       "      <th>0</th>\n",
       "      <td>Action</td>\n",
       "      <td>159.34</td>\n",
       "    </tr>\n",
       "    <tr>\n",
       "      <th>1</th>\n",
       "      <td>Shooter</td>\n",
       "      <td>113.47</td>\n",
       "    </tr>\n",
       "    <tr>\n",
       "      <th>2</th>\n",
       "      <td>Sports</td>\n",
       "      <td>69.09</td>\n",
       "    </tr>\n",
       "    <tr>\n",
       "      <th>3</th>\n",
       "      <td>Role-Playing</td>\n",
       "      <td>48.53</td>\n",
       "    </tr>\n",
       "    <tr>\n",
       "      <th>4</th>\n",
       "      <td>Racing</td>\n",
       "      <td>27.29</td>\n",
       "    </tr>\n",
       "  </tbody>\n",
       "</table>\n",
       "</div>"
      ],
      "text/plain": [
       "          genre  eu_sales\n",
       "0        Action    159.34\n",
       "1       Shooter    113.47\n",
       "2        Sports     69.09\n",
       "3  Role-Playing     48.53\n",
       "4        Racing     27.29"
      ]
     },
     "execution_count": 76,
     "metadata": {},
     "output_type": "execute_result"
    }
   ],
   "source": [
    "eu_genre=eu_genre.query('genre in [\"Action\",\"Shooter\",\"Sports\",\"Role-Playing\",\"Racing\"]')\n",
    "eu_genre"
   ]
  },
  {
   "cell_type": "code",
   "execution_count": 77,
   "metadata": {},
   "outputs": [
    {
     "data": {
      "text/plain": [
       "Text(0.5, 1.0, 'Топ 5 жанров Европа')"
      ]
     },
     "execution_count": 77,
     "metadata": {},
     "output_type": "execute_result"
    },
    {
     "data": {
      "image/png": "[encoded data removed]",
      "text/plain": [
       "<Figure size 432x288 with 1 Axes>"
      ]
     },
     "metadata": {},
     "output_type": "display_data"
    }
   ],
   "source": [
    "eu_genre.plot(kind='pie', y='eu_sales', labels=eu_genre['genre'],radius=1.2,legend=False)\n",
    "plt.title('Топ 5 жанров Европа')"
   ]
  },
  {
   "cell_type": "markdown",
   "metadata": {},
   "source": [
    "В Европе первые четыре жанра по продажам такие же как и в Северной Америке Action, Shooter, Sports, Role-Playing.\n",
    "А вот пятую строчку занимает Racing вместо Misc в Северной Америке\n",
    "В Европе также с отрывом лидируют жанры Action, Shooter\n"
   ]
  },
  {
   "cell_type": "code",
   "execution_count": 78,
   "metadata": {},
   "outputs": [
    {
     "data": {
      "text/html": [
       "<div>\n",
       "<style scoped>\n",
       "    .dataframe tbody tr th:only-of-type {\n",
       "        vertical-align: middle;\n",
       "    }\n",
       "\n",
       "    .dataframe tbody tr th {\n",
       "        vertical-align: top;\n",
       "    }\n",
       "\n",
       "    .dataframe thead th {\n",
       "        text-align: right;\n",
       "    }\n",
       "</style>\n",
       "<table border=\"1\" class=\"dataframe\">\n",
       "  <thead>\n",
       "    <tr style=\"text-align: right;\">\n",
       "      <th></th>\n",
       "      <th>rating</th>\n",
       "      <th>eu_sales</th>\n",
       "    </tr>\n",
       "  </thead>\n",
       "  <tbody>\n",
       "    <tr>\n",
       "      <th>0</th>\n",
       "      <td>M</td>\n",
       "      <td>0.389478</td>\n",
       "    </tr>\n",
       "    <tr>\n",
       "      <th>1</th>\n",
       "      <td>E</td>\n",
       "      <td>0.286152</td>\n",
       "    </tr>\n",
       "    <tr>\n",
       "      <th>2</th>\n",
       "      <td>E10+</td>\n",
       "      <td>0.180948</td>\n",
       "    </tr>\n",
       "    <tr>\n",
       "      <th>3</th>\n",
       "      <td>T</td>\n",
       "      <td>0.128544</td>\n",
       "    </tr>\n",
       "    <tr>\n",
       "      <th>4</th>\n",
       "      <td>Unknown</td>\n",
       "      <td>0.071765</td>\n",
       "    </tr>\n",
       "  </tbody>\n",
       "</table>\n",
       "</div>"
      ],
      "text/plain": [
       "    rating  eu_sales\n",
       "0        M  0.389478\n",
       "1        E  0.286152\n",
       "2     E10+  0.180948\n",
       "3        T  0.128544\n",
       "4  Unknown  0.071765"
      ]
     },
     "execution_count": 78,
     "metadata": {},
     "output_type": "execute_result"
    }
   ],
   "source": [
    "eu_rating=df3.groupby('rating',as_index=False).agg({'eu_sales':'mean'})\\\n",
    ".sort_values(by='eu_sales',ascending=False)\\\n",
    ".reset_index(drop=True)\n",
    "eu_rating"
   ]
  },
  {
   "cell_type": "code",
   "execution_count": 79,
   "metadata": {},
   "outputs": [
    {
     "data": {
      "text/html": [
       "<div>\n",
       "<style scoped>\n",
       "    .dataframe tbody tr th:only-of-type {\n",
       "        vertical-align: middle;\n",
       "    }\n",
       "\n",
       "    .dataframe tbody tr th {\n",
       "        vertical-align: top;\n",
       "    }\n",
       "\n",
       "    .dataframe thead th {\n",
       "        text-align: right;\n",
       "    }\n",
       "</style>\n",
       "<table border=\"1\" class=\"dataframe\">\n",
       "  <thead>\n",
       "    <tr style=\"text-align: right;\">\n",
       "      <th></th>\n",
       "      <th>rating</th>\n",
       "      <th>eu_sales</th>\n",
       "    </tr>\n",
       "  </thead>\n",
       "  <tbody>\n",
       "    <tr>\n",
       "      <th>0</th>\n",
       "      <td>M</td>\n",
       "      <td>193.96</td>\n",
       "    </tr>\n",
       "    <tr>\n",
       "      <th>1</th>\n",
       "      <td>E</td>\n",
       "      <td>113.03</td>\n",
       "    </tr>\n",
       "    <tr>\n",
       "      <th>2</th>\n",
       "      <td>Unknown</td>\n",
       "      <td>91.50</td>\n",
       "    </tr>\n",
       "    <tr>\n",
       "      <th>3</th>\n",
       "      <td>E10+</td>\n",
       "      <td>55.37</td>\n",
       "    </tr>\n",
       "    <tr>\n",
       "      <th>4</th>\n",
       "      <td>T</td>\n",
       "      <td>52.96</td>\n",
       "    </tr>\n",
       "  </tbody>\n",
       "</table>\n",
       "</div>"
      ],
      "text/plain": [
       "    rating  eu_sales\n",
       "0        M    193.96\n",
       "1        E    113.03\n",
       "2  Unknown     91.50\n",
       "3     E10+     55.37\n",
       "4        T     52.96"
      ]
     },
     "execution_count": 79,
     "metadata": {},
     "output_type": "execute_result"
    }
   ],
   "source": [
    "eu_rating=df3.groupby('rating',as_index=False).agg({'eu_sales':'sum'})\\\n",
    ".sort_values(by='eu_sales',ascending=False)\\\n",
    ".reset_index(drop=True)\n",
    "eu_rating"
   ]
  },
  {
   "cell_type": "markdown",
   "metadata": {},
   "source": [
    "Средние продажи при категории взрослые в Европе выше как и в Северной Америке,\n",
    "почти в 2 раза по сравнению с играми с другим рейтингом\n",
    "а общий объем продаж исходя из рейтинга также выше в 2 раза в категории M- взрослые"
   ]
  },
  {
   "cell_type": "markdown",
   "metadata": {},
   "source": [
    "Регион JP Япония"
   ]
  },
  {
   "cell_type": "code",
   "execution_count": 80,
   "metadata": {},
   "outputs": [
    {
     "data": {
      "text/html": [
       "<div>\n",
       "<style scoped>\n",
       "    .dataframe tbody tr th:only-of-type {\n",
       "        vertical-align: middle;\n",
       "    }\n",
       "\n",
       "    .dataframe tbody tr th {\n",
       "        vertical-align: top;\n",
       "    }\n",
       "\n",
       "    .dataframe thead th {\n",
       "        text-align: right;\n",
       "    }\n",
       "</style>\n",
       "<table border=\"1\" class=\"dataframe\">\n",
       "  <thead>\n",
       "    <tr style=\"text-align: right;\">\n",
       "      <th></th>\n",
       "      <th>platform</th>\n",
       "      <th>jp_sales</th>\n",
       "    </tr>\n",
       "  </thead>\n",
       "  <tbody>\n",
       "    <tr>\n",
       "      <th>0</th>\n",
       "      <td>3DS</td>\n",
       "      <td>87.79</td>\n",
       "    </tr>\n",
       "    <tr>\n",
       "      <th>1</th>\n",
       "      <td>PS3</td>\n",
       "      <td>35.29</td>\n",
       "    </tr>\n",
       "    <tr>\n",
       "      <th>2</th>\n",
       "      <td>PSV</td>\n",
       "      <td>21.04</td>\n",
       "    </tr>\n",
       "    <tr>\n",
       "      <th>3</th>\n",
       "      <td>PS4</td>\n",
       "      <td>15.96</td>\n",
       "    </tr>\n",
       "    <tr>\n",
       "      <th>4</th>\n",
       "      <td>WiiU</td>\n",
       "      <td>13.01</td>\n",
       "    </tr>\n",
       "  </tbody>\n",
       "</table>\n",
       "</div>"
      ],
      "text/plain": [
       "  platform  jp_sales\n",
       "0      3DS     87.79\n",
       "1      PS3     35.29\n",
       "2      PSV     21.04\n",
       "3      PS4     15.96\n",
       "4     WiiU     13.01"
      ]
     },
     "execution_count": 80,
     "metadata": {},
     "output_type": "execute_result"
    }
   ],
   "source": [
    "df3=df.query('year_of_release > @year') # year=2011, чтобы взять актуальный период\n",
    "jp_platform=df3.groupby('platform',as_index=False).agg({'jp_sales':'sum'})\\\n",
    ".sort_values(by='jp_sales',ascending=False)\\\n",
    ".reset_index(drop=True)\n",
    "jp_platform.head()"
   ]
  },
  {
   "cell_type": "code",
   "execution_count": 81,
   "metadata": {},
   "outputs": [
    {
     "data": {
      "text/html": [
       "<div>\n",
       "<style scoped>\n",
       "    .dataframe tbody tr th:only-of-type {\n",
       "        vertical-align: middle;\n",
       "    }\n",
       "\n",
       "    .dataframe tbody tr th {\n",
       "        vertical-align: top;\n",
       "    }\n",
       "\n",
       "    .dataframe thead th {\n",
       "        text-align: right;\n",
       "    }\n",
       "</style>\n",
       "<table border=\"1\" class=\"dataframe\">\n",
       "  <thead>\n",
       "    <tr style=\"text-align: right;\">\n",
       "      <th></th>\n",
       "      <th>platform</th>\n",
       "      <th>jp_sales</th>\n",
       "    </tr>\n",
       "  </thead>\n",
       "  <tbody>\n",
       "    <tr>\n",
       "      <th>0</th>\n",
       "      <td>3DS</td>\n",
       "      <td>87.79</td>\n",
       "    </tr>\n",
       "    <tr>\n",
       "      <th>1</th>\n",
       "      <td>PS3</td>\n",
       "      <td>35.29</td>\n",
       "    </tr>\n",
       "    <tr>\n",
       "      <th>2</th>\n",
       "      <td>PSV</td>\n",
       "      <td>21.04</td>\n",
       "    </tr>\n",
       "    <tr>\n",
       "      <th>3</th>\n",
       "      <td>PS4</td>\n",
       "      <td>15.96</td>\n",
       "    </tr>\n",
       "    <tr>\n",
       "      <th>4</th>\n",
       "      <td>WiiU</td>\n",
       "      <td>13.01</td>\n",
       "    </tr>\n",
       "  </tbody>\n",
       "</table>\n",
       "</div>"
      ],
      "text/plain": [
       "  platform  jp_sales\n",
       "0      3DS     87.79\n",
       "1      PS3     35.29\n",
       "2      PSV     21.04\n",
       "3      PS4     15.96\n",
       "4     WiiU     13.01"
      ]
     },
     "execution_count": 81,
     "metadata": {},
     "output_type": "execute_result"
    }
   ],
   "source": [
    "jp_platform=jp_platform.query('platform in [\"PSV\",\"PS4\",\"PS3\",\"WiiU\",\"3DS\"]')\n",
    "jp_platform"
   ]
  },
  {
   "cell_type": "code",
   "execution_count": 82,
   "metadata": {},
   "outputs": [
    {
     "data": {
      "text/plain": [
       "Text(0.5, 1.0, 'Топ 5 платформ Япония')"
      ]
     },
     "execution_count": 82,
     "metadata": {},
     "output_type": "execute_result"
    },
    {
     "data": {
      "image/png": "[encoded data removed]",
      "text/plain": [
       "<Figure size 432x288 with 1 Axes>"
      ]
     },
     "metadata": {},
     "output_type": "display_data"
    }
   ],
   "source": [
    "jp_platform.plot(kind='pie', y='jp_sales', labels=jp_platform['platform'],radius=1,legend=False)\n",
    "plt.title('Топ 5 платформ Япония')"
   ]
  },
  {
   "cell_type": "markdown",
   "metadata": {},
   "source": [
    "Долю рынка в Японии захватила платформа 3DS.\n",
    "Эта же платформа в Северной Америке и Европе занимала только пятую строчку\n",
    "а в Японии лидирует с большим отрывом"
   ]
  },
  {
   "cell_type": "code",
   "execution_count": 83,
   "metadata": {},
   "outputs": [
    {
     "data": {
      "text/html": [
       "<div>\n",
       "<style scoped>\n",
       "    .dataframe tbody tr th:only-of-type {\n",
       "        vertical-align: middle;\n",
       "    }\n",
       "\n",
       "    .dataframe tbody tr th {\n",
       "        vertical-align: top;\n",
       "    }\n",
       "\n",
       "    .dataframe thead th {\n",
       "        text-align: right;\n",
       "    }\n",
       "</style>\n",
       "<table border=\"1\" class=\"dataframe\">\n",
       "  <thead>\n",
       "    <tr style=\"text-align: right;\">\n",
       "      <th></th>\n",
       "      <th>genre</th>\n",
       "      <th>jp_sales</th>\n",
       "    </tr>\n",
       "  </thead>\n",
       "  <tbody>\n",
       "    <tr>\n",
       "      <th>0</th>\n",
       "      <td>Role-Playing</td>\n",
       "      <td>65.44</td>\n",
       "    </tr>\n",
       "    <tr>\n",
       "      <th>1</th>\n",
       "      <td>Action</td>\n",
       "      <td>52.80</td>\n",
       "    </tr>\n",
       "    <tr>\n",
       "      <th>2</th>\n",
       "      <td>Misc</td>\n",
       "      <td>12.86</td>\n",
       "    </tr>\n",
       "    <tr>\n",
       "      <th>3</th>\n",
       "      <td>Simulation</td>\n",
       "      <td>10.41</td>\n",
       "    </tr>\n",
       "    <tr>\n",
       "      <th>4</th>\n",
       "      <td>Fighting</td>\n",
       "      <td>9.44</td>\n",
       "    </tr>\n",
       "  </tbody>\n",
       "</table>\n",
       "</div>"
      ],
      "text/plain": [
       "          genre  jp_sales\n",
       "0  Role-Playing     65.44\n",
       "1        Action     52.80\n",
       "2          Misc     12.86\n",
       "3    Simulation     10.41\n",
       "4      Fighting      9.44"
      ]
     },
     "execution_count": 83,
     "metadata": {},
     "output_type": "execute_result"
    }
   ],
   "source": [
    "jp_genre=df3.groupby('genre',as_index=False).agg({'jp_sales':'sum'})\\\n",
    ".sort_values(by='jp_sales',ascending=False)\\\n",
    ".reset_index(drop=True)\n",
    "jp_genre.head()"
   ]
  },
  {
   "cell_type": "code",
   "execution_count": 84,
   "metadata": {},
   "outputs": [
    {
     "data": {
      "text/html": [
       "<div>\n",
       "<style scoped>\n",
       "    .dataframe tbody tr th:only-of-type {\n",
       "        vertical-align: middle;\n",
       "    }\n",
       "\n",
       "    .dataframe tbody tr th {\n",
       "        vertical-align: top;\n",
       "    }\n",
       "\n",
       "    .dataframe thead th {\n",
       "        text-align: right;\n",
       "    }\n",
       "</style>\n",
       "<table border=\"1\" class=\"dataframe\">\n",
       "  <thead>\n",
       "    <tr style=\"text-align: right;\">\n",
       "      <th></th>\n",
       "      <th>genre</th>\n",
       "      <th>jp_sales</th>\n",
       "    </tr>\n",
       "  </thead>\n",
       "  <tbody>\n",
       "    <tr>\n",
       "      <th>0</th>\n",
       "      <td>Role-Playing</td>\n",
       "      <td>65.44</td>\n",
       "    </tr>\n",
       "    <tr>\n",
       "      <th>1</th>\n",
       "      <td>Action</td>\n",
       "      <td>52.80</td>\n",
       "    </tr>\n",
       "    <tr>\n",
       "      <th>2</th>\n",
       "      <td>Misc</td>\n",
       "      <td>12.86</td>\n",
       "    </tr>\n",
       "    <tr>\n",
       "      <th>3</th>\n",
       "      <td>Simulation</td>\n",
       "      <td>10.41</td>\n",
       "    </tr>\n",
       "    <tr>\n",
       "      <th>4</th>\n",
       "      <td>Fighting</td>\n",
       "      <td>9.44</td>\n",
       "    </tr>\n",
       "  </tbody>\n",
       "</table>\n",
       "</div>"
      ],
      "text/plain": [
       "          genre  jp_sales\n",
       "0  Role-Playing     65.44\n",
       "1        Action     52.80\n",
       "2          Misc     12.86\n",
       "3    Simulation     10.41\n",
       "4      Fighting      9.44"
      ]
     },
     "execution_count": 84,
     "metadata": {},
     "output_type": "execute_result"
    }
   ],
   "source": [
    "jp_genre=jp_genre.query('genre in [\"Action\",\"Misc\",\"Simulation\",\"Role-Playing\",\"Fighting\"]')\n",
    "jp_genre"
   ]
  },
  {
   "cell_type": "code",
   "execution_count": 85,
   "metadata": {},
   "outputs": [
    {
     "data": {
      "text/plain": [
       "Text(0.5, 1.0, 'Топ 5 жанров Япония')"
      ]
     },
     "execution_count": 85,
     "metadata": {},
     "output_type": "execute_result"
    },
    {
     "data": {
      "image/png": "[encoded data removed]",
      "text/plain": [
       "<Figure size 432x288 with 1 Axes>"
      ]
     },
     "metadata": {},
     "output_type": "display_data"
    }
   ],
   "source": [
    "jp_genre.plot(kind='pie', y='jp_sales', labels=jp_genre['genre'],radius=1,legend=False)\n",
    "plt.title('Топ 5 жанров Япония')"
   ]
  },
  {
   "cell_type": "markdown",
   "metadata": {},
   "source": [
    "Данные по топ 5 жанрам в Японии координально отличаются от Северной Америки и Европы.\n",
    "В лидерах здесь Role-Playing, котороый даже не вошел в топ Северной Америки и Европы.\n",
    "Также недалеко от него жанр Action. Остальные жанры значительно отстают.\n",
    "У азиатов свои вкусы как говорится)"
   ]
  },
  {
   "cell_type": "code",
   "execution_count": 86,
   "metadata": {},
   "outputs": [
    {
     "data": {
      "text/html": [
       "<div>\n",
       "<style scoped>\n",
       "    .dataframe tbody tr th:only-of-type {\n",
       "        vertical-align: middle;\n",
       "    }\n",
       "\n",
       "    .dataframe tbody tr th {\n",
       "        vertical-align: top;\n",
       "    }\n",
       "\n",
       "    .dataframe thead th {\n",
       "        text-align: right;\n",
       "    }\n",
       "</style>\n",
       "<table border=\"1\" class=\"dataframe\">\n",
       "  <thead>\n",
       "    <tr style=\"text-align: right;\">\n",
       "      <th></th>\n",
       "      <th>rating</th>\n",
       "      <th>jp_sales</th>\n",
       "    </tr>\n",
       "  </thead>\n",
       "  <tbody>\n",
       "    <tr>\n",
       "      <th>0</th>\n",
       "      <td>Unknown</td>\n",
       "      <td>0.085365</td>\n",
       "    </tr>\n",
       "    <tr>\n",
       "      <th>1</th>\n",
       "      <td>E</td>\n",
       "      <td>0.071722</td>\n",
       "    </tr>\n",
       "    <tr>\n",
       "      <th>2</th>\n",
       "      <td>T</td>\n",
       "      <td>0.063155</td>\n",
       "    </tr>\n",
       "    <tr>\n",
       "      <th>3</th>\n",
       "      <td>M</td>\n",
       "      <td>0.042570</td>\n",
       "    </tr>\n",
       "    <tr>\n",
       "      <th>4</th>\n",
       "      <td>E10+</td>\n",
       "      <td>0.026765</td>\n",
       "    </tr>\n",
       "  </tbody>\n",
       "</table>\n",
       "</div>"
      ],
      "text/plain": [
       "    rating  jp_sales\n",
       "0  Unknown  0.085365\n",
       "1        E  0.071722\n",
       "2        T  0.063155\n",
       "3        M  0.042570\n",
       "4     E10+  0.026765"
      ]
     },
     "execution_count": 86,
     "metadata": {},
     "output_type": "execute_result"
    }
   ],
   "source": [
    "jp_rating=df3.groupby('rating',as_index=False).agg({'jp_sales':'mean'})\\\n",
    ".sort_values(by='jp_sales',ascending=False)\\\n",
    ".reset_index(drop=True)\n",
    "jp_rating"
   ]
  },
  {
   "cell_type": "code",
   "execution_count": 87,
   "metadata": {},
   "outputs": [
    {
     "data": {
      "text/html": [
       "<div>\n",
       "<style scoped>\n",
       "    .dataframe tbody tr th:only-of-type {\n",
       "        vertical-align: middle;\n",
       "    }\n",
       "\n",
       "    .dataframe tbody tr th {\n",
       "        vertical-align: top;\n",
       "    }\n",
       "\n",
       "    .dataframe thead th {\n",
       "        text-align: right;\n",
       "    }\n",
       "</style>\n",
       "<table border=\"1\" class=\"dataframe\">\n",
       "  <thead>\n",
       "    <tr style=\"text-align: right;\">\n",
       "      <th></th>\n",
       "      <th>rating</th>\n",
       "      <th>jp_sales</th>\n",
       "    </tr>\n",
       "  </thead>\n",
       "  <tbody>\n",
       "    <tr>\n",
       "      <th>0</th>\n",
       "      <td>Unknown</td>\n",
       "      <td>108.84</td>\n",
       "    </tr>\n",
       "    <tr>\n",
       "      <th>1</th>\n",
       "      <td>E</td>\n",
       "      <td>28.33</td>\n",
       "    </tr>\n",
       "    <tr>\n",
       "      <th>2</th>\n",
       "      <td>T</td>\n",
       "      <td>26.02</td>\n",
       "    </tr>\n",
       "    <tr>\n",
       "      <th>3</th>\n",
       "      <td>M</td>\n",
       "      <td>21.20</td>\n",
       "    </tr>\n",
       "    <tr>\n",
       "      <th>4</th>\n",
       "      <td>E10+</td>\n",
       "      <td>8.19</td>\n",
       "    </tr>\n",
       "  </tbody>\n",
       "</table>\n",
       "</div>"
      ],
      "text/plain": [
       "    rating  jp_sales\n",
       "0  Unknown    108.84\n",
       "1        E     28.33\n",
       "2        T     26.02\n",
       "3        M     21.20\n",
       "4     E10+      8.19"
      ]
     },
     "execution_count": 87,
     "metadata": {},
     "output_type": "execute_result"
    }
   ],
   "source": [
    "jp_rating=df3.groupby('rating',as_index=False).agg({'jp_sales':'sum'})\\\n",
    ".sort_values(by='jp_sales',ascending=False)\\\n",
    ".reset_index(drop=True)\n",
    "jp_rating"
   ]
  },
  {
   "cell_type": "markdown",
   "metadata": {},
   "source": [
    "Средние продажи в Японии выше при рейтинге E- все пользователи и T- подростки и сумма продаж при данных\n",
    "рейтингах. Однако у нас большой объем данных с пропущенным рейтингом Unknown.\n",
    "А как мы знаем лидер по жанрам в Японии это Roll-Playing и скорее всего он имеет рейтинг для \n",
    "взрослой возрастной категории. Можем предположить что рейтинг у них не указан.Проверим это"
   ]
  },
  {
   "cell_type": "code",
   "execution_count": 88,
   "metadata": {},
   "outputs": [],
   "source": [
    "df_role_playing=df.query('genre==\"Role-Playing\" ') #сделаем срез для \"Role-Playing\""
   ]
  },
  {
   "cell_type": "code",
   "execution_count": 89,
   "metadata": {},
   "outputs": [
    {
     "data": {
      "text/plain": [
       "Unknown    711\n",
       "T          415\n",
       "M          161\n",
       "E10+       111\n",
       "E           83\n",
       "Name: rating, dtype: int64"
      ]
     },
     "execution_count": 89,
     "metadata": {},
     "output_type": "execute_result"
    }
   ],
   "source": [
    "df_role_playing.rating.value_counts() # и посчитаем количество уникальных значений рейтинга для \"Role-Playing\""
   ]
  },
  {
   "cell_type": "markdown",
   "metadata": {},
   "source": [
    "Да мы в этом убедились что для жанра \"Role-Playing\" больше половина оценок рейтинга  ESRB это пропуски\n",
    "и скорее всего в Японии будут лидировать продажи с рейтингом М- взрослые, так как жанр \"Role-Playing\"\n",
    "больше подходит для этого рейтинга"
   ]
  },
  {
   "cell_type": "markdown",
   "metadata": {},
   "source": []
  },
  {
   "cell_type": "markdown",
   "metadata": {},
   "source": [
    "Шаг 5. Проверьте гипотезы"
   ]
  },
  {
   "cell_type": "markdown",
   "metadata": {},
   "source": [
    "H_0: Пользовательские рейтинги (user_score) жанра \"Action\" = Пользовательские рейтинги (user_score) жанра \"Sports\"`\n",
    "\n",
    "H_a: Пользовательские рейтинги (user_score) жанра \"Action\" ≠ Пользовательские рейтинги (user_score) жанра \"Sports\"\n",
    "\n",
    "alpha = 0.05"
   ]
  },
  {
   "cell_type": "code",
   "execution_count": 90,
   "metadata": {},
   "outputs": [
    {
     "data": {
      "text/plain": [
       "name               0\n",
       "platform           0\n",
       "year_of_release    0\n",
       "genre              0\n",
       "na_sales           0\n",
       "eu_sales           0\n",
       "jp_sales           0\n",
       "other_sales        0\n",
       "critic_score       0\n",
       "user_score         0\n",
       "rating             0\n",
       "total_sales        0\n",
       "dtype: int64"
      ]
     },
     "execution_count": 90,
     "metadata": {},
     "output_type": "execute_result"
    }
   ],
   "source": [
    "df_test=df3.dropna()\n",
    "df_test.isna().sum() #уберем пропуски в срезе для проведения теста"
   ]
  },
  {
   "cell_type": "code",
   "execution_count": 91,
   "metadata": {},
   "outputs": [
    {
     "name": "stdout",
     "output_type": "stream",
     "text": [
      "p-value 5.858072645452818e-14\n",
      "5.858072645452818e-14 Отвергаем нулевую гипотезу\n"
     ]
    }
   ],
   "source": [
    "action= df_test[df_test['genre'] =='Action']['user_score']\n",
    "sports = df_test[df_test['genre'] == 'Sports']['user_score'] \n",
    "\n",
    "results=st.ttest_ind(action, sports, equal_var=False)\n",
    "alpha = 0.05\n",
    "print('p-value', results.pvalue)\n",
    "if results.pvalue < alpha:\n",
    "    print(results.pvalue,'Отвергаем нулевую гипотезу')\n",
    "else:\n",
    "    print(results.pvalue, 'Не получилось отвергнуть нулевую гипотезу')"
   ]
  },
  {
   "cell_type": "markdown",
   "metadata": {},
   "source": [
    "p-value очень маленький, даже при alpha = 0.01 мы отвергаем нулевую гипотезу"
   ]
  },
  {
   "cell_type": "markdown",
   "metadata": {},
   "source": [
    " "
   ]
  },
  {
   "cell_type": "markdown",
   "metadata": {},
   "source": [
    "H_0: Пользовательские рейтинги (user_score) платформы \"Xbox One\" = Пользовательские рейтинги (user_score) платформы \"PC\"`\n",
    "\n",
    "H_a: Пользовательские рейтинги (user_score) платформы \"Xbox One\" ≠ Пользовательские рейтинги (user_score) платформы \"PC\"\n",
    "\n",
    "alpha = 0.05"
   ]
  },
  {
   "cell_type": "code",
   "execution_count": 92,
   "metadata": {},
   "outputs": [
    {
     "name": "stdout",
     "output_type": "stream",
     "text": [
      "p-value 0.5926561176517491\n",
      "0.5926561176517491 Не получилось отвергнуть нулевую гипотезу\n"
     ]
    }
   ],
   "source": [
    "xbox_one= df_test[df_test['platform'] =='XOne']['user_score']\n",
    "pc = df_test[df_test['platform'] == 'PC']['user_score'] \n",
    "\n",
    "results=st.ttest_ind(xbox_one, pc, equal_var=False)\n",
    "alpha = 0.05\n",
    "print('p-value', results.pvalue)\n",
    "if results.pvalue < alpha:\n",
    "    print(results.pvalue,'Отвергаем нулевую гипотезу')\n",
    "else:\n",
    "    print(results.pvalue, 'Не получилось отвергнуть нулевую гипотезу')"
   ]
  },
  {
   "cell_type": "markdown",
   "metadata": {},
   "source": [
    "Значит гипотезу то что пользовательские рейтинги (user_score) платформы \"Xbox One\" = пользовательские рейтинги (user_score) платформы \"PC\"` не получилось отвергнуть"
   ]
  },
  {
   "cell_type": "markdown",
   "metadata": {},
   "source": []
  },
  {
   "cell_type": "markdown",
   "metadata": {},
   "source": [
    "Общий вывод:"
   ]
  },
  {
   "cell_type": "markdown",
   "metadata": {},
   "source": [
    "Рассмотрел количество выпускаемых игр от года и выяснилось что начиная с 2012 года резкий спад наблюдается,а\n",
    "с 2012 по 2016 года картина примерно одинаковая, поэтому эти годы брал во внимания.В эти годы по продажам выделялось 5 топовых платформ, но наиболее стабильные, без отрицательной динамики это платформы PS4,3DS и XOne.\n",
    "Также выяснилось, что оценки пользователей и критиков никак напрямую не влияют на продажи,коэффициент корреляции Пуассона очень\n",
    "маленький. Если рассматривать каждый регион по отдельности то данные по Европе и Северной Америки более менее похожи, это касается и топ платформ и топ предпочитаемых жанров, в основном это аркады и шутеры. В Японии доминируют же другие платформы\n",
    "и жанры, платформа 3DS и жанр Roll-playing. У азиатов свои вкусы.Рейтинг ESRB на продажи в отдельном регионе на прямую никак не влияет, но различия по регионам присутствуют. Также были проверены две гипотезы. Первая то что пользовательские рейтинги (user_score) жанра \"Action\" = пользовательские рейтинги (user_score) жанра \"Sports\"`была отвергнута, а гипотезу\n",
    "пользовательские рейтинги (user_score) платформы \"Xbox One\" = пользовательские рейтинги (user_score) платформы \"PC\"` не получилось отвергнуть.\n"
   ]
  },
  {
   "cell_type": "code",
   "execution_count": null,
   "metadata": {},
   "outputs": [],
   "source": []
  }
 ],
 "metadata": {
  "ExecuteTimeLog": [
   {
    "duration": 1435,
    "start_time": "2023-03-13T09:43:27.746Z"
   },
   {
    "duration": 201,
    "start_time": "2023-03-13T09:44:46.755Z"
   },
   {
    "duration": 16,
    "start_time": "2023-03-13T09:44:50.959Z"
   },
   {
    "duration": 55,
    "start_time": "2023-03-13T09:45:24.268Z"
   },
   {
    "duration": 37,
    "start_time": "2023-03-13T09:45:25.905Z"
   },
   {
    "duration": 5,
    "start_time": "2023-03-13T09:45:54.819Z"
   },
   {
    "duration": 19,
    "start_time": "2023-03-13T09:48:24.345Z"
   },
   {
    "duration": 19,
    "start_time": "2023-03-13T09:52:59.328Z"
   },
   {
    "duration": 5,
    "start_time": "2023-03-13T09:53:33.497Z"
   },
   {
    "duration": 6,
    "start_time": "2023-03-13T09:54:34.578Z"
   },
   {
    "duration": 23,
    "start_time": "2023-03-13T09:54:40.035Z"
   },
   {
    "duration": 39,
    "start_time": "2023-03-13T09:55:25.518Z"
   },
   {
    "duration": 9,
    "start_time": "2023-03-13T09:55:37.384Z"
   },
   {
    "duration": 10,
    "start_time": "2023-03-13T09:56:37.266Z"
   },
   {
    "duration": 9,
    "start_time": "2023-03-13T09:56:48.355Z"
   },
   {
    "duration": 2,
    "start_time": "2023-03-13T09:59:55.672Z"
   },
   {
    "duration": 52,
    "start_time": "2023-03-13T09:59:55.862Z"
   },
   {
    "duration": 26,
    "start_time": "2023-03-13T09:59:56.302Z"
   },
   {
    "duration": 10,
    "start_time": "2023-03-13T09:59:58.728Z"
   },
   {
    "duration": 15,
    "start_time": "2023-03-13T10:00:02.514Z"
   },
   {
    "duration": 10,
    "start_time": "2023-03-13T10:00:07.801Z"
   },
   {
    "duration": 3,
    "start_time": "2023-03-13T10:00:49.058Z"
   },
   {
    "duration": 4,
    "start_time": "2023-03-13T10:00:52.947Z"
   },
   {
    "duration": 14,
    "start_time": "2023-03-13T10:00:54.073Z"
   },
   {
    "duration": 10,
    "start_time": "2023-03-13T10:00:55.747Z"
   },
   {
    "duration": 3,
    "start_time": "2023-03-13T10:03:24.492Z"
   },
   {
    "duration": 4,
    "start_time": "2023-03-13T10:03:30.277Z"
   },
   {
    "duration": 103,
    "start_time": "2023-03-13T10:05:36.044Z"
   },
   {
    "duration": 5,
    "start_time": "2023-03-13T10:05:36.558Z"
   },
   {
    "duration": 10,
    "start_time": "2023-03-13T10:06:40.094Z"
   },
   {
    "duration": 11,
    "start_time": "2023-03-13T10:07:15.708Z"
   },
   {
    "duration": 9,
    "start_time": "2023-03-13T10:09:48.546Z"
   },
   {
    "duration": 9,
    "start_time": "2023-03-13T10:10:05.308Z"
   },
   {
    "duration": 4,
    "start_time": "2023-03-13T10:10:17.036Z"
   },
   {
    "duration": 4,
    "start_time": "2023-03-13T10:12:13.803Z"
   },
   {
    "duration": 12,
    "start_time": "2023-03-13T10:12:26.656Z"
   },
   {
    "duration": 11,
    "start_time": "2023-03-13T10:12:37.373Z"
   },
   {
    "duration": 3,
    "start_time": "2023-03-13T10:12:52.841Z"
   },
   {
    "duration": 68,
    "start_time": "2023-03-13T10:12:53.771Z"
   },
   {
    "duration": 21,
    "start_time": "2023-03-13T10:12:54.520Z"
   },
   {
    "duration": 3,
    "start_time": "2023-03-13T10:12:57.394Z"
   },
   {
    "duration": 14,
    "start_time": "2023-03-13T10:12:57.863Z"
   },
   {
    "duration": 9,
    "start_time": "2023-03-13T10:12:59.699Z"
   },
   {
    "duration": 22,
    "start_time": "2023-03-13T10:13:07.563Z"
   },
   {
    "duration": 9,
    "start_time": "2023-03-13T10:14:05.064Z"
   },
   {
    "duration": 8,
    "start_time": "2023-03-13T10:14:15.659Z"
   },
   {
    "duration": 25,
    "start_time": "2023-03-13T10:16:06.665Z"
   },
   {
    "duration": 5,
    "start_time": "2023-03-13T10:17:23.331Z"
   },
   {
    "duration": 7,
    "start_time": "2023-03-13T10:17:49.631Z"
   },
   {
    "duration": 5,
    "start_time": "2023-03-13T10:22:55.910Z"
   },
   {
    "duration": 7,
    "start_time": "2023-03-13T10:28:03.076Z"
   },
   {
    "duration": 12,
    "start_time": "2023-03-13T10:56:23.235Z"
   },
   {
    "duration": 11,
    "start_time": "2023-03-13T10:57:30.936Z"
   },
   {
    "duration": 3,
    "start_time": "2023-03-13T10:58:03.514Z"
   },
   {
    "duration": 692,
    "start_time": "2023-03-13T10:58:08.306Z"
   },
   {
    "duration": 12,
    "start_time": "2023-03-13T10:59:09.247Z"
   },
   {
    "duration": 564,
    "start_time": "2023-03-13T10:59:21.407Z"
   },
   {
    "duration": 4,
    "start_time": "2023-03-13T10:59:32.284Z"
   },
   {
    "duration": 50,
    "start_time": "2023-03-13T10:59:32.454Z"
   },
   {
    "duration": 19,
    "start_time": "2023-03-13T10:59:32.641Z"
   },
   {
    "duration": 3,
    "start_time": "2023-03-13T10:59:33.018Z"
   },
   {
    "duration": 14,
    "start_time": "2023-03-13T10:59:33.203Z"
   },
   {
    "duration": 10,
    "start_time": "2023-03-13T10:59:34.240Z"
   },
   {
    "duration": 22,
    "start_time": "2023-03-13T10:59:39.493Z"
   },
   {
    "duration": 6,
    "start_time": "2023-03-13T11:00:06.914Z"
   },
   {
    "duration": 4,
    "start_time": "2023-03-13T11:00:26.693Z"
   },
   {
    "duration": 535,
    "start_time": "2023-03-13T11:00:26.995Z"
   },
   {
    "duration": 110,
    "start_time": "2023-03-13T11:00:27.532Z"
   },
   {
    "duration": 4,
    "start_time": "2023-03-13T11:00:28.698Z"
   },
   {
    "duration": 14,
    "start_time": "2023-03-13T11:00:29.698Z"
   },
   {
    "duration": 11,
    "start_time": "2023-03-13T11:00:31.499Z"
   },
   {
    "duration": 23,
    "start_time": "2023-03-13T11:00:40.326Z"
   },
   {
    "duration": 6,
    "start_time": "2023-03-13T11:00:42.058Z"
   },
   {
    "duration": 11,
    "start_time": "2023-03-13T11:00:46.023Z"
   },
   {
    "duration": 1121,
    "start_time": "2023-03-13T11:01:13.632Z"
   },
   {
    "duration": 53,
    "start_time": "2023-03-13T11:01:14.755Z"
   },
   {
    "duration": 25,
    "start_time": "2023-03-13T11:01:14.810Z"
   },
   {
    "duration": 3,
    "start_time": "2023-03-13T11:01:14.837Z"
   },
   {
    "duration": 18,
    "start_time": "2023-03-13T11:01:14.842Z"
   },
   {
    "duration": 16,
    "start_time": "2023-03-13T11:01:14.861Z"
   },
   {
    "duration": 22,
    "start_time": "2023-03-13T11:01:14.878Z"
   },
   {
    "duration": 6,
    "start_time": "2023-03-13T11:01:14.902Z"
   },
   {
    "duration": 21,
    "start_time": "2023-03-13T11:26:34.393Z"
   },
   {
    "duration": 114,
    "start_time": "2023-03-13T11:27:25.682Z"
   },
   {
    "duration": 7,
    "start_time": "2023-03-13T11:27:52.698Z"
   },
   {
    "duration": 4,
    "start_time": "2023-03-13T11:28:14.469Z"
   },
   {
    "duration": 600,
    "start_time": "2023-03-13T11:28:21.353Z"
   },
   {
    "duration": 783,
    "start_time": "2023-03-13T11:28:49.642Z"
   },
   {
    "duration": 769,
    "start_time": "2023-03-13T11:29:01.892Z"
   },
   {
    "duration": 585,
    "start_time": "2023-03-13T11:29:21.980Z"
   },
   {
    "duration": 1139,
    "start_time": "2023-03-13T11:29:34.513Z"
   },
   {
    "duration": 52,
    "start_time": "2023-03-13T11:29:35.654Z"
   },
   {
    "duration": 27,
    "start_time": "2023-03-13T11:29:35.708Z"
   },
   {
    "duration": 14,
    "start_time": "2023-03-13T11:29:35.738Z"
   },
   {
    "duration": 18,
    "start_time": "2023-03-13T11:29:35.754Z"
   },
   {
    "duration": 10,
    "start_time": "2023-03-13T11:29:35.774Z"
   },
   {
    "duration": 21,
    "start_time": "2023-03-13T11:29:35.786Z"
   },
   {
    "duration": 138,
    "start_time": "2023-03-13T11:29:35.808Z"
   },
   {
    "duration": 10,
    "start_time": "2023-03-13T11:31:18.596Z"
   },
   {
    "duration": 27,
    "start_time": "2023-03-13T11:31:29.124Z"
   },
   {
    "duration": 14,
    "start_time": "2023-03-13T11:32:06.602Z"
   },
   {
    "duration": 9,
    "start_time": "2023-03-13T11:32:36.260Z"
   },
   {
    "duration": 9,
    "start_time": "2023-03-13T11:32:52.321Z"
   },
   {
    "duration": 11,
    "start_time": "2023-03-13T11:40:52.233Z"
   },
   {
    "duration": 13,
    "start_time": "2023-03-13T11:41:02.666Z"
   },
   {
    "duration": 28,
    "start_time": "2023-03-13T11:42:27.995Z"
   },
   {
    "duration": 10,
    "start_time": "2023-03-13T11:44:33.114Z"
   },
   {
    "duration": 11,
    "start_time": "2023-03-13T11:48:47.315Z"
   },
   {
    "duration": 9,
    "start_time": "2023-03-13T11:49:21.438Z"
   },
   {
    "duration": 10,
    "start_time": "2023-03-13T11:50:46.505Z"
   },
   {
    "duration": 16,
    "start_time": "2023-03-13T11:59:57.874Z"
   },
   {
    "duration": 49,
    "start_time": "2023-03-13T12:00:47.776Z"
   },
   {
    "duration": 23,
    "start_time": "2023-03-13T12:01:16.414Z"
   },
   {
    "duration": 8,
    "start_time": "2023-03-13T12:09:53.298Z"
   },
   {
    "duration": 9,
    "start_time": "2023-03-13T12:09:54.292Z"
   },
   {
    "duration": 12,
    "start_time": "2023-03-13T12:09:56.805Z"
   },
   {
    "duration": 9,
    "start_time": "2023-03-13T12:12:08.662Z"
   },
   {
    "duration": 18,
    "start_time": "2023-03-13T12:12:59.842Z"
   },
   {
    "duration": 17,
    "start_time": "2023-03-13T12:19:31.471Z"
   },
   {
    "duration": 18,
    "start_time": "2023-03-13T12:19:52.148Z"
   },
   {
    "duration": 17,
    "start_time": "2023-03-13T12:20:39.611Z"
   },
   {
    "duration": 21,
    "start_time": "2023-03-13T12:20:53.970Z"
   },
   {
    "duration": 5,
    "start_time": "2023-03-13T12:27:05.523Z"
   },
   {
    "duration": 5,
    "start_time": "2023-03-13T12:27:29.764Z"
   },
   {
    "duration": 599,
    "start_time": "2023-03-13T12:28:03.719Z"
   },
   {
    "duration": 5,
    "start_time": "2023-03-13T12:28:04.473Z"
   },
   {
    "duration": 6,
    "start_time": "2023-03-13T12:28:14.126Z"
   },
   {
    "duration": 899,
    "start_time": "2023-03-13T12:28:35.379Z"
   },
   {
    "duration": 1102,
    "start_time": "2023-03-13T12:28:43.827Z"
   },
   {
    "duration": 54,
    "start_time": "2023-03-13T12:28:44.931Z"
   },
   {
    "duration": 24,
    "start_time": "2023-03-13T12:28:44.987Z"
   },
   {
    "duration": 12,
    "start_time": "2023-03-13T12:28:45.013Z"
   },
   {
    "duration": 24,
    "start_time": "2023-03-13T12:28:45.027Z"
   },
   {
    "duration": 11,
    "start_time": "2023-03-13T12:28:45.053Z"
   },
   {
    "duration": 25,
    "start_time": "2023-03-13T12:28:45.066Z"
   },
   {
    "duration": 10,
    "start_time": "2023-03-13T12:28:45.093Z"
   },
   {
    "duration": 19,
    "start_time": "2023-03-13T12:28:45.105Z"
   },
   {
    "duration": 18,
    "start_time": "2023-03-13T12:28:45.131Z"
   },
   {
    "duration": 7,
    "start_time": "2023-03-13T12:28:45.150Z"
   },
   {
    "duration": 14,
    "start_time": "2023-03-13T12:28:45.158Z"
   },
   {
    "duration": 8,
    "start_time": "2023-03-13T12:29:28.402Z"
   },
   {
    "duration": 6,
    "start_time": "2023-03-13T12:29:47.269Z"
   },
   {
    "duration": 7,
    "start_time": "2023-03-13T12:56:35.940Z"
   },
   {
    "duration": 9,
    "start_time": "2023-03-13T12:56:37.486Z"
   },
   {
    "duration": 98,
    "start_time": "2023-03-13T12:57:30.818Z"
   },
   {
    "duration": 23,
    "start_time": "2023-03-13T12:57:45.257Z"
   },
   {
    "duration": 5,
    "start_time": "2023-03-13T12:58:17.730Z"
   },
   {
    "duration": 5,
    "start_time": "2023-03-13T12:58:23.700Z"
   },
   {
    "duration": 916,
    "start_time": "2023-03-13T12:58:50.207Z"
   },
   {
    "duration": 1732,
    "start_time": "2023-03-13T13:01:33.142Z"
   },
   {
    "duration": 0,
    "start_time": "2023-03-13T13:01:34.876Z"
   },
   {
    "duration": 6,
    "start_time": "2023-03-13T13:01:46.703Z"
   },
   {
    "duration": 1075,
    "start_time": "2023-03-13T13:02:01.185Z"
   },
   {
    "duration": 55,
    "start_time": "2023-03-13T13:02:02.262Z"
   },
   {
    "duration": 24,
    "start_time": "2023-03-13T13:02:02.319Z"
   },
   {
    "duration": 3,
    "start_time": "2023-03-13T13:02:02.346Z"
   },
   {
    "duration": 28,
    "start_time": "2023-03-13T13:02:02.351Z"
   },
   {
    "duration": 26,
    "start_time": "2023-03-13T13:02:02.380Z"
   },
   {
    "duration": 22,
    "start_time": "2023-03-13T13:02:02.408Z"
   },
   {
    "duration": 10,
    "start_time": "2023-03-13T13:02:02.432Z"
   },
   {
    "duration": 22,
    "start_time": "2023-03-13T13:02:02.443Z"
   },
   {
    "duration": 27,
    "start_time": "2023-03-13T13:02:02.467Z"
   },
   {
    "duration": 6,
    "start_time": "2023-03-13T13:02:02.496Z"
   },
   {
    "duration": 19,
    "start_time": "2023-03-13T13:02:02.504Z"
   },
   {
    "duration": 38,
    "start_time": "2023-03-13T13:02:02.525Z"
   },
   {
    "duration": 5,
    "start_time": "2023-03-13T13:32:58.628Z"
   },
   {
    "duration": 5,
    "start_time": "2023-03-13T13:33:16.705Z"
   },
   {
    "duration": 10,
    "start_time": "2023-03-13T13:33:24.265Z"
   },
   {
    "duration": 5,
    "start_time": "2023-03-13T13:33:37.102Z"
   },
   {
    "duration": 10,
    "start_time": "2023-03-13T13:33:37.940Z"
   },
   {
    "duration": 9,
    "start_time": "2023-03-13T13:33:46.101Z"
   },
   {
    "duration": 8,
    "start_time": "2023-03-13T13:36:55.200Z"
   },
   {
    "duration": 23,
    "start_time": "2023-03-13T13:37:27.670Z"
   },
   {
    "duration": 12,
    "start_time": "2023-03-13T13:38:57.014Z"
   },
   {
    "duration": 6,
    "start_time": "2023-03-13T13:39:36.216Z"
   },
   {
    "duration": 5,
    "start_time": "2023-03-13T13:40:34.111Z"
   },
   {
    "duration": 6,
    "start_time": "2023-03-13T13:41:12.663Z"
   },
   {
    "duration": 9,
    "start_time": "2023-03-13T13:41:32.501Z"
   },
   {
    "duration": 1214,
    "start_time": "2023-03-13T13:41:58.110Z"
   },
   {
    "duration": 51,
    "start_time": "2023-03-13T13:41:59.327Z"
   },
   {
    "duration": 22,
    "start_time": "2023-03-13T13:41:59.380Z"
   },
   {
    "duration": 4,
    "start_time": "2023-03-13T13:41:59.403Z"
   },
   {
    "duration": 27,
    "start_time": "2023-03-13T13:41:59.409Z"
   },
   {
    "duration": 9,
    "start_time": "2023-03-13T13:41:59.438Z"
   },
   {
    "duration": 22,
    "start_time": "2023-03-13T13:41:59.449Z"
   },
   {
    "duration": 9,
    "start_time": "2023-03-13T13:41:59.472Z"
   },
   {
    "duration": 11,
    "start_time": "2023-03-13T13:41:59.482Z"
   },
   {
    "duration": 40,
    "start_time": "2023-03-13T13:41:59.494Z"
   },
   {
    "duration": 8,
    "start_time": "2023-03-13T13:41:59.536Z"
   },
   {
    "duration": 18,
    "start_time": "2023-03-13T13:41:59.546Z"
   },
   {
    "duration": 22,
    "start_time": "2023-03-13T13:41:59.565Z"
   },
   {
    "duration": 6,
    "start_time": "2023-03-13T13:42:14.296Z"
   },
   {
    "duration": 118,
    "start_time": "2023-03-13T13:43:45.756Z"
   },
   {
    "duration": 13,
    "start_time": "2023-03-13T13:44:15.806Z"
   },
   {
    "duration": 9,
    "start_time": "2023-03-13T13:44:28.234Z"
   },
   {
    "duration": 1109,
    "start_time": "2023-03-13T13:45:40.327Z"
   },
   {
    "duration": 53,
    "start_time": "2023-03-13T13:45:41.438Z"
   },
   {
    "duration": 24,
    "start_time": "2023-03-13T13:45:41.493Z"
   },
   {
    "duration": 3,
    "start_time": "2023-03-13T13:45:41.519Z"
   },
   {
    "duration": 16,
    "start_time": "2023-03-13T13:45:41.523Z"
   },
   {
    "duration": 9,
    "start_time": "2023-03-13T13:45:41.540Z"
   },
   {
    "duration": 18,
    "start_time": "2023-03-13T13:45:41.551Z"
   },
   {
    "duration": 8,
    "start_time": "2023-03-13T13:45:41.570Z"
   },
   {
    "duration": 8,
    "start_time": "2023-03-13T13:45:41.580Z"
   },
   {
    "duration": 43,
    "start_time": "2023-03-13T13:45:41.590Z"
   },
   {
    "duration": 5,
    "start_time": "2023-03-13T13:45:41.634Z"
   },
   {
    "duration": 14,
    "start_time": "2023-03-13T13:45:41.641Z"
   },
   {
    "duration": 9,
    "start_time": "2023-03-13T13:47:33.045Z"
   },
   {
    "duration": 20,
    "start_time": "2023-03-13T13:50:33.805Z"
   },
   {
    "duration": 32,
    "start_time": "2023-03-13T13:50:48.644Z"
   },
   {
    "duration": 130,
    "start_time": "2023-03-13T13:55:47.909Z"
   },
   {
    "duration": 18,
    "start_time": "2023-03-13T13:56:13.937Z"
   },
   {
    "duration": 1176,
    "start_time": "2023-03-13T13:56:26.757Z"
   },
   {
    "duration": 53,
    "start_time": "2023-03-13T13:56:27.935Z"
   },
   {
    "duration": 24,
    "start_time": "2023-03-13T13:56:27.990Z"
   },
   {
    "duration": 9,
    "start_time": "2023-03-13T13:56:28.016Z"
   },
   {
    "duration": 28,
    "start_time": "2023-03-13T13:56:28.027Z"
   },
   {
    "duration": 14,
    "start_time": "2023-03-13T13:56:28.057Z"
   },
   {
    "duration": 30,
    "start_time": "2023-03-13T13:56:28.072Z"
   },
   {
    "duration": 10,
    "start_time": "2023-03-13T13:56:28.104Z"
   },
   {
    "duration": 28,
    "start_time": "2023-03-13T13:56:28.116Z"
   },
   {
    "duration": 18,
    "start_time": "2023-03-13T13:56:28.146Z"
   },
   {
    "duration": 4,
    "start_time": "2023-03-13T13:56:28.166Z"
   },
   {
    "duration": 15,
    "start_time": "2023-03-13T13:56:28.171Z"
   },
   {
    "duration": 112,
    "start_time": "2023-03-13T13:56:28.188Z"
   },
   {
    "duration": 15,
    "start_time": "2023-03-13T13:58:20.291Z"
   },
   {
    "duration": 14,
    "start_time": "2023-03-13T13:58:29.606Z"
   },
   {
    "duration": 1348,
    "start_time": "2023-03-13T13:58:55.568Z"
   },
   {
    "duration": 73,
    "start_time": "2023-03-13T13:58:56.918Z"
   },
   {
    "duration": 28,
    "start_time": "2023-03-13T13:58:56.994Z"
   },
   {
    "duration": 29,
    "start_time": "2023-03-13T13:58:57.025Z"
   },
   {
    "duration": 20,
    "start_time": "2023-03-13T13:58:57.057Z"
   },
   {
    "duration": 14,
    "start_time": "2023-03-13T13:58:57.079Z"
   },
   {
    "duration": 26,
    "start_time": "2023-03-13T13:58:57.095Z"
   },
   {
    "duration": 28,
    "start_time": "2023-03-13T13:58:57.123Z"
   },
   {
    "duration": 9,
    "start_time": "2023-03-13T13:58:57.154Z"
   },
   {
    "duration": 17,
    "start_time": "2023-03-13T13:58:57.165Z"
   },
   {
    "duration": 5,
    "start_time": "2023-03-13T13:58:57.183Z"
   },
   {
    "duration": 12,
    "start_time": "2023-03-13T13:58:57.190Z"
   },
   {
    "duration": 120,
    "start_time": "2023-03-13T14:00:39.659Z"
   },
   {
    "duration": 6,
    "start_time": "2023-03-13T14:03:25.473Z"
   },
   {
    "duration": 5,
    "start_time": "2023-03-13T14:11:52.582Z"
   },
   {
    "duration": 10,
    "start_time": "2023-03-13T14:12:14.021Z"
   },
   {
    "duration": 5,
    "start_time": "2023-03-13T14:12:37.495Z"
   },
   {
    "duration": 9,
    "start_time": "2023-03-13T14:15:47.051Z"
   },
   {
    "duration": 6,
    "start_time": "2023-03-13T14:16:15.270Z"
   },
   {
    "duration": 9,
    "start_time": "2023-03-13T14:16:19.888Z"
   },
   {
    "duration": 8,
    "start_time": "2023-03-13T14:17:14.561Z"
   },
   {
    "duration": 9,
    "start_time": "2023-03-13T14:17:16.050Z"
   },
   {
    "duration": 18,
    "start_time": "2023-03-13T14:17:31.354Z"
   },
   {
    "duration": 9,
    "start_time": "2023-03-13T14:17:34.525Z"
   },
   {
    "duration": 3,
    "start_time": "2023-03-13T14:20:37.898Z"
   },
   {
    "duration": 51,
    "start_time": "2023-03-13T14:20:38.893Z"
   },
   {
    "duration": 20,
    "start_time": "2023-03-13T14:20:39.109Z"
   },
   {
    "duration": 3,
    "start_time": "2023-03-13T14:20:39.807Z"
   },
   {
    "duration": 14,
    "start_time": "2023-03-13T14:20:40.295Z"
   },
   {
    "duration": 12,
    "start_time": "2023-03-13T14:20:41.740Z"
   },
   {
    "duration": 21,
    "start_time": "2023-03-13T14:20:44.042Z"
   },
   {
    "duration": 8,
    "start_time": "2023-03-13T14:20:47.592Z"
   },
   {
    "duration": 9,
    "start_time": "2023-03-13T14:20:49.893Z"
   },
   {
    "duration": 15,
    "start_time": "2023-03-13T14:20:50.924Z"
   },
   {
    "duration": 4,
    "start_time": "2023-03-13T14:20:55.955Z"
   },
   {
    "duration": 11,
    "start_time": "2023-03-13T14:21:03.045Z"
   },
   {
    "duration": 13,
    "start_time": "2023-03-13T14:21:26.860Z"
   },
   {
    "duration": 11,
    "start_time": "2023-03-13T14:21:45.846Z"
   },
   {
    "duration": 4,
    "start_time": "2023-03-13T14:22:28.851Z"
   },
   {
    "duration": 11,
    "start_time": "2023-03-13T14:23:37.575Z"
   },
   {
    "duration": 12,
    "start_time": "2023-03-13T14:23:38.935Z"
   },
   {
    "duration": 8,
    "start_time": "2023-03-13T14:23:58.318Z"
   },
   {
    "duration": 10,
    "start_time": "2023-03-13T14:23:58.962Z"
   },
   {
    "duration": 10,
    "start_time": "2023-03-13T14:24:29.111Z"
   },
   {
    "duration": 9,
    "start_time": "2023-03-13T14:34:52.518Z"
   },
   {
    "duration": 9,
    "start_time": "2023-03-13T14:34:53.056Z"
   },
   {
    "duration": 5,
    "start_time": "2023-03-13T14:44:09.840Z"
   },
   {
    "duration": 9,
    "start_time": "2023-03-13T14:44:29.295Z"
   },
   {
    "duration": 18,
    "start_time": "2023-03-13T14:44:47.256Z"
   },
   {
    "duration": 15,
    "start_time": "2023-03-13T14:45:00.889Z"
   },
   {
    "duration": 18,
    "start_time": "2023-03-13T14:45:13.250Z"
   },
   {
    "duration": 14,
    "start_time": "2023-03-13T14:45:36.909Z"
   },
   {
    "duration": 10,
    "start_time": "2023-03-13T14:46:47.429Z"
   },
   {
    "duration": 6,
    "start_time": "2023-03-13T14:47:00.428Z"
   },
   {
    "duration": 10,
    "start_time": "2023-03-13T14:48:49.522Z"
   },
   {
    "duration": 6,
    "start_time": "2023-03-13T14:49:04.478Z"
   },
   {
    "duration": 19,
    "start_time": "2023-03-13T14:49:59.458Z"
   },
   {
    "duration": 30,
    "start_time": "2023-03-13T14:50:14.716Z"
   },
   {
    "duration": 24,
    "start_time": "2023-03-13T14:50:39.522Z"
   },
   {
    "duration": 17,
    "start_time": "2023-03-13T14:51:34.025Z"
   },
   {
    "duration": 4,
    "start_time": "2023-03-13T14:52:59.061Z"
   },
   {
    "duration": 7,
    "start_time": "2023-03-13T15:04:51.796Z"
   },
   {
    "duration": 17,
    "start_time": "2023-03-13T15:05:04.311Z"
   },
   {
    "duration": 13,
    "start_time": "2023-03-13T15:06:04.406Z"
   },
   {
    "duration": 18,
    "start_time": "2023-03-13T15:06:12.446Z"
   },
   {
    "duration": 1176,
    "start_time": "2023-03-13T15:07:18.567Z"
   },
   {
    "duration": 54,
    "start_time": "2023-03-13T15:07:19.745Z"
   },
   {
    "duration": 26,
    "start_time": "2023-03-13T15:07:19.800Z"
   },
   {
    "duration": 4,
    "start_time": "2023-03-13T15:07:19.827Z"
   },
   {
    "duration": 26,
    "start_time": "2023-03-13T15:07:19.833Z"
   },
   {
    "duration": 14,
    "start_time": "2023-03-13T15:07:19.860Z"
   },
   {
    "duration": 32,
    "start_time": "2023-03-13T15:07:19.876Z"
   },
   {
    "duration": 30,
    "start_time": "2023-03-13T15:07:19.910Z"
   },
   {
    "duration": 14,
    "start_time": "2023-03-13T15:07:19.942Z"
   },
   {
    "duration": 26,
    "start_time": "2023-03-13T15:07:19.957Z"
   },
   {
    "duration": 5,
    "start_time": "2023-03-13T15:07:19.985Z"
   },
   {
    "duration": 17,
    "start_time": "2023-03-13T15:07:19.992Z"
   },
   {
    "duration": 35,
    "start_time": "2023-03-13T15:07:20.011Z"
   },
   {
    "duration": 14,
    "start_time": "2023-03-13T15:07:20.050Z"
   },
   {
    "duration": 21,
    "start_time": "2023-03-13T15:07:20.070Z"
   },
   {
    "duration": 6,
    "start_time": "2023-03-13T15:07:20.092Z"
   },
   {
    "duration": 32,
    "start_time": "2023-03-13T15:07:20.100Z"
   },
   {
    "duration": 14,
    "start_time": "2023-03-13T15:07:20.134Z"
   },
   {
    "duration": 12,
    "start_time": "2023-03-13T15:07:44.061Z"
   },
   {
    "duration": 14,
    "start_time": "2023-03-13T15:07:45.100Z"
   },
   {
    "duration": 9,
    "start_time": "2023-03-13T15:07:59.753Z"
   },
   {
    "duration": 20,
    "start_time": "2023-03-13T15:08:04.536Z"
   },
   {
    "duration": 287,
    "start_time": "2023-03-13T15:10:24.449Z"
   },
   {
    "duration": 9,
    "start_time": "2023-03-13T15:10:39.415Z"
   },
   {
    "duration": 9,
    "start_time": "2023-03-13T15:11:02.278Z"
   },
   {
    "duration": 23,
    "start_time": "2023-03-13T15:11:03.235Z"
   },
   {
    "duration": 1154,
    "start_time": "2023-03-13T15:11:20.262Z"
   },
   {
    "duration": 60,
    "start_time": "2023-03-13T15:11:21.419Z"
   },
   {
    "duration": 26,
    "start_time": "2023-03-13T15:11:21.481Z"
   },
   {
    "duration": 4,
    "start_time": "2023-03-13T15:11:21.509Z"
   },
   {
    "duration": 17,
    "start_time": "2023-03-13T15:11:21.516Z"
   },
   {
    "duration": 16,
    "start_time": "2023-03-13T15:11:21.535Z"
   },
   {
    "duration": 38,
    "start_time": "2023-03-13T15:11:21.552Z"
   },
   {
    "duration": 16,
    "start_time": "2023-03-13T15:11:21.592Z"
   },
   {
    "duration": 14,
    "start_time": "2023-03-13T15:11:21.611Z"
   },
   {
    "duration": 23,
    "start_time": "2023-03-13T15:11:21.627Z"
   },
   {
    "duration": 5,
    "start_time": "2023-03-13T15:11:21.651Z"
   },
   {
    "duration": 26,
    "start_time": "2023-03-13T15:11:21.658Z"
   },
   {
    "duration": 14,
    "start_time": "2023-03-13T15:11:21.685Z"
   },
   {
    "duration": 13,
    "start_time": "2023-03-13T15:11:21.701Z"
   },
   {
    "duration": 18,
    "start_time": "2023-03-13T15:11:21.716Z"
   },
   {
    "duration": 9,
    "start_time": "2023-03-13T15:11:21.736Z"
   },
   {
    "duration": 9,
    "start_time": "2023-03-13T15:11:21.747Z"
   },
   {
    "duration": 24,
    "start_time": "2023-03-13T15:11:21.758Z"
   },
   {
    "duration": 5,
    "start_time": "2023-03-13T15:12:07.435Z"
   },
   {
    "duration": 9,
    "start_time": "2023-03-13T15:23:11.964Z"
   },
   {
    "duration": 10,
    "start_time": "2023-03-13T15:23:12.808Z"
   },
   {
    "duration": 14,
    "start_time": "2023-03-13T15:23:20.208Z"
   },
   {
    "duration": 3,
    "start_time": "2023-03-13T15:23:21.655Z"
   },
   {
    "duration": 9,
    "start_time": "2023-03-13T15:23:23.210Z"
   },
   {
    "duration": 13,
    "start_time": "2023-03-13T15:23:24.559Z"
   },
   {
    "duration": 9,
    "start_time": "2023-03-13T15:26:24.536Z"
   },
   {
    "duration": 18,
    "start_time": "2023-03-13T15:26:25.999Z"
   },
   {
    "duration": 13,
    "start_time": "2023-03-13T15:26:59.799Z"
   },
   {
    "duration": 9,
    "start_time": "2023-03-13T15:27:27.790Z"
   },
   {
    "duration": 1230,
    "start_time": "2023-03-13T15:28:00.528Z"
   },
   {
    "duration": 53,
    "start_time": "2023-03-13T15:28:01.761Z"
   },
   {
    "duration": 24,
    "start_time": "2023-03-13T15:28:01.816Z"
   },
   {
    "duration": 25,
    "start_time": "2023-03-13T15:28:01.843Z"
   },
   {
    "duration": 52,
    "start_time": "2023-03-13T15:28:01.870Z"
   },
   {
    "duration": 38,
    "start_time": "2023-03-13T15:28:01.923Z"
   },
   {
    "duration": 51,
    "start_time": "2023-03-13T15:28:01.962Z"
   },
   {
    "duration": 28,
    "start_time": "2023-03-13T15:28:02.015Z"
   },
   {
    "duration": 30,
    "start_time": "2023-03-13T15:28:02.045Z"
   },
   {
    "duration": 79,
    "start_time": "2023-03-13T15:28:02.078Z"
   },
   {
    "duration": 21,
    "start_time": "2023-03-13T15:28:02.159Z"
   },
   {
    "duration": 36,
    "start_time": "2023-03-13T15:28:02.182Z"
   },
   {
    "duration": 43,
    "start_time": "2023-03-13T15:28:02.220Z"
   },
   {
    "duration": 40,
    "start_time": "2023-03-13T15:28:02.264Z"
   },
   {
    "duration": 81,
    "start_time": "2023-03-13T15:28:02.306Z"
   },
   {
    "duration": 42,
    "start_time": "2023-03-13T15:28:02.388Z"
   },
   {
    "duration": 57,
    "start_time": "2023-03-13T15:28:02.432Z"
   },
   {
    "duration": 41,
    "start_time": "2023-03-13T15:28:02.491Z"
   },
   {
    "duration": 40,
    "start_time": "2023-03-13T15:28:02.534Z"
   },
   {
    "duration": 25,
    "start_time": "2023-03-13T15:28:02.576Z"
   },
   {
    "duration": 23,
    "start_time": "2023-03-13T15:28:02.603Z"
   },
   {
    "duration": 7,
    "start_time": "2023-03-13T15:55:28.348Z"
   },
   {
    "duration": 9,
    "start_time": "2023-03-13T15:55:41.278Z"
   },
   {
    "duration": 8,
    "start_time": "2023-03-13T15:55:44.994Z"
   },
   {
    "duration": 10,
    "start_time": "2023-03-13T15:55:47.479Z"
   },
   {
    "duration": 17,
    "start_time": "2023-03-13T15:56:52.819Z"
   },
   {
    "duration": 9,
    "start_time": "2023-03-13T15:56:54.118Z"
   },
   {
    "duration": 1135,
    "start_time": "2023-03-13T15:57:09.231Z"
   },
   {
    "duration": 53,
    "start_time": "2023-03-13T15:57:10.368Z"
   },
   {
    "duration": 24,
    "start_time": "2023-03-13T15:57:10.423Z"
   },
   {
    "duration": 5,
    "start_time": "2023-03-13T15:57:10.449Z"
   },
   {
    "duration": 20,
    "start_time": "2023-03-13T15:57:10.456Z"
   },
   {
    "duration": 15,
    "start_time": "2023-03-13T15:57:10.478Z"
   },
   {
    "duration": 22,
    "start_time": "2023-03-13T15:57:10.495Z"
   },
   {
    "duration": 15,
    "start_time": "2023-03-13T15:57:10.518Z"
   },
   {
    "duration": 9,
    "start_time": "2023-03-13T15:57:10.535Z"
   },
   {
    "duration": 30,
    "start_time": "2023-03-13T15:57:10.546Z"
   },
   {
    "duration": 14,
    "start_time": "2023-03-13T15:57:10.577Z"
   },
   {
    "duration": 23,
    "start_time": "2023-03-13T15:57:10.592Z"
   },
   {
    "duration": 22,
    "start_time": "2023-03-13T15:57:10.617Z"
   },
   {
    "duration": 34,
    "start_time": "2023-03-13T15:57:10.642Z"
   },
   {
    "duration": 18,
    "start_time": "2023-03-13T15:57:10.677Z"
   },
   {
    "duration": 12,
    "start_time": "2023-03-13T15:57:10.697Z"
   },
   {
    "duration": 13,
    "start_time": "2023-03-13T15:57:10.710Z"
   },
   {
    "duration": 26,
    "start_time": "2023-03-13T15:57:10.724Z"
   },
   {
    "duration": 9,
    "start_time": "2023-03-13T15:57:10.752Z"
   },
   {
    "duration": 7,
    "start_time": "2023-03-13T15:58:10.121Z"
   },
   {
    "duration": 6,
    "start_time": "2023-03-13T15:59:25.970Z"
   },
   {
    "duration": 48,
    "start_time": "2023-03-13T16:00:43.292Z"
   },
   {
    "duration": 9,
    "start_time": "2023-03-13T16:00:51.393Z"
   },
   {
    "duration": 18,
    "start_time": "2023-03-13T16:01:11.744Z"
   },
   {
    "duration": 5,
    "start_time": "2023-03-13T16:01:35.490Z"
   },
   {
    "duration": 6,
    "start_time": "2023-03-13T16:02:43.621Z"
   },
   {
    "duration": 110,
    "start_time": "2023-03-13T16:02:48.455Z"
   },
   {
    "duration": 565,
    "start_time": "2023-03-13T16:03:23.696Z"
   },
   {
    "duration": 9,
    "start_time": "2023-03-13T16:03:24.686Z"
   },
   {
    "duration": 528,
    "start_time": "2023-03-13T16:03:38.710Z"
   },
   {
    "duration": 9,
    "start_time": "2023-03-13T16:03:39.895Z"
   },
   {
    "duration": 1063,
    "start_time": "2023-03-13T16:03:50.185Z"
   },
   {
    "duration": 52,
    "start_time": "2023-03-13T16:03:51.250Z"
   },
   {
    "duration": 24,
    "start_time": "2023-03-13T16:03:51.303Z"
   },
   {
    "duration": 4,
    "start_time": "2023-03-13T16:03:51.329Z"
   },
   {
    "duration": 27,
    "start_time": "2023-03-13T16:03:51.335Z"
   },
   {
    "duration": 17,
    "start_time": "2023-03-13T16:03:51.364Z"
   },
   {
    "duration": 25,
    "start_time": "2023-03-13T16:03:51.383Z"
   },
   {
    "duration": 14,
    "start_time": "2023-03-13T16:03:51.410Z"
   },
   {
    "duration": 10,
    "start_time": "2023-03-13T16:03:51.425Z"
   },
   {
    "duration": 21,
    "start_time": "2023-03-13T16:03:51.438Z"
   },
   {
    "duration": 3,
    "start_time": "2023-03-13T16:03:51.461Z"
   },
   {
    "duration": 10,
    "start_time": "2023-03-13T16:03:51.466Z"
   },
   {
    "duration": 20,
    "start_time": "2023-03-13T16:03:51.478Z"
   },
   {
    "duration": 8,
    "start_time": "2023-03-13T16:03:51.499Z"
   },
   {
    "duration": 23,
    "start_time": "2023-03-13T16:03:51.509Z"
   },
   {
    "duration": 4,
    "start_time": "2023-03-13T16:03:51.533Z"
   },
   {
    "duration": 16,
    "start_time": "2023-03-13T16:03:51.538Z"
   },
   {
    "duration": 19,
    "start_time": "2023-03-13T16:03:51.556Z"
   },
   {
    "duration": 5,
    "start_time": "2023-03-13T16:03:51.576Z"
   },
   {
    "duration": 16,
    "start_time": "2023-03-13T16:03:51.583Z"
   },
   {
    "duration": 19,
    "start_time": "2023-03-13T16:03:51.601Z"
   },
   {
    "duration": 10,
    "start_time": "2023-03-13T16:03:51.622Z"
   },
   {
    "duration": 4,
    "start_time": "2023-03-13T16:04:44.102Z"
   },
   {
    "duration": 14,
    "start_time": "2023-03-13T16:04:47.126Z"
   },
   {
    "duration": 4,
    "start_time": "2023-03-13T16:06:52.908Z"
   },
   {
    "duration": 14,
    "start_time": "2023-03-13T16:06:53.377Z"
   },
   {
    "duration": 104,
    "start_time": "2023-03-13T16:26:03.565Z"
   },
   {
    "duration": 11,
    "start_time": "2023-03-13T16:26:15.755Z"
   },
   {
    "duration": 15,
    "start_time": "2023-03-13T16:26:20.595Z"
   },
   {
    "duration": 9,
    "start_time": "2023-03-13T16:27:46.888Z"
   },
   {
    "duration": 15,
    "start_time": "2023-03-13T16:31:12.076Z"
   },
   {
    "duration": 14,
    "start_time": "2023-03-13T16:32:03.619Z"
   },
   {
    "duration": 13,
    "start_time": "2023-03-13T16:32:44.249Z"
   },
   {
    "duration": 14,
    "start_time": "2023-03-13T16:33:40.431Z"
   },
   {
    "duration": 7,
    "start_time": "2023-03-13T16:33:55.602Z"
   },
   {
    "duration": 8,
    "start_time": "2023-03-13T16:34:23.094Z"
   },
   {
    "duration": 15,
    "start_time": "2023-03-13T16:34:30.575Z"
   },
   {
    "duration": 15,
    "start_time": "2023-03-13T16:34:50.854Z"
   },
   {
    "duration": 8,
    "start_time": "2023-03-13T16:35:13.709Z"
   },
   {
    "duration": 7,
    "start_time": "2023-03-13T16:35:49.477Z"
   },
   {
    "duration": 15,
    "start_time": "2023-03-13T16:35:52.984Z"
   },
   {
    "duration": 9,
    "start_time": "2023-03-13T16:45:57.696Z"
   },
   {
    "duration": 9,
    "start_time": "2023-03-13T16:46:20.162Z"
   },
   {
    "duration": 5,
    "start_time": "2023-03-13T16:56:22.371Z"
   },
   {
    "duration": 17,
    "start_time": "2023-03-13T16:56:27.259Z"
   },
   {
    "duration": 1083,
    "start_time": "2023-03-13T16:56:43.488Z"
   },
   {
    "duration": 53,
    "start_time": "2023-03-13T16:56:44.573Z"
   },
   {
    "duration": 23,
    "start_time": "2023-03-13T16:56:44.628Z"
   },
   {
    "duration": 3,
    "start_time": "2023-03-13T16:56:44.654Z"
   },
   {
    "duration": 17,
    "start_time": "2023-03-13T16:56:44.659Z"
   },
   {
    "duration": 8,
    "start_time": "2023-03-13T16:56:44.678Z"
   },
   {
    "duration": 21,
    "start_time": "2023-03-13T16:56:44.687Z"
   },
   {
    "duration": 25,
    "start_time": "2023-03-13T16:56:44.709Z"
   },
   {
    "duration": 8,
    "start_time": "2023-03-13T16:56:44.736Z"
   },
   {
    "duration": 15,
    "start_time": "2023-03-13T16:56:44.746Z"
   },
   {
    "duration": 5,
    "start_time": "2023-03-13T16:56:44.762Z"
   },
   {
    "duration": 10,
    "start_time": "2023-03-13T16:56:44.769Z"
   },
   {
    "duration": 19,
    "start_time": "2023-03-13T16:56:44.780Z"
   },
   {
    "duration": 33,
    "start_time": "2023-03-13T16:56:44.801Z"
   },
   {
    "duration": 13,
    "start_time": "2023-03-13T16:56:44.836Z"
   },
   {
    "duration": 4,
    "start_time": "2023-03-13T16:56:44.851Z"
   },
   {
    "duration": 6,
    "start_time": "2023-03-13T16:56:44.857Z"
   },
   {
    "duration": 13,
    "start_time": "2023-03-13T16:56:44.864Z"
   },
   {
    "duration": 3,
    "start_time": "2023-03-13T16:56:44.878Z"
   },
   {
    "duration": 49,
    "start_time": "2023-03-13T16:56:44.883Z"
   },
   {
    "duration": 5,
    "start_time": "2023-03-13T16:57:39.309Z"
   },
   {
    "duration": 21,
    "start_time": "2023-03-13T16:57:40.111Z"
   },
   {
    "duration": 10,
    "start_time": "2023-03-13T19:54:37.443Z"
   },
   {
    "duration": 5,
    "start_time": "2023-03-13T19:57:04.640Z"
   },
   {
    "duration": 9,
    "start_time": "2023-03-13T19:57:26.026Z"
   },
   {
    "duration": 115,
    "start_time": "2023-03-13T19:59:41.633Z"
   },
   {
    "duration": 7,
    "start_time": "2023-03-13T20:01:23.595Z"
   },
   {
    "duration": 10,
    "start_time": "2023-03-13T20:01:35.573Z"
   },
   {
    "duration": 7,
    "start_time": "2023-03-13T20:03:12.776Z"
   },
   {
    "duration": 11,
    "start_time": "2023-03-13T20:03:26.132Z"
   },
   {
    "duration": 11,
    "start_time": "2023-03-13T20:03:47.628Z"
   },
   {
    "duration": 10,
    "start_time": "2023-03-13T20:05:40.469Z"
   },
   {
    "duration": 11,
    "start_time": "2023-03-13T20:07:52.339Z"
   },
   {
    "duration": 14,
    "start_time": "2023-03-13T20:08:26.737Z"
   },
   {
    "duration": 13,
    "start_time": "2023-03-13T20:09:05.386Z"
   },
   {
    "duration": 6,
    "start_time": "2023-03-13T20:15:44.516Z"
   },
   {
    "duration": 11,
    "start_time": "2023-03-13T20:15:55.728Z"
   },
   {
    "duration": 12,
    "start_time": "2023-03-13T20:16:50.403Z"
   },
   {
    "duration": 693,
    "start_time": "2023-03-13T20:23:58.287Z"
   },
   {
    "duration": 768,
    "start_time": "2023-03-13T20:24:24.409Z"
   },
   {
    "duration": 157,
    "start_time": "2023-03-13T20:25:52.839Z"
   },
   {
    "duration": 43,
    "start_time": "2023-03-13T20:26:43.235Z"
   },
   {
    "duration": 14,
    "start_time": "2023-03-13T20:30:07.506Z"
   },
   {
    "duration": 11,
    "start_time": "2023-03-13T20:30:40.076Z"
   },
   {
    "duration": 12,
    "start_time": "2023-03-13T20:30:59.332Z"
   },
   {
    "duration": 12,
    "start_time": "2023-03-13T20:31:12.810Z"
   },
   {
    "duration": 13,
    "start_time": "2023-03-13T20:31:34.977Z"
   },
   {
    "duration": 49,
    "start_time": "2023-03-13T20:33:34.295Z"
   },
   {
    "duration": 780,
    "start_time": "2023-03-13T20:33:49.394Z"
   },
   {
    "duration": 254,
    "start_time": "2023-03-13T20:34:54.799Z"
   },
   {
    "duration": 48,
    "start_time": "2023-03-13T20:37:29.807Z"
   },
   {
    "duration": 269,
    "start_time": "2023-03-13T20:37:46.128Z"
   },
   {
    "duration": 54,
    "start_time": "2023-03-13T20:39:35.418Z"
   },
   {
    "duration": 270,
    "start_time": "2023-03-13T20:40:01.694Z"
   },
   {
    "duration": 129,
    "start_time": "2023-03-13T20:46:50.851Z"
   },
   {
    "duration": 214,
    "start_time": "2023-03-13T20:48:16.392Z"
   },
   {
    "duration": 148,
    "start_time": "2023-03-13T20:48:40.543Z"
   },
   {
    "duration": 11,
    "start_time": "2023-03-13T20:53:07.531Z"
   },
   {
    "duration": 12,
    "start_time": "2023-03-13T20:54:32.591Z"
   },
   {
    "duration": 146,
    "start_time": "2023-03-13T21:04:19.972Z"
   },
   {
    "duration": 131,
    "start_time": "2023-03-13T21:17:59.639Z"
   },
   {
    "duration": 383,
    "start_time": "2023-03-13T21:18:51.806Z"
   },
   {
    "duration": 359,
    "start_time": "2023-03-13T21:19:07.018Z"
   },
   {
    "duration": 60,
    "start_time": "2023-03-14T09:09:41.372Z"
   },
   {
    "duration": 1452,
    "start_time": "2023-03-14T09:10:02.151Z"
   },
   {
    "duration": 234,
    "start_time": "2023-03-14T09:10:03.606Z"
   },
   {
    "duration": 29,
    "start_time": "2023-03-14T09:10:03.842Z"
   },
   {
    "duration": 3,
    "start_time": "2023-03-14T09:10:03.873Z"
   },
   {
    "duration": 25,
    "start_time": "2023-03-14T09:10:03.878Z"
   },
   {
    "duration": 15,
    "start_time": "2023-03-14T09:10:03.921Z"
   },
   {
    "duration": 25,
    "start_time": "2023-03-14T09:10:03.937Z"
   },
   {
    "duration": 14,
    "start_time": "2023-03-14T09:10:03.963Z"
   },
   {
    "duration": 47,
    "start_time": "2023-03-14T09:10:03.979Z"
   },
   {
    "duration": 33,
    "start_time": "2023-03-14T09:10:04.030Z"
   },
   {
    "duration": 12,
    "start_time": "2023-03-14T09:10:04.066Z"
   },
   {
    "duration": 16,
    "start_time": "2023-03-14T09:10:04.081Z"
   },
   {
    "duration": 23,
    "start_time": "2023-03-14T09:10:04.099Z"
   },
   {
    "duration": 20,
    "start_time": "2023-03-14T09:10:04.124Z"
   },
   {
    "duration": 18,
    "start_time": "2023-03-14T09:10:04.146Z"
   },
   {
    "duration": 4,
    "start_time": "2023-03-14T09:10:04.166Z"
   },
   {
    "duration": 12,
    "start_time": "2023-03-14T09:10:04.172Z"
   },
   {
    "duration": 20,
    "start_time": "2023-03-14T09:10:04.211Z"
   },
   {
    "duration": 6,
    "start_time": "2023-03-14T09:10:04.233Z"
   },
   {
    "duration": 32,
    "start_time": "2023-03-14T09:10:04.241Z"
   },
   {
    "duration": 46,
    "start_time": "2023-03-14T09:10:04.276Z"
   },
   {
    "duration": 14,
    "start_time": "2023-03-14T09:10:04.325Z"
   },
   {
    "duration": 398,
    "start_time": "2023-03-14T09:10:04.341Z"
   },
   {
    "duration": 793,
    "start_time": "2023-03-14T09:10:04.741Z"
   },
   {
    "duration": 35,
    "start_time": "2023-03-14T09:11:12.387Z"
   },
   {
    "duration": 149,
    "start_time": "2023-03-14T09:13:56.600Z"
   },
   {
    "duration": 197,
    "start_time": "2023-03-14T09:16:58.288Z"
   },
   {
    "duration": 172,
    "start_time": "2023-03-14T09:18:02.512Z"
   },
   {
    "duration": 30841,
    "start_time": "2023-03-14T09:19:23.862Z"
   },
   {
    "duration": 33572,
    "start_time": "2023-03-14T09:21:17.936Z"
   },
   {
    "duration": 222,
    "start_time": "2023-03-14T09:22:20.402Z"
   },
   {
    "duration": 187,
    "start_time": "2023-03-14T09:23:18.093Z"
   },
   {
    "duration": 193,
    "start_time": "2023-03-14T09:23:30.194Z"
   },
   {
    "duration": 25,
    "start_time": "2023-03-14T09:24:07.976Z"
   },
   {
    "duration": 12,
    "start_time": "2023-03-14T09:26:04.202Z"
   },
   {
    "duration": 10,
    "start_time": "2023-03-14T09:26:21.625Z"
   },
   {
    "duration": 29,
    "start_time": "2023-03-14T09:26:30.063Z"
   },
   {
    "duration": 1196,
    "start_time": "2023-03-14T09:27:44.910Z"
   },
   {
    "duration": 176,
    "start_time": "2023-03-14T09:29:06.903Z"
   },
   {
    "duration": 178,
    "start_time": "2023-03-14T09:29:40.399Z"
   },
   {
    "duration": 7,
    "start_time": "2023-03-14T10:59:16.747Z"
   },
   {
    "duration": 30,
    "start_time": "2023-03-14T10:59:32.329Z"
   },
   {
    "duration": 9,
    "start_time": "2023-03-14T11:00:09.139Z"
   },
   {
    "duration": 12,
    "start_time": "2023-03-14T11:00:15.961Z"
   },
   {
    "duration": 16,
    "start_time": "2023-03-14T11:01:01.526Z"
   },
   {
    "duration": 21,
    "start_time": "2023-03-14T11:02:42.486Z"
   },
   {
    "duration": 5,
    "start_time": "2023-03-14T11:03:22.293Z"
   },
   {
    "duration": 6,
    "start_time": "2023-03-14T11:03:28.012Z"
   },
   {
    "duration": 36,
    "start_time": "2023-03-14T11:04:08.249Z"
   },
   {
    "duration": 5,
    "start_time": "2023-03-14T11:09:45.279Z"
   },
   {
    "duration": 13,
    "start_time": "2023-03-14T12:48:01.935Z"
   },
   {
    "duration": 11,
    "start_time": "2023-03-14T12:48:28.580Z"
   },
   {
    "duration": 13,
    "start_time": "2023-03-14T12:49:11.303Z"
   },
   {
    "duration": 16,
    "start_time": "2023-03-14T12:49:21.557Z"
   },
   {
    "duration": 1386,
    "start_time": "2023-03-14T12:49:34.011Z"
   },
   {
    "duration": 67,
    "start_time": "2023-03-14T12:49:35.399Z"
   },
   {
    "duration": 27,
    "start_time": "2023-03-14T12:49:35.468Z"
   },
   {
    "duration": 6,
    "start_time": "2023-03-14T12:49:35.497Z"
   },
   {
    "duration": 54,
    "start_time": "2023-03-14T12:49:35.504Z"
   },
   {
    "duration": 19,
    "start_time": "2023-03-14T12:49:35.562Z"
   },
   {
    "duration": 34,
    "start_time": "2023-03-14T12:49:35.583Z"
   },
   {
    "duration": 23,
    "start_time": "2023-03-14T12:49:35.619Z"
   },
   {
    "duration": 25,
    "start_time": "2023-03-14T12:49:35.648Z"
   },
   {
    "duration": 80,
    "start_time": "2023-03-14T12:49:35.675Z"
   },
   {
    "duration": 5,
    "start_time": "2023-03-14T12:49:35.758Z"
   },
   {
    "duration": 30,
    "start_time": "2023-03-14T12:49:35.765Z"
   },
   {
    "duration": 44,
    "start_time": "2023-03-14T12:49:35.797Z"
   },
   {
    "duration": 17,
    "start_time": "2023-03-14T12:49:35.845Z"
   },
   {
    "duration": 39,
    "start_time": "2023-03-14T12:49:35.864Z"
   },
   {
    "duration": 37,
    "start_time": "2023-03-14T12:49:35.904Z"
   },
   {
    "duration": 10,
    "start_time": "2023-03-14T12:49:35.943Z"
   },
   {
    "duration": 25,
    "start_time": "2023-03-14T12:49:35.955Z"
   },
   {
    "duration": 5,
    "start_time": "2023-03-14T12:49:35.982Z"
   },
   {
    "duration": 31,
    "start_time": "2023-03-14T12:49:35.989Z"
   },
   {
    "duration": 36,
    "start_time": "2023-03-14T12:49:36.021Z"
   },
   {
    "duration": 13,
    "start_time": "2023-03-14T12:49:36.059Z"
   },
   {
    "duration": 355,
    "start_time": "2023-03-14T12:49:36.073Z"
   },
   {
    "duration": 3,
    "start_time": "2023-03-14T12:49:36.434Z"
   },
   {
    "duration": 10,
    "start_time": "2023-03-14T12:49:36.439Z"
   },
   {
    "duration": 111,
    "start_time": "2023-03-14T12:57:18.462Z"
   },
   {
    "duration": 1349,
    "start_time": "2023-03-14T12:57:53.776Z"
   },
   {
    "duration": 55,
    "start_time": "2023-03-14T12:57:55.137Z"
   },
   {
    "duration": 41,
    "start_time": "2023-03-14T12:57:55.194Z"
   },
   {
    "duration": 5,
    "start_time": "2023-03-14T12:57:55.241Z"
   },
   {
    "duration": 31,
    "start_time": "2023-03-14T12:57:55.249Z"
   },
   {
    "duration": 10,
    "start_time": "2023-03-14T12:57:55.282Z"
   },
   {
    "duration": 40,
    "start_time": "2023-03-14T12:57:55.294Z"
   },
   {
    "duration": 17,
    "start_time": "2023-03-14T12:57:55.336Z"
   },
   {
    "duration": 14,
    "start_time": "2023-03-14T12:57:55.355Z"
   },
   {
    "duration": 30,
    "start_time": "2023-03-14T12:57:55.373Z"
   },
   {
    "duration": 15,
    "start_time": "2023-03-14T12:57:55.405Z"
   },
   {
    "duration": 25,
    "start_time": "2023-03-14T12:57:55.422Z"
   },
   {
    "duration": 15,
    "start_time": "2023-03-14T12:57:55.450Z"
   },
   {
    "duration": 19,
    "start_time": "2023-03-14T12:57:55.467Z"
   },
   {
    "duration": 33,
    "start_time": "2023-03-14T12:57:55.489Z"
   },
   {
    "duration": 22,
    "start_time": "2023-03-14T12:57:55.524Z"
   },
   {
    "duration": 26,
    "start_time": "2023-03-14T12:57:55.549Z"
   },
   {
    "duration": 21,
    "start_time": "2023-03-14T12:57:55.578Z"
   },
   {
    "duration": 6,
    "start_time": "2023-03-14T12:57:55.602Z"
   },
   {
    "duration": 42,
    "start_time": "2023-03-14T12:57:55.610Z"
   },
   {
    "duration": 13,
    "start_time": "2023-03-14T12:57:55.654Z"
   },
   {
    "duration": 13,
    "start_time": "2023-03-14T12:57:55.669Z"
   },
   {
    "duration": 367,
    "start_time": "2023-03-14T12:57:55.684Z"
   },
   {
    "duration": 20,
    "start_time": "2023-03-14T12:57:56.054Z"
   },
   {
    "duration": 181,
    "start_time": "2023-03-14T12:58:31.589Z"
   },
   {
    "duration": 26,
    "start_time": "2023-03-14T12:58:54.333Z"
   },
   {
    "duration": 230,
    "start_time": "2023-03-14T12:59:24.967Z"
   },
   {
    "duration": 1461,
    "start_time": "2023-03-14T13:01:12.025Z"
   },
   {
    "duration": 1472,
    "start_time": "2023-03-14T13:01:44.993Z"
   },
   {
    "duration": 233,
    "start_time": "2023-03-14T13:02:49.338Z"
   },
   {
    "duration": 242,
    "start_time": "2023-03-14T13:06:18.093Z"
   },
   {
    "duration": 214,
    "start_time": "2023-03-14T13:09:02.338Z"
   },
   {
    "duration": 213,
    "start_time": "2023-03-14T13:09:51.757Z"
   },
   {
    "duration": 290,
    "start_time": "2023-03-14T13:10:49.590Z"
   },
   {
    "duration": 199,
    "start_time": "2023-03-14T13:11:58.570Z"
   },
   {
    "duration": 201,
    "start_time": "2023-03-14T13:12:18.430Z"
   },
   {
    "duration": 195,
    "start_time": "2023-03-14T13:12:44.398Z"
   },
   {
    "duration": 4,
    "start_time": "2023-03-14T13:23:29.478Z"
   },
   {
    "duration": 216,
    "start_time": "2023-03-14T13:23:51.772Z"
   },
   {
    "duration": 9,
    "start_time": "2023-03-14T13:35:59.280Z"
   },
   {
    "duration": 10,
    "start_time": "2023-03-14T13:36:04.172Z"
   },
   {
    "duration": 34,
    "start_time": "2023-03-14T13:36:45.657Z"
   },
   {
    "duration": 10,
    "start_time": "2023-03-14T13:37:20.404Z"
   },
   {
    "duration": 17,
    "start_time": "2023-03-14T13:37:58.712Z"
   },
   {
    "duration": 8,
    "start_time": "2023-03-14T13:37:59.677Z"
   },
   {
    "duration": 10,
    "start_time": "2023-03-14T13:38:27.346Z"
   },
   {
    "duration": 14,
    "start_time": "2023-03-14T13:38:28.139Z"
   },
   {
    "duration": 1232,
    "start_time": "2023-03-14T13:38:40.436Z"
   },
   {
    "duration": 53,
    "start_time": "2023-03-14T13:38:41.670Z"
   },
   {
    "duration": 26,
    "start_time": "2023-03-14T13:38:41.731Z"
   },
   {
    "duration": 4,
    "start_time": "2023-03-14T13:38:41.760Z"
   },
   {
    "duration": 26,
    "start_time": "2023-03-14T13:38:41.766Z"
   },
   {
    "duration": 26,
    "start_time": "2023-03-14T13:38:41.794Z"
   },
   {
    "duration": 30,
    "start_time": "2023-03-14T13:38:41.822Z"
   },
   {
    "duration": 12,
    "start_time": "2023-03-14T13:38:41.854Z"
   },
   {
    "duration": 10,
    "start_time": "2023-03-14T13:38:41.868Z"
   },
   {
    "duration": 45,
    "start_time": "2023-03-14T13:38:41.881Z"
   },
   {
    "duration": 6,
    "start_time": "2023-03-14T13:38:41.928Z"
   },
   {
    "duration": 14,
    "start_time": "2023-03-14T13:38:41.936Z"
   },
   {
    "duration": 18,
    "start_time": "2023-03-14T13:38:41.952Z"
   },
   {
    "duration": 12,
    "start_time": "2023-03-14T13:38:41.972Z"
   },
   {
    "duration": 46,
    "start_time": "2023-03-14T13:38:41.986Z"
   },
   {
    "duration": 5,
    "start_time": "2023-03-14T13:38:42.035Z"
   },
   {
    "duration": 8,
    "start_time": "2023-03-14T13:38:42.042Z"
   },
   {
    "duration": 16,
    "start_time": "2023-03-14T13:38:42.052Z"
   },
   {
    "duration": 6,
    "start_time": "2023-03-14T13:38:42.070Z"
   },
   {
    "duration": 55,
    "start_time": "2023-03-14T13:38:42.078Z"
   },
   {
    "duration": 12,
    "start_time": "2023-03-14T13:38:42.137Z"
   },
   {
    "duration": 13,
    "start_time": "2023-03-14T13:38:42.151Z"
   },
   {
    "duration": 417,
    "start_time": "2023-03-14T13:38:42.166Z"
   },
   {
    "duration": 232,
    "start_time": "2023-03-14T13:38:42.585Z"
   },
   {
    "duration": 222,
    "start_time": "2023-03-14T13:38:42.821Z"
   },
   {
    "duration": 221,
    "start_time": "2023-03-14T13:38:43.046Z"
   },
   {
    "duration": 261,
    "start_time": "2023-03-14T13:38:43.270Z"
   },
   {
    "duration": 223,
    "start_time": "2023-03-14T13:38:43.536Z"
   },
   {
    "duration": 218,
    "start_time": "2023-03-14T13:38:43.762Z"
   },
   {
    "duration": 7,
    "start_time": "2023-03-14T13:38:43.982Z"
   },
   {
    "duration": 13,
    "start_time": "2023-03-14T13:38:43.991Z"
   },
   {
    "duration": 8,
    "start_time": "2023-03-14T13:39:03.938Z"
   },
   {
    "duration": 5,
    "start_time": "2023-03-14T13:39:24.846Z"
   },
   {
    "duration": 5,
    "start_time": "2023-03-14T13:39:29.504Z"
   },
   {
    "duration": 10,
    "start_time": "2023-03-14T13:45:15.006Z"
   },
   {
    "duration": 33,
    "start_time": "2023-03-14T13:45:15.627Z"
   },
   {
    "duration": 6,
    "start_time": "2023-03-14T13:46:51.933Z"
   },
   {
    "duration": 25,
    "start_time": "2023-03-14T13:46:53.157Z"
   },
   {
    "duration": 20,
    "start_time": "2023-03-14T13:47:46.900Z"
   },
   {
    "duration": 282,
    "start_time": "2023-03-14T13:49:15.472Z"
   },
   {
    "duration": 164,
    "start_time": "2023-03-14T13:56:56.149Z"
   },
   {
    "duration": 194,
    "start_time": "2023-03-14T13:58:41.446Z"
   },
   {
    "duration": 157,
    "start_time": "2023-03-14T13:59:20.743Z"
   },
   {
    "duration": 173,
    "start_time": "2023-03-14T14:00:03.979Z"
   },
   {
    "duration": 163,
    "start_time": "2023-03-14T14:01:17.214Z"
   },
   {
    "duration": 254,
    "start_time": "2023-03-14T14:25:49.182Z"
   },
   {
    "duration": 121,
    "start_time": "2023-03-14T14:38:50.778Z"
   },
   {
    "duration": 254,
    "start_time": "2023-03-14T14:39:39.228Z"
   },
   {
    "duration": 7,
    "start_time": "2023-03-14T14:41:37.727Z"
   },
   {
    "duration": 13,
    "start_time": "2023-03-14T14:41:44.558Z"
   },
   {
    "duration": 15,
    "start_time": "2023-03-14T14:42:20.952Z"
   },
   {
    "duration": 75,
    "start_time": "2023-03-14T14:52:11.824Z"
   },
   {
    "duration": 13,
    "start_time": "2023-03-14T14:52:39.662Z"
   },
   {
    "duration": 196,
    "start_time": "2023-03-14T14:52:58.133Z"
   },
   {
    "duration": 369,
    "start_time": "2023-03-14T14:53:36.061Z"
   },
   {
    "duration": 271,
    "start_time": "2023-03-14T14:53:57.859Z"
   },
   {
    "duration": 302,
    "start_time": "2023-03-14T15:00:40.814Z"
   },
   {
    "duration": 150,
    "start_time": "2023-03-14T15:04:36.066Z"
   },
   {
    "duration": 150,
    "start_time": "2023-03-14T15:05:32.330Z"
   },
   {
    "duration": 160,
    "start_time": "2023-03-14T15:05:43.608Z"
   },
   {
    "duration": 162,
    "start_time": "2023-03-14T15:06:04.329Z"
   },
   {
    "duration": 29,
    "start_time": "2023-03-14T15:06:33.411Z"
   },
   {
    "duration": 158,
    "start_time": "2023-03-14T15:06:57.999Z"
   },
   {
    "duration": 279,
    "start_time": "2023-03-14T15:08:54.195Z"
   },
   {
    "duration": 160,
    "start_time": "2023-03-14T15:25:53.085Z"
   },
   {
    "duration": 128,
    "start_time": "2023-03-14T15:26:25.023Z"
   },
   {
    "duration": 153,
    "start_time": "2023-03-14T15:26:32.151Z"
   },
   {
    "duration": 264,
    "start_time": "2023-03-14T15:30:24.177Z"
   },
   {
    "duration": 74,
    "start_time": "2023-03-14T15:30:44.919Z"
   },
   {
    "duration": 103,
    "start_time": "2023-03-14T15:31:06.957Z"
   },
   {
    "duration": 206,
    "start_time": "2023-03-14T15:31:21.140Z"
   },
   {
    "duration": 225,
    "start_time": "2023-03-14T15:31:38.059Z"
   },
   {
    "duration": 20,
    "start_time": "2023-03-14T15:35:25.978Z"
   },
   {
    "duration": 213,
    "start_time": "2023-03-14T15:35:37.974Z"
   },
   {
    "duration": 293,
    "start_time": "2023-03-14T15:37:18.012Z"
   },
   {
    "duration": 182,
    "start_time": "2023-03-14T15:37:50.361Z"
   },
   {
    "duration": 190,
    "start_time": "2023-03-14T15:39:00.494Z"
   },
   {
    "duration": 192,
    "start_time": "2023-03-14T15:39:50.425Z"
   },
   {
    "duration": 160,
    "start_time": "2023-03-14T15:42:47.827Z"
   },
   {
    "duration": 159,
    "start_time": "2023-03-14T15:43:15.070Z"
   },
   {
    "duration": 169,
    "start_time": "2023-03-14T15:43:20.804Z"
   },
   {
    "duration": 27,
    "start_time": "2023-03-14T15:47:37.378Z"
   },
   {
    "duration": 23,
    "start_time": "2023-03-14T15:48:52.383Z"
   },
   {
    "duration": 17,
    "start_time": "2023-03-14T15:49:37.663Z"
   },
   {
    "duration": 19,
    "start_time": "2023-03-14T15:53:45.000Z"
   },
   {
    "duration": 1182,
    "start_time": "2023-03-14T15:54:09.806Z"
   },
   {
    "duration": 12,
    "start_time": "2023-03-14T15:55:08.965Z"
   },
   {
    "duration": 19,
    "start_time": "2023-03-14T16:00:02.508Z"
   },
   {
    "duration": 13,
    "start_time": "2023-03-14T16:03:32.375Z"
   },
   {
    "duration": 760,
    "start_time": "2023-03-14T18:49:59.266Z"
   },
   {
    "duration": 711,
    "start_time": "2023-03-14T18:51:35.026Z"
   },
   {
    "duration": 611,
    "start_time": "2023-03-14T18:52:02.934Z"
   },
   {
    "duration": 11,
    "start_time": "2023-03-14T18:56:36.704Z"
   },
   {
    "duration": 102,
    "start_time": "2023-03-14T19:01:25.548Z"
   },
   {
    "duration": 291,
    "start_time": "2023-03-14T19:02:58.076Z"
   },
   {
    "duration": 151,
    "start_time": "2023-03-14T19:04:24.148Z"
   },
   {
    "duration": 146,
    "start_time": "2023-03-14T19:04:35.376Z"
   },
   {
    "duration": 152,
    "start_time": "2023-03-14T19:04:48.030Z"
   },
   {
    "duration": 155,
    "start_time": "2023-03-14T19:05:38.349Z"
   },
   {
    "duration": 163,
    "start_time": "2023-03-14T19:06:21.398Z"
   },
   {
    "duration": 8,
    "start_time": "2023-03-14T19:08:14.224Z"
   },
   {
    "duration": 6,
    "start_time": "2023-03-14T19:08:21.976Z"
   },
   {
    "duration": 135,
    "start_time": "2023-03-14T19:08:25.574Z"
   },
   {
    "duration": 12,
    "start_time": "2023-03-14T19:09:30.526Z"
   },
   {
    "duration": 149,
    "start_time": "2023-03-14T19:09:34.773Z"
   },
   {
    "duration": 79,
    "start_time": "2023-03-14T19:10:58.512Z"
   },
   {
    "duration": 88,
    "start_time": "2023-03-14T19:11:24.216Z"
   },
   {
    "duration": 79,
    "start_time": "2023-03-14T19:11:27.689Z"
   },
   {
    "duration": 11,
    "start_time": "2023-03-14T19:11:56.640Z"
   },
   {
    "duration": 12,
    "start_time": "2023-03-14T19:13:56.519Z"
   },
   {
    "duration": 78,
    "start_time": "2023-03-14T19:14:22.571Z"
   },
   {
    "duration": 12,
    "start_time": "2023-03-14T19:14:30.594Z"
   },
   {
    "duration": 148,
    "start_time": "2023-03-14T19:17:32.476Z"
   },
   {
    "duration": 152,
    "start_time": "2023-03-14T19:19:09.535Z"
   },
   {
    "duration": 11,
    "start_time": "2023-03-14T19:22:46.698Z"
   },
   {
    "duration": 149,
    "start_time": "2023-03-14T19:25:12.365Z"
   },
   {
    "duration": 174,
    "start_time": "2023-03-14T19:26:03.941Z"
   },
   {
    "duration": 6,
    "start_time": "2023-03-14T19:36:55.012Z"
   },
   {
    "duration": 21,
    "start_time": "2023-03-14T19:37:02.180Z"
   },
   {
    "duration": 6,
    "start_time": "2023-03-14T19:37:25.227Z"
   },
   {
    "duration": 8,
    "start_time": "2023-03-14T19:42:58.102Z"
   },
   {
    "duration": 20,
    "start_time": "2023-03-14T19:43:01.851Z"
   },
   {
    "duration": 5,
    "start_time": "2023-03-14T19:43:51.779Z"
   },
   {
    "duration": 5,
    "start_time": "2023-03-14T19:47:11.348Z"
   },
   {
    "duration": 25,
    "start_time": "2023-03-14T19:47:23.747Z"
   },
   {
    "duration": 6,
    "start_time": "2023-03-14T19:48:40.582Z"
   },
   {
    "duration": 4,
    "start_time": "2023-03-14T19:48:42.768Z"
   },
   {
    "duration": 4,
    "start_time": "2023-03-14T19:49:14.733Z"
   },
   {
    "duration": 7,
    "start_time": "2023-03-14T19:50:55.162Z"
   },
   {
    "duration": 6,
    "start_time": "2023-03-14T19:50:56.083Z"
   },
   {
    "duration": 5,
    "start_time": "2023-03-14T19:51:22.940Z"
   },
   {
    "duration": 5,
    "start_time": "2023-03-14T19:51:24.675Z"
   },
   {
    "duration": 13,
    "start_time": "2023-03-14T19:55:29.667Z"
   },
   {
    "duration": 149,
    "start_time": "2023-03-14T19:57:31.952Z"
   },
   {
    "duration": 13,
    "start_time": "2023-03-14T20:01:31.682Z"
   },
   {
    "duration": 6,
    "start_time": "2023-03-14T20:03:33.445Z"
   },
   {
    "duration": 6,
    "start_time": "2023-03-14T20:05:00.521Z"
   },
   {
    "duration": 12,
    "start_time": "2023-03-14T20:05:08.807Z"
   },
   {
    "duration": 173,
    "start_time": "2023-03-14T20:05:58.707Z"
   },
   {
    "duration": 157,
    "start_time": "2023-03-14T20:06:52.494Z"
   },
   {
    "duration": 148,
    "start_time": "2023-03-14T20:07:53.266Z"
   },
   {
    "duration": 28,
    "start_time": "2023-03-14T20:13:05.803Z"
   },
   {
    "duration": 13,
    "start_time": "2023-03-14T20:20:20.576Z"
   },
   {
    "duration": 74,
    "start_time": "2023-03-14T20:20:47.661Z"
   },
   {
    "duration": 74,
    "start_time": "2023-03-14T20:21:50.737Z"
   },
   {
    "duration": 10,
    "start_time": "2023-03-14T20:23:09.840Z"
   },
   {
    "duration": 91,
    "start_time": "2023-03-14T20:23:25.828Z"
   },
   {
    "duration": 108,
    "start_time": "2023-03-14T20:23:36.055Z"
   },
   {
    "duration": 82,
    "start_time": "2023-03-14T20:23:40.245Z"
   },
   {
    "duration": 11,
    "start_time": "2023-03-14T20:24:15.834Z"
   },
   {
    "duration": 6,
    "start_time": "2023-03-14T20:24:52.179Z"
   },
   {
    "duration": 65,
    "start_time": "2023-03-14T20:25:18.345Z"
   },
   {
    "duration": 8,
    "start_time": "2023-03-14T20:26:59.358Z"
   },
   {
    "duration": 12,
    "start_time": "2023-03-14T20:27:18.729Z"
   },
   {
    "duration": 18,
    "start_time": "2023-03-14T20:28:50.052Z"
   },
   {
    "duration": 16,
    "start_time": "2023-03-14T20:29:45.271Z"
   },
   {
    "duration": 8,
    "start_time": "2023-03-14T20:30:08.670Z"
   },
   {
    "duration": 14,
    "start_time": "2023-03-14T20:30:19.177Z"
   },
   {
    "duration": 178,
    "start_time": "2023-03-14T20:33:27.825Z"
   },
   {
    "duration": 128,
    "start_time": "2023-03-14T20:34:05.302Z"
   },
   {
    "duration": 98,
    "start_time": "2023-03-14T20:34:16.665Z"
   },
   {
    "duration": 180,
    "start_time": "2023-03-14T20:34:28.755Z"
   },
   {
    "duration": 13,
    "start_time": "2023-03-14T20:34:47.497Z"
   },
   {
    "duration": 168,
    "start_time": "2023-03-14T20:35:25.123Z"
   },
   {
    "duration": 186,
    "start_time": "2023-03-14T20:37:19.063Z"
   },
   {
    "duration": 1437,
    "start_time": "2023-03-15T07:03:13.634Z"
   },
   {
    "duration": 190,
    "start_time": "2023-03-15T07:03:15.073Z"
   },
   {
    "duration": 28,
    "start_time": "2023-03-15T07:03:15.265Z"
   },
   {
    "duration": 3,
    "start_time": "2023-03-15T07:03:15.296Z"
   },
   {
    "duration": 18,
    "start_time": "2023-03-15T07:03:15.301Z"
   },
   {
    "duration": 11,
    "start_time": "2023-03-15T07:03:15.321Z"
   },
   {
    "duration": 34,
    "start_time": "2023-03-15T07:03:15.334Z"
   },
   {
    "duration": 12,
    "start_time": "2023-03-15T07:03:15.370Z"
   },
   {
    "duration": 10,
    "start_time": "2023-03-15T07:03:15.384Z"
   },
   {
    "duration": 16,
    "start_time": "2023-03-15T07:03:15.411Z"
   },
   {
    "duration": 5,
    "start_time": "2023-03-15T07:03:15.429Z"
   },
   {
    "duration": 18,
    "start_time": "2023-03-15T07:03:15.436Z"
   },
   {
    "duration": 16,
    "start_time": "2023-03-15T07:03:15.456Z"
   },
   {
    "duration": 9,
    "start_time": "2023-03-15T07:03:15.474Z"
   },
   {
    "duration": 39,
    "start_time": "2023-03-15T07:03:15.484Z"
   },
   {
    "duration": 5,
    "start_time": "2023-03-15T07:03:15.525Z"
   },
   {
    "duration": 12,
    "start_time": "2023-03-15T07:03:15.531Z"
   },
   {
    "duration": 24,
    "start_time": "2023-03-15T07:03:15.545Z"
   },
   {
    "duration": 10,
    "start_time": "2023-03-15T07:03:15.571Z"
   },
   {
    "duration": 47,
    "start_time": "2023-03-15T07:03:15.583Z"
   },
   {
    "duration": 10,
    "start_time": "2023-03-15T07:03:15.632Z"
   },
   {
    "duration": 11,
    "start_time": "2023-03-15T07:03:15.644Z"
   },
   {
    "duration": 323,
    "start_time": "2023-03-15T07:03:15.656Z"
   },
   {
    "duration": 216,
    "start_time": "2023-03-15T07:03:15.981Z"
   },
   {
    "duration": 215,
    "start_time": "2023-03-15T07:03:16.199Z"
   },
   {
    "duration": 221,
    "start_time": "2023-03-15T07:03:16.416Z"
   },
   {
    "duration": 198,
    "start_time": "2023-03-15T07:03:16.639Z"
   },
   {
    "duration": 191,
    "start_time": "2023-03-15T07:03:16.842Z"
   },
   {
    "duration": 269,
    "start_time": "2023-03-15T07:03:17.035Z"
   },
   {
    "duration": 6,
    "start_time": "2023-03-15T07:03:17.312Z"
   },
   {
    "duration": 25,
    "start_time": "2023-03-15T07:03:17.319Z"
   },
   {
    "duration": 13,
    "start_time": "2023-03-15T07:03:17.345Z"
   },
   {
    "duration": 202,
    "start_time": "2023-03-15T07:03:17.359Z"
   },
   {
    "duration": 189,
    "start_time": "2023-03-15T07:03:17.563Z"
   },
   {
    "duration": 160,
    "start_time": "2023-03-15T07:03:17.754Z"
   },
   {
    "duration": 155,
    "start_time": "2023-03-15T07:03:17.915Z"
   },
   {
    "duration": 153,
    "start_time": "2023-03-15T07:03:18.072Z"
   },
   {
    "duration": 162,
    "start_time": "2023-03-15T07:03:18.226Z"
   },
   {
    "duration": 241,
    "start_time": "2023-03-15T07:03:18.390Z"
   },
   {
    "duration": 31,
    "start_time": "2023-03-15T07:03:18.633Z"
   },
   {
    "duration": 16,
    "start_time": "2023-03-15T07:03:18.666Z"
   },
   {
    "duration": 187,
    "start_time": "2023-03-15T07:03:18.684Z"
   },
   {
    "duration": 165,
    "start_time": "2023-03-15T07:03:18.873Z"
   },
   {
    "duration": 12,
    "start_time": "2023-03-15T07:03:19.040Z"
   },
   {
    "duration": 197,
    "start_time": "2023-03-15T07:03:19.054Z"
   },
   {
    "duration": 165,
    "start_time": "2023-03-15T07:03:19.254Z"
   },
   {
    "duration": 12,
    "start_time": "2023-03-15T07:03:19.420Z"
   },
   {
    "duration": 271,
    "start_time": "2023-03-15T07:03:19.434Z"
   },
   {
    "duration": 176,
    "start_time": "2023-03-15T07:03:19.706Z"
   },
   {
    "duration": 7,
    "start_time": "2023-03-15T07:03:19.884Z"
   },
   {
    "duration": 19,
    "start_time": "2023-03-15T07:03:19.894Z"
   },
   {
    "duration": 6,
    "start_time": "2023-03-15T07:03:19.916Z"
   },
   {
    "duration": 13,
    "start_time": "2023-03-15T07:03:19.923Z"
   },
   {
    "duration": 195,
    "start_time": "2023-03-15T07:03:19.938Z"
   },
   {
    "duration": 205,
    "start_time": "2023-03-15T07:03:20.136Z"
   },
   {
    "duration": 20,
    "start_time": "2023-03-15T07:03:20.343Z"
   },
   {
    "duration": 245,
    "start_time": "2023-03-15T07:03:20.365Z"
   },
   {
    "duration": 17,
    "start_time": "2023-03-15T07:07:27.522Z"
   },
   {
    "duration": 4,
    "start_time": "2023-03-15T07:10:13.326Z"
   },
   {
    "duration": 6,
    "start_time": "2023-03-15T07:10:21.170Z"
   },
   {
    "duration": 15,
    "start_time": "2023-03-15T07:12:08.870Z"
   },
   {
    "duration": 75,
    "start_time": "2023-03-15T07:14:18.165Z"
   },
   {
    "duration": 182,
    "start_time": "2023-03-15T07:14:26.493Z"
   },
   {
    "duration": 17,
    "start_time": "2023-03-15T07:16:32.105Z"
   },
   {
    "duration": 6,
    "start_time": "2023-03-15T07:18:10.084Z"
   },
   {
    "duration": 14,
    "start_time": "2023-03-15T07:19:39.365Z"
   },
   {
    "duration": 14,
    "start_time": "2023-03-15T07:23:32.251Z"
   },
   {
    "duration": 13,
    "start_time": "2023-03-15T07:23:57.234Z"
   },
   {
    "duration": 107,
    "start_time": "2023-03-15T07:28:42.362Z"
   },
   {
    "duration": 5,
    "start_time": "2023-03-15T07:28:52.241Z"
   },
   {
    "duration": 22,
    "start_time": "2023-03-15T07:36:14.776Z"
   },
   {
    "duration": 16,
    "start_time": "2023-03-15T07:38:24.367Z"
   },
   {
    "duration": 24,
    "start_time": "2023-03-15T07:40:08.433Z"
   },
   {
    "duration": 262,
    "start_time": "2023-03-15T07:41:35.630Z"
   },
   {
    "duration": 17,
    "start_time": "2023-03-15T07:43:43.193Z"
   },
   {
    "duration": 87,
    "start_time": "2023-03-15T07:45:27.105Z"
   },
   {
    "duration": 12,
    "start_time": "2023-03-15T07:46:30.639Z"
   },
   {
    "duration": 13,
    "start_time": "2023-03-15T07:47:11.705Z"
   },
   {
    "duration": 16,
    "start_time": "2023-03-15T07:47:24.673Z"
   },
   {
    "duration": 166,
    "start_time": "2023-03-15T07:48:29.228Z"
   },
   {
    "duration": 167,
    "start_time": "2023-03-15T07:48:53.830Z"
   },
   {
    "duration": 158,
    "start_time": "2023-03-15T07:49:17.332Z"
   },
   {
    "duration": 187,
    "start_time": "2023-03-15T07:53:11.326Z"
   },
   {
    "duration": 244,
    "start_time": "2023-03-15T07:53:56.432Z"
   },
   {
    "duration": 195,
    "start_time": "2023-03-15T07:54:36.725Z"
   },
   {
    "duration": 209,
    "start_time": "2023-03-15T07:54:48.405Z"
   },
   {
    "duration": 168,
    "start_time": "2023-03-15T07:54:56.670Z"
   },
   {
    "duration": 329,
    "start_time": "2023-03-15T07:55:09.431Z"
   },
   {
    "duration": 256,
    "start_time": "2023-03-15T07:55:25.458Z"
   },
   {
    "duration": 155,
    "start_time": "2023-03-15T07:56:11.841Z"
   },
   {
    "duration": 165,
    "start_time": "2023-03-15T07:57:57.030Z"
   },
   {
    "duration": 170,
    "start_time": "2023-03-15T07:58:10.426Z"
   },
   {
    "duration": 186,
    "start_time": "2023-03-15T07:58:20.145Z"
   },
   {
    "duration": 98,
    "start_time": "2023-03-15T07:58:46.623Z"
   },
   {
    "duration": 106,
    "start_time": "2023-03-15T07:59:08.208Z"
   },
   {
    "duration": 14,
    "start_time": "2023-03-15T08:02:00.721Z"
   },
   {
    "duration": 91,
    "start_time": "2023-03-15T08:04:15.605Z"
   },
   {
    "duration": 9,
    "start_time": "2023-03-15T08:04:57.037Z"
   },
   {
    "duration": 105,
    "start_time": "2023-03-15T08:05:11.907Z"
   },
   {
    "duration": 8,
    "start_time": "2023-03-15T08:05:21.297Z"
   },
   {
    "duration": 10,
    "start_time": "2023-03-15T08:05:35.272Z"
   },
   {
    "duration": 10,
    "start_time": "2023-03-15T08:06:11.023Z"
   },
   {
    "duration": 9,
    "start_time": "2023-03-15T08:07:42.070Z"
   },
   {
    "duration": 11,
    "start_time": "2023-03-15T08:12:04.034Z"
   },
   {
    "duration": 9,
    "start_time": "2023-03-15T08:12:43.287Z"
   },
   {
    "duration": 9,
    "start_time": "2023-03-15T08:13:43.355Z"
   },
   {
    "duration": 10,
    "start_time": "2023-03-15T08:14:42.405Z"
   },
   {
    "duration": 14,
    "start_time": "2023-03-15T08:14:58.293Z"
   },
   {
    "duration": 87,
    "start_time": "2023-03-15T08:16:01.809Z"
   },
   {
    "duration": 239,
    "start_time": "2023-03-15T08:19:55.235Z"
   },
   {
    "duration": 8,
    "start_time": "2023-03-15T08:22:18.616Z"
   },
   {
    "duration": 13,
    "start_time": "2023-03-15T08:22:42.358Z"
   },
   {
    "duration": 20,
    "start_time": "2023-03-15T08:25:44.523Z"
   },
   {
    "duration": 19,
    "start_time": "2023-03-15T08:27:14.852Z"
   },
   {
    "duration": 12,
    "start_time": "2023-03-15T08:31:41.262Z"
   },
   {
    "duration": 13,
    "start_time": "2023-03-15T08:32:42.574Z"
   },
   {
    "duration": 12,
    "start_time": "2023-03-15T08:36:08.430Z"
   },
   {
    "duration": 12,
    "start_time": "2023-03-15T08:36:50.108Z"
   },
   {
    "duration": 13,
    "start_time": "2023-03-15T08:38:30.012Z"
   },
   {
    "duration": 19,
    "start_time": "2023-03-15T08:38:55.654Z"
   },
   {
    "duration": 13,
    "start_time": "2023-03-15T08:39:28.551Z"
   },
   {
    "duration": 11,
    "start_time": "2023-03-15T08:39:55.600Z"
   },
   {
    "duration": 15,
    "start_time": "2023-03-15T08:40:26.533Z"
   },
   {
    "duration": 13,
    "start_time": "2023-03-15T08:41:15.568Z"
   },
   {
    "duration": 11,
    "start_time": "2023-03-15T08:42:55.432Z"
   },
   {
    "duration": 12,
    "start_time": "2023-03-15T08:43:38.075Z"
   },
   {
    "duration": 13,
    "start_time": "2023-03-15T08:44:35.444Z"
   },
   {
    "duration": 12,
    "start_time": "2023-03-15T08:45:20.566Z"
   },
   {
    "duration": 14,
    "start_time": "2023-03-15T08:48:25.236Z"
   },
   {
    "duration": 13,
    "start_time": "2023-03-15T08:48:43.677Z"
   },
   {
    "duration": 12,
    "start_time": "2023-03-15T08:58:38.354Z"
   },
   {
    "duration": 15,
    "start_time": "2023-03-15T08:58:43.590Z"
   },
   {
    "duration": 13,
    "start_time": "2023-03-15T08:58:56.452Z"
   },
   {
    "duration": 17,
    "start_time": "2023-03-15T09:03:02.322Z"
   },
   {
    "duration": 10,
    "start_time": "2023-03-15T09:05:50.550Z"
   },
   {
    "duration": 117,
    "start_time": "2023-03-15T09:07:42.315Z"
   },
   {
    "duration": 89,
    "start_time": "2023-03-15T09:08:37.430Z"
   },
   {
    "duration": 14,
    "start_time": "2023-03-15T09:12:34.071Z"
   },
   {
    "duration": 10,
    "start_time": "2023-03-15T09:13:22.811Z"
   },
   {
    "duration": 99,
    "start_time": "2023-03-15T09:14:22.523Z"
   },
   {
    "duration": 105,
    "start_time": "2023-03-15T09:15:06.475Z"
   },
   {
    "duration": 13,
    "start_time": "2023-03-15T09:20:18.867Z"
   },
   {
    "duration": 12,
    "start_time": "2023-03-15T09:21:48.771Z"
   },
   {
    "duration": 80,
    "start_time": "2023-03-15T09:26:35.119Z"
   },
   {
    "duration": 15,
    "start_time": "2023-03-15T09:31:22.015Z"
   },
   {
    "duration": 41,
    "start_time": "2023-03-15T09:33:18.219Z"
   },
   {
    "duration": 11,
    "start_time": "2023-03-15T09:33:38.078Z"
   },
   {
    "duration": 104,
    "start_time": "2023-03-15T09:34:37.315Z"
   },
   {
    "duration": 91,
    "start_time": "2023-03-15T09:34:50.526Z"
   },
   {
    "duration": 13,
    "start_time": "2023-03-15T09:37:57.331Z"
   },
   {
    "duration": 11,
    "start_time": "2023-03-15T09:39:58.111Z"
   },
   {
    "duration": 1209,
    "start_time": "2023-03-15T09:40:39.534Z"
   },
   {
    "duration": 97,
    "start_time": "2023-03-15T09:40:59.730Z"
   },
   {
    "duration": 103,
    "start_time": "2023-03-15T09:41:18.413Z"
   },
   {
    "duration": 12,
    "start_time": "2023-03-15T09:45:44.345Z"
   },
   {
    "duration": 13,
    "start_time": "2023-03-15T09:47:37.830Z"
   },
   {
    "duration": 6,
    "start_time": "2023-03-15T09:56:18.843Z"
   },
   {
    "duration": 24,
    "start_time": "2023-03-15T09:56:22.972Z"
   },
   {
    "duration": 6,
    "start_time": "2023-03-15T09:57:49.029Z"
   },
   {
    "duration": 6,
    "start_time": "2023-03-15T10:00:13.475Z"
   },
   {
    "duration": 6,
    "start_time": "2023-03-15T10:01:02.988Z"
   },
   {
    "duration": 6,
    "start_time": "2023-03-15T10:07:13.537Z"
   },
   {
    "duration": 6,
    "start_time": "2023-03-15T10:07:14.270Z"
   },
   {
    "duration": 9,
    "start_time": "2023-03-15T10:07:58.785Z"
   },
   {
    "duration": 7,
    "start_time": "2023-03-15T10:08:17.422Z"
   },
   {
    "duration": 7,
    "start_time": "2023-03-15T10:08:18.029Z"
   },
   {
    "duration": 3,
    "start_time": "2023-03-15T10:52:01.227Z"
   },
   {
    "duration": 1217,
    "start_time": "2023-03-15T11:01:54.956Z"
   },
   {
    "duration": 8,
    "start_time": "2023-03-15T11:02:10.313Z"
   },
   {
    "duration": 12,
    "start_time": "2023-03-15T11:05:39.129Z"
   },
   {
    "duration": 9,
    "start_time": "2023-03-15T11:07:16.225Z"
   },
   {
    "duration": 11,
    "start_time": "2023-03-15T11:11:14.759Z"
   },
   {
    "duration": 12,
    "start_time": "2023-03-15T11:12:22.719Z"
   },
   {
    "duration": 9,
    "start_time": "2023-03-15T11:12:59.176Z"
   },
   {
    "duration": 11,
    "start_time": "2023-03-15T11:13:06.301Z"
   },
   {
    "duration": 6,
    "start_time": "2023-03-15T11:56:31.917Z"
   },
   {
    "duration": 10,
    "start_time": "2023-03-15T11:56:59.121Z"
   },
   {
    "duration": 7,
    "start_time": "2023-03-15T11:58:28.397Z"
   },
   {
    "duration": 8,
    "start_time": "2023-03-15T11:59:12.193Z"
   },
   {
    "duration": 9,
    "start_time": "2023-03-15T12:03:28.154Z"
   },
   {
    "duration": 7,
    "start_time": "2023-03-15T12:03:41.030Z"
   },
   {
    "duration": 8,
    "start_time": "2023-03-15T12:04:00.086Z"
   },
   {
    "duration": 11,
    "start_time": "2023-03-15T12:15:24.138Z"
   },
   {
    "duration": 7,
    "start_time": "2023-03-15T12:25:45.151Z"
   },
   {
    "duration": 8,
    "start_time": "2023-03-15T12:26:25.656Z"
   },
   {
    "duration": 5,
    "start_time": "2023-03-15T12:27:26.577Z"
   },
   {
    "duration": 5,
    "start_time": "2023-03-15T12:28:17.081Z"
   },
   {
    "duration": 4,
    "start_time": "2023-03-15T12:30:11.655Z"
   },
   {
    "duration": 17,
    "start_time": "2023-03-15T12:36:15.806Z"
   },
   {
    "duration": 92,
    "start_time": "2023-03-15T12:59:38.120Z"
   },
   {
    "duration": 72,
    "start_time": "2023-03-15T12:59:52.879Z"
   },
   {
    "duration": 14,
    "start_time": "2023-03-15T13:00:02.791Z"
   },
   {
    "duration": 18,
    "start_time": "2023-03-15T13:03:02.071Z"
   },
   {
    "duration": 191,
    "start_time": "2023-03-15T13:03:09.642Z"
   },
   {
    "duration": 33,
    "start_time": "2023-03-15T13:04:07.786Z"
   },
   {
    "duration": 38,
    "start_time": "2023-03-15T13:06:01.550Z"
   },
   {
    "duration": 34,
    "start_time": "2023-03-15T13:07:17.783Z"
   },
   {
    "duration": 36,
    "start_time": "2023-03-15T13:07:57.085Z"
   },
   {
    "duration": 11,
    "start_time": "2023-03-15T13:08:44.425Z"
   },
   {
    "duration": 143,
    "start_time": "2023-03-15T13:08:45.620Z"
   },
   {
    "duration": 145,
    "start_time": "2023-03-15T13:08:46.094Z"
   },
   {
    "duration": 12,
    "start_time": "2023-03-15T13:08:46.405Z"
   },
   {
    "duration": 268,
    "start_time": "2023-03-15T13:08:46.895Z"
   },
   {
    "duration": 158,
    "start_time": "2023-03-15T13:08:47.165Z"
   },
   {
    "duration": 15,
    "start_time": "2023-03-15T13:08:47.383Z"
   },
   {
    "duration": 147,
    "start_time": "2023-03-15T13:08:47.912Z"
   },
   {
    "duration": 142,
    "start_time": "2023-03-15T13:08:48.191Z"
   },
   {
    "duration": 7,
    "start_time": "2023-03-15T13:08:51.315Z"
   },
   {
    "duration": 5,
    "start_time": "2023-03-15T13:08:51.634Z"
   },
   {
    "duration": 6,
    "start_time": "2023-03-15T13:08:52.039Z"
   },
   {
    "duration": 13,
    "start_time": "2023-03-15T13:08:52.286Z"
   },
   {
    "duration": 144,
    "start_time": "2023-03-15T13:08:52.699Z"
   },
   {
    "duration": 132,
    "start_time": "2023-03-15T13:08:52.883Z"
   },
   {
    "duration": 13,
    "start_time": "2023-03-15T13:08:53.916Z"
   },
   {
    "duration": 244,
    "start_time": "2023-03-15T13:08:54.128Z"
   },
   {
    "duration": 22,
    "start_time": "2023-03-15T13:08:55.204Z"
   },
   {
    "duration": 122,
    "start_time": "2023-03-15T13:08:55.400Z"
   },
   {
    "duration": 16,
    "start_time": "2023-03-15T13:08:55.831Z"
   },
   {
    "duration": 98,
    "start_time": "2023-03-15T13:08:56.089Z"
   },
   {
    "duration": 20,
    "start_time": "2023-03-15T13:08:56.515Z"
   },
   {
    "duration": 19,
    "start_time": "2023-03-15T13:08:56.735Z"
   },
   {
    "duration": 13,
    "start_time": "2023-03-15T13:08:56.952Z"
   },
   {
    "duration": 20,
    "start_time": "2023-03-15T13:08:57.540Z"
   },
   {
    "duration": 13,
    "start_time": "2023-03-15T13:08:57.792Z"
   },
   {
    "duration": 105,
    "start_time": "2023-03-15T13:08:58.029Z"
   },
   {
    "duration": 13,
    "start_time": "2023-03-15T13:08:58.406Z"
   },
   {
    "duration": 10,
    "start_time": "2023-03-15T13:08:58.622Z"
   },
   {
    "duration": 118,
    "start_time": "2023-03-15T13:08:58.869Z"
   },
   {
    "duration": 13,
    "start_time": "2023-03-15T13:08:59.241Z"
   },
   {
    "duration": 17,
    "start_time": "2023-03-15T13:08:59.491Z"
   },
   {
    "duration": 23,
    "start_time": "2023-03-15T13:09:00.154Z"
   },
   {
    "duration": 11,
    "start_time": "2023-03-15T13:09:00.510Z"
   },
   {
    "duration": 104,
    "start_time": "2023-03-15T13:09:00.787Z"
   },
   {
    "duration": 14,
    "start_time": "2023-03-15T13:09:01.359Z"
   },
   {
    "duration": 11,
    "start_time": "2023-03-15T13:09:01.559Z"
   },
   {
    "duration": 97,
    "start_time": "2023-03-15T13:09:01.779Z"
   },
   {
    "duration": 19,
    "start_time": "2023-03-15T13:09:02.229Z"
   },
   {
    "duration": 18,
    "start_time": "2023-03-15T13:09:02.499Z"
   },
   {
    "duration": 8,
    "start_time": "2023-03-15T13:09:02.952Z"
   },
   {
    "duration": 9,
    "start_time": "2023-03-15T13:09:03.195Z"
   },
   {
    "duration": 12,
    "start_time": "2023-03-15T13:09:04.671Z"
   },
   {
    "duration": 10,
    "start_time": "2023-03-15T13:09:05.347Z"
   },
   {
    "duration": 9,
    "start_time": "2023-03-15T13:09:08.127Z"
   },
   {
    "duration": 48,
    "start_time": "2023-03-16T05:34:20.794Z"
   },
   {
    "duration": 47,
    "start_time": "2023-03-16T05:34:36.219Z"
   },
   {
    "duration": 1514,
    "start_time": "2023-03-16T05:38:24.878Z"
   },
   {
    "duration": 129,
    "start_time": "2023-03-16T05:38:26.395Z"
   },
   {
    "duration": 39,
    "start_time": "2023-03-16T05:38:26.579Z"
   },
   {
    "duration": 4,
    "start_time": "2023-03-16T05:38:28.102Z"
   },
   {
    "duration": 21,
    "start_time": "2023-03-16T05:38:29.121Z"
   },
   {
    "duration": 10,
    "start_time": "2023-03-16T05:38:33.694Z"
   },
   {
    "duration": 58,
    "start_time": "2023-03-16T05:38:41.529Z"
   },
   {
    "duration": 96,
    "start_time": "2023-03-16T05:38:57.391Z"
   },
   {
    "duration": 4347,
    "start_time": "2023-03-16T05:43:31.354Z"
   },
   {
    "duration": 1093,
    "start_time": "2023-03-16T05:46:32.626Z"
   },
   {
    "duration": 73,
    "start_time": "2023-03-16T05:54:30.187Z"
   },
   {
    "duration": 14,
    "start_time": "2023-03-16T05:58:15.055Z"
   },
   {
    "duration": 20,
    "start_time": "2023-03-16T05:59:09.251Z"
   },
   {
    "duration": 348,
    "start_time": "2023-03-16T06:01:33.211Z"
   },
   {
    "duration": 343,
    "start_time": "2023-03-16T06:01:49.330Z"
   },
   {
    "duration": 456,
    "start_time": "2023-03-16T06:02:50.293Z"
   },
   {
    "duration": 30,
    "start_time": "2023-03-16T06:24:50.907Z"
   },
   {
    "duration": 19,
    "start_time": "2023-03-16T06:29:20.702Z"
   },
   {
    "duration": 15,
    "start_time": "2023-03-16T06:29:40.774Z"
   },
   {
    "duration": 6,
    "start_time": "2023-03-16T06:30:05.314Z"
   },
   {
    "duration": 6,
    "start_time": "2023-03-16T06:30:15.770Z"
   },
   {
    "duration": 18,
    "start_time": "2023-03-16T06:44:31.117Z"
   },
   {
    "duration": 14,
    "start_time": "2023-03-16T06:47:24.411Z"
   },
   {
    "duration": 14,
    "start_time": "2023-03-16T06:48:07.601Z"
   },
   {
    "duration": 22,
    "start_time": "2023-03-16T06:48:43.052Z"
   },
   {
    "duration": 8,
    "start_time": "2023-03-16T06:48:43.797Z"
   },
   {
    "duration": 11,
    "start_time": "2023-03-16T06:48:44.953Z"
   },
   {
    "duration": 16,
    "start_time": "2023-03-16T06:48:45.307Z"
   },
   {
    "duration": 5,
    "start_time": "2023-03-16T06:48:46.408Z"
   },
   {
    "duration": 11,
    "start_time": "2023-03-16T06:48:46.613Z"
   },
   {
    "duration": 16,
    "start_time": "2023-03-16T06:48:46.883Z"
   },
   {
    "duration": 9,
    "start_time": "2023-03-16T06:48:47.476Z"
   },
   {
    "duration": 14,
    "start_time": "2023-03-16T06:48:48.893Z"
   },
   {
    "duration": 4,
    "start_time": "2023-03-16T06:48:49.310Z"
   },
   {
    "duration": 7,
    "start_time": "2023-03-16T06:48:49.599Z"
   },
   {
    "duration": 25,
    "start_time": "2023-03-16T06:48:49.826Z"
   },
   {
    "duration": 5,
    "start_time": "2023-03-16T06:48:50.102Z"
   },
   {
    "duration": 23,
    "start_time": "2023-03-16T06:48:50.981Z"
   },
   {
    "duration": 13,
    "start_time": "2023-03-16T06:48:53.397Z"
   },
   {
    "duration": 350,
    "start_time": "2023-03-16T06:48:54.555Z"
   },
   {
    "duration": 20,
    "start_time": "2023-03-16T06:48:59.031Z"
   },
   {
    "duration": 287,
    "start_time": "2023-03-16T06:49:04.441Z"
   },
   {
    "duration": 189,
    "start_time": "2023-03-16T06:49:09.291Z"
   },
   {
    "duration": 225,
    "start_time": "2023-03-16T06:49:11.216Z"
   },
   {
    "duration": 240,
    "start_time": "2023-03-16T06:49:11.916Z"
   },
   {
    "duration": 195,
    "start_time": "2023-03-16T06:49:12.614Z"
   },
   {
    "duration": 186,
    "start_time": "2023-03-16T06:49:13.516Z"
   },
   {
    "duration": 273,
    "start_time": "2023-03-16T06:49:14.289Z"
   },
   {
    "duration": 35,
    "start_time": "2023-03-16T06:49:26.827Z"
   },
   {
    "duration": 13,
    "start_time": "2023-03-16T06:51:29.997Z"
   },
   {
    "duration": 21,
    "start_time": "2023-03-16T06:51:44.511Z"
   },
   {
    "duration": 13,
    "start_time": "2023-03-16T06:51:52.416Z"
   },
   {
    "duration": 25,
    "start_time": "2023-03-16T06:52:49.740Z"
   },
   {
    "duration": 23,
    "start_time": "2023-03-16T06:55:54.416Z"
   },
   {
    "duration": 41,
    "start_time": "2023-03-16T06:56:10.070Z"
   },
   {
    "duration": 37,
    "start_time": "2023-03-16T06:59:30.407Z"
   },
   {
    "duration": 19,
    "start_time": "2023-03-16T06:59:51.975Z"
   },
   {
    "duration": 51,
    "start_time": "2023-03-16T07:01:41.799Z"
   },
   {
    "duration": 18,
    "start_time": "2023-03-16T07:04:33.548Z"
   },
   {
    "duration": 9,
    "start_time": "2023-03-16T07:04:47.353Z"
   },
   {
    "duration": 3652,
    "start_time": "2023-03-16T07:05:02.998Z"
   },
   {
    "duration": 33,
    "start_time": "2023-03-16T07:06:44.295Z"
   },
   {
    "duration": 44,
    "start_time": "2023-03-16T07:08:58.911Z"
   },
   {
    "duration": 937,
    "start_time": "2023-03-16T07:09:53.996Z"
   },
   {
    "duration": 961,
    "start_time": "2023-03-16T07:10:14.205Z"
   },
   {
    "duration": 4,
    "start_time": "2023-03-16T07:10:41.318Z"
   },
   {
    "duration": 22,
    "start_time": "2023-03-16T07:10:42.891Z"
   },
   {
    "duration": 19,
    "start_time": "2023-03-16T07:10:49.025Z"
   },
   {
    "duration": 354,
    "start_time": "2023-03-16T07:10:54.220Z"
   },
   {
    "duration": 12,
    "start_time": "2023-03-16T07:10:56.511Z"
   },
   {
    "duration": 316,
    "start_time": "2023-03-16T07:11:04.603Z"
   },
   {
    "duration": 190,
    "start_time": "2023-03-16T07:11:32.710Z"
   },
   {
    "duration": 210,
    "start_time": "2023-03-16T07:11:34.035Z"
   },
   {
    "duration": 355,
    "start_time": "2023-03-16T07:11:35.512Z"
   },
   {
    "duration": 190,
    "start_time": "2023-03-16T07:11:37.519Z"
   },
   {
    "duration": 178,
    "start_time": "2023-03-16T07:11:39.388Z"
   },
   {
    "duration": 175,
    "start_time": "2023-03-16T07:11:40.511Z"
   },
   {
    "duration": 17,
    "start_time": "2023-03-16T07:13:04.793Z"
   },
   {
    "duration": 63,
    "start_time": "2023-03-16T07:13:15.037Z"
   },
   {
    "duration": 46,
    "start_time": "2023-03-16T07:13:59.778Z"
   },
   {
    "duration": 3672,
    "start_time": "2023-03-16T07:15:50.111Z"
   },
   {
    "duration": 946,
    "start_time": "2023-03-16T07:17:41.820Z"
   },
   {
    "duration": 3795,
    "start_time": "2023-03-16T07:19:28.802Z"
   },
   {
    "duration": 18,
    "start_time": "2023-03-16T07:22:24.575Z"
   },
   {
    "duration": 1141,
    "start_time": "2023-03-16T07:22:45.840Z"
   },
   {
    "duration": 10,
    "start_time": "2023-03-16T07:25:32.111Z"
   },
   {
    "duration": 6,
    "start_time": "2023-03-16T07:25:48.616Z"
   },
   {
    "duration": 33,
    "start_time": "2023-03-16T07:25:49.447Z"
   },
   {
    "duration": 13,
    "start_time": "2023-03-16T07:25:50.745Z"
   },
   {
    "duration": 379,
    "start_time": "2023-03-16T07:25:51.491Z"
   },
   {
    "duration": 189,
    "start_time": "2023-03-16T07:26:15.986Z"
   },
   {
    "duration": 143,
    "start_time": "2023-03-16T07:26:20.399Z"
   },
   {
    "duration": 151,
    "start_time": "2023-03-16T07:26:21.391Z"
   },
   {
    "duration": 134,
    "start_time": "2023-03-16T07:26:22.439Z"
   },
   {
    "duration": 147,
    "start_time": "2023-03-16T07:26:23.497Z"
   },
   {
    "duration": 149,
    "start_time": "2023-03-16T07:26:24.231Z"
   },
   {
    "duration": 12,
    "start_time": "2023-03-16T07:26:31.403Z"
   },
   {
    "duration": 14,
    "start_time": "2023-03-16T07:27:09.146Z"
   },
   {
    "duration": 16,
    "start_time": "2023-03-16T07:27:16.811Z"
   },
   {
    "duration": 13,
    "start_time": "2023-03-16T07:27:50.344Z"
   },
   {
    "duration": 141,
    "start_time": "2023-03-16T07:30:40.534Z"
   },
   {
    "duration": 124,
    "start_time": "2023-03-16T07:31:22.207Z"
   },
   {
    "duration": 226,
    "start_time": "2023-03-16T07:31:34.495Z"
   },
   {
    "duration": 164,
    "start_time": "2023-03-16T07:31:47.758Z"
   },
   {
    "duration": 171,
    "start_time": "2023-03-16T07:32:13.996Z"
   },
   {
    "duration": 160,
    "start_time": "2023-03-16T07:32:19.819Z"
   },
   {
    "duration": 240,
    "start_time": "2023-03-16T07:37:27.936Z"
   },
   {
    "duration": 217,
    "start_time": "2023-03-16T07:38:06.367Z"
   },
   {
    "duration": 343,
    "start_time": "2023-03-16T07:39:56.927Z"
   },
   {
    "duration": 9,
    "start_time": "2023-03-16T07:50:40.518Z"
   },
   {
    "duration": 1216,
    "start_time": "2023-03-16T08:16:37.687Z"
   },
   {
    "duration": 73,
    "start_time": "2023-03-16T08:16:38.906Z"
   },
   {
    "duration": 27,
    "start_time": "2023-03-16T08:16:38.981Z"
   },
   {
    "duration": 4,
    "start_time": "2023-03-16T08:16:39.010Z"
   },
   {
    "duration": 69,
    "start_time": "2023-03-16T08:16:39.016Z"
   },
   {
    "duration": 37,
    "start_time": "2023-03-16T08:16:39.087Z"
   },
   {
    "duration": 3283,
    "start_time": "2023-03-16T08:16:39.126Z"
   },
   {
    "duration": 1113,
    "start_time": "2023-03-16T08:16:42.411Z"
   },
   {
    "duration": 38,
    "start_time": "2023-03-16T08:16:43.525Z"
   },
   {
    "duration": 8,
    "start_time": "2023-03-16T08:16:43.565Z"
   },
   {
    "duration": 12,
    "start_time": "2023-03-16T08:16:43.574Z"
   },
   {
    "duration": 20,
    "start_time": "2023-03-16T08:16:43.587Z"
   },
   {
    "duration": 5,
    "start_time": "2023-03-16T08:16:43.608Z"
   },
   {
    "duration": 18,
    "start_time": "2023-03-16T08:16:43.635Z"
   },
   {
    "duration": 17,
    "start_time": "2023-03-16T08:16:43.655Z"
   },
   {
    "duration": 8,
    "start_time": "2023-03-16T08:16:43.673Z"
   },
   {
    "duration": 19,
    "start_time": "2023-03-16T08:16:43.683Z"
   },
   {
    "duration": 5,
    "start_time": "2023-03-16T08:16:43.704Z"
   },
   {
    "duration": 12,
    "start_time": "2023-03-16T08:16:43.710Z"
   },
   {
    "duration": 39,
    "start_time": "2023-03-16T08:16:43.723Z"
   },
   {
    "duration": 5,
    "start_time": "2023-03-16T08:16:43.763Z"
   },
   {
    "duration": 22,
    "start_time": "2023-03-16T08:16:43.770Z"
   },
   {
    "duration": 13,
    "start_time": "2023-03-16T08:16:43.794Z"
   },
   {
    "duration": 386,
    "start_time": "2023-03-16T08:16:43.810Z"
   },
   {
    "duration": 11,
    "start_time": "2023-03-16T08:16:44.198Z"
   },
   {
    "duration": 452,
    "start_time": "2023-03-16T08:16:44.210Z"
   },
   {
    "duration": 0,
    "start_time": "2023-03-16T08:16:44.666Z"
   },
   {
    "duration": 0,
    "start_time": "2023-03-16T08:16:44.667Z"
   },
   {
    "duration": 0,
    "start_time": "2023-03-16T08:16:44.669Z"
   },
   {
    "duration": 0,
    "start_time": "2023-03-16T08:16:44.671Z"
   },
   {
    "duration": 0,
    "start_time": "2023-03-16T08:16:44.672Z"
   },
   {
    "duration": 0,
    "start_time": "2023-03-16T08:16:44.674Z"
   },
   {
    "duration": 0,
    "start_time": "2023-03-16T08:16:44.675Z"
   },
   {
    "duration": 0,
    "start_time": "2023-03-16T08:16:44.677Z"
   },
   {
    "duration": 0,
    "start_time": "2023-03-16T08:16:44.678Z"
   },
   {
    "duration": 0,
    "start_time": "2023-03-16T08:16:44.679Z"
   },
   {
    "duration": 0,
    "start_time": "2023-03-16T08:16:44.681Z"
   },
   {
    "duration": 0,
    "start_time": "2023-03-16T08:16:44.682Z"
   },
   {
    "duration": 0,
    "start_time": "2023-03-16T08:16:44.685Z"
   },
   {
    "duration": 0,
    "start_time": "2023-03-16T08:16:44.686Z"
   },
   {
    "duration": 0,
    "start_time": "2023-03-16T08:16:44.687Z"
   },
   {
    "duration": 0,
    "start_time": "2023-03-16T08:16:44.689Z"
   },
   {
    "duration": 0,
    "start_time": "2023-03-16T08:16:44.691Z"
   },
   {
    "duration": 0,
    "start_time": "2023-03-16T08:16:44.692Z"
   },
   {
    "duration": 0,
    "start_time": "2023-03-16T08:16:44.694Z"
   },
   {
    "duration": 0,
    "start_time": "2023-03-16T08:16:44.694Z"
   },
   {
    "duration": 0,
    "start_time": "2023-03-16T08:16:44.733Z"
   },
   {
    "duration": 0,
    "start_time": "2023-03-16T08:16:44.735Z"
   },
   {
    "duration": 0,
    "start_time": "2023-03-16T08:16:44.736Z"
   },
   {
    "duration": 0,
    "start_time": "2023-03-16T08:16:44.737Z"
   },
   {
    "duration": 0,
    "start_time": "2023-03-16T08:16:44.738Z"
   },
   {
    "duration": 0,
    "start_time": "2023-03-16T08:16:44.739Z"
   },
   {
    "duration": 0,
    "start_time": "2023-03-16T08:16:44.740Z"
   },
   {
    "duration": 0,
    "start_time": "2023-03-16T08:16:44.741Z"
   },
   {
    "duration": 0,
    "start_time": "2023-03-16T08:16:44.742Z"
   },
   {
    "duration": 0,
    "start_time": "2023-03-16T08:16:44.743Z"
   },
   {
    "duration": 0,
    "start_time": "2023-03-16T08:16:44.743Z"
   },
   {
    "duration": 0,
    "start_time": "2023-03-16T08:16:44.744Z"
   },
   {
    "duration": 1,
    "start_time": "2023-03-16T08:16:44.745Z"
   },
   {
    "duration": 0,
    "start_time": "2023-03-16T08:16:44.746Z"
   },
   {
    "duration": 0,
    "start_time": "2023-03-16T08:16:44.747Z"
   },
   {
    "duration": 0,
    "start_time": "2023-03-16T08:16:44.748Z"
   },
   {
    "duration": 0,
    "start_time": "2023-03-16T08:16:44.750Z"
   },
   {
    "duration": 0,
    "start_time": "2023-03-16T08:16:44.751Z"
   },
   {
    "duration": 0,
    "start_time": "2023-03-16T08:16:44.752Z"
   },
   {
    "duration": 0,
    "start_time": "2023-03-16T08:16:44.753Z"
   },
   {
    "duration": 0,
    "start_time": "2023-03-16T08:16:44.754Z"
   },
   {
    "duration": 0,
    "start_time": "2023-03-16T08:16:44.756Z"
   },
   {
    "duration": 0,
    "start_time": "2023-03-16T08:16:44.757Z"
   },
   {
    "duration": 0,
    "start_time": "2023-03-16T08:16:44.758Z"
   },
   {
    "duration": 0,
    "start_time": "2023-03-16T08:16:44.759Z"
   },
   {
    "duration": 0,
    "start_time": "2023-03-16T08:16:44.760Z"
   },
   {
    "duration": 0,
    "start_time": "2023-03-16T08:16:44.760Z"
   },
   {
    "duration": 0,
    "start_time": "2023-03-16T08:16:44.761Z"
   },
   {
    "duration": 0,
    "start_time": "2023-03-16T08:16:44.763Z"
   },
   {
    "duration": 0,
    "start_time": "2023-03-16T08:16:44.764Z"
   },
   {
    "duration": 0,
    "start_time": "2023-03-16T08:16:44.765Z"
   },
   {
    "duration": 0,
    "start_time": "2023-03-16T08:16:44.766Z"
   },
   {
    "duration": 0,
    "start_time": "2023-03-16T08:16:44.767Z"
   },
   {
    "duration": 0,
    "start_time": "2023-03-16T08:16:44.768Z"
   },
   {
    "duration": 0,
    "start_time": "2023-03-16T08:16:44.769Z"
   },
   {
    "duration": 0,
    "start_time": "2023-03-16T08:16:44.770Z"
   },
   {
    "duration": 0,
    "start_time": "2023-03-16T08:16:44.771Z"
   },
   {
    "duration": 0,
    "start_time": "2023-03-16T08:16:44.771Z"
   },
   {
    "duration": 0,
    "start_time": "2023-03-16T08:16:44.772Z"
   },
   {
    "duration": 0,
    "start_time": "2023-03-16T08:16:44.773Z"
   },
   {
    "duration": 0,
    "start_time": "2023-03-16T08:16:44.775Z"
   },
   {
    "duration": 0,
    "start_time": "2023-03-16T08:16:44.775Z"
   },
   {
    "duration": 0,
    "start_time": "2023-03-16T08:16:44.776Z"
   },
   {
    "duration": 0,
    "start_time": "2023-03-16T08:16:44.832Z"
   },
   {
    "duration": 0,
    "start_time": "2023-03-16T08:16:44.833Z"
   },
   {
    "duration": 0,
    "start_time": "2023-03-16T08:16:44.834Z"
   },
   {
    "duration": 0,
    "start_time": "2023-03-16T08:16:44.835Z"
   },
   {
    "duration": 438,
    "start_time": "2023-03-16T08:17:36.040Z"
   },
   {
    "duration": 210,
    "start_time": "2023-03-16T08:17:53.605Z"
   },
   {
    "duration": 233,
    "start_time": "2023-03-16T08:21:01.121Z"
   },
   {
    "duration": 221,
    "start_time": "2023-03-16T08:21:01.955Z"
   },
   {
    "duration": 214,
    "start_time": "2023-03-16T08:21:02.790Z"
   },
   {
    "duration": 194,
    "start_time": "2023-03-16T08:21:03.719Z"
   },
   {
    "duration": 203,
    "start_time": "2023-03-16T08:21:04.894Z"
   },
   {
    "duration": 8,
    "start_time": "2023-03-16T08:21:16.395Z"
   },
   {
    "duration": 1311,
    "start_time": "2023-03-16T08:29:56.116Z"
   },
   {
    "duration": 66,
    "start_time": "2023-03-16T08:29:57.429Z"
   },
   {
    "duration": 26,
    "start_time": "2023-03-16T08:29:57.497Z"
   },
   {
    "duration": 4,
    "start_time": "2023-03-16T08:29:57.525Z"
   },
   {
    "duration": 58,
    "start_time": "2023-03-16T08:29:57.533Z"
   },
   {
    "duration": 9,
    "start_time": "2023-03-16T08:29:57.592Z"
   },
   {
    "duration": 3207,
    "start_time": "2023-03-16T08:29:57.603Z"
   },
   {
    "duration": 1137,
    "start_time": "2023-03-16T08:30:00.812Z"
   },
   {
    "duration": 27,
    "start_time": "2023-03-16T08:30:01.952Z"
   },
   {
    "duration": 72,
    "start_time": "2023-03-16T08:30:01.981Z"
   },
   {
    "duration": 58,
    "start_time": "2023-03-16T08:30:02.062Z"
   },
   {
    "duration": 30,
    "start_time": "2023-03-16T08:30:02.121Z"
   },
   {
    "duration": 34,
    "start_time": "2023-03-16T08:30:02.156Z"
   },
   {
    "duration": 27,
    "start_time": "2023-03-16T08:30:02.193Z"
   },
   {
    "duration": 72,
    "start_time": "2023-03-16T08:30:02.221Z"
   },
   {
    "duration": 70,
    "start_time": "2023-03-16T08:30:02.295Z"
   },
   {
    "duration": 35,
    "start_time": "2023-03-16T08:30:02.367Z"
   },
   {
    "duration": 12,
    "start_time": "2023-03-16T08:30:02.406Z"
   },
   {
    "duration": 80,
    "start_time": "2023-03-16T08:30:02.420Z"
   },
   {
    "duration": 66,
    "start_time": "2023-03-16T08:30:02.501Z"
   },
   {
    "duration": 34,
    "start_time": "2023-03-16T08:30:02.568Z"
   },
   {
    "duration": 53,
    "start_time": "2023-03-16T08:30:02.604Z"
   },
   {
    "duration": 52,
    "start_time": "2023-03-16T08:30:02.659Z"
   },
   {
    "duration": 432,
    "start_time": "2023-03-16T08:30:02.713Z"
   },
   {
    "duration": 14,
    "start_time": "2023-03-16T08:30:03.150Z"
   },
   {
    "duration": 394,
    "start_time": "2023-03-16T08:30:03.166Z"
   },
   {
    "duration": 221,
    "start_time": "2023-03-16T08:30:03.562Z"
   },
   {
    "duration": 312,
    "start_time": "2023-03-16T08:30:03.784Z"
   },
   {
    "duration": 224,
    "start_time": "2023-03-16T08:30:04.098Z"
   },
   {
    "duration": 240,
    "start_time": "2023-03-16T08:30:04.324Z"
   },
   {
    "duration": 202,
    "start_time": "2023-03-16T08:30:04.566Z"
   },
   {
    "duration": 214,
    "start_time": "2023-03-16T08:30:04.770Z"
   },
   {
    "duration": 27,
    "start_time": "2023-03-16T08:30:04.985Z"
   },
   {
    "duration": 65,
    "start_time": "2023-03-16T08:30:05.014Z"
   },
   {
    "duration": 6,
    "start_time": "2023-03-16T08:30:05.080Z"
   },
   {
    "duration": 28,
    "start_time": "2023-03-16T08:30:05.088Z"
   },
   {
    "duration": 32,
    "start_time": "2023-03-16T08:30:05.117Z"
   },
   {
    "duration": 232,
    "start_time": "2023-03-16T08:30:05.150Z"
   },
   {
    "duration": 167,
    "start_time": "2023-03-16T08:30:05.384Z"
   },
   {
    "duration": 156,
    "start_time": "2023-03-16T08:30:05.553Z"
   },
   {
    "duration": 165,
    "start_time": "2023-03-16T08:30:05.714Z"
   },
   {
    "duration": 173,
    "start_time": "2023-03-16T08:30:05.880Z"
   },
   {
    "duration": 153,
    "start_time": "2023-03-16T08:30:06.061Z"
   },
   {
    "duration": 390,
    "start_time": "2023-03-16T08:30:06.216Z"
   },
   {
    "duration": 0,
    "start_time": "2023-03-16T08:30:06.608Z"
   },
   {
    "duration": 0,
    "start_time": "2023-03-16T08:30:06.610Z"
   },
   {
    "duration": 0,
    "start_time": "2023-03-16T08:30:06.611Z"
   },
   {
    "duration": 0,
    "start_time": "2023-03-16T08:30:06.612Z"
   },
   {
    "duration": 0,
    "start_time": "2023-03-16T08:30:06.614Z"
   },
   {
    "duration": 0,
    "start_time": "2023-03-16T08:30:06.615Z"
   },
   {
    "duration": 0,
    "start_time": "2023-03-16T08:30:06.616Z"
   },
   {
    "duration": 0,
    "start_time": "2023-03-16T08:30:06.618Z"
   },
   {
    "duration": 0,
    "start_time": "2023-03-16T08:30:06.619Z"
   },
   {
    "duration": 0,
    "start_time": "2023-03-16T08:30:06.620Z"
   },
   {
    "duration": 0,
    "start_time": "2023-03-16T08:30:06.637Z"
   },
   {
    "duration": 0,
    "start_time": "2023-03-16T08:30:06.639Z"
   },
   {
    "duration": 0,
    "start_time": "2023-03-16T08:30:06.651Z"
   },
   {
    "duration": 0,
    "start_time": "2023-03-16T08:30:06.652Z"
   },
   {
    "duration": 0,
    "start_time": "2023-03-16T08:30:06.653Z"
   },
   {
    "duration": 0,
    "start_time": "2023-03-16T08:30:06.658Z"
   },
   {
    "duration": 0,
    "start_time": "2023-03-16T08:30:06.659Z"
   },
   {
    "duration": 0,
    "start_time": "2023-03-16T08:30:06.660Z"
   },
   {
    "duration": 0,
    "start_time": "2023-03-16T08:30:06.661Z"
   },
   {
    "duration": 1,
    "start_time": "2023-03-16T08:30:06.662Z"
   },
   {
    "duration": 0,
    "start_time": "2023-03-16T08:30:06.664Z"
   },
   {
    "duration": 0,
    "start_time": "2023-03-16T08:30:06.665Z"
   },
   {
    "duration": 0,
    "start_time": "2023-03-16T08:30:06.666Z"
   },
   {
    "duration": 0,
    "start_time": "2023-03-16T08:30:06.666Z"
   },
   {
    "duration": 0,
    "start_time": "2023-03-16T08:30:06.667Z"
   },
   {
    "duration": 0,
    "start_time": "2023-03-16T08:30:06.668Z"
   },
   {
    "duration": 0,
    "start_time": "2023-03-16T08:30:06.669Z"
   },
   {
    "duration": 0,
    "start_time": "2023-03-16T08:30:06.670Z"
   },
   {
    "duration": 0,
    "start_time": "2023-03-16T08:30:06.797Z"
   },
   {
    "duration": 0,
    "start_time": "2023-03-16T08:30:06.799Z"
   },
   {
    "duration": 0,
    "start_time": "2023-03-16T08:30:06.800Z"
   },
   {
    "duration": 0,
    "start_time": "2023-03-16T08:30:06.802Z"
   },
   {
    "duration": 0,
    "start_time": "2023-03-16T08:30:06.803Z"
   },
   {
    "duration": 0,
    "start_time": "2023-03-16T08:30:06.805Z"
   },
   {
    "duration": 0,
    "start_time": "2023-03-16T08:30:06.806Z"
   },
   {
    "duration": 0,
    "start_time": "2023-03-16T08:30:06.808Z"
   },
   {
    "duration": 0,
    "start_time": "2023-03-16T08:30:06.810Z"
   },
   {
    "duration": 0,
    "start_time": "2023-03-16T08:30:06.844Z"
   },
   {
    "duration": 0,
    "start_time": "2023-03-16T08:30:06.846Z"
   },
   {
    "duration": 0,
    "start_time": "2023-03-16T08:30:06.847Z"
   },
   {
    "duration": 0,
    "start_time": "2023-03-16T08:30:06.848Z"
   },
   {
    "duration": 0,
    "start_time": "2023-03-16T08:30:06.848Z"
   },
   {
    "duration": 0,
    "start_time": "2023-03-16T08:30:06.849Z"
   },
   {
    "duration": 0,
    "start_time": "2023-03-16T08:30:06.851Z"
   },
   {
    "duration": 0,
    "start_time": "2023-03-16T08:30:06.852Z"
   },
   {
    "duration": 0,
    "start_time": "2023-03-16T08:30:06.855Z"
   },
   {
    "duration": 0,
    "start_time": "2023-03-16T08:30:06.855Z"
   },
   {
    "duration": 0,
    "start_time": "2023-03-16T08:30:06.856Z"
   },
   {
    "duration": 242,
    "start_time": "2023-03-16T08:31:13.125Z"
   },
   {
    "duration": 175,
    "start_time": "2023-03-16T08:55:06.943Z"
   },
   {
    "duration": 15,
    "start_time": "2023-03-16T08:56:11.991Z"
   },
   {
    "duration": 165,
    "start_time": "2023-03-16T08:59:00.783Z"
   },
   {
    "duration": 153,
    "start_time": "2023-03-16T09:01:07.683Z"
   },
   {
    "duration": 156,
    "start_time": "2023-03-16T09:01:31.606Z"
   },
   {
    "duration": 25,
    "start_time": "2023-03-16T09:06:58.438Z"
   },
   {
    "duration": 163,
    "start_time": "2023-03-16T09:08:38.822Z"
   },
   {
    "duration": 33,
    "start_time": "2023-03-16T09:16:08.783Z"
   },
   {
    "duration": 34,
    "start_time": "2023-03-16T09:16:10.942Z"
   },
   {
    "duration": 35,
    "start_time": "2023-03-16T09:16:12.143Z"
   },
   {
    "duration": 9,
    "start_time": "2023-03-16T09:17:59.848Z"
   },
   {
    "duration": 14,
    "start_time": "2023-03-16T09:18:08.907Z"
   },
   {
    "duration": 166,
    "start_time": "2023-03-16T09:18:10.115Z"
   },
   {
    "duration": 194,
    "start_time": "2023-03-16T09:18:11.012Z"
   },
   {
    "duration": 15,
    "start_time": "2023-03-16T09:18:11.538Z"
   },
   {
    "duration": 164,
    "start_time": "2023-03-16T09:18:12.287Z"
   },
   {
    "duration": 173,
    "start_time": "2023-03-16T09:18:12.816Z"
   },
   {
    "duration": 15,
    "start_time": "2023-03-16T09:18:13.028Z"
   },
   {
    "duration": 167,
    "start_time": "2023-03-16T09:18:13.518Z"
   },
   {
    "duration": 168,
    "start_time": "2023-03-16T09:18:13.825Z"
   },
   {
    "duration": 7,
    "start_time": "2023-03-16T09:18:15.215Z"
   },
   {
    "duration": 4,
    "start_time": "2023-03-16T09:18:15.655Z"
   },
   {
    "duration": 5,
    "start_time": "2023-03-16T09:18:16.147Z"
   },
   {
    "duration": 15,
    "start_time": "2023-03-16T09:18:16.604Z"
   },
   {
    "duration": 131,
    "start_time": "2023-03-16T09:18:17.775Z"
   },
   {
    "duration": 137,
    "start_time": "2023-03-16T09:18:19.291Z"
   },
   {
    "duration": 13,
    "start_time": "2023-03-16T09:18:23.787Z"
   },
   {
    "duration": 20,
    "start_time": "2023-03-16T09:19:39.032Z"
   },
   {
    "duration": 319,
    "start_time": "2023-03-16T09:20:40.145Z"
   },
   {
    "duration": 4,
    "start_time": "2023-03-16T09:21:35.580Z"
   },
   {
    "duration": 175,
    "start_time": "2023-03-16T09:22:00.799Z"
   },
   {
    "duration": 157,
    "start_time": "2023-03-16T09:22:23.856Z"
   },
   {
    "duration": 175,
    "start_time": "2023-03-16T09:22:51.150Z"
   },
   {
    "duration": 210,
    "start_time": "2023-03-16T09:27:00.212Z"
   },
   {
    "duration": 17,
    "start_time": "2023-03-16T09:31:04.483Z"
   },
   {
    "duration": 104,
    "start_time": "2023-03-16T09:31:04.502Z"
   },
   {
    "duration": 14,
    "start_time": "2023-03-16T09:31:04.608Z"
   },
   {
    "duration": 116,
    "start_time": "2023-03-16T09:31:04.623Z"
   },
   {
    "duration": 22,
    "start_time": "2023-03-16T09:31:04.741Z"
   },
   {
    "duration": 13,
    "start_time": "2023-03-16T09:31:04.766Z"
   },
   {
    "duration": 11,
    "start_time": "2023-03-16T09:31:04.781Z"
   },
   {
    "duration": 14,
    "start_time": "2023-03-16T09:31:04.794Z"
   },
   {
    "duration": 15,
    "start_time": "2023-03-16T09:31:04.832Z"
   },
   {
    "duration": 116,
    "start_time": "2023-03-16T09:31:04.848Z"
   },
   {
    "duration": 13,
    "start_time": "2023-03-16T09:31:04.966Z"
   },
   {
    "duration": 20,
    "start_time": "2023-03-16T09:31:04.981Z"
   },
   {
    "duration": 120,
    "start_time": "2023-03-16T09:31:05.004Z"
   },
   {
    "duration": 23,
    "start_time": "2023-03-16T09:31:05.130Z"
   },
   {
    "duration": 17,
    "start_time": "2023-03-16T09:31:05.158Z"
   },
   {
    "duration": 17,
    "start_time": "2023-03-16T09:31:05.177Z"
   },
   {
    "duration": 14,
    "start_time": "2023-03-16T09:31:05.196Z"
   },
   {
    "duration": 101,
    "start_time": "2023-03-16T09:31:05.211Z"
   },
   {
    "duration": 23,
    "start_time": "2023-03-16T09:31:05.314Z"
   },
   {
    "duration": 24,
    "start_time": "2023-03-16T09:31:05.342Z"
   },
   {
    "duration": 100,
    "start_time": "2023-03-16T09:31:05.367Z"
   },
   {
    "duration": 11,
    "start_time": "2023-03-16T09:31:05.469Z"
   },
   {
    "duration": 27,
    "start_time": "2023-03-16T09:31:05.481Z"
   },
   {
    "duration": 19,
    "start_time": "2023-03-16T09:31:05.510Z"
   },
   {
    "duration": 49,
    "start_time": "2023-03-16T09:31:05.530Z"
   },
   {
    "duration": 39,
    "start_time": "2023-03-16T09:31:05.580Z"
   },
   {
    "duration": 37,
    "start_time": "2023-03-16T09:31:05.621Z"
   },
   {
    "duration": 14,
    "start_time": "2023-03-16T09:31:05.660Z"
   },
   {
    "duration": 149,
    "start_time": "2023-03-16T09:34:36.135Z"
   },
   {
    "duration": 213,
    "start_time": "2023-03-16T09:35:17.924Z"
   },
   {
    "duration": 16,
    "start_time": "2023-03-16T09:38:12.462Z"
   },
   {
    "duration": 243,
    "start_time": "2023-03-16T09:38:33.908Z"
   },
   {
    "duration": 198,
    "start_time": "2023-03-16T09:45:17.412Z"
   },
   {
    "duration": 215,
    "start_time": "2023-03-16T09:45:30.558Z"
   },
   {
    "duration": 245,
    "start_time": "2023-03-16T09:46:10.589Z"
   },
   {
    "duration": 14,
    "start_time": "2023-03-16T09:46:31.758Z"
   },
   {
    "duration": 19,
    "start_time": "2023-03-16T09:47:13.530Z"
   },
   {
    "duration": 333,
    "start_time": "2023-03-16T09:51:59.934Z"
   },
   {
    "duration": 198,
    "start_time": "2023-03-16T09:52:18.697Z"
   },
   {
    "duration": 193,
    "start_time": "2023-03-16T09:53:52.776Z"
   },
   {
    "duration": 185,
    "start_time": "2023-03-16T09:54:29.769Z"
   },
   {
    "duration": 198,
    "start_time": "2023-03-16T09:54:42.908Z"
   },
   {
    "duration": 220,
    "start_time": "2023-03-16T09:57:10.758Z"
   },
   {
    "duration": 1488,
    "start_time": "2023-08-18T07:12:01.670Z"
   },
   {
    "duration": 185,
    "start_time": "2023-08-18T07:12:03.160Z"
   },
   {
    "duration": 25,
    "start_time": "2023-08-18T07:12:03.346Z"
   },
   {
    "duration": 4,
    "start_time": "2023-08-18T07:12:03.373Z"
   },
   {
    "duration": 18,
    "start_time": "2023-08-18T07:12:03.379Z"
   },
   {
    "duration": 9,
    "start_time": "2023-08-18T07:12:03.399Z"
   },
   {
    "duration": 3922,
    "start_time": "2023-08-18T07:12:03.410Z"
   },
   {
    "duration": 1019,
    "start_time": "2023-08-18T07:12:07.334Z"
   },
   {
    "duration": 27,
    "start_time": "2023-08-18T07:12:08.355Z"
   },
   {
    "duration": 21,
    "start_time": "2023-08-18T07:12:08.385Z"
   },
   {
    "duration": 11,
    "start_time": "2023-08-18T07:12:08.408Z"
   },
   {
    "duration": 17,
    "start_time": "2023-08-18T07:12:08.421Z"
   },
   {
    "duration": 5,
    "start_time": "2023-08-18T07:12:08.439Z"
   },
   {
    "duration": 31,
    "start_time": "2023-08-18T07:12:08.446Z"
   },
   {
    "duration": 18,
    "start_time": "2023-08-18T07:12:08.478Z"
   },
   {
    "duration": 18,
    "start_time": "2023-08-18T07:12:08.498Z"
   },
   {
    "duration": 14,
    "start_time": "2023-08-18T07:12:08.518Z"
   },
   {
    "duration": 3,
    "start_time": "2023-08-18T07:12:08.534Z"
   },
   {
    "duration": 32,
    "start_time": "2023-08-18T07:12:08.539Z"
   },
   {
    "duration": 19,
    "start_time": "2023-08-18T07:12:08.573Z"
   },
   {
    "duration": 5,
    "start_time": "2023-08-18T07:12:08.593Z"
   },
   {
    "duration": 27,
    "start_time": "2023-08-18T07:12:08.600Z"
   },
   {
    "duration": 18,
    "start_time": "2023-08-18T07:12:08.629Z"
   },
   {
    "duration": 362,
    "start_time": "2023-08-18T07:12:08.648Z"
   },
   {
    "duration": 13,
    "start_time": "2023-08-18T07:12:09.011Z"
   },
   {
    "duration": 305,
    "start_time": "2023-08-18T07:12:09.025Z"
   },
   {
    "duration": 189,
    "start_time": "2023-08-18T07:12:09.331Z"
   },
   {
    "duration": 293,
    "start_time": "2023-08-18T07:12:09.525Z"
   },
   {
    "duration": 197,
    "start_time": "2023-08-18T07:12:09.819Z"
   },
   {
    "duration": 194,
    "start_time": "2023-08-18T07:12:10.018Z"
   },
   {
    "duration": 190,
    "start_time": "2023-08-18T07:12:10.214Z"
   },
   {
    "duration": 188,
    "start_time": "2023-08-18T07:12:10.406Z"
   },
   {
    "duration": 25,
    "start_time": "2023-08-18T07:12:10.595Z"
   },
   {
    "duration": 60,
    "start_time": "2023-08-18T07:12:10.621Z"
   },
   {
    "duration": 1234,
    "start_time": "2023-08-18T07:12:40.071Z"
   },
   {
    "duration": 60,
    "start_time": "2023-08-18T07:12:41.306Z"
   },
   {
    "duration": 30,
    "start_time": "2023-08-18T07:12:41.368Z"
   },
   {
    "duration": 25,
    "start_time": "2023-08-18T07:12:41.401Z"
   },
   {
    "duration": 26,
    "start_time": "2023-08-18T07:12:41.427Z"
   },
   {
    "duration": 9,
    "start_time": "2023-08-18T07:12:41.455Z"
   },
   {
    "duration": 3001,
    "start_time": "2023-08-18T07:12:41.466Z"
   },
   {
    "duration": 1110,
    "start_time": "2023-08-18T07:12:44.469Z"
   },
   {
    "duration": 24,
    "start_time": "2023-08-18T07:12:45.581Z"
   },
   {
    "duration": 12,
    "start_time": "2023-08-18T07:12:45.608Z"
   },
   {
    "duration": 18,
    "start_time": "2023-08-18T07:12:45.622Z"
   },
   {
    "duration": 38,
    "start_time": "2023-08-18T07:12:45.643Z"
   },
   {
    "duration": 6,
    "start_time": "2023-08-18T07:12:45.683Z"
   },
   {
    "duration": 18,
    "start_time": "2023-08-18T07:12:45.691Z"
   },
   {
    "duration": 20,
    "start_time": "2023-08-18T07:12:45.711Z"
   },
   {
    "duration": 35,
    "start_time": "2023-08-18T07:12:45.733Z"
   },
   {
    "duration": 19,
    "start_time": "2023-08-18T07:12:45.770Z"
   },
   {
    "duration": 7,
    "start_time": "2023-08-18T07:12:45.791Z"
   },
   {
    "duration": 48,
    "start_time": "2023-08-18T07:12:45.801Z"
   },
   {
    "duration": 28,
    "start_time": "2023-08-18T07:12:45.852Z"
   },
   {
    "duration": 6,
    "start_time": "2023-08-18T07:12:45.882Z"
   },
   {
    "duration": 30,
    "start_time": "2023-08-18T07:12:45.889Z"
   },
   {
    "duration": 33,
    "start_time": "2023-08-18T07:12:45.922Z"
   },
   {
    "duration": 451,
    "start_time": "2023-08-18T07:12:45.957Z"
   },
   {
    "duration": 16,
    "start_time": "2023-08-18T07:12:46.410Z"
   },
   {
    "duration": 317,
    "start_time": "2023-08-18T07:12:46.428Z"
   },
   {
    "duration": 210,
    "start_time": "2023-08-18T07:12:46.747Z"
   },
   {
    "duration": 311,
    "start_time": "2023-08-18T07:12:46.963Z"
   },
   {
    "duration": 206,
    "start_time": "2023-08-18T07:12:47.276Z"
   },
   {
    "duration": 244,
    "start_time": "2023-08-18T07:12:47.483Z"
   },
   {
    "duration": 242,
    "start_time": "2023-08-18T07:12:47.729Z"
   },
   {
    "duration": 201,
    "start_time": "2023-08-18T07:12:47.973Z"
   },
   {
    "duration": 26,
    "start_time": "2023-08-18T07:12:48.175Z"
   },
   {
    "duration": 44,
    "start_time": "2023-08-18T07:12:48.203Z"
   },
   {
    "duration": 7,
    "start_time": "2023-08-18T07:12:48.268Z"
   },
   {
    "duration": 24,
    "start_time": "2023-08-18T07:12:48.276Z"
   },
   {
    "duration": 13,
    "start_time": "2023-08-18T07:12:48.302Z"
   },
   {
    "duration": 216,
    "start_time": "2023-08-18T07:12:48.317Z"
   },
   {
    "duration": 168,
    "start_time": "2023-08-18T07:12:48.535Z"
   },
   {
    "duration": 161,
    "start_time": "2023-08-18T07:12:48.706Z"
   },
   {
    "duration": 163,
    "start_time": "2023-08-18T07:12:48.869Z"
   },
   {
    "duration": 151,
    "start_time": "2023-08-18T07:12:49.034Z"
   },
   {
    "duration": 148,
    "start_time": "2023-08-18T07:12:49.187Z"
   },
   {
    "duration": 201,
    "start_time": "2023-08-18T07:12:49.337Z"
   },
   {
    "duration": 40,
    "start_time": "2023-08-18T07:12:49.540Z"
   },
   {
    "duration": 145,
    "start_time": "2023-08-18T07:12:49.581Z"
   },
   {
    "duration": 43,
    "start_time": "2023-08-18T07:12:49.728Z"
   },
   {
    "duration": 10,
    "start_time": "2023-08-18T07:12:49.773Z"
   },
   {
    "duration": 163,
    "start_time": "2023-08-18T07:12:49.784Z"
   },
   {
    "duration": 179,
    "start_time": "2023-08-18T07:12:49.949Z"
   },
   {
    "duration": 12,
    "start_time": "2023-08-18T07:12:50.130Z"
   },
   {
    "duration": 166,
    "start_time": "2023-08-18T07:12:50.143Z"
   },
   {
    "duration": 166,
    "start_time": "2023-08-18T07:12:50.311Z"
   },
   {
    "duration": 12,
    "start_time": "2023-08-18T07:12:50.479Z"
   },
   {
    "duration": 178,
    "start_time": "2023-08-18T07:12:50.492Z"
   },
   {
    "duration": 162,
    "start_time": "2023-08-18T07:12:50.672Z"
   },
   {
    "duration": 5,
    "start_time": "2023-08-18T07:12:50.836Z"
   },
   {
    "duration": 25,
    "start_time": "2023-08-18T07:12:50.843Z"
   },
   {
    "duration": 15,
    "start_time": "2023-08-18T07:12:50.869Z"
   },
   {
    "duration": 19,
    "start_time": "2023-08-18T07:12:50.886Z"
   },
   {
    "duration": 138,
    "start_time": "2023-08-18T07:12:50.907Z"
   },
   {
    "duration": 137,
    "start_time": "2023-08-18T07:12:51.047Z"
   },
   {
    "duration": 14,
    "start_time": "2023-08-18T07:12:51.186Z"
   },
   {
    "duration": 216,
    "start_time": "2023-08-18T07:12:51.201Z"
   },
   {
    "duration": 18,
    "start_time": "2023-08-18T07:12:51.419Z"
   },
   {
    "duration": 111,
    "start_time": "2023-08-18T07:12:51.439Z"
   },
   {
    "duration": 25,
    "start_time": "2023-08-18T07:12:51.552Z"
   },
   {
    "duration": 129,
    "start_time": "2023-08-18T07:12:51.579Z"
   },
   {
    "duration": 20,
    "start_time": "2023-08-18T07:12:51.710Z"
   },
   {
    "duration": 32,
    "start_time": "2023-08-18T07:12:51.731Z"
   },
   {
    "duration": 20,
    "start_time": "2023-08-18T07:12:51.767Z"
   },
   {
    "duration": 25,
    "start_time": "2023-08-18T07:12:51.789Z"
   },
   {
    "duration": 10,
    "start_time": "2023-08-18T07:12:51.816Z"
   },
   {
    "duration": 155,
    "start_time": "2023-08-18T07:12:51.828Z"
   },
   {
    "duration": 14,
    "start_time": "2023-08-18T07:12:51.985Z"
   },
   {
    "duration": 26,
    "start_time": "2023-08-18T07:12:52.001Z"
   },
   {
    "duration": 110,
    "start_time": "2023-08-18T07:12:52.029Z"
   },
   {
    "duration": 27,
    "start_time": "2023-08-18T07:12:52.141Z"
   },
   {
    "duration": 28,
    "start_time": "2023-08-18T07:12:52.170Z"
   },
   {
    "duration": 34,
    "start_time": "2023-08-18T07:12:52.199Z"
   },
   {
    "duration": 23,
    "start_time": "2023-08-18T07:12:52.235Z"
   },
   {
    "duration": 126,
    "start_time": "2023-08-18T07:12:52.264Z"
   },
   {
    "duration": 15,
    "start_time": "2023-08-18T07:12:52.391Z"
   },
   {
    "duration": 16,
    "start_time": "2023-08-18T07:12:52.408Z"
   },
   {
    "duration": 143,
    "start_time": "2023-08-18T07:12:52.426Z"
   },
   {
    "duration": 14,
    "start_time": "2023-08-18T07:12:52.571Z"
   },
   {
    "duration": 29,
    "start_time": "2023-08-18T07:12:52.587Z"
   },
   {
    "duration": 7,
    "start_time": "2023-08-18T07:12:52.617Z"
   },
   {
    "duration": 9,
    "start_time": "2023-08-18T07:12:52.625Z"
   },
   {
    "duration": 16,
    "start_time": "2023-08-18T07:12:52.636Z"
   },
   {
    "duration": 40,
    "start_time": "2023-08-18T07:12:52.653Z"
   },
   {
    "duration": 50,
    "start_time": "2023-08-18T07:12:52.695Z"
   },
   {
    "duration": 3,
    "start_time": "2023-08-18T07:14:50.106Z"
   },
   {
    "duration": 28,
    "start_time": "2023-08-18T07:18:20.343Z"
   },
   {
    "duration": 10,
    "start_time": "2023-08-18T07:18:33.081Z"
   },
   {
    "duration": 342,
    "start_time": "2023-08-18T07:25:32.548Z"
   },
   {
    "duration": 19,
    "start_time": "2023-08-18T08:35:20.979Z"
   },
   {
    "duration": 1277,
    "start_time": "2023-08-18T08:35:33.529Z"
   },
   {
    "duration": 57,
    "start_time": "2023-08-18T08:35:34.808Z"
   },
   {
    "duration": 28,
    "start_time": "2023-08-18T08:35:34.867Z"
   },
   {
    "duration": 3,
    "start_time": "2023-08-18T08:35:34.898Z"
   },
   {
    "duration": 25,
    "start_time": "2023-08-18T08:35:34.903Z"
   },
   {
    "duration": 11,
    "start_time": "2023-08-18T08:35:34.930Z"
   },
   {
    "duration": 3061,
    "start_time": "2023-08-18T08:35:34.943Z"
   },
   {
    "duration": 1049,
    "start_time": "2023-08-18T08:35:38.007Z"
   },
   {
    "duration": 29,
    "start_time": "2023-08-18T08:35:39.058Z"
   },
   {
    "duration": 12,
    "start_time": "2023-08-18T08:35:39.090Z"
   },
   {
    "duration": 17,
    "start_time": "2023-08-18T08:35:39.104Z"
   },
   {
    "duration": 17,
    "start_time": "2023-08-18T08:35:39.123Z"
   },
   {
    "duration": 5,
    "start_time": "2023-08-18T08:35:39.142Z"
   },
   {
    "duration": 32,
    "start_time": "2023-08-18T08:35:39.149Z"
   },
   {
    "duration": 37,
    "start_time": "2023-08-18T08:35:39.183Z"
   },
   {
    "duration": 14,
    "start_time": "2023-08-18T08:35:39.222Z"
   },
   {
    "duration": 32,
    "start_time": "2023-08-18T08:35:39.237Z"
   },
   {
    "duration": 4,
    "start_time": "2023-08-18T08:35:39.271Z"
   },
   {
    "duration": 18,
    "start_time": "2023-08-18T08:35:39.276Z"
   },
   {
    "duration": 16,
    "start_time": "2023-08-18T08:35:39.296Z"
   },
   {
    "duration": 5,
    "start_time": "2023-08-18T08:35:39.313Z"
   },
   {
    "duration": 45,
    "start_time": "2023-08-18T08:35:39.319Z"
   },
   {
    "duration": 43,
    "start_time": "2023-08-18T08:35:39.366Z"
   },
   {
    "duration": 340,
    "start_time": "2023-08-18T08:35:39.411Z"
   },
   {
    "duration": 20,
    "start_time": "2023-08-18T08:35:39.752Z"
   },
   {
    "duration": 313,
    "start_time": "2023-08-18T08:35:39.773Z"
   },
   {
    "duration": 206,
    "start_time": "2023-08-18T08:35:40.087Z"
   },
   {
    "duration": 293,
    "start_time": "2023-08-18T08:35:40.297Z"
   },
   {
    "duration": 199,
    "start_time": "2023-08-18T08:35:40.591Z"
   },
   {
    "duration": 198,
    "start_time": "2023-08-18T08:35:40.792Z"
   },
   {
    "duration": 210,
    "start_time": "2023-08-18T08:35:40.991Z"
   },
   {
    "duration": 186,
    "start_time": "2023-08-18T08:35:41.203Z"
   },
   {
    "duration": 26,
    "start_time": "2023-08-18T08:35:41.391Z"
   },
   {
    "duration": 62,
    "start_time": "2023-08-18T08:35:41.419Z"
   },
   {
    "duration": 6,
    "start_time": "2023-08-18T08:35:41.483Z"
   },
   {
    "duration": 27,
    "start_time": "2023-08-18T08:35:41.490Z"
   },
   {
    "duration": 14,
    "start_time": "2023-08-18T08:35:41.519Z"
   },
   {
    "duration": 213,
    "start_time": "2023-08-18T08:35:41.535Z"
   },
   {
    "duration": 161,
    "start_time": "2023-08-18T08:35:41.750Z"
   },
   {
    "duration": 162,
    "start_time": "2023-08-18T08:35:41.913Z"
   },
   {
    "duration": 149,
    "start_time": "2023-08-18T08:35:42.076Z"
   },
   {
    "duration": 168,
    "start_time": "2023-08-18T08:35:42.227Z"
   },
   {
    "duration": 158,
    "start_time": "2023-08-18T08:35:42.396Z"
   },
   {
    "duration": 215,
    "start_time": "2023-08-18T08:35:42.555Z"
   },
   {
    "duration": 34,
    "start_time": "2023-08-18T08:35:42.772Z"
   },
   {
    "duration": 155,
    "start_time": "2023-08-18T08:35:42.807Z"
   },
   {
    "duration": 33,
    "start_time": "2023-08-18T08:35:42.968Z"
   },
   {
    "duration": 11,
    "start_time": "2023-08-18T08:35:43.003Z"
   },
   {
    "duration": 180,
    "start_time": "2023-08-18T08:35:43.016Z"
   },
   {
    "duration": 186,
    "start_time": "2023-08-18T08:35:43.198Z"
   },
   {
    "duration": 12,
    "start_time": "2023-08-18T08:35:43.387Z"
   },
   {
    "duration": 176,
    "start_time": "2023-08-18T08:35:43.401Z"
   },
   {
    "duration": 168,
    "start_time": "2023-08-18T08:35:43.579Z"
   },
   {
    "duration": 19,
    "start_time": "2023-08-18T08:35:43.749Z"
   },
   {
    "duration": 194,
    "start_time": "2023-08-18T08:35:43.770Z"
   },
   {
    "duration": 206,
    "start_time": "2023-08-18T08:35:43.966Z"
   },
   {
    "duration": 6,
    "start_time": "2023-08-18T08:35:44.174Z"
   },
   {
    "duration": 36,
    "start_time": "2023-08-18T08:35:44.181Z"
   },
   {
    "duration": 42,
    "start_time": "2023-08-18T08:35:44.219Z"
   },
   {
    "duration": 21,
    "start_time": "2023-08-18T08:35:44.263Z"
   },
   {
    "duration": 148,
    "start_time": "2023-08-18T08:35:44.286Z"
   },
   {
    "duration": 155,
    "start_time": "2023-08-18T08:35:44.436Z"
   },
   {
    "duration": 13,
    "start_time": "2023-08-18T08:35:44.593Z"
   },
   {
    "duration": 270,
    "start_time": "2023-08-18T08:35:44.608Z"
   },
   {
    "duration": 21,
    "start_time": "2023-08-18T08:35:44.879Z"
   },
   {
    "duration": 123,
    "start_time": "2023-08-18T08:35:44.902Z"
   },
   {
    "duration": 18,
    "start_time": "2023-08-18T08:35:45.027Z"
   },
   {
    "duration": 140,
    "start_time": "2023-08-18T08:35:45.047Z"
   },
   {
    "duration": 20,
    "start_time": "2023-08-18T08:35:45.189Z"
   },
   {
    "duration": 14,
    "start_time": "2023-08-18T08:35:45.211Z"
   },
   {
    "duration": 41,
    "start_time": "2023-08-18T08:35:45.226Z"
   },
   {
    "duration": 16,
    "start_time": "2023-08-18T08:35:45.269Z"
   },
   {
    "duration": 20,
    "start_time": "2023-08-18T08:35:45.288Z"
   },
   {
    "duration": 118,
    "start_time": "2023-08-18T08:35:45.311Z"
   },
   {
    "duration": 13,
    "start_time": "2023-08-18T08:35:45.431Z"
   },
   {
    "duration": 27,
    "start_time": "2023-08-18T08:35:45.445Z"
   },
   {
    "duration": 111,
    "start_time": "2023-08-18T08:35:45.474Z"
   },
   {
    "duration": 14,
    "start_time": "2023-08-18T08:35:45.587Z"
   },
   {
    "duration": 12,
    "start_time": "2023-08-18T08:35:45.603Z"
   },
   {
    "duration": 20,
    "start_time": "2023-08-18T08:35:45.617Z"
   },
   {
    "duration": 30,
    "start_time": "2023-08-18T08:35:45.639Z"
   },
   {
    "duration": 114,
    "start_time": "2023-08-18T08:35:45.675Z"
   },
   {
    "duration": 13,
    "start_time": "2023-08-18T08:35:45.791Z"
   },
   {
    "duration": 13,
    "start_time": "2023-08-18T08:35:45.806Z"
   },
   {
    "duration": 119,
    "start_time": "2023-08-18T08:35:45.821Z"
   },
   {
    "duration": 13,
    "start_time": "2023-08-18T08:35:45.942Z"
   },
   {
    "duration": 14,
    "start_time": "2023-08-18T08:35:45.968Z"
   },
   {
    "duration": 15,
    "start_time": "2023-08-18T08:35:45.984Z"
   },
   {
    "duration": 15,
    "start_time": "2023-08-18T08:35:46.000Z"
   },
   {
    "duration": 25,
    "start_time": "2023-08-18T08:35:46.016Z"
   },
   {
    "duration": 18,
    "start_time": "2023-08-18T08:35:46.042Z"
   },
   {
    "duration": 7,
    "start_time": "2023-08-18T08:35:46.062Z"
   },
   {
    "duration": 1289,
    "start_time": "2023-08-18T08:49:20.724Z"
   },
   {
    "duration": 52,
    "start_time": "2023-08-18T08:49:22.015Z"
   },
   {
    "duration": 28,
    "start_time": "2023-08-18T08:49:22.069Z"
   },
   {
    "duration": 3,
    "start_time": "2023-08-18T08:49:22.100Z"
   },
   {
    "duration": 36,
    "start_time": "2023-08-18T08:49:22.105Z"
   },
   {
    "duration": 25,
    "start_time": "2023-08-18T08:49:22.144Z"
   },
   {
    "duration": 3171,
    "start_time": "2023-08-18T08:49:22.171Z"
   },
   {
    "duration": 1146,
    "start_time": "2023-08-18T08:49:25.344Z"
   },
   {
    "duration": 25,
    "start_time": "2023-08-18T08:49:26.492Z"
   },
   {
    "duration": 8,
    "start_time": "2023-08-18T08:49:26.520Z"
   },
   {
    "duration": 13,
    "start_time": "2023-08-18T08:49:26.530Z"
   },
   {
    "duration": 59,
    "start_time": "2023-08-18T08:49:26.545Z"
   },
   {
    "duration": 7,
    "start_time": "2023-08-18T08:49:26.606Z"
   },
   {
    "duration": 37,
    "start_time": "2023-08-18T08:49:26.615Z"
   },
   {
    "duration": 15,
    "start_time": "2023-08-18T08:49:26.654Z"
   },
   {
    "duration": 48,
    "start_time": "2023-08-18T08:49:26.671Z"
   },
   {
    "duration": 32,
    "start_time": "2023-08-18T08:49:26.721Z"
   },
   {
    "duration": 27,
    "start_time": "2023-08-18T08:49:26.756Z"
   },
   {
    "duration": 12,
    "start_time": "2023-08-18T08:49:26.785Z"
   },
   {
    "duration": 29,
    "start_time": "2023-08-18T08:49:26.798Z"
   },
   {
    "duration": 8,
    "start_time": "2023-08-18T08:49:26.829Z"
   },
   {
    "duration": 28,
    "start_time": "2023-08-18T08:49:26.839Z"
   },
   {
    "duration": 56,
    "start_time": "2023-08-18T08:49:26.869Z"
   },
   {
    "duration": 447,
    "start_time": "2023-08-18T08:49:26.927Z"
   },
   {
    "duration": 18,
    "start_time": "2023-08-18T08:49:27.376Z"
   },
   {
    "duration": 408,
    "start_time": "2023-08-18T08:49:27.397Z"
   },
   {
    "duration": 243,
    "start_time": "2023-08-18T08:49:27.807Z"
   },
   {
    "duration": 344,
    "start_time": "2023-08-18T08:49:28.057Z"
   },
   {
    "duration": 208,
    "start_time": "2023-08-18T08:49:28.403Z"
   },
   {
    "duration": 212,
    "start_time": "2023-08-18T08:49:28.613Z"
   },
   {
    "duration": 213,
    "start_time": "2023-08-18T08:49:28.827Z"
   },
   {
    "duration": 217,
    "start_time": "2023-08-18T08:49:29.042Z"
   },
   {
    "duration": 38,
    "start_time": "2023-08-18T08:49:29.261Z"
   },
   {
    "duration": 73,
    "start_time": "2023-08-18T08:49:29.301Z"
   },
   {
    "duration": 7,
    "start_time": "2023-08-18T08:49:29.376Z"
   },
   {
    "duration": 48,
    "start_time": "2023-08-18T08:49:29.385Z"
   },
   {
    "duration": 21,
    "start_time": "2023-08-18T08:49:29.435Z"
   },
   {
    "duration": 214,
    "start_time": "2023-08-18T08:49:29.458Z"
   },
   {
    "duration": 163,
    "start_time": "2023-08-18T08:49:29.674Z"
   },
   {
    "duration": 225,
    "start_time": "2023-08-18T08:49:29.839Z"
   },
   {
    "duration": 186,
    "start_time": "2023-08-18T08:49:30.066Z"
   },
   {
    "duration": 173,
    "start_time": "2023-08-18T08:49:30.253Z"
   },
   {
    "duration": 174,
    "start_time": "2023-08-18T08:49:30.429Z"
   },
   {
    "duration": 239,
    "start_time": "2023-08-18T08:49:30.604Z"
   },
   {
    "duration": 63,
    "start_time": "2023-08-18T08:49:30.845Z"
   },
   {
    "duration": 169,
    "start_time": "2023-08-18T08:49:30.910Z"
   },
   {
    "duration": 36,
    "start_time": "2023-08-18T08:49:31.081Z"
   },
   {
    "duration": 61,
    "start_time": "2023-08-18T08:49:31.119Z"
   },
   {
    "duration": 206,
    "start_time": "2023-08-18T08:49:31.182Z"
   },
   {
    "duration": 180,
    "start_time": "2023-08-18T08:49:31.390Z"
   },
   {
    "duration": 15,
    "start_time": "2023-08-18T08:49:31.572Z"
   },
   {
    "duration": 186,
    "start_time": "2023-08-18T08:49:31.589Z"
   },
   {
    "duration": 180,
    "start_time": "2023-08-18T08:49:31.779Z"
   },
   {
    "duration": 15,
    "start_time": "2023-08-18T08:49:31.967Z"
   },
   {
    "duration": 172,
    "start_time": "2023-08-18T08:49:31.983Z"
   },
   {
    "duration": 173,
    "start_time": "2023-08-18T08:49:32.157Z"
   },
   {
    "duration": 7,
    "start_time": "2023-08-18T08:49:32.332Z"
   },
   {
    "duration": 19,
    "start_time": "2023-08-18T08:49:32.344Z"
   },
   {
    "duration": 40,
    "start_time": "2023-08-18T08:49:32.367Z"
   },
   {
    "duration": 39,
    "start_time": "2023-08-18T08:49:32.409Z"
   },
   {
    "duration": 182,
    "start_time": "2023-08-18T08:49:32.450Z"
   },
   {
    "duration": 155,
    "start_time": "2023-08-18T08:49:32.633Z"
   },
   {
    "duration": 15,
    "start_time": "2023-08-18T08:49:32.791Z"
   },
   {
    "duration": 228,
    "start_time": "2023-08-18T08:49:32.808Z"
   },
   {
    "duration": 29,
    "start_time": "2023-08-18T08:49:33.038Z"
   },
   {
    "duration": 105,
    "start_time": "2023-08-18T08:49:33.070Z"
   },
   {
    "duration": 17,
    "start_time": "2023-08-18T08:49:33.177Z"
   },
   {
    "duration": 149,
    "start_time": "2023-08-18T08:49:33.196Z"
   },
   {
    "duration": 32,
    "start_time": "2023-08-18T08:49:33.348Z"
   },
   {
    "duration": 26,
    "start_time": "2023-08-18T08:49:33.382Z"
   },
   {
    "duration": 17,
    "start_time": "2023-08-18T08:49:33.409Z"
   },
   {
    "duration": 33,
    "start_time": "2023-08-18T08:49:33.428Z"
   },
   {
    "duration": 11,
    "start_time": "2023-08-18T08:49:33.463Z"
   },
   {
    "duration": 119,
    "start_time": "2023-08-18T08:49:33.481Z"
   },
   {
    "duration": 13,
    "start_time": "2023-08-18T08:49:33.602Z"
   },
   {
    "duration": 33,
    "start_time": "2023-08-18T08:49:33.616Z"
   },
   {
    "duration": 106,
    "start_time": "2023-08-18T08:49:33.651Z"
   },
   {
    "duration": 19,
    "start_time": "2023-08-18T08:49:33.767Z"
   },
   {
    "duration": 16,
    "start_time": "2023-08-18T08:49:33.788Z"
   },
   {
    "duration": 31,
    "start_time": "2023-08-18T08:49:33.806Z"
   },
   {
    "duration": 39,
    "start_time": "2023-08-18T08:49:33.840Z"
   },
   {
    "duration": 141,
    "start_time": "2023-08-18T08:49:33.886Z"
   },
   {
    "duration": 16,
    "start_time": "2023-08-18T08:49:34.030Z"
   },
   {
    "duration": 39,
    "start_time": "2023-08-18T08:49:34.048Z"
   },
   {
    "duration": 146,
    "start_time": "2023-08-18T08:49:34.090Z"
   },
   {
    "duration": 17,
    "start_time": "2023-08-18T08:49:34.238Z"
   },
   {
    "duration": 43,
    "start_time": "2023-08-18T08:49:34.257Z"
   },
   {
    "duration": 11,
    "start_time": "2023-08-18T08:49:34.302Z"
   },
   {
    "duration": 10,
    "start_time": "2023-08-18T08:49:34.315Z"
   },
   {
    "duration": 13,
    "start_time": "2023-08-18T08:49:34.327Z"
   },
   {
    "duration": 10,
    "start_time": "2023-08-18T08:49:34.342Z"
   },
   {
    "duration": 10,
    "start_time": "2023-08-18T08:49:34.368Z"
   }
  ],
  "kernelspec": {
   "display_name": "Python 3 (ipykernel)",
   "language": "python",
   "name": "python3"
  },
  "language_info": {
   "codemirror_mode": {
    "name": "ipython",
    "version": 3
   },
   "file_extension": ".py",
   "mimetype": "text/x-python",
   "name": "python",
   "nbconvert_exporter": "python",
   "pygments_lexer": "ipython3",
   "version": "3.9.5"
  },
  "toc": {
   "base_numbering": 1,
   "nav_menu": {},
   "number_sections": true,
   "sideBar": true,
   "skip_h1_title": true,
   "title_cell": "Table of Contents",
   "title_sidebar": "Contents",
   "toc_cell": false,
   "toc_position": {},
   "toc_section_display": true,
   "toc_window_display": false
  }
 },
 "nbformat": 4,
 "nbformat_minor": 2
}
