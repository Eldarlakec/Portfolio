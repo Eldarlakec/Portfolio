{
 "cells": [
  {
   "cell_type": "markdown",
   "metadata": {
    "deletable": false,
    "editable": false,
    "id": "E0vqbgi9ay0H"
   },
   "source": [
    "# Яндекс Музыка"
   ]
  },
  {
   "cell_type": "markdown",
   "metadata": {
    "deletable": false,
    "editable": false,
    "id": "VUC88oWjTJw2"
   },
   "source": [
    "Сравнение Москвы и Петербурга окружено мифами. Например:\n",
    " * Москва — мегаполис, подчинённый жёсткому ритму рабочей недели;\n",
    " * Петербург — культурная столица, со своими вкусами.\n",
    "\n",
    "На данных Яндекс Музыки вы сравните поведение пользователей двух столиц.\n",
    "\n",
    "**Цель исследования** — проверьте три гипотезы:\n",
    "1. Активность пользователей зависит от дня недели. Причём в Москве и Петербурге это проявляется по-разному.\n",
    "2. В понедельник утром в Москве преобладают одни жанры, а в Петербурге — другие. Так же и вечером пятницы преобладают разные жанры — в зависимости от города. \n",
    "3. Москва и Петербург предпочитают разные жанры музыки. В Москве чаще слушают поп-музыку, в Петербурге — русский рэп.\n",
    "\n",
    "**Ход исследования**\n",
    "\n",
    "Данные о поведении пользователей вы получите из файла `yandex_music_project.csv`. О качестве данных ничего не известно. Поэтому перед проверкой гипотез понадобится обзор данных. \n",
    "\n",
    "Вы проверите данные на ошибки и оцените их влияние на исследование. Затем, на этапе предобработки вы поищете возможность исправить самые критичные ошибки данных.\n",
    " \n",
    "Таким образом, исследование пройдёт в три этапа:\n",
    " 1. Обзор данных.\n",
    " 2. Предобработка данных.\n",
    " 3. Проверка гипотез.\n",
    "\n"
   ]
  },
  {
   "cell_type": "markdown",
   "metadata": {
    "deletable": false,
    "editable": false,
    "id": "Ml1hmfXC_Zcs"
   },
   "source": [
    "## Обзор данных\n",
    "\n",
    "Составьте первое представление о данных Яндекс Музыки.\n",
    "\n",
    "\n"
   ]
  },
  {
   "cell_type": "markdown",
   "metadata": {
    "deletable": false,
    "editable": false,
    "id": "57eAOGIz_Zcs",
    "tags": [
     "start_task"
    ]
   },
   "source": [
    "**Задание 1**\n",
    "\n",
    "Основной инструмент аналитика — `pandas`. Импортируйте эту библиотеку."
   ]
  },
  {
   "cell_type": "code",
   "execution_count": 1,
   "metadata": {
    "deletable": false,
    "id": "AXN7PHPN_Zcs"
   },
   "outputs": [],
   "source": [
    "import pandas as pd"
   ]
  },
  {
   "cell_type": "markdown",
   "metadata": {
    "deletable": false,
    "editable": false,
    "id": "SG23P8tt_Zcs",
    "tags": [
     "start_task"
    ]
   },
   "source": [
    "**Задание 2**\n",
    "\n",
    "Прочитайте файл `yandex_music_project.csv` из папки `/datasets` и сохраните его в переменной `df`:"
   ]
  },
  {
   "cell_type": "code",
   "execution_count": 2,
   "metadata": {
    "deletable": false,
    "id": "fFVu7vqh_Zct"
   },
   "outputs": [],
   "source": [
    "df=pd.read_csv('/datasets/yandex_music_project.csv')"
   ]
  },
  {
   "cell_type": "markdown",
   "metadata": {
    "deletable": false,
    "editable": false,
    "id": "rDoOMd3uTqnZ",
    "tags": [
     "start_task"
    ]
   },
   "source": [
    "**Задание 3**\n",
    "\n",
    "\n",
    "Выведите на экран первые десять строк таблицы:"
   ]
  },
  {
   "cell_type": "code",
   "execution_count": 3,
   "metadata": {
    "deletable": false,
    "id": "oWTVX3gW_Zct"
   },
   "outputs": [
    {
     "data": {
      "text/html": [
       "<div>\n",
       "<style scoped>\n",
       "    .dataframe tbody tr th:only-of-type {\n",
       "        vertical-align: middle;\n",
       "    }\n",
       "\n",
       "    .dataframe tbody tr th {\n",
       "        vertical-align: top;\n",
       "    }\n",
       "\n",
       "    .dataframe thead th {\n",
       "        text-align: right;\n",
       "    }\n",
       "</style>\n",
       "<table border=\"1\" class=\"dataframe\">\n",
       "  <thead>\n",
       "    <tr style=\"text-align: right;\">\n",
       "      <th></th>\n",
       "      <th>userID</th>\n",
       "      <th>Track</th>\n",
       "      <th>artist</th>\n",
       "      <th>genre</th>\n",
       "      <th>City</th>\n",
       "      <th>time</th>\n",
       "      <th>Day</th>\n",
       "    </tr>\n",
       "  </thead>\n",
       "  <tbody>\n",
       "    <tr>\n",
       "      <th>0</th>\n",
       "      <td>FFB692EC</td>\n",
       "      <td>Kamigata To Boots</td>\n",
       "      <td>The Mass Missile</td>\n",
       "      <td>rock</td>\n",
       "      <td>Saint-Petersburg</td>\n",
       "      <td>20:28:33</td>\n",
       "      <td>Wednesday</td>\n",
       "    </tr>\n",
       "    <tr>\n",
       "      <th>1</th>\n",
       "      <td>55204538</td>\n",
       "      <td>Delayed Because of Accident</td>\n",
       "      <td>Andreas Rönnberg</td>\n",
       "      <td>rock</td>\n",
       "      <td>Moscow</td>\n",
       "      <td>14:07:09</td>\n",
       "      <td>Friday</td>\n",
       "    </tr>\n",
       "    <tr>\n",
       "      <th>2</th>\n",
       "      <td>20EC38</td>\n",
       "      <td>Funiculì funiculà</td>\n",
       "      <td>Mario Lanza</td>\n",
       "      <td>pop</td>\n",
       "      <td>Saint-Petersburg</td>\n",
       "      <td>20:58:07</td>\n",
       "      <td>Wednesday</td>\n",
       "    </tr>\n",
       "    <tr>\n",
       "      <th>3</th>\n",
       "      <td>A3DD03C9</td>\n",
       "      <td>Dragons in the Sunset</td>\n",
       "      <td>Fire + Ice</td>\n",
       "      <td>folk</td>\n",
       "      <td>Saint-Petersburg</td>\n",
       "      <td>08:37:09</td>\n",
       "      <td>Monday</td>\n",
       "    </tr>\n",
       "    <tr>\n",
       "      <th>4</th>\n",
       "      <td>E2DC1FAE</td>\n",
       "      <td>Soul People</td>\n",
       "      <td>Space Echo</td>\n",
       "      <td>dance</td>\n",
       "      <td>Moscow</td>\n",
       "      <td>08:34:34</td>\n",
       "      <td>Monday</td>\n",
       "    </tr>\n",
       "    <tr>\n",
       "      <th>5</th>\n",
       "      <td>842029A1</td>\n",
       "      <td>Преданная</td>\n",
       "      <td>IMPERVTOR</td>\n",
       "      <td>rusrap</td>\n",
       "      <td>Saint-Petersburg</td>\n",
       "      <td>13:09:41</td>\n",
       "      <td>Friday</td>\n",
       "    </tr>\n",
       "    <tr>\n",
       "      <th>6</th>\n",
       "      <td>4CB90AA5</td>\n",
       "      <td>True</td>\n",
       "      <td>Roman Messer</td>\n",
       "      <td>dance</td>\n",
       "      <td>Moscow</td>\n",
       "      <td>13:00:07</td>\n",
       "      <td>Wednesday</td>\n",
       "    </tr>\n",
       "    <tr>\n",
       "      <th>7</th>\n",
       "      <td>F03E1C1F</td>\n",
       "      <td>Feeling This Way</td>\n",
       "      <td>Polina Griffith</td>\n",
       "      <td>dance</td>\n",
       "      <td>Moscow</td>\n",
       "      <td>20:47:49</td>\n",
       "      <td>Wednesday</td>\n",
       "    </tr>\n",
       "    <tr>\n",
       "      <th>8</th>\n",
       "      <td>8FA1D3BE</td>\n",
       "      <td>И вновь продолжается бой</td>\n",
       "      <td>NaN</td>\n",
       "      <td>ruspop</td>\n",
       "      <td>Moscow</td>\n",
       "      <td>09:17:40</td>\n",
       "      <td>Friday</td>\n",
       "    </tr>\n",
       "    <tr>\n",
       "      <th>9</th>\n",
       "      <td>E772D5C0</td>\n",
       "      <td>Pessimist</td>\n",
       "      <td>NaN</td>\n",
       "      <td>dance</td>\n",
       "      <td>Saint-Petersburg</td>\n",
       "      <td>21:20:49</td>\n",
       "      <td>Wednesday</td>\n",
       "    </tr>\n",
       "  </tbody>\n",
       "</table>\n",
       "</div>"
      ],
      "text/plain": [
       "     userID                        Track            artist   genre  \\\n",
       "0  FFB692EC            Kamigata To Boots  The Mass Missile    rock   \n",
       "1  55204538  Delayed Because of Accident  Andreas Rönnberg    rock   \n",
       "2    20EC38            Funiculì funiculà       Mario Lanza     pop   \n",
       "3  A3DD03C9        Dragons in the Sunset        Fire + Ice    folk   \n",
       "4  E2DC1FAE                  Soul People        Space Echo   dance   \n",
       "5  842029A1                    Преданная         IMPERVTOR  rusrap   \n",
       "6  4CB90AA5                         True      Roman Messer   dance   \n",
       "7  F03E1C1F             Feeling This Way   Polina Griffith   dance   \n",
       "8  8FA1D3BE     И вновь продолжается бой               NaN  ruspop   \n",
       "9  E772D5C0                    Pessimist               NaN   dance   \n",
       "\n",
       "             City        time        Day  \n",
       "0  Saint-Petersburg  20:28:33  Wednesday  \n",
       "1            Moscow  14:07:09     Friday  \n",
       "2  Saint-Petersburg  20:58:07  Wednesday  \n",
       "3  Saint-Petersburg  08:37:09     Monday  \n",
       "4            Moscow  08:34:34     Monday  \n",
       "5  Saint-Petersburg  13:09:41     Friday  \n",
       "6            Moscow  13:00:07  Wednesday  \n",
       "7            Moscow  20:47:49  Wednesday  \n",
       "8            Moscow  09:17:40     Friday  \n",
       "9  Saint-Petersburg  21:20:49  Wednesday  "
      ]
     },
     "execution_count": 3,
     "metadata": {},
     "output_type": "execute_result"
    }
   ],
   "source": [
    "df.head(10)"
   ]
  },
  {
   "cell_type": "markdown",
   "metadata": {
    "deletable": false,
    "editable": false,
    "id": "EO73Kwic_Zct",
    "tags": [
     "start_task"
    ]
   },
   "source": [
    "**Задание 4**\n",
    "\n",
    "\n",
    "Одной командой получить общую информацию о таблице c помощью метода `info()`:"
   ]
  },
  {
   "cell_type": "code",
   "execution_count": 4,
   "metadata": {
    "deletable": false,
    "id": "DSf2kIb-_Zct"
   },
   "outputs": [
    {
     "name": "stdout",
     "output_type": "stream",
     "text": [
      "<class 'pandas.core.frame.DataFrame'>\n",
      "RangeIndex: 65079 entries, 0 to 65078\n",
      "Data columns (total 7 columns):\n",
      " #   Column    Non-Null Count  Dtype \n",
      "---  ------    --------------  ----- \n",
      " 0     userID  65079 non-null  object\n",
      " 1   Track     63848 non-null  object\n",
      " 2   artist    57876 non-null  object\n",
      " 3   genre     63881 non-null  object\n",
      " 4     City    65079 non-null  object\n",
      " 5   time      65079 non-null  object\n",
      " 6   Day       65079 non-null  object\n",
      "dtypes: object(7)\n",
      "memory usage: 3.5+ MB\n"
     ]
    }
   ],
   "source": [
    "df.info()# получение общей информации о данных в таблице df"
   ]
  },
  {
   "cell_type": "markdown",
   "metadata": {
    "deletable": false,
    "editable": false,
    "id": "TaQ2Iwbr_Zct"
   },
   "source": [
    "Итак, в таблице семь столбцов. Тип данных во всех столбцах — `object`.\n",
    "\n",
    "Согласно документации к данным:\n",
    "* `userID` — идентификатор пользователя;\n",
    "* `Track` — название трека;  \n",
    "* `artist` — имя исполнителя;\n",
    "* `genre` — название жанра;\n",
    "* `City` — город пользователя;\n",
    "* `time` — время начала прослушивания;\n",
    "* `Day` — день недели.\n",
    "\n",
    "Количество значений в столбцах различается. Значит, в данных есть пропущенные значения."
   ]
  },
  {
   "cell_type": "markdown",
   "metadata": {
    "deletable": false,
    "editable": false,
    "id": "rAfziTBDmf2h",
    "tags": [
     "start_task"
    ]
   },
   "source": [
    "**Задание 5**\n",
    "\n",
    "**Вопрос со свободной формой ответа**\n",
    "\n",
    "В названиях колонок видны нарушения стиля:\n",
    "* Строчные буквы сочетаются с прописными.\n",
    "* Встречаются пробелы.\n",
    "\n",
    "Какое третье нарушение?"
   ]
  },
  {
   "cell_type": "code",
   "execution_count": 5,
   "metadata": {
    "id": "jD8EXEIvmf2h"
   },
   "outputs": [],
   "source": [
    "# нету так сказать змеинного соединения двух слов нижним подчеркиванием"
   ]
  },
  {
   "cell_type": "markdown",
   "metadata": {
    "deletable": false,
    "editable": false,
    "id": "MCB6-dXG_Zct"
   },
   "source": [
    "**Выводы**\n",
    "\n",
    "В каждой строке таблицы — данные о прослушанном треке. Часть колонок описывает саму композицию: название, исполнителя и жанр. Остальные данные рассказывают о пользователе: из какого он города, когда он слушал музыку. \n",
    "\n",
    "Предварительно можно утверждать, что данных достаточно для проверки гипотез. Но встречаются пропуски в данных, а в названиях колонок — расхождения с хорошим стилем.\n",
    "\n",
    "Чтобы двигаться дальше, нужно устранить проблемы в данных."
   ]
  },
  {
   "cell_type": "markdown",
   "metadata": {
    "deletable": false,
    "editable": false,
    "id": "SjYF6Ub9_Zct"
   },
   "source": [
    "## Предобработка данных\n",
    "Исправьте стиль в заголовках столбцов, исключите пропуски. Затем проверьте данные на дубликаты."
   ]
  },
  {
   "cell_type": "markdown",
   "metadata": {
    "deletable": false,
    "editable": false,
    "id": "dIaKXr29_Zct",
    "tags": [
     "start_task"
    ]
   },
   "source": [
    "### Стиль заголовков\n",
    "\n",
    "**Задание 6**\n",
    "\n",
    "Выведите на экран названия столбцов:"
   ]
  },
  {
   "cell_type": "code",
   "execution_count": 6,
   "metadata": {
    "deletable": false,
    "id": "oKOTdF_Q_Zct"
   },
   "outputs": [
    {
     "data": {
      "text/plain": [
       "Index(['  userID', 'Track', 'artist', 'genre', '  City  ', 'time', 'Day'], dtype='object')"
      ]
     },
     "execution_count": 6,
     "metadata": {},
     "output_type": "execute_result"
    }
   ],
   "source": [
    "df.columns# перечень названий столбцов таблицы df"
   ]
  },
  {
   "cell_type": "markdown",
   "metadata": {
    "deletable": false,
    "editable": false,
    "id": "zj5534cv_Zct",
    "tags": [
     "start_task"
    ]
   },
   "source": [
    "**Задание 7**\n",
    "\n",
    "\n",
    "Приведите названия в соответствие с хорошим стилем:\n",
    "* несколько слов в названии запишите в «змеином_регистре»,\n",
    "* все символы сделайте строчными,\n",
    "* устраните пробелы.\n",
    "\n",
    "Для этого переименуйте колонки так:\n",
    "* `'  userID'` → `'user_id'`;\n",
    "* `'Track'` → `'track'`;\n",
    "* `'  City  '` → `'city'`;\n",
    "* `'Day'` → `'day'`."
   ]
  },
  {
   "cell_type": "code",
   "execution_count": 7,
   "metadata": {
    "deletable": false,
    "id": "ISlFqs5y_Zct"
   },
   "outputs": [],
   "source": [
    "df = df.rename(columns={'  userID':'user_id','Track':'track','  City  ':'city','Day':'day'})"
   ]
  },
  {
   "cell_type": "markdown",
   "metadata": {
    "deletable": false,
    "editable": false,
    "id": "1dqbh00J_Zct",
    "tags": [
     "start_task"
    ]
   },
   "source": [
    "**Задание 8**\n",
    "\n",
    "\n",
    "Проверьте результат. Для этого ещё раз выведите на экран названия столбцов:"
   ]
  },
  {
   "cell_type": "code",
   "execution_count": 8,
   "metadata": {
    "deletable": false,
    "id": "d4NOAmTW_Zct"
   },
   "outputs": [
    {
     "data": {
      "text/plain": [
       "Index(['user_id', 'track', 'artist', 'genre', 'city', 'time', 'day'], dtype='object')"
      ]
     },
     "execution_count": 8,
     "metadata": {},
     "output_type": "execute_result"
    }
   ],
   "source": [
    "df.columns"
   ]
  },
  {
   "cell_type": "markdown",
   "metadata": {
    "deletable": false,
    "editable": false,
    "id": "5ISfbcfY_Zct",
    "tags": [
     "start_task"
    ]
   },
   "source": [
    "### Пропуски значений\n",
    "\n",
    "**Задание 9**\n",
    "\n",
    "Сначала посчитайте, сколько в таблице пропущенных значений. Для этого достаточно двух методов `pandas`:"
   ]
  },
  {
   "cell_type": "code",
   "execution_count": 9,
   "metadata": {
    "deletable": false,
    "id": "RskX29qr_Zct"
   },
   "outputs": [
    {
     "data": {
      "text/plain": [
       "user_id       0\n",
       "track      1231\n",
       "artist     7203\n",
       "genre      1198\n",
       "city          0\n",
       "time          0\n",
       "day           0\n",
       "dtype: int64"
      ]
     },
     "execution_count": 9,
     "metadata": {},
     "output_type": "execute_result"
    }
   ],
   "source": [
    "df.isna().sum()"
   ]
  },
  {
   "cell_type": "markdown",
   "metadata": {
    "deletable": false,
    "editable": false,
    "id": "qubhgnlO_Zct"
   },
   "source": [
    "Не все пропущенные значения влияют на исследование. Так в `track` и `artist` пропуски не важны для вашей работы. Достаточно заменить их явными обозначениями.\n",
    "\n",
    "Но пропуски в `genre` могут помешать сравнению музыкальных вкусов в Москве и Санкт-Петербурге. На практике было бы правильно установить причину пропусков и восстановить данные. Такой возможности нет в учебном проекте. Придётся:\n",
    "* заполнить и эти пропуски явными обозначениями;\n",
    "* оценить, насколько они повредят расчётам. "
   ]
  },
  {
   "cell_type": "markdown",
   "metadata": {
    "deletable": false,
    "editable": false,
    "id": "fSv2laPA_Zct",
    "tags": [
     "start_task"
    ]
   },
   "source": [
    "**Задание 10**\n",
    "\n",
    "Замените пропущенные значения в столбцах `track`, `artist` и `genre` на строку `'unknown'`. Для этого создайте список `columns_to_replace`, переберите его элементы циклом `for` и для каждого столбца выполните замену пропущенных значений:"
   ]
  },
  {
   "cell_type": "code",
   "execution_count": 10,
   "metadata": {
    "deletable": false,
    "id": "KplB5qWs_Zct"
   },
   "outputs": [],
   "source": [
    "columns_to_replace = ['track','artist','genre']\n",
    "for column in columns_to_replace:\n",
    "    df[column]=df[column].fillna('unknown')\n"
   ]
  },
  {
   "cell_type": "markdown",
   "metadata": {
    "deletable": false,
    "editable": false,
    "id": "Ilsm-MZo_Zct",
    "tags": [
     "start_task"
    ]
   },
   "source": [
    "**Задание 11**\n",
    "\n",
    "Убедитесь, что в таблице не осталось пропусков. Для этого ещё раз посчитайте пропущенные значения."
   ]
  },
  {
   "cell_type": "code",
   "execution_count": 11,
   "metadata": {
    "deletable": false,
    "id": "Tq4nYRX4_Zct"
   },
   "outputs": [
    {
     "data": {
      "text/plain": [
       "user_id    0\n",
       "track      0\n",
       "artist     0\n",
       "genre      0\n",
       "city       0\n",
       "time       0\n",
       "day        0\n",
       "dtype: int64"
      ]
     },
     "execution_count": 11,
     "metadata": {},
     "output_type": "execute_result"
    }
   ],
   "source": [
    "df.isna().sum()# подсчёт пропусков"
   ]
  },
  {
   "cell_type": "markdown",
   "metadata": {
    "deletable": false,
    "editable": false,
    "id": "BWKRtBJ3_Zct",
    "tags": [
     "start_task"
    ]
   },
   "source": [
    "### Дубликаты\n",
    "\n",
    "**Задание 12**\n",
    "\n",
    "Посчитайте явные дубликаты в таблице одной командой:"
   ]
  },
  {
   "cell_type": "code",
   "execution_count": 12,
   "metadata": {
    "deletable": false,
    "id": "36eES_S0_Zct"
   },
   "outputs": [
    {
     "data": {
      "text/plain": [
       "3826"
      ]
     },
     "execution_count": 12,
     "metadata": {},
     "output_type": "execute_result"
    }
   ],
   "source": [
    "df.duplicated().sum()# подсчёт явных дубликатов"
   ]
  },
  {
   "cell_type": "markdown",
   "metadata": {
    "deletable": false,
    "editable": false,
    "id": "Ot25h6XR_Zct",
    "tags": [
     "start_task"
    ]
   },
   "source": [
    "**Задание 13**\n",
    "\n",
    "Вызовите специальный метод `pandas`, чтобы удалить явные дубликаты:"
   ]
  },
  {
   "cell_type": "code",
   "execution_count": 13,
   "metadata": {
    "deletable": false,
    "id": "exFHq6tt_Zct"
   },
   "outputs": [],
   "source": [
    "df = df.drop_duplicates()\n"
   ]
  },
  {
   "cell_type": "markdown",
   "metadata": {
    "deletable": false,
    "editable": false,
    "id": "Im2YwBEG_Zct",
    "tags": [
     "start_task"
    ]
   },
   "source": [
    "**Задание 14**\n",
    "\n",
    "Ещё раз посчитайте явные дубликаты в таблице — убедитесь, что полностью от них избавились:"
   ]
  },
  {
   "cell_type": "code",
   "execution_count": 14,
   "metadata": {
    "deletable": false,
    "id": "-8PuNWQ0_Zct"
   },
   "outputs": [
    {
     "data": {
      "text/plain": [
       "0"
      ]
     },
     "execution_count": 14,
     "metadata": {},
     "output_type": "execute_result"
    }
   ],
   "source": [
    "df.duplicated().sum()# проверка на отсутствие дубликатов"
   ]
  },
  {
   "cell_type": "markdown",
   "metadata": {
    "deletable": false,
    "editable": false,
    "id": "QlFBsxAr_Zct"
   },
   "source": [
    "Теперь избавьтесь от неявных дубликатов в колонке `genre`. Например, название одного и того же жанра может быть записано немного по-разному. Такие ошибки тоже повлияют на результат исследования."
   ]
  },
  {
   "cell_type": "markdown",
   "metadata": {
    "deletable": false,
    "editable": false,
    "id": "eSjWwsOh_Zct",
    "tags": [
     "start_task"
    ]
   },
   "source": [
    "**Задание 15**\n",
    "\n",
    "Выведите на экран список уникальных названий жанров, отсортированный в алфавитном порядке. Для этого:\n",
    "1. извлеките нужный столбец датафрейма; \n",
    "2. примените к нему метод сортировки;\n",
    "3. для отсортированного столбца вызовите метод, который вернёт уникальные значения из столбца."
   ]
  },
  {
   "cell_type": "code",
   "execution_count": 15,
   "metadata": {
    "deletable": false,
    "id": "JIUcqzZN_Zct"
   },
   "outputs": [
    {
     "data": {
      "text/plain": [
       "array(['acid', 'acoustic', 'action', 'adult', 'africa', 'afrikaans',\n",
       "       'alternative', 'alternativepunk', 'ambient', 'americana',\n",
       "       'animated', 'anime', 'arabesk', 'arabic', 'arena',\n",
       "       'argentinetango', 'art', 'audiobook', 'author', 'avantgarde',\n",
       "       'axé', 'baile', 'balkan', 'beats', 'bigroom', 'black', 'bluegrass',\n",
       "       'blues', 'bollywood', 'bossa', 'brazilian', 'breakbeat', 'breaks',\n",
       "       'broadway', 'cantautori', 'cantopop', 'canzone', 'caribbean',\n",
       "       'caucasian', 'celtic', 'chamber', 'chanson', 'children', 'chill',\n",
       "       'chinese', 'choral', 'christian', 'christmas', 'classical',\n",
       "       'classicmetal', 'club', 'colombian', 'comedy', 'conjazz',\n",
       "       'contemporary', 'country', 'cuban', 'dance', 'dancehall',\n",
       "       'dancepop', 'dark', 'death', 'deep', 'deutschrock', 'deutschspr',\n",
       "       'dirty', 'disco', 'dnb', 'documentary', 'downbeat', 'downtempo',\n",
       "       'drum', 'dub', 'dubstep', 'eastern', 'easy', 'electronic',\n",
       "       'electropop', 'emo', 'entehno', 'epicmetal', 'estrada', 'ethnic',\n",
       "       'eurofolk', 'european', 'experimental', 'extrememetal', 'fado',\n",
       "       'fairytail', 'film', 'fitness', 'flamenco', 'folk', 'folklore',\n",
       "       'folkmetal', 'folkrock', 'folktronica', 'forró', 'frankreich',\n",
       "       'französisch', 'french', 'funk', 'future', 'gangsta', 'garage',\n",
       "       'german', 'ghazal', 'gitarre', 'glitch', 'gospel', 'gothic',\n",
       "       'grime', 'grunge', 'gypsy', 'handsup', \"hard'n'heavy\", 'hardcore',\n",
       "       'hardstyle', 'hardtechno', 'hip', 'hip-hop', 'hiphop',\n",
       "       'historisch', 'holiday', 'hop', 'horror', 'house', 'hymn', 'idm',\n",
       "       'independent', 'indian', 'indie', 'indipop', 'industrial',\n",
       "       'inspirational', 'instrumental', 'international', 'irish', 'jam',\n",
       "       'japanese', 'jazz', 'jewish', 'jpop', 'jungle', 'k-pop',\n",
       "       'karadeniz', 'karaoke', 'kayokyoku', 'korean', 'laiko', 'latin',\n",
       "       'latino', 'leftfield', 'local', 'lounge', 'loungeelectronic',\n",
       "       'lovers', 'malaysian', 'mandopop', 'marschmusik', 'meditative',\n",
       "       'mediterranean', 'melodic', 'metal', 'metalcore', 'mexican',\n",
       "       'middle', 'minimal', 'miscellaneous', 'modern', 'mood', 'mpb',\n",
       "       'muslim', 'native', 'neoklassik', 'neue', 'new', 'newage',\n",
       "       'newwave', 'nu', 'nujazz', 'numetal', 'oceania', 'old', 'opera',\n",
       "       'orchestral', 'other', 'piano', 'podcasts', 'pop', 'popdance',\n",
       "       'popelectronic', 'popeurodance', 'poprussian', 'post',\n",
       "       'posthardcore', 'postrock', 'power', 'progmetal', 'progressive',\n",
       "       'psychedelic', 'punjabi', 'punk', 'quebecois', 'ragga', 'ram',\n",
       "       'rancheras', 'rap', 'rave', 'reggae', 'reggaeton', 'regional',\n",
       "       'relax', 'religious', 'retro', 'rhythm', 'rnb', 'rnr', 'rock',\n",
       "       'rockabilly', 'rockalternative', 'rockindie', 'rockother',\n",
       "       'romance', 'roots', 'ruspop', 'rusrap', 'rusrock', 'russian',\n",
       "       'salsa', 'samba', 'scenic', 'schlager', 'self', 'sertanejo',\n",
       "       'shanson', 'shoegazing', 'showtunes', 'singer', 'ska', 'skarock',\n",
       "       'slow', 'smooth', 'soft', 'soul', 'soulful', 'sound', 'soundtrack',\n",
       "       'southern', 'specialty', 'speech', 'spiritual', 'sport',\n",
       "       'stonerrock', 'surf', 'swing', 'synthpop', 'synthrock',\n",
       "       'sängerportrait', 'tango', 'tanzorchester', 'taraftar', 'tatar',\n",
       "       'tech', 'techno', 'teen', 'thrash', 'top', 'traditional',\n",
       "       'tradjazz', 'trance', 'tribal', 'trip', 'triphop', 'tropical',\n",
       "       'türk', 'türkçe', 'ukrrock', 'unknown', 'urban', 'uzbek',\n",
       "       'variété', 'vi', 'videogame', 'vocal', 'western', 'world',\n",
       "       'worldbeat', 'ïîï', 'электроника'], dtype=object)"
      ]
     },
     "execution_count": 15,
     "metadata": {},
     "output_type": "execute_result"
    }
   ],
   "source": [
    "df['genre'].sort_values().unique()\n"
   ]
  },
  {
   "cell_type": "markdown",
   "metadata": {
    "deletable": false,
    "editable": false,
    "id": "qej-Qmuo_Zct",
    "tags": [
     "start_task"
    ]
   },
   "source": [
    "**Задание 16**\n",
    "\n",
    "Просмотрите список и найдите неявные дубликаты названия `hiphop`. Это могут быть названия с ошибками или альтернативные названия того же жанра.\n",
    "\n",
    "Вы увидите следующие неявные дубликаты:\n",
    "* *hip*,\n",
    "* *hop*,\n",
    "* *hip-hop*.\n",
    "\n",
    "Чтобы очистить от них таблицу используйте метод `replace()` с двумя аргументами: списком строк-дубликатов (включащий *hip*, *hop* и *hip-hop*) и строкой с правильным значением. Вам нужно исправить колонку `genre` в таблице `df`: заменить каждое значение из списка дубликатов на верное. Вместо `hip`, `hop` и `hip-hop` в таблице должно быть значение `hiphop`:"
   ]
  },
  {
   "cell_type": "code",
   "execution_count": 16,
   "metadata": {
    "deletable": false,
    "id": "ErNDkmns_Zct"
   },
   "outputs": [],
   "source": [
    "duplicates=['hip','hop','hip-hop']\n",
    "df['genre'] = df['genre'].replace(duplicates, 'hiphop')"
   ]
  },
  {
   "cell_type": "markdown",
   "metadata": {
    "deletable": false,
    "editable": false,
    "id": "zQKF16_RG15m",
    "tags": [
     "start_task"
    ]
   },
   "source": [
    "**Задание 17**\n",
    "\n",
    "Проверьте, что заменили неправильные названия:\n",
    "\n",
    "*   hip,\n",
    "*   hop,\n",
    "*   hip-hop.\n",
    "\n",
    "Выведите отсортированный список уникальных значений столбца `genre`:"
   ]
  },
  {
   "cell_type": "code",
   "execution_count": 17,
   "metadata": {
    "deletable": false,
    "id": "wvixALnFG15m"
   },
   "outputs": [
    {
     "data": {
      "text/plain": [
       "array(['acid', 'acoustic', 'action', 'adult', 'africa', 'afrikaans',\n",
       "       'alternative', 'alternativepunk', 'ambient', 'americana',\n",
       "       'animated', 'anime', 'arabesk', 'arabic', 'arena',\n",
       "       'argentinetango', 'art', 'audiobook', 'author', 'avantgarde',\n",
       "       'axé', 'baile', 'balkan', 'beats', 'bigroom', 'black', 'bluegrass',\n",
       "       'blues', 'bollywood', 'bossa', 'brazilian', 'breakbeat', 'breaks',\n",
       "       'broadway', 'cantautori', 'cantopop', 'canzone', 'caribbean',\n",
       "       'caucasian', 'celtic', 'chamber', 'chanson', 'children', 'chill',\n",
       "       'chinese', 'choral', 'christian', 'christmas', 'classical',\n",
       "       'classicmetal', 'club', 'colombian', 'comedy', 'conjazz',\n",
       "       'contemporary', 'country', 'cuban', 'dance', 'dancehall',\n",
       "       'dancepop', 'dark', 'death', 'deep', 'deutschrock', 'deutschspr',\n",
       "       'dirty', 'disco', 'dnb', 'documentary', 'downbeat', 'downtempo',\n",
       "       'drum', 'dub', 'dubstep', 'eastern', 'easy', 'electronic',\n",
       "       'electropop', 'emo', 'entehno', 'epicmetal', 'estrada', 'ethnic',\n",
       "       'eurofolk', 'european', 'experimental', 'extrememetal', 'fado',\n",
       "       'fairytail', 'film', 'fitness', 'flamenco', 'folk', 'folklore',\n",
       "       'folkmetal', 'folkrock', 'folktronica', 'forró', 'frankreich',\n",
       "       'französisch', 'french', 'funk', 'future', 'gangsta', 'garage',\n",
       "       'german', 'ghazal', 'gitarre', 'glitch', 'gospel', 'gothic',\n",
       "       'grime', 'grunge', 'gypsy', 'handsup', \"hard'n'heavy\", 'hardcore',\n",
       "       'hardstyle', 'hardtechno', 'hiphop', 'historisch', 'holiday',\n",
       "       'horror', 'house', 'hymn', 'idm', 'independent', 'indian', 'indie',\n",
       "       'indipop', 'industrial', 'inspirational', 'instrumental',\n",
       "       'international', 'irish', 'jam', 'japanese', 'jazz', 'jewish',\n",
       "       'jpop', 'jungle', 'k-pop', 'karadeniz', 'karaoke', 'kayokyoku',\n",
       "       'korean', 'laiko', 'latin', 'latino', 'leftfield', 'local',\n",
       "       'lounge', 'loungeelectronic', 'lovers', 'malaysian', 'mandopop',\n",
       "       'marschmusik', 'meditative', 'mediterranean', 'melodic', 'metal',\n",
       "       'metalcore', 'mexican', 'middle', 'minimal', 'miscellaneous',\n",
       "       'modern', 'mood', 'mpb', 'muslim', 'native', 'neoklassik', 'neue',\n",
       "       'new', 'newage', 'newwave', 'nu', 'nujazz', 'numetal', 'oceania',\n",
       "       'old', 'opera', 'orchestral', 'other', 'piano', 'podcasts', 'pop',\n",
       "       'popdance', 'popelectronic', 'popeurodance', 'poprussian', 'post',\n",
       "       'posthardcore', 'postrock', 'power', 'progmetal', 'progressive',\n",
       "       'psychedelic', 'punjabi', 'punk', 'quebecois', 'ragga', 'ram',\n",
       "       'rancheras', 'rap', 'rave', 'reggae', 'reggaeton', 'regional',\n",
       "       'relax', 'religious', 'retro', 'rhythm', 'rnb', 'rnr', 'rock',\n",
       "       'rockabilly', 'rockalternative', 'rockindie', 'rockother',\n",
       "       'romance', 'roots', 'ruspop', 'rusrap', 'rusrock', 'russian',\n",
       "       'salsa', 'samba', 'scenic', 'schlager', 'self', 'sertanejo',\n",
       "       'shanson', 'shoegazing', 'showtunes', 'singer', 'ska', 'skarock',\n",
       "       'slow', 'smooth', 'soft', 'soul', 'soulful', 'sound', 'soundtrack',\n",
       "       'southern', 'specialty', 'speech', 'spiritual', 'sport',\n",
       "       'stonerrock', 'surf', 'swing', 'synthpop', 'synthrock',\n",
       "       'sängerportrait', 'tango', 'tanzorchester', 'taraftar', 'tatar',\n",
       "       'tech', 'techno', 'teen', 'thrash', 'top', 'traditional',\n",
       "       'tradjazz', 'trance', 'tribal', 'trip', 'triphop', 'tropical',\n",
       "       'türk', 'türkçe', 'ukrrock', 'unknown', 'urban', 'uzbek',\n",
       "       'variété', 'vi', 'videogame', 'vocal', 'western', 'world',\n",
       "       'worldbeat', 'ïîï', 'электроника'], dtype=object)"
      ]
     },
     "execution_count": 17,
     "metadata": {},
     "output_type": "execute_result"
    }
   ],
   "source": [
    "df['genre'].sort_values().unique()# Проверка на неявные дубликаты"
   ]
  },
  {
   "cell_type": "markdown",
   "metadata": {
    "deletable": false,
    "editable": false,
    "id": "jz6a9-7HQUDd"
   },
   "source": [
    "**Выводы**\n",
    "\n",
    "Предобработка обнаружила три проблемы в данных:\n",
    "\n",
    "- нарушения в стиле заголовков,\n",
    "- пропущенные значения,\n",
    "- дубликаты — явные и неявные.\n",
    "\n",
    "Вы исправили заголовки, чтобы упростить работу с таблицей. Без дубликатов исследование станет более точным.\n",
    "\n",
    "Пропущенные значения вы заменили на `'unknown'`. Ещё предстоит увидеть, не повредят ли исследованию пропуски в колонке `genre`.\n",
    "\n",
    "Теперь можно перейти к проверке гипотез. "
   ]
  },
  {
   "cell_type": "markdown",
   "metadata": {
    "deletable": false,
    "editable": false,
    "id": "WttZHXH0SqKk"
   },
   "source": [
    "## Проверка гипотез"
   ]
  },
  {
   "cell_type": "markdown",
   "metadata": {
    "deletable": false,
    "editable": false,
    "id": "Im936VVi_Zcu"
   },
   "source": [
    "### Сравнение поведения пользователей двух столиц"
   ]
  },
  {
   "cell_type": "markdown",
   "metadata": {
    "deletable": false,
    "editable": false,
    "id": "nwt_MuaL_Zcu"
   },
   "source": [
    "Первая гипотеза утверждает, что пользователи по-разному слушают музыку в Москве и Санкт-Петербурге. Проверьте это предположение по данным о трёх днях недели — понедельнике, среде и пятнице. Для этого:\n",
    "\n",
    "* Разделите пользователей Москвы и Санкт-Петербурга.\n",
    "* Сравните, сколько треков послушала каждая группа пользователей в понедельник, среду и пятницу.\n"
   ]
  },
  {
   "cell_type": "markdown",
   "metadata": {
    "deletable": false,
    "editable": false,
    "id": "8Dw_YMmT_Zcu",
    "tags": [
     "start_task"
    ]
   },
   "source": [
    "**Задание 18**\n",
    "\n",
    "Для тренировки сначала выполните каждый из расчётов по отдельности. \n",
    "\n",
    "Оцените активность пользователей в каждом городе. Сгруппируйте данные по городу и посчитайте прослушивания в каждой группе.\n",
    "\n"
   ]
  },
  {
   "cell_type": "code",
   "execution_count": 18,
   "metadata": {
    "deletable": false,
    "id": "0_Qs96oh_Zcu"
   },
   "outputs": [
    {
     "data": {
      "text/plain": [
       "city\n",
       "Moscow              42741\n",
       "Saint-Petersburg    18512\n",
       "Name: track, dtype: int64"
      ]
     },
     "execution_count": 18,
     "metadata": {},
     "output_type": "execute_result"
    }
   ],
   "source": [
    "df.groupby('city')['track'].count()\n"
   ]
  },
  {
   "cell_type": "markdown",
   "metadata": {
    "deletable": false,
    "editable": false,
    "id": "dzli3w8o_Zcu",
    "tags": [
     "start_task"
    ]
   },
   "source": [
    "В Москве прослушиваний больше, чем в Петербурге. Из этого не следует, что московские пользователи чаще слушают музыку. Просто самих пользователей в Москве больше.\n",
    "\n",
    "**Задание 19**\n",
    "\n",
    "Теперь сгруппируйте данные по дню недели и посчитайте прослушивания в понедельник, среду и пятницу. Учтите, что в данных есть информация о прослушиваниях только за эти дни.\n"
   ]
  },
  {
   "cell_type": "code",
   "execution_count": 19,
   "metadata": {
    "deletable": false,
    "id": "uZMKjiJz_Zcu"
   },
   "outputs": [
    {
     "data": {
      "text/plain": [
       "day\n",
       "Friday       21840\n",
       "Monday       21354\n",
       "Wednesday    18059\n",
       "Name: track, dtype: int64"
      ]
     },
     "execution_count": 19,
     "metadata": {},
     "output_type": "execute_result"
    }
   ],
   "source": [
    "df.groupby('day')['track'].count()# Подсчёт прослушиваний в каждый из трёх дней"
   ]
  },
  {
   "cell_type": "markdown",
   "metadata": {
    "deletable": false,
    "editable": false,
    "id": "cC2tNrlL_Zcu"
   },
   "source": [
    "В среднем пользователи из двух городов менее активны по средам. Но картина может измениться, если рассмотреть каждый город в отдельности."
   ]
  },
  {
   "cell_type": "markdown",
   "metadata": {
    "deletable": false,
    "editable": false,
    "id": "POzs8bGa_Zcu",
    "tags": [
     "start_task"
    ]
   },
   "source": [
    "**Задание 20**\n",
    "\n",
    "\n",
    "Вы видели, как работает группировка по городу и по дням недели. Теперь напишите функцию, которая объединит два эти расчёта.\n",
    "\n",
    "Создайте функцию `number_tracks()`, которая посчитает прослушивания для заданного дня и города. Ей понадобятся два параметра:\n",
    "* день недели,\n",
    "* название города.\n",
    "\n",
    "В функции сохраните в переменную строки исходной таблицы, у которых значение:\n",
    "  * в колонке `day` равно параметру `day`,\n",
    "  * в колонке `city` равно параметру `city`.\n",
    "\n",
    "Для этого примените последовательную фильтрацию с логической индексацией (или сложные логические выражения в одну строку, если вы уже знакомы с ними).\n",
    "\n",
    "Затем посчитайте значения в столбце `user_id` получившейся таблицы. Результат сохраните в новую переменную. Верните эту переменную из функции."
   ]
  },
  {
   "cell_type": "code",
   "execution_count": 20,
   "metadata": {
    "deletable": false,
    "id": "Nz3GdQB1_Zcu"
   },
   "outputs": [],
   "source": [
    "def number_tracks(day,city):\n",
    "    track_list = df[df['day'] == day]\n",
    "    track_list = track_list[track_list['city'] == city]\n",
    "    track_list_count=track_list['user_id'].count()\n",
    "    return track_list_count\n",
    "# <создание функции number_tracks()>\n",
    "# Объявляется функция с двумя параметрами: day, city.\n",
    "# В переменной track_list сохраняются те строки таблицы df, для которых \n",
    "# значение в столбце 'day' равно параметру day и одновременно значение\n",
    "# в столбце 'city' равно параметру city (используйте последовательную фильтрацию\n",
    "# с помощью логической индексации или сложные логические выражения в одну строку, если вы уже знакомы с ними).\n",
    "# В переменной track_list_count сохраняется число значений столбца 'user_id',\n",
    "# рассчитанное методом count() для таблицы track_list.\n",
    "# Функция возвращает число - значение track_list_count.\n",
    "\n",
    "# Функция для подсчёта прослушиваний для конкретного города и дня.\n",
    "# С помощью последовательной фильтрации с логической индексацией она \n",
    "# сначала получит из исходной таблицы строки с нужным днём,\n",
    "# затем из результата отфильтрует строки с нужным городом,\n",
    "# методом count() посчитает количество значений в колонке user_id. \n",
    "# Это количество функция вернёт в качестве результата"
   ]
  },
  {
   "cell_type": "markdown",
   "metadata": {
    "deletable": false,
    "editable": false,
    "id": "ytf7xFrFJQ2r",
    "tags": [
     "start_task"
    ]
   },
   "source": [
    "**Задание 21**\n",
    "\n",
    "Вызовите `number_tracks()` шесть раз, меняя значение параметров — так, чтобы получить данные для каждого города в каждый из трёх дней."
   ]
  },
  {
   "cell_type": "code",
   "execution_count": 21,
   "metadata": {
    "deletable": false,
    "id": "rJcRATNQ_Zcu"
   },
   "outputs": [
    {
     "data": {
      "text/plain": [
       "15740"
      ]
     },
     "execution_count": 21,
     "metadata": {},
     "output_type": "execute_result"
    }
   ],
   "source": [
    "number_tracks('Monday', 'Moscow')# количество прослушиваний в Москве по понедельникам"
   ]
  },
  {
   "cell_type": "code",
   "execution_count": 22,
   "metadata": {
    "deletable": false,
    "id": "hq_ncZ5T_Zcu"
   },
   "outputs": [
    {
     "data": {
      "text/plain": [
       "5614"
      ]
     },
     "execution_count": 22,
     "metadata": {},
     "output_type": "execute_result"
    }
   ],
   "source": [
    "number_tracks('Monday', 'Saint-Petersburg')# количество прослушиваний в Санкт-Петербурге по понедельникам"
   ]
  },
  {
   "cell_type": "code",
   "execution_count": 23,
   "metadata": {
    "deletable": false,
    "id": "_NTy2VPU_Zcu"
   },
   "outputs": [
    {
     "data": {
      "text/plain": [
       "11056"
      ]
     },
     "execution_count": 23,
     "metadata": {},
     "output_type": "execute_result"
    }
   ],
   "source": [
    "number_tracks('Wednesday','Moscow')"
   ]
  },
  {
   "cell_type": "code",
   "execution_count": 24,
   "metadata": {
    "deletable": false,
    "id": "j2y3TAwo_Zcu"
   },
   "outputs": [
    {
     "data": {
      "text/plain": [
       "7003"
      ]
     },
     "execution_count": 24,
     "metadata": {},
     "output_type": "execute_result"
    }
   ],
   "source": [
    "number_tracks('Wednesday', 'Saint-Petersburg')# количество прослушиваний в Санкт-Петербурге по средам"
   ]
  },
  {
   "cell_type": "code",
   "execution_count": 25,
   "metadata": {
    "deletable": false,
    "id": "vYDw5u_K_Zcu"
   },
   "outputs": [
    {
     "data": {
      "text/plain": [
       "15945"
      ]
     },
     "execution_count": 25,
     "metadata": {},
     "output_type": "execute_result"
    }
   ],
   "source": [
    "number_tracks('Friday', 'Moscow')# количество прослушиваний в Москве по пятницам"
   ]
  },
  {
   "cell_type": "code",
   "execution_count": 26,
   "metadata": {
    "deletable": false,
    "id": "8_yzFtW3_Zcu"
   },
   "outputs": [
    {
     "data": {
      "text/plain": [
       "5895"
      ]
     },
     "execution_count": 26,
     "metadata": {},
     "output_type": "execute_result"
    }
   ],
   "source": [
    "number_tracks('Friday', 'Saint-Petersburg')# количество прослушиваний в Санкт-Петербурге по пятницам"
   ]
  },
  {
   "cell_type": "markdown",
   "metadata": {
    "deletable": false,
    "editable": false,
    "id": "7QXffbO-_Zcu",
    "tags": [
     "start_task"
    ]
   },
   "source": [
    "**Задание 22**\n",
    "\n",
    "Создайте c помощью конструктора `pd.DataFrame` таблицу, где\n",
    "* названия колонок — `['city', 'monday', 'wednesday', 'friday']`;\n",
    "* данные — результаты, которые вы получили с помощью `number_tracks`."
   ]
  },
  {
   "cell_type": "code",
   "execution_count": 27,
   "metadata": {
    "deletable": false,
    "id": "APAcLpOr_Zcu"
   },
   "outputs": [
    {
     "data": {
      "text/html": [
       "<div>\n",
       "<style scoped>\n",
       "    .dataframe tbody tr th:only-of-type {\n",
       "        vertical-align: middle;\n",
       "    }\n",
       "\n",
       "    .dataframe tbody tr th {\n",
       "        vertical-align: top;\n",
       "    }\n",
       "\n",
       "    .dataframe thead th {\n",
       "        text-align: right;\n",
       "    }\n",
       "</style>\n",
       "<table border=\"1\" class=\"dataframe\">\n",
       "  <thead>\n",
       "    <tr style=\"text-align: right;\">\n",
       "      <th></th>\n",
       "      <th>city</th>\n",
       "      <th>monday</th>\n",
       "      <th>wednesday</th>\n",
       "      <th>friday</th>\n",
       "    </tr>\n",
       "  </thead>\n",
       "  <tbody>\n",
       "    <tr>\n",
       "      <th>0</th>\n",
       "      <td>Москва</td>\n",
       "      <td>15740</td>\n",
       "      <td>11056</td>\n",
       "      <td>15945</td>\n",
       "    </tr>\n",
       "    <tr>\n",
       "      <th>1</th>\n",
       "      <td>Санкт-Петербург</td>\n",
       "      <td>5614</td>\n",
       "      <td>7003</td>\n",
       "      <td>5895</td>\n",
       "    </tr>\n",
       "  </tbody>\n",
       "</table>\n",
       "</div>"
      ],
      "text/plain": [
       "              city  monday  wednesday  friday\n",
       "0           Москва   15740      11056   15945\n",
       "1  Санкт-Петербург    5614       7003    5895"
      ]
     },
     "execution_count": 27,
     "metadata": {},
     "output_type": "execute_result"
    }
   ],
   "source": [
    "info = pd.DataFrame(data=[['Москва',15740,11056,15945], ['Санкт-Петербург',5614,7003,5895]],columns=['city', 'monday', 'wednesday', 'friday'])\n",
    "info                   "
   ]
  },
  {
   "cell_type": "markdown",
   "metadata": {
    "deletable": false,
    "editable": false,
    "id": "-EgPIHYu_Zcu"
   },
   "source": [
    "**Выводы**\n",
    "\n",
    "Данные показывают разницу поведения пользователей:\n",
    "\n",
    "- В Москве пик прослушиваний приходится на понедельник и пятницу, а в среду заметен спад.\n",
    "- В Петербурге, наоборот, больше слушают музыку по средам. Активность в понедельник и пятницу здесь почти в равной мере уступает среде.\n",
    "\n",
    "Значит, данные говорят в пользу первой гипотезы."
   ]
  },
  {
   "cell_type": "markdown",
   "metadata": {
    "deletable": false,
    "editable": false,
    "id": "atZAxtq4_Zcu"
   },
   "source": [
    "### Музыка в начале и в конце недели"
   ]
  },
  {
   "cell_type": "markdown",
   "metadata": {
    "deletable": false,
    "editable": false,
    "id": "eXrQqXFH_Zcu"
   },
   "source": [
    "Согласно второй гипотезе, утром в понедельник в Москве преобладают одни жанры, а в Петербурге — другие. Так же и вечером пятницы преобладают разные жанры — в зависимости от города."
   ]
  },
  {
   "cell_type": "markdown",
   "metadata": {
    "deletable": false,
    "editable": false,
    "id": "S8UcW6Hw_Zcu",
    "tags": [
     "start_task"
    ]
   },
   "source": [
    "**Задание 23**\n",
    "\n",
    "Сохраните таблицы с данными в две переменные:\n",
    "* по Москве — в `moscow_general`;\n",
    "* по Санкт-Петербургу — в `spb_general`."
   ]
  },
  {
   "cell_type": "code",
   "execution_count": 28,
   "metadata": {
    "deletable": false,
    "id": "qeaFfM_P_Zcu"
   },
   "outputs": [],
   "source": [
    "moscow_general = df[df['city'] == 'Moscow']"
   ]
  },
  {
   "cell_type": "code",
   "execution_count": 29,
   "metadata": {
    "deletable": false,
    "id": "ORaVRKto_Zcu"
   },
   "outputs": [],
   "source": [
    "spb_general=df[df['city']=='Saint-Petersburg']"
   ]
  },
  {
   "cell_type": "markdown",
   "metadata": {
    "deletable": false,
    "editable": false,
    "id": "MEJV-CX2_Zcu",
    "tags": [
     "start_task"
    ]
   },
   "source": [
    "**Задание 24**\n",
    "\n",
    "Создайте функцию `genre_weekday()` с четырьмя параметрами:\n",
    "* таблица (датафрейм) с данными,\n",
    "* день недели,\n",
    "* начальная временная метка в формате 'hh:mm', \n",
    "* последняя временная метка в формате 'hh:mm'.\n",
    "\n",
    "Функция должна вернуть информацию о топ-10 жанров тех треков, которые прослушивали в указанный день, в промежутке между двумя отметками времени."
   ]
  },
  {
   "cell_type": "code",
   "execution_count": 30,
   "metadata": {
    "deletable": false,
    "id": "laJT9BYl_Zcu"
   },
   "outputs": [],
   "source": [
    "def genre_weekday(df,day,time1,time2):\n",
    "    genre_df = df[df['day'] == day]\n",
    "    genre_df=genre_df[genre_df['time']>time1]\n",
    "    genre_df=genre_df[genre_df['time']<time2]\n",
    "    genre_df_grouped = genre_df.groupby('genre')['genre'].count()\n",
    "    genre_df_sorted = genre_df_grouped.sort_values(ascending=False)\n",
    "    return genre_df_sorted[:10]"
   ]
  },
  {
   "cell_type": "markdown",
   "metadata": {
    "deletable": false,
    "editable": false,
    "id": "la2s2_PF_Zcu",
    "tags": [
     "start_task"
    ]
   },
   "source": [
    "**Задание 25**\n",
    "\n",
    "\n",
    "Cравните результаты функции `genre_weekday()` для Москвы и Санкт-Петербурга в понедельник утром (с 7:00 до 11:00) и в пятницу вечером (с 17:00 до 23:00):"
   ]
  },
  {
   "cell_type": "code",
   "execution_count": 31,
   "metadata": {
    "deletable": false,
    "id": "yz7itPUQ_Zcu"
   },
   "outputs": [
    {
     "data": {
      "text/plain": [
       "genre\n",
       "pop            781\n",
       "dance          549\n",
       "electronic     480\n",
       "rock           474\n",
       "hiphop         286\n",
       "ruspop         186\n",
       "world          181\n",
       "rusrap         175\n",
       "alternative    164\n",
       "unknown        161\n",
       "Name: genre, dtype: int64"
      ]
     },
     "execution_count": 31,
     "metadata": {},
     "output_type": "execute_result"
    }
   ],
   "source": [
    "genre_weekday(moscow_general, 'Monday', '07:00', '11:00')"
   ]
  },
  {
   "cell_type": "code",
   "execution_count": 32,
   "metadata": {
    "deletable": false,
    "id": "kwUcHPdy_Zcu"
   },
   "outputs": [
    {
     "data": {
      "text/plain": [
       "genre\n",
       "pop            218\n",
       "dance          182\n",
       "rock           162\n",
       "electronic     147\n",
       "hiphop          80\n",
       "ruspop          64\n",
       "alternative     58\n",
       "rusrap          55\n",
       "jazz            44\n",
       "classical       40\n",
       "Name: genre, dtype: int64"
      ]
     },
     "execution_count": 32,
     "metadata": {},
     "output_type": "execute_result"
    }
   ],
   "source": [
    "genre_weekday(spb_general, 'Monday', '07:00', '11:00')# вызов функции для утра понедельника в Петербурге (вместо df — таблица spb_general)"
   ]
  },
  {
   "cell_type": "code",
   "execution_count": 33,
   "metadata": {
    "deletable": false,
    "id": "EzXVRE1o_Zcu"
   },
   "outputs": [
    {
     "data": {
      "text/plain": [
       "genre\n",
       "pop            713\n",
       "rock           517\n",
       "dance          495\n",
       "electronic     482\n",
       "hiphop         273\n",
       "world          208\n",
       "ruspop         170\n",
       "alternative    163\n",
       "classical      163\n",
       "rusrap         142\n",
       "Name: genre, dtype: int64"
      ]
     },
     "execution_count": 33,
     "metadata": {},
     "output_type": "execute_result"
    }
   ],
   "source": [
    "genre_weekday(moscow_general, 'Friday', '17:00', '23:00')"
   ]
  },
  {
   "cell_type": "code",
   "execution_count": 34,
   "metadata": {
    "deletable": false,
    "id": "JZaEKu5v_Zcu"
   },
   "outputs": [
    {
     "data": {
      "text/plain": [
       "genre\n",
       "pop            256\n",
       "electronic     216\n",
       "rock           216\n",
       "dance          210\n",
       "hiphop          97\n",
       "alternative     63\n",
       "jazz            61\n",
       "classical       60\n",
       "rusrap          59\n",
       "world           54\n",
       "Name: genre, dtype: int64"
      ]
     },
     "execution_count": 34,
     "metadata": {},
     "output_type": "execute_result"
    }
   ],
   "source": [
    "genre_weekday(spb_general, 'Friday', '17:00', '23:00')"
   ]
  },
  {
   "cell_type": "markdown",
   "metadata": {
    "deletable": false,
    "editable": false,
    "id": "wrCe4MNX_Zcu"
   },
   "source": [
    "**Выводы**\n",
    "\n",
    "Если сравнить топ-10 жанров в понедельник утром, можно сделать такие выводы:\n",
    "\n",
    "1. В Москве и Петербурге слушают похожую музыку. Единственное отличие — в московский рейтинг вошёл жанр “world”, а в петербургский — джаз и классика.\n",
    "\n",
    "2. В Москве пропущенных значений оказалось так много, что значение `'unknown'` заняло десятое место среди самых популярных жанров. Значит, пропущенные значения занимают существенную долю в данных и угрожают достоверности исследования.\n",
    "\n",
    "Вечер пятницы не меняет эту картину. Некоторые жанры поднимаются немного выше, другие спускаются, но в целом топ-10 остаётся тем же самым.\n",
    "\n",
    "Таким образом, вторая гипотеза подтвердилась лишь частично:\n",
    "* Пользователи слушают похожую музыку в начале недели и в конце.\n",
    "* Разница между Москвой и Петербургом не слишком выражена. В Москве чаще слушают русскую популярную музыку, в Петербурге — джаз.\n",
    "\n",
    "Однако пропуски в данных ставят под сомнение этот результат. В Москве их так много, что рейтинг топ-10 мог бы выглядеть иначе, если бы не утерянные  данные о жанрах."
   ]
  },
  {
   "cell_type": "markdown",
   "metadata": {
    "deletable": false,
    "editable": false,
    "id": "JolODAqr_Zcu"
   },
   "source": [
    "### Жанровые предпочтения в Москве и Петербурге\n",
    "\n",
    "Гипотеза: Петербург — столица рэпа, музыку этого жанра там слушают чаще, чем в Москве.  А Москва — город контрастов, в котором, тем не менее, преобладает поп-музыка."
   ]
  },
  {
   "cell_type": "markdown",
   "metadata": {
    "deletable": false,
    "editable": false,
    "id": "DlegSvaT_Zcu",
    "tags": [
     "start_task"
    ]
   },
   "source": [
    "**Задание 26**\n",
    "\n",
    "Сгруппируйте таблицу `moscow_general` по жанру и посчитайте прослушивания треков каждого жанра методом `count()`. Затем отсортируйте результат в порядке убывания и сохраните его в таблице `moscow_genres`."
   ]
  },
  {
   "cell_type": "code",
   "execution_count": 35,
   "metadata": {
    "deletable": false,
    "id": "r19lIPke_Zcu"
   },
   "outputs": [],
   "source": [
    "moscow_genres = moscow_general.groupby('genre')['genre'].count().sort_values(ascending=False)\n",
    "# одной строкой: группировка таблицы moscow_general по столбцу 'genre', \n",
    "# подсчёт числа значений 'genre' в этой группировке методом count(), \n",
    "# сортировка получившегося Series в порядке убывания и сохранение в moscow_genres"
   ]
  },
  {
   "cell_type": "markdown",
   "metadata": {
    "deletable": false,
    "editable": false,
    "id": "6kMuomxTiIr8",
    "tags": [
     "start_task"
    ]
   },
   "source": [
    "**Задание 27**\n",
    "\n",
    "Выведите на экран первые десять строк `moscow_genres`:"
   ]
  },
  {
   "cell_type": "code",
   "execution_count": 36,
   "metadata": {
    "deletable": false,
    "id": "WhCSooF8_Zcv"
   },
   "outputs": [
    {
     "data": {
      "text/plain": [
       "genre\n",
       "pop            5892\n",
       "dance          4435\n",
       "rock           3965\n",
       "electronic     3786\n",
       "hiphop         2096\n",
       "classical      1616\n",
       "world          1432\n",
       "alternative    1379\n",
       "ruspop         1372\n",
       "rusrap         1161\n",
       "Name: genre, dtype: int64"
      ]
     },
     "execution_count": 36,
     "metadata": {},
     "output_type": "execute_result"
    }
   ],
   "source": [
    "moscow_genres.head(10)# просмотр первых 10 строк moscow_genres"
   ]
  },
  {
   "cell_type": "markdown",
   "metadata": {
    "deletable": false,
    "editable": false,
    "id": "cnPG2vnN_Zcv",
    "tags": [
     "start_task"
    ]
   },
   "source": [
    "**Задание 28**\n",
    "\n",
    "\n",
    "Теперь повторите то же и для Петербурга.\n",
    "\n",
    "Сгруппируйте таблицу `spb_general` по жанру. Посчитайте прослушивания треков каждого жанра. Результат отсортируйте в порядке убывания и сохраните в таблице `spb_genres`:\n"
   ]
  },
  {
   "cell_type": "code",
   "execution_count": 37,
   "metadata": {
    "deletable": false,
    "id": "gluLIpE7_Zcv"
   },
   "outputs": [],
   "source": [
    "spb_genres = spb_general.groupby('genre')['genre'].count().sort_values(ascending=False)"
   ]
  },
  {
   "cell_type": "markdown",
   "metadata": {
    "deletable": false,
    "editable": false,
    "id": "5Doha_ODgyQ8",
    "tags": [
     "start_task"
    ]
   },
   "source": [
    "**Задание 29**\n",
    "\n",
    "Выведите на экран первые десять строк `spb_genres`:"
   ]
  },
  {
   "cell_type": "code",
   "execution_count": 38,
   "metadata": {
    "deletable": false,
    "id": "uaGJHjVU_Zcv"
   },
   "outputs": [
    {
     "data": {
      "text/plain": [
       "genre\n",
       "pop            2431\n",
       "dance          1932\n",
       "rock           1879\n",
       "electronic     1736\n",
       "hiphop          960\n",
       "alternative     649\n",
       "classical       646\n",
       "rusrap          564\n",
       "ruspop          538\n",
       "world           515\n",
       "Name: genre, dtype: int64"
      ]
     },
     "execution_count": 38,
     "metadata": {},
     "output_type": "execute_result"
    }
   ],
   "source": [
    "spb_genres.head(10)"
   ]
  },
  {
   "cell_type": "markdown",
   "metadata": {
    "deletable": false,
    "editable": false,
    "id": "RY51YJYu_Zcv"
   },
   "source": [
    "**Выводы**"
   ]
  },
  {
   "cell_type": "markdown",
   "metadata": {
    "deletable": false,
    "editable": false,
    "id": "nVhnJEm__Zcv"
   },
   "source": [
    "Гипотеза частично подтвердилась:\n",
    "* Поп-музыка — самый популярный жанр в Москве, как и предполагала гипотеза. Более того, в топ-10 жанров встречается близкий жанр — русская популярная музыка.\n",
    "* Вопреки ожиданиям, рэп одинаково популярен в Москве и Петербурге. \n"
   ]
  },
  {
   "cell_type": "markdown",
   "metadata": {
    "deletable": false,
    "editable": false,
    "id": "ykKQ0N65_Zcv"
   },
   "source": [
    "## Итоги исследования"
   ]
  },
  {
   "cell_type": "markdown",
   "metadata": {
    "deletable": false,
    "editable": false,
    "id": "tjUwbHb3_Zcv"
   },
   "source": [
    "Вы проверили три гипотезы и установили:\n",
    "\n",
    "1. День недели по-разному влияет на активность пользователей в Москве и Петербурге. \n",
    "\n",
    "Первая гипотеза полностью подтвердилась.\n",
    "\n",
    "2. Музыкальные предпочтения не сильно меняются в течение недели — будь то Москва или Петербург. Небольшие различия заметны в начале недели, по понедельникам:\n",
    "* в Москве слушают музыку жанра “world”,\n",
    "* в Петербурге — джаз и классику.\n",
    "\n",
    "Таким образом, вторая гипотеза подтвердилась лишь отчасти. Этот результат мог оказаться иным, если бы не пропуски в данных.\n",
    "\n",
    "3. Во вкусах пользователей Москвы и Петербурга больше общего чем различий. Вопреки ожиданиям, предпочтения жанров в Петербурге напоминают московские.\n",
    "\n",
    "Третья гипотеза не подтвердилась. Если различия в предпочтениях и существуют, на основной массе пользователей они незаметны.\n",
    "\n",
    "**На практике исследования содержат проверки статистических гипотез.**\n",
    "Из данных одного сервиса не всегда можно сделать вывод о всех жителях города.\n",
    "Проверки статистических гипотез покажут, насколько они достоверны, исходя из имеющихся данных. \n",
    "С методами проверок гипотез вы ещё познакомитесь в следующих темах."
   ]
  },
  {
   "cell_type": "code",
   "execution_count": null,
   "metadata": {},
   "outputs": [],
   "source": []
  },
  {
   "cell_type": "code",
   "execution_count": null,
   "metadata": {},
   "outputs": [],
   "source": []
  }
 ],
 "metadata": {
  "ExecuteTimeLog": [
   {
    "duration": 47,
    "start_time": "2023-01-22T17:17:46.505Z"
   },
   {
    "duration": 404,
    "start_time": "2023-01-22T17:17:56.539Z"
   },
   {
    "duration": 44,
    "start_time": "2023-01-22T17:20:08.456Z"
   },
   {
    "duration": 443,
    "start_time": "2023-01-22T17:20:37.105Z"
   },
   {
    "duration": 46,
    "start_time": "2023-01-23T12:18:27.682Z"
   },
   {
    "duration": 6,
    "start_time": "2023-01-23T12:18:52.443Z"
   },
   {
    "duration": 399,
    "start_time": "2023-01-23T12:18:59.100Z"
   },
   {
    "duration": 222,
    "start_time": "2023-01-23T12:19:03.577Z"
   },
   {
    "duration": 18,
    "start_time": "2023-01-23T12:19:10.065Z"
   },
   {
    "duration": 2,
    "start_time": "2023-01-23T12:22:25.233Z"
   },
   {
    "duration": 5,
    "start_time": "2023-01-23T12:23:32.442Z"
   },
   {
    "duration": 11,
    "start_time": "2023-01-23T12:27:57.223Z"
   },
   {
    "duration": 13,
    "start_time": "2023-01-23T12:30:23.378Z"
   },
   {
    "duration": 9,
    "start_time": "2023-01-23T12:34:46.978Z"
   },
   {
    "duration": 16,
    "start_time": "2023-01-23T12:45:32.929Z"
   },
   {
    "duration": 5,
    "start_time": "2023-01-23T12:48:57.129Z"
   },
   {
    "duration": 193,
    "start_time": "2023-01-23T12:48:58.625Z"
   },
   {
    "duration": 12,
    "start_time": "2023-01-23T12:49:00.541Z"
   },
   {
    "duration": 36,
    "start_time": "2023-01-23T12:49:02.063Z"
   },
   {
    "duration": 3,
    "start_time": "2023-01-23T12:49:09.629Z"
   },
   {
    "duration": 5,
    "start_time": "2023-01-23T12:49:15.066Z"
   },
   {
    "duration": 10,
    "start_time": "2023-01-23T12:49:54.605Z"
   },
   {
    "duration": 12,
    "start_time": "2023-01-23T12:51:33.796Z"
   },
   {
    "duration": 8,
    "start_time": "2023-01-23T12:53:07.227Z"
   },
   {
    "duration": 4,
    "start_time": "2023-01-23T12:53:42.197Z"
   },
   {
    "duration": 4,
    "start_time": "2023-01-23T12:54:08.685Z"
   },
   {
    "duration": 8,
    "start_time": "2023-01-23T13:01:07.748Z"
   },
   {
    "duration": 4,
    "start_time": "2023-01-23T13:08:22.175Z"
   },
   {
    "duration": 8,
    "start_time": "2023-01-23T13:08:59.804Z"
   },
   {
    "duration": 4,
    "start_time": "2023-01-23T13:09:07.051Z"
   },
   {
    "duration": 4,
    "start_time": "2023-01-23T13:11:26.370Z"
   },
   {
    "duration": 37,
    "start_time": "2023-01-23T13:11:33.853Z"
   },
   {
    "duration": 424,
    "start_time": "2023-01-23T14:59:37.513Z"
   },
   {
    "duration": 465,
    "start_time": "2023-01-23T14:59:37.994Z"
   },
   {
    "duration": 17,
    "start_time": "2023-01-23T14:59:38.461Z"
   },
   {
    "duration": 33,
    "start_time": "2023-01-23T14:59:39.288Z"
   },
   {
    "duration": 2,
    "start_time": "2023-01-23T14:59:39.908Z"
   },
   {
    "duration": 4,
    "start_time": "2023-01-23T14:59:41.419Z"
   },
   {
    "duration": 10,
    "start_time": "2023-01-23T14:59:42.208Z"
   },
   {
    "duration": 4,
    "start_time": "2023-01-23T14:59:43.584Z"
   },
   {
    "duration": 26,
    "start_time": "2023-01-23T14:59:47.554Z"
   },
   {
    "duration": 77,
    "start_time": "2023-01-23T14:59:58.674Z"
   },
   {
    "duration": 66,
    "start_time": "2023-01-23T15:02:14.175Z"
   },
   {
    "duration": 7,
    "start_time": "2023-01-23T15:02:37.042Z"
   },
   {
    "duration": 7,
    "start_time": "2023-01-23T15:03:49.957Z"
   },
   {
    "duration": 8,
    "start_time": "2023-01-23T15:04:26.816Z"
   },
   {
    "duration": 9,
    "start_time": "2023-01-23T15:11:43.274Z"
   },
   {
    "duration": 11,
    "start_time": "2023-01-23T15:14:37.625Z"
   },
   {
    "duration": 7,
    "start_time": "2023-01-23T15:20:58.649Z"
   },
   {
    "duration": 803,
    "start_time": "2023-01-23T15:33:15.632Z"
   },
   {
    "duration": 9,
    "start_time": "2023-01-23T15:36:34.543Z"
   },
   {
    "duration": 772,
    "start_time": "2023-01-23T15:37:45.002Z"
   },
   {
    "duration": 740,
    "start_time": "2023-01-23T15:38:17.330Z"
   },
   {
    "duration": 8,
    "start_time": "2023-01-23T15:39:04.247Z"
   },
   {
    "duration": 3,
    "start_time": "2023-01-23T15:41:08.430Z"
   },
   {
    "duration": 174,
    "start_time": "2023-01-23T15:41:09.447Z"
   },
   {
    "duration": 12,
    "start_time": "2023-01-23T15:41:10.521Z"
   },
   {
    "duration": 30,
    "start_time": "2023-01-23T15:41:12.260Z"
   },
   {
    "duration": 2,
    "start_time": "2023-01-23T15:41:14.651Z"
   },
   {
    "duration": 4,
    "start_time": "2023-01-23T15:41:17.521Z"
   },
   {
    "duration": 12,
    "start_time": "2023-01-23T15:41:19.747Z"
   },
   {
    "duration": 4,
    "start_time": "2023-01-23T15:41:21.657Z"
   },
   {
    "duration": 30,
    "start_time": "2023-01-23T15:41:24.606Z"
   },
   {
    "duration": 8,
    "start_time": "2023-01-23T15:41:33.989Z"
   },
   {
    "duration": 868,
    "start_time": "2023-01-23T15:41:43.713Z"
   },
   {
    "duration": 11,
    "start_time": "2023-01-23T15:47:18.625Z"
   },
   {
    "duration": 9,
    "start_time": "2023-01-23T15:52:45.533Z"
   },
   {
    "duration": 9,
    "start_time": "2023-01-23T15:53:04.685Z"
   },
   {
    "duration": 8,
    "start_time": "2023-01-23T15:53:25.213Z"
   },
   {
    "duration": 360,
    "start_time": "2023-01-23T20:11:19.815Z"
   },
   {
    "duration": 212,
    "start_time": "2023-01-23T20:11:20.427Z"
   },
   {
    "duration": 16,
    "start_time": "2023-01-23T20:11:21.003Z"
   },
   {
    "duration": 29,
    "start_time": "2023-01-23T20:11:22.006Z"
   },
   {
    "duration": 2,
    "start_time": "2023-01-23T20:11:23.025Z"
   },
   {
    "duration": 4,
    "start_time": "2023-01-23T20:11:25.008Z"
   },
   {
    "duration": 10,
    "start_time": "2023-01-23T20:11:26.508Z"
   },
   {
    "duration": 4,
    "start_time": "2023-01-23T20:11:27.466Z"
   },
   {
    "duration": 35,
    "start_time": "2023-01-23T20:11:29.400Z"
   },
   {
    "duration": 18,
    "start_time": "2023-01-23T20:11:56.834Z"
   },
   {
    "duration": 25,
    "start_time": "2023-01-23T20:12:39.957Z"
   },
   {
    "duration": 62,
    "start_time": "2023-01-23T20:13:50.194Z"
   },
   {
    "duration": 82,
    "start_time": "2023-01-23T20:14:30.795Z"
   },
   {
    "duration": 63,
    "start_time": "2023-01-23T20:19:18.344Z"
   },
   {
    "duration": 80,
    "start_time": "2023-01-23T20:19:53.920Z"
   },
   {
    "duration": 69,
    "start_time": "2023-01-23T20:20:11.065Z"
   },
   {
    "duration": 54,
    "start_time": "2023-01-23T20:20:23.279Z"
   },
   {
    "duration": 55,
    "start_time": "2023-01-23T20:21:08.393Z"
   },
   {
    "duration": 34,
    "start_time": "2023-01-23T20:37:30.385Z"
   },
   {
    "duration": 66,
    "start_time": "2023-01-23T20:38:22.893Z"
   },
   {
    "duration": 7,
    "start_time": "2023-01-23T20:39:17.965Z"
   },
   {
    "duration": 8,
    "start_time": "2023-01-23T20:44:13.501Z"
   },
   {
    "duration": 7,
    "start_time": "2023-01-23T20:47:23.285Z"
   },
   {
    "duration": 7,
    "start_time": "2023-01-23T20:50:36.529Z"
   },
   {
    "duration": 3,
    "start_time": "2023-01-23T20:51:15.515Z"
   },
   {
    "duration": 2,
    "start_time": "2023-01-23T20:51:18.734Z"
   },
   {
    "duration": 141,
    "start_time": "2023-01-23T20:51:19.216Z"
   },
   {
    "duration": 10,
    "start_time": "2023-01-23T20:51:20.056Z"
   },
   {
    "duration": 25,
    "start_time": "2023-01-23T20:51:20.603Z"
   },
   {
    "duration": 2,
    "start_time": "2023-01-23T20:51:21.375Z"
   },
   {
    "duration": 3,
    "start_time": "2023-01-23T20:51:22.428Z"
   },
   {
    "duration": 7,
    "start_time": "2023-01-23T20:51:22.924Z"
   },
   {
    "duration": 3,
    "start_time": "2023-01-23T20:51:23.419Z"
   },
   {
    "duration": 24,
    "start_time": "2023-01-23T20:51:23.874Z"
   },
   {
    "duration": 16,
    "start_time": "2023-01-23T20:51:24.923Z"
   },
   {
    "duration": 21,
    "start_time": "2023-01-23T20:51:25.962Z"
   },
   {
    "duration": 58,
    "start_time": "2023-01-23T20:51:26.480Z"
   },
   {
    "duration": 59,
    "start_time": "2023-01-23T20:51:27.072Z"
   },
   {
    "duration": 50,
    "start_time": "2023-01-23T20:51:28.224Z"
   },
   {
    "duration": 34,
    "start_time": "2023-01-23T20:51:33.600Z"
   },
   {
    "duration": 11,
    "start_time": "2023-01-23T20:58:48.729Z"
   },
   {
    "duration": 2,
    "start_time": "2023-01-23T21:05:10.527Z"
   },
   {
    "duration": 138,
    "start_time": "2023-01-23T21:05:11.675Z"
   },
   {
    "duration": 11,
    "start_time": "2023-01-23T21:05:12.898Z"
   },
   {
    "duration": 25,
    "start_time": "2023-01-23T21:05:13.842Z"
   },
   {
    "duration": 2,
    "start_time": "2023-01-23T21:05:15.093Z"
   },
   {
    "duration": 4,
    "start_time": "2023-01-23T21:05:16.182Z"
   },
   {
    "duration": 7,
    "start_time": "2023-01-23T21:05:16.726Z"
   },
   {
    "duration": 4,
    "start_time": "2023-01-23T21:05:17.937Z"
   },
   {
    "duration": 21,
    "start_time": "2023-01-23T21:05:18.823Z"
   },
   {
    "duration": 23,
    "start_time": "2023-01-23T21:05:20.331Z"
   },
   {
    "duration": 24,
    "start_time": "2023-01-23T21:05:21.144Z"
   },
   {
    "duration": 56,
    "start_time": "2023-01-23T21:05:21.892Z"
   },
   {
    "duration": 59,
    "start_time": "2023-01-23T21:05:23.165Z"
   },
   {
    "duration": 52,
    "start_time": "2023-01-23T21:05:25.241Z"
   },
   {
    "duration": 142,
    "start_time": "2023-01-23T21:08:12.179Z"
   },
   {
    "duration": 10,
    "start_time": "2023-01-23T21:08:17.315Z"
   },
   {
    "duration": 25,
    "start_time": "2023-01-23T21:08:21.072Z"
   },
   {
    "duration": 2,
    "start_time": "2023-01-23T21:08:23.444Z"
   },
   {
    "duration": 5,
    "start_time": "2023-01-23T21:08:25.509Z"
   },
   {
    "duration": 6,
    "start_time": "2023-01-23T21:08:26.186Z"
   },
   {
    "duration": 4,
    "start_time": "2023-01-23T21:08:26.942Z"
   },
   {
    "duration": 21,
    "start_time": "2023-01-23T21:08:27.911Z"
   },
   {
    "duration": 15,
    "start_time": "2023-01-23T21:08:28.977Z"
   },
   {
    "duration": 20,
    "start_time": "2023-01-23T21:08:29.468Z"
   },
   {
    "duration": 62,
    "start_time": "2023-01-23T21:08:30.534Z"
   },
   {
    "duration": 56,
    "start_time": "2023-01-23T21:08:31.331Z"
   },
   {
    "duration": 50,
    "start_time": "2023-01-23T21:08:32.492Z"
   },
   {
    "duration": 33,
    "start_time": "2023-01-23T21:08:43.483Z"
   },
   {
    "duration": 8,
    "start_time": "2023-01-23T21:09:56.605Z"
   },
   {
    "duration": 32,
    "start_time": "2023-01-23T21:10:44.635Z"
   },
   {
    "duration": 34,
    "start_time": "2023-01-23T21:16:01.161Z"
   },
   {
    "duration": 48,
    "start_time": "2023-01-23T21:17:38.153Z"
   },
   {
    "duration": 28,
    "start_time": "2023-01-23T21:19:31.924Z"
   },
   {
    "duration": 46,
    "start_time": "2023-01-23T21:25:30.410Z"
   },
   {
    "duration": 37,
    "start_time": "2023-01-23T21:27:34.950Z"
   },
   {
    "duration": 12,
    "start_time": "2023-01-23T21:27:56.616Z"
   },
   {
    "duration": 10,
    "start_time": "2023-01-23T21:28:13.983Z"
   },
   {
    "duration": 9,
    "start_time": "2023-01-23T21:28:27.852Z"
   },
   {
    "duration": 9,
    "start_time": "2023-01-23T21:28:49.346Z"
   },
   {
    "duration": 11,
    "start_time": "2023-01-23T21:28:55.025Z"
   },
   {
    "duration": 9,
    "start_time": "2023-01-23T21:29:26.424Z"
   },
   {
    "duration": 9,
    "start_time": "2023-01-23T21:30:19.957Z"
   },
   {
    "duration": 10,
    "start_time": "2023-01-23T21:31:31.516Z"
   },
   {
    "duration": 10,
    "start_time": "2023-01-23T21:32:14.497Z"
   },
   {
    "duration": 10,
    "start_time": "2023-01-23T21:32:58.516Z"
   },
   {
    "duration": 10,
    "start_time": "2023-01-23T21:33:01.369Z"
   },
   {
    "duration": 3,
    "start_time": "2023-01-23T21:33:01.479Z"
   },
   {
    "duration": 2,
    "start_time": "2023-01-23T21:33:01.548Z"
   },
   {
    "duration": 12,
    "start_time": "2023-01-23T21:33:01.584Z"
   },
   {
    "duration": 3,
    "start_time": "2023-01-23T21:33:01.660Z"
   },
   {
    "duration": 22,
    "start_time": "2023-01-23T21:33:01.697Z"
   },
   {
    "duration": 22,
    "start_time": "2023-01-23T21:33:01.736Z"
   },
   {
    "duration": 36,
    "start_time": "2023-01-23T21:33:01.772Z"
   },
   {
    "duration": 2,
    "start_time": "2023-01-23T21:33:01.840Z"
   },
   {
    "duration": 2,
    "start_time": "2023-01-23T21:33:02.004Z"
   },
   {
    "duration": 14,
    "start_time": "2023-01-23T21:33:02.040Z"
   },
   {
    "duration": 85,
    "start_time": "2023-01-23T21:33:02.123Z"
   },
   {
    "duration": 0,
    "start_time": "2023-01-23T21:33:02.210Z"
   },
   {
    "duration": 38,
    "start_time": "2023-01-23T21:33:02.225Z"
   },
   {
    "duration": 21,
    "start_time": "2023-01-23T21:33:02.264Z"
   },
   {
    "duration": 14,
    "start_time": "2023-01-23T21:33:02.298Z"
   },
   {
    "duration": 3,
    "start_time": "2023-01-23T21:33:02.429Z"
   },
   {
    "duration": 4,
    "start_time": "2023-01-23T21:33:02.492Z"
   },
   {
    "duration": 3,
    "start_time": "2023-01-23T21:33:02.561Z"
   },
   {
    "duration": 2,
    "start_time": "2023-01-23T21:33:02.628Z"
   },
   {
    "duration": 3,
    "start_time": "2023-01-23T21:33:36.670Z"
   },
   {
    "duration": 161,
    "start_time": "2023-01-23T21:33:41.405Z"
   },
   {
    "duration": 10,
    "start_time": "2023-01-23T21:33:41.908Z"
   },
   {
    "duration": 28,
    "start_time": "2023-01-23T21:33:42.420Z"
   },
   {
    "duration": 2,
    "start_time": "2023-01-23T21:33:43.162Z"
   },
   {
    "duration": 4,
    "start_time": "2023-01-23T21:33:44.106Z"
   },
   {
    "duration": 9,
    "start_time": "2023-01-23T21:33:45.055Z"
   },
   {
    "duration": 3,
    "start_time": "2023-01-23T21:33:45.509Z"
   },
   {
    "duration": 23,
    "start_time": "2023-01-23T21:33:45.974Z"
   },
   {
    "duration": 16,
    "start_time": "2023-01-23T21:33:46.652Z"
   },
   {
    "duration": 22,
    "start_time": "2023-01-23T21:33:47.104Z"
   },
   {
    "duration": 60,
    "start_time": "2023-01-23T21:33:47.569Z"
   },
   {
    "duration": 66,
    "start_time": "2023-01-23T21:33:48.031Z"
   },
   {
    "duration": 52,
    "start_time": "2023-01-23T21:33:48.499Z"
   },
   {
    "duration": 33,
    "start_time": "2023-01-23T21:33:50.005Z"
   },
   {
    "duration": 9,
    "start_time": "2023-01-23T21:33:52.745Z"
   },
   {
    "duration": 33,
    "start_time": "2023-01-23T21:33:54.197Z"
   },
   {
    "duration": 37,
    "start_time": "2023-01-23T21:34:27.381Z"
   },
   {
    "duration": 4,
    "start_time": "2023-01-23T21:34:41.997Z"
   },
   {
    "duration": 28,
    "start_time": "2023-01-23T21:35:08.118Z"
   },
   {
    "duration": 30,
    "start_time": "2023-01-23T21:36:08.450Z"
   },
   {
    "duration": 34,
    "start_time": "2023-01-23T21:36:19.828Z"
   },
   {
    "duration": 8,
    "start_time": "2023-01-23T21:37:33.779Z"
   },
   {
    "duration": 31,
    "start_time": "2023-01-23T21:37:54.827Z"
   },
   {
    "duration": 12,
    "start_time": "2023-01-23T21:39:12.769Z"
   },
   {
    "duration": 31,
    "start_time": "2023-01-23T21:39:51.440Z"
   },
   {
    "duration": 11,
    "start_time": "2023-01-23T21:40:22.361Z"
   },
   {
    "duration": 370,
    "start_time": "2023-01-24T08:29:54.491Z"
   },
   {
    "duration": 453,
    "start_time": "2023-01-24T08:29:57.529Z"
   },
   {
    "duration": 17,
    "start_time": "2023-01-24T08:29:58.089Z"
   },
   {
    "duration": 28,
    "start_time": "2023-01-24T08:29:58.566Z"
   },
   {
    "duration": 2,
    "start_time": "2023-01-24T08:29:59.328Z"
   },
   {
    "duration": 4,
    "start_time": "2023-01-24T08:30:00.233Z"
   },
   {
    "duration": 11,
    "start_time": "2023-01-24T08:30:00.729Z"
   },
   {
    "duration": 4,
    "start_time": "2023-01-24T08:30:01.208Z"
   },
   {
    "duration": 24,
    "start_time": "2023-01-24T08:30:01.641Z"
   },
   {
    "duration": 20,
    "start_time": "2023-01-24T08:30:02.264Z"
   },
   {
    "duration": 25,
    "start_time": "2023-01-24T08:30:02.816Z"
   },
   {
    "duration": 67,
    "start_time": "2023-01-24T08:30:03.319Z"
   },
   {
    "duration": 82,
    "start_time": "2023-01-24T08:30:03.734Z"
   },
   {
    "duration": 71,
    "start_time": "2023-01-24T08:30:04.182Z"
   },
   {
    "duration": 56,
    "start_time": "2023-01-24T08:30:04.901Z"
   },
   {
    "duration": 10,
    "start_time": "2023-01-24T08:30:06.188Z"
   },
   {
    "duration": 42,
    "start_time": "2023-01-24T08:30:06.633Z"
   },
   {
    "duration": 15,
    "start_time": "2023-01-24T08:30:09.608Z"
   },
   {
    "duration": 12,
    "start_time": "2023-01-24T08:30:10.032Z"
   },
   {
    "duration": 3,
    "start_time": "2023-01-24T08:30:34.027Z"
   },
   {
    "duration": 63,
    "start_time": "2023-01-24T08:32:50.037Z"
   },
   {
    "duration": 17,
    "start_time": "2023-01-24T08:33:37.802Z"
   },
   {
    "duration": 15,
    "start_time": "2023-01-24T08:34:42.666Z"
   },
   {
    "duration": 15,
    "start_time": "2023-01-24T08:36:01.325Z"
   },
   {
    "duration": 15,
    "start_time": "2023-01-24T08:37:05.500Z"
   },
   {
    "duration": 17,
    "start_time": "2023-01-24T08:37:06.143Z"
   },
   {
    "duration": 16,
    "start_time": "2023-01-24T08:37:08.387Z"
   },
   {
    "duration": 56,
    "start_time": "2023-01-24T08:44:53.751Z"
   },
   {
    "duration": 47,
    "start_time": "2023-01-24T08:46:41.189Z"
   },
   {
    "duration": 50,
    "start_time": "2023-01-24T08:47:47.334Z"
   },
   {
    "duration": 77,
    "start_time": "2023-01-24T08:54:57.019Z"
   },
   {
    "duration": 52,
    "start_time": "2023-01-24T08:57:49.760Z"
   },
   {
    "duration": 56,
    "start_time": "2023-01-24T08:58:16.154Z"
   },
   {
    "duration": 43,
    "start_time": "2023-01-24T08:58:50.139Z"
   },
   {
    "duration": 65,
    "start_time": "2023-01-24T08:59:34.467Z"
   },
   {
    "duration": 14,
    "start_time": "2023-01-24T08:59:45.179Z"
   },
   {
    "duration": 4,
    "start_time": "2023-01-24T08:59:48.965Z"
   },
   {
    "duration": 17,
    "start_time": "2023-01-24T09:00:01.165Z"
   },
   {
    "duration": 16,
    "start_time": "2023-01-24T09:00:01.363Z"
   },
   {
    "duration": 15,
    "start_time": "2023-01-24T09:00:01.654Z"
   },
   {
    "duration": 12,
    "start_time": "2023-01-24T09:00:01.990Z"
   },
   {
    "duration": 16,
    "start_time": "2023-01-24T09:00:02.540Z"
   },
   {
    "duration": 15,
    "start_time": "2023-01-24T09:00:03.047Z"
   },
   {
    "duration": 63,
    "start_time": "2023-01-24T09:01:30.073Z"
   },
   {
    "duration": 53,
    "start_time": "2023-01-24T09:02:42.456Z"
   },
   {
    "duration": 10,
    "start_time": "2023-01-24T09:05:00.716Z"
   },
   {
    "duration": 11,
    "start_time": "2023-01-24T09:08:28.263Z"
   },
   {
    "duration": 64,
    "start_time": "2023-01-24T09:10:34.713Z"
   },
   {
    "duration": 119,
    "start_time": "2023-01-24T09:10:59.857Z"
   },
   {
    "duration": 6,
    "start_time": "2023-01-24T09:11:13.137Z"
   },
   {
    "duration": 7,
    "start_time": "2023-01-24T09:16:01.145Z"
   },
   {
    "duration": 7,
    "start_time": "2023-01-24T09:16:05.399Z"
   },
   {
    "duration": 7,
    "start_time": "2023-01-24T09:24:50.553Z"
   },
   {
    "duration": 9,
    "start_time": "2023-01-24T09:24:52.233Z"
   },
   {
    "duration": 6,
    "start_time": "2023-01-24T09:26:44.058Z"
   },
   {
    "duration": 6,
    "start_time": "2023-01-24T09:26:45.860Z"
   },
   {
    "duration": 11,
    "start_time": "2023-01-24T09:44:27.543Z"
   },
   {
    "duration": 10,
    "start_time": "2023-01-24T09:44:28.171Z"
   },
   {
    "duration": 49,
    "start_time": "2023-01-24T11:05:56.865Z"
   },
   {
    "duration": 406,
    "start_time": "2023-01-24T11:06:24.153Z"
   },
   {
    "duration": 470,
    "start_time": "2023-01-24T11:06:24.561Z"
   },
   {
    "duration": 20,
    "start_time": "2023-01-24T11:06:25.033Z"
   },
   {
    "duration": 46,
    "start_time": "2023-01-24T11:06:25.056Z"
   },
   {
    "duration": 6,
    "start_time": "2023-01-24T11:06:25.104Z"
   },
   {
    "duration": 14,
    "start_time": "2023-01-24T11:06:25.112Z"
   },
   {
    "duration": 18,
    "start_time": "2023-01-24T11:06:25.129Z"
   },
   {
    "duration": 7,
    "start_time": "2023-01-24T11:06:25.148Z"
   },
   {
    "duration": 25,
    "start_time": "2023-01-24T11:06:25.157Z"
   },
   {
    "duration": 18,
    "start_time": "2023-01-24T11:06:25.185Z"
   },
   {
    "duration": 22,
    "start_time": "2023-01-24T11:06:25.205Z"
   },
   {
    "duration": 84,
    "start_time": "2023-01-24T11:06:25.228Z"
   },
   {
    "duration": 79,
    "start_time": "2023-01-24T11:06:25.314Z"
   },
   {
    "duration": 65,
    "start_time": "2023-01-24T11:06:25.395Z"
   },
   {
    "duration": 53,
    "start_time": "2023-01-24T11:06:25.462Z"
   },
   {
    "duration": 10,
    "start_time": "2023-01-24T11:06:25.516Z"
   },
   {
    "duration": 42,
    "start_time": "2023-01-24T11:06:25.527Z"
   },
   {
    "duration": 24,
    "start_time": "2023-01-24T11:06:25.570Z"
   },
   {
    "duration": 13,
    "start_time": "2023-01-24T11:06:25.596Z"
   },
   {
    "duration": 4,
    "start_time": "2023-01-24T11:06:25.610Z"
   },
   {
    "duration": 23,
    "start_time": "2023-01-24T11:06:25.615Z"
   },
   {
    "duration": 14,
    "start_time": "2023-01-24T11:06:25.640Z"
   },
   {
    "duration": 18,
    "start_time": "2023-01-24T11:06:25.682Z"
   },
   {
    "duration": 19,
    "start_time": "2023-01-24T11:06:25.701Z"
   },
   {
    "duration": 19,
    "start_time": "2023-01-24T11:06:25.721Z"
   },
   {
    "duration": 41,
    "start_time": "2023-01-24T11:06:25.741Z"
   },
   {
    "duration": 10,
    "start_time": "2023-01-24T11:06:25.784Z"
   },
   {
    "duration": 11,
    "start_time": "2023-01-24T11:06:25.798Z"
   },
   {
    "duration": 13,
    "start_time": "2023-01-24T11:06:30.501Z"
   },
   {
    "duration": 13,
    "start_time": "2023-01-24T11:06:31.604Z"
   },
   {
    "duration": 44,
    "start_time": "2023-01-24T11:08:29.415Z"
   },
   {
    "duration": 3,
    "start_time": "2023-01-24T11:09:23.646Z"
   },
   {
    "duration": 29,
    "start_time": "2023-01-24T11:14:40.171Z"
   },
   {
    "duration": 14,
    "start_time": "2023-01-24T11:15:09.767Z"
   },
   {
    "duration": 20,
    "start_time": "2023-01-24T11:15:25.698Z"
   },
   {
    "duration": 9,
    "start_time": "2023-01-24T11:15:33.833Z"
   },
   {
    "duration": 8,
    "start_time": "2023-01-24T11:15:44.767Z"
   },
   {
    "duration": 8,
    "start_time": "2023-01-24T11:17:48.963Z"
   },
   {
    "duration": 4,
    "start_time": "2023-01-24T12:07:56.700Z"
   },
   {
    "duration": 8,
    "start_time": "2023-01-24T12:08:18.722Z"
   },
   {
    "duration": 13,
    "start_time": "2023-01-24T12:08:45.003Z"
   },
   {
    "duration": 19,
    "start_time": "2023-01-24T12:09:10.561Z"
   },
   {
    "duration": 17,
    "start_time": "2023-01-24T12:09:17.010Z"
   },
   {
    "duration": 3,
    "start_time": "2023-01-24T12:11:09.921Z"
   },
   {
    "duration": 201,
    "start_time": "2023-01-24T12:11:09.926Z"
   },
   {
    "duration": 10,
    "start_time": "2023-01-24T12:11:10.129Z"
   },
   {
    "duration": 47,
    "start_time": "2023-01-24T12:11:10.140Z"
   },
   {
    "duration": 30,
    "start_time": "2023-01-24T12:11:10.189Z"
   },
   {
    "duration": 20,
    "start_time": "2023-01-24T12:11:10.221Z"
   },
   {
    "duration": 34,
    "start_time": "2023-01-24T12:11:10.243Z"
   },
   {
    "duration": 18,
    "start_time": "2023-01-24T12:11:10.279Z"
   },
   {
    "duration": 39,
    "start_time": "2023-01-24T12:11:10.300Z"
   },
   {
    "duration": 39,
    "start_time": "2023-01-24T12:11:10.341Z"
   },
   {
    "duration": 28,
    "start_time": "2023-01-24T12:11:10.384Z"
   },
   {
    "duration": 85,
    "start_time": "2023-01-24T12:11:10.414Z"
   },
   {
    "duration": 60,
    "start_time": "2023-01-24T12:11:10.501Z"
   },
   {
    "duration": 60,
    "start_time": "2023-01-24T12:11:10.563Z"
   },
   {
    "duration": 39,
    "start_time": "2023-01-24T12:11:10.625Z"
   },
   {
    "duration": 21,
    "start_time": "2023-01-24T12:11:10.666Z"
   },
   {
    "duration": 64,
    "start_time": "2023-01-24T12:11:10.688Z"
   },
   {
    "duration": 11,
    "start_time": "2023-01-24T12:11:10.754Z"
   },
   {
    "duration": 17,
    "start_time": "2023-01-24T12:11:10.766Z"
   },
   {
    "duration": 29,
    "start_time": "2023-01-24T12:11:10.785Z"
   },
   {
    "duration": 48,
    "start_time": "2023-01-24T12:11:10.816Z"
   },
   {
    "duration": 27,
    "start_time": "2023-01-24T12:11:10.866Z"
   },
   {
    "duration": 39,
    "start_time": "2023-01-24T12:11:10.894Z"
   },
   {
    "duration": 22,
    "start_time": "2023-01-24T12:11:10.934Z"
   },
   {
    "duration": 28,
    "start_time": "2023-01-24T12:11:10.957Z"
   },
   {
    "duration": 27,
    "start_time": "2023-01-24T12:11:10.986Z"
   },
   {
    "duration": 11,
    "start_time": "2023-01-24T12:11:11.015Z"
   },
   {
    "duration": 29,
    "start_time": "2023-01-24T12:11:11.028Z"
   },
   {
    "duration": 25,
    "start_time": "2023-01-24T12:11:11.059Z"
   },
   {
    "duration": 18,
    "start_time": "2023-01-24T12:11:11.085Z"
   },
   {
    "duration": 21,
    "start_time": "2023-01-24T12:11:16.285Z"
   },
   {
    "duration": 12,
    "start_time": "2023-01-24T12:11:17.382Z"
   },
   {
    "duration": 18,
    "start_time": "2023-01-24T12:11:19.338Z"
   },
   {
    "duration": 13,
    "start_time": "2023-01-24T12:11:22.177Z"
   },
   {
    "duration": 3,
    "start_time": "2023-01-24T12:12:22.692Z"
   },
   {
    "duration": 4,
    "start_time": "2023-01-24T12:14:45.868Z"
   },
   {
    "duration": 19,
    "start_time": "2023-01-24T12:14:53.953Z"
   },
   {
    "duration": 12,
    "start_time": "2023-01-24T12:14:55.284Z"
   },
   {
    "duration": 16,
    "start_time": "2023-01-24T12:14:56.252Z"
   },
   {
    "duration": 12,
    "start_time": "2023-01-24T12:14:59.260Z"
   },
   {
    "duration": 33,
    "start_time": "2023-01-24T12:19:24.031Z"
   },
   {
    "duration": 12,
    "start_time": "2023-01-24T12:21:51.303Z"
   },
   {
    "duration": 7,
    "start_time": "2023-01-24T12:22:08.095Z"
   },
   {
    "duration": 8,
    "start_time": "2023-01-24T12:23:08.489Z"
   },
   {
    "duration": 9,
    "start_time": "2023-01-24T12:23:14.099Z"
   },
   {
    "duration": 6,
    "start_time": "2023-01-24T12:24:10.754Z"
   },
   {
    "duration": 6,
    "start_time": "2023-01-24T12:25:19.757Z"
   },
   {
    "duration": 19,
    "start_time": "2023-01-24T12:25:47.964Z"
   },
   {
    "duration": 6,
    "start_time": "2023-01-24T12:26:25.725Z"
   },
   {
    "duration": 6,
    "start_time": "2023-01-24T12:26:29.938Z"
   },
   {
    "duration": 4,
    "start_time": "2023-01-24T12:27:48.868Z"
   },
   {
    "duration": 44,
    "start_time": "2023-01-25T13:57:10.478Z"
   },
   {
    "duration": 408,
    "start_time": "2023-01-25T13:57:47.720Z"
   },
   {
    "duration": 449,
    "start_time": "2023-01-25T13:57:48.130Z"
   },
   {
    "duration": 16,
    "start_time": "2023-01-25T13:57:48.581Z"
   },
   {
    "duration": 54,
    "start_time": "2023-01-25T13:57:48.599Z"
   },
   {
    "duration": 4,
    "start_time": "2023-01-25T13:57:48.655Z"
   },
   {
    "duration": 23,
    "start_time": "2023-01-25T13:57:48.660Z"
   },
   {
    "duration": 20,
    "start_time": "2023-01-25T13:57:48.684Z"
   },
   {
    "duration": 20,
    "start_time": "2023-01-25T13:57:48.705Z"
   },
   {
    "duration": 30,
    "start_time": "2023-01-25T13:57:48.726Z"
   },
   {
    "duration": 29,
    "start_time": "2023-01-25T13:57:48.758Z"
   },
   {
    "duration": 22,
    "start_time": "2023-01-25T13:57:48.789Z"
   },
   {
    "duration": 70,
    "start_time": "2023-01-25T13:57:48.812Z"
   },
   {
    "duration": 79,
    "start_time": "2023-01-25T13:57:48.884Z"
   },
   {
    "duration": 58,
    "start_time": "2023-01-25T13:57:48.965Z"
   },
   {
    "duration": 52,
    "start_time": "2023-01-25T13:57:49.025Z"
   },
   {
    "duration": 15,
    "start_time": "2023-01-25T13:57:49.078Z"
   },
   {
    "duration": 39,
    "start_time": "2023-01-25T13:57:49.094Z"
   },
   {
    "duration": 12,
    "start_time": "2023-01-25T13:57:49.143Z"
   },
   {
    "duration": 11,
    "start_time": "2023-01-25T13:57:49.157Z"
   },
   {
    "duration": 3,
    "start_time": "2023-01-25T13:57:49.169Z"
   },
   {
    "duration": 20,
    "start_time": "2023-01-25T13:57:49.174Z"
   },
   {
    "duration": 14,
    "start_time": "2023-01-25T13:57:49.196Z"
   },
   {
    "duration": 39,
    "start_time": "2023-01-25T13:57:49.211Z"
   },
   {
    "duration": 13,
    "start_time": "2023-01-25T13:57:49.251Z"
   },
   {
    "duration": 16,
    "start_time": "2023-01-25T13:57:49.266Z"
   },
   {
    "duration": 12,
    "start_time": "2023-01-25T13:57:49.283Z"
   },
   {
    "duration": 9,
    "start_time": "2023-01-25T13:57:49.297Z"
   },
   {
    "duration": 41,
    "start_time": "2023-01-25T13:57:49.309Z"
   },
   {
    "duration": 12,
    "start_time": "2023-01-25T13:57:49.351Z"
   },
   {
    "duration": 9,
    "start_time": "2023-01-25T13:57:49.364Z"
   },
   {
    "duration": 21,
    "start_time": "2023-01-25T13:57:49.375Z"
   },
   {
    "duration": 11,
    "start_time": "2023-01-25T13:57:49.398Z"
   },
   {
    "duration": 24,
    "start_time": "2023-01-25T13:57:49.410Z"
   },
   {
    "duration": 16,
    "start_time": "2023-01-25T13:57:49.435Z"
   },
   {
    "duration": 10,
    "start_time": "2023-01-25T13:57:49.452Z"
   },
   {
    "duration": 23,
    "start_time": "2023-01-25T13:57:49.463Z"
   },
   {
    "duration": 14,
    "start_time": "2023-01-25T13:57:49.488Z"
   },
   {
    "duration": 13,
    "start_time": "2023-01-25T13:57:49.504Z"
   },
   {
    "duration": 5,
    "start_time": "2023-01-25T13:58:25.406Z"
   },
   {
    "duration": 9,
    "start_time": "2023-01-25T13:58:30.689Z"
   },
   {
    "duration": 5,
    "start_time": "2023-01-25T13:58:32.240Z"
   },
   {
    "duration": 23,
    "start_time": "2023-01-25T13:58:53.244Z"
   },
   {
    "duration": 15,
    "start_time": "2023-01-25T14:01:50.147Z"
   },
   {
    "duration": 25,
    "start_time": "2023-01-25T14:02:07.366Z"
   },
   {
    "duration": 55,
    "start_time": "2023-01-25T14:02:15.415Z"
   },
   {
    "duration": 60,
    "start_time": "2023-01-25T14:02:18.868Z"
   },
   {
    "duration": 57,
    "start_time": "2023-01-25T14:02:22.110Z"
   },
   {
    "duration": 47,
    "start_time": "2023-02-10T13:11:58.040Z"
   },
   {
    "duration": 412,
    "start_time": "2023-02-10T13:12:06.422Z"
   },
   {
    "duration": 509,
    "start_time": "2023-02-10T13:12:06.836Z"
   },
   {
    "duration": 17,
    "start_time": "2023-02-10T13:12:07.347Z"
   },
   {
    "duration": 28,
    "start_time": "2023-02-10T13:12:07.709Z"
   },
   {
    "duration": 2,
    "start_time": "2023-02-10T13:12:08.962Z"
   },
   {
    "duration": 4,
    "start_time": "2023-02-10T13:12:10.770Z"
   },
   {
    "duration": 12,
    "start_time": "2023-02-10T13:12:13.523Z"
   },
   {
    "duration": 6,
    "start_time": "2023-02-10T13:12:15.602Z"
   },
   {
    "duration": 24,
    "start_time": "2023-02-10T13:12:18.217Z"
   },
   {
    "duration": 20,
    "start_time": "2023-02-10T13:12:22.507Z"
   },
   {
    "duration": 389,
    "start_time": "2023-05-28T11:58:39.295Z"
   },
   {
    "duration": 463,
    "start_time": "2023-05-28T11:58:39.686Z"
   },
   {
    "duration": 19,
    "start_time": "2023-05-28T11:58:40.163Z"
   },
   {
    "duration": 27,
    "start_time": "2023-05-28T11:58:40.184Z"
   },
   {
    "duration": 2,
    "start_time": "2023-05-28T11:58:40.213Z"
   },
   {
    "duration": 13,
    "start_time": "2023-05-28T11:58:40.217Z"
   },
   {
    "duration": 10,
    "start_time": "2023-05-28T11:58:40.232Z"
   },
   {
    "duration": 13,
    "start_time": "2023-05-28T11:58:40.254Z"
   },
   {
    "duration": 23,
    "start_time": "2023-05-28T11:58:40.269Z"
   },
   {
    "duration": 18,
    "start_time": "2023-05-28T11:58:40.294Z"
   },
   {
    "duration": 45,
    "start_time": "2023-05-28T11:58:40.313Z"
   },
   {
    "duration": 69,
    "start_time": "2023-05-28T11:58:40.360Z"
   },
   {
    "duration": 91,
    "start_time": "2023-05-28T11:58:40.431Z"
   },
   {
    "duration": 76,
    "start_time": "2023-05-28T11:58:40.525Z"
   },
   {
    "duration": 59,
    "start_time": "2023-05-28T11:58:40.603Z"
   },
   {
    "duration": 15,
    "start_time": "2023-05-28T11:58:40.663Z"
   },
   {
    "duration": 102,
    "start_time": "2023-05-28T11:58:40.680Z"
   },
   {
    "duration": 13,
    "start_time": "2023-05-28T11:58:40.784Z"
   },
   {
    "duration": 12,
    "start_time": "2023-05-28T11:58:40.799Z"
   },
   {
    "duration": 5,
    "start_time": "2023-05-28T11:58:40.813Z"
   },
   {
    "duration": 57,
    "start_time": "2023-05-28T11:58:40.820Z"
   },
   {
    "duration": 20,
    "start_time": "2023-05-28T11:58:40.879Z"
   },
   {
    "duration": 17,
    "start_time": "2023-05-28T11:58:40.901Z"
   },
   {
    "duration": 47,
    "start_time": "2023-05-28T11:58:40.920Z"
   },
   {
    "duration": 22,
    "start_time": "2023-05-28T11:58:40.971Z"
   },
   {
    "duration": 21,
    "start_time": "2023-05-28T11:58:40.995Z"
   },
   {
    "duration": 13,
    "start_time": "2023-05-28T11:58:41.018Z"
   },
   {
    "duration": 35,
    "start_time": "2023-05-28T11:58:41.032Z"
   },
   {
    "duration": 10,
    "start_time": "2023-05-28T11:58:41.069Z"
   },
   {
    "duration": 4,
    "start_time": "2023-05-28T11:58:41.081Z"
   },
   {
    "duration": 30,
    "start_time": "2023-05-28T11:58:41.087Z"
   },
   {
    "duration": 47,
    "start_time": "2023-05-28T11:58:41.119Z"
   },
   {
    "duration": 18,
    "start_time": "2023-05-28T11:58:41.168Z"
   },
   {
    "duration": 10,
    "start_time": "2023-05-28T11:58:41.187Z"
   },
   {
    "duration": 8,
    "start_time": "2023-05-28T11:58:41.199Z"
   },
   {
    "duration": 6,
    "start_time": "2023-05-28T11:58:41.208Z"
   },
   {
    "duration": 7,
    "start_time": "2023-05-28T11:58:41.215Z"
   },
   {
    "duration": 45,
    "start_time": "2023-05-28T11:58:41.224Z"
   },
   {
    "duration": 369,
    "start_time": "2023-08-13T13:46:54.226Z"
   },
   {
    "duration": 208,
    "start_time": "2023-08-13T13:46:54.598Z"
   },
   {
    "duration": 15,
    "start_time": "2023-08-13T13:46:54.808Z"
   },
   {
    "duration": 25,
    "start_time": "2023-08-13T13:46:54.825Z"
   },
   {
    "duration": 11,
    "start_time": "2023-08-13T13:46:54.852Z"
   },
   {
    "duration": 13,
    "start_time": "2023-08-13T13:46:54.865Z"
   },
   {
    "duration": 15,
    "start_time": "2023-08-13T13:46:54.880Z"
   },
   {
    "duration": 6,
    "start_time": "2023-08-13T13:46:54.896Z"
   },
   {
    "duration": 21,
    "start_time": "2023-08-13T13:46:54.903Z"
   },
   {
    "duration": 16,
    "start_time": "2023-08-13T13:46:54.926Z"
   },
   {
    "duration": 22,
    "start_time": "2023-08-13T13:46:54.945Z"
   },
   {
    "duration": 77,
    "start_time": "2023-08-13T13:46:54.968Z"
   },
   {
    "duration": 67,
    "start_time": "2023-08-13T13:46:55.046Z"
   },
   {
    "duration": 55,
    "start_time": "2023-08-13T13:46:55.114Z"
   },
   {
    "duration": 50,
    "start_time": "2023-08-13T13:46:55.171Z"
   },
   {
    "duration": 10,
    "start_time": "2023-08-13T13:46:55.222Z"
   },
   {
    "duration": 36,
    "start_time": "2023-08-13T13:46:55.234Z"
   },
   {
    "duration": 28,
    "start_time": "2023-08-13T13:46:55.272Z"
   },
   {
    "duration": 11,
    "start_time": "2023-08-13T13:46:55.301Z"
   },
   {
    "duration": 5,
    "start_time": "2023-08-13T13:46:55.313Z"
   },
   {
    "duration": 36,
    "start_time": "2023-08-13T13:46:55.320Z"
   },
   {
    "duration": 13,
    "start_time": "2023-08-13T13:46:55.358Z"
   },
   {
    "duration": 32,
    "start_time": "2023-08-13T13:46:55.372Z"
   },
   {
    "duration": 14,
    "start_time": "2023-08-13T13:46:55.406Z"
   },
   {
    "duration": 24,
    "start_time": "2023-08-13T13:46:55.422Z"
   },
   {
    "duration": 26,
    "start_time": "2023-08-13T13:46:55.448Z"
   },
   {
    "duration": 14,
    "start_time": "2023-08-13T13:46:55.476Z"
   },
   {
    "duration": 33,
    "start_time": "2023-08-13T13:46:55.493Z"
   },
   {
    "duration": 24,
    "start_time": "2023-08-13T13:46:55.528Z"
   },
   {
    "duration": 10,
    "start_time": "2023-08-13T13:46:55.554Z"
   },
   {
    "duration": 27,
    "start_time": "2023-08-13T13:46:55.566Z"
   },
   {
    "duration": 15,
    "start_time": "2023-08-13T13:46:55.595Z"
   },
   {
    "duration": 30,
    "start_time": "2023-08-13T13:46:55.612Z"
   },
   {
    "duration": 13,
    "start_time": "2023-08-13T13:46:55.644Z"
   },
   {
    "duration": 7,
    "start_time": "2023-08-13T13:46:55.659Z"
   },
   {
    "duration": 13,
    "start_time": "2023-08-13T13:46:55.667Z"
   },
   {
    "duration": 6,
    "start_time": "2023-08-13T13:46:55.681Z"
   },
   {
    "duration": 11,
    "start_time": "2023-08-13T13:46:55.689Z"
   },
   {
    "duration": 408,
    "start_time": "2023-08-13T13:48:59.380Z"
   },
   {
    "duration": 148,
    "start_time": "2023-08-13T13:48:59.790Z"
   },
   {
    "duration": 15,
    "start_time": "2023-08-13T13:48:59.940Z"
   },
   {
    "duration": 50,
    "start_time": "2023-08-13T13:48:59.956Z"
   },
   {
    "duration": 47,
    "start_time": "2023-08-13T13:49:00.008Z"
   },
   {
    "duration": 34,
    "start_time": "2023-08-13T13:49:00.057Z"
   },
   {
    "duration": 46,
    "start_time": "2023-08-13T13:49:00.093Z"
   },
   {
    "duration": 35,
    "start_time": "2023-08-13T13:49:00.141Z"
   },
   {
    "duration": 69,
    "start_time": "2023-08-13T13:49:00.178Z"
   },
   {
    "duration": 46,
    "start_time": "2023-08-13T13:49:00.251Z"
   },
   {
    "duration": 35,
    "start_time": "2023-08-13T13:49:00.298Z"
   },
   {
    "duration": 95,
    "start_time": "2023-08-13T13:49:00.334Z"
   },
   {
    "duration": 63,
    "start_time": "2023-08-13T13:49:00.430Z"
   },
   {
    "duration": 63,
    "start_time": "2023-08-13T13:49:00.494Z"
   },
   {
    "duration": 51,
    "start_time": "2023-08-13T13:49:00.558Z"
   },
   {
    "duration": 61,
    "start_time": "2023-08-13T13:49:00.610Z"
   },
   {
    "duration": 70,
    "start_time": "2023-08-13T13:49:00.672Z"
   },
   {
    "duration": 22,
    "start_time": "2023-08-13T13:49:00.743Z"
   },
   {
    "duration": 60,
    "start_time": "2023-08-13T13:49:00.766Z"
   },
   {
    "duration": 26,
    "start_time": "2023-08-13T13:49:00.828Z"
   },
   {
    "duration": 67,
    "start_time": "2023-08-13T13:49:00.855Z"
   },
   {
    "duration": 37,
    "start_time": "2023-08-13T13:49:00.924Z"
   },
   {
    "duration": 57,
    "start_time": "2023-08-13T13:49:00.962Z"
   },
   {
    "duration": 70,
    "start_time": "2023-08-13T13:49:01.020Z"
   },
   {
    "duration": 42,
    "start_time": "2023-08-13T13:49:01.091Z"
   },
   {
    "duration": 47,
    "start_time": "2023-08-13T13:49:01.135Z"
   },
   {
    "duration": 76,
    "start_time": "2023-08-13T13:49:01.183Z"
   },
   {
    "duration": 60,
    "start_time": "2023-08-13T13:49:01.263Z"
   },
   {
    "duration": 49,
    "start_time": "2023-08-13T13:49:01.324Z"
   },
   {
    "duration": 44,
    "start_time": "2023-08-13T13:49:01.374Z"
   },
   {
    "duration": 46,
    "start_time": "2023-08-13T13:49:01.420Z"
   },
   {
    "duration": 24,
    "start_time": "2023-08-13T13:49:01.468Z"
   },
   {
    "duration": 51,
    "start_time": "2023-08-13T13:49:01.493Z"
   },
   {
    "duration": 35,
    "start_time": "2023-08-13T13:49:01.545Z"
   },
   {
    "duration": 32,
    "start_time": "2023-08-13T13:49:01.582Z"
   },
   {
    "duration": 46,
    "start_time": "2023-08-13T13:49:01.615Z"
   },
   {
    "duration": 32,
    "start_time": "2023-08-13T13:49:01.663Z"
   },
   {
    "duration": 19,
    "start_time": "2023-08-13T13:49:01.697Z"
   },
   {
    "duration": 422,
    "start_time": "2023-08-13T14:01:41.866Z"
   },
   {
    "duration": 144,
    "start_time": "2023-08-13T14:01:42.290Z"
   },
   {
    "duration": 16,
    "start_time": "2023-08-13T14:01:42.435Z"
   },
   {
    "duration": 24,
    "start_time": "2023-08-13T14:01:42.452Z"
   },
   {
    "duration": 7,
    "start_time": "2023-08-13T14:01:42.478Z"
   },
   {
    "duration": 21,
    "start_time": "2023-08-13T14:01:42.487Z"
   },
   {
    "duration": 17,
    "start_time": "2023-08-13T14:01:42.510Z"
   },
   {
    "duration": 7,
    "start_time": "2023-08-13T14:01:42.529Z"
   },
   {
    "duration": 21,
    "start_time": "2023-08-13T14:01:42.537Z"
   },
   {
    "duration": 16,
    "start_time": "2023-08-13T14:01:42.560Z"
   },
   {
    "duration": 32,
    "start_time": "2023-08-13T14:01:42.577Z"
   },
   {
    "duration": 81,
    "start_time": "2023-08-13T14:01:42.611Z"
   },
   {
    "duration": 68,
    "start_time": "2023-08-13T14:01:42.693Z"
   },
   {
    "duration": 62,
    "start_time": "2023-08-13T14:01:42.763Z"
   },
   {
    "duration": 35,
    "start_time": "2023-08-13T14:01:42.826Z"
   },
   {
    "duration": 11,
    "start_time": "2023-08-13T14:01:42.863Z"
   },
   {
    "duration": 60,
    "start_time": "2023-08-13T14:01:42.875Z"
   },
   {
    "duration": 13,
    "start_time": "2023-08-13T14:01:42.937Z"
   },
   {
    "duration": 22,
    "start_time": "2023-08-13T14:01:42.951Z"
   },
   {
    "duration": 10,
    "start_time": "2023-08-13T14:01:42.975Z"
   },
   {
    "duration": 59,
    "start_time": "2023-08-13T14:01:42.987Z"
   },
   {
    "duration": 32,
    "start_time": "2023-08-13T14:01:43.047Z"
   },
   {
    "duration": 31,
    "start_time": "2023-08-13T14:01:43.081Z"
   },
   {
    "duration": 35,
    "start_time": "2023-08-13T14:01:43.114Z"
   },
   {
    "duration": 20,
    "start_time": "2023-08-13T14:01:43.151Z"
   },
   {
    "duration": 19,
    "start_time": "2023-08-13T14:01:43.172Z"
   },
   {
    "duration": 17,
    "start_time": "2023-08-13T14:01:43.192Z"
   },
   {
    "duration": 18,
    "start_time": "2023-08-13T14:01:43.212Z"
   },
   {
    "duration": 17,
    "start_time": "2023-08-13T14:01:43.231Z"
   },
   {
    "duration": 24,
    "start_time": "2023-08-13T14:01:43.249Z"
   },
   {
    "duration": 43,
    "start_time": "2023-08-13T14:01:43.275Z"
   },
   {
    "duration": 40,
    "start_time": "2023-08-13T14:01:43.320Z"
   },
   {
    "duration": 21,
    "start_time": "2023-08-13T14:01:43.362Z"
   },
   {
    "duration": 12,
    "start_time": "2023-08-13T14:01:43.385Z"
   },
   {
    "duration": 35,
    "start_time": "2023-08-13T14:01:43.399Z"
   },
   {
    "duration": 40,
    "start_time": "2023-08-13T14:01:43.436Z"
   },
   {
    "duration": 27,
    "start_time": "2023-08-13T14:01:43.478Z"
   },
   {
    "duration": 24,
    "start_time": "2023-08-13T14:01:43.506Z"
   }
  ],
  "colab": {
   "collapsed_sections": [
    "E0vqbgi9ay0H",
    "VUC88oWjTJw2"
   ],
   "name": "automatization_template_upd4.ipynb",
   "provenance": []
  },
  "kernelspec": {
   "display_name": "Python 3 (ipykernel)",
   "language": "python",
   "name": "python3"
  },
  "language_info": {
   "codemirror_mode": {
    "name": "ipython",
    "version": 3
   },
   "file_extension": ".py",
   "mimetype": "text/x-python",
   "name": "python",
   "nbconvert_exporter": "python",
   "pygments_lexer": "ipython3",
   "version": "3.9.5"
  },
  "toc": {
   "base_numbering": 1,
   "nav_menu": {
    "height": "215px",
    "width": "403px"
   },
   "number_sections": true,
   "sideBar": true,
   "skip_h1_title": true,
   "title_cell": "Table of Contents",
   "title_sidebar": "Contents",
   "toc_cell": false,
   "toc_position": {
    "height": "calc(100% - 180px)",
    "left": "10px",
    "top": "150px",
    "width": "285.825px"
   },
   "toc_section_display": true,
   "toc_window_display": false
  }
 },
 "nbformat": 4,
 "nbformat_minor": 1
}
