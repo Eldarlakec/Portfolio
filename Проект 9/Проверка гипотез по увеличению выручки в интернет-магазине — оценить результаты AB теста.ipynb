{
 "cells": [
  {
   "cell_type": "markdown",
   "metadata": {},
   "source": [
    "# Проект: Принятие решений в бизнесе"
   ]
  },
  {
   "cell_type": "markdown",
   "metadata": {},
   "source": [
    "# Описание проекта:"
   ]
  },
  {
   "cell_type": "markdown",
   "metadata": {},
   "source": [
    "Я — аналитик крупного интернет-магазина. Вместе с отделом маркетинга я подготовили список гипотез для увеличения выручки.\n",
    "Прект состоит из 2 частей: часть 1. Приоритизация гипотез, часть 2. Анализ A/B-теста.\n",
    "\n",
    "Цель первой части: Приоритизировать гипотезы применяя фреймворки ICE и RICE.\n",
    "\n",
    "Цель второй части: Запустить A/B-тест ,проанализируйте результаты и постороить графики."
   ]
  },
  {
   "cell_type": "markdown",
   "metadata": {},
   "source": [
    "Приступим к работе с импорта библиотек"
   ]
  },
  {
   "cell_type": "code",
   "execution_count": 1,
   "metadata": {},
   "outputs": [
    {
     "data": {
      "text/html": [
       "<div>\n",
       "<style scoped>\n",
       "    .dataframe tbody tr th:only-of-type {\n",
       "        vertical-align: middle;\n",
       "    }\n",
       "\n",
       "    .dataframe tbody tr th {\n",
       "        vertical-align: top;\n",
       "    }\n",
       "\n",
       "    .dataframe thead th {\n",
       "        text-align: right;\n",
       "    }\n",
       "</style>\n",
       "<table border=\"1\" class=\"dataframe\">\n",
       "  <thead>\n",
       "    <tr style=\"text-align: right;\">\n",
       "      <th></th>\n",
       "      <th>Hypothesis</th>\n",
       "      <th>Reach</th>\n",
       "      <th>Impact</th>\n",
       "      <th>Confidence</th>\n",
       "      <th>Efforts</th>\n",
       "    </tr>\n",
       "  </thead>\n",
       "  <tbody>\n",
       "    <tr>\n",
       "      <th>0</th>\n",
       "      <td>Добавить два новых канала привлечения трафика,...</td>\n",
       "      <td>3</td>\n",
       "      <td>10</td>\n",
       "      <td>8</td>\n",
       "      <td>6</td>\n",
       "    </tr>\n",
       "    <tr>\n",
       "      <th>1</th>\n",
       "      <td>Запустить собственную службу доставки, что сок...</td>\n",
       "      <td>2</td>\n",
       "      <td>5</td>\n",
       "      <td>4</td>\n",
       "      <td>10</td>\n",
       "    </tr>\n",
       "    <tr>\n",
       "      <th>2</th>\n",
       "      <td>Добавить блоки рекомендаций товаров на сайт ин...</td>\n",
       "      <td>8</td>\n",
       "      <td>3</td>\n",
       "      <td>7</td>\n",
       "      <td>3</td>\n",
       "    </tr>\n",
       "    <tr>\n",
       "      <th>3</th>\n",
       "      <td>Изменить структура категорий, что увеличит кон...</td>\n",
       "      <td>8</td>\n",
       "      <td>3</td>\n",
       "      <td>3</td>\n",
       "      <td>8</td>\n",
       "    </tr>\n",
       "    <tr>\n",
       "      <th>4</th>\n",
       "      <td>Изменить цвет фона главной страницы, чтобы уве...</td>\n",
       "      <td>3</td>\n",
       "      <td>1</td>\n",
       "      <td>1</td>\n",
       "      <td>1</td>\n",
       "    </tr>\n",
       "    <tr>\n",
       "      <th>5</th>\n",
       "      <td>Добавить страницу отзывов клиентов о магазине,...</td>\n",
       "      <td>3</td>\n",
       "      <td>2</td>\n",
       "      <td>2</td>\n",
       "      <td>3</td>\n",
       "    </tr>\n",
       "    <tr>\n",
       "      <th>6</th>\n",
       "      <td>Показать на главной странице баннеры с актуаль...</td>\n",
       "      <td>5</td>\n",
       "      <td>3</td>\n",
       "      <td>8</td>\n",
       "      <td>3</td>\n",
       "    </tr>\n",
       "    <tr>\n",
       "      <th>7</th>\n",
       "      <td>Добавить форму подписки на все основные страни...</td>\n",
       "      <td>10</td>\n",
       "      <td>7</td>\n",
       "      <td>8</td>\n",
       "      <td>5</td>\n",
       "    </tr>\n",
       "    <tr>\n",
       "      <th>8</th>\n",
       "      <td>Запустить акцию, дающую скидку на товар в день...</td>\n",
       "      <td>1</td>\n",
       "      <td>9</td>\n",
       "      <td>9</td>\n",
       "      <td>5</td>\n",
       "    </tr>\n",
       "  </tbody>\n",
       "</table>\n",
       "</div>"
      ],
      "text/plain": [
       "                                          Hypothesis  Reach  Impact  \\\n",
       "0  Добавить два новых канала привлечения трафика,...      3      10   \n",
       "1  Запустить собственную службу доставки, что сок...      2       5   \n",
       "2  Добавить блоки рекомендаций товаров на сайт ин...      8       3   \n",
       "3  Изменить структура категорий, что увеличит кон...      8       3   \n",
       "4  Изменить цвет фона главной страницы, чтобы уве...      3       1   \n",
       "5  Добавить страницу отзывов клиентов о магазине,...      3       2   \n",
       "6  Показать на главной странице баннеры с актуаль...      5       3   \n",
       "7  Добавить форму подписки на все основные страни...     10       7   \n",
       "8  Запустить акцию, дающую скидку на товар в день...      1       9   \n",
       "\n",
       "   Confidence  Efforts  \n",
       "0           8        6  \n",
       "1           4       10  \n",
       "2           7        3  \n",
       "3           3        8  \n",
       "4           1        1  \n",
       "5           2        3  \n",
       "6           8        3  \n",
       "7           8        5  \n",
       "8           9        5  "
      ]
     },
     "execution_count": 1,
     "metadata": {},
     "output_type": "execute_result"
    }
   ],
   "source": [
    "import pandas as pd\n",
    "import numpy as np\n",
    "import datetime as dt\n",
    "import matplotlib.pyplot as plt\n",
    "from scipy import stats as st\n",
    "from pandas.plotting import register_matplotlib_converters\n",
    "import warnings\n",
    "\n",
    "data= pd.read_csv('/datasets/hypothesis.csv')\n",
    "data"
   ]
  },
  {
   "cell_type": "code",
   "execution_count": 2,
   "metadata": {},
   "outputs": [
    {
     "data": {
      "text/plain": [
       "array(['Добавить два новых канала привлечения трафика, что позволит привлекать на 30% больше пользователей',\n",
       "       'Запустить собственную службу доставки, что сократит срок доставки заказов',\n",
       "       'Добавить блоки рекомендаций товаров на сайт интернет магазина, чтобы повысить конверсию и средний чек заказа',\n",
       "       'Изменить структура категорий, что увеличит конверсию, т.к. пользователи быстрее найдут нужный товар',\n",
       "       'Изменить цвет фона главной страницы, чтобы увеличить вовлеченность пользователей',\n",
       "       'Добавить страницу отзывов клиентов о магазине, что позволит увеличить количество заказов',\n",
       "       'Показать на главной странице баннеры с актуальными акциями и распродажами, чтобы увеличить конверсию',\n",
       "       'Добавить форму подписки на все основные страницы, чтобы собрать базу клиентов для email-рассылок',\n",
       "       'Запустить акцию, дающую скидку на товар в день рождения'],\n",
       "      dtype=object)"
      ]
     },
     "execution_count": 2,
     "metadata": {},
     "output_type": "execute_result"
    }
   ],
   "source": [
    "np.array(data['Hypothesis']) # Посмотрим название гипотез целиком"
   ]
  },
  {
   "cell_type": "code",
   "execution_count": 3,
   "metadata": {},
   "outputs": [
    {
     "data": {
      "text/html": [
       "<div>\n",
       "<style scoped>\n",
       "    .dataframe tbody tr th:only-of-type {\n",
       "        vertical-align: middle;\n",
       "    }\n",
       "\n",
       "    .dataframe tbody tr th {\n",
       "        vertical-align: top;\n",
       "    }\n",
       "\n",
       "    .dataframe thead th {\n",
       "        text-align: right;\n",
       "    }\n",
       "</style>\n",
       "<table border=\"1\" class=\"dataframe\">\n",
       "  <thead>\n",
       "    <tr style=\"text-align: right;\">\n",
       "      <th></th>\n",
       "      <th>hypothesis</th>\n",
       "      <th>reach</th>\n",
       "      <th>impact</th>\n",
       "      <th>confidence</th>\n",
       "      <th>efforts</th>\n",
       "    </tr>\n",
       "  </thead>\n",
       "  <tbody>\n",
       "    <tr>\n",
       "      <th>0</th>\n",
       "      <td>Добавить два новых канала привлечения трафика,...</td>\n",
       "      <td>3</td>\n",
       "      <td>10</td>\n",
       "      <td>8</td>\n",
       "      <td>6</td>\n",
       "    </tr>\n",
       "    <tr>\n",
       "      <th>1</th>\n",
       "      <td>Запустить собственную службу доставки, что сок...</td>\n",
       "      <td>2</td>\n",
       "      <td>5</td>\n",
       "      <td>4</td>\n",
       "      <td>10</td>\n",
       "    </tr>\n",
       "    <tr>\n",
       "      <th>2</th>\n",
       "      <td>Добавить блоки рекомендаций товаров на сайт ин...</td>\n",
       "      <td>8</td>\n",
       "      <td>3</td>\n",
       "      <td>7</td>\n",
       "      <td>3</td>\n",
       "    </tr>\n",
       "    <tr>\n",
       "      <th>3</th>\n",
       "      <td>Изменить структура категорий, что увеличит кон...</td>\n",
       "      <td>8</td>\n",
       "      <td>3</td>\n",
       "      <td>3</td>\n",
       "      <td>8</td>\n",
       "    </tr>\n",
       "    <tr>\n",
       "      <th>4</th>\n",
       "      <td>Изменить цвет фона главной страницы, чтобы уве...</td>\n",
       "      <td>3</td>\n",
       "      <td>1</td>\n",
       "      <td>1</td>\n",
       "      <td>1</td>\n",
       "    </tr>\n",
       "    <tr>\n",
       "      <th>5</th>\n",
       "      <td>Добавить страницу отзывов клиентов о магазине,...</td>\n",
       "      <td>3</td>\n",
       "      <td>2</td>\n",
       "      <td>2</td>\n",
       "      <td>3</td>\n",
       "    </tr>\n",
       "    <tr>\n",
       "      <th>6</th>\n",
       "      <td>Показать на главной странице баннеры с актуаль...</td>\n",
       "      <td>5</td>\n",
       "      <td>3</td>\n",
       "      <td>8</td>\n",
       "      <td>3</td>\n",
       "    </tr>\n",
       "    <tr>\n",
       "      <th>7</th>\n",
       "      <td>Добавить форму подписки на все основные страни...</td>\n",
       "      <td>10</td>\n",
       "      <td>7</td>\n",
       "      <td>8</td>\n",
       "      <td>5</td>\n",
       "    </tr>\n",
       "    <tr>\n",
       "      <th>8</th>\n",
       "      <td>Запустить акцию, дающую скидку на товар в день...</td>\n",
       "      <td>1</td>\n",
       "      <td>9</td>\n",
       "      <td>9</td>\n",
       "      <td>5</td>\n",
       "    </tr>\n",
       "  </tbody>\n",
       "</table>\n",
       "</div>"
      ],
      "text/plain": [
       "                                          hypothesis  reach  impact  \\\n",
       "0  Добавить два новых канала привлечения трафика,...      3      10   \n",
       "1  Запустить собственную службу доставки, что сок...      2       5   \n",
       "2  Добавить блоки рекомендаций товаров на сайт ин...      8       3   \n",
       "3  Изменить структура категорий, что увеличит кон...      8       3   \n",
       "4  Изменить цвет фона главной страницы, чтобы уве...      3       1   \n",
       "5  Добавить страницу отзывов клиентов о магазине,...      3       2   \n",
       "6  Показать на главной странице баннеры с актуаль...      5       3   \n",
       "7  Добавить форму подписки на все основные страни...     10       7   \n",
       "8  Запустить акцию, дающую скидку на товар в день...      1       9   \n",
       "\n",
       "   confidence  efforts  \n",
       "0           8        6  \n",
       "1           4       10  \n",
       "2           7        3  \n",
       "3           3        8  \n",
       "4           1        1  \n",
       "5           2        3  \n",
       "6           8        3  \n",
       "7           8        5  \n",
       "8           9        5  "
      ]
     },
     "execution_count": 3,
     "metadata": {},
     "output_type": "execute_result"
    }
   ],
   "source": [
    "data.columns = [x.lower() for x in data.columns] # Название столбцов в нижний регист\n",
    "data"
   ]
  },
  {
   "cell_type": "markdown",
   "metadata": {},
   "source": [
    "Никакую предобработку таблицы делать не стоит, здесь все понятно , без пропусков дубликатов и аномалий"
   ]
  },
  {
   "cell_type": "markdown",
   "metadata": {},
   "source": [
    "Применим фреймворк ICE для приоритизации гипотез. Отсортируем их по убыванию приоритета."
   ]
  },
  {
   "cell_type": "code",
   "execution_count": 4,
   "metadata": {},
   "outputs": [
    {
     "data": {
      "text/html": [
       "<div>\n",
       "<style scoped>\n",
       "    .dataframe tbody tr th:only-of-type {\n",
       "        vertical-align: middle;\n",
       "    }\n",
       "\n",
       "    .dataframe tbody tr th {\n",
       "        vertical-align: top;\n",
       "    }\n",
       "\n",
       "    .dataframe thead th {\n",
       "        text-align: right;\n",
       "    }\n",
       "</style>\n",
       "<table border=\"1\" class=\"dataframe\">\n",
       "  <thead>\n",
       "    <tr style=\"text-align: right;\">\n",
       "      <th></th>\n",
       "      <th>hypothesis</th>\n",
       "      <th>reach</th>\n",
       "      <th>impact</th>\n",
       "      <th>confidence</th>\n",
       "      <th>efforts</th>\n",
       "      <th>ICE</th>\n",
       "    </tr>\n",
       "  </thead>\n",
       "  <tbody>\n",
       "    <tr>\n",
       "      <th>0</th>\n",
       "      <td>Добавить два новых канала привлечения трафика, что позволит привлекать на 30% больше пользователей</td>\n",
       "      <td>3</td>\n",
       "      <td>10</td>\n",
       "      <td>8</td>\n",
       "      <td>6</td>\n",
       "      <td>13.3</td>\n",
       "    </tr>\n",
       "    <tr>\n",
       "      <th>1</th>\n",
       "      <td>Запустить собственную службу доставки, что сократит срок доставки заказов</td>\n",
       "      <td>2</td>\n",
       "      <td>5</td>\n",
       "      <td>4</td>\n",
       "      <td>10</td>\n",
       "      <td>2.0</td>\n",
       "    </tr>\n",
       "    <tr>\n",
       "      <th>2</th>\n",
       "      <td>Добавить блоки рекомендаций товаров на сайт интернет магазина, чтобы повысить конверсию и средний чек заказа</td>\n",
       "      <td>8</td>\n",
       "      <td>3</td>\n",
       "      <td>7</td>\n",
       "      <td>3</td>\n",
       "      <td>7.0</td>\n",
       "    </tr>\n",
       "    <tr>\n",
       "      <th>3</th>\n",
       "      <td>Изменить структура категорий, что увеличит конверсию, т.к. пользователи быстрее найдут нужный товар</td>\n",
       "      <td>8</td>\n",
       "      <td>3</td>\n",
       "      <td>3</td>\n",
       "      <td>8</td>\n",
       "      <td>1.1</td>\n",
       "    </tr>\n",
       "    <tr>\n",
       "      <th>4</th>\n",
       "      <td>Изменить цвет фона главной страницы, чтобы увеличить вовлеченность пользователей</td>\n",
       "      <td>3</td>\n",
       "      <td>1</td>\n",
       "      <td>1</td>\n",
       "      <td>1</td>\n",
       "      <td>1.0</td>\n",
       "    </tr>\n",
       "    <tr>\n",
       "      <th>5</th>\n",
       "      <td>Добавить страницу отзывов клиентов о магазине, что позволит увеличить количество заказов</td>\n",
       "      <td>3</td>\n",
       "      <td>2</td>\n",
       "      <td>2</td>\n",
       "      <td>3</td>\n",
       "      <td>1.3</td>\n",
       "    </tr>\n",
       "    <tr>\n",
       "      <th>6</th>\n",
       "      <td>Показать на главной странице баннеры с актуальными акциями и распродажами, чтобы увеличить конверсию</td>\n",
       "      <td>5</td>\n",
       "      <td>3</td>\n",
       "      <td>8</td>\n",
       "      <td>3</td>\n",
       "      <td>8.0</td>\n",
       "    </tr>\n",
       "    <tr>\n",
       "      <th>7</th>\n",
       "      <td>Добавить форму подписки на все основные страницы, чтобы собрать базу клиентов для email-рассылок</td>\n",
       "      <td>10</td>\n",
       "      <td>7</td>\n",
       "      <td>8</td>\n",
       "      <td>5</td>\n",
       "      <td>11.2</td>\n",
       "    </tr>\n",
       "    <tr>\n",
       "      <th>8</th>\n",
       "      <td>Запустить акцию, дающую скидку на товар в день рождения</td>\n",
       "      <td>1</td>\n",
       "      <td>9</td>\n",
       "      <td>9</td>\n",
       "      <td>5</td>\n",
       "      <td>16.2</td>\n",
       "    </tr>\n",
       "  </tbody>\n",
       "</table>\n",
       "</div>"
      ],
      "text/plain": [
       "                                                                                                     hypothesis  \\\n",
       "0  Добавить два новых канала привлечения трафика, что позволит привлекать на 30% больше пользователей             \n",
       "1  Запустить собственную службу доставки, что сократит срок доставки заказов                                      \n",
       "2  Добавить блоки рекомендаций товаров на сайт интернет магазина, чтобы повысить конверсию и средний чек заказа   \n",
       "3  Изменить структура категорий, что увеличит конверсию, т.к. пользователи быстрее найдут нужный товар            \n",
       "4  Изменить цвет фона главной страницы, чтобы увеличить вовлеченность пользователей                               \n",
       "5  Добавить страницу отзывов клиентов о магазине, что позволит увеличить количество заказов                       \n",
       "6  Показать на главной странице баннеры с актуальными акциями и распродажами, чтобы увеличить конверсию           \n",
       "7  Добавить форму подписки на все основные страницы, чтобы собрать базу клиентов для email-рассылок               \n",
       "8  Запустить акцию, дающую скидку на товар в день рождения                                                        \n",
       "\n",
       "   reach  impact  confidence  efforts   ICE  \n",
       "0  3      10      8           6        13.3  \n",
       "1  2      5       4           10       2.0   \n",
       "2  8      3       7           3        7.0   \n",
       "3  8      3       3           8        1.1   \n",
       "4  3      1       1           1        1.0   \n",
       "5  3      2       2           3        1.3   \n",
       "6  5      3       8           3        8.0   \n",
       "7  10     7       8           5        11.2  \n",
       "8  1      9       9           5        16.2  "
      ]
     },
     "execution_count": 4,
     "metadata": {},
     "output_type": "execute_result"
    }
   ],
   "source": [
    "data['ICE'] = ((data['impact'] * data['confidence'])/data['efforts']).round(1)\n",
    "data.sort_values( 'ICE', ascending = False)\n",
    "pd.set_option('display.max_colwidth', 0)\n",
    "data"
   ]
  },
  {
   "cell_type": "markdown",
   "metadata": {},
   "source": [
    "Больше всего очков получила гипотеза под номеров 8: 'Запустить акцию, дающую скидку на товар в день рождения'"
   ]
  },
  {
   "cell_type": "markdown",
   "metadata": {},
   "source": [
    " "
   ]
  },
  {
   "cell_type": "markdown",
   "metadata": {},
   "source": [
    "Применим фреймворк RICE для приоритизации гипотез. Отсортируем их по убыванию приоритета."
   ]
  },
  {
   "cell_type": "code",
   "execution_count": 5,
   "metadata": {},
   "outputs": [
    {
     "data": {
      "text/html": [
       "<div>\n",
       "<style scoped>\n",
       "    .dataframe tbody tr th:only-of-type {\n",
       "        vertical-align: middle;\n",
       "    }\n",
       "\n",
       "    .dataframe tbody tr th {\n",
       "        vertical-align: top;\n",
       "    }\n",
       "\n",
       "    .dataframe thead th {\n",
       "        text-align: right;\n",
       "    }\n",
       "</style>\n",
       "<table border=\"1\" class=\"dataframe\">\n",
       "  <thead>\n",
       "    <tr style=\"text-align: right;\">\n",
       "      <th></th>\n",
       "      <th>hypothesis</th>\n",
       "      <th>reach</th>\n",
       "      <th>impact</th>\n",
       "      <th>confidence</th>\n",
       "      <th>efforts</th>\n",
       "      <th>ICE</th>\n",
       "      <th>RICE</th>\n",
       "    </tr>\n",
       "  </thead>\n",
       "  <tbody>\n",
       "    <tr>\n",
       "      <th>7</th>\n",
       "      <td>Добавить форму подписки на все основные страницы, чтобы собрать базу клиентов для email-рассылок</td>\n",
       "      <td>10</td>\n",
       "      <td>7</td>\n",
       "      <td>8</td>\n",
       "      <td>5</td>\n",
       "      <td>11.2</td>\n",
       "      <td>112.0</td>\n",
       "    </tr>\n",
       "    <tr>\n",
       "      <th>2</th>\n",
       "      <td>Добавить блоки рекомендаций товаров на сайт интернет магазина, чтобы повысить конверсию и средний чек заказа</td>\n",
       "      <td>8</td>\n",
       "      <td>3</td>\n",
       "      <td>7</td>\n",
       "      <td>3</td>\n",
       "      <td>7.0</td>\n",
       "      <td>56.0</td>\n",
       "    </tr>\n",
       "    <tr>\n",
       "      <th>0</th>\n",
       "      <td>Добавить два новых канала привлечения трафика, что позволит привлекать на 30% больше пользователей</td>\n",
       "      <td>3</td>\n",
       "      <td>10</td>\n",
       "      <td>8</td>\n",
       "      <td>6</td>\n",
       "      <td>13.3</td>\n",
       "      <td>40.0</td>\n",
       "    </tr>\n",
       "    <tr>\n",
       "      <th>6</th>\n",
       "      <td>Показать на главной странице баннеры с актуальными акциями и распродажами, чтобы увеличить конверсию</td>\n",
       "      <td>5</td>\n",
       "      <td>3</td>\n",
       "      <td>8</td>\n",
       "      <td>3</td>\n",
       "      <td>8.0</td>\n",
       "      <td>40.0</td>\n",
       "    </tr>\n",
       "    <tr>\n",
       "      <th>8</th>\n",
       "      <td>Запустить акцию, дающую скидку на товар в день рождения</td>\n",
       "      <td>1</td>\n",
       "      <td>9</td>\n",
       "      <td>9</td>\n",
       "      <td>5</td>\n",
       "      <td>16.2</td>\n",
       "      <td>16.2</td>\n",
       "    </tr>\n",
       "    <tr>\n",
       "      <th>3</th>\n",
       "      <td>Изменить структура категорий, что увеличит конверсию, т.к. пользователи быстрее найдут нужный товар</td>\n",
       "      <td>8</td>\n",
       "      <td>3</td>\n",
       "      <td>3</td>\n",
       "      <td>8</td>\n",
       "      <td>1.1</td>\n",
       "      <td>9.0</td>\n",
       "    </tr>\n",
       "    <tr>\n",
       "      <th>1</th>\n",
       "      <td>Запустить собственную службу доставки, что сократит срок доставки заказов</td>\n",
       "      <td>2</td>\n",
       "      <td>5</td>\n",
       "      <td>4</td>\n",
       "      <td>10</td>\n",
       "      <td>2.0</td>\n",
       "      <td>4.0</td>\n",
       "    </tr>\n",
       "    <tr>\n",
       "      <th>5</th>\n",
       "      <td>Добавить страницу отзывов клиентов о магазине, что позволит увеличить количество заказов</td>\n",
       "      <td>3</td>\n",
       "      <td>2</td>\n",
       "      <td>2</td>\n",
       "      <td>3</td>\n",
       "      <td>1.3</td>\n",
       "      <td>4.0</td>\n",
       "    </tr>\n",
       "    <tr>\n",
       "      <th>4</th>\n",
       "      <td>Изменить цвет фона главной страницы, чтобы увеличить вовлеченность пользователей</td>\n",
       "      <td>3</td>\n",
       "      <td>1</td>\n",
       "      <td>1</td>\n",
       "      <td>1</td>\n",
       "      <td>1.0</td>\n",
       "      <td>3.0</td>\n",
       "    </tr>\n",
       "  </tbody>\n",
       "</table>\n",
       "</div>"
      ],
      "text/plain": [
       "                                                                                                     hypothesis  \\\n",
       "7  Добавить форму подписки на все основные страницы, чтобы собрать базу клиентов для email-рассылок               \n",
       "2  Добавить блоки рекомендаций товаров на сайт интернет магазина, чтобы повысить конверсию и средний чек заказа   \n",
       "0  Добавить два новых канала привлечения трафика, что позволит привлекать на 30% больше пользователей             \n",
       "6  Показать на главной странице баннеры с актуальными акциями и распродажами, чтобы увеличить конверсию           \n",
       "8  Запустить акцию, дающую скидку на товар в день рождения                                                        \n",
       "3  Изменить структура категорий, что увеличит конверсию, т.к. пользователи быстрее найдут нужный товар            \n",
       "1  Запустить собственную службу доставки, что сократит срок доставки заказов                                      \n",
       "5  Добавить страницу отзывов клиентов о магазине, что позволит увеличить количество заказов                       \n",
       "4  Изменить цвет фона главной страницы, чтобы увеличить вовлеченность пользователей                               \n",
       "\n",
       "   reach  impact  confidence  efforts   ICE   RICE  \n",
       "7  10     7       8           5        11.2  112.0  \n",
       "2  8      3       7           3        7.0   56.0   \n",
       "0  3      10      8           6        13.3  40.0   \n",
       "6  5      3       8           3        8.0   40.0   \n",
       "8  1      9       9           5        16.2  16.2   \n",
       "3  8      3       3           8        1.1   9.0    \n",
       "1  2      5       4           10       2.0   4.0    \n",
       "5  3      2       2           3        1.3   4.0    \n",
       "4  3      1       1           1        1.0   3.0    "
      ]
     },
     "execution_count": 5,
     "metadata": {},
     "output_type": "execute_result"
    }
   ],
   "source": [
    "data['RICE'] = (data['reach'] * data['impact'] * data['confidence'])/data['efforts']\n",
    "data.sort_values( 'RICE', ascending = False)"
   ]
  },
  {
   "cell_type": "markdown",
   "metadata": {},
   "source": [
    "Применяя фреймворк RICE больший приоритет получила гипотеза 'Добавить форму подписки на все основные страницы, чтобы собрать базу клиентов для email-рассылок'. Так как у нее показатель reach, то есть охват имеет максимальный балл - 10.\n",
    "Гипотеза под номеров 8: 'Запустить акцию, дающую скидку на товар в день рождения' опустилась в середину списка, так как у нее показатель reach минимальный и составляет - 1.\n"
   ]
  },
  {
   "cell_type": "markdown",
   "metadata": {},
   "source": [
    "# Часть 2. Анализ A/B-теста"
   ]
  },
  {
   "cell_type": "markdown",
   "metadata": {},
   "source": [
    "Ознакомимся с таблицами"
   ]
  },
  {
   "cell_type": "code",
   "execution_count": 6,
   "metadata": {},
   "outputs": [
    {
     "data": {
      "text/html": [
       "<div>\n",
       "<style scoped>\n",
       "    .dataframe tbody tr th:only-of-type {\n",
       "        vertical-align: middle;\n",
       "    }\n",
       "\n",
       "    .dataframe tbody tr th {\n",
       "        vertical-align: top;\n",
       "    }\n",
       "\n",
       "    .dataframe thead th {\n",
       "        text-align: right;\n",
       "    }\n",
       "</style>\n",
       "<table border=\"1\" class=\"dataframe\">\n",
       "  <thead>\n",
       "    <tr style=\"text-align: right;\">\n",
       "      <th></th>\n",
       "      <th>transactionId</th>\n",
       "      <th>visitorId</th>\n",
       "      <th>date</th>\n",
       "      <th>revenue</th>\n",
       "      <th>group</th>\n",
       "    </tr>\n",
       "  </thead>\n",
       "  <tbody>\n",
       "    <tr>\n",
       "      <th>0</th>\n",
       "      <td>3667963787</td>\n",
       "      <td>3312258926</td>\n",
       "      <td>2019-08-15</td>\n",
       "      <td>1650</td>\n",
       "      <td>B</td>\n",
       "    </tr>\n",
       "    <tr>\n",
       "      <th>1</th>\n",
       "      <td>2804400009</td>\n",
       "      <td>3642806036</td>\n",
       "      <td>2019-08-15</td>\n",
       "      <td>730</td>\n",
       "      <td>B</td>\n",
       "    </tr>\n",
       "    <tr>\n",
       "      <th>2</th>\n",
       "      <td>2961555356</td>\n",
       "      <td>4069496402</td>\n",
       "      <td>2019-08-15</td>\n",
       "      <td>400</td>\n",
       "      <td>A</td>\n",
       "    </tr>\n",
       "    <tr>\n",
       "      <th>3</th>\n",
       "      <td>3797467345</td>\n",
       "      <td>1196621759</td>\n",
       "      <td>2019-08-15</td>\n",
       "      <td>9759</td>\n",
       "      <td>B</td>\n",
       "    </tr>\n",
       "    <tr>\n",
       "      <th>4</th>\n",
       "      <td>2282983706</td>\n",
       "      <td>2322279887</td>\n",
       "      <td>2019-08-15</td>\n",
       "      <td>2308</td>\n",
       "      <td>B</td>\n",
       "    </tr>\n",
       "    <tr>\n",
       "      <th>5</th>\n",
       "      <td>182168103</td>\n",
       "      <td>935554773</td>\n",
       "      <td>2019-08-15</td>\n",
       "      <td>2210</td>\n",
       "      <td>B</td>\n",
       "    </tr>\n",
       "    <tr>\n",
       "      <th>6</th>\n",
       "      <td>398296753</td>\n",
       "      <td>2900797465</td>\n",
       "      <td>2019-08-15</td>\n",
       "      <td>1860</td>\n",
       "      <td>B</td>\n",
       "    </tr>\n",
       "    <tr>\n",
       "      <th>7</th>\n",
       "      <td>2626614568</td>\n",
       "      <td>78758296</td>\n",
       "      <td>2019-08-15</td>\n",
       "      <td>1044</td>\n",
       "      <td>A</td>\n",
       "    </tr>\n",
       "    <tr>\n",
       "      <th>8</th>\n",
       "      <td>1576988021</td>\n",
       "      <td>295230930</td>\n",
       "      <td>2019-08-15</td>\n",
       "      <td>13710</td>\n",
       "      <td>A</td>\n",
       "    </tr>\n",
       "    <tr>\n",
       "      <th>9</th>\n",
       "      <td>1506739906</td>\n",
       "      <td>1882260405</td>\n",
       "      <td>2019-08-15</td>\n",
       "      <td>1855</td>\n",
       "      <td>B</td>\n",
       "    </tr>\n",
       "  </tbody>\n",
       "</table>\n",
       "</div>"
      ],
      "text/plain": [
       "   transactionId   visitorId        date  revenue group\n",
       "0  3667963787     3312258926  2019-08-15  1650     B   \n",
       "1  2804400009     3642806036  2019-08-15  730      B   \n",
       "2  2961555356     4069496402  2019-08-15  400      A   \n",
       "3  3797467345     1196621759  2019-08-15  9759     B   \n",
       "4  2282983706     2322279887  2019-08-15  2308     B   \n",
       "5  182168103      935554773   2019-08-15  2210     B   \n",
       "6  398296753      2900797465  2019-08-15  1860     B   \n",
       "7  2626614568     78758296    2019-08-15  1044     A   \n",
       "8  1576988021     295230930   2019-08-15  13710    A   \n",
       "9  1506739906     1882260405  2019-08-15  1855     B   "
      ]
     },
     "execution_count": 6,
     "metadata": {},
     "output_type": "execute_result"
    }
   ],
   "source": [
    "orders= pd.read_csv('/datasets/orders.csv')\n",
    "orders.head(10)"
   ]
  },
  {
   "cell_type": "code",
   "execution_count": 7,
   "metadata": {},
   "outputs": [],
   "source": [
    "orders=orders.rename(columns={'transactionId':'orderId', 'visitorId': 'userId'})"
   ]
  },
  {
   "cell_type": "code",
   "execution_count": 8,
   "metadata": {},
   "outputs": [],
   "source": [
    "orders['date'] = orders['date'].map(lambda x: dt.datetime.strptime(x, '%Y-%m-%d'))"
   ]
  },
  {
   "cell_type": "code",
   "execution_count": 9,
   "metadata": {},
   "outputs": [
    {
     "data": {
      "text/plain": [
       "orderId    int64         \n",
       "userId     int64         \n",
       "date       datetime64[ns]\n",
       "revenue    int64         \n",
       "group      object        \n",
       "dtype: object"
      ]
     },
     "execution_count": 9,
     "metadata": {},
     "output_type": "execute_result"
    }
   ],
   "source": [
    "orders.dtypes"
   ]
  },
  {
   "cell_type": "code",
   "execution_count": 10,
   "metadata": {},
   "outputs": [
    {
     "data": {
      "text/plain": [
       "orderId    0\n",
       "userId     0\n",
       "date       0\n",
       "revenue    0\n",
       "group      0\n",
       "dtype: int64"
      ]
     },
     "execution_count": 10,
     "metadata": {},
     "output_type": "execute_result"
    }
   ],
   "source": [
    "orders.isna().sum()  # Пропусков в данных нет, работаем дальше"
   ]
  },
  {
   "cell_type": "code",
   "execution_count": 11,
   "metadata": {},
   "outputs": [
    {
     "data": {
      "text/plain": [
       "0"
      ]
     },
     "execution_count": 11,
     "metadata": {},
     "output_type": "execute_result"
    }
   ],
   "source": [
    "orders.duplicated().sum() # Дубликатов тоже нет"
   ]
  },
  {
   "cell_type": "code",
   "execution_count": 12,
   "metadata": {},
   "outputs": [
    {
     "data": {
      "text/html": [
       "<div>\n",
       "<style scoped>\n",
       "    .dataframe tbody tr th:only-of-type {\n",
       "        vertical-align: middle;\n",
       "    }\n",
       "\n",
       "    .dataframe tbody tr th {\n",
       "        vertical-align: top;\n",
       "    }\n",
       "\n",
       "    .dataframe thead th {\n",
       "        text-align: right;\n",
       "    }\n",
       "</style>\n",
       "<table border=\"1\" class=\"dataframe\">\n",
       "  <thead>\n",
       "    <tr style=\"text-align: right;\">\n",
       "      <th></th>\n",
       "      <th>date</th>\n",
       "      <th>group</th>\n",
       "      <th>visitors</th>\n",
       "    </tr>\n",
       "  </thead>\n",
       "  <tbody>\n",
       "    <tr>\n",
       "      <th>0</th>\n",
       "      <td>2019-08-01</td>\n",
       "      <td>A</td>\n",
       "      <td>719</td>\n",
       "    </tr>\n",
       "    <tr>\n",
       "      <th>1</th>\n",
       "      <td>2019-08-02</td>\n",
       "      <td>A</td>\n",
       "      <td>619</td>\n",
       "    </tr>\n",
       "    <tr>\n",
       "      <th>2</th>\n",
       "      <td>2019-08-03</td>\n",
       "      <td>A</td>\n",
       "      <td>507</td>\n",
       "    </tr>\n",
       "    <tr>\n",
       "      <th>3</th>\n",
       "      <td>2019-08-04</td>\n",
       "      <td>A</td>\n",
       "      <td>717</td>\n",
       "    </tr>\n",
       "    <tr>\n",
       "      <th>4</th>\n",
       "      <td>2019-08-05</td>\n",
       "      <td>A</td>\n",
       "      <td>756</td>\n",
       "    </tr>\n",
       "    <tr>\n",
       "      <th>5</th>\n",
       "      <td>2019-08-06</td>\n",
       "      <td>A</td>\n",
       "      <td>667</td>\n",
       "    </tr>\n",
       "    <tr>\n",
       "      <th>6</th>\n",
       "      <td>2019-08-07</td>\n",
       "      <td>A</td>\n",
       "      <td>644</td>\n",
       "    </tr>\n",
       "    <tr>\n",
       "      <th>7</th>\n",
       "      <td>2019-08-08</td>\n",
       "      <td>A</td>\n",
       "      <td>610</td>\n",
       "    </tr>\n",
       "    <tr>\n",
       "      <th>8</th>\n",
       "      <td>2019-08-09</td>\n",
       "      <td>A</td>\n",
       "      <td>617</td>\n",
       "    </tr>\n",
       "    <tr>\n",
       "      <th>9</th>\n",
       "      <td>2019-08-10</td>\n",
       "      <td>A</td>\n",
       "      <td>406</td>\n",
       "    </tr>\n",
       "  </tbody>\n",
       "</table>\n",
       "</div>"
      ],
      "text/plain": [
       "         date group  visitors\n",
       "0  2019-08-01  A     719     \n",
       "1  2019-08-02  A     619     \n",
       "2  2019-08-03  A     507     \n",
       "3  2019-08-04  A     717     \n",
       "4  2019-08-05  A     756     \n",
       "5  2019-08-06  A     667     \n",
       "6  2019-08-07  A     644     \n",
       "7  2019-08-08  A     610     \n",
       "8  2019-08-09  A     617     \n",
       "9  2019-08-10  A     406     "
      ]
     },
     "execution_count": 12,
     "metadata": {},
     "output_type": "execute_result"
    }
   ],
   "source": [
    "visitors= pd.read_csv('/datasets/visitors.csv')\n",
    "visitors.head(10)"
   ]
  },
  {
   "cell_type": "code",
   "execution_count": 13,
   "metadata": {},
   "outputs": [],
   "source": [
    "visitors['date'] = visitors['date'].map(lambda x: dt.datetime.strptime(x, '%Y-%m-%d'))\n"
   ]
  },
  {
   "cell_type": "code",
   "execution_count": 14,
   "metadata": {},
   "outputs": [
    {
     "data": {
      "text/plain": [
       "date        datetime64[ns]\n",
       "group       object        \n",
       "visitors    int64         \n",
       "dtype: object"
      ]
     },
     "execution_count": 14,
     "metadata": {},
     "output_type": "execute_result"
    }
   ],
   "source": [
    "visitors.dtypes"
   ]
  },
  {
   "cell_type": "code",
   "execution_count": 15,
   "metadata": {},
   "outputs": [
    {
     "data": {
      "text/plain": [
       "date        0\n",
       "group       0\n",
       "visitors    0\n",
       "dtype: int64"
      ]
     },
     "execution_count": 15,
     "metadata": {},
     "output_type": "execute_result"
    }
   ],
   "source": [
    "visitors.isna().sum()\n"
   ]
  },
  {
   "cell_type": "code",
   "execution_count": 16,
   "metadata": {},
   "outputs": [
    {
     "data": {
      "text/plain": [
       "0"
      ]
     },
     "execution_count": 16,
     "metadata": {},
     "output_type": "execute_result"
    }
   ],
   "source": [
    "visitors.duplicated().sum()"
   ]
  },
  {
   "cell_type": "markdown",
   "metadata": {},
   "source": [
    "С данными все в порядке, работаем дальше"
   ]
  },
  {
   "cell_type": "code",
   "execution_count": 17,
   "metadata": {},
   "outputs": [
    {
     "data": {
      "text/plain": [
       "A    31\n",
       "B    31\n",
       "Name: group, dtype: int64"
      ]
     },
     "execution_count": 17,
     "metadata": {},
     "output_type": "execute_result"
    }
   ],
   "source": [
    "visitors['group'].value_counts()"
   ]
  },
  {
   "cell_type": "code",
   "execution_count": 18,
   "metadata": {},
   "outputs": [
    {
     "data": {
      "text/plain": [
       "(62, 3)"
      ]
     },
     "execution_count": 18,
     "metadata": {},
     "output_type": "execute_result"
    }
   ],
   "source": [
    "visitors.shape"
   ]
  },
  {
   "cell_type": "markdown",
   "metadata": {},
   "source": [
    "Методом shape определил сколько всего данных. Как раз количесто A + B = 62. Группы не пересекаются"
   ]
  },
  {
   "cell_type": "code",
   "execution_count": 19,
   "metadata": {},
   "outputs": [
    {
     "data": {
      "text/plain": [
       "B    640\n",
       "A    557\n",
       "Name: group, dtype: int64"
      ]
     },
     "execution_count": 19,
     "metadata": {},
     "output_type": "execute_result"
    }
   ],
   "source": [
    "orders.group.value_counts()"
   ]
  },
  {
   "cell_type": "code",
   "execution_count": 20,
   "metadata": {},
   "outputs": [
    {
     "data": {
      "text/plain": [
       "(1197, 5)"
      ]
     },
     "execution_count": 20,
     "metadata": {},
     "output_type": "execute_result"
    }
   ],
   "source": [
    "orders.shape"
   ]
  },
  {
   "cell_type": "markdown",
   "metadata": {},
   "source": [
    "ЗДесь также количество A + B = 1197, как и общее количество записей в таблице. Не пересекаются данные"
   ]
  },
  {
   "cell_type": "markdown",
   "metadata": {},
   "source": [
    " "
   ]
  },
  {
   "cell_type": "markdown",
   "metadata": {},
   "source": [
    "Создадим комулятивную таблицу объединяющую таблицы orders и visitors.До этого создадим таблицы ordersAggregated \n",
    "и visitorsAggregated , чтобы потом объединить\n"
   ]
  },
  {
   "cell_type": "code",
   "execution_count": 21,
   "metadata": {},
   "outputs": [
    {
     "data": {
      "text/html": [
       "<div>\n",
       "<style scoped>\n",
       "    .dataframe tbody tr th:only-of-type {\n",
       "        vertical-align: middle;\n",
       "    }\n",
       "\n",
       "    .dataframe tbody tr th {\n",
       "        vertical-align: top;\n",
       "    }\n",
       "\n",
       "    .dataframe thead th {\n",
       "        text-align: right;\n",
       "    }\n",
       "</style>\n",
       "<table border=\"1\" class=\"dataframe\">\n",
       "  <thead>\n",
       "    <tr style=\"text-align: right;\">\n",
       "      <th></th>\n",
       "      <th>date</th>\n",
       "      <th>group</th>\n",
       "      <th>orders</th>\n",
       "      <th>buyers</th>\n",
       "      <th>revenue</th>\n",
       "      <th>visitors</th>\n",
       "    </tr>\n",
       "  </thead>\n",
       "  <tbody>\n",
       "    <tr>\n",
       "      <th>0</th>\n",
       "      <td>2019-08-01</td>\n",
       "      <td>A</td>\n",
       "      <td>24</td>\n",
       "      <td>20</td>\n",
       "      <td>148579</td>\n",
       "      <td>719</td>\n",
       "    </tr>\n",
       "    <tr>\n",
       "      <th>1</th>\n",
       "      <td>2019-08-01</td>\n",
       "      <td>B</td>\n",
       "      <td>21</td>\n",
       "      <td>20</td>\n",
       "      <td>101217</td>\n",
       "      <td>713</td>\n",
       "    </tr>\n",
       "    <tr>\n",
       "      <th>2</th>\n",
       "      <td>2019-08-02</td>\n",
       "      <td>A</td>\n",
       "      <td>44</td>\n",
       "      <td>38</td>\n",
       "      <td>242401</td>\n",
       "      <td>1338</td>\n",
       "    </tr>\n",
       "    <tr>\n",
       "      <th>3</th>\n",
       "      <td>2019-08-02</td>\n",
       "      <td>B</td>\n",
       "      <td>45</td>\n",
       "      <td>43</td>\n",
       "      <td>266748</td>\n",
       "      <td>1294</td>\n",
       "    </tr>\n",
       "    <tr>\n",
       "      <th>4</th>\n",
       "      <td>2019-08-03</td>\n",
       "      <td>A</td>\n",
       "      <td>68</td>\n",
       "      <td>62</td>\n",
       "      <td>354874</td>\n",
       "      <td>1845</td>\n",
       "    </tr>\n",
       "  </tbody>\n",
       "</table>\n",
       "</div>"
      ],
      "text/plain": [
       "        date group  orders  buyers  revenue  visitors\n",
       "0 2019-08-01  A     24      20      148579   719     \n",
       "1 2019-08-01  B     21      20      101217   713     \n",
       "2 2019-08-02  A     44      38      242401   1338    \n",
       "3 2019-08-02  B     45      43      266748   1294    \n",
       "4 2019-08-03  A     68      62      354874   1845    "
      ]
     },
     "execution_count": 21,
     "metadata": {},
     "output_type": "execute_result"
    }
   ],
   "source": [
    "datesGroups = orders[['date','group']].drop_duplicates() \n",
    "\n",
    "ordersAggregated = datesGroups\\\n",
    ".apply(lambda x: orders[np.logical_and(orders['date'] <= x['date'], orders['group'] == x['group'])]\\\n",
    ".agg({'date' : 'max', 'group' : 'max', 'orderId' : 'nunique', 'userId' : 'nunique', 'revenue' : 'sum'}), axis=1).sort_values(by=['date','group'])\n",
    "\n",
    "visitorsAggregated = datesGroups\\\n",
    ".apply(lambda x: visitors[np.logical_and(visitors['date'] <= x['date'], visitors['group'] == x['group'])]\n",
    ".agg({'date' : 'max', 'group' : 'max', 'visitors' : 'sum'}), axis=1).sort_values(by=['date','group'])\n",
    "\n",
    "cumulativeData = ordersAggregated.merge(visitorsAggregated, left_on=['date', 'group'], right_on=['date', 'group'])\n",
    "cumulativeData.columns = ['date', 'group', 'orders', 'buyers', 'revenue', 'visitors']\n",
    "\n",
    "cumulativeData.head(5)"
   ]
  },
  {
   "cell_type": "markdown",
   "metadata": {},
   "source": [
    "1. Построим график кумулятивной выручки по группам. Сделаем выводы и предположения."
   ]
  },
  {
   "cell_type": "code",
   "execution_count": 22,
   "metadata": {},
   "outputs": [
    {
     "data": {
      "text/plain": [
       "(array([18109., 18113., 18117., 18121., 18125., 18129., 18133., 18137.,\n",
       "        18140.]),\n",
       " [Text(0, 0, ''),\n",
       "  Text(0, 0, ''),\n",
       "  Text(0, 0, ''),\n",
       "  Text(0, 0, ''),\n",
       "  Text(0, 0, ''),\n",
       "  Text(0, 0, ''),\n",
       "  Text(0, 0, ''),\n",
       "  Text(0, 0, ''),\n",
       "  Text(0, 0, '')])"
      ]
     },
     "execution_count": 22,
     "metadata": {},
     "output_type": "execute_result"
    },
    {
     "data": {
      "image/png": "[encoded data removed]",
      "text/plain": [
       "<Figure size 1008x504 with 1 Axes>"
      ]
     },
     "metadata": {
      "needs_background": "light"
     },
     "output_type": "display_data"
    }
   ],
   "source": [
    "# датафрейм с кумулятивным количеством заказов и кумулятивной выручкой по дням в группе А\n",
    "cumulativeRevenueA = cumulativeData[cumulativeData['group']=='A'][['date','revenue', 'orders']]\n",
    "\n",
    "# датафрейм с кумулятивным количеством заказов и кумулятивной выручкой по дням в группе B\n",
    "cumulativeRevenueB = cumulativeData[cumulativeData['group']=='B'][['date','revenue', 'orders']]\n",
    "\n",
    "# Строим график выручки группы А\n",
    "plt.figure(figsize=(14, 7))\n",
    "plt.plot(cumulativeRevenueA['date'], cumulativeRevenueA['revenue'], label='A')\n",
    "\n",
    "# Строим график выручки группы B\n",
    "plt.plot(cumulativeRevenueB['date'], cumulativeRevenueB['revenue'], label='B')\n",
    "\n",
    "plt.legend() \n",
    "plt.title('График кумулятивной выручки по группам')\n",
    "plt.xlabel('Даты', fontsize='17')\n",
    "plt.ylabel('Кумулятивная выручка', fontsize='17')\n",
    "plt.xticks(fontsize='12', rotation = 45)"
   ]
  },
  {
   "cell_type": "markdown",
   "metadata": {},
   "source": [
    "В первой 2/3 теста наблюдались колебания, но затем группа В показывает доход стабильно выше шруппы А"
   ]
  },
  {
   "cell_type": "markdown",
   "metadata": {},
   "source": [
    "Вначале графики шли почти вровень, вплоть до 13 августа 2019. Но дальше график В показывает превосходство\n",
    "над A и примерно с 19 августа оба графика уже стабилизировались и шли почти пареллельно друг другу.\n",
    "Значит резко увеличилась выручка. Это может быть из за того что новые нововведения стали лучше пониматься пользователями, клиентами и лояльность у группы B стала выше\n"
   ]
  },
  {
   "cell_type": "markdown",
   "metadata": {},
   "source": [
    " "
   ]
  },
  {
   "cell_type": "markdown",
   "metadata": {},
   "source": [
    "2. График кумулятивного среднего чека по группам"
   ]
  },
  {
   "cell_type": "code",
   "execution_count": 23,
   "metadata": {},
   "outputs": [
    {
     "data": {
      "text/plain": [
       "(array([18109., 18113., 18117., 18121., 18125., 18129., 18133., 18137.,\n",
       "        18140.]),\n",
       " [Text(0, 0, ''),\n",
       "  Text(0, 0, ''),\n",
       "  Text(0, 0, ''),\n",
       "  Text(0, 0, ''),\n",
       "  Text(0, 0, ''),\n",
       "  Text(0, 0, ''),\n",
       "  Text(0, 0, ''),\n",
       "  Text(0, 0, ''),\n",
       "  Text(0, 0, '')])"
      ]
     },
     "execution_count": 23,
     "metadata": {},
     "output_type": "execute_result"
    },
    {
     "data": {
      "image/png": "[encoded data removed]",
      "text/plain": [
       "<Figure size 1008x504 with 1 Axes>"
      ]
     },
     "metadata": {
      "needs_background": "light"
     },
     "output_type": "display_data"
    }
   ],
   "source": [
    "plt.figure(figsize=(14, 7))\n",
    "plt.plot(cumulativeRevenueA['date'], cumulativeRevenueA['revenue']/cumulativeRevenueA['orders'], label='A')\n",
    "plt.plot(cumulativeRevenueB['date'], cumulativeRevenueB['revenue']/cumulativeRevenueB['orders'], label='B')\n",
    "plt.legend()\n",
    "plt.title('График кумулятивного среднего чека по группам')\n",
    "plt.xlabel('Даты', fontsize='17')\n",
    "plt.ylabel('Средний чек', fontsize='17')\n",
    "plt.xticks(fontsize='12', rotation = 45)"
   ]
  },
  {
   "cell_type": "markdown",
   "metadata": {},
   "source": [
    "Чтобы найти средний чек надо общую выручку разделить на количество заказов. На оси Х даты , по оси Y средний чек.\n",
    "Кумулятивное значение среднего чека по сегментам колеблится. Принимать решение по этой метрике рано или требуется\n",
    "дополнительный анализ выбросов"
   ]
  },
  {
   "cell_type": "markdown",
   "metadata": {},
   "source": [
    "\n",
    "Вывод: С 1 по 11 августа 2019 группа B по среднему чеку лидировала, однако 13 августа группа А вышла вперед, опередив группу B.\n",
    "Это говорит о том что в группе A в этот день произошла аномально крупная покупка, что увеличило средний чек.\n",
    "18 августа же наоборот, график B резко рванул вверх, скорее всего там была произведена аномально крупная покупка.\n",
    "Далее графики постепенно стабилизировались."
   ]
  },
  {
   "cell_type": "markdown",
   "metadata": {},
   "source": [
    "3. График относительного изменения кумулятивного среднего чека группы B к группе A"
   ]
  },
  {
   "cell_type": "code",
   "execution_count": 24,
   "metadata": {},
   "outputs": [
    {
     "data": {
      "text/html": [
       "<div>\n",
       "<style scoped>\n",
       "    .dataframe tbody tr th:only-of-type {\n",
       "        vertical-align: middle;\n",
       "    }\n",
       "\n",
       "    .dataframe tbody tr th {\n",
       "        vertical-align: top;\n",
       "    }\n",
       "\n",
       "    .dataframe thead th {\n",
       "        text-align: right;\n",
       "    }\n",
       "</style>\n",
       "<table border=\"1\" class=\"dataframe\">\n",
       "  <thead>\n",
       "    <tr style=\"text-align: right;\">\n",
       "      <th></th>\n",
       "      <th>date</th>\n",
       "      <th>revenueA</th>\n",
       "      <th>ordersA</th>\n",
       "      <th>revenueB</th>\n",
       "      <th>ordersB</th>\n",
       "    </tr>\n",
       "  </thead>\n",
       "  <tbody>\n",
       "    <tr>\n",
       "      <th>0</th>\n",
       "      <td>2019-08-01</td>\n",
       "      <td>148579</td>\n",
       "      <td>24</td>\n",
       "      <td>101217</td>\n",
       "      <td>21</td>\n",
       "    </tr>\n",
       "    <tr>\n",
       "      <th>1</th>\n",
       "      <td>2019-08-02</td>\n",
       "      <td>242401</td>\n",
       "      <td>44</td>\n",
       "      <td>266748</td>\n",
       "      <td>45</td>\n",
       "    </tr>\n",
       "    <tr>\n",
       "      <th>2</th>\n",
       "      <td>2019-08-03</td>\n",
       "      <td>354874</td>\n",
       "      <td>68</td>\n",
       "      <td>380996</td>\n",
       "      <td>61</td>\n",
       "    </tr>\n",
       "    <tr>\n",
       "      <th>3</th>\n",
       "      <td>2019-08-04</td>\n",
       "      <td>425699</td>\n",
       "      <td>84</td>\n",
       "      <td>489567</td>\n",
       "      <td>78</td>\n",
       "    </tr>\n",
       "    <tr>\n",
       "      <th>4</th>\n",
       "      <td>2019-08-05</td>\n",
       "      <td>549917</td>\n",
       "      <td>109</td>\n",
       "      <td>581995</td>\n",
       "      <td>101</td>\n",
       "    </tr>\n",
       "  </tbody>\n",
       "</table>\n",
       "</div>"
      ],
      "text/plain": [
       "        date  revenueA  ordersA  revenueB  ordersB\n",
       "0 2019-08-01  148579    24       101217    21     \n",
       "1 2019-08-02  242401    44       266748    45     \n",
       "2 2019-08-03  354874    68       380996    61     \n",
       "3 2019-08-04  425699    84       489567    78     \n",
       "4 2019-08-05  549917    109      581995    101    "
      ]
     },
     "execution_count": 24,
     "metadata": {},
     "output_type": "execute_result"
    }
   ],
   "source": [
    "# собираем данные в одном датафрейме , для этого объединим таблицы cumulativeRevenueA и cumulativeRevenueB\n",
    "mergedCumulativeRevenue = cumulativeRevenueA\\\n",
    ".merge(cumulativeRevenueB, left_on='date', right_on='date', how='left', suffixes=['A', 'B'])\n",
    "mergedCumulativeRevenue.head()"
   ]
  },
  {
   "cell_type": "code",
   "execution_count": 25,
   "metadata": {},
   "outputs": [
    {
     "data": {
      "text/plain": [
       "Text(0, 0.5, 'Степень различия')"
      ]
     },
     "execution_count": 25,
     "metadata": {},
     "output_type": "execute_result"
    },
    {
     "data": {
      "image/png": "[encoded data removed]",
      "text/plain": [
       "<Figure size 1008x504 with 1 Axes>"
      ]
     },
     "metadata": {
      "needs_background": "light"
     },
     "output_type": "display_data"
    }
   ],
   "source": [
    "# Построим график относительного различия кумулятивного среднего чека группы B к группе A. \n",
    "plt.figure(figsize=(14, 7))\n",
    "plt.plot(mergedCumulativeRevenue['date'], (mergedCumulativeRevenue['revenueB']/mergedCumulativeRevenue['ordersB'])\\\n",
    "         /(mergedCumulativeRevenue['revenueA']/mergedCumulativeRevenue['ordersA'])-1)\n",
    "plt.axhline(y=0, color='black', linestyle='--') \n",
    "plt.title('График относительного различия кумулятивного среднего чека группы B к группе A')\n",
    "plt.xlabel('Даты', fontsize='17')\n",
    "plt.ylabel('Степень различия', fontsize='17')"
   ]
  },
  {
   "cell_type": "markdown",
   "metadata": {},
   "source": [
    "В основном средний чек группы В находится выше группы А, однако имеются колебания графика на его протяжении.\n",
    "Это может говорить об аномальных покупках."
   ]
  },
  {
   "cell_type": "markdown",
   "metadata": {},
   "source": [
    "4. График кумулятивного среднего количества заказов на посетителя по группам."
   ]
  },
  {
   "cell_type": "code",
   "execution_count": 26,
   "metadata": {},
   "outputs": [],
   "source": [
    "cumulativeDataA = cumulativeData[cumulativeData['group']=='A'][['date','revenue', 'orders','visitors']]\n",
    "cumulativeDataA['average_order']= cumulativeDataA['orders']/cumulativeDataA['visitors']\n",
    "cumulativeDataB = cumulativeData[cumulativeData['group']=='B'][['date','revenue', 'orders','visitors']]\n",
    "cumulativeDataB['average_order']= cumulativeDataB['orders']/cumulativeDataB['visitors']"
   ]
  },
  {
   "cell_type": "code",
   "execution_count": 27,
   "metadata": {},
   "outputs": [
    {
     "data": {
      "text/plain": [
       "Text(0, 0.5, 'Среднее количество заказов на посетителя')"
      ]
     },
     "execution_count": 27,
     "metadata": {},
     "output_type": "execute_result"
    },
    {
     "data": {
      "image/png": "[encoded data removed]",
      "text/plain": [
       "<Figure size 1008x504 with 1 Axes>"
      ]
     },
     "metadata": {
      "needs_background": "light"
     },
     "output_type": "display_data"
    }
   ],
   "source": [
    "plt.figure(figsize=(14, 7))\n",
    "plt.plot(cumulativeDataA['date'], cumulativeDataA['orders']/cumulativeDataA['visitors'], label='A')\n",
    "plt.plot(cumulativeRevenueB['date'], cumulativeDataB['orders']/cumulativeDataB['visitors'], label='B')\n",
    "plt.legend()\n",
    "plt.title('График кумулятивного среднего количества заказов на посетителя по группам')\n",
    "plt.xlabel('Даты', fontsize='14')\n",
    "plt.ylabel('Среднее количество заказов на посетителя', fontsize='14')"
   ]
  },
  {
   "cell_type": "markdown",
   "metadata": {},
   "source": [
    "График группы B вскоре после начала эксперимента вышел вперед и показывает среднее количества заказов на посетителя \n",
    "больше чем в группе A и стабильно выше , хотя есть небольшие колебания"
   ]
  },
  {
   "cell_type": "markdown",
   "metadata": {},
   "source": [
    "Также дополнил графики"
   ]
  },
  {
   "cell_type": "markdown",
   "metadata": {},
   "source": [
    "5. График относительного изменения кумулятивного среднего количества заказов на посетителя группы B к группе A."
   ]
  },
  {
   "cell_type": "code",
   "execution_count": 28,
   "metadata": {},
   "outputs": [
    {
     "data": {
      "text/html": [
       "<div>\n",
       "<style scoped>\n",
       "    .dataframe tbody tr th:only-of-type {\n",
       "        vertical-align: middle;\n",
       "    }\n",
       "\n",
       "    .dataframe tbody tr th {\n",
       "        vertical-align: top;\n",
       "    }\n",
       "\n",
       "    .dataframe thead th {\n",
       "        text-align: right;\n",
       "    }\n",
       "</style>\n",
       "<table border=\"1\" class=\"dataframe\">\n",
       "  <thead>\n",
       "    <tr style=\"text-align: right;\">\n",
       "      <th></th>\n",
       "      <th>date</th>\n",
       "      <th>revenueA</th>\n",
       "      <th>ordersA</th>\n",
       "      <th>visitorsA</th>\n",
       "      <th>average_orderA</th>\n",
       "      <th>revenueB</th>\n",
       "      <th>ordersB</th>\n",
       "      <th>visitorsB</th>\n",
       "      <th>average_orderB</th>\n",
       "    </tr>\n",
       "  </thead>\n",
       "  <tbody>\n",
       "    <tr>\n",
       "      <th>0</th>\n",
       "      <td>2019-08-01</td>\n",
       "      <td>148579</td>\n",
       "      <td>24</td>\n",
       "      <td>719</td>\n",
       "      <td>0.033380</td>\n",
       "      <td>101217</td>\n",
       "      <td>21</td>\n",
       "      <td>713</td>\n",
       "      <td>0.029453</td>\n",
       "    </tr>\n",
       "    <tr>\n",
       "      <th>1</th>\n",
       "      <td>2019-08-02</td>\n",
       "      <td>242401</td>\n",
       "      <td>44</td>\n",
       "      <td>1338</td>\n",
       "      <td>0.032885</td>\n",
       "      <td>266748</td>\n",
       "      <td>45</td>\n",
       "      <td>1294</td>\n",
       "      <td>0.034776</td>\n",
       "    </tr>\n",
       "    <tr>\n",
       "      <th>2</th>\n",
       "      <td>2019-08-03</td>\n",
       "      <td>354874</td>\n",
       "      <td>68</td>\n",
       "      <td>1845</td>\n",
       "      <td>0.036856</td>\n",
       "      <td>380996</td>\n",
       "      <td>61</td>\n",
       "      <td>1803</td>\n",
       "      <td>0.033833</td>\n",
       "    </tr>\n",
       "    <tr>\n",
       "      <th>3</th>\n",
       "      <td>2019-08-04</td>\n",
       "      <td>425699</td>\n",
       "      <td>84</td>\n",
       "      <td>2562</td>\n",
       "      <td>0.032787</td>\n",
       "      <td>489567</td>\n",
       "      <td>78</td>\n",
       "      <td>2573</td>\n",
       "      <td>0.030315</td>\n",
       "    </tr>\n",
       "    <tr>\n",
       "      <th>4</th>\n",
       "      <td>2019-08-05</td>\n",
       "      <td>549917</td>\n",
       "      <td>109</td>\n",
       "      <td>3318</td>\n",
       "      <td>0.032851</td>\n",
       "      <td>581995</td>\n",
       "      <td>101</td>\n",
       "      <td>3280</td>\n",
       "      <td>0.030793</td>\n",
       "    </tr>\n",
       "  </tbody>\n",
       "</table>\n",
       "</div>"
      ],
      "text/plain": [
       "        date  revenueA  ordersA  visitorsA  average_orderA  revenueB  ordersB  \\\n",
       "0 2019-08-01  148579    24       719        0.033380        101217    21        \n",
       "1 2019-08-02  242401    44       1338       0.032885        266748    45        \n",
       "2 2019-08-03  354874    68       1845       0.036856        380996    61        \n",
       "3 2019-08-04  425699    84       2562       0.032787        489567    78        \n",
       "4 2019-08-05  549917    109      3318       0.032851        581995    101       \n",
       "\n",
       "   visitorsB  average_orderB  \n",
       "0  713        0.029453        \n",
       "1  1294       0.034776        \n",
       "2  1803       0.033833        \n",
       "3  2573       0.030315        \n",
       "4  3280       0.030793        "
      ]
     },
     "execution_count": 28,
     "metadata": {},
     "output_type": "execute_result"
    }
   ],
   "source": [
    "# собираем данные в одном датафрейме , для этого объединим таблицы cumulativeDataA и cumulativeDataB\n",
    "mergedCumulativeData = cumulativeDataA\\\n",
    ".merge(cumulativeDataB, left_on='date', right_on='date', how='left', suffixes=['A', 'B'])\n",
    "mergedCumulativeData.head()"
   ]
  },
  {
   "cell_type": "code",
   "execution_count": 29,
   "metadata": {},
   "outputs": [
    {
     "data": {
      "text/plain": [
       "Text(0.5, 1.0, 'Относительное различия кумулятивного среднего количества заказов на посетителя группы B к группе A')"
      ]
     },
     "execution_count": 29,
     "metadata": {},
     "output_type": "execute_result"
    },
    {
     "data": {
      "image/png": "[encoded data removed]",
      "text/plain": [
       "<Figure size 1008x360 with 1 Axes>"
      ]
     },
     "metadata": {
      "needs_background": "light"
     },
     "output_type": "display_data"
    }
   ],
   "source": [
    "# Построим график относительного различия кумулятивного среднего количества заказов на посетителя группы B к группе A.\n",
    "plt.figure(figsize=(14, 5))\n",
    "plt.plot(mergedCumulativeData['date'], (mergedCumulativeData['ordersB']/mergedCumulativeData['visitorsB'])\\\n",
    "         /(mergedCumulativeData['ordersA']/mergedCumulativeData['visitorsA'])-1)\n",
    "plt.axhline(y=0, color='black', linestyle='--') \n",
    "plt.title('Относительное различия кумулятивного среднего количества заказов на посетителя группы B к группе A')"
   ]
  },
  {
   "cell_type": "markdown",
   "metadata": {},
   "source": [
    "Здесь группа B после колебаний вначале , уже длительное время выше относительной линии, наглядно виден результат.\n",
    "Эксперимент можно признать удачным"
   ]
  },
  {
   "cell_type": "markdown",
   "metadata": {},
   "source": [
    "Грфик зафиксировался у значений 0.10 - 0.15"
   ]
  },
  {
   "cell_type": "markdown",
   "metadata": {},
   "source": [
    "6. Точечный график количества заказов по пользователям."
   ]
  },
  {
   "cell_type": "code",
   "execution_count": 30,
   "metadata": {},
   "outputs": [
    {
     "data": {
      "text/html": [
       "<div>\n",
       "<style scoped>\n",
       "    .dataframe tbody tr th:only-of-type {\n",
       "        vertical-align: middle;\n",
       "    }\n",
       "\n",
       "    .dataframe tbody tr th {\n",
       "        vertical-align: top;\n",
       "    }\n",
       "\n",
       "    .dataframe thead th {\n",
       "        text-align: right;\n",
       "    }\n",
       "</style>\n",
       "<table border=\"1\" class=\"dataframe\">\n",
       "  <thead>\n",
       "    <tr style=\"text-align: right;\">\n",
       "      <th></th>\n",
       "      <th>userId</th>\n",
       "      <th>orders</th>\n",
       "    </tr>\n",
       "  </thead>\n",
       "  <tbody>\n",
       "    <tr>\n",
       "      <th>1023</th>\n",
       "      <td>4256040402</td>\n",
       "      <td>11</td>\n",
       "    </tr>\n",
       "    <tr>\n",
       "      <th>591</th>\n",
       "      <td>2458001652</td>\n",
       "      <td>11</td>\n",
       "    </tr>\n",
       "    <tr>\n",
       "      <th>569</th>\n",
       "      <td>2378935119</td>\n",
       "      <td>9</td>\n",
       "    </tr>\n",
       "    <tr>\n",
       "      <th>487</th>\n",
       "      <td>2038680547</td>\n",
       "      <td>8</td>\n",
       "    </tr>\n",
       "    <tr>\n",
       "      <th>44</th>\n",
       "      <td>199603092</td>\n",
       "      <td>5</td>\n",
       "    </tr>\n",
       "    <tr>\n",
       "      <th>744</th>\n",
       "      <td>3062433592</td>\n",
       "      <td>5</td>\n",
       "    </tr>\n",
       "    <tr>\n",
       "      <th>55</th>\n",
       "      <td>237748145</td>\n",
       "      <td>5</td>\n",
       "    </tr>\n",
       "    <tr>\n",
       "      <th>917</th>\n",
       "      <td>3803269165</td>\n",
       "      <td>5</td>\n",
       "    </tr>\n",
       "    <tr>\n",
       "      <th>299</th>\n",
       "      <td>1230306981</td>\n",
       "      <td>5</td>\n",
       "    </tr>\n",
       "    <tr>\n",
       "      <th>897</th>\n",
       "      <td>3717692402</td>\n",
       "      <td>5</td>\n",
       "    </tr>\n",
       "  </tbody>\n",
       "</table>\n",
       "</div>"
      ],
      "text/plain": [
       "          userId  orders\n",
       "1023  4256040402  11    \n",
       "591   2458001652  11    \n",
       "569   2378935119  9     \n",
       "487   2038680547  8     \n",
       "44    199603092   5     \n",
       "744   3062433592  5     \n",
       "55    237748145   5     \n",
       "917   3803269165  5     \n",
       "299   1230306981  5     \n",
       "897   3717692402  5     "
      ]
     },
     "execution_count": 30,
     "metadata": {},
     "output_type": "execute_result"
    }
   ],
   "source": [
    "ordersByUsers = (\n",
    "    orders.groupby('userId', as_index=False)\n",
    "    .agg({'orderId': 'nunique'})\n",
    ")\n",
    "ordersByUsers.columns = ['userId', 'orders']\n",
    "ordersByUsers.sort_values(by='orders', ascending=False).head(10)"
   ]
  },
  {
   "cell_type": "code",
   "execution_count": 31,
   "metadata": {},
   "outputs": [
    {
     "data": {
      "text/plain": [
       "Text(0, 0.5, 'Количество заказов на пользователя')"
      ]
     },
     "execution_count": 31,
     "metadata": {},
     "output_type": "execute_result"
    },
    {
     "data": {
      "image/png": "[encoded data removed]",
      "text/plain": [
       "<Figure size 1008x360 with 1 Axes>"
      ]
     },
     "metadata": {
      "needs_background": "light"
     },
     "output_type": "display_data"
    }
   ],
   "source": [
    "x_values = pd.Series(range(0, len(ordersByUsers)))\n",
    "plt.figure(figsize=(14, 5))\n",
    "plt.scatter(x_values, ordersByUsers['orders'])\n",
    "plt.title('Точечный график количества заказов по пользователям')\n",
    "plt.xlabel('Количество пользователей', fontsize='14')\n",
    "plt.ylabel('Количество заказов на пользователя', fontsize='14')"
   ]
  },
  {
   "cell_type": "markdown",
   "metadata": {},
   "source": [
    "В основном пользователи делают 1 заказ, в редких случаях 2. То что выше  можно считать аномалиями"
   ]
  },
  {
   "cell_type": "markdown",
   "metadata": {},
   "source": [
    "7. Посчитаем 95-й и 99-й перцентили количества заказов на пользователя. Выберим границу для определения аномальных пользователей."
   ]
  },
  {
   "cell_type": "code",
   "execution_count": 32,
   "metadata": {},
   "outputs": [
    {
     "data": {
      "text/plain": [
       "array([2., 4.])"
      ]
     },
     "execution_count": 32,
     "metadata": {},
     "output_type": "execute_result"
    }
   ],
   "source": [
    "np.percentile(ordersByUsers['orders'], [95, 99])"
   ]
  },
  {
   "cell_type": "markdown",
   "metadata": {},
   "source": [
    "Не более 5 процентов пользователей совершили более 2 заказов, и не более 1 процента пользователей совершили 4\n",
    "и более заказов. То что больше 2 заказов приму за аномалии"
   ]
  },
  {
   "cell_type": "markdown",
   "metadata": {},
   "source": [
    "8. Точечный график стоимостей заказов"
   ]
  },
  {
   "cell_type": "code",
   "execution_count": 33,
   "metadata": {},
   "outputs": [
    {
     "data": {
      "text/html": [
       "<div>\n",
       "<style scoped>\n",
       "    .dataframe tbody tr th:only-of-type {\n",
       "        vertical-align: middle;\n",
       "    }\n",
       "\n",
       "    .dataframe tbody tr th {\n",
       "        vertical-align: top;\n",
       "    }\n",
       "\n",
       "    .dataframe thead th {\n",
       "        text-align: right;\n",
       "    }\n",
       "</style>\n",
       "<table border=\"1\" class=\"dataframe\">\n",
       "  <thead>\n",
       "    <tr style=\"text-align: right;\">\n",
       "      <th></th>\n",
       "      <th>orderId</th>\n",
       "      <th>userId</th>\n",
       "      <th>date</th>\n",
       "      <th>revenue</th>\n",
       "      <th>group</th>\n",
       "    </tr>\n",
       "  </thead>\n",
       "  <tbody>\n",
       "    <tr>\n",
       "      <th>425</th>\n",
       "      <td>590470918</td>\n",
       "      <td>1920142716</td>\n",
       "      <td>2019-08-19</td>\n",
       "      <td>1294500</td>\n",
       "      <td>B</td>\n",
       "    </tr>\n",
       "    <tr>\n",
       "      <th>1196</th>\n",
       "      <td>3936777065</td>\n",
       "      <td>2108080724</td>\n",
       "      <td>2019-08-15</td>\n",
       "      <td>202740</td>\n",
       "      <td>B</td>\n",
       "    </tr>\n",
       "    <tr>\n",
       "      <th>858</th>\n",
       "      <td>192721366</td>\n",
       "      <td>1316129916</td>\n",
       "      <td>2019-08-27</td>\n",
       "      <td>93940</td>\n",
       "      <td>A</td>\n",
       "    </tr>\n",
       "    <tr>\n",
       "      <th>1136</th>\n",
       "      <td>666610489</td>\n",
       "      <td>1307669133</td>\n",
       "      <td>2019-08-13</td>\n",
       "      <td>92550</td>\n",
       "      <td>A</td>\n",
       "    </tr>\n",
       "    <tr>\n",
       "      <th>744</th>\n",
       "      <td>3668308183</td>\n",
       "      <td>888512513</td>\n",
       "      <td>2019-08-27</td>\n",
       "      <td>86620</td>\n",
       "      <td>B</td>\n",
       "    </tr>\n",
       "    <tr>\n",
       "      <th>682</th>\n",
       "      <td>1216533772</td>\n",
       "      <td>4266935830</td>\n",
       "      <td>2019-08-29</td>\n",
       "      <td>78990</td>\n",
       "      <td>B</td>\n",
       "    </tr>\n",
       "    <tr>\n",
       "      <th>662</th>\n",
       "      <td>1811671147</td>\n",
       "      <td>4266935830</td>\n",
       "      <td>2019-08-29</td>\n",
       "      <td>78990</td>\n",
       "      <td>A</td>\n",
       "    </tr>\n",
       "    <tr>\n",
       "      <th>743</th>\n",
       "      <td>3603576309</td>\n",
       "      <td>4133034833</td>\n",
       "      <td>2019-08-09</td>\n",
       "      <td>67990</td>\n",
       "      <td>A</td>\n",
       "    </tr>\n",
       "    <tr>\n",
       "      <th>1103</th>\n",
       "      <td>1348774318</td>\n",
       "      <td>1164614297</td>\n",
       "      <td>2019-08-12</td>\n",
       "      <td>66350</td>\n",
       "      <td>A</td>\n",
       "    </tr>\n",
       "    <tr>\n",
       "      <th>1099</th>\n",
       "      <td>316924019</td>\n",
       "      <td>148427295</td>\n",
       "      <td>2019-08-12</td>\n",
       "      <td>65710</td>\n",
       "      <td>A</td>\n",
       "    </tr>\n",
       "  </tbody>\n",
       "</table>\n",
       "</div>"
      ],
      "text/plain": [
       "         orderId      userId       date  revenue group\n",
       "425   590470918   1920142716 2019-08-19  1294500  B   \n",
       "1196  3936777065  2108080724 2019-08-15  202740   B   \n",
       "858   192721366   1316129916 2019-08-27  93940    A   \n",
       "1136  666610489   1307669133 2019-08-13  92550    A   \n",
       "744   3668308183  888512513  2019-08-27  86620    B   \n",
       "682   1216533772  4266935830 2019-08-29  78990    B   \n",
       "662   1811671147  4266935830 2019-08-29  78990    A   \n",
       "743   3603576309  4133034833 2019-08-09  67990    A   \n",
       "1103  1348774318  1164614297 2019-08-12  66350    A   \n",
       "1099  316924019   148427295  2019-08-12  65710    A   "
      ]
     },
     "execution_count": 33,
     "metadata": {},
     "output_type": "execute_result"
    }
   ],
   "source": [
    "orders.sort_values(by='revenue', ascending=False).head(10)\n",
    "\n"
   ]
  },
  {
   "cell_type": "code",
   "execution_count": 34,
   "metadata": {},
   "outputs": [
    {
     "data": {
      "text/plain": [
       "Text(0, 0.5, 'Стоимость заказов')"
      ]
     },
     "execution_count": 34,
     "metadata": {},
     "output_type": "execute_result"
    },
    {
     "data": {
      "image/png": "[encoded data removed]",
      "text/plain": [
       "<Figure size 1008x576 with 1 Axes>"
      ]
     },
     "metadata": {
      "needs_background": "light"
     },
     "output_type": "display_data"
    }
   ],
   "source": [
    "x_values = pd.Series(range(0, len(orders['revenue'])))\n",
    "plt.figure(figsize=(14, 8))\n",
    "plt.scatter(x_values, orders['revenue'])\n",
    "plt.title('Точечный график стоимостей заказов')\n",
    "plt.xlabel('Количество пользователей', fontsize='14')\n",
    "plt.ylabel('Стоимость заказов', fontsize='14')"
   ]
  },
  {
   "cell_type": "code",
   "execution_count": 35,
   "metadata": {},
   "outputs": [
    {
     "data": {
      "text/plain": [
       "Text(0, 0.5, 'Стоимость заказов')"
      ]
     },
     "execution_count": 35,
     "metadata": {},
     "output_type": "execute_result"
    },
    {
     "data": {
      "image/png": "[encoded data removed]",
      "text/plain": [
       "<Figure size 1008x576 with 1 Axes>"
      ]
     },
     "metadata": {
      "needs_background": "light"
     },
     "output_type": "display_data"
    }
   ],
   "source": [
    "orders1 = orders.query('revenue < 100000')\n",
    "x_values = pd.Series(range(0, len(orders1['revenue'])))\n",
    "plt.figure(figsize=(14, 8))\n",
    "plt.scatter(x_values, orders1['revenue'])\n",
    "plt.title('Точечный график стоимостей заказов без аномалий')\n",
    "plt.xlabel('Количество пользователей', fontsize='14')\n",
    "plt.ylabel('Стоимость заказов', fontsize='14')"
   ]
  },
  {
   "cell_type": "markdown",
   "metadata": {},
   "source": [
    "В основном стоимость заказов сосредоточена в границах до 28 000 руб"
   ]
  },
  {
   "cell_type": "markdown",
   "metadata": {},
   "source": [
    "9. Посчитаем 95-й и 99-й перцентили стоимости заказов"
   ]
  },
  {
   "cell_type": "code",
   "execution_count": 36,
   "metadata": {},
   "outputs": [
    {
     "data": {
      "text/plain": [
       "array([28000. , 58233.2])"
      ]
     },
     "execution_count": 36,
     "metadata": {},
     "output_type": "execute_result"
    }
   ],
   "source": [
    "np.percentile(orders['revenue'], [95, 99])"
   ]
  },
  {
   "cell_type": "markdown",
   "metadata": {},
   "source": [
    "95 процентов всех заказов находятся в границах стоимости до 28000 . Один процент заказов имеет стоимость более 58233.\n",
    "Заказы выше 28000 будем считать аномальными"
   ]
  },
  {
   "cell_type": "markdown",
   "metadata": {},
   "source": [
    "10. Статистическая значимость различий в среднем количестве заказов на посетителя между группами по «сырым» данным"
   ]
  },
  {
   "cell_type": "code",
   "execution_count": 37,
   "metadata": {},
   "outputs": [
    {
     "data": {
      "text/html": [
       "<div>\n",
       "<style scoped>\n",
       "    .dataframe tbody tr th:only-of-type {\n",
       "        vertical-align: middle;\n",
       "    }\n",
       "\n",
       "    .dataframe tbody tr th {\n",
       "        vertical-align: top;\n",
       "    }\n",
       "\n",
       "    .dataframe thead th {\n",
       "        text-align: right;\n",
       "    }\n",
       "</style>\n",
       "<table border=\"1\" class=\"dataframe\">\n",
       "  <thead>\n",
       "    <tr style=\"text-align: right;\">\n",
       "      <th></th>\n",
       "      <th>date</th>\n",
       "      <th>ordersPerDateA</th>\n",
       "      <th>revenuePerDateA</th>\n",
       "      <th>ordersPerDateB</th>\n",
       "      <th>revenuePerDateB</th>\n",
       "      <th>ordersCummulativeA</th>\n",
       "      <th>revenueCummulativeA</th>\n",
       "      <th>ordersCummulativeB</th>\n",
       "      <th>revenueCummulativeB</th>\n",
       "      <th>visitorsPerDateA</th>\n",
       "      <th>visitorsPerDateB</th>\n",
       "      <th>visitorsCummulativeA</th>\n",
       "      <th>visitorsCummulativeB</th>\n",
       "    </tr>\n",
       "  </thead>\n",
       "  <tbody>\n",
       "    <tr>\n",
       "      <th>0</th>\n",
       "      <td>2019-08-01</td>\n",
       "      <td>24</td>\n",
       "      <td>148579</td>\n",
       "      <td>21</td>\n",
       "      <td>101217</td>\n",
       "      <td>24</td>\n",
       "      <td>148579</td>\n",
       "      <td>21</td>\n",
       "      <td>101217</td>\n",
       "      <td>719</td>\n",
       "      <td>713</td>\n",
       "      <td>719</td>\n",
       "      <td>713</td>\n",
       "    </tr>\n",
       "    <tr>\n",
       "      <th>1</th>\n",
       "      <td>2019-08-02</td>\n",
       "      <td>20</td>\n",
       "      <td>93822</td>\n",
       "      <td>24</td>\n",
       "      <td>165531</td>\n",
       "      <td>44</td>\n",
       "      <td>242401</td>\n",
       "      <td>45</td>\n",
       "      <td>266748</td>\n",
       "      <td>619</td>\n",
       "      <td>581</td>\n",
       "      <td>1338</td>\n",
       "      <td>1294</td>\n",
       "    </tr>\n",
       "    <tr>\n",
       "      <th>2</th>\n",
       "      <td>2019-08-03</td>\n",
       "      <td>24</td>\n",
       "      <td>112473</td>\n",
       "      <td>16</td>\n",
       "      <td>114248</td>\n",
       "      <td>68</td>\n",
       "      <td>354874</td>\n",
       "      <td>61</td>\n",
       "      <td>380996</td>\n",
       "      <td>507</td>\n",
       "      <td>509</td>\n",
       "      <td>1845</td>\n",
       "      <td>1803</td>\n",
       "    </tr>\n",
       "    <tr>\n",
       "      <th>3</th>\n",
       "      <td>2019-08-04</td>\n",
       "      <td>16</td>\n",
       "      <td>70825</td>\n",
       "      <td>17</td>\n",
       "      <td>108571</td>\n",
       "      <td>84</td>\n",
       "      <td>425699</td>\n",
       "      <td>78</td>\n",
       "      <td>489567</td>\n",
       "      <td>717</td>\n",
       "      <td>770</td>\n",
       "      <td>2562</td>\n",
       "      <td>2573</td>\n",
       "    </tr>\n",
       "    <tr>\n",
       "      <th>4</th>\n",
       "      <td>2019-08-05</td>\n",
       "      <td>25</td>\n",
       "      <td>124218</td>\n",
       "      <td>23</td>\n",
       "      <td>92428</td>\n",
       "      <td>109</td>\n",
       "      <td>549917</td>\n",
       "      <td>101</td>\n",
       "      <td>581995</td>\n",
       "      <td>756</td>\n",
       "      <td>707</td>\n",
       "      <td>3318</td>\n",
       "      <td>3280</td>\n",
       "    </tr>\n",
       "  </tbody>\n",
       "</table>\n",
       "</div>"
      ],
      "text/plain": [
       "        date  ordersPerDateA  revenuePerDateA  ordersPerDateB  \\\n",
       "0 2019-08-01  24              148579           21               \n",
       "1 2019-08-02  20              93822            24               \n",
       "2 2019-08-03  24              112473           16               \n",
       "3 2019-08-04  16              70825            17               \n",
       "4 2019-08-05  25              124218           23               \n",
       "\n",
       "   revenuePerDateB  ordersCummulativeA  revenueCummulativeA  \\\n",
       "0  101217           24                  148579                \n",
       "1  165531           44                  242401                \n",
       "2  114248           68                  354874                \n",
       "3  108571           84                  425699                \n",
       "4  92428            109                 549917                \n",
       "\n",
       "   ordersCummulativeB  revenueCummulativeB  visitorsPerDateA  \\\n",
       "0  21                  101217               719                \n",
       "1  45                  266748               619                \n",
       "2  61                  380996               507                \n",
       "3  78                  489567               717                \n",
       "4  101                 581995               756                \n",
       "\n",
       "   visitorsPerDateB  visitorsCummulativeA  visitorsCummulativeB  \n",
       "0  713               719                   713                   \n",
       "1  581               1338                  1294                  \n",
       "2  509               1845                  1803                  \n",
       "3  770               2562                  2573                  \n",
       "4  707               3318                  3280                  "
      ]
     },
     "execution_count": 37,
     "metadata": {},
     "output_type": "execute_result"
    }
   ],
   "source": [
    "visitorsADaily = visitors[visitors['group'] == 'A'][['date', 'visitors']]\n",
    "visitorsADaily.columns = ['date', 'visitorsPerDateA']\n",
    "\n",
    "visitorsACummulative = visitorsADaily.apply(\n",
    "    lambda x: visitorsADaily[visitorsADaily['date'] <= x['date']].agg(\n",
    "        {'date': 'max', 'visitorsPerDateA': 'sum'}\n",
    "    ),\n",
    "    axis=1,\n",
    ")\n",
    "visitorsACummulative.columns = ['date', 'visitorsCummulativeA']\n",
    "\n",
    "visitorsBDaily = visitors[visitors['group'] == 'B'][['date', 'visitors']]\n",
    "visitorsBDaily.columns = ['date', 'visitorsPerDateB']\n",
    "\n",
    "visitorsBCummulative = visitorsBDaily.apply(\n",
    "    lambda x: visitorsBDaily[visitorsBDaily['date'] <= x['date']].agg(\n",
    "        {'date': 'max', 'visitorsPerDateB': 'sum'}\n",
    "    ),\n",
    "    axis=1,\n",
    ")\n",
    "visitorsBCummulative.columns = ['date', 'visitorsCummulativeB']\n",
    "\n",
    "ordersADaily = (\n",
    "    orders[orders['group'] == 'A'][['date', 'orderId', 'userId', 'revenue']]\n",
    "    .groupby('date', as_index=False)\n",
    "    .agg({'orderId': pd.Series.nunique, 'revenue': 'sum'})\n",
    ")\n",
    "ordersADaily.columns = ['date', 'ordersPerDateA', 'revenuePerDateA']\n",
    "\n",
    "ordersACummulative = ordersADaily.apply(\n",
    "    lambda x: ordersADaily[ordersADaily['date'] <= x['date']].agg(\n",
    "        {'date': 'max', 'ordersPerDateA': 'sum', 'revenuePerDateA': 'sum'}\n",
    "    ),\n",
    "    axis=1,\n",
    ").sort_values(by=['date'])\n",
    "ordersACummulative.columns = [\n",
    "    'date',\n",
    "    'ordersCummulativeA',\n",
    "    'revenueCummulativeA',\n",
    "]\n",
    "\n",
    "ordersBDaily = (\n",
    "    orders[orders['group'] == 'B'][['date', 'orderId', 'userId', 'revenue']]\n",
    "    .groupby('date', as_index=False)\n",
    "    .agg({'orderId': pd.Series.nunique, 'revenue': 'sum'})\n",
    ")\n",
    "ordersBDaily.columns = ['date', 'ordersPerDateB', 'revenuePerDateB']\n",
    "\n",
    "ordersBCummulative = ordersBDaily.apply(\n",
    "    lambda x: ordersBDaily[ordersBDaily['date'] <= x['date']].agg(\n",
    "        {'date': 'max', 'ordersPerDateB': 'sum', 'revenuePerDateB': 'sum'}\n",
    "    ),\n",
    "    axis=1,\n",
    ").sort_values(by=['date'])\n",
    "ordersBCummulative.columns = [\n",
    "    'date',\n",
    "    'ordersCummulativeB',\n",
    "    'revenueCummulativeB',\n",
    "]\n",
    "\n",
    "data = (\n",
    "    ordersADaily.merge(\n",
    "        ordersBDaily, left_on='date', right_on='date', how='left'\n",
    "    )\n",
    "    .merge(ordersACummulative, left_on='date', right_on='date', how='left')\n",
    "    .merge(ordersBCummulative, left_on='date', right_on='date', how='left')\n",
    "    .merge(visitorsADaily, left_on='date', right_on='date', how='left')\n",
    "    .merge(visitorsBDaily, left_on='date', right_on='date', how='left')\n",
    "    .merge(visitorsACummulative, left_on='date', right_on='date', how='left')\n",
    "    .merge(visitorsBCummulative, left_on='date', right_on='date', how='left')\n",
    ")\n",
    "\n",
    "data.head(5)"
   ]
  },
  {
   "cell_type": "code",
   "execution_count": 38,
   "metadata": {},
   "outputs": [],
   "source": [
    "ordersByUsersA = (               # Сгруппируем заказы по пользователям в каждой группе\n",
    "    orders[orders['group'] == 'A']\n",
    "    .groupby('userId', as_index=False)\n",
    "    .agg({'orderId': pd.Series.nunique})\n",
    ")\n",
    "ordersByUsersA.columns = ['userId', 'orders']\n",
    "\n",
    "ordersByUsersB = (\n",
    "    orders[orders['group'] == 'B']\n",
    "    .groupby('userId', as_index=False)\n",
    "    .agg({'orderId': pd.Series.nunique})\n",
    ")\n",
    "ordersByUsersB.columns = ['userId', 'orders'] "
   ]
  },
  {
   "cell_type": "code",
   "execution_count": 39,
   "metadata": {},
   "outputs": [],
   "source": [
    "sampleA = pd.concat([ordersByUsersA['orders'],pd.Series(0, index=np.arange(data['visitorsPerDateA']\n",
    ".sum() - len(ordersByUsersA['orders'])), name='orders')],axis=0)"
   ]
  },
  {
   "cell_type": "code",
   "execution_count": 40,
   "metadata": {},
   "outputs": [],
   "source": [
    "sampleB = pd.concat([ordersByUsersB['orders'],pd.Series(0, index=np.arange(data['visitorsPerDateB']\n",
    ".sum() - len(ordersByUsersB['orders'])), name='orders')],axis=0)"
   ]
  },
  {
   "cell_type": "markdown",
   "metadata": {},
   "source": [
    "Статистическая значимость различия среднего количества заказов,  p-value для сравнения среднего между группами"
   ]
  },
  {
   "cell_type": "markdown",
   "metadata": {},
   "source": [
    "Проверка гипотез будет осуществляться на основе \"сырых\" данных"
   ]
  },
  {
   "cell_type": "markdown",
   "metadata": {},
   "source": [
    "H0 :  В среднем количестве заказов на посетителя между группами нет статистически значимых различий\n",
    "\n",
    "H1 :  В среднем количестве заказов на посетителя между группами есть статистически значимые различия\n",
    "\n",
    "Уровень значимости alpha = 0.05\n",
    "\n",
    "Для проверки используется критерий Манна - Уитни"
   ]
  },
  {
   "cell_type": "code",
   "execution_count": 41,
   "metadata": {},
   "outputs": [
    {
     "data": {
      "text/plain": [
       "'0.017'"
      ]
     },
     "execution_count": 41,
     "metadata": {},
     "output_type": "execute_result"
    }
   ],
   "source": [
    "pvalue = \"{0:.3f}\".format(st.mannwhitneyu(sampleA, sampleB)[1])\n",
    "pvalue"
   ]
  },
  {
   "cell_type": "markdown",
   "metadata": {},
   "source": [
    "p-value меньше уровня значимости 0.05 , значит нулевую гипотезу отвергаем.\n",
    "Это значит что в среднем количестве заказов между группами есть статистически значимые различия."
   ]
  },
  {
   "cell_type": "code",
   "execution_count": 42,
   "metadata": {},
   "outputs": [
    {
     "data": {
      "text/plain": [
       "'0.138'"
      ]
     },
     "execution_count": 42,
     "metadata": {},
     "output_type": "execute_result"
    }
   ],
   "source": [
    "# относительное различие в среднем между группами\n",
    "\"{0:.3f}\".format(sampleB.mean() / sampleA.mean() - 1)"
   ]
  },
  {
   "cell_type": "markdown",
   "metadata": {},
   "source": [
    "Относительный прирост среднего группы B к группе А составил 13.8 %"
   ]
  },
  {
   "cell_type": "markdown",
   "metadata": {},
   "source": [
    "11.  Статистическая значимость различий в среднем чеке заказа между группами по «сырым» данным."
   ]
  },
  {
   "cell_type": "markdown",
   "metadata": {},
   "source": [
    "Проверка гипотез будет осуществляться на основе \"сырых\" данных"
   ]
  },
  {
   "cell_type": "markdown",
   "metadata": {},
   "source": [
    "H0 :  В сумме среднего чека между группами нет статистически значимых различий\n",
    "\n",
    "H1 :  В сумме среднего чека между группами есть статистически значимые различия\n",
    "\n",
    "Уровень значимости alpha = 0.05\n",
    "\n",
    "Для проверки используется критерий Манна - Уитни"
   ]
  },
  {
   "cell_type": "markdown",
   "metadata": {},
   "source": [
    " "
   ]
  },
  {
   "cell_type": "markdown",
   "metadata": {},
   "source": [
    "Статистическая значимость различия средних чеков между группами,  p-value для сравнения среднего между группами"
   ]
  },
  {
   "cell_type": "code",
   "execution_count": 43,
   "metadata": {},
   "outputs": [
    {
     "data": {
      "text/plain": [
       "'0.729'"
      ]
     },
     "execution_count": 43,
     "metadata": {},
     "output_type": "execute_result"
    }
   ],
   "source": [
    "pvalue1='{0:.3f}'.format(st.mannwhitneyu(orders[orders['group']=='A']['revenue'], orders[orders['group']=='B']['revenue'])[1])\n",
    "pvalue1"
   ]
  },
  {
   "cell_type": "markdown",
   "metadata": {},
   "source": [
    "p- value больше уровня значимости 0.05. Это значит что в среднем чеке между группами нет статистически значимых различий.\n",
    "\n",
    "Нулевую гипотезу не отвергаем"
   ]
  },
  {
   "cell_type": "code",
   "execution_count": 44,
   "metadata": {},
   "outputs": [
    {
     "data": {
      "text/plain": [
       "'0.259'"
      ]
     },
     "execution_count": 44,
     "metadata": {},
     "output_type": "execute_result"
    }
   ],
   "source": [
    "'{0:.3f}'.format(orders[orders['group']=='B']['revenue'].mean()/orders[orders['group']=='A']['revenue'].mean()-1)"
   ]
  },
  {
   "cell_type": "markdown",
   "metadata": {},
   "source": [
    "Относительный прирост среднего группы B к группе А составил 25.9 % . Хотя P-value составил 0.729,\n",
    "что показывает что статистически значимых различий нет. Это может быть в результате аномалий"
   ]
  },
  {
   "cell_type": "markdown",
   "metadata": {},
   "source": [
    "12. Статистическая значимость различий в среднем количестве заказов на посетителя между группами по «очищенным» данным"
   ]
  },
  {
   "cell_type": "markdown",
   "metadata": {},
   "source": [
    "Проверка гипотез будет осуществляться на основе \"очищенных\" данных"
   ]
  },
  {
   "cell_type": "markdown",
   "metadata": {},
   "source": [
    "H0 :  В среднем количестве заказов на посетителя между группами нет статистически значимых различий\n",
    "\n",
    "H1 :  В среднем количестве заказов на посетителя между группами есть статистически значимые различия\n",
    "\n",
    "Уровень значимости alpha = 0.05\n",
    "\n",
    "Для проверки используется критерий Манна - Уитни"
   ]
  },
  {
   "cell_type": "markdown",
   "metadata": {},
   "source": [
    "Приступаем к подготовке очищенных от аномалий данных.\n",
    "Сделаем срезы пользователей с числом заказов больше 2 — usersWithManyOrders и пользователей,\n",
    "совершивших заказы дороже 28 000 — usersWithExpensiveOrders. Объединим их в таблице abnormalUsers"
   ]
  },
  {
   "cell_type": "code",
   "execution_count": 45,
   "metadata": {},
   "outputs": [
    {
     "data": {
      "text/plain": [
       "1099    148427295\n",
       "18      199603092\n",
       "928     204675465\n",
       "23      237748145\n",
       "37      249864742\n",
       "Name: userId, dtype: int64"
      ]
     },
     "execution_count": 45,
     "metadata": {},
     "output_type": "execute_result"
    }
   ],
   "source": [
    "usersWithManyOrders = pd.concat(\n",
    "    [\n",
    "        ordersByUsersA[ordersByUsersA['orders'] > 2]['userId'],\n",
    "        ordersByUsersB[ordersByUsersB['orders'] > 2]['userId'],\n",
    "    ],\n",
    "    axis=0,\n",
    ")\n",
    "usersWithExpensiveOrders = orders[orders['revenue'] > 28000]['userId']\n",
    "abnormalUsers = (\n",
    "    pd.concat([usersWithManyOrders, usersWithExpensiveOrders], axis=0)\n",
    "    .drop_duplicates()\n",
    "    .sort_values()\n",
    ")\n",
    "abnormalUsers.head(5)"
   ]
  },
  {
   "cell_type": "markdown",
   "metadata": {},
   "source": [
    "Создадим переменные sampleAFiltered и sampleBFiltered,\n",
    "в которых сохраним очищенные данные о заказах — не включая аномальных пользователей."
   ]
  },
  {
   "cell_type": "code",
   "execution_count": 46,
   "metadata": {},
   "outputs": [],
   "source": [
    "sampleAFiltered = pd.concat([ordersByUsersA[np.logical_not(ordersByUsersA['userId'].isin(abnormalUsers))]['orders'],\\\n",
    "pd.Series(0,index=np.arange(data['visitorsPerDateA'].sum() - len(ordersByUsersA['orders'])),name='orders',),],axis=0,)"
   ]
  },
  {
   "cell_type": "code",
   "execution_count": 47,
   "metadata": {},
   "outputs": [],
   "source": [
    "sampleBFiltered = pd.concat([ordersByUsersB[np.logical_not(ordersByUsersB['userId'].isin(abnormalUsers))]['orders'],\\\n",
    "pd.Series(0,index=np.arange(data['visitorsPerDateB'].sum() - len(ordersByUsersB['orders'])),name='orders',),],axis=0,) "
   ]
  },
  {
   "cell_type": "code",
   "execution_count": 48,
   "metadata": {},
   "outputs": [
    {
     "data": {
      "text/plain": [
       "'0.013'"
      ]
     },
     "execution_count": 48,
     "metadata": {},
     "output_type": "execute_result"
    }
   ],
   "source": [
    "# p-value для сравнения среднего между очищенными группами\n",
    "pvalue2 = '{0:.3f}'.format(st.mannwhitneyu(sampleAFiltered, sampleBFiltered)[1])\n",
    "pvalue2"
   ]
  },
  {
   "cell_type": "markdown",
   "metadata": {},
   "source": [
    "p-value меньше уровня значимости 0.05 , значит нулевую гипотезу отвергаем.\n",
    "Это значит что в среднем количестве заказов между группами есть статистически значимые различия.\n",
    "В неочищенных данных этот показатель составлял 0.017"
   ]
  },
  {
   "cell_type": "code",
   "execution_count": 49,
   "metadata": {},
   "outputs": [
    {
     "data": {
      "text/plain": [
       "'0.173'"
      ]
     },
     "execution_count": 49,
     "metadata": {},
     "output_type": "execute_result"
    }
   ],
   "source": [
    "# относительный прирост среднего очищенной группы B к группе A\n",
    "'{0:.3f}'.format(sampleBFiltered.mean()/sampleAFiltered.mean()-1)"
   ]
  },
  {
   "cell_type": "markdown",
   "metadata": {},
   "source": [
    "Относительный прирост среднего группы B к группе А в \"сырых\" данных составлял 13.8 %\n",
    "В очищенных данных 17.3 %"
   ]
  },
  {
   "cell_type": "markdown",
   "metadata": {},
   "source": [
    "13. Статистическая значимость различий в среднем чеке заказа между группами по «очищенным» данным"
   ]
  },
  {
   "cell_type": "markdown",
   "metadata": {},
   "source": [
    "Проверка гипотез будет осуществляться на основе \"очищенных\" данных"
   ]
  },
  {
   "cell_type": "markdown",
   "metadata": {},
   "source": [
    "H0 : В сумме среднего чека между группами нет статистически значимых различий\n",
    "\n",
    "H1 : В сумме среднего чека между группами есть статистически значимые различия\n",
    "\n",
    "Уровень значимости alpha = 0.05\n",
    "\n",
    "Для проверки используется критерий Манна - Уитни"
   ]
  },
  {
   "cell_type": "code",
   "execution_count": 50,
   "metadata": {},
   "outputs": [
    {
     "data": {
      "text/plain": [
       "'0.738'"
      ]
     },
     "execution_count": 50,
     "metadata": {},
     "output_type": "execute_result"
    }
   ],
   "source": [
    "# p-value для сравнения средних чеков между очищенными группами\n",
    "pvalue3 = '{0:.3f}'.format(st.mannwhitneyu(orders[np.logical_and(orders['group'] == 'A',\\\n",
    "np.logical_not(orders['userId'].isin(abnormalUsers)),)]['revenue'],orders[np.logical_and(orders['group'] == 'B',\\\n",
    "np.logical_not(orders['userId'].isin(abnormalUsers)),)]['revenue'],)[1])\n",
    "pvalue3"
   ]
  },
  {
   "cell_type": "markdown",
   "metadata": {},
   "source": [
    "p- value больше уровня значимости 0.05. Это значит что в среднем чеке между группами нет статистически значимых различий.\n",
    "\n",
    "Нулевую гипотезу не отвергаем. В \"сырых\" данных этот показатель составлял 0.729"
   ]
  },
  {
   "cell_type": "code",
   "execution_count": 51,
   "metadata": {},
   "outputs": [
    {
     "data": {
      "text/plain": [
       "'-0.020'"
      ]
     },
     "execution_count": 51,
     "metadata": {},
     "output_type": "execute_result"
    }
   ],
   "source": [
    "# относительный прирост среднего чека очищенной группы B к группе A\n",
    "\"{0:.3f}\".format(orders[np.logical_and(orders['group'] == 'B',np.logical_not(orders['userId'].isin(abnormalUsers)),)]\\\n",
    "['revenue'].mean()/ orders[np.logical_and(orders['group'] == 'A',np.logical_not(orders['userId'].isin(abnormalUsers)),)]\\\n",
    "['revenue'].mean()- 1)"
   ]
  },
  {
   "cell_type": "markdown",
   "metadata": {},
   "source": [
    "Относительный прирост среднего группы B к группе А составил -0.2 %, хотя в сырых данных этот показатель составлял 25.9 %.\n",
    "После фильтрации данных и сключения аномалий все становится на свои места . И прирост несщественный и значение\n",
    "p-value говорит нам о том что нет статистически значимых различий между группами"
   ]
  },
  {
   "cell_type": "markdown",
   "metadata": {},
   "source": [
    "14. По результатам теста можно сказать что по такому показателю как средний чек нет статистически значим раздичий\n",
    "и группы A и B показывают схожие результаты. Это видно и по графику куда входят все данные, включая аномалии, график колеблится\n",
    "то вверх то вниз, причиной этому как раз служат аномалии.\n",
    "Однако по среднему количеству заказов группа B показывает преимущество над группой A. Это видно и по графикам и после\n",
    "нахождения p-value и прироста группы B над A как в сырых данных так и очищенных.\n",
    "Иходя из этого считаю что тест можно остановить и зафиксировать победу одной группы над другой.\n",
    "По такой важной метрике как среднее количество заказов группы B побеждает.\n",
    "\n",
    "Что касается заключения по первой части проекта тут мы видим как один параметр может поалиять\n",
    "на общую оценку ICE или RICE. Применяя фреймворк RICE больший приоритет получила гипотеза 'Добавить форму подписки на все основные страницы, чтобы собрать базу клиентов для email-рассылок'. Так как у нее показатель reach, то есть охват имеет максимальный балл - 10.\n",
    "Гипотеза под номеров 8: 'Запустить акцию, дающую скидку на товар в день рождения' опустилась в середину списка, так как у нее показатель reach минимальный и составляет - 1. Большую важность тут составляет правильное распределение баллов\n",
    "Reach, Impact, Confidence, Efforts\n"
   ]
  },
  {
   "cell_type": "code",
   "execution_count": null,
   "metadata": {},
   "outputs": [],
   "source": []
  }
 ],
 "metadata": {
  "ExecuteTimeLog": [
   {
    "duration": 570,
    "start_time": "2023-05-12T12:58:01.660Z"
   },
   {
    "duration": 35,
    "start_time": "2023-05-12T12:58:32.143Z"
   },
   {
    "duration": 33,
    "start_time": "2023-05-12T12:58:44.808Z"
   },
   {
    "duration": 38,
    "start_time": "2023-05-12T12:59:01.541Z"
   },
   {
    "duration": 34,
    "start_time": "2023-05-12T12:59:12.214Z"
   },
   {
    "duration": 32,
    "start_time": "2023-05-12T13:00:47.694Z"
   },
   {
    "duration": 32,
    "start_time": "2023-05-12T13:01:09.296Z"
   },
   {
    "duration": 126,
    "start_time": "2023-05-12T13:01:29.099Z"
   },
   {
    "duration": 31,
    "start_time": "2023-05-12T13:02:22.909Z"
   },
   {
    "duration": 36,
    "start_time": "2023-05-12T13:28:21.690Z"
   },
   {
    "duration": 2252,
    "start_time": "2023-05-12T13:34:16.792Z"
   },
   {
    "duration": 7,
    "start_time": "2023-05-12T13:34:23.741Z"
   },
   {
    "duration": 13,
    "start_time": "2023-05-12T13:35:33.697Z"
   },
   {
    "duration": 59,
    "start_time": "2023-05-12T13:35:52.517Z"
   },
   {
    "duration": 8,
    "start_time": "2023-05-12T13:36:02.118Z"
   },
   {
    "duration": 5,
    "start_time": "2023-05-12T13:36:49.492Z"
   },
   {
    "duration": 6,
    "start_time": "2023-05-12T13:37:15.710Z"
   },
   {
    "duration": 5,
    "start_time": "2023-05-12T13:40:12.948Z"
   },
   {
    "duration": 4,
    "start_time": "2023-05-12T13:40:31.212Z"
   },
   {
    "duration": 14,
    "start_time": "2023-05-12T13:40:38.203Z"
   },
   {
    "duration": 10,
    "start_time": "2023-05-12T13:41:16.929Z"
   },
   {
    "duration": 13,
    "start_time": "2023-05-12T13:41:41.132Z"
   },
   {
    "duration": 12,
    "start_time": "2023-05-12T13:41:55.532Z"
   },
   {
    "duration": 11,
    "start_time": "2023-05-12T13:42:15.531Z"
   },
   {
    "duration": 61,
    "start_time": "2023-05-12T13:42:23.960Z"
   },
   {
    "duration": 6,
    "start_time": "2023-05-12T13:42:24.144Z"
   },
   {
    "duration": 5,
    "start_time": "2023-05-12T13:42:25.739Z"
   },
   {
    "duration": 9,
    "start_time": "2023-05-12T13:42:42.400Z"
   },
   {
    "duration": 16,
    "start_time": "2023-05-12T13:42:59.360Z"
   },
   {
    "duration": 10,
    "start_time": "2023-05-12T13:44:39.410Z"
   },
   {
    "duration": 7,
    "start_time": "2023-05-12T13:47:31.645Z"
   },
   {
    "duration": 14,
    "start_time": "2023-05-12T13:47:40.006Z"
   },
   {
    "duration": 21,
    "start_time": "2023-05-12T13:48:49.037Z"
   },
   {
    "duration": 23,
    "start_time": "2023-05-12T13:49:19.237Z"
   },
   {
    "duration": 23,
    "start_time": "2023-05-12T13:51:48.343Z"
   },
   {
    "duration": 21,
    "start_time": "2023-05-12T13:51:57.950Z"
   },
   {
    "duration": 22,
    "start_time": "2023-05-12T13:52:14.785Z"
   },
   {
    "duration": 15,
    "start_time": "2023-05-12T13:53:19.451Z"
   },
   {
    "duration": 8,
    "start_time": "2023-05-12T13:53:51.194Z"
   },
   {
    "duration": 21,
    "start_time": "2023-05-12T13:54:00.548Z"
   },
   {
    "duration": 14,
    "start_time": "2023-05-12T13:57:52.816Z"
   },
   {
    "duration": 15,
    "start_time": "2023-05-12T13:59:33.344Z"
   },
   {
    "duration": 19,
    "start_time": "2023-05-12T14:00:24.060Z"
   },
   {
    "duration": 17,
    "start_time": "2023-05-12T14:02:55.810Z"
   },
   {
    "duration": 16,
    "start_time": "2023-05-12T14:05:25.642Z"
   },
   {
    "duration": 1299,
    "start_time": "2023-05-12T14:06:18.381Z"
   },
   {
    "duration": 6,
    "start_time": "2023-05-12T14:06:19.683Z"
   },
   {
    "duration": 20,
    "start_time": "2023-05-12T14:06:19.690Z"
   },
   {
    "duration": 33,
    "start_time": "2023-05-12T14:06:19.712Z"
   },
   {
    "duration": 26,
    "start_time": "2023-05-12T14:06:19.748Z"
   },
   {
    "duration": 115,
    "start_time": "2023-05-12T14:15:32.285Z"
   },
   {
    "duration": 56,
    "start_time": "2023-05-12T14:18:55.095Z"
   },
   {
    "duration": 57,
    "start_time": "2023-05-12T14:19:23.943Z"
   },
   {
    "duration": 7,
    "start_time": "2023-05-12T14:19:46.621Z"
   },
   {
    "duration": 8,
    "start_time": "2023-05-12T14:20:42.617Z"
   },
   {
    "duration": 7,
    "start_time": "2023-05-12T14:21:09.628Z"
   },
   {
    "duration": 9,
    "start_time": "2023-05-12T14:21:36.031Z"
   },
   {
    "duration": 89,
    "start_time": "2023-05-12T14:22:16.288Z"
   },
   {
    "duration": 9,
    "start_time": "2023-05-12T14:23:38.454Z"
   },
   {
    "duration": 7,
    "start_time": "2023-05-12T14:24:18.153Z"
   },
   {
    "duration": 7,
    "start_time": "2023-05-12T14:24:34.378Z"
   },
   {
    "duration": 7,
    "start_time": "2023-05-12T14:24:35.882Z"
   },
   {
    "duration": 3,
    "start_time": "2023-05-12T15:27:44.157Z"
   },
   {
    "duration": 4,
    "start_time": "2023-05-12T15:27:51.749Z"
   },
   {
    "duration": 14,
    "start_time": "2023-05-12T15:28:13.396Z"
   },
   {
    "duration": 1294,
    "start_time": "2023-05-12T15:28:36.810Z"
   },
   {
    "duration": 5,
    "start_time": "2023-05-12T15:28:38.106Z"
   },
   {
    "duration": 20,
    "start_time": "2023-05-12T15:28:38.112Z"
   },
   {
    "duration": 16,
    "start_time": "2023-05-12T15:28:38.134Z"
   },
   {
    "duration": 15,
    "start_time": "2023-05-12T15:28:38.152Z"
   },
   {
    "duration": 51,
    "start_time": "2023-05-12T15:28:38.172Z"
   },
   {
    "duration": 5,
    "start_time": "2023-05-12T15:28:38.225Z"
   },
   {
    "duration": 25,
    "start_time": "2023-05-12T15:28:38.232Z"
   },
   {
    "duration": 25,
    "start_time": "2023-05-12T15:28:38.258Z"
   },
   {
    "duration": 39,
    "start_time": "2023-05-12T15:28:38.285Z"
   },
   {
    "duration": 29,
    "start_time": "2023-05-12T15:28:38.326Z"
   },
   {
    "duration": 7,
    "start_time": "2023-05-12T15:28:38.357Z"
   },
   {
    "duration": 36,
    "start_time": "2023-05-12T15:28:38.366Z"
   },
   {
    "duration": 4,
    "start_time": "2023-05-12T15:29:55.204Z"
   },
   {
    "duration": 14,
    "start_time": "2023-05-12T15:29:56.326Z"
   },
   {
    "duration": 7,
    "start_time": "2023-05-12T15:30:21.359Z"
   },
   {
    "duration": 7,
    "start_time": "2023-05-12T15:30:22.240Z"
   },
   {
    "duration": 33,
    "start_time": "2023-05-12T15:30:23.109Z"
   },
   {
    "duration": 6,
    "start_time": "2023-05-12T15:30:26.485Z"
   },
   {
    "duration": 6,
    "start_time": "2023-05-12T15:30:26.741Z"
   },
   {
    "duration": 58,
    "start_time": "2023-05-12T15:46:47.236Z"
   },
   {
    "duration": 1237,
    "start_time": "2023-05-12T15:47:12.902Z"
   },
   {
    "duration": 4,
    "start_time": "2023-05-12T15:47:14.142Z"
   },
   {
    "duration": 19,
    "start_time": "2023-05-12T15:47:14.148Z"
   },
   {
    "duration": 16,
    "start_time": "2023-05-12T15:47:14.169Z"
   },
   {
    "duration": 14,
    "start_time": "2023-05-12T15:47:14.187Z"
   },
   {
    "duration": 65,
    "start_time": "2023-05-12T15:47:14.203Z"
   },
   {
    "duration": 4,
    "start_time": "2023-05-12T15:47:14.269Z"
   },
   {
    "duration": 56,
    "start_time": "2023-05-12T15:47:14.276Z"
   },
   {
    "duration": 0,
    "start_time": "2023-05-12T15:47:14.333Z"
   },
   {
    "duration": 0,
    "start_time": "2023-05-12T15:47:14.335Z"
   },
   {
    "duration": 0,
    "start_time": "2023-05-12T15:47:14.337Z"
   },
   {
    "duration": 0,
    "start_time": "2023-05-12T15:47:14.338Z"
   },
   {
    "duration": 0,
    "start_time": "2023-05-12T15:47:14.340Z"
   },
   {
    "duration": 57,
    "start_time": "2023-05-12T15:48:25.117Z"
   },
   {
    "duration": 311,
    "start_time": "2023-05-12T16:06:59.725Z"
   },
   {
    "duration": 1411,
    "start_time": "2023-05-12T16:07:20.592Z"
   },
   {
    "duration": 5,
    "start_time": "2023-05-12T16:07:22.005Z"
   },
   {
    "duration": 17,
    "start_time": "2023-05-12T16:07:22.012Z"
   },
   {
    "duration": 17,
    "start_time": "2023-05-12T16:07:22.031Z"
   },
   {
    "duration": 19,
    "start_time": "2023-05-12T16:07:22.051Z"
   },
   {
    "duration": 50,
    "start_time": "2023-05-12T16:07:22.072Z"
   },
   {
    "duration": 4,
    "start_time": "2023-05-12T16:07:22.124Z"
   },
   {
    "duration": 420,
    "start_time": "2023-05-12T16:07:22.130Z"
   },
   {
    "duration": 0,
    "start_time": "2023-05-12T16:07:22.551Z"
   },
   {
    "duration": 0,
    "start_time": "2023-05-12T16:07:22.553Z"
   },
   {
    "duration": 0,
    "start_time": "2023-05-12T16:07:22.554Z"
   },
   {
    "duration": 0,
    "start_time": "2023-05-12T16:07:22.555Z"
   },
   {
    "duration": 0,
    "start_time": "2023-05-12T16:07:22.556Z"
   },
   {
    "duration": 14,
    "start_time": "2023-05-12T16:11:37.147Z"
   },
   {
    "duration": 17,
    "start_time": "2023-05-12T16:12:10.695Z"
   },
   {
    "duration": 13,
    "start_time": "2023-05-12T16:12:31.983Z"
   },
   {
    "duration": 13,
    "start_time": "2023-05-12T16:12:36.153Z"
   },
   {
    "duration": 11,
    "start_time": "2023-05-12T16:13:07.112Z"
   },
   {
    "duration": 6,
    "start_time": "2023-05-12T16:14:48.299Z"
   },
   {
    "duration": 5,
    "start_time": "2023-05-12T16:15:09.822Z"
   },
   {
    "duration": 8,
    "start_time": "2023-05-12T16:15:10.495Z"
   },
   {
    "duration": 9,
    "start_time": "2023-05-12T16:15:12.400Z"
   },
   {
    "duration": 33,
    "start_time": "2023-05-12T16:15:14.060Z"
   },
   {
    "duration": 583,
    "start_time": "2023-05-12T16:16:16.760Z"
   },
   {
    "duration": 6,
    "start_time": "2023-05-12T16:16:52.316Z"
   },
   {
    "duration": 14,
    "start_time": "2023-05-12T16:17:25.773Z"
   },
   {
    "duration": 6,
    "start_time": "2023-05-12T16:17:32.113Z"
   },
   {
    "duration": 62,
    "start_time": "2023-05-12T16:28:59.145Z"
   },
   {
    "duration": 62,
    "start_time": "2023-05-12T16:29:31.637Z"
   },
   {
    "duration": 335,
    "start_time": "2023-05-12T16:29:50.724Z"
   },
   {
    "duration": 293,
    "start_time": "2023-05-12T16:37:56.732Z"
   },
   {
    "duration": 176,
    "start_time": "2023-05-12T16:38:48.280Z"
   },
   {
    "duration": 202,
    "start_time": "2023-05-12T16:39:04.832Z"
   },
   {
    "duration": 62,
    "start_time": "2023-05-12T16:42:55.036Z"
   },
   {
    "duration": 196,
    "start_time": "2023-05-12T16:43:09.301Z"
   },
   {
    "duration": 67,
    "start_time": "2023-05-12T16:43:25.475Z"
   },
   {
    "duration": 53,
    "start_time": "2023-05-12T16:43:38.812Z"
   },
   {
    "duration": 216,
    "start_time": "2023-05-12T16:43:50.268Z"
   },
   {
    "duration": 204,
    "start_time": "2023-05-12T16:44:08.742Z"
   },
   {
    "duration": 215,
    "start_time": "2023-05-12T16:44:33.656Z"
   },
   {
    "duration": 1201,
    "start_time": "2023-05-13T12:14:43.025Z"
   },
   {
    "duration": 5,
    "start_time": "2023-05-13T12:14:44.228Z"
   },
   {
    "duration": 11,
    "start_time": "2023-05-13T12:14:44.234Z"
   },
   {
    "duration": 12,
    "start_time": "2023-05-13T12:14:44.247Z"
   },
   {
    "duration": 11,
    "start_time": "2023-05-13T12:14:44.844Z"
   },
   {
    "duration": 85,
    "start_time": "2023-05-13T12:14:45.701Z"
   },
   {
    "duration": 4,
    "start_time": "2023-05-13T12:14:45.914Z"
   },
   {
    "duration": 16,
    "start_time": "2023-05-13T12:14:46.138Z"
   },
   {
    "duration": 6,
    "start_time": "2023-05-13T12:14:46.330Z"
   },
   {
    "duration": 6,
    "start_time": "2023-05-13T12:14:46.542Z"
   },
   {
    "duration": 8,
    "start_time": "2023-05-13T12:14:46.792Z"
   },
   {
    "duration": 72,
    "start_time": "2023-05-13T12:14:47.036Z"
   },
   {
    "duration": 4,
    "start_time": "2023-05-13T12:14:47.260Z"
   },
   {
    "duration": 5,
    "start_time": "2023-05-13T12:14:47.504Z"
   },
   {
    "duration": 6,
    "start_time": "2023-05-13T12:14:47.704Z"
   },
   {
    "duration": 6,
    "start_time": "2023-05-13T12:14:47.924Z"
   },
   {
    "duration": 275,
    "start_time": "2023-05-13T12:14:49.163Z"
   },
   {
    "duration": 251,
    "start_time": "2023-05-13T12:14:50.935Z"
   },
   {
    "duration": 193,
    "start_time": "2023-05-13T12:18:42.893Z"
   },
   {
    "duration": 200,
    "start_time": "2023-05-13T12:19:18.273Z"
   },
   {
    "duration": 188,
    "start_time": "2023-05-13T12:19:33.846Z"
   },
   {
    "duration": 161,
    "start_time": "2023-05-13T12:31:45.354Z"
   },
   {
    "duration": 227,
    "start_time": "2023-05-13T12:32:07.244Z"
   },
   {
    "duration": 147,
    "start_time": "2023-05-13T12:32:31.975Z"
   },
   {
    "duration": 177,
    "start_time": "2023-05-13T12:32:48.761Z"
   },
   {
    "duration": 88,
    "start_time": "2023-05-13T12:37:57.279Z"
   },
   {
    "duration": 254,
    "start_time": "2023-05-13T12:38:41.652Z"
   },
   {
    "duration": 83,
    "start_time": "2023-05-13T12:42:11.071Z"
   },
   {
    "duration": 74,
    "start_time": "2023-05-13T12:42:24.454Z"
   },
   {
    "duration": 74,
    "start_time": "2023-05-13T12:42:32.162Z"
   },
   {
    "duration": 5,
    "start_time": "2023-05-13T12:43:49.786Z"
   },
   {
    "duration": 70,
    "start_time": "2023-05-13T12:44:05.724Z"
   },
   {
    "duration": 76,
    "start_time": "2023-05-13T12:44:18.570Z"
   },
   {
    "duration": 72,
    "start_time": "2023-05-13T12:44:25.646Z"
   },
   {
    "duration": 6,
    "start_time": "2023-05-13T12:44:47.098Z"
   },
   {
    "duration": 13,
    "start_time": "2023-05-13T12:45:00.044Z"
   },
   {
    "duration": 11,
    "start_time": "2023-05-13T12:45:15.260Z"
   },
   {
    "duration": 138,
    "start_time": "2023-05-13T12:48:07.330Z"
   },
   {
    "duration": 320,
    "start_time": "2023-05-13T12:48:56.321Z"
   },
   {
    "duration": 7,
    "start_time": "2023-05-13T12:59:21.318Z"
   },
   {
    "duration": 4,
    "start_time": "2023-05-13T13:01:28.656Z"
   },
   {
    "duration": 11,
    "start_time": "2023-05-13T13:01:38.994Z"
   },
   {
    "duration": 84,
    "start_time": "2023-05-13T13:04:39.560Z"
   },
   {
    "duration": 10,
    "start_time": "2023-05-13T13:06:11.713Z"
   },
   {
    "duration": 10,
    "start_time": "2023-05-13T13:06:44.909Z"
   },
   {
    "duration": 10,
    "start_time": "2023-05-13T13:07:01.665Z"
   },
   {
    "duration": 13,
    "start_time": "2023-05-13T13:08:14.610Z"
   },
   {
    "duration": 10,
    "start_time": "2023-05-13T13:08:27.098Z"
   },
   {
    "duration": 5,
    "start_time": "2023-05-13T13:09:16.223Z"
   },
   {
    "duration": 8,
    "start_time": "2023-05-13T13:11:14.622Z"
   },
   {
    "duration": 206,
    "start_time": "2023-05-13T13:12:54.508Z"
   },
   {
    "duration": 12,
    "start_time": "2023-05-13T13:24:28.127Z"
   },
   {
    "duration": 1106,
    "start_time": "2023-05-13T13:30:27.449Z"
   },
   {
    "duration": 252,
    "start_time": "2023-05-13T13:31:29.739Z"
   },
   {
    "duration": 212,
    "start_time": "2023-05-13T13:31:57.560Z"
   },
   {
    "duration": 232,
    "start_time": "2023-05-13T13:36:57.761Z"
   },
   {
    "duration": 239,
    "start_time": "2023-05-13T13:37:35.056Z"
   },
   {
    "duration": 305,
    "start_time": "2023-05-13T13:37:48.221Z"
   },
   {
    "duration": 215,
    "start_time": "2023-05-13T13:38:30.733Z"
   },
   {
    "duration": 283,
    "start_time": "2023-05-13T13:39:06.717Z"
   },
   {
    "duration": 174,
    "start_time": "2023-05-13T13:39:56.792Z"
   },
   {
    "duration": 182,
    "start_time": "2023-05-13T13:40:30.447Z"
   },
   {
    "duration": 1045,
    "start_time": "2023-05-13T14:02:29.017Z"
   },
   {
    "duration": 4,
    "start_time": "2023-05-13T14:02:30.064Z"
   },
   {
    "duration": 24,
    "start_time": "2023-05-13T14:02:30.069Z"
   },
   {
    "duration": 36,
    "start_time": "2023-05-13T14:02:30.095Z"
   },
   {
    "duration": 24,
    "start_time": "2023-05-13T14:02:30.133Z"
   },
   {
    "duration": 70,
    "start_time": "2023-05-13T14:02:30.159Z"
   },
   {
    "duration": 3,
    "start_time": "2023-05-13T14:02:30.231Z"
   },
   {
    "duration": 32,
    "start_time": "2023-05-13T14:02:30.236Z"
   },
   {
    "duration": 21,
    "start_time": "2023-05-13T14:02:30.269Z"
   },
   {
    "duration": 24,
    "start_time": "2023-05-13T14:02:30.291Z"
   },
   {
    "duration": 33,
    "start_time": "2023-05-13T14:02:30.316Z"
   },
   {
    "duration": 32,
    "start_time": "2023-05-13T14:02:30.351Z"
   },
   {
    "duration": 19,
    "start_time": "2023-05-13T14:02:30.385Z"
   },
   {
    "duration": 39,
    "start_time": "2023-05-13T14:02:30.406Z"
   },
   {
    "duration": 35,
    "start_time": "2023-05-13T14:02:30.447Z"
   },
   {
    "duration": 24,
    "start_time": "2023-05-13T14:02:30.484Z"
   },
   {
    "duration": 283,
    "start_time": "2023-05-13T14:02:30.509Z"
   },
   {
    "duration": 273,
    "start_time": "2023-05-13T14:02:30.794Z"
   },
   {
    "duration": 189,
    "start_time": "2023-05-13T14:02:31.068Z"
   },
   {
    "duration": 10,
    "start_time": "2023-05-13T14:02:31.259Z"
   },
   {
    "duration": 327,
    "start_time": "2023-05-13T14:02:31.271Z"
   },
   {
    "duration": 7,
    "start_time": "2023-05-13T14:02:31.606Z"
   },
   {
    "duration": 215,
    "start_time": "2023-05-13T14:02:31.614Z"
   },
   {
    "duration": 14,
    "start_time": "2023-05-13T14:02:31.830Z"
   },
   {
    "duration": 292,
    "start_time": "2023-05-13T14:02:31.846Z"
   },
   {
    "duration": 11,
    "start_time": "2023-05-13T14:03:14.416Z"
   },
   {
    "duration": 7,
    "start_time": "2023-05-13T14:05:10.283Z"
   },
   {
    "duration": 13,
    "start_time": "2023-05-13T14:05:21.626Z"
   },
   {
    "duration": 94,
    "start_time": "2023-05-13T14:06:15.528Z"
   },
   {
    "duration": 11,
    "start_time": "2023-05-13T14:06:42.629Z"
   },
   {
    "duration": 10,
    "start_time": "2023-05-13T14:07:02.694Z"
   },
   {
    "duration": 100,
    "start_time": "2023-05-13T14:07:44.686Z"
   },
   {
    "duration": 112,
    "start_time": "2023-05-13T14:08:09.927Z"
   },
   {
    "duration": 125,
    "start_time": "2023-05-13T14:08:45.716Z"
   },
   {
    "duration": 11,
    "start_time": "2023-05-13T14:09:07.241Z"
   },
   {
    "duration": 12,
    "start_time": "2023-05-13T14:09:18.512Z"
   },
   {
    "duration": 11,
    "start_time": "2023-05-13T14:09:59.926Z"
   },
   {
    "duration": 10,
    "start_time": "2023-05-13T14:10:34.569Z"
   },
   {
    "duration": 5,
    "start_time": "2023-05-13T14:11:10.569Z"
   },
   {
    "duration": 4,
    "start_time": "2023-05-13T14:16:20.429Z"
   },
   {
    "duration": 11,
    "start_time": "2023-05-13T14:22:27.476Z"
   },
   {
    "duration": 12,
    "start_time": "2023-05-13T14:25:12.472Z"
   },
   {
    "duration": 187,
    "start_time": "2023-05-13T14:25:57.495Z"
   },
   {
    "duration": 113,
    "start_time": "2023-05-13T14:26:18.133Z"
   },
   {
    "duration": 220,
    "start_time": "2023-05-13T14:27:37.652Z"
   },
   {
    "duration": 114,
    "start_time": "2023-05-13T14:27:59.570Z"
   },
   {
    "duration": 125,
    "start_time": "2023-05-13T14:28:43.255Z"
   },
   {
    "duration": 131,
    "start_time": "2023-05-13T14:28:57.800Z"
   },
   {
    "duration": 174,
    "start_time": "2023-05-13T14:29:13.892Z"
   },
   {
    "duration": 164,
    "start_time": "2023-05-13T14:34:40.042Z"
   },
   {
    "duration": 137,
    "start_time": "2023-05-13T14:35:03.422Z"
   },
   {
    "duration": 138,
    "start_time": "2023-05-13T14:35:10.374Z"
   },
   {
    "duration": 159,
    "start_time": "2023-05-13T14:37:30.390Z"
   },
   {
    "duration": 150,
    "start_time": "2023-05-13T14:38:04.291Z"
   },
   {
    "duration": 97,
    "start_time": "2023-05-13T14:38:21.023Z"
   },
   {
    "duration": 243,
    "start_time": "2023-05-13T14:39:11.050Z"
   },
   {
    "duration": 303,
    "start_time": "2023-05-13T14:39:26.437Z"
   },
   {
    "duration": 168,
    "start_time": "2023-05-13T14:40:03.818Z"
   },
   {
    "duration": 142,
    "start_time": "2023-05-13T14:40:26.402Z"
   },
   {
    "duration": 5,
    "start_time": "2023-05-13T14:42:04.627Z"
   },
   {
    "duration": 4,
    "start_time": "2023-05-13T14:42:45.685Z"
   },
   {
    "duration": 72,
    "start_time": "2023-05-13T14:46:27.398Z"
   },
   {
    "duration": 200,
    "start_time": "2023-05-13T15:17:01.044Z"
   },
   {
    "duration": 122,
    "start_time": "2023-05-13T15:18:35.761Z"
   },
   {
    "duration": 108,
    "start_time": "2023-05-13T15:19:46.918Z"
   },
   {
    "duration": 5,
    "start_time": "2023-05-13T15:20:45.757Z"
   },
   {
    "duration": 5,
    "start_time": "2023-05-13T15:20:59.252Z"
   },
   {
    "duration": 4,
    "start_time": "2023-05-13T15:22:33.286Z"
   },
   {
    "duration": 8,
    "start_time": "2023-05-13T15:23:38.196Z"
   },
   {
    "duration": 1046,
    "start_time": "2023-05-13T15:24:04.404Z"
   },
   {
    "duration": 4,
    "start_time": "2023-05-13T15:24:05.452Z"
   },
   {
    "duration": 24,
    "start_time": "2023-05-13T15:24:05.458Z"
   },
   {
    "duration": 24,
    "start_time": "2023-05-13T15:24:05.485Z"
   },
   {
    "duration": 16,
    "start_time": "2023-05-13T15:24:05.511Z"
   },
   {
    "duration": 42,
    "start_time": "2023-05-13T15:24:05.528Z"
   },
   {
    "duration": 3,
    "start_time": "2023-05-13T15:24:05.572Z"
   },
   {
    "duration": 12,
    "start_time": "2023-05-13T15:24:05.577Z"
   },
   {
    "duration": 15,
    "start_time": "2023-05-13T15:24:05.591Z"
   },
   {
    "duration": 23,
    "start_time": "2023-05-13T15:24:05.609Z"
   },
   {
    "duration": 7,
    "start_time": "2023-05-13T15:24:05.634Z"
   },
   {
    "duration": 34,
    "start_time": "2023-05-13T15:24:05.642Z"
   },
   {
    "duration": 4,
    "start_time": "2023-05-13T15:24:05.677Z"
   },
   {
    "duration": 24,
    "start_time": "2023-05-13T15:24:05.682Z"
   },
   {
    "duration": 14,
    "start_time": "2023-05-13T15:24:05.707Z"
   },
   {
    "duration": 45,
    "start_time": "2023-05-13T15:24:05.722Z"
   },
   {
    "duration": 267,
    "start_time": "2023-05-13T15:24:05.768Z"
   },
   {
    "duration": 253,
    "start_time": "2023-05-13T15:24:06.036Z"
   },
   {
    "duration": 188,
    "start_time": "2023-05-13T15:24:06.291Z"
   },
   {
    "duration": 12,
    "start_time": "2023-05-13T15:24:06.481Z"
   },
   {
    "duration": 317,
    "start_time": "2023-05-13T15:24:06.495Z"
   },
   {
    "duration": 8,
    "start_time": "2023-05-13T15:24:06.815Z"
   },
   {
    "duration": 209,
    "start_time": "2023-05-13T15:24:06.824Z"
   },
   {
    "duration": 13,
    "start_time": "2023-05-13T15:24:07.034Z"
   },
   {
    "duration": 252,
    "start_time": "2023-05-13T15:24:07.048Z"
   },
   {
    "duration": 12,
    "start_time": "2023-05-13T15:24:07.301Z"
   },
   {
    "duration": 132,
    "start_time": "2023-05-13T15:24:07.315Z"
   },
   {
    "duration": 5,
    "start_time": "2023-05-13T15:24:07.450Z"
   },
   {
    "duration": 10,
    "start_time": "2023-05-13T15:24:07.456Z"
   },
   {
    "duration": 158,
    "start_time": "2023-05-13T15:24:07.467Z"
   },
   {
    "duration": 5,
    "start_time": "2023-05-13T15:24:07.626Z"
   },
   {
    "duration": 212,
    "start_time": "2023-05-13T15:24:07.632Z"
   },
   {
    "duration": 132,
    "start_time": "2023-05-13T15:24:07.845Z"
   },
   {
    "duration": 4,
    "start_time": "2023-05-13T15:24:07.979Z"
   },
   {
    "duration": 10,
    "start_time": "2023-05-13T15:24:07.984Z"
   },
   {
    "duration": 89,
    "start_time": "2023-05-13T15:24:07.995Z"
   },
   {
    "duration": 20,
    "start_time": "2023-05-13T15:24:36.891Z"
   },
   {
    "duration": 25,
    "start_time": "2023-05-13T15:25:32.619Z"
   },
   {
    "duration": 5,
    "start_time": "2023-05-13T16:17:38.053Z"
   },
   {
    "duration": 18,
    "start_time": "2023-05-13T16:19:03.469Z"
   },
   {
    "duration": 8,
    "start_time": "2023-05-13T16:31:14.636Z"
   },
   {
    "duration": 8,
    "start_time": "2023-05-13T16:32:35.167Z"
   },
   {
    "duration": 10,
    "start_time": "2023-05-13T16:34:44.019Z"
   },
   {
    "duration": 6,
    "start_time": "2023-05-13T16:39:00.140Z"
   },
   {
    "duration": 10,
    "start_time": "2023-05-13T16:52:35.939Z"
   },
   {
    "duration": 10,
    "start_time": "2023-05-13T16:52:52.102Z"
   },
   {
    "duration": 9,
    "start_time": "2023-05-13T19:36:52.099Z"
   },
   {
    "duration": 5,
    "start_time": "2023-05-13T19:42:19.946Z"
   },
   {
    "duration": 5,
    "start_time": "2023-05-13T19:42:34.662Z"
   },
   {
    "duration": 5,
    "start_time": "2023-05-13T19:44:03.556Z"
   },
   {
    "duration": 19,
    "start_time": "2023-05-13T19:45:28.989Z"
   },
   {
    "duration": 18,
    "start_time": "2023-05-13T19:46:33.381Z"
   },
   {
    "duration": 17,
    "start_time": "2023-05-13T19:47:29.493Z"
   },
   {
    "duration": 4,
    "start_time": "2023-05-13T19:50:46.989Z"
   },
   {
    "duration": 10,
    "start_time": "2023-05-13T19:58:09.497Z"
   },
   {
    "duration": 2,
    "start_time": "2023-05-13T20:01:45.527Z"
   },
   {
    "duration": 8,
    "start_time": "2023-05-13T20:04:39.703Z"
   },
   {
    "duration": 27,
    "start_time": "2023-05-13T20:57:58.442Z"
   },
   {
    "duration": 1245,
    "start_time": "2023-05-13T23:41:44.352Z"
   },
   {
    "duration": 5,
    "start_time": "2023-05-13T23:41:45.599Z"
   },
   {
    "duration": 11,
    "start_time": "2023-05-13T23:41:45.606Z"
   },
   {
    "duration": 19,
    "start_time": "2023-05-13T23:41:45.619Z"
   },
   {
    "duration": 13,
    "start_time": "2023-05-13T23:41:45.640Z"
   },
   {
    "duration": 81,
    "start_time": "2023-05-13T23:41:45.654Z"
   },
   {
    "duration": 4,
    "start_time": "2023-05-13T23:41:45.736Z"
   },
   {
    "duration": 35,
    "start_time": "2023-05-13T23:41:45.743Z"
   },
   {
    "duration": 23,
    "start_time": "2023-05-13T23:41:45.780Z"
   },
   {
    "duration": 43,
    "start_time": "2023-05-13T23:41:45.806Z"
   },
   {
    "duration": 10,
    "start_time": "2023-05-13T23:41:45.851Z"
   },
   {
    "duration": 31,
    "start_time": "2023-05-13T23:41:45.863Z"
   },
   {
    "duration": 5,
    "start_time": "2023-05-13T23:41:45.896Z"
   },
   {
    "duration": 15,
    "start_time": "2023-05-13T23:41:45.902Z"
   },
   {
    "duration": 15,
    "start_time": "2023-05-13T23:41:45.919Z"
   },
   {
    "duration": 20,
    "start_time": "2023-05-13T23:41:45.936Z"
   },
   {
    "duration": 306,
    "start_time": "2023-05-13T23:41:45.957Z"
   },
   {
    "duration": 313,
    "start_time": "2023-05-13T23:41:46.272Z"
   },
   {
    "duration": 227,
    "start_time": "2023-05-13T23:41:46.587Z"
   },
   {
    "duration": 13,
    "start_time": "2023-05-13T23:41:46.816Z"
   },
   {
    "duration": 352,
    "start_time": "2023-05-13T23:41:46.830Z"
   },
   {
    "duration": 9,
    "start_time": "2023-05-13T23:41:47.184Z"
   },
   {
    "duration": 254,
    "start_time": "2023-05-13T23:41:47.195Z"
   },
   {
    "duration": 21,
    "start_time": "2023-05-13T23:41:47.451Z"
   },
   {
    "duration": 314,
    "start_time": "2023-05-13T23:41:47.474Z"
   },
   {
    "duration": 13,
    "start_time": "2023-05-13T23:41:47.791Z"
   },
   {
    "duration": 189,
    "start_time": "2023-05-13T23:41:47.805Z"
   },
   {
    "duration": 5,
    "start_time": "2023-05-13T23:41:47.998Z"
   },
   {
    "duration": 15,
    "start_time": "2023-05-13T23:41:48.005Z"
   },
   {
    "duration": 192,
    "start_time": "2023-05-13T23:41:48.022Z"
   },
   {
    "duration": 5,
    "start_time": "2023-05-13T23:41:48.216Z"
   },
   {
    "duration": 253,
    "start_time": "2023-05-13T23:41:48.222Z"
   },
   {
    "duration": 158,
    "start_time": "2023-05-13T23:41:48.477Z"
   },
   {
    "duration": 5,
    "start_time": "2023-05-13T23:41:48.637Z"
   },
   {
    "duration": 7,
    "start_time": "2023-05-13T23:41:48.644Z"
   },
   {
    "duration": 32,
    "start_time": "2023-05-13T23:41:48.653Z"
   },
   {
    "duration": 5,
    "start_time": "2023-05-13T23:41:48.687Z"
   },
   {
    "duration": 13,
    "start_time": "2023-05-13T23:41:48.693Z"
   },
   {
    "duration": 8,
    "start_time": "2023-05-13T23:41:48.708Z"
   },
   {
    "duration": 14,
    "start_time": "2023-05-13T23:41:48.718Z"
   },
   {
    "duration": 15,
    "start_time": "2023-05-13T23:41:48.734Z"
   },
   {
    "duration": 7,
    "start_time": "2023-05-13T23:41:48.771Z"
   },
   {
    "duration": 26,
    "start_time": "2023-05-13T23:41:48.780Z"
   },
   {
    "duration": 6,
    "start_time": "2023-05-13T23:41:48.808Z"
   },
   {
    "duration": 13,
    "start_time": "2023-05-13T23:41:48.816Z"
   },
   {
    "duration": 43,
    "start_time": "2023-05-13T23:41:48.830Z"
   },
   {
    "duration": 1324,
    "start_time": "2023-05-17T05:54:43.775Z"
   },
   {
    "duration": 4,
    "start_time": "2023-05-17T05:54:45.101Z"
   },
   {
    "duration": 8,
    "start_time": "2023-05-17T05:54:47.342Z"
   },
   {
    "duration": 7,
    "start_time": "2023-05-17T05:54:59.385Z"
   },
   {
    "duration": 11,
    "start_time": "2023-05-17T05:55:24.320Z"
   },
   {
    "duration": 94,
    "start_time": "2023-05-17T05:58:06.282Z"
   },
   {
    "duration": 12,
    "start_time": "2023-05-17T06:01:06.947Z"
   },
   {
    "duration": 11,
    "start_time": "2023-05-17T06:02:41.327Z"
   },
   {
    "duration": 8,
    "start_time": "2023-05-17T06:07:17.859Z"
   },
   {
    "duration": 13,
    "start_time": "2023-05-17T06:07:38.595Z"
   },
   {
    "duration": 85,
    "start_time": "2023-05-17T06:07:40.107Z"
   },
   {
    "duration": 4,
    "start_time": "2023-05-17T06:07:40.363Z"
   },
   {
    "duration": 12,
    "start_time": "2023-05-17T06:07:40.589Z"
   },
   {
    "duration": 4,
    "start_time": "2023-05-17T06:07:40.832Z"
   },
   {
    "duration": 6,
    "start_time": "2023-05-17T06:07:41.109Z"
   },
   {
    "duration": 6,
    "start_time": "2023-05-17T06:07:41.311Z"
   },
   {
    "duration": 79,
    "start_time": "2023-05-17T06:07:41.535Z"
   },
   {
    "duration": 4,
    "start_time": "2023-05-17T06:07:41.735Z"
   },
   {
    "duration": 4,
    "start_time": "2023-05-17T06:07:42.587Z"
   },
   {
    "duration": 5,
    "start_time": "2023-05-17T06:07:43.402Z"
   },
   {
    "duration": 6,
    "start_time": "2023-05-17T06:07:44.196Z"
   },
   {
    "duration": 7,
    "start_time": "2023-05-17T06:07:46.888Z"
   },
   {
    "duration": 4,
    "start_time": "2023-05-17T06:08:50.366Z"
   },
   {
    "duration": 5,
    "start_time": "2023-05-17T06:09:29.034Z"
   },
   {
    "duration": 3,
    "start_time": "2023-05-17T06:10:13.019Z"
   },
   {
    "duration": 77,
    "start_time": "2023-05-17T06:11:50.872Z"
   },
   {
    "duration": 10,
    "start_time": "2023-05-17T06:19:38.741Z"
   },
   {
    "duration": 260,
    "start_time": "2023-05-17T06:19:45.981Z"
   },
   {
    "duration": 286,
    "start_time": "2023-05-17T06:19:49.675Z"
   },
   {
    "duration": 216,
    "start_time": "2023-05-17T06:23:31.179Z"
   },
   {
    "duration": 205,
    "start_time": "2023-05-17T06:23:51.919Z"
   },
   {
    "duration": 210,
    "start_time": "2023-05-17T06:25:19.160Z"
   },
   {
    "duration": 209,
    "start_time": "2023-05-17T06:26:09.534Z"
   },
   {
    "duration": 214,
    "start_time": "2023-05-17T06:26:20.787Z"
   },
   {
    "duration": 201,
    "start_time": "2023-05-17T06:26:36.395Z"
   },
   {
    "duration": 229,
    "start_time": "2023-05-17T06:27:00.963Z"
   },
   {
    "duration": 317,
    "start_time": "2023-05-17T07:20:01.741Z"
   },
   {
    "duration": 13,
    "start_time": "2023-05-17T07:28:23.581Z"
   },
   {
    "duration": 11,
    "start_time": "2023-05-17T07:28:41.451Z"
   },
   {
    "duration": 394,
    "start_time": "2023-05-17T07:28:42.661Z"
   },
   {
    "duration": 9,
    "start_time": "2023-05-17T07:29:43.748Z"
   },
   {
    "duration": 309,
    "start_time": "2023-05-17T07:31:24.097Z"
   },
   {
    "duration": 12,
    "start_time": "2023-05-17T07:35:31.552Z"
   },
   {
    "duration": 187,
    "start_time": "2023-05-17T07:35:32.275Z"
   },
   {
    "duration": 10,
    "start_time": "2023-05-17T07:37:49.286Z"
   },
   {
    "duration": 150,
    "start_time": "2023-05-17T07:37:50.703Z"
   },
   {
    "duration": 104,
    "start_time": "2023-05-17T07:42:26.760Z"
   },
   {
    "duration": 153,
    "start_time": "2023-05-17T07:43:10.286Z"
   },
   {
    "duration": 148,
    "start_time": "2023-05-17T07:44:31.319Z"
   },
   {
    "duration": 5,
    "start_time": "2023-05-17T07:45:21.550Z"
   },
   {
    "duration": 14,
    "start_time": "2023-05-17T07:45:30.434Z"
   },
   {
    "duration": 11,
    "start_time": "2023-05-17T07:45:51.985Z"
   },
   {
    "duration": 147,
    "start_time": "2023-05-17T07:47:09.823Z"
   },
   {
    "duration": 169,
    "start_time": "2023-05-17T07:47:31.759Z"
   },
   {
    "duration": 187,
    "start_time": "2023-05-17T07:48:19.301Z"
   },
   {
    "duration": 185,
    "start_time": "2023-05-17T07:50:41.172Z"
   },
   {
    "duration": 4,
    "start_time": "2023-05-17T07:50:50.140Z"
   },
   {
    "duration": 207,
    "start_time": "2023-05-17T07:50:51.682Z"
   },
   {
    "duration": 10,
    "start_time": "2023-05-17T08:02:30.761Z"
   },
   {
    "duration": 5,
    "start_time": "2023-05-17T08:02:37.383Z"
   },
   {
    "duration": 226,
    "start_time": "2023-05-17T08:02:38.180Z"
   },
   {
    "duration": 129,
    "start_time": "2023-05-17T08:02:38.824Z"
   },
   {
    "duration": 5,
    "start_time": "2023-05-17T08:02:39.208Z"
   },
   {
    "duration": 5,
    "start_time": "2023-05-17T08:02:39.697Z"
   },
   {
    "duration": 22,
    "start_time": "2023-05-17T08:02:42.721Z"
   },
   {
    "duration": 5,
    "start_time": "2023-05-17T08:02:43.143Z"
   },
   {
    "duration": 9,
    "start_time": "2023-05-17T08:02:46.355Z"
   },
   {
    "duration": 9,
    "start_time": "2023-05-17T08:03:00.845Z"
   },
   {
    "duration": 11,
    "start_time": "2023-05-17T08:03:16.083Z"
   },
   {
    "duration": 5,
    "start_time": "2023-05-17T08:03:55.341Z"
   },
   {
    "duration": 5,
    "start_time": "2023-05-17T08:03:56.526Z"
   },
   {
    "duration": 24,
    "start_time": "2023-05-17T08:06:18.091Z"
   },
   {
    "duration": 4,
    "start_time": "2023-05-17T08:06:18.530Z"
   },
   {
    "duration": 9,
    "start_time": "2023-05-17T08:06:20.622Z"
   },
   {
    "duration": 7,
    "start_time": "2023-05-17T08:06:21.075Z"
   },
   {
    "duration": 10,
    "start_time": "2023-05-17T08:11:32.194Z"
   },
   {
    "duration": 10,
    "start_time": "2023-05-17T08:11:33.004Z"
   },
   {
    "duration": 1426,
    "start_time": "2023-08-18T15:51:44.777Z"
   },
   {
    "duration": 5,
    "start_time": "2023-08-18T15:51:46.205Z"
   },
   {
    "duration": 23,
    "start_time": "2023-08-18T15:51:46.212Z"
   },
   {
    "duration": 33,
    "start_time": "2023-08-18T15:51:46.237Z"
   },
   {
    "duration": 12,
    "start_time": "2023-08-18T15:51:46.272Z"
   },
   {
    "duration": 105,
    "start_time": "2023-08-18T15:51:46.286Z"
   },
   {
    "duration": 3,
    "start_time": "2023-08-18T15:51:46.393Z"
   },
   {
    "duration": 17,
    "start_time": "2023-08-18T15:51:46.398Z"
   },
   {
    "duration": 7,
    "start_time": "2023-08-18T15:51:46.417Z"
   },
   {
    "duration": 6,
    "start_time": "2023-08-18T15:51:46.427Z"
   },
   {
    "duration": 8,
    "start_time": "2023-08-18T15:51:46.434Z"
   },
   {
    "duration": 62,
    "start_time": "2023-08-18T15:51:46.443Z"
   },
   {
    "duration": 4,
    "start_time": "2023-08-18T15:51:46.507Z"
   },
   {
    "duration": 8,
    "start_time": "2023-08-18T15:51:46.512Z"
   },
   {
    "duration": 9,
    "start_time": "2023-08-18T15:51:46.522Z"
   },
   {
    "duration": 8,
    "start_time": "2023-08-18T15:51:46.533Z"
   },
   {
    "duration": 6,
    "start_time": "2023-08-18T15:51:46.543Z"
   },
   {
    "duration": 15,
    "start_time": "2023-08-18T15:51:46.551Z"
   },
   {
    "duration": 10,
    "start_time": "2023-08-18T15:51:46.568Z"
   },
   {
    "duration": 8,
    "start_time": "2023-08-18T15:51:46.580Z"
   },
   {
    "duration": 308,
    "start_time": "2023-08-18T15:51:46.590Z"
   },
   {
    "duration": 386,
    "start_time": "2023-08-18T15:51:46.900Z"
   },
   {
    "duration": 261,
    "start_time": "2023-08-18T15:51:47.288Z"
   },
   {
    "duration": 17,
    "start_time": "2023-08-18T15:51:47.551Z"
   },
   {
    "duration": 364,
    "start_time": "2023-08-18T15:51:47.569Z"
   },
   {
    "duration": 9,
    "start_time": "2023-08-18T15:51:47.934Z"
   },
   {
    "duration": 297,
    "start_time": "2023-08-18T15:51:47.960Z"
   },
   {
    "duration": 16,
    "start_time": "2023-08-18T15:51:48.260Z"
   },
   {
    "duration": 295,
    "start_time": "2023-08-18T15:51:48.277Z"
   },
   {
    "duration": 12,
    "start_time": "2023-08-18T15:51:48.574Z"
   },
   {
    "duration": 210,
    "start_time": "2023-08-18T15:51:48.587Z"
   },
   {
    "duration": 6,
    "start_time": "2023-08-18T15:51:48.799Z"
   },
   {
    "duration": 22,
    "start_time": "2023-08-18T15:51:48.806Z"
   },
   {
    "duration": 225,
    "start_time": "2023-08-18T15:51:48.830Z"
   },
   {
    "duration": 224,
    "start_time": "2023-08-18T15:51:49.057Z"
   },
   {
    "duration": 8,
    "start_time": "2023-08-18T15:51:49.284Z"
   },
   {
    "duration": 366,
    "start_time": "2023-08-18T15:51:49.294Z"
   },
   {
    "duration": 162,
    "start_time": "2023-08-18T15:51:49.662Z"
   },
   {
    "duration": 6,
    "start_time": "2023-08-18T15:51:49.826Z"
   },
   {
    "duration": 7,
    "start_time": "2023-08-18T15:51:49.834Z"
   },
   {
    "duration": 36,
    "start_time": "2023-08-18T15:51:49.843Z"
   },
   {
    "duration": 5,
    "start_time": "2023-08-18T15:51:49.881Z"
   },
   {
    "duration": 27,
    "start_time": "2023-08-18T15:51:49.888Z"
   },
   {
    "duration": 16,
    "start_time": "2023-08-18T15:51:49.918Z"
   },
   {
    "duration": 29,
    "start_time": "2023-08-18T15:51:49.936Z"
   },
   {
    "duration": 8,
    "start_time": "2023-08-18T15:51:49.966Z"
   },
   {
    "duration": 9,
    "start_time": "2023-08-18T15:51:49.975Z"
   },
   {
    "duration": 55,
    "start_time": "2023-08-18T15:51:49.987Z"
   },
   {
    "duration": 11,
    "start_time": "2023-08-18T15:51:50.044Z"
   },
   {
    "duration": 36,
    "start_time": "2023-08-18T15:51:50.058Z"
   },
   {
    "duration": 36,
    "start_time": "2023-08-18T15:51:50.096Z"
   },
   {
    "duration": 1273,
    "start_time": "2023-08-18T18:06:48.810Z"
   },
   {
    "duration": 4,
    "start_time": "2023-08-18T18:06:50.085Z"
   },
   {
    "duration": 17,
    "start_time": "2023-08-18T18:06:50.091Z"
   },
   {
    "duration": 18,
    "start_time": "2023-08-18T18:06:50.110Z"
   },
   {
    "duration": 12,
    "start_time": "2023-08-18T18:06:50.130Z"
   },
   {
    "duration": 93,
    "start_time": "2023-08-18T18:06:50.144Z"
   },
   {
    "duration": 3,
    "start_time": "2023-08-18T18:06:50.240Z"
   },
   {
    "duration": 36,
    "start_time": "2023-08-18T18:06:50.246Z"
   },
   {
    "duration": 14,
    "start_time": "2023-08-18T18:06:50.284Z"
   },
   {
    "duration": 8,
    "start_time": "2023-08-18T18:06:50.300Z"
   },
   {
    "duration": 7,
    "start_time": "2023-08-18T18:06:50.310Z"
   },
   {
    "duration": 66,
    "start_time": "2023-08-18T18:06:50.319Z"
   },
   {
    "duration": 5,
    "start_time": "2023-08-18T18:06:50.387Z"
   },
   {
    "duration": 6,
    "start_time": "2023-08-18T18:06:50.395Z"
   },
   {
    "duration": 25,
    "start_time": "2023-08-18T18:06:50.402Z"
   },
   {
    "duration": 22,
    "start_time": "2023-08-18T18:06:50.428Z"
   },
   {
    "duration": 28,
    "start_time": "2023-08-18T18:06:50.452Z"
   },
   {
    "duration": 22,
    "start_time": "2023-08-18T18:06:50.482Z"
   },
   {
    "duration": 40,
    "start_time": "2023-08-18T18:06:50.506Z"
   },
   {
    "duration": 12,
    "start_time": "2023-08-18T18:06:50.548Z"
   },
   {
    "duration": 309,
    "start_time": "2023-08-18T18:06:50.562Z"
   },
   {
    "duration": 342,
    "start_time": "2023-08-18T18:06:50.873Z"
   },
   {
    "duration": 239,
    "start_time": "2023-08-18T18:06:51.217Z"
   },
   {
    "duration": 12,
    "start_time": "2023-08-18T18:06:51.458Z"
   },
   {
    "duration": 373,
    "start_time": "2023-08-18T18:06:51.471Z"
   },
   {
    "duration": 12,
    "start_time": "2023-08-18T18:06:51.846Z"
   },
   {
    "duration": 295,
    "start_time": "2023-08-18T18:06:51.860Z"
   },
   {
    "duration": 15,
    "start_time": "2023-08-18T18:06:52.157Z"
   },
   {
    "duration": 313,
    "start_time": "2023-08-18T18:06:52.175Z"
   },
   {
    "duration": 13,
    "start_time": "2023-08-18T18:06:52.489Z"
   },
   {
    "duration": 170,
    "start_time": "2023-08-18T18:06:52.504Z"
   },
   {
    "duration": 5,
    "start_time": "2023-08-18T18:06:52.676Z"
   },
   {
    "duration": 12,
    "start_time": "2023-08-18T18:06:52.682Z"
   },
   {
    "duration": 199,
    "start_time": "2023-08-18T18:06:52.696Z"
   },
   {
    "duration": 195,
    "start_time": "2023-08-18T18:06:52.897Z"
   },
   {
    "duration": 5,
    "start_time": "2023-08-18T18:06:53.094Z"
   },
   {
    "duration": 322,
    "start_time": "2023-08-18T18:06:53.101Z"
   },
   {
    "duration": 159,
    "start_time": "2023-08-18T18:06:53.425Z"
   },
   {
    "duration": 5,
    "start_time": "2023-08-18T18:06:53.586Z"
   },
   {
    "duration": 11,
    "start_time": "2023-08-18T18:06:53.592Z"
   },
   {
    "duration": 32,
    "start_time": "2023-08-18T18:06:53.607Z"
   },
   {
    "duration": 15,
    "start_time": "2023-08-18T18:06:53.640Z"
   },
   {
    "duration": 18,
    "start_time": "2023-08-18T18:06:53.657Z"
   },
   {
    "duration": 9,
    "start_time": "2023-08-18T18:06:53.677Z"
   },
   {
    "duration": 18,
    "start_time": "2023-08-18T18:06:53.688Z"
   },
   {
    "duration": 8,
    "start_time": "2023-08-18T18:06:53.707Z"
   },
   {
    "duration": 9,
    "start_time": "2023-08-18T18:06:53.718Z"
   },
   {
    "duration": 60,
    "start_time": "2023-08-18T18:06:53.728Z"
   },
   {
    "duration": 7,
    "start_time": "2023-08-18T18:06:53.790Z"
   },
   {
    "duration": 20,
    "start_time": "2023-08-18T18:06:53.799Z"
   },
   {
    "duration": 11,
    "start_time": "2023-08-18T18:06:53.821Z"
   }
  ],
  "celltoolbar": "Raw Cell Format",
  "kernelspec": {
   "display_name": "Python 3 (ipykernel)",
   "language": "python",
   "name": "python3"
  },
  "language_info": {
   "codemirror_mode": {
    "name": "ipython",
    "version": 3
   },
   "file_extension": ".py",
   "mimetype": "text/x-python",
   "name": "python",
   "nbconvert_exporter": "python",
   "pygments_lexer": "ipython3",
   "version": "3.9.5"
  },
  "toc": {
   "base_numbering": 1,
   "nav_menu": {},
   "number_sections": true,
   "sideBar": true,
   "skip_h1_title": true,
   "title_cell": "Table of Contents",
   "title_sidebar": "Contents",
   "toc_cell": false,
   "toc_position": {},
   "toc_section_display": true,
   "toc_window_display": false
  }
 },
 "nbformat": 4,
 "nbformat_minor": 2
}
